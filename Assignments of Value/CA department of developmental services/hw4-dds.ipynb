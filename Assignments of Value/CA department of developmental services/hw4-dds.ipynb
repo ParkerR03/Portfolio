{
 "cells": [
  {
   "cell_type": "code",
   "execution_count": 2,
   "metadata": {
    "deletable": false,
    "editable": false
   },
   "outputs": [],
   "source": [
    "# Initialize Otter\n",
    "import otter\n",
    "grader = otter.Notebook(\"hw4-dds.ipynb\")"
   ]
  },
  {
   "cell_type": "code",
   "execution_count": 3,
   "metadata": {},
   "outputs": [
    {
     "data": {
      "text/plain": [
       "RendererRegistry.enable('mimetype')"
      ]
     },
     "execution_count": 3,
     "metadata": {},
     "output_type": "execute_result"
    }
   ],
   "source": [
    "import numpy as np\n",
    "import pandas as pd\n",
    "import altair as alt\n",
    "import statsmodels.api as sm\n",
    "# disable row limit for plotting\n",
    "alt.data_transformers.disable_max_rows()\n",
    "import warnings\n",
    "warnings.simplefilter(action='ignore', category=FutureWarning)\n",
    "# uncomment to ensure graphics display with pdf export\n",
    "alt.renderers.enable('mimetype')"
   ]
  },
  {
   "attachments": {},
   "cell_type": "markdown",
   "metadata": {},
   "source": [
    "## Background: California Department of Developmental Services\n",
    "\n",
    "From Taylor, S. A., & Mickel, A. E. (2014). Simpson's Paradox: A Data Set and Discrimination Case Study Exercise. Journal of Statistics Education, 22(1):\n",
    "\n",
    "> Most states in the USA provide services and support to individuals with developmental disabilities (e.g., intellectual disability, cerebral palsy, autism, etc.) and their families. The agency through which the State of California serves the developmentally-disabled population is the California Department of Developmental Services (DDS) ... One of the responsibilities of DDS is to allocate funds that support over 250,000 developmentally-disabled residents. A number of years ago, an allegation of discrimination was made and supported by a univariate analysis that examined average annual expenditures on consumers by ethnicity. The analysis revealed that the average annual expenditures on Hispanic consumers was approximately one-third of the average expenditures on White non-Hispanic consumers. This finding was the catalyst for further investigation; subsequently, state legislators and department managers sought consulting services from a statistician.\n",
    "\n",
    "In this assignment, you'll analyze the deidentified DDS data published with this article to answer the question: *is there evidence of ethnic or gender discrimination in allocation of DDS funds?* This will involve practicing the following:\n",
    "\n",
    "* exploratory data visualization\n",
    "* regression analysis\n",
    "* model visualization\n",
    "\n",
    "**Aside**: The JSE article focuses on what's known as [Simpson's paradox](https://en.wikipedia.org/wiki/Simpson%27s_paradox), an arithmetic phenomenon in which aggregate trends across multiple groups show the *opposite* of within-group trends. We won't emphasize this topic, though the data does provide a nice illustration."
   ]
  },
  {
   "attachments": {},
   "cell_type": "markdown",
   "metadata": {},
   "source": [
    "# DDS data\n",
    "\n",
    "The data for this assignment are already tidy, so in this section you'll just familiarize yourself with basic characteristics. The first few rows of the data are shown below:"
   ]
  },
  {
   "cell_type": "code",
   "execution_count": 4,
   "metadata": {},
   "outputs": [
    {
     "data": {
      "text/html": [
       "<div>\n",
       "<style scoped>\n",
       "    .dataframe tbody tr th:only-of-type {\n",
       "        vertical-align: middle;\n",
       "    }\n",
       "\n",
       "    .dataframe tbody tr th {\n",
       "        vertical-align: top;\n",
       "    }\n",
       "\n",
       "    .dataframe thead th {\n",
       "        text-align: right;\n",
       "    }\n",
       "</style>\n",
       "<table border=\"1\" class=\"dataframe\">\n",
       "  <thead>\n",
       "    <tr style=\"text-align: right;\">\n",
       "      <th></th>\n",
       "      <th>Id</th>\n",
       "      <th>Age Cohort</th>\n",
       "      <th>Age</th>\n",
       "      <th>Gender</th>\n",
       "      <th>Expenditures</th>\n",
       "      <th>Ethnicity</th>\n",
       "    </tr>\n",
       "  </thead>\n",
       "  <tbody>\n",
       "    <tr>\n",
       "      <th>0</th>\n",
       "      <td>10210</td>\n",
       "      <td>13 to 17</td>\n",
       "      <td>17</td>\n",
       "      <td>Female</td>\n",
       "      <td>2113</td>\n",
       "      <td>White not Hispanic</td>\n",
       "    </tr>\n",
       "    <tr>\n",
       "      <th>1</th>\n",
       "      <td>10409</td>\n",
       "      <td>22 to 50</td>\n",
       "      <td>37</td>\n",
       "      <td>Male</td>\n",
       "      <td>41924</td>\n",
       "      <td>White not Hispanic</td>\n",
       "    </tr>\n",
       "    <tr>\n",
       "      <th>2</th>\n",
       "      <td>10486</td>\n",
       "      <td>0 to 5</td>\n",
       "      <td>3</td>\n",
       "      <td>Male</td>\n",
       "      <td>1454</td>\n",
       "      <td>Hispanic</td>\n",
       "    </tr>\n",
       "    <tr>\n",
       "      <th>3</th>\n",
       "      <td>10538</td>\n",
       "      <td>18 to 21</td>\n",
       "      <td>19</td>\n",
       "      <td>Female</td>\n",
       "      <td>6400</td>\n",
       "      <td>Hispanic</td>\n",
       "    </tr>\n",
       "    <tr>\n",
       "      <th>4</th>\n",
       "      <td>10568</td>\n",
       "      <td>13 to 17</td>\n",
       "      <td>13</td>\n",
       "      <td>Male</td>\n",
       "      <td>4412</td>\n",
       "      <td>White not Hispanic</td>\n",
       "    </tr>\n",
       "  </tbody>\n",
       "</table>\n",
       "</div>"
      ],
      "text/plain": [
       "      Id Age Cohort  Age  Gender  Expenditures           Ethnicity\n",
       "0  10210   13 to 17   17  Female          2113  White not Hispanic\n",
       "1  10409   22 to 50   37    Male         41924  White not Hispanic\n",
       "2  10486     0 to 5    3    Male          1454            Hispanic\n",
       "3  10538   18 to 21   19  Female          6400            Hispanic\n",
       "4  10568   13 to 17   13    Male          4412  White not Hispanic"
      ]
     },
     "execution_count": 4,
     "metadata": {},
     "output_type": "execute_result"
    }
   ],
   "source": [
    "dds = pd.read_csv('data/california-dds.csv')\n",
    "dds.head()"
   ]
  },
  {
   "attachments": {},
   "cell_type": "markdown",
   "metadata": {},
   "source": [
    "Take a moment to open and read the data documentation (*data > california-dds-documentation.md*)."
   ]
  },
  {
   "attachments": {},
   "cell_type": "markdown",
   "metadata": {},
   "source": [
    "<!-- BEGIN QUESTION -->\n",
    "\n",
    "### Question 1: Data description\n",
    "\n",
    "Write a short paragraph answering the following questions based on the data documentation.\n",
    "\n",
    "* (i) Why were the data collected? What is the purpose of this dataset?\n",
    "* (ii) What are the observational units?\n",
    "* (iii) What is the population of interest?\n",
    "* (iv) How was the sample obtained (*e.g.* random sampling, adminsitrative data, convenience sampling, etc.)?\n",
    "* (v) Can inferences about the population be drawn from the sample?\n",
    "\n",
    "In addition, make a table summarizing the variables measured. Use the format below.\n",
    "\n",
    "Name | Variable description | Type | Units of measurement\n",
    "---|---|---|---\n",
    "ID | Unique consumer identifier | Numeric | None "
   ]
  },
  {
   "cell_type": "markdown",
   "metadata": {},
   "source": [
    "This data was collected in order to analyze whether or not discrimination based on Race was apparent in the allocation of funds to support individuals with developmental disorders. The observational units were the individuals who recieved funds from the California Department of Developmental Services. The population of interest is all individuals in California with a developmental disorder who recieves funds from this service (more than 250,000 'consumers'). The data documentation does not say specifically what type of sampling was done to get the data other than that it is a sample of the 250,000 data points they have. I think that inferences can be drawn about the population from the sample because it is large enough to understand or get a general grasp of the population as long as it is a random sample.\n"
   ]
  },
  {
   "cell_type": "code",
   "execution_count": 5,
   "metadata": {},
   "outputs": [
    {
     "data": {
      "text/html": [
       "<div>\n",
       "<style scoped>\n",
       "    .dataframe tbody tr th:only-of-type {\n",
       "        vertical-align: middle;\n",
       "    }\n",
       "\n",
       "    .dataframe tbody tr th {\n",
       "        vertical-align: top;\n",
       "    }\n",
       "\n",
       "    .dataframe thead th {\n",
       "        text-align: right;\n",
       "    }\n",
       "</style>\n",
       "<table border=\"1\" class=\"dataframe\">\n",
       "  <thead>\n",
       "    <tr style=\"text-align: right;\">\n",
       "      <th></th>\n",
       "      <th>Name</th>\n",
       "      <th>Variable Description</th>\n",
       "      <th>Type</th>\n",
       "      <th>Units of Measurement</th>\n",
       "    </tr>\n",
       "  </thead>\n",
       "  <tbody>\n",
       "    <tr>\n",
       "      <th>0</th>\n",
       "      <td>ID</td>\n",
       "      <td>Unique Consumer Identification</td>\n",
       "      <td>Numeric</td>\n",
       "      <td>None</td>\n",
       "    </tr>\n",
       "    <tr>\n",
       "      <th>1</th>\n",
       "      <td>Age Cohort</td>\n",
       "      <td>Binned Age</td>\n",
       "      <td>Character</td>\n",
       "      <td>Years</td>\n",
       "    </tr>\n",
       "    <tr>\n",
       "      <th>2</th>\n",
       "      <td>Age</td>\n",
       "      <td>Unbinned Age</td>\n",
       "      <td>Numeric</td>\n",
       "      <td>Years</td>\n",
       "    </tr>\n",
       "    <tr>\n",
       "      <th>3</th>\n",
       "      <td>Gender</td>\n",
       "      <td>Male or Female</td>\n",
       "      <td>Character</td>\n",
       "      <td>None</td>\n",
       "    </tr>\n",
       "    <tr>\n",
       "      <th>4</th>\n",
       "      <td>Expenditures</td>\n",
       "      <td>Annual Expenditures spent on Consumer</td>\n",
       "      <td>Numeric</td>\n",
       "      <td>Dollar Amount</td>\n",
       "    </tr>\n",
       "    <tr>\n",
       "      <th>5</th>\n",
       "      <td>Ethnicity</td>\n",
       "      <td>One of Eight Ethnic group</td>\n",
       "      <td>Character</td>\n",
       "      <td>None</td>\n",
       "    </tr>\n",
       "  </tbody>\n",
       "</table>\n",
       "</div>"
      ],
      "text/plain": [
       "           Name                   Variable Description       Type  \\\n",
       "0            ID         Unique Consumer Identification    Numeric   \n",
       "1    Age Cohort                             Binned Age  Character   \n",
       "2           Age                           Unbinned Age    Numeric   \n",
       "3        Gender                         Male or Female  Character   \n",
       "4  Expenditures  Annual Expenditures spent on Consumer    Numeric   \n",
       "5     Ethnicity              One of Eight Ethnic group  Character   \n",
       "\n",
       "  Units of Measurement  \n",
       "0                 None  \n",
       "1                Years  \n",
       "2                Years  \n",
       "3                 None  \n",
       "4        Dollar Amount  \n",
       "5                 None  "
      ]
     },
     "execution_count": 5,
     "metadata": {},
     "output_type": "execute_result"
    }
   ],
   "source": [
    "table = pd.DataFrame(columns=['Name','Variable Description','Type','Units of Measurement'])\n",
    "Names = ['ID','Age Cohort','Age','Gender','Expenditures','Ethnicity']\n",
    "Variables = ['Unique Consumer Identification', 'Binned Age','Unbinned Age','Male or Female','Annual Expenditures spent on Consumer','One of Eight Ethnic group']\n",
    "Type = ['Numeric','Character','Numeric','Character','Numeric','Character']\n",
    "Units = ['None','Years','Years','None','Dollar Amount','None']\n",
    "\n",
    "table['Name'] = Names\n",
    "table['Variable Description'] = Variables\n",
    "table['Type'] = Type\n",
    "table['Units of Measurement'] = Units\n",
    "\n",
    "table"
   ]
  },
  {
   "attachments": {},
   "cell_type": "markdown",
   "metadata": {},
   "source": [
    "<!-- END QUESTION -->\n",
    "\n",
    "# Exploratory analysis\n",
    "\n",
    "Here you'll use graphical and descriptive techniques to explore the allegation of discriminatory allocation of benefits."
   ]
  },
  {
   "attachments": {},
   "cell_type": "markdown",
   "metadata": {},
   "source": [
    "### Question 2: Alleged discrimination\n",
    "\n",
    "Construct a table of median expenditures by ethnicity that also shows the sample size for each ethnic group in the data.\n",
    "\n",
    "1. Slice the ethnicity and expenditure variables from `dds`, group by ethnicity, and calculate the median expenditure. Store the resulting dataframe as `median_expend_by_eth`.\n",
    "2. Compute the sample sizes for each ethnicity using `.value_counts()`: obtain a pandas series indexed by ethnicity with a single column named `n`. You'll need to use `.rename(...)` to avoid having the column named `Ethnicity`. Store this pandas series as `ethnicity_n`.\n",
    "3. Use `pd.concat(...)` to append the sample sizes in `ethnicity_n` to the median expenditures in `median_expend_by_eth`. Store the result as `tbl_1`.\n",
    "\n",
    "Print `tbl_1`. Does expenditure seem to differ by ethnicity? Does sample size?"
   ]
  },
  {
   "cell_type": "markdown",
   "metadata": {},
   "source": [
    "The median expenditure does seem to differ by ethnicity and by quite a lot. The sample size also varies greatly between ethnicities."
   ]
  },
  {
   "cell_type": "code",
   "execution_count": 6,
   "metadata": {
    "tags": []
   },
   "outputs": [
    {
     "data": {
      "text/html": [
       "<div>\n",
       "<style scoped>\n",
       "    .dataframe tbody tr th:only-of-type {\n",
       "        vertical-align: middle;\n",
       "    }\n",
       "\n",
       "    .dataframe tbody tr th {\n",
       "        vertical-align: top;\n",
       "    }\n",
       "\n",
       "    .dataframe thead th {\n",
       "        text-align: right;\n",
       "    }\n",
       "</style>\n",
       "<table border=\"1\" class=\"dataframe\">\n",
       "  <thead>\n",
       "    <tr style=\"text-align: right;\">\n",
       "      <th></th>\n",
       "      <th>Expenditures</th>\n",
       "      <th>n</th>\n",
       "    </tr>\n",
       "    <tr>\n",
       "      <th>Ethnicity</th>\n",
       "      <th></th>\n",
       "      <th></th>\n",
       "    </tr>\n",
       "  </thead>\n",
       "  <tbody>\n",
       "    <tr>\n",
       "      <th>American Indian</th>\n",
       "      <td>41817.5</td>\n",
       "      <td>4</td>\n",
       "    </tr>\n",
       "    <tr>\n",
       "      <th>Asian</th>\n",
       "      <td>9369.0</td>\n",
       "      <td>129</td>\n",
       "    </tr>\n",
       "    <tr>\n",
       "      <th>Black</th>\n",
       "      <td>8687.0</td>\n",
       "      <td>59</td>\n",
       "    </tr>\n",
       "    <tr>\n",
       "      <th>Hispanic</th>\n",
       "      <td>3952.0</td>\n",
       "      <td>376</td>\n",
       "    </tr>\n",
       "    <tr>\n",
       "      <th>Multi Race</th>\n",
       "      <td>2622.0</td>\n",
       "      <td>26</td>\n",
       "    </tr>\n",
       "    <tr>\n",
       "      <th>Native Hawaiian</th>\n",
       "      <td>40727.0</td>\n",
       "      <td>3</td>\n",
       "    </tr>\n",
       "    <tr>\n",
       "      <th>Other</th>\n",
       "      <td>3316.5</td>\n",
       "      <td>2</td>\n",
       "    </tr>\n",
       "    <tr>\n",
       "      <th>White not Hispanic</th>\n",
       "      <td>15718.0</td>\n",
       "      <td>401</td>\n",
       "    </tr>\n",
       "  </tbody>\n",
       "</table>\n",
       "</div>"
      ],
      "text/plain": [
       "                    Expenditures    n\n",
       "Ethnicity                            \n",
       "American Indian          41817.5    4\n",
       "Asian                     9369.0  129\n",
       "Black                     8687.0   59\n",
       "Hispanic                  3952.0  376\n",
       "Multi Race                2622.0   26\n",
       "Native Hawaiian          40727.0    3\n",
       "Other                     3316.5    2\n",
       "White not Hispanic       15718.0  401"
      ]
     },
     "execution_count": 6,
     "metadata": {},
     "output_type": "execute_result"
    }
   ],
   "source": [
    "# compute median expenditures\n",
    "median_expend_by_eth = dds.loc[:, ['Ethnicity', 'Expenditures']].groupby('Ethnicity').median()\n",
    "\n",
    "# compute sample sizes\n",
    "ethnicity_n = dds['Ethnicity'].value_counts().rename('n')\n",
    "\n",
    "# concatenate\n",
    "tbl_1 = pd.concat([median_expend_by_eth, ethnicity_n], axis=1)\n",
    "\n",
    "# print\n",
    "tbl_1"
   ]
  },
  {
   "cell_type": "code",
   "execution_count": 7,
   "metadata": {
    "deletable": false,
    "editable": false
   },
   "outputs": [
    {
     "data": {
      "text/html": [
       "<p><strong><pre style='display: inline;'>q2</pre></strong> passed! ✨</p>"
      ],
      "text/plain": [
       "q2 results: All test cases passed!"
      ]
     },
     "execution_count": 7,
     "metadata": {},
     "output_type": "execute_result"
    }
   ],
   "source": [
    "grader.check(\"q2\")"
   ]
  },
  {
   "attachments": {},
   "cell_type": "markdown",
   "metadata": {},
   "source": [
    "<!-- BEGIN QUESTION -->\n",
    "\n",
    "### Question 3: Plot median expenditures\n",
    "\n",
    "Construct a point-and-line plot of median expenditure (y) against ethnicity (x), with:\n",
    "* ethnicities sorted by descending median expenditure;\n",
    "* the median expenditure axis shown on the log scale;\n",
    "* the y-axis labeled 'Median expenditure'; and \n",
    "* no x-axis label (since the ethnicity group names are used to label the axis ticks, the label 'Ethnicity' is redundant). \n",
    "\n",
    "Store the result as `fig_1` and display the plot.\n",
    "\n",
    "*Hints*:\n",
    "* you'll need to use `tbl_1.reset_index()` to obtain the ethnicity group as a variable;\n",
    "* recall that `.mark_line(point = True)` will add points to a line plot;\n",
    "* sorting can be done using `alt.X(..., sort = alt.EncodingSortField(field = ..., order = ...))`"
   ]
  },
  {
   "cell_type": "code",
   "execution_count": 8,
   "metadata": {
    "tags": []
   },
   "outputs": [
    {
     "data": {
      "application/vnd.vegalite.v5+json": {
       "$schema": "https://vega.github.io/schema/vega-lite/v5.14.1.json",
       "config": {
        "view": {
         "continuousHeight": 300,
         "continuousWidth": 300
        }
       },
       "data": {
        "name": "data-1dabb7761e1be0dc3b26e75470630147"
       },
       "datasets": {
        "data-1dabb7761e1be0dc3b26e75470630147": [
         {
          "Ethnicity": "American Indian",
          "Expenditures": 41817.5,
          "n": 4
         },
         {
          "Ethnicity": "Asian",
          "Expenditures": 9369,
          "n": 129
         },
         {
          "Ethnicity": "Black",
          "Expenditures": 8687,
          "n": 59
         },
         {
          "Ethnicity": "Hispanic",
          "Expenditures": 3952,
          "n": 376
         },
         {
          "Ethnicity": "Multi Race",
          "Expenditures": 2622,
          "n": 26
         },
         {
          "Ethnicity": "Native Hawaiian",
          "Expenditures": 40727,
          "n": 3
         },
         {
          "Ethnicity": "Other",
          "Expenditures": 3316.5,
          "n": 2
         },
         {
          "Ethnicity": "White not Hispanic",
          "Expenditures": 15718,
          "n": 401
         }
        ]
       },
       "encoding": {
        "x": {
         "field": "Ethnicity",
         "sort": {
          "field": "Expenditures",
          "order": "descending"
         },
         "type": "nominal"
        },
        "y": {
         "axis": {
          "title": "Median Expenditure"
         },
         "field": "Expenditures",
         "scale": {
          "type": "log"
         },
         "type": "quantitative"
        }
       },
       "mark": {
        "point": true,
        "type": "line"
       }
      },
      "image/png": "[encoded data removed]",
      "text/plain": [
       "<VegaLite 5 object>\n",
       "\n",
       "If you see this message, it means the renderer has not been properly enabled\n",
       "for the frontend that you are using. For more information, see\n",
       "https://altair-viz.github.io/user_guide/display_frontends.html#troubleshooting\n"
      ]
     },
     "execution_count": 8,
     "metadata": {},
     "output_type": "execute_result"
    }
   ],
   "source": [
    "fig_1 = alt.Chart(tbl_1.reset_index()).mark_line(point=True).encode(\n",
    "    x = alt.X('Ethnicity:N', sort = alt.EncodingSortField(field = 'Expenditures', order = 'descending')),\n",
    "    y = alt.Y('Expenditures:Q', scale=alt.Scale(type='log'), axis=alt.Axis(title='Median Expenditure'))\n",
    ")\n",
    "\n",
    "fig_1"
   ]
  },
  {
   "attachments": {},
   "cell_type": "markdown",
   "metadata": {},
   "source": [
    "<!-- END QUESTION -->\n",
    "\n",
    "<!-- BEGIN QUESTION -->\n",
    "\n",
    "### Question 4: Age and expenditure\n",
    "\n",
    "How does expenditure differ by age? Construct a scatterplot of expenditure against age. Store the plot as `fig_2`. In one or two sentences, comment on the plot -- what is the main pattern it reveals?"
   ]
  },
  {
   "cell_type": "markdown",
   "metadata": {},
   "source": [
    "The main pattern that this plot reveals is that the older the person is, the more the expenditures on that person is on average. We can see that the expenditures drastically increase from people under 20 to people over 20."
   ]
  },
  {
   "cell_type": "code",
   "execution_count": 9,
   "metadata": {
    "tags": []
   },
   "outputs": [
    {
     "data": {
      "application/vnd.vegalite.v5+json": {
       "$schema": "https://vega.github.io/schema/vega-lite/v5.14.1.json",
       "config": {
        "view": {
         "continuousHeight": 300,
         "continuousWidth": 300
        }
       },
       "data": {
        "name": "data-8c6c61eb9cd91c6013030cd10b8e93ea"
       },
       "datasets": {
        "data-8c6c61eb9cd91c6013030cd10b8e93ea": [
         {
          "Age": 17,
          "Age Cohort": "13 to 17",
          "Ethnicity": "White not Hispanic",
          "Expenditures": 2113,
          "Gender": "Female",
          "Id": 10210
         },
         {
          "Age": 37,
          "Age Cohort": "22 to 50",
          "Ethnicity": "White not Hispanic",
          "Expenditures": 41924,
          "Gender": "Male",
          "Id": 10409
         },
         {
          "Age": 3,
          "Age Cohort": "0 to 5",
          "Ethnicity": "Hispanic",
          "Expenditures": 1454,
          "Gender": "Male",
          "Id": 10486
         },
         {
          "Age": 19,
          "Age Cohort": "18 to 21",
          "Ethnicity": "Hispanic",
          "Expenditures": 6400,
          "Gender": "Female",
          "Id": 10538
         },
         {
          "Age": 13,
          "Age Cohort": "13 to 17",
          "Ethnicity": "White not Hispanic",
          "Expenditures": 4412,
          "Gender": "Male",
          "Id": 10568
         },
         {
          "Age": 15,
          "Age Cohort": "13 to 17",
          "Ethnicity": "Hispanic",
          "Expenditures": 4566,
          "Gender": "Female",
          "Id": 10690
         },
         {
          "Age": 13,
          "Age Cohort": "13 to 17",
          "Ethnicity": "White not Hispanic",
          "Expenditures": 3915,
          "Gender": "Female",
          "Id": 10711
         },
         {
          "Age": 17,
          "Age Cohort": "13 to 17",
          "Ethnicity": "Black",
          "Expenditures": 3873,
          "Gender": "Male",
          "Id": 10778
         },
         {
          "Age": 14,
          "Age Cohort": "13 to 17",
          "Ethnicity": "White not Hispanic",
          "Expenditures": 5021,
          "Gender": "Female",
          "Id": 10820
         },
         {
          "Age": 13,
          "Age Cohort": "13 to 17",
          "Ethnicity": "Hispanic",
          "Expenditures": 2887,
          "Gender": "Male",
          "Id": 10823
         },
         {
          "Age": 13,
          "Age Cohort": "13 to 17",
          "Ethnicity": "White not Hispanic",
          "Expenditures": 4154,
          "Gender": "Female",
          "Id": 11000
         },
         {
          "Age": 14,
          "Age Cohort": "13 to 17",
          "Ethnicity": "Hispanic",
          "Expenditures": 3048,
          "Gender": "Male",
          "Id": 11024
         },
         {
          "Age": 15,
          "Age Cohort": "13 to 17",
          "Ethnicity": "White not Hispanic",
          "Expenditures": 2757,
          "Gender": "Female",
          "Id": 11115
         },
         {
          "Age": 17,
          "Age Cohort": "13 to 17",
          "Ethnicity": "Multi Race",
          "Expenditures": 5340,
          "Gender": "Male",
          "Id": 11189
         },
         {
          "Age": 20,
          "Age Cohort": "18 to 21",
          "Ethnicity": "Hispanic",
          "Expenditures": 10047,
          "Gender": "Male",
          "Id": 11201
         },
         {
          "Age": 25,
          "Age Cohort": "22 to 50",
          "Ethnicity": "Black",
          "Expenditures": 34795,
          "Gender": "Female",
          "Id": 11210
         },
         {
          "Age": 23,
          "Age Cohort": "22 to 50",
          "Ethnicity": "White not Hispanic",
          "Expenditures": 43025,
          "Gender": "Female",
          "Id": 11379
         },
         {
          "Age": 41,
          "Age Cohort": "22 to 50",
          "Ethnicity": "Asian",
          "Expenditures": 54115,
          "Gender": "Male",
          "Id": 11380
         },
         {
          "Age": 5,
          "Age Cohort": "0 to 5",
          "Ethnicity": "Hispanic",
          "Expenditures": 1748,
          "Gender": "Female",
          "Id": 11441
         },
         {
          "Age": 15,
          "Age Cohort": "13 to 17",
          "Ethnicity": "Hispanic",
          "Expenditures": 4515,
          "Gender": "Female",
          "Id": 11466
         },
         {
          "Age": 5,
          "Age Cohort": "0 to 5",
          "Ethnicity": "Hispanic",
          "Expenditures": 1861,
          "Gender": "Male",
          "Id": 11812
         },
         {
          "Age": 5,
          "Age Cohort": "0 to 5",
          "Ethnicity": "Hispanic",
          "Expenditures": 1598,
          "Gender": "Male",
          "Id": 11842
         },
         {
          "Age": 22,
          "Age Cohort": "22 to 50",
          "Ethnicity": "Hispanic",
          "Expenditures": 46571,
          "Gender": "Female",
          "Id": 11922
         },
         {
          "Age": 3,
          "Age Cohort": "0 to 5",
          "Ethnicity": "Hispanic",
          "Expenditures": 1066,
          "Gender": "Male",
          "Id": 11935
         },
         {
          "Age": 16,
          "Age Cohort": "13 to 17",
          "Ethnicity": "Black",
          "Expenditures": 3867,
          "Gender": "Female",
          "Id": 12127
         },
         {
          "Age": 71,
          "Age Cohort": "51+",
          "Ethnicity": "White not Hispanic",
          "Expenditures": 57928,
          "Gender": "Female",
          "Id": 12137
         },
         {
          "Age": 13,
          "Age Cohort": "13 to 17",
          "Ethnicity": "White not Hispanic",
          "Expenditures": 4002,
          "Gender": "Female",
          "Id": 12207
         },
         {
          "Age": 18,
          "Age Cohort": "18 to 21",
          "Ethnicity": "Asian",
          "Expenditures": 10434,
          "Gender": "Female",
          "Id": 12530
         },
         {
          "Age": 63,
          "Age Cohort": "51+",
          "Ethnicity": "White not Hispanic",
          "Expenditures": 56134,
          "Gender": "Female",
          "Id": 12589
         },
         {
          "Age": 1,
          "Age Cohort": "0 to 5",
          "Ethnicity": "White not Hispanic",
          "Expenditures": 1070,
          "Gender": "Male",
          "Id": 12834
         },
         {
          "Age": 13,
          "Age Cohort": "13 to 17",
          "Ethnicity": "Multi Race",
          "Expenditures": 3775,
          "Gender": "Male",
          "Id": 12850
         },
         {
          "Age": 27,
          "Age Cohort": "22 to 50",
          "Ethnicity": "White not Hispanic",
          "Expenditures": 35284,
          "Gender": "Female",
          "Id": 12990
         },
         {
          "Age": 21,
          "Age Cohort": "18 to 21",
          "Ethnicity": "White not Hispanic",
          "Expenditures": 7219,
          "Gender": "Male",
          "Id": 13119
         },
         {
          "Age": 14,
          "Age Cohort": "13 to 17",
          "Ethnicity": "White not Hispanic",
          "Expenditures": 4681,
          "Gender": "Male",
          "Id": 13120
         },
         {
          "Age": 15,
          "Age Cohort": "13 to 17",
          "Ethnicity": "Asian",
          "Expenditures": 4629,
          "Gender": "Female",
          "Id": 13195
         },
         {
          "Age": 3,
          "Age Cohort": "0 to 5",
          "Ethnicity": "White not Hispanic",
          "Expenditures": 2750,
          "Gender": "Female",
          "Id": 13621
         },
         {
          "Age": 15,
          "Age Cohort": "13 to 17",
          "Ethnicity": "Asian",
          "Expenditures": 3392,
          "Gender": "Female",
          "Id": 13692
         },
         {
          "Age": 14,
          "Age Cohort": "13 to 17",
          "Ethnicity": "Black",
          "Expenditures": 5696,
          "Gender": "Male",
          "Id": 13722
         },
         {
          "Age": 30,
          "Age Cohort": "22 to 50",
          "Ethnicity": "White not Hispanic",
          "Expenditures": 46660,
          "Gender": "Female",
          "Id": 13826
         },
         {
          "Age": 6,
          "Age Cohort": "6 to 12",
          "Ethnicity": "Hispanic",
          "Expenditures": 2354,
          "Gender": "Female",
          "Id": 14233
         },
         {
          "Age": 33,
          "Age Cohort": "22 to 50",
          "Ethnicity": "White not Hispanic",
          "Expenditures": 40781,
          "Gender": "Male",
          "Id": 14367
         },
         {
          "Age": 10,
          "Age Cohort": "6 to 12",
          "Ethnicity": "Black",
          "Expenditures": 2559,
          "Gender": "Female",
          "Id": 14427
         },
         {
          "Age": 25,
          "Age Cohort": "22 to 50",
          "Ethnicity": "White not Hispanic",
          "Expenditures": 36428,
          "Gender": "Female",
          "Id": 14520
         },
         {
          "Age": 3,
          "Age Cohort": "0 to 5",
          "Ethnicity": "Hispanic",
          "Expenditures": 674,
          "Gender": "Male",
          "Id": 14523
         },
         {
          "Age": 26,
          "Age Cohort": "22 to 50",
          "Ethnicity": "Asian",
          "Expenditures": 39844,
          "Gender": "Male",
          "Id": 14648
         },
         {
          "Age": 17,
          "Age Cohort": "13 to 17",
          "Ethnicity": "White not Hispanic",
          "Expenditures": 4046,
          "Gender": "Male",
          "Id": 14653
         },
         {
          "Age": 33,
          "Age Cohort": "22 to 50",
          "Ethnicity": "White not Hispanic",
          "Expenditures": 36184,
          "Gender": "Male",
          "Id": 14665
         },
         {
          "Age": 16,
          "Age Cohort": "13 to 17",
          "Ethnicity": "Hispanic",
          "Expenditures": 4968,
          "Gender": "Male",
          "Id": 14845
         },
         {
          "Age": 24,
          "Age Cohort": "22 to 50",
          "Ethnicity": "White not Hispanic",
          "Expenditures": 36901,
          "Gender": "Male",
          "Id": 15034
         },
         {
          "Age": 63,
          "Age Cohort": "51+",
          "Ethnicity": "White not Hispanic",
          "Expenditures": 50419,
          "Gender": "Female",
          "Id": 15060
         },
         {
          "Age": 1,
          "Age Cohort": "0 to 5",
          "Ethnicity": "White not Hispanic",
          "Expenditures": 340,
          "Gender": "Female",
          "Id": 15111
         },
         {
          "Age": 24,
          "Age Cohort": "22 to 50",
          "Ethnicity": "Black",
          "Expenditures": 42192,
          "Gender": "Female",
          "Id": 15205
         },
         {
          "Age": 75,
          "Age Cohort": "51+",
          "Ethnicity": "White not Hispanic",
          "Expenditures": 49239,
          "Gender": "Female",
          "Id": 15366
         },
         {
          "Age": 27,
          "Age Cohort": "22 to 50",
          "Ethnicity": "White not Hispanic",
          "Expenditures": 36057,
          "Gender": "Male",
          "Id": 15422
         },
         {
          "Age": 8,
          "Age Cohort": "6 to 12",
          "Ethnicity": "Hispanic",
          "Expenditures": 2895,
          "Gender": "Female",
          "Id": 15448
         },
         {
          "Age": 24,
          "Age Cohort": "22 to 50",
          "Ethnicity": "White not Hispanic",
          "Expenditures": 31512,
          "Gender": "Male",
          "Id": 15487
         },
         {
          "Age": 10,
          "Age Cohort": "6 to 12",
          "Ethnicity": "Hispanic",
          "Expenditures": 1915,
          "Gender": "Female",
          "Id": 15778
         },
         {
          "Age": 16,
          "Age Cohort": "13 to 17",
          "Ethnicity": "Hispanic",
          "Expenditures": 4091,
          "Gender": "Male",
          "Id": 15801
         },
         {
          "Age": 13,
          "Age Cohort": "13 to 17",
          "Ethnicity": "Hispanic",
          "Expenditures": 4798,
          "Gender": "Male",
          "Id": 15888
         },
         {
          "Age": 51,
          "Age Cohort": "51+",
          "Ethnicity": "White not Hispanic",
          "Expenditures": 54267,
          "Gender": "Female",
          "Id": 15970
         },
         {
          "Age": 6,
          "Age Cohort": "6 to 12",
          "Ethnicity": "Asian",
          "Expenditures": 1783,
          "Gender": "Female",
          "Id": 16048
         },
         {
          "Age": 16,
          "Age Cohort": "13 to 17",
          "Ethnicity": "Hispanic",
          "Expenditures": 3212,
          "Gender": "Female",
          "Id": 16052
         },
         {
          "Age": 15,
          "Age Cohort": "13 to 17",
          "Ethnicity": "White not Hispanic",
          "Expenditures": 2029,
          "Gender": "Female",
          "Id": 16306
         },
         {
          "Age": 22,
          "Age Cohort": "22 to 50",
          "Ethnicity": "White not Hispanic",
          "Expenditures": 37727,
          "Gender": "Male",
          "Id": 16440
         },
         {
          "Age": 20,
          "Age Cohort": "18 to 21",
          "Ethnicity": "Hispanic",
          "Expenditures": 11998,
          "Gender": "Male",
          "Id": 16515
         },
         {
          "Age": 45,
          "Age Cohort": "22 to 50",
          "Ethnicity": "Hispanic",
          "Expenditures": 50304,
          "Gender": "Male",
          "Id": 16525
         },
         {
          "Age": 5,
          "Age Cohort": "0 to 5",
          "Ethnicity": "Hispanic",
          "Expenditures": 1130,
          "Gender": "Female",
          "Id": 16981
         },
         {
          "Age": 24,
          "Age Cohort": "22 to 50",
          "Ethnicity": "White not Hispanic",
          "Expenditures": 45412,
          "Gender": "Female",
          "Id": 17191
         },
         {
          "Age": 32,
          "Age Cohort": "22 to 50",
          "Ethnicity": "Hispanic",
          "Expenditures": 38310,
          "Gender": "Male",
          "Id": 17276
         },
         {
          "Age": 13,
          "Age Cohort": "13 to 17",
          "Ethnicity": "Hispanic",
          "Expenditures": 3638,
          "Gender": "Female",
          "Id": 17354
         },
         {
          "Age": 74,
          "Age Cohort": "51+",
          "Ethnicity": "Asian",
          "Expenditures": 54616,
          "Gender": "Female",
          "Id": 17361
         },
         {
          "Age": 26,
          "Age Cohort": "22 to 50",
          "Ethnicity": "Asian",
          "Expenditures": 30504,
          "Gender": "Female",
          "Id": 17456
         },
         {
          "Age": 19,
          "Age Cohort": "18 to 21",
          "Ethnicity": "Hispanic",
          "Expenditures": 7621,
          "Gender": "Male",
          "Id": 17604
         },
         {
          "Age": 18,
          "Age Cohort": "18 to 21",
          "Ethnicity": "White not Hispanic",
          "Expenditures": 13677,
          "Gender": "Male",
          "Id": 17605
         },
         {
          "Age": 6,
          "Age Cohort": "6 to 12",
          "Ethnicity": "Hispanic",
          "Expenditures": 1423,
          "Gender": "Female",
          "Id": 17744
         },
         {
          "Age": 17,
          "Age Cohort": "13 to 17",
          "Ethnicity": "Hispanic",
          "Expenditures": 4395,
          "Gender": "Female",
          "Id": 17799
         },
         {
          "Age": 29,
          "Age Cohort": "22 to 50",
          "Ethnicity": "White not Hispanic",
          "Expenditures": 38236,
          "Gender": "Male",
          "Id": 18015
         },
         {
          "Age": 17,
          "Age Cohort": "13 to 17",
          "Ethnicity": "White not Hispanic",
          "Expenditures": 6798,
          "Gender": "Male",
          "Id": 18057
         },
         {
          "Age": 13,
          "Age Cohort": "13 to 17",
          "Ethnicity": "White not Hispanic",
          "Expenditures": 4052,
          "Gender": "Female",
          "Id": 18080
         },
         {
          "Age": 48,
          "Age Cohort": "22 to 50",
          "Ethnicity": "White not Hispanic",
          "Expenditures": 49424,
          "Gender": "Female",
          "Id": 18095
         },
         {
          "Age": 34,
          "Age Cohort": "22 to 50",
          "Ethnicity": "Hispanic",
          "Expenditures": 39521,
          "Gender": "Female",
          "Id": 18127
         },
         {
          "Age": 9,
          "Age Cohort": "6 to 12",
          "Ethnicity": "Asian",
          "Expenditures": 2471,
          "Gender": "Female",
          "Id": 18223
         },
         {
          "Age": 18,
          "Age Cohort": "18 to 21",
          "Ethnicity": "Hispanic",
          "Expenditures": 15018,
          "Gender": "Male",
          "Id": 18262
         },
         {
          "Age": 16,
          "Age Cohort": "13 to 17",
          "Ethnicity": "White not Hispanic",
          "Expenditures": 2924,
          "Gender": "Male",
          "Id": 18313
         },
         {
          "Age": 0,
          "Age Cohort": "0 to 5",
          "Ethnicity": "Multi Race",
          "Expenditures": 1149,
          "Gender": "Male",
          "Id": 18383
         },
         {
          "Age": 15,
          "Age Cohort": "13 to 17",
          "Ethnicity": "Hispanic",
          "Expenditures": 4525,
          "Gender": "Female",
          "Id": 18421
         },
         {
          "Age": 16,
          "Age Cohort": "13 to 17",
          "Ethnicity": "Hispanic",
          "Expenditures": 3796,
          "Gender": "Male",
          "Id": 18482
         },
         {
          "Age": 18,
          "Age Cohort": "18 to 21",
          "Ethnicity": "Black",
          "Expenditures": 8730,
          "Gender": "Female",
          "Id": 18492
         },
         {
          "Age": 28,
          "Age Cohort": "22 to 50",
          "Ethnicity": "Black",
          "Expenditures": 37247,
          "Gender": "Male",
          "Id": 18655
         },
         {
          "Age": 28,
          "Age Cohort": "22 to 50",
          "Ethnicity": "White not Hispanic",
          "Expenditures": 31027,
          "Gender": "Female",
          "Id": 18656
         },
         {
          "Age": 22,
          "Age Cohort": "22 to 50",
          "Ethnicity": "White not Hispanic",
          "Expenditures": 27364,
          "Gender": "Male",
          "Id": 18671
         },
         {
          "Age": 27,
          "Age Cohort": "22 to 50",
          "Ethnicity": "White not Hispanic",
          "Expenditures": 30998,
          "Gender": "Female",
          "Id": 18749
         },
         {
          "Age": 66,
          "Age Cohort": "51+",
          "Ethnicity": "Asian",
          "Expenditures": 49851,
          "Gender": "Female",
          "Id": 18867
         },
         {
          "Age": 3,
          "Age Cohort": "0 to 5",
          "Ethnicity": "White not Hispanic",
          "Expenditures": 1057,
          "Gender": "Male",
          "Id": 18894
         },
         {
          "Age": 22,
          "Age Cohort": "22 to 50",
          "Ethnicity": "White not Hispanic",
          "Expenditures": 42623,
          "Gender": "Male",
          "Id": 19107
         },
         {
          "Age": 1,
          "Age Cohort": "0 to 5",
          "Ethnicity": "Hispanic",
          "Expenditures": 1363,
          "Gender": "Male",
          "Id": 19147
         },
         {
          "Age": 13,
          "Age Cohort": "13 to 17",
          "Ethnicity": "Black",
          "Expenditures": 5324,
          "Gender": "Female",
          "Id": 19148
         },
         {
          "Age": 22,
          "Age Cohort": "22 to 50",
          "Ethnicity": "Black",
          "Expenditures": 46513,
          "Gender": "Male",
          "Id": 19228
         },
         {
          "Age": 15,
          "Age Cohort": "13 to 17",
          "Ethnicity": "White not Hispanic",
          "Expenditures": 2521,
          "Gender": "Female",
          "Id": 19247
         },
         {
          "Age": 94,
          "Age Cohort": "51+",
          "Ethnicity": "Hispanic",
          "Expenditures": 60871,
          "Gender": "Female",
          "Id": 19250
         },
         {
          "Age": 41,
          "Age Cohort": "22 to 50",
          "Ethnicity": "White not Hispanic",
          "Expenditures": 42139,
          "Gender": "Female",
          "Id": 19251
         },
         {
          "Age": 5,
          "Age Cohort": "0 to 5",
          "Ethnicity": "Hispanic",
          "Expenditures": 1713,
          "Gender": "Male",
          "Id": 19290
         },
         {
          "Age": 6,
          "Age Cohort": "6 to 12",
          "Ethnicity": "Asian",
          "Expenditures": 1814,
          "Gender": "Female",
          "Id": 19373
         },
         {
          "Age": 60,
          "Age Cohort": "51+",
          "Ethnicity": "White not Hispanic",
          "Expenditures": 57702,
          "Gender": "Female",
          "Id": 19412
         },
         {
          "Age": 23,
          "Age Cohort": "22 to 50",
          "Ethnicity": "White not Hispanic",
          "Expenditures": 36607,
          "Gender": "Female",
          "Id": 19510
         },
         {
          "Age": 36,
          "Age Cohort": "22 to 50",
          "Ethnicity": "White not Hispanic",
          "Expenditures": 29144,
          "Gender": "Male",
          "Id": 19517
         },
         {
          "Age": 21,
          "Age Cohort": "18 to 21",
          "Ethnicity": "White not Hispanic",
          "Expenditures": 7193,
          "Gender": "Female",
          "Id": 19571
         },
         {
          "Age": 23,
          "Age Cohort": "22 to 50",
          "Ethnicity": "Hispanic",
          "Expenditures": 49028,
          "Gender": "Female",
          "Id": 19661
         },
         {
          "Age": 80,
          "Age Cohort": "51+",
          "Ethnicity": "White not Hispanic",
          "Expenditures": 54309,
          "Gender": "Female",
          "Id": 19662
         },
         {
          "Age": 6,
          "Age Cohort": "6 to 12",
          "Ethnicity": "White not Hispanic",
          "Expenditures": 987,
          "Gender": "Female",
          "Id": 19663
         },
         {
          "Age": 25,
          "Age Cohort": "22 to 50",
          "Ethnicity": "White not Hispanic",
          "Expenditures": 41107,
          "Gender": "Female",
          "Id": 19825
         },
         {
          "Age": 0,
          "Age Cohort": "0 to 5",
          "Ethnicity": "White not Hispanic",
          "Expenditures": 904,
          "Gender": "Male",
          "Id": 19917
         },
         {
          "Age": 65,
          "Age Cohort": "51+",
          "Ethnicity": "White not Hispanic",
          "Expenditures": 56752,
          "Gender": "Female",
          "Id": 20057
         },
         {
          "Age": 4,
          "Age Cohort": "0 to 5",
          "Ethnicity": "Hispanic",
          "Expenditures": 1977,
          "Gender": "Female",
          "Id": 20073
         },
         {
          "Age": 12,
          "Age Cohort": "6 to 12",
          "Ethnicity": "Hispanic",
          "Expenditures": 3450,
          "Gender": "Female",
          "Id": 20380
         },
         {
          "Age": 19,
          "Age Cohort": "18 to 21",
          "Ethnicity": "White not Hispanic",
          "Expenditures": 10716,
          "Gender": "Male",
          "Id": 20641
         },
         {
          "Age": 20,
          "Age Cohort": "18 to 21",
          "Ethnicity": "Hispanic",
          "Expenditures": 9161,
          "Gender": "Male",
          "Id": 20810
         },
         {
          "Age": 12,
          "Age Cohort": "6 to 12",
          "Ethnicity": "Hispanic",
          "Expenditures": 3007,
          "Gender": "Female",
          "Id": 20832
         },
         {
          "Age": 33,
          "Age Cohort": "22 to 50",
          "Ethnicity": "White not Hispanic",
          "Expenditures": 34558,
          "Gender": "Male",
          "Id": 20872
         },
         {
          "Age": 15,
          "Age Cohort": "13 to 17",
          "Ethnicity": "Hispanic",
          "Expenditures": 3269,
          "Gender": "Male",
          "Id": 20876
         },
         {
          "Age": 24,
          "Age Cohort": "22 to 50",
          "Ethnicity": "Hispanic",
          "Expenditures": 40980,
          "Gender": "Female",
          "Id": 20918
         },
         {
          "Age": 4,
          "Age Cohort": "0 to 5",
          "Ethnicity": "Hispanic",
          "Expenditures": 1196,
          "Gender": "Male",
          "Id": 20976
         },
         {
          "Age": 18,
          "Age Cohort": "18 to 21",
          "Ethnicity": "Black",
          "Expenditures": 4814,
          "Gender": "Male",
          "Id": 20984
         },
         {
          "Age": 5,
          "Age Cohort": "0 to 5",
          "Ethnicity": "White not Hispanic",
          "Expenditures": 1997,
          "Gender": "Male",
          "Id": 21140
         },
         {
          "Age": 24,
          "Age Cohort": "22 to 50",
          "Ethnicity": "Hispanic",
          "Expenditures": 51149,
          "Gender": "Female",
          "Id": 21158
         },
         {
          "Age": 18,
          "Age Cohort": "18 to 21",
          "Ethnicity": "Hispanic",
          "Expenditures": 11038,
          "Gender": "Female",
          "Id": 21167
         },
         {
          "Age": 21,
          "Age Cohort": "18 to 21",
          "Ethnicity": "Asian",
          "Expenditures": 3988,
          "Gender": "Male",
          "Id": 21296
         },
         {
          "Age": 18,
          "Age Cohort": "18 to 21",
          "Ethnicity": "White not Hispanic",
          "Expenditures": 12306,
          "Gender": "Female",
          "Id": 21305
         },
         {
          "Age": 19,
          "Age Cohort": "18 to 21",
          "Ethnicity": "Hispanic",
          "Expenditures": 12649,
          "Gender": "Female",
          "Id": 21351
         },
         {
          "Age": 24,
          "Age Cohort": "22 to 50",
          "Ethnicity": "White not Hispanic",
          "Expenditures": 37416,
          "Gender": "Male",
          "Id": 21503
         },
         {
          "Age": 11,
          "Age Cohort": "6 to 12",
          "Ethnicity": "Hispanic",
          "Expenditures": 2664,
          "Gender": "Female",
          "Id": 21585
         },
         {
          "Age": 66,
          "Age Cohort": "51+",
          "Ethnicity": "Hispanic",
          "Expenditures": 59926,
          "Gender": "Female",
          "Id": 21591
         },
         {
          "Age": 20,
          "Age Cohort": "18 to 21",
          "Ethnicity": "Asian",
          "Expenditures": 10696,
          "Gender": "Female",
          "Id": 21742
         },
         {
          "Age": 19,
          "Age Cohort": "18 to 21",
          "Ethnicity": "Hispanic",
          "Expenditures": 9972,
          "Gender": "Male",
          "Id": 22056
         },
         {
          "Age": 14,
          "Age Cohort": "13 to 17",
          "Ethnicity": "Hispanic",
          "Expenditures": 5920,
          "Gender": "Female",
          "Id": 22124
         },
         {
          "Age": 5,
          "Age Cohort": "0 to 5",
          "Ethnicity": "Hispanic",
          "Expenditures": 2549,
          "Gender": "Male",
          "Id": 22125
         },
         {
          "Age": 17,
          "Age Cohort": "13 to 17",
          "Ethnicity": "Hispanic",
          "Expenditures": 2686,
          "Gender": "Male",
          "Id": 22446
         },
         {
          "Age": 34,
          "Age Cohort": "22 to 50",
          "Ethnicity": "Hispanic",
          "Expenditures": 40277,
          "Gender": "Female",
          "Id": 22534
         },
         {
          "Age": 27,
          "Age Cohort": "22 to 50",
          "Ethnicity": "White not Hispanic",
          "Expenditures": 42702,
          "Gender": "Female",
          "Id": 22541
         },
         {
          "Age": 37,
          "Age Cohort": "22 to 50",
          "Ethnicity": "White not Hispanic",
          "Expenditures": 42455,
          "Gender": "Female",
          "Id": 22682
         },
         {
          "Age": 13,
          "Age Cohort": "13 to 17",
          "Ethnicity": "Hispanic",
          "Expenditures": 4097,
          "Gender": "Male",
          "Id": 22697
         },
         {
          "Age": 4,
          "Age Cohort": "0 to 5",
          "Ethnicity": "Hispanic",
          "Expenditures": 1957,
          "Gender": "Male",
          "Id": 22700
         },
         {
          "Age": 5,
          "Age Cohort": "0 to 5",
          "Ethnicity": "Hispanic",
          "Expenditures": 1646,
          "Gender": "Male",
          "Id": 22764
         },
         {
          "Age": 4,
          "Age Cohort": "0 to 5",
          "Ethnicity": "Hispanic",
          "Expenditures": 1525,
          "Gender": "Male",
          "Id": 22879
         },
         {
          "Age": 4,
          "Age Cohort": "0 to 5",
          "Ethnicity": "Hispanic",
          "Expenditures": 1294,
          "Gender": "Male",
          "Id": 22964
         },
         {
          "Age": 16,
          "Age Cohort": "13 to 17",
          "Ethnicity": "Multi Race",
          "Expenditures": 4664,
          "Gender": "Male",
          "Id": 22988
         },
         {
          "Age": 22,
          "Age Cohort": "22 to 50",
          "Ethnicity": "White not Hispanic",
          "Expenditures": 43292,
          "Gender": "Male",
          "Id": 23032
         },
         {
          "Age": 16,
          "Age Cohort": "13 to 17",
          "Ethnicity": "Asian",
          "Expenditures": 1432,
          "Gender": "Female",
          "Id": 23450
         },
         {
          "Age": 0,
          "Age Cohort": "0 to 5",
          "Ethnicity": "Hispanic",
          "Expenditures": 1435,
          "Gender": "Male",
          "Id": 23493
         },
         {
          "Age": 4,
          "Age Cohort": "0 to 5",
          "Ethnicity": "White not Hispanic",
          "Expenditures": 1631,
          "Gender": "Male",
          "Id": 23505
         },
         {
          "Age": 20,
          "Age Cohort": "18 to 21",
          "Ethnicity": "Black",
          "Expenditures": 8687,
          "Gender": "Male",
          "Id": 23559
         },
         {
          "Age": 19,
          "Age Cohort": "18 to 21",
          "Ethnicity": "Hispanic",
          "Expenditures": 8096,
          "Gender": "Female",
          "Id": 23617
         },
         {
          "Age": 3,
          "Age Cohort": "0 to 5",
          "Ethnicity": "Hispanic",
          "Expenditures": 1123,
          "Gender": "Male",
          "Id": 23651
         },
         {
          "Age": 77,
          "Age Cohort": "51+",
          "Ethnicity": "Asian",
          "Expenditures": 55015,
          "Gender": "Female",
          "Id": 23861
         },
         {
          "Age": 4,
          "Age Cohort": "0 to 5",
          "Ethnicity": "White not Hispanic",
          "Expenditures": 1644,
          "Gender": "Male",
          "Id": 23890
         },
         {
          "Age": 17,
          "Age Cohort": "13 to 17",
          "Ethnicity": "Hispanic",
          "Expenditures": 3678,
          "Gender": "Female",
          "Id": 23915
         },
         {
          "Age": 18,
          "Age Cohort": "18 to 21",
          "Ethnicity": "White not Hispanic",
          "Expenditures": 8999,
          "Gender": "Male",
          "Id": 24042
         },
         {
          "Age": 16,
          "Age Cohort": "13 to 17",
          "Ethnicity": "Hispanic",
          "Expenditures": 1740,
          "Gender": "Male",
          "Id": 24078
         },
         {
          "Age": 21,
          "Age Cohort": "18 to 21",
          "Ethnicity": "Hispanic",
          "Expenditures": 15176,
          "Gender": "Female",
          "Id": 24128
         },
         {
          "Age": 35,
          "Age Cohort": "22 to 50",
          "Ethnicity": "White not Hispanic",
          "Expenditures": 27417,
          "Gender": "Male",
          "Id": 24171
         },
         {
          "Age": 18,
          "Age Cohort": "18 to 21",
          "Ethnicity": "White not Hispanic",
          "Expenditures": 9078,
          "Gender": "Female",
          "Id": 24270
         },
         {
          "Age": 9,
          "Age Cohort": "6 to 12",
          "Ethnicity": "Hispanic",
          "Expenditures": 1963,
          "Gender": "Female",
          "Id": 24341
         },
         {
          "Age": 15,
          "Age Cohort": "13 to 17",
          "Ethnicity": "Hispanic",
          "Expenditures": 4670,
          "Gender": "Male",
          "Id": 24510
         },
         {
          "Age": 4,
          "Age Cohort": "0 to 5",
          "Ethnicity": "White not Hispanic",
          "Expenditures": 2553,
          "Gender": "Male",
          "Id": 24545
         },
         {
          "Age": 14,
          "Age Cohort": "13 to 17",
          "Ethnicity": "Hispanic",
          "Expenditures": 3394,
          "Gender": "Male",
          "Id": 24617
         },
         {
          "Age": 0,
          "Age Cohort": "0 to 5",
          "Ethnicity": "Hispanic",
          "Expenditures": 995,
          "Gender": "Female",
          "Id": 24635
         },
         {
          "Age": 0,
          "Age Cohort": "0 to 5",
          "Ethnicity": "White not Hispanic",
          "Expenditures": 1068,
          "Gender": "Female",
          "Id": 24731
         },
         {
          "Age": 15,
          "Age Cohort": "13 to 17",
          "Ethnicity": "White not Hispanic",
          "Expenditures": 4818,
          "Gender": "Male",
          "Id": 24786
         },
         {
          "Age": 2,
          "Age Cohort": "0 to 5",
          "Ethnicity": "White not Hispanic",
          "Expenditures": 650,
          "Gender": "Male",
          "Id": 24838
         },
         {
          "Age": 21,
          "Age Cohort": "18 to 21",
          "Ethnicity": "White not Hispanic",
          "Expenditures": 15179,
          "Gender": "Female",
          "Id": 24847
         },
         {
          "Age": 21,
          "Age Cohort": "18 to 21",
          "Ethnicity": "Hispanic",
          "Expenditures": 16237,
          "Gender": "Female",
          "Id": 24850
         },
         {
          "Age": 27,
          "Age Cohort": "22 to 50",
          "Ethnicity": "White not Hispanic",
          "Expenditures": 47242,
          "Gender": "Female",
          "Id": 24895
         },
         {
          "Age": 82,
          "Age Cohort": "51+",
          "Ethnicity": "White not Hispanic",
          "Expenditures": 58922,
          "Gender": "Female",
          "Id": 24959
         },
         {
          "Age": 21,
          "Age Cohort": "18 to 21",
          "Ethnicity": "Hispanic",
          "Expenditures": 9592,
          "Gender": "Male",
          "Id": 25000
         },
         {
          "Age": 21,
          "Age Cohort": "18 to 21",
          "Ethnicity": "White not Hispanic",
          "Expenditures": 10008,
          "Gender": "Male",
          "Id": 25184
         },
         {
          "Age": 28,
          "Age Cohort": "22 to 50",
          "Ethnicity": "White not Hispanic",
          "Expenditures": 42346,
          "Gender": "Female",
          "Id": 25281
         },
         {
          "Age": 6,
          "Age Cohort": "6 to 12",
          "Ethnicity": "Hispanic",
          "Expenditures": 2119,
          "Gender": "Female",
          "Id": 25300
         },
         {
          "Age": 40,
          "Age Cohort": "22 to 50",
          "Ethnicity": "White not Hispanic",
          "Expenditures": 42840,
          "Gender": "Male",
          "Id": 25321
         },
         {
          "Age": 19,
          "Age Cohort": "18 to 21",
          "Ethnicity": "Hispanic",
          "Expenditures": 10292,
          "Gender": "Female",
          "Id": 25370
         },
         {
          "Age": 16,
          "Age Cohort": "13 to 17",
          "Ethnicity": "Hispanic",
          "Expenditures": 3501,
          "Gender": "Female",
          "Id": 25457
         },
         {
          "Age": 23,
          "Age Cohort": "22 to 50",
          "Ethnicity": "White not Hispanic",
          "Expenditures": 40992,
          "Gender": "Male",
          "Id": 25575
         },
         {
          "Age": 0,
          "Age Cohort": "0 to 5",
          "Ethnicity": "Hispanic",
          "Expenditures": 741,
          "Gender": "Male",
          "Id": 25613
         },
         {
          "Age": 42,
          "Age Cohort": "22 to 50",
          "Ethnicity": "White not Hispanic",
          "Expenditures": 37916,
          "Gender": "Male",
          "Id": 25649
         },
         {
          "Age": 11,
          "Age Cohort": "6 to 12",
          "Ethnicity": "White not Hispanic",
          "Expenditures": 1339,
          "Gender": "Female",
          "Id": 25743
         },
         {
          "Age": 74,
          "Age Cohort": "51+",
          "Ethnicity": "White not Hispanic",
          "Expenditures": 54266,
          "Gender": "Female",
          "Id": 25747
         },
         {
          "Age": 4,
          "Age Cohort": "0 to 5",
          "Ethnicity": "Hispanic",
          "Expenditures": 1016,
          "Gender": "Male",
          "Id": 25765
         },
         {
          "Age": 6,
          "Age Cohort": "6 to 12",
          "Ethnicity": "Hispanic",
          "Expenditures": 1582,
          "Gender": "Female",
          "Id": 26071
         },
         {
          "Age": 20,
          "Age Cohort": "18 to 21",
          "Ethnicity": "Asian",
          "Expenditures": 13345,
          "Gender": "Male",
          "Id": 26099
         },
         {
          "Age": 33,
          "Age Cohort": "22 to 50",
          "Ethnicity": "White not Hispanic",
          "Expenditures": 47204,
          "Gender": "Female",
          "Id": 26169
         },
         {
          "Age": 17,
          "Age Cohort": "13 to 17",
          "Ethnicity": "Hispanic",
          "Expenditures": 4723,
          "Gender": "Male",
          "Id": 26423
         },
         {
          "Age": 13,
          "Age Cohort": "13 to 17",
          "Ethnicity": "Hispanic",
          "Expenditures": 2460,
          "Gender": "Male",
          "Id": 26427
         },
         {
          "Age": 0,
          "Age Cohort": "0 to 5",
          "Ethnicity": "Multi Race",
          "Expenditures": 2296,
          "Gender": "Male",
          "Id": 26437
         },
         {
          "Age": 16,
          "Age Cohort": "13 to 17",
          "Ethnicity": "Hispanic",
          "Expenditures": 5718,
          "Gender": "Female",
          "Id": 26457
         },
         {
          "Age": 21,
          "Age Cohort": "18 to 21",
          "Ethnicity": "Asian",
          "Expenditures": 7571,
          "Gender": "Female",
          "Id": 26648
         },
         {
          "Age": 18,
          "Age Cohort": "18 to 21",
          "Ethnicity": "Asian",
          "Expenditures": 7207,
          "Gender": "Male",
          "Id": 27029
         },
         {
          "Age": 4,
          "Age Cohort": "0 to 5",
          "Ethnicity": "Hispanic",
          "Expenditures": 1028,
          "Gender": "Male",
          "Id": 27031
         },
         {
          "Age": 12,
          "Age Cohort": "6 to 12",
          "Ethnicity": "Hispanic",
          "Expenditures": 3141,
          "Gender": "Female",
          "Id": 27150
         },
         {
          "Age": 17,
          "Age Cohort": "13 to 17",
          "Ethnicity": "White not Hispanic",
          "Expenditures": 4556,
          "Gender": "Male",
          "Id": 27311
         },
         {
          "Age": 25,
          "Age Cohort": "22 to 50",
          "Ethnicity": "White not Hispanic",
          "Expenditures": 49142,
          "Gender": "Female",
          "Id": 27356
         },
         {
          "Age": 11,
          "Age Cohort": "6 to 12",
          "Ethnicity": "Hispanic",
          "Expenditures": 3585,
          "Gender": "Male",
          "Id": 27484
         },
         {
          "Age": 7,
          "Age Cohort": "6 to 12",
          "Ethnicity": "Hispanic",
          "Expenditures": 2039,
          "Gender": "Female",
          "Id": 27547
         },
         {
          "Age": 12,
          "Age Cohort": "6 to 12",
          "Ethnicity": "White not Hispanic",
          "Expenditures": 2431,
          "Gender": "Female",
          "Id": 27561
         },
         {
          "Age": 11,
          "Age Cohort": "6 to 12",
          "Ethnicity": "White not Hispanic",
          "Expenditures": 1024,
          "Gender": "Male",
          "Id": 27824
         },
         {
          "Age": 22,
          "Age Cohort": "22 to 50",
          "Ethnicity": "Hispanic",
          "Expenditures": 43858,
          "Gender": "Female",
          "Id": 27921
         },
         {
          "Age": 1,
          "Age Cohort": "0 to 5",
          "Ethnicity": "Hispanic",
          "Expenditures": 762,
          "Gender": "Male",
          "Id": 28013
         },
         {
          "Age": 62,
          "Age Cohort": "51+",
          "Ethnicity": "White not Hispanic",
          "Expenditures": 49749,
          "Gender": "Female",
          "Id": 28053
         },
         {
          "Age": 20,
          "Age Cohort": "18 to 21",
          "Ethnicity": "Hispanic",
          "Expenditures": 7081,
          "Gender": "Male",
          "Id": 28066
         },
         {
          "Age": 5,
          "Age Cohort": "0 to 5",
          "Ethnicity": "Hispanic",
          "Expenditures": 2291,
          "Gender": "Female",
          "Id": 28083
         },
         {
          "Age": 9,
          "Age Cohort": "6 to 12",
          "Ethnicity": "White not Hispanic",
          "Expenditures": 3374,
          "Gender": "Female",
          "Id": 28085
         },
         {
          "Age": 4,
          "Age Cohort": "0 to 5",
          "Ethnicity": "Hispanic",
          "Expenditures": 2359,
          "Gender": "Male",
          "Id": 28189
         },
         {
          "Age": 33,
          "Age Cohort": "22 to 50",
          "Ethnicity": "Hispanic",
          "Expenditures": 40809,
          "Gender": "Female",
          "Id": 28384
         },
         {
          "Age": 4,
          "Age Cohort": "0 to 5",
          "Ethnicity": "Hispanic",
          "Expenditures": 2211,
          "Gender": "Male",
          "Id": 28469
         },
         {
          "Age": 19,
          "Age Cohort": "18 to 21",
          "Ethnicity": "Hispanic",
          "Expenditures": 11527,
          "Gender": "Male",
          "Id": 28502
         },
         {
          "Age": 15,
          "Age Cohort": "13 to 17",
          "Ethnicity": "Hispanic",
          "Expenditures": 3959,
          "Gender": "Female",
          "Id": 28514
         },
         {
          "Age": 20,
          "Age Cohort": "18 to 21",
          "Ethnicity": "White not Hispanic",
          "Expenditures": 12854,
          "Gender": "Male",
          "Id": 28728
         },
         {
          "Age": 1,
          "Age Cohort": "0 to 5",
          "Ethnicity": "Hispanic",
          "Expenditures": 966,
          "Gender": "Male",
          "Id": 28948
         },
         {
          "Age": 21,
          "Age Cohort": "18 to 21",
          "Ethnicity": "Hispanic",
          "Expenditures": 7339,
          "Gender": "Male",
          "Id": 29038
         },
         {
          "Age": 24,
          "Age Cohort": "22 to 50",
          "Ethnicity": "White not Hispanic",
          "Expenditures": 46703,
          "Gender": "Male",
          "Id": 29193
         },
         {
          "Age": 8,
          "Age Cohort": "6 to 12",
          "Ethnicity": "Hispanic",
          "Expenditures": 3378,
          "Gender": "Female",
          "Id": 29411
         },
         {
          "Age": 8,
          "Age Cohort": "6 to 12",
          "Ethnicity": "White not Hispanic",
          "Expenditures": 2807,
          "Gender": "Male",
          "Id": 29440
         },
         {
          "Age": 30,
          "Age Cohort": "22 to 50",
          "Ethnicity": "White not Hispanic",
          "Expenditures": 46246,
          "Gender": "Male",
          "Id": 29447
         },
         {
          "Age": 17,
          "Age Cohort": "13 to 17",
          "Ethnicity": "Hispanic",
          "Expenditures": 4513,
          "Gender": "Male",
          "Id": 29458
         },
         {
          "Age": 56,
          "Age Cohort": "51+",
          "Ethnicity": "White not Hispanic",
          "Expenditures": 48215,
          "Gender": "Female",
          "Id": 29506
         },
         {
          "Age": 16,
          "Age Cohort": "13 to 17",
          "Ethnicity": "White not Hispanic",
          "Expenditures": 2357,
          "Gender": "Male",
          "Id": 29574
         },
         {
          "Age": 20,
          "Age Cohort": "18 to 21",
          "Ethnicity": "White not Hispanic",
          "Expenditures": 9597,
          "Gender": "Male",
          "Id": 29795
         },
         {
          "Age": 14,
          "Age Cohort": "13 to 17",
          "Ethnicity": "Asian",
          "Expenditures": 386,
          "Gender": "Male",
          "Id": 29804
         },
         {
          "Age": 7,
          "Age Cohort": "6 to 12",
          "Ethnicity": "Hispanic",
          "Expenditures": 1473,
          "Gender": "Female",
          "Id": 29840
         },
         {
          "Age": 16,
          "Age Cohort": "13 to 17",
          "Ethnicity": "Hispanic",
          "Expenditures": 4112,
          "Gender": "Male",
          "Id": 29885
         },
         {
          "Age": 19,
          "Age Cohort": "18 to 21",
          "Ethnicity": "Asian",
          "Expenditures": 8530,
          "Gender": "Female",
          "Id": 29902
         },
         {
          "Age": 5,
          "Age Cohort": "0 to 5",
          "Ethnicity": "Asian",
          "Expenditures": 1315,
          "Gender": "Male",
          "Id": 29914
         },
         {
          "Age": 14,
          "Age Cohort": "13 to 17",
          "Ethnicity": "Hispanic",
          "Expenditures": 4653,
          "Gender": "Male",
          "Id": 30012
         },
         {
          "Age": 78,
          "Age Cohort": "51+",
          "Ethnicity": "American Indian",
          "Expenditures": 55430,
          "Gender": "Female",
          "Id": 30234
         },
         {
          "Age": 9,
          "Age Cohort": "6 to 12",
          "Ethnicity": "White not Hispanic",
          "Expenditures": 722,
          "Gender": "Male",
          "Id": 30385
         },
         {
          "Age": 19,
          "Age Cohort": "18 to 21",
          "Ethnicity": "Hispanic",
          "Expenditures": 7667,
          "Gender": "Female",
          "Id": 30438
         },
         {
          "Age": 20,
          "Age Cohort": "18 to 21",
          "Ethnicity": "Hispanic",
          "Expenditures": 12587,
          "Gender": "Male",
          "Id": 30481
         },
         {
          "Age": 7,
          "Age Cohort": "6 to 12",
          "Ethnicity": "Asian",
          "Expenditures": 1725,
          "Gender": "Male",
          "Id": 30517
         },
         {
          "Age": 4,
          "Age Cohort": "0 to 5",
          "Ethnicity": "White not Hispanic",
          "Expenditures": 791,
          "Gender": "Female",
          "Id": 30617
         },
         {
          "Age": 10,
          "Age Cohort": "6 to 12",
          "Ethnicity": "White not Hispanic",
          "Expenditures": 2189,
          "Gender": "Female",
          "Id": 30673
         },
         {
          "Age": 3,
          "Age Cohort": "0 to 5",
          "Ethnicity": "Hispanic",
          "Expenditures": 668,
          "Gender": "Male",
          "Id": 30689
         },
         {
          "Age": 20,
          "Age Cohort": "18 to 21",
          "Ethnicity": "Hispanic",
          "Expenditures": 6218,
          "Gender": "Female",
          "Id": 30780
         },
         {
          "Age": 17,
          "Age Cohort": "13 to 17",
          "Ethnicity": "Hispanic",
          "Expenditures": 2015,
          "Gender": "Male",
          "Id": 30909
         },
         {
          "Age": 21,
          "Age Cohort": "18 to 21",
          "Ethnicity": "Hispanic",
          "Expenditures": 8948,
          "Gender": "Male",
          "Id": 31063
         },
         {
          "Age": 71,
          "Age Cohort": "51+",
          "Ethnicity": "White not Hispanic",
          "Expenditures": 52472,
          "Gender": "Female",
          "Id": 31163
         },
         {
          "Age": 11,
          "Age Cohort": "6 to 12",
          "Ethnicity": "Multi Race",
          "Expenditures": 2918,
          "Gender": "Female",
          "Id": 31168
         },
         {
          "Age": 2,
          "Age Cohort": "0 to 5",
          "Ethnicity": "Hispanic",
          "Expenditures": 561,
          "Gender": "Male",
          "Id": 31277
         },
         {
          "Age": 88,
          "Age Cohort": "51+",
          "Ethnicity": "White not Hispanic",
          "Expenditures": 54655,
          "Gender": "Female",
          "Id": 31307
         },
         {
          "Age": 70,
          "Age Cohort": "51+",
          "Ethnicity": "Hispanic",
          "Expenditures": 59622,
          "Gender": "Female",
          "Id": 31437
         },
         {
          "Age": 23,
          "Age Cohort": "22 to 50",
          "Ethnicity": "Asian",
          "Expenditures": 32344,
          "Gender": "Male",
          "Id": 31632
         },
         {
          "Age": 11,
          "Age Cohort": "6 to 12",
          "Ethnicity": "White not Hispanic",
          "Expenditures": 3335,
          "Gender": "Female",
          "Id": 31642
         },
         {
          "Age": 60,
          "Age Cohort": "51+",
          "Ethnicity": "Black",
          "Expenditures": 46873,
          "Gender": "Female",
          "Id": 31658
         },
         {
          "Age": 10,
          "Age Cohort": "6 to 12",
          "Ethnicity": "White not Hispanic",
          "Expenditures": 2380,
          "Gender": "Male",
          "Id": 31859
         },
         {
          "Age": 17,
          "Age Cohort": "13 to 17",
          "Ethnicity": "Hispanic",
          "Expenditures": 4921,
          "Gender": "Female",
          "Id": 31910
         },
         {
          "Age": 10,
          "Age Cohort": "6 to 12",
          "Ethnicity": "White not Hispanic",
          "Expenditures": 1455,
          "Gender": "Male",
          "Id": 31919
         },
         {
          "Age": 25,
          "Age Cohort": "22 to 50",
          "Ethnicity": "White not Hispanic",
          "Expenditures": 38730,
          "Gender": "Male",
          "Id": 31960
         },
         {
          "Age": 38,
          "Age Cohort": "22 to 50",
          "Ethnicity": "Hispanic",
          "Expenditures": 35088,
          "Gender": "Female",
          "Id": 31973
         },
         {
          "Age": 11,
          "Age Cohort": "6 to 12",
          "Ethnicity": "Asian",
          "Expenditures": 2059,
          "Gender": "Female",
          "Id": 32161
         },
         {
          "Age": 16,
          "Age Cohort": "13 to 17",
          "Ethnicity": "Asian",
          "Expenditures": 4054,
          "Gender": "Female",
          "Id": 32186
         },
         {
          "Age": 7,
          "Age Cohort": "6 to 12",
          "Ethnicity": "Black",
          "Expenditures": 1212,
          "Gender": "Male",
          "Id": 32326
         },
         {
          "Age": 19,
          "Age Cohort": "18 to 21",
          "Ethnicity": "White not Hispanic",
          "Expenditures": 12178,
          "Gender": "Male",
          "Id": 32395
         },
         {
          "Age": 11,
          "Age Cohort": "6 to 12",
          "Ethnicity": "Hispanic",
          "Expenditures": 1084,
          "Gender": "Male",
          "Id": 32398
         },
         {
          "Age": 15,
          "Age Cohort": "13 to 17",
          "Ethnicity": "Asian",
          "Expenditures": 3529,
          "Gender": "Female",
          "Id": 32519
         },
         {
          "Age": 20,
          "Age Cohort": "18 to 21",
          "Ethnicity": "White not Hispanic",
          "Expenditures": 11775,
          "Gender": "Female",
          "Id": 32604
         },
         {
          "Age": 24,
          "Age Cohort": "22 to 50",
          "Ethnicity": "White not Hispanic",
          "Expenditures": 36279,
          "Gender": "Female",
          "Id": 32664
         },
         {
          "Age": 27,
          "Age Cohort": "22 to 50",
          "Ethnicity": "White not Hispanic",
          "Expenditures": 47021,
          "Gender": "Female",
          "Id": 32745
         },
         {
          "Age": 8,
          "Age Cohort": "6 to 12",
          "Ethnicity": "Asian",
          "Expenditures": 641,
          "Gender": "Male",
          "Id": 32781
         },
         {
          "Age": 20,
          "Age Cohort": "18 to 21",
          "Ethnicity": "White not Hispanic",
          "Expenditures": 6362,
          "Gender": "Male",
          "Id": 32893
         },
         {
          "Age": 11,
          "Age Cohort": "6 to 12",
          "Ethnicity": "Hispanic",
          "Expenditures": 3695,
          "Gender": "Female",
          "Id": 33032
         },
         {
          "Age": 4,
          "Age Cohort": "0 to 5",
          "Ethnicity": "Asian",
          "Expenditures": 1437,
          "Gender": "Male",
          "Id": 33305
         },
         {
          "Age": 11,
          "Age Cohort": "6 to 12",
          "Ethnicity": "White not Hispanic",
          "Expenditures": 1582,
          "Gender": "Male",
          "Id": 33339
         },
         {
          "Age": 25,
          "Age Cohort": "22 to 50",
          "Ethnicity": "Asian",
          "Expenditures": 41984,
          "Gender": "Female",
          "Id": 33360
         },
         {
          "Age": 2,
          "Age Cohort": "0 to 5",
          "Ethnicity": "White not Hispanic",
          "Expenditures": 1347,
          "Gender": "Male",
          "Id": 33375
         },
         {
          "Age": 18,
          "Age Cohort": "18 to 21",
          "Ethnicity": "White not Hispanic",
          "Expenditures": 13593,
          "Gender": "Female",
          "Id": 33464
         },
         {
          "Age": 1,
          "Age Cohort": "0 to 5",
          "Ethnicity": "Hispanic",
          "Expenditures": 1767,
          "Gender": "Female",
          "Id": 33509
         },
         {
          "Age": 12,
          "Age Cohort": "6 to 12",
          "Ethnicity": "White not Hispanic",
          "Expenditures": 2880,
          "Gender": "Female",
          "Id": 33551
         },
         {
          "Age": 13,
          "Age Cohort": "13 to 17",
          "Ethnicity": "Asian",
          "Expenditures": 4483,
          "Gender": "Male",
          "Id": 33643
         },
         {
          "Age": 13,
          "Age Cohort": "13 to 17",
          "Ethnicity": "White not Hispanic",
          "Expenditures": 4003,
          "Gender": "Male",
          "Id": 33886
         },
         {
          "Age": 69,
          "Age Cohort": "51+",
          "Ethnicity": "White not Hispanic",
          "Expenditures": 67884,
          "Gender": "Male",
          "Id": 34146
         },
         {
          "Age": 23,
          "Age Cohort": "22 to 50",
          "Ethnicity": "White not Hispanic",
          "Expenditures": 46590,
          "Gender": "Female",
          "Id": 34278
         },
         {
          "Age": 31,
          "Age Cohort": "22 to 50",
          "Ethnicity": "White not Hispanic",
          "Expenditures": 39007,
          "Gender": "Male",
          "Id": 34522
         },
         {
          "Age": 21,
          "Age Cohort": "18 to 21",
          "Ethnicity": "White not Hispanic",
          "Expenditures": 10046,
          "Gender": "Male",
          "Id": 34681
         },
         {
          "Age": 9,
          "Age Cohort": "6 to 12",
          "Ethnicity": "Asian",
          "Expenditures": 2695,
          "Gender": "Male",
          "Id": 34751
         },
         {
          "Age": 85,
          "Age Cohort": "51+",
          "Ethnicity": "White not Hispanic",
          "Expenditures": 64898,
          "Gender": "Male",
          "Id": 34763
         },
         {
          "Age": 26,
          "Age Cohort": "22 to 50",
          "Ethnicity": "Hispanic",
          "Expenditures": 36738,
          "Gender": "Female",
          "Id": 34821
         },
         {
          "Age": 27,
          "Age Cohort": "22 to 50",
          "Ethnicity": "White not Hispanic",
          "Expenditures": 34394,
          "Gender": "Male",
          "Id": 34983
         },
         {
          "Age": 68,
          "Age Cohort": "51+",
          "Ethnicity": "Hispanic",
          "Expenditures": 49502,
          "Gender": "Male",
          "Id": 34997
         },
         {
          "Age": 13,
          "Age Cohort": "13 to 17",
          "Ethnicity": "Black",
          "Expenditures": 4554,
          "Gender": "Male",
          "Id": 35066
         },
         {
          "Age": 9,
          "Age Cohort": "6 to 12",
          "Ethnicity": "Asian",
          "Expenditures": 1824,
          "Gender": "Male",
          "Id": 35093
         },
         {
          "Age": 30,
          "Age Cohort": "22 to 50",
          "Ethnicity": "White not Hispanic",
          "Expenditures": 43134,
          "Gender": "Female",
          "Id": 35298
         },
         {
          "Age": 10,
          "Age Cohort": "6 to 12",
          "Ethnicity": "Multi Race",
          "Expenditures": 1622,
          "Gender": "Female",
          "Id": 35360
         },
         {
          "Age": 13,
          "Age Cohort": "13 to 17",
          "Ethnicity": "Hispanic",
          "Expenditures": 3522,
          "Gender": "Male",
          "Id": 35503
         },
         {
          "Age": 8,
          "Age Cohort": "6 to 12",
          "Ethnicity": "Hispanic",
          "Expenditures": 2776,
          "Gender": "Male",
          "Id": 35590
         },
         {
          "Age": 18,
          "Age Cohort": "18 to 21",
          "Ethnicity": "White not Hispanic",
          "Expenditures": 14578,
          "Gender": "Female",
          "Id": 35630
         },
         {
          "Age": 21,
          "Age Cohort": "18 to 21",
          "Ethnicity": "Hispanic",
          "Expenditures": 10150,
          "Gender": "Male",
          "Id": 35656
         },
         {
          "Age": 20,
          "Age Cohort": "18 to 21",
          "Ethnicity": "White not Hispanic",
          "Expenditures": 9207,
          "Gender": "Female",
          "Id": 35666
         },
         {
          "Age": 20,
          "Age Cohort": "18 to 21",
          "Ethnicity": "Hispanic",
          "Expenditures": 7605,
          "Gender": "Female",
          "Id": 35684
         },
         {
          "Age": 8,
          "Age Cohort": "6 to 12",
          "Ethnicity": "Hispanic",
          "Expenditures": 2954,
          "Gender": "Male",
          "Id": 35799
         },
         {
          "Age": 13,
          "Age Cohort": "13 to 17",
          "Ethnicity": "Black",
          "Expenditures": 2797,
          "Gender": "Male",
          "Id": 35970
         },
         {
          "Age": 59,
          "Age Cohort": "51+",
          "Ethnicity": "Asian",
          "Expenditures": 42739,
          "Gender": "Male",
          "Id": 36123
         },
         {
          "Age": 15,
          "Age Cohort": "13 to 17",
          "Ethnicity": "Asian",
          "Expenditures": 2900,
          "Gender": "Female",
          "Id": 36179
         },
         {
          "Age": 1,
          "Age Cohort": "0 to 5",
          "Ethnicity": "White not Hispanic",
          "Expenditures": 384,
          "Gender": "Female",
          "Id": 36391
         },
         {
          "Age": 21,
          "Age Cohort": "18 to 21",
          "Ethnicity": "Asian",
          "Expenditures": 9504,
          "Gender": "Female",
          "Id": 36459
         },
         {
          "Age": 27,
          "Age Cohort": "22 to 50",
          "Ethnicity": "Hispanic",
          "Expenditures": 38031,
          "Gender": "Female",
          "Id": 36576
         },
         {
          "Age": 19,
          "Age Cohort": "18 to 21",
          "Ethnicity": "White not Hispanic",
          "Expenditures": 7083,
          "Gender": "Male",
          "Id": 36578
         },
         {
          "Age": 9,
          "Age Cohort": "6 to 12",
          "Ethnicity": "White not Hispanic",
          "Expenditures": 2877,
          "Gender": "Male",
          "Id": 36720
         },
         {
          "Age": 6,
          "Age Cohort": "6 to 12",
          "Ethnicity": "Hispanic",
          "Expenditures": 1173,
          "Gender": "Male",
          "Id": 36802
         },
         {
          "Age": 21,
          "Age Cohort": "18 to 21",
          "Ethnicity": "Hispanic",
          "Expenditures": 12083,
          "Gender": "Female",
          "Id": 37075
         },
         {
          "Age": 19,
          "Age Cohort": "18 to 21",
          "Ethnicity": "White not Hispanic",
          "Expenditures": 3157,
          "Gender": "Male",
          "Id": 37287
         },
         {
          "Age": 15,
          "Age Cohort": "13 to 17",
          "Ethnicity": "Hispanic",
          "Expenditures": 4533,
          "Gender": "Male",
          "Id": 37297
         },
         {
          "Age": 17,
          "Age Cohort": "13 to 17",
          "Ethnicity": "White not Hispanic",
          "Expenditures": 3694,
          "Gender": "Female",
          "Id": 37335
         },
         {
          "Age": 18,
          "Age Cohort": "18 to 21",
          "Ethnicity": "White not Hispanic",
          "Expenditures": 8299,
          "Gender": "Female",
          "Id": 37415
         },
         {
          "Age": 76,
          "Age Cohort": "51+",
          "Ethnicity": "Hispanic",
          "Expenditures": 62097,
          "Gender": "Male",
          "Id": 37454
         },
         {
          "Age": 18,
          "Age Cohort": "18 to 21",
          "Ethnicity": "Hispanic",
          "Expenditures": 11935,
          "Gender": "Male",
          "Id": 37524
         },
         {
          "Age": 20,
          "Age Cohort": "18 to 21",
          "Ethnicity": "Hispanic",
          "Expenditures": 11034,
          "Gender": "Male",
          "Id": 37694
         },
         {
          "Age": 19,
          "Age Cohort": "18 to 21",
          "Ethnicity": "White not Hispanic",
          "Expenditures": 12481,
          "Gender": "Male",
          "Id": 37731
         },
         {
          "Age": 18,
          "Age Cohort": "18 to 21",
          "Ethnicity": "Asian",
          "Expenditures": 9200,
          "Gender": "Female",
          "Id": 37846
         },
         {
          "Age": 20,
          "Age Cohort": "18 to 21",
          "Ethnicity": "Hispanic",
          "Expenditures": 10294,
          "Gender": "Female",
          "Id": 38017
         },
         {
          "Age": 21,
          "Age Cohort": "18 to 21",
          "Ethnicity": "Asian",
          "Expenditures": 11668,
          "Gender": "Male",
          "Id": 38104
         },
         {
          "Age": 37,
          "Age Cohort": "22 to 50",
          "Ethnicity": "White not Hispanic",
          "Expenditures": 37948,
          "Gender": "Female",
          "Id": 38121
         },
         {
          "Age": 14,
          "Age Cohort": "13 to 17",
          "Ethnicity": "White not Hispanic",
          "Expenditures": 5530,
          "Gender": "Female",
          "Id": 38584
         },
         {
          "Age": 16,
          "Age Cohort": "13 to 17",
          "Ethnicity": "Black",
          "Expenditures": 3909,
          "Gender": "Male",
          "Id": 38732
         },
         {
          "Age": 16,
          "Age Cohort": "13 to 17",
          "Ethnicity": "Asian",
          "Expenditures": 5041,
          "Gender": "Male",
          "Id": 38889
         },
         {
          "Age": 24,
          "Age Cohort": "22 to 50",
          "Ethnicity": "White not Hispanic",
          "Expenditures": 39345,
          "Gender": "Female",
          "Id": 38975
         },
         {
          "Age": 18,
          "Age Cohort": "18 to 21",
          "Ethnicity": "Hispanic",
          "Expenditures": 16310,
          "Gender": "Female",
          "Id": 39060
         },
         {
          "Age": 20,
          "Age Cohort": "18 to 21",
          "Ethnicity": "White not Hispanic",
          "Expenditures": 6272,
          "Gender": "Female",
          "Id": 39095
         },
         {
          "Age": 0,
          "Age Cohort": "0 to 5",
          "Ethnicity": "White not Hispanic",
          "Expenditures": 685,
          "Gender": "Female",
          "Id": 39131
         },
         {
          "Age": 9,
          "Age Cohort": "6 to 12",
          "Ethnicity": "Hispanic",
          "Expenditures": 2490,
          "Gender": "Male",
          "Id": 39134
         },
         {
          "Age": 59,
          "Age Cohort": "51+",
          "Ethnicity": "White not Hispanic",
          "Expenditures": 44734,
          "Gender": "Female",
          "Id": 39287
         },
         {
          "Age": 54,
          "Age Cohort": "51+",
          "Ethnicity": "White not Hispanic",
          "Expenditures": 52833,
          "Gender": "Female",
          "Id": 39672
         },
         {
          "Age": 10,
          "Age Cohort": "6 to 12",
          "Ethnicity": "Black",
          "Expenditures": 2341,
          "Gender": "Female",
          "Id": 39767
         },
         {
          "Age": 5,
          "Age Cohort": "0 to 5",
          "Ethnicity": "White not Hispanic",
          "Expenditures": 1088,
          "Gender": "Female",
          "Id": 39795
         },
         {
          "Age": 14,
          "Age Cohort": "13 to 17",
          "Ethnicity": "Multi Race",
          "Expenditures": 3399,
          "Gender": "Male",
          "Id": 39942
         },
         {
          "Age": 21,
          "Age Cohort": "18 to 21",
          "Ethnicity": "Hispanic",
          "Expenditures": 11811,
          "Gender": "Female",
          "Id": 39999
         },
         {
          "Age": 17,
          "Age Cohort": "13 to 17",
          "Ethnicity": "Hispanic",
          "Expenditures": 3945,
          "Gender": "Male",
          "Id": 40105
         },
         {
          "Age": 73,
          "Age Cohort": "51+",
          "Ethnicity": "Asian",
          "Expenditures": 60198,
          "Gender": "Female",
          "Id": 40159
         },
         {
          "Age": 9,
          "Age Cohort": "6 to 12",
          "Ethnicity": "Hispanic",
          "Expenditures": 2781,
          "Gender": "Female",
          "Id": 40277
         },
         {
          "Age": 4,
          "Age Cohort": "0 to 5",
          "Ethnicity": "Asian",
          "Expenditures": 374,
          "Gender": "Female",
          "Id": 40313
         },
         {
          "Age": 30,
          "Age Cohort": "22 to 50",
          "Ethnicity": "White not Hispanic",
          "Expenditures": 36469,
          "Gender": "Male",
          "Id": 40409
         },
         {
          "Age": 12,
          "Age Cohort": "6 to 12",
          "Ethnicity": "White not Hispanic",
          "Expenditures": 2269,
          "Gender": "Male",
          "Id": 40412
         },
         {
          "Age": 21,
          "Age Cohort": "18 to 21",
          "Ethnicity": "White not Hispanic",
          "Expenditures": 10973,
          "Gender": "Female",
          "Id": 40847
         },
         {
          "Age": 13,
          "Age Cohort": "13 to 17",
          "Ethnicity": "Hispanic",
          "Expenditures": 1597,
          "Gender": "Male",
          "Id": 40892
         },
         {
          "Age": 25,
          "Age Cohort": "22 to 50",
          "Ethnicity": "Hispanic",
          "Expenditures": 48684,
          "Gender": "Female",
          "Id": 40952
         },
         {
          "Age": 14,
          "Age Cohort": "13 to 17",
          "Ethnicity": "White not Hispanic",
          "Expenditures": 2366,
          "Gender": "Female",
          "Id": 40987
         },
         {
          "Age": 32,
          "Age Cohort": "22 to 50",
          "Ethnicity": "White not Hispanic",
          "Expenditures": 45017,
          "Gender": "Female",
          "Id": 41163
         },
         {
          "Age": 32,
          "Age Cohort": "22 to 50",
          "Ethnicity": "Black",
          "Expenditures": 43545,
          "Gender": "Male",
          "Id": 41176
         },
         {
          "Age": 7,
          "Age Cohort": "6 to 12",
          "Ethnicity": "White not Hispanic",
          "Expenditures": 1645,
          "Gender": "Male",
          "Id": 41831
         },
         {
          "Age": 13,
          "Age Cohort": "13 to 17",
          "Ethnicity": "Hispanic",
          "Expenditures": 4975,
          "Gender": "Male",
          "Id": 41850
         },
         {
          "Age": 14,
          "Age Cohort": "13 to 17",
          "Ethnicity": "Hispanic",
          "Expenditures": 3257,
          "Gender": "Female",
          "Id": 41968
         },
         {
          "Age": 18,
          "Age Cohort": "18 to 21",
          "Ethnicity": "Asian",
          "Expenditures": 7878,
          "Gender": "Male",
          "Id": 42216
         },
         {
          "Age": 16,
          "Age Cohort": "13 to 17",
          "Ethnicity": "White not Hispanic",
          "Expenditures": 3977,
          "Gender": "Female",
          "Id": 42229
         },
         {
          "Age": 6,
          "Age Cohort": "6 to 12",
          "Ethnicity": "Hispanic",
          "Expenditures": 2247,
          "Gender": "Male",
          "Id": 42262
         },
         {
          "Age": 16,
          "Age Cohort": "13 to 17",
          "Ethnicity": "White not Hispanic",
          "Expenditures": 4215,
          "Gender": "Female",
          "Id": 42265
         },
         {
          "Age": 74,
          "Age Cohort": "51+",
          "Ethnicity": "White not Hispanic",
          "Expenditures": 52041,
          "Gender": "Male",
          "Id": 42348
         },
         {
          "Age": 9,
          "Age Cohort": "6 to 12",
          "Ethnicity": "Hispanic",
          "Expenditures": 1758,
          "Gender": "Male",
          "Id": 42489
         },
         {
          "Age": 24,
          "Age Cohort": "22 to 50",
          "Ethnicity": "Hispanic",
          "Expenditures": 51392,
          "Gender": "Male",
          "Id": 42590
         },
         {
          "Age": 0,
          "Age Cohort": "0 to 5",
          "Ethnicity": "Black",
          "Expenditures": 1398,
          "Gender": "Female",
          "Id": 42593
         },
         {
          "Age": 86,
          "Age Cohort": "51+",
          "Ethnicity": "White not Hispanic",
          "Expenditures": 60452,
          "Gender": "Male",
          "Id": 42657
         },
         {
          "Age": 17,
          "Age Cohort": "13 to 17",
          "Ethnicity": "Hispanic",
          "Expenditures": 4495,
          "Gender": "Female",
          "Id": 42732
         },
         {
          "Age": 15,
          "Age Cohort": "13 to 17",
          "Ethnicity": "Hispanic",
          "Expenditures": 2744,
          "Gender": "Female",
          "Id": 42804
         },
         {
          "Age": 74,
          "Age Cohort": "51+",
          "Ethnicity": "White not Hispanic",
          "Expenditures": 57760,
          "Gender": "Female",
          "Id": 42905
         },
         {
          "Age": 16,
          "Age Cohort": "13 to 17",
          "Ethnicity": "Hispanic",
          "Expenditures": 3561,
          "Gender": "Male",
          "Id": 43039
         },
         {
          "Age": 21,
          "Age Cohort": "18 to 21",
          "Ethnicity": "White not Hispanic",
          "Expenditures": 10063,
          "Gender": "Female",
          "Id": 43188
         },
         {
          "Age": 11,
          "Age Cohort": "6 to 12",
          "Ethnicity": "Hispanic",
          "Expenditures": 2906,
          "Gender": "Female",
          "Id": 43245
         },
         {
          "Age": 11,
          "Age Cohort": "6 to 12",
          "Ethnicity": "Multi Race",
          "Expenditures": 2140,
          "Gender": "Male",
          "Id": 43291
         },
         {
          "Age": 34,
          "Age Cohort": "22 to 50",
          "Ethnicity": "White not Hispanic",
          "Expenditures": 46325,
          "Gender": "Female",
          "Id": 43308
         },
         {
          "Age": 57,
          "Age Cohort": "51+",
          "Ethnicity": "White not Hispanic",
          "Expenditures": 48363,
          "Gender": "Male",
          "Id": 43455
         },
         {
          "Age": 16,
          "Age Cohort": "13 to 17",
          "Ethnicity": "Hispanic",
          "Expenditures": 5637,
          "Gender": "Female",
          "Id": 43478
         },
         {
          "Age": 16,
          "Age Cohort": "13 to 17",
          "Ethnicity": "White not Hispanic",
          "Expenditures": 3740,
          "Gender": "Female",
          "Id": 43516
         },
         {
          "Age": 13,
          "Age Cohort": "13 to 17",
          "Ethnicity": "Asian",
          "Expenditures": 4014,
          "Gender": "Male",
          "Id": 43574
         },
         {
          "Age": 8,
          "Age Cohort": "6 to 12",
          "Ethnicity": "Hispanic",
          "Expenditures": 2904,
          "Gender": "Female",
          "Id": 43586
         },
         {
          "Age": 9,
          "Age Cohort": "6 to 12",
          "Ethnicity": "White not Hispanic",
          "Expenditures": 2854,
          "Gender": "Female",
          "Id": 43735
         },
         {
          "Age": 28,
          "Age Cohort": "22 to 50",
          "Ethnicity": "Hispanic",
          "Expenditures": 39147,
          "Gender": "Female",
          "Id": 43762
         },
         {
          "Age": 15,
          "Age Cohort": "13 to 17",
          "Ethnicity": "White not Hispanic",
          "Expenditures": 4036,
          "Gender": "Female",
          "Id": 43767
         },
         {
          "Age": 12,
          "Age Cohort": "6 to 12",
          "Ethnicity": "Asian",
          "Expenditures": 3196,
          "Gender": "Male",
          "Id": 43768
         },
         {
          "Age": 17,
          "Age Cohort": "13 to 17",
          "Ethnicity": "White not Hispanic",
          "Expenditures": 3677,
          "Gender": "Female",
          "Id": 43881
         },
         {
          "Age": 20,
          "Age Cohort": "18 to 21",
          "Ethnicity": "Hispanic",
          "Expenditures": 6397,
          "Gender": "Male",
          "Id": 43984
         },
         {
          "Age": 27,
          "Age Cohort": "22 to 50",
          "Ethnicity": "White not Hispanic",
          "Expenditures": 48745,
          "Gender": "Female",
          "Id": 43990
         },
         {
          "Age": 20,
          "Age Cohort": "18 to 21",
          "Ethnicity": "Hispanic",
          "Expenditures": 7446,
          "Gender": "Male",
          "Id": 44297
         },
         {
          "Age": 12,
          "Age Cohort": "6 to 12",
          "Ethnicity": "White not Hispanic",
          "Expenditures": 1109,
          "Gender": "Male",
          "Id": 44312
         },
         {
          "Age": 17,
          "Age Cohort": "13 to 17",
          "Ethnicity": "Hispanic",
          "Expenditures": 5163,
          "Gender": "Male",
          "Id": 44401
         },
         {
          "Age": 67,
          "Age Cohort": "51+",
          "Ethnicity": "Hispanic",
          "Expenditures": 52243,
          "Gender": "Male",
          "Id": 44451
         },
         {
          "Age": 26,
          "Age Cohort": "22 to 50",
          "Ethnicity": "White not Hispanic",
          "Expenditures": 40637,
          "Gender": "Male",
          "Id": 44613
         },
         {
          "Age": 14,
          "Age Cohort": "13 to 17",
          "Ethnicity": "Hispanic",
          "Expenditures": 4774,
          "Gender": "Female",
          "Id": 44669
         },
         {
          "Age": 28,
          "Age Cohort": "22 to 50",
          "Ethnicity": "White not Hispanic",
          "Expenditures": 41464,
          "Gender": "Male",
          "Id": 44973
         },
         {
          "Age": 52,
          "Age Cohort": "51+",
          "Ethnicity": "Hispanic",
          "Expenditures": 51777,
          "Gender": "Male",
          "Id": 45104
         },
         {
          "Age": 57,
          "Age Cohort": "51+",
          "Ethnicity": "White not Hispanic",
          "Expenditures": 42897,
          "Gender": "Female",
          "Id": 45274
         },
         {
          "Age": 76,
          "Age Cohort": "51+",
          "Ethnicity": "White not Hispanic",
          "Expenditures": 59829,
          "Gender": "Male",
          "Id": 45319
         },
         {
          "Age": 16,
          "Age Cohort": "13 to 17",
          "Ethnicity": "Hispanic",
          "Expenditures": 3141,
          "Gender": "Male",
          "Id": 45468
         },
         {
          "Age": 9,
          "Age Cohort": "6 to 12",
          "Ethnicity": "Asian",
          "Expenditures": 2028,
          "Gender": "Male",
          "Id": 45476
         },
         {
          "Age": 14,
          "Age Cohort": "13 to 17",
          "Ethnicity": "White not Hispanic",
          "Expenditures": 4363,
          "Gender": "Female",
          "Id": 45499
         },
         {
          "Age": 27,
          "Age Cohort": "22 to 50",
          "Ethnicity": "Asian",
          "Expenditures": 37778,
          "Gender": "Female",
          "Id": 45540
         },
         {
          "Age": 8,
          "Age Cohort": "6 to 12",
          "Ethnicity": "White not Hispanic",
          "Expenditures": 1332,
          "Gender": "Male",
          "Id": 45600
         },
         {
          "Age": 22,
          "Age Cohort": "22 to 50",
          "Ethnicity": "Hispanic",
          "Expenditures": 36691,
          "Gender": "Female",
          "Id": 45625
         },
         {
          "Age": 73,
          "Age Cohort": "51+",
          "Ethnicity": "Hispanic",
          "Expenditures": 53211,
          "Gender": "Male",
          "Id": 45679
         },
         {
          "Age": 11,
          "Age Cohort": "6 to 12",
          "Ethnicity": "Multi Race",
          "Expenditures": 1144,
          "Gender": "Male",
          "Id": 45755
         },
         {
          "Age": 11,
          "Age Cohort": "6 to 12",
          "Ethnicity": "White not Hispanic",
          "Expenditures": 1217,
          "Gender": "Female",
          "Id": 45798
         },
         {
          "Age": 89,
          "Age Cohort": "51+",
          "Ethnicity": "White not Hispanic",
          "Expenditures": 58304,
          "Gender": "Female",
          "Id": 45827
         },
         {
          "Age": 2,
          "Age Cohort": "0 to 5",
          "Ethnicity": "White not Hispanic",
          "Expenditures": 1113,
          "Gender": "Female",
          "Id": 45828
         },
         {
          "Age": 73,
          "Age Cohort": "51+",
          "Ethnicity": "White not Hispanic",
          "Expenditures": 47997,
          "Gender": "Male",
          "Id": 45958
         },
         {
          "Age": 19,
          "Age Cohort": "18 to 21",
          "Ethnicity": "White not Hispanic",
          "Expenditures": 10502,
          "Gender": "Female",
          "Id": 45962
         },
         {
          "Age": 13,
          "Age Cohort": "13 to 17",
          "Ethnicity": "White not Hispanic",
          "Expenditures": 5872,
          "Gender": "Male",
          "Id": 46063
         },
         {
          "Age": 33,
          "Age Cohort": "22 to 50",
          "Ethnicity": "White not Hispanic",
          "Expenditures": 27090,
          "Gender": "Male",
          "Id": 46251
         },
         {
          "Age": 32,
          "Age Cohort": "22 to 50",
          "Ethnicity": "Black",
          "Expenditures": 37697,
          "Gender": "Female",
          "Id": 46272
         },
         {
          "Age": 17,
          "Age Cohort": "13 to 17",
          "Ethnicity": "Hispanic",
          "Expenditures": 5040,
          "Gender": "Female",
          "Id": 46389
         },
         {
          "Age": 7,
          "Age Cohort": "6 to 12",
          "Ethnicity": "White not Hispanic",
          "Expenditures": 2415,
          "Gender": "Male",
          "Id": 46498
         },
         {
          "Age": 11,
          "Age Cohort": "6 to 12",
          "Ethnicity": "Hispanic",
          "Expenditures": 2167,
          "Gender": "Male",
          "Id": 46628
         },
         {
          "Age": 26,
          "Age Cohort": "22 to 50",
          "Ethnicity": "Asian",
          "Expenditures": 41144,
          "Gender": "Male",
          "Id": 46637
         },
         {
          "Age": 95,
          "Age Cohort": "51+",
          "Ethnicity": "Hispanic",
          "Expenditures": 55187,
          "Gender": "Male",
          "Id": 46726
         },
         {
          "Age": 66,
          "Age Cohort": "51+",
          "Ethnicity": "Black",
          "Expenditures": 49056,
          "Gender": "Male",
          "Id": 46876
         },
         {
          "Age": 35,
          "Age Cohort": "22 to 50",
          "Ethnicity": "White not Hispanic",
          "Expenditures": 32529,
          "Gender": "Female",
          "Id": 46945
         },
         {
          "Age": 16,
          "Age Cohort": "13 to 17",
          "Ethnicity": "White not Hispanic",
          "Expenditures": 3738,
          "Gender": "Female",
          "Id": 46977
         },
         {
          "Age": 25,
          "Age Cohort": "22 to 50",
          "Ethnicity": "Multi Race",
          "Expenditures": 38619,
          "Gender": "Male",
          "Id": 47043
         },
         {
          "Age": 30,
          "Age Cohort": "22 to 50",
          "Ethnicity": "Black",
          "Expenditures": 44910,
          "Gender": "Male",
          "Id": 47059
         },
         {
          "Age": 7,
          "Age Cohort": "6 to 12",
          "Ethnicity": "Hispanic",
          "Expenditures": 2797,
          "Gender": "Female",
          "Id": 47217
         },
         {
          "Age": 16,
          "Age Cohort": "13 to 17",
          "Ethnicity": "Hispanic",
          "Expenditures": 4975,
          "Gender": "Male",
          "Id": 47236
         },
         {
          "Age": 16,
          "Age Cohort": "13 to 17",
          "Ethnicity": "Asian",
          "Expenditures": 4067,
          "Gender": "Male",
          "Id": 47553
         },
         {
          "Age": 17,
          "Age Cohort": "13 to 17",
          "Ethnicity": "Black",
          "Expenditures": 4918,
          "Gender": "Male",
          "Id": 47748
         },
         {
          "Age": 31,
          "Age Cohort": "22 to 50",
          "Ethnicity": "Asian",
          "Expenditures": 47778,
          "Gender": "Female",
          "Id": 47809
         },
         {
          "Age": 9,
          "Age Cohort": "6 to 12",
          "Ethnicity": "Hispanic",
          "Expenditures": 2755,
          "Gender": "Male",
          "Id": 47887
         },
         {
          "Age": 22,
          "Age Cohort": "22 to 50",
          "Ethnicity": "White not Hispanic",
          "Expenditures": 27058,
          "Gender": "Male",
          "Id": 47979
         },
         {
          "Age": 64,
          "Age Cohort": "51+",
          "Ethnicity": "White not Hispanic",
          "Expenditures": 57119,
          "Gender": "Male",
          "Id": 47997
         },
         {
          "Age": 15,
          "Age Cohort": "13 to 17",
          "Ethnicity": "Asian",
          "Expenditures": 3728,
          "Gender": "Female",
          "Id": 48101
         },
         {
          "Age": 16,
          "Age Cohort": "13 to 17",
          "Ethnicity": "White not Hispanic",
          "Expenditures": 4550,
          "Gender": "Male",
          "Id": 48169
         },
         {
          "Age": 81,
          "Age Cohort": "51+",
          "Ethnicity": "Asian",
          "Expenditures": 75098,
          "Gender": "Female",
          "Id": 48328
         },
         {
          "Age": 9,
          "Age Cohort": "6 to 12",
          "Ethnicity": "Hispanic",
          "Expenditures": 2016,
          "Gender": "Female",
          "Id": 48353
         },
         {
          "Age": 7,
          "Age Cohort": "6 to 12",
          "Ethnicity": "Asian",
          "Expenditures": 1974,
          "Gender": "Male",
          "Id": 48653
         },
         {
          "Age": 21,
          "Age Cohort": "18 to 21",
          "Ethnicity": "Black",
          "Expenditures": 12259,
          "Gender": "Male",
          "Id": 48882
         },
         {
          "Age": 39,
          "Age Cohort": "22 to 50",
          "Ethnicity": "Black",
          "Expenditures": 36576,
          "Gender": "Male",
          "Id": 48938
         },
         {
          "Age": 13,
          "Age Cohort": "13 to 17",
          "Ethnicity": "Hispanic",
          "Expenditures": 2810,
          "Gender": "Male",
          "Id": 49026
         },
         {
          "Age": 16,
          "Age Cohort": "13 to 17",
          "Ethnicity": "Hispanic",
          "Expenditures": 3745,
          "Gender": "Male",
          "Id": 49094
         },
         {
          "Age": 10,
          "Age Cohort": "6 to 12",
          "Ethnicity": "Hispanic",
          "Expenditures": 2854,
          "Gender": "Female",
          "Id": 49199
         },
         {
          "Age": 1,
          "Age Cohort": "0 to 5",
          "Ethnicity": "Hispanic",
          "Expenditures": 1592,
          "Gender": "Female",
          "Id": 49285
         },
         {
          "Age": 13,
          "Age Cohort": "13 to 17",
          "Ethnicity": "White not Hispanic",
          "Expenditures": 4245,
          "Gender": "Male",
          "Id": 49463
         },
         {
          "Age": 16,
          "Age Cohort": "13 to 17",
          "Ethnicity": "Hispanic",
          "Expenditures": 3445,
          "Gender": "Male",
          "Id": 49506
         },
         {
          "Age": 18,
          "Age Cohort": "18 to 21",
          "Ethnicity": "Asian",
          "Expenditures": 3153,
          "Gender": "Male",
          "Id": 49533
         },
         {
          "Age": 65,
          "Age Cohort": "51+",
          "Ethnicity": "Asian",
          "Expenditures": 52076,
          "Gender": "Male",
          "Id": 49598
         },
         {
          "Age": 10,
          "Age Cohort": "6 to 12",
          "Ethnicity": "White not Hispanic",
          "Expenditures": 676,
          "Gender": "Male",
          "Id": 49631
         },
         {
          "Age": 16,
          "Age Cohort": "13 to 17",
          "Ethnicity": "Hispanic",
          "Expenditures": 4696,
          "Gender": "Female",
          "Id": 49818
         },
         {
          "Age": 16,
          "Age Cohort": "13 to 17",
          "Ethnicity": "Black",
          "Expenditures": 4949,
          "Gender": "Female",
          "Id": 49889
         },
         {
          "Age": 25,
          "Age Cohort": "22 to 50",
          "Ethnicity": "White not Hispanic",
          "Expenditures": 44916,
          "Gender": "Female",
          "Id": 49977
         },
         {
          "Age": 18,
          "Age Cohort": "18 to 21",
          "Ethnicity": "Asian",
          "Expenditures": 11125,
          "Gender": "Female",
          "Id": 50053
         },
         {
          "Age": 6,
          "Age Cohort": "6 to 12",
          "Ethnicity": "Hispanic",
          "Expenditures": 4163,
          "Gender": "Female",
          "Id": 50112
         },
         {
          "Age": 14,
          "Age Cohort": "13 to 17",
          "Ethnicity": "Hispanic",
          "Expenditures": 4608,
          "Gender": "Male",
          "Id": 50140
         },
         {
          "Age": 25,
          "Age Cohort": "22 to 50",
          "Ethnicity": "White not Hispanic",
          "Expenditures": 41752,
          "Gender": "Female",
          "Id": 50208
         },
         {
          "Age": 19,
          "Age Cohort": "18 to 21",
          "Ethnicity": "Multi Race",
          "Expenditures": 7564,
          "Gender": "Female",
          "Id": 50222
         },
         {
          "Age": 25,
          "Age Cohort": "22 to 50",
          "Ethnicity": "Hispanic",
          "Expenditures": 46951,
          "Gender": "Male",
          "Id": 50270
         },
         {
          "Age": 16,
          "Age Cohort": "13 to 17",
          "Ethnicity": "White not Hispanic",
          "Expenditures": 3555,
          "Gender": "Female",
          "Id": 50349
         },
         {
          "Age": 12,
          "Age Cohort": "6 to 12",
          "Ethnicity": "Hispanic",
          "Expenditures": 3562,
          "Gender": "Female",
          "Id": 50478
         },
         {
          "Age": 8,
          "Age Cohort": "6 to 12",
          "Ethnicity": "Hispanic",
          "Expenditures": 2746,
          "Gender": "Male",
          "Id": 50559
         },
         {
          "Age": 15,
          "Age Cohort": "13 to 17",
          "Ethnicity": "White not Hispanic",
          "Expenditures": 3015,
          "Gender": "Male",
          "Id": 50652
         },
         {
          "Age": 20,
          "Age Cohort": "18 to 21",
          "Ethnicity": "Asian",
          "Expenditures": 9369,
          "Gender": "Male",
          "Id": 50674
         },
         {
          "Age": 21,
          "Age Cohort": "18 to 21",
          "Ethnicity": "Hispanic",
          "Expenditures": 8469,
          "Gender": "Female",
          "Id": 50783
         },
         {
          "Age": 25,
          "Age Cohort": "22 to 50",
          "Ethnicity": "Black",
          "Expenditures": 48021,
          "Gender": "Female",
          "Id": 50849
         },
         {
          "Age": 18,
          "Age Cohort": "18 to 21",
          "Ethnicity": "White not Hispanic",
          "Expenditures": 11723,
          "Gender": "Male",
          "Id": 50913
         },
         {
          "Age": 14,
          "Age Cohort": "13 to 17",
          "Ethnicity": "Hispanic",
          "Expenditures": 4219,
          "Gender": "Male",
          "Id": 50989
         },
         {
          "Age": 75,
          "Age Cohort": "51+",
          "Ethnicity": "Hispanic",
          "Expenditures": 52147,
          "Gender": "Male",
          "Id": 51150
         },
         {
          "Age": 7,
          "Age Cohort": "6 to 12",
          "Ethnicity": "White not Hispanic",
          "Expenditures": 633,
          "Gender": "Female",
          "Id": 51253
         },
         {
          "Age": 11,
          "Age Cohort": "6 to 12",
          "Ethnicity": "Hispanic",
          "Expenditures": 1363,
          "Gender": "Female",
          "Id": 51259
         },
         {
          "Age": 14,
          "Age Cohort": "13 to 17",
          "Ethnicity": "Hispanic",
          "Expenditures": 3113,
          "Gender": "Male",
          "Id": 51290
         },
         {
          "Age": 13,
          "Age Cohort": "13 to 17",
          "Ethnicity": "White not Hispanic",
          "Expenditures": 3417,
          "Gender": "Male",
          "Id": 51420
         },
         {
          "Age": 7,
          "Age Cohort": "6 to 12",
          "Ethnicity": "Hispanic",
          "Expenditures": 776,
          "Gender": "Male",
          "Id": 51577
         },
         {
          "Age": 32,
          "Age Cohort": "22 to 50",
          "Ethnicity": "Hispanic",
          "Expenditures": 36827,
          "Gender": "Female",
          "Id": 51635
         },
         {
          "Age": 23,
          "Age Cohort": "22 to 50",
          "Ethnicity": "White not Hispanic",
          "Expenditures": 43333,
          "Gender": "Female",
          "Id": 51712
         },
         {
          "Age": 16,
          "Age Cohort": "13 to 17",
          "Ethnicity": "White not Hispanic",
          "Expenditures": 2054,
          "Gender": "Male",
          "Id": 51754
         },
         {
          "Age": 6,
          "Age Cohort": "6 to 12",
          "Ethnicity": "Asian",
          "Expenditures": 1335,
          "Gender": "Female",
          "Id": 51954
         },
         {
          "Age": 6,
          "Age Cohort": "6 to 12",
          "Ethnicity": "Black",
          "Expenditures": 1790,
          "Gender": "Female",
          "Id": 52067
         },
         {
          "Age": 19,
          "Age Cohort": "18 to 21",
          "Ethnicity": "Asian",
          "Expenditures": 10531,
          "Gender": "Female",
          "Id": 52073
         },
         {
          "Age": 12,
          "Age Cohort": "6 to 12",
          "Ethnicity": "Hispanic",
          "Expenditures": 3539,
          "Gender": "Female",
          "Id": 52177
         },
         {
          "Age": 19,
          "Age Cohort": "18 to 21",
          "Ethnicity": "Hispanic",
          "Expenditures": 10230,
          "Gender": "Male",
          "Id": 52217
         },
         {
          "Age": 27,
          "Age Cohort": "22 to 50",
          "Ethnicity": "White not Hispanic",
          "Expenditures": 42969,
          "Gender": "Female",
          "Id": 52373
         },
         {
          "Age": 24,
          "Age Cohort": "22 to 50",
          "Ethnicity": "White not Hispanic",
          "Expenditures": 48694,
          "Gender": "Male",
          "Id": 52722
         },
         {
          "Age": 30,
          "Age Cohort": "22 to 50",
          "Ethnicity": "Asian",
          "Expenditures": 33721,
          "Gender": "Male",
          "Id": 52727
         },
         {
          "Age": 30,
          "Age Cohort": "22 to 50",
          "Ethnicity": "White not Hispanic",
          "Expenditures": 42703,
          "Gender": "Female",
          "Id": 52794
         },
         {
          "Age": 30,
          "Age Cohort": "22 to 50",
          "Ethnicity": "White not Hispanic",
          "Expenditures": 35523,
          "Gender": "Male",
          "Id": 52868
         },
         {
          "Age": 18,
          "Age Cohort": "18 to 21",
          "Ethnicity": "Hispanic",
          "Expenditures": 8869,
          "Gender": "Female",
          "Id": 52887
         },
         {
          "Age": 55,
          "Age Cohort": "51+",
          "Ethnicity": "White not Hispanic",
          "Expenditures": 49554,
          "Gender": "Male",
          "Id": 52969
         },
         {
          "Age": 16,
          "Age Cohort": "13 to 17",
          "Ethnicity": "Other",
          "Expenditures": 2018,
          "Gender": "Female",
          "Id": 53008
         },
         {
          "Age": 10,
          "Age Cohort": "6 to 12",
          "Ethnicity": "White not Hispanic",
          "Expenditures": 2455,
          "Gender": "Female",
          "Id": 53083
         },
         {
          "Age": 6,
          "Age Cohort": "6 to 12",
          "Ethnicity": "Hispanic",
          "Expenditures": 3379,
          "Gender": "Female",
          "Id": 53225
         },
         {
          "Age": 14,
          "Age Cohort": "13 to 17",
          "Ethnicity": "Hispanic",
          "Expenditures": 3580,
          "Gender": "Female",
          "Id": 53288
         },
         {
          "Age": 71,
          "Age Cohort": "51+",
          "Ethnicity": "White not Hispanic",
          "Expenditures": 46719,
          "Gender": "Male",
          "Id": 53339
         },
         {
          "Age": 31,
          "Age Cohort": "22 to 50",
          "Ethnicity": "White not Hispanic",
          "Expenditures": 46437,
          "Gender": "Female",
          "Id": 53435
         },
         {
          "Age": 14,
          "Age Cohort": "13 to 17",
          "Ethnicity": "White not Hispanic",
          "Expenditures": 5514,
          "Gender": "Male",
          "Id": 53658
         },
         {
          "Age": 17,
          "Age Cohort": "13 to 17",
          "Ethnicity": "Hispanic",
          "Expenditures": 5228,
          "Gender": "Female",
          "Id": 53690
         },
         {
          "Age": 33,
          "Age Cohort": "22 to 50",
          "Ethnicity": "White not Hispanic",
          "Expenditures": 42265,
          "Gender": "Female",
          "Id": 53719
         },
         {
          "Age": 21,
          "Age Cohort": "18 to 21",
          "Ethnicity": "Hispanic",
          "Expenditures": 13129,
          "Gender": "Female",
          "Id": 53903
         },
         {
          "Age": 19,
          "Age Cohort": "18 to 21",
          "Ethnicity": "Asian",
          "Expenditures": 8714,
          "Gender": "Female",
          "Id": 53996
         },
         {
          "Age": 20,
          "Age Cohort": "18 to 21",
          "Ethnicity": "White not Hispanic",
          "Expenditures": 13248,
          "Gender": "Male",
          "Id": 54054
         },
         {
          "Age": 12,
          "Age Cohort": "6 to 12",
          "Ethnicity": "White not Hispanic",
          "Expenditures": 1262,
          "Gender": "Female",
          "Id": 54067
         },
         {
          "Age": 29,
          "Age Cohort": "22 to 50",
          "Ethnicity": "Asian",
          "Expenditures": 41013,
          "Gender": "Male",
          "Id": 54110
         },
         {
          "Age": 17,
          "Age Cohort": "13 to 17",
          "Ethnicity": "White not Hispanic",
          "Expenditures": 2948,
          "Gender": "Female",
          "Id": 54223
         },
         {
          "Age": 71,
          "Age Cohort": "51+",
          "Ethnicity": "Asian",
          "Expenditures": 55428,
          "Gender": "Female",
          "Id": 54252
         },
         {
          "Age": 25,
          "Age Cohort": "22 to 50",
          "Ethnicity": "Black",
          "Expenditures": 38085,
          "Gender": "Male",
          "Id": 54406
         },
         {
          "Age": 13,
          "Age Cohort": "13 to 17",
          "Ethnicity": "White not Hispanic",
          "Expenditures": 4005,
          "Gender": "Female",
          "Id": 54675
         },
         {
          "Age": 10,
          "Age Cohort": "6 to 12",
          "Ethnicity": "Hispanic",
          "Expenditures": 4152,
          "Gender": "Female",
          "Id": 55043
         },
         {
          "Age": 95,
          "Age Cohort": "51+",
          "Ethnicity": "Black",
          "Expenditures": 54680,
          "Gender": "Female",
          "Id": 55056
         },
         {
          "Age": 15,
          "Age Cohort": "13 to 17",
          "Ethnicity": "Hispanic",
          "Expenditures": 3190,
          "Gender": "Female",
          "Id": 55115
         },
         {
          "Age": 15,
          "Age Cohort": "13 to 17",
          "Ethnicity": "Hispanic",
          "Expenditures": 3443,
          "Gender": "Male",
          "Id": 55162
         },
         {
          "Age": 45,
          "Age Cohort": "22 to 50",
          "Ethnicity": "Black",
          "Expenditures": 46132,
          "Gender": "Male",
          "Id": 55300
         },
         {
          "Age": 17,
          "Age Cohort": "13 to 17",
          "Ethnicity": "Hispanic",
          "Expenditures": 2184,
          "Gender": "Female",
          "Id": 55314
         },
         {
          "Age": 16,
          "Age Cohort": "13 to 17",
          "Ethnicity": "Hispanic",
          "Expenditures": 5412,
          "Gender": "Male",
          "Id": 55345
         },
         {
          "Age": 24,
          "Age Cohort": "22 to 50",
          "Ethnicity": "White not Hispanic",
          "Expenditures": 37133,
          "Gender": "Male",
          "Id": 55424
         },
         {
          "Age": 0,
          "Age Cohort": "0 to 5",
          "Ethnicity": "Asian",
          "Expenditures": 2532,
          "Gender": "Female",
          "Id": 55442
         },
         {
          "Age": 15,
          "Age Cohort": "13 to 17",
          "Ethnicity": "Hispanic",
          "Expenditures": 4527,
          "Gender": "Female",
          "Id": 55877
         },
         {
          "Age": 15,
          "Age Cohort": "13 to 17",
          "Ethnicity": "White not Hispanic",
          "Expenditures": 3055,
          "Gender": "Female",
          "Id": 55882
         },
         {
          "Age": 32,
          "Age Cohort": "22 to 50",
          "Ethnicity": "White not Hispanic",
          "Expenditures": 40587,
          "Gender": "Male",
          "Id": 55958
         },
         {
          "Age": 21,
          "Age Cohort": "18 to 21",
          "Ethnicity": "White not Hispanic",
          "Expenditures": 7488,
          "Gender": "Male",
          "Id": 56063
         },
         {
          "Age": 20,
          "Age Cohort": "18 to 21",
          "Ethnicity": "White not Hispanic",
          "Expenditures": 9540,
          "Gender": "Female",
          "Id": 56109
         },
         {
          "Age": 12,
          "Age Cohort": "6 to 12",
          "Ethnicity": "Hispanic",
          "Expenditures": 3003,
          "Gender": "Female",
          "Id": 56202
         },
         {
          "Age": 19,
          "Age Cohort": "18 to 21",
          "Ethnicity": "Hispanic",
          "Expenditures": 7122,
          "Gender": "Female",
          "Id": 56203
         },
         {
          "Age": 7,
          "Age Cohort": "6 to 12",
          "Ethnicity": "Hispanic",
          "Expenditures": 2191,
          "Gender": "Female",
          "Id": 56309
         },
         {
          "Age": 68,
          "Age Cohort": "51+",
          "Ethnicity": "Hispanic",
          "Expenditures": 57363,
          "Gender": "Male",
          "Id": 56318
         },
         {
          "Age": 16,
          "Age Cohort": "13 to 17",
          "Ethnicity": "Hispanic",
          "Expenditures": 1641,
          "Gender": "Female",
          "Id": 56400
         },
         {
          "Age": 26,
          "Age Cohort": "22 to 50",
          "Ethnicity": "White not Hispanic",
          "Expenditures": 37347,
          "Gender": "Male",
          "Id": 56533
         },
         {
          "Age": 20,
          "Age Cohort": "18 to 21",
          "Ethnicity": "White not Hispanic",
          "Expenditures": 15278,
          "Gender": "Female",
          "Id": 56539
         },
         {
          "Age": 20,
          "Age Cohort": "18 to 21",
          "Ethnicity": "White not Hispanic",
          "Expenditures": 11070,
          "Gender": "Female",
          "Id": 56552
         },
         {
          "Age": 21,
          "Age Cohort": "18 to 21",
          "Ethnicity": "White not Hispanic",
          "Expenditures": 9805,
          "Gender": "Female",
          "Id": 56576
         },
         {
          "Age": 88,
          "Age Cohort": "51+",
          "Ethnicity": "Hispanic",
          "Expenditures": 54875,
          "Gender": "Male",
          "Id": 56592
         },
         {
          "Age": 18,
          "Age Cohort": "18 to 21",
          "Ethnicity": "Multi Race",
          "Expenditures": 11054,
          "Gender": "Female",
          "Id": 56736
         },
         {
          "Age": 72,
          "Age Cohort": "51+",
          "Ethnicity": "White not Hispanic",
          "Expenditures": 53834,
          "Gender": "Male",
          "Id": 56738
         },
         {
          "Age": 29,
          "Age Cohort": "22 to 50",
          "Ethnicity": "Hispanic",
          "Expenditures": 42041,
          "Gender": "Female",
          "Id": 56802
         },
         {
          "Age": 21,
          "Age Cohort": "18 to 21",
          "Ethnicity": "White not Hispanic",
          "Expenditures": 11202,
          "Gender": "Female",
          "Id": 56808
         },
         {
          "Age": 64,
          "Age Cohort": "51+",
          "Ethnicity": "White not Hispanic",
          "Expenditures": 60774,
          "Gender": "Female",
          "Id": 56855
         },
         {
          "Age": 22,
          "Age Cohort": "22 to 50",
          "Ethnicity": "Hispanic",
          "Expenditures": 47954,
          "Gender": "Female",
          "Id": 57039
         },
         {
          "Age": 23,
          "Age Cohort": "22 to 50",
          "Ethnicity": "White not Hispanic",
          "Expenditures": 36180,
          "Gender": "Male",
          "Id": 57141
         },
         {
          "Age": 5,
          "Age Cohort": "0 to 5",
          "Ethnicity": "Hispanic",
          "Expenditures": 1632,
          "Gender": "Female",
          "Id": 57419
         },
         {
          "Age": 6,
          "Age Cohort": "6 to 12",
          "Ethnicity": "Black",
          "Expenditures": 3948,
          "Gender": "Male",
          "Id": 57420
         },
         {
          "Age": 19,
          "Age Cohort": "18 to 21",
          "Ethnicity": "White not Hispanic",
          "Expenditures": 12882,
          "Gender": "Female",
          "Id": 57504
         },
         {
          "Age": 19,
          "Age Cohort": "18 to 21",
          "Ethnicity": "Asian",
          "Expenditures": 8700,
          "Gender": "Female",
          "Id": 57550
         },
         {
          "Age": 19,
          "Age Cohort": "18 to 21",
          "Ethnicity": "Hispanic",
          "Expenditures": 11986,
          "Gender": "Male",
          "Id": 57601
         },
         {
          "Age": 62,
          "Age Cohort": "51+",
          "Ethnicity": "Hispanic",
          "Expenditures": 47420,
          "Gender": "Male",
          "Id": 57670
         },
         {
          "Age": 17,
          "Age Cohort": "13 to 17",
          "Ethnicity": "Hispanic",
          "Expenditures": 4300,
          "Gender": "Male",
          "Id": 57874
         },
         {
          "Age": 13,
          "Age Cohort": "13 to 17",
          "Ethnicity": "Hispanic",
          "Expenditures": 4787,
          "Gender": "Male",
          "Id": 57961
         },
         {
          "Age": 12,
          "Age Cohort": "6 to 12",
          "Ethnicity": "Hispanic",
          "Expenditures": 2339,
          "Gender": "Female",
          "Id": 58075
         },
         {
          "Age": 15,
          "Age Cohort": "13 to 17",
          "Ethnicity": "Hispanic",
          "Expenditures": 4345,
          "Gender": "Female",
          "Id": 58136
         },
         {
          "Age": 14,
          "Age Cohort": "13 to 17",
          "Ethnicity": "White not Hispanic",
          "Expenditures": 4768,
          "Gender": "Female",
          "Id": 58293
         },
         {
          "Age": 80,
          "Age Cohort": "51+",
          "Ethnicity": "White not Hispanic",
          "Expenditures": 57821,
          "Gender": "Male",
          "Id": 58317
         },
         {
          "Age": 20,
          "Age Cohort": "18 to 21",
          "Ethnicity": "Hispanic",
          "Expenditures": 9061,
          "Gender": "Female",
          "Id": 58357
         },
         {
          "Age": 6,
          "Age Cohort": "6 to 12",
          "Ethnicity": "Asian",
          "Expenditures": 3530,
          "Gender": "Female",
          "Id": 58565
         },
         {
          "Age": 21,
          "Age Cohort": "18 to 21",
          "Ethnicity": "Hispanic",
          "Expenditures": 4931,
          "Gender": "Male",
          "Id": 58680
         },
         {
          "Age": 21,
          "Age Cohort": "18 to 21",
          "Ethnicity": "Asian",
          "Expenditures": 10385,
          "Gender": "Male",
          "Id": 58838
         },
         {
          "Age": 17,
          "Age Cohort": "13 to 17",
          "Ethnicity": "White not Hispanic",
          "Expenditures": 3904,
          "Gender": "Male",
          "Id": 58862
         },
         {
          "Age": 8,
          "Age Cohort": "6 to 12",
          "Ethnicity": "White not Hispanic",
          "Expenditures": 2590,
          "Gender": "Male",
          "Id": 58870
         },
         {
          "Age": 34,
          "Age Cohort": "22 to 50",
          "Ethnicity": "Black",
          "Expenditures": 41522,
          "Gender": "Female",
          "Id": 58884
         },
         {
          "Age": 27,
          "Age Cohort": "22 to 50",
          "Ethnicity": "White not Hispanic",
          "Expenditures": 40156,
          "Gender": "Female",
          "Id": 59001
         },
         {
          "Age": 18,
          "Age Cohort": "18 to 21",
          "Ethnicity": "Hispanic",
          "Expenditures": 11479,
          "Gender": "Male",
          "Id": 59079
         },
         {
          "Age": 15,
          "Age Cohort": "13 to 17",
          "Ethnicity": "Hispanic",
          "Expenditures": 4798,
          "Gender": "Female",
          "Id": 59154
         },
         {
          "Age": 83,
          "Age Cohort": "51+",
          "Ethnicity": "White not Hispanic",
          "Expenditures": 58803,
          "Gender": "Male",
          "Id": 59206
         },
         {
          "Age": 21,
          "Age Cohort": "18 to 21",
          "Ethnicity": "White not Hispanic",
          "Expenditures": 16133,
          "Gender": "Male",
          "Id": 59275
         },
         {
          "Age": 64,
          "Age Cohort": "51+",
          "Ethnicity": "Asian",
          "Expenditures": 51599,
          "Gender": "Male",
          "Id": 59332
         },
         {
          "Age": 26,
          "Age Cohort": "22 to 50",
          "Ethnicity": "White not Hispanic",
          "Expenditures": 45507,
          "Gender": "Female",
          "Id": 59343
         },
         {
          "Age": 8,
          "Age Cohort": "6 to 12",
          "Ethnicity": "White not Hispanic",
          "Expenditures": 3544,
          "Gender": "Female",
          "Id": 59467
         },
         {
          "Age": 9,
          "Age Cohort": "6 to 12",
          "Ethnicity": "Hispanic",
          "Expenditures": 1713,
          "Gender": "Female",
          "Id": 59660
         },
         {
          "Age": 14,
          "Age Cohort": "13 to 17",
          "Ethnicity": "Hispanic",
          "Expenditures": 2462,
          "Gender": "Female",
          "Id": 59753
         },
         {
          "Age": 19,
          "Age Cohort": "18 to 21",
          "Ethnicity": "White not Hispanic",
          "Expenditures": 11816,
          "Gender": "Male",
          "Id": 59881
         },
         {
          "Age": 17,
          "Age Cohort": "13 to 17",
          "Ethnicity": "White not Hispanic",
          "Expenditures": 4531,
          "Gender": "Male",
          "Id": 60002
         },
         {
          "Age": 35,
          "Age Cohort": "22 to 50",
          "Ethnicity": "White not Hispanic",
          "Expenditures": 36607,
          "Gender": "Female",
          "Id": 60018
         },
         {
          "Age": 15,
          "Age Cohort": "13 to 17",
          "Ethnicity": "Hispanic",
          "Expenditures": 4884,
          "Gender": "Female",
          "Id": 60037
         },
         {
          "Age": 14,
          "Age Cohort": "13 to 17",
          "Ethnicity": "Hispanic",
          "Expenditures": 4058,
          "Gender": "Male",
          "Id": 60292
         },
         {
          "Age": 5,
          "Age Cohort": "0 to 5",
          "Ethnicity": "White not Hispanic",
          "Expenditures": 2019,
          "Gender": "Female",
          "Id": 60348
         },
         {
          "Age": 7,
          "Age Cohort": "6 to 12",
          "Ethnicity": "Hispanic",
          "Expenditures": 3464,
          "Gender": "Female",
          "Id": 60352
         },
         {
          "Age": 12,
          "Age Cohort": "6 to 12",
          "Ethnicity": "Hispanic",
          "Expenditures": 1539,
          "Gender": "Male",
          "Id": 60372
         },
         {
          "Age": 16,
          "Age Cohort": "13 to 17",
          "Ethnicity": "White not Hispanic",
          "Expenditures": 5224,
          "Gender": "Male",
          "Id": 60425
         },
         {
          "Age": 62,
          "Age Cohort": "51+",
          "Ethnicity": "Asian",
          "Expenditures": 49075,
          "Gender": "Female",
          "Id": 60508
         },
         {
          "Age": 69,
          "Age Cohort": "51+",
          "Ethnicity": "White not Hispanic",
          "Expenditures": 59682,
          "Gender": "Male",
          "Id": 60572
         },
         {
          "Age": 21,
          "Age Cohort": "18 to 21",
          "Ethnicity": "Hispanic",
          "Expenditures": 5066,
          "Gender": "Female",
          "Id": 60676
         },
         {
          "Age": 20,
          "Age Cohort": "18 to 21",
          "Ethnicity": "Black",
          "Expenditures": 5583,
          "Gender": "Male",
          "Id": 60864
         },
         {
          "Age": 4,
          "Age Cohort": "0 to 5",
          "Ethnicity": "Hispanic",
          "Expenditures": 456,
          "Gender": "Female",
          "Id": 61004
         },
         {
          "Age": 0,
          "Age Cohort": "0 to 5",
          "Ethnicity": "Hispanic",
          "Expenditures": 1147,
          "Gender": "Female",
          "Id": 61019
         },
         {
          "Age": 37,
          "Age Cohort": "22 to 50",
          "Ethnicity": "White not Hispanic",
          "Expenditures": 30627,
          "Gender": "Male",
          "Id": 61051
         },
         {
          "Age": 7,
          "Age Cohort": "6 to 12",
          "Ethnicity": "Multi Race",
          "Expenditures": 3000,
          "Gender": "Male",
          "Id": 61120
         },
         {
          "Age": 11,
          "Age Cohort": "6 to 12",
          "Ethnicity": "Multi Race",
          "Expenditures": 2885,
          "Gender": "Male",
          "Id": 61187
         },
         {
          "Age": 20,
          "Age Cohort": "18 to 21",
          "Ethnicity": "Asian",
          "Expenditures": 6255,
          "Gender": "Male",
          "Id": 61192
         },
         {
          "Age": 18,
          "Age Cohort": "18 to 21",
          "Ethnicity": "White not Hispanic",
          "Expenditures": 10068,
          "Gender": "Female",
          "Id": 61329
         },
         {
          "Age": 14,
          "Age Cohort": "13 to 17",
          "Ethnicity": "Black",
          "Expenditures": 5025,
          "Gender": "Male",
          "Id": 61449
         },
         {
          "Age": 1,
          "Age Cohort": "0 to 5",
          "Ethnicity": "Asian",
          "Expenditures": 2157,
          "Gender": "Female",
          "Id": 61467
         },
         {
          "Age": 13,
          "Age Cohort": "13 to 17",
          "Ethnicity": "American Indian",
          "Expenditures": 3726,
          "Gender": "Female",
          "Id": 61498
         },
         {
          "Age": 11,
          "Age Cohort": "6 to 12",
          "Ethnicity": "Hispanic",
          "Expenditures": 1286,
          "Gender": "Male",
          "Id": 61570
         },
         {
          "Age": 24,
          "Age Cohort": "22 to 50",
          "Ethnicity": "White not Hispanic",
          "Expenditures": 47674,
          "Gender": "Female",
          "Id": 61588
         },
         {
          "Age": 21,
          "Age Cohort": "18 to 21",
          "Ethnicity": "Hispanic",
          "Expenditures": 4731,
          "Gender": "Female",
          "Id": 61654
         },
         {
          "Age": 16,
          "Age Cohort": "13 to 17",
          "Ethnicity": "White not Hispanic",
          "Expenditures": 3839,
          "Gender": "Male",
          "Id": 61680
         },
         {
          "Age": 13,
          "Age Cohort": "13 to 17",
          "Ethnicity": "White not Hispanic",
          "Expenditures": 1195,
          "Gender": "Female",
          "Id": 61785
         },
         {
          "Age": 24,
          "Age Cohort": "22 to 50",
          "Ethnicity": "Asian",
          "Expenditures": 46911,
          "Gender": "Female",
          "Id": 61806
         },
         {
          "Age": 17,
          "Age Cohort": "13 to 17",
          "Ethnicity": "Hispanic",
          "Expenditures": 3629,
          "Gender": "Male",
          "Id": 61887
         },
         {
          "Age": 52,
          "Age Cohort": "51+",
          "Ethnicity": "White not Hispanic",
          "Expenditures": 48826,
          "Gender": "Female",
          "Id": 61944
         },
         {
          "Age": 21,
          "Age Cohort": "18 to 21",
          "Ethnicity": "White not Hispanic",
          "Expenditures": 15718,
          "Gender": "Male",
          "Id": 61951
         },
         {
          "Age": 19,
          "Age Cohort": "18 to 21",
          "Ethnicity": "Hispanic",
          "Expenditures": 5616,
          "Gender": "Female",
          "Id": 61954
         },
         {
          "Age": 29,
          "Age Cohort": "22 to 50",
          "Ethnicity": "White not Hispanic",
          "Expenditures": 34708,
          "Gender": "Male",
          "Id": 62150
         },
         {
          "Age": 17,
          "Age Cohort": "13 to 17",
          "Ethnicity": "Asian",
          "Expenditures": 3075,
          "Gender": "Male",
          "Id": 62191
         },
         {
          "Age": 21,
          "Age Cohort": "18 to 21",
          "Ethnicity": "White not Hispanic",
          "Expenditures": 6669,
          "Gender": "Female",
          "Id": 62282
         },
         {
          "Age": 23,
          "Age Cohort": "22 to 50",
          "Ethnicity": "White not Hispanic",
          "Expenditures": 39693,
          "Gender": "Male",
          "Id": 62302
         },
         {
          "Age": 9,
          "Age Cohort": "6 to 12",
          "Ethnicity": "White not Hispanic",
          "Expenditures": 3552,
          "Gender": "Male",
          "Id": 62342
         },
         {
          "Age": 23,
          "Age Cohort": "22 to 50",
          "Ethnicity": "Hispanic",
          "Expenditures": 27845,
          "Gender": "Female",
          "Id": 62485
         },
         {
          "Age": 10,
          "Age Cohort": "6 to 12",
          "Ethnicity": "Hispanic",
          "Expenditures": 2409,
          "Gender": "Female",
          "Id": 62691
         },
         {
          "Age": 8,
          "Age Cohort": "6 to 12",
          "Ethnicity": "White not Hispanic",
          "Expenditures": 2122,
          "Gender": "Female",
          "Id": 62913
         },
         {
          "Age": 33,
          "Age Cohort": "22 to 50",
          "Ethnicity": "White not Hispanic",
          "Expenditures": 42458,
          "Gender": "Female",
          "Id": 62935
         },
         {
          "Age": 22,
          "Age Cohort": "22 to 50",
          "Ethnicity": "White not Hispanic",
          "Expenditures": 40648,
          "Gender": "Male",
          "Id": 62957
         },
         {
          "Age": 27,
          "Age Cohort": "22 to 50",
          "Ethnicity": "Asian",
          "Expenditures": 36712,
          "Gender": "Male",
          "Id": 63343
         },
         {
          "Age": 22,
          "Age Cohort": "22 to 50",
          "Ethnicity": "White not Hispanic",
          "Expenditures": 31138,
          "Gender": "Male",
          "Id": 63363
         },
         {
          "Age": 15,
          "Age Cohort": "13 to 17",
          "Ethnicity": "Asian",
          "Expenditures": 2917,
          "Gender": "Female",
          "Id": 63384
         },
         {
          "Age": 68,
          "Age Cohort": "51+",
          "Ethnicity": "White not Hispanic",
          "Expenditures": 43945,
          "Gender": "Male",
          "Id": 63810
         },
         {
          "Age": 27,
          "Age Cohort": "22 to 50",
          "Ethnicity": "White not Hispanic",
          "Expenditures": 49793,
          "Gender": "Male",
          "Id": 63833
         },
         {
          "Age": 20,
          "Age Cohort": "18 to 21",
          "Ethnicity": "Hispanic",
          "Expenditures": 10247,
          "Gender": "Female",
          "Id": 63959
         },
         {
          "Age": 59,
          "Age Cohort": "51+",
          "Ethnicity": "White not Hispanic",
          "Expenditures": 33110,
          "Gender": "Male",
          "Id": 63992
         },
         {
          "Age": 6,
          "Age Cohort": "6 to 12",
          "Ethnicity": "White not Hispanic",
          "Expenditures": 1722,
          "Gender": "Female",
          "Id": 64041
         },
         {
          "Age": 75,
          "Age Cohort": "51+",
          "Ethnicity": "White not Hispanic",
          "Expenditures": 50261,
          "Gender": "Male",
          "Id": 64083
         },
         {
          "Age": 8,
          "Age Cohort": "6 to 12",
          "Ethnicity": "Hispanic",
          "Expenditures": 2153,
          "Gender": "Male",
          "Id": 64181
         },
         {
          "Age": 12,
          "Age Cohort": "6 to 12",
          "Ethnicity": "Hispanic",
          "Expenditures": 847,
          "Gender": "Male",
          "Id": 64182
         },
         {
          "Age": 66,
          "Age Cohort": "51+",
          "Ethnicity": "White not Hispanic",
          "Expenditures": 50910,
          "Gender": "Female",
          "Id": 64192
         },
         {
          "Age": 20,
          "Age Cohort": "18 to 21",
          "Ethnicity": "Hispanic",
          "Expenditures": 11470,
          "Gender": "Male",
          "Id": 64319
         },
         {
          "Age": 10,
          "Age Cohort": "6 to 12",
          "Ethnicity": "Black",
          "Expenditures": 3584,
          "Gender": "Female",
          "Id": 64421
         },
         {
          "Age": 17,
          "Age Cohort": "13 to 17",
          "Ethnicity": "White not Hispanic",
          "Expenditures": 2722,
          "Gender": "Female",
          "Id": 64429
         },
         {
          "Age": 63,
          "Age Cohort": "51+",
          "Ethnicity": "White not Hispanic",
          "Expenditures": 48614,
          "Gender": "Male",
          "Id": 64820
         },
         {
          "Age": 18,
          "Age Cohort": "18 to 21",
          "Ethnicity": "White not Hispanic",
          "Expenditures": 6991,
          "Gender": "Male",
          "Id": 64829
         },
         {
          "Age": 16,
          "Age Cohort": "13 to 17",
          "Ethnicity": "Hispanic",
          "Expenditures": 3698,
          "Gender": "Female",
          "Id": 64899
         },
         {
          "Age": 28,
          "Age Cohort": "22 to 50",
          "Ethnicity": "Asian",
          "Expenditures": 33278,
          "Gender": "Male",
          "Id": 65036
         },
         {
          "Age": 54,
          "Age Cohort": "51+",
          "Ethnicity": "Native Hawaiian",
          "Expenditures": 50141,
          "Gender": "Female",
          "Id": 65255
         },
         {
          "Age": 5,
          "Age Cohort": "0 to 5",
          "Ethnicity": "Hispanic",
          "Expenditures": 2308,
          "Gender": "Female",
          "Id": 65274
         },
         {
          "Age": 17,
          "Age Cohort": "13 to 17",
          "Ethnicity": "Hispanic",
          "Expenditures": 4527,
          "Gender": "Male",
          "Id": 65331
         },
         {
          "Age": 6,
          "Age Cohort": "6 to 12",
          "Ethnicity": "Hispanic",
          "Expenditures": 1254,
          "Gender": "Female",
          "Id": 65394
         },
         {
          "Age": 16,
          "Age Cohort": "13 to 17",
          "Ethnicity": "White not Hispanic",
          "Expenditures": 4017,
          "Gender": "Male",
          "Id": 65419
         },
         {
          "Age": 53,
          "Age Cohort": "51+",
          "Ethnicity": "White not Hispanic",
          "Expenditures": 53457,
          "Gender": "Male",
          "Id": 65431
         },
         {
          "Age": 20,
          "Age Cohort": "18 to 21",
          "Ethnicity": "White not Hispanic",
          "Expenditures": 6829,
          "Gender": "Male",
          "Id": 65619
         },
         {
          "Age": 10,
          "Age Cohort": "6 to 12",
          "Ethnicity": "Hispanic",
          "Expenditures": 1110,
          "Gender": "Male",
          "Id": 65675
         },
         {
          "Age": 15,
          "Age Cohort": "13 to 17",
          "Ethnicity": "Hispanic",
          "Expenditures": 3423,
          "Gender": "Male",
          "Id": 65787
         },
         {
          "Age": 12,
          "Age Cohort": "6 to 12",
          "Ethnicity": "Hispanic",
          "Expenditures": 1184,
          "Gender": "Male",
          "Id": 65901
         },
         {
          "Age": 12,
          "Age Cohort": "6 to 12",
          "Ethnicity": "Black",
          "Expenditures": 1854,
          "Gender": "Male",
          "Id": 65907
         },
         {
          "Age": 12,
          "Age Cohort": "6 to 12",
          "Ethnicity": "Hispanic",
          "Expenditures": 1689,
          "Gender": "Male",
          "Id": 66098
         },
         {
          "Age": 18,
          "Age Cohort": "18 to 21",
          "Ethnicity": "Asian",
          "Expenditures": 10535,
          "Gender": "Male",
          "Id": 66116
         },
         {
          "Age": 10,
          "Age Cohort": "6 to 12",
          "Ethnicity": "Hispanic",
          "Expenditures": 1560,
          "Gender": "Male",
          "Id": 66375
         },
         {
          "Age": 18,
          "Age Cohort": "18 to 21",
          "Ethnicity": "Asian",
          "Expenditures": 6620,
          "Gender": "Male",
          "Id": 66446
         },
         {
          "Age": 19,
          "Age Cohort": "18 to 21",
          "Ethnicity": "Hispanic",
          "Expenditures": 14729,
          "Gender": "Male",
          "Id": 66577
         },
         {
          "Age": 23,
          "Age Cohort": "22 to 50",
          "Ethnicity": "White not Hispanic",
          "Expenditures": 40394,
          "Gender": "Female",
          "Id": 66734
         },
         {
          "Age": 17,
          "Age Cohort": "13 to 17",
          "Ethnicity": "White not Hispanic",
          "Expenditures": 3520,
          "Gender": "Male",
          "Id": 66769
         },
         {
          "Age": 19,
          "Age Cohort": "18 to 21",
          "Ethnicity": "Hispanic",
          "Expenditures": 14926,
          "Gender": "Female",
          "Id": 66818
         },
         {
          "Age": 26,
          "Age Cohort": "22 to 50",
          "Ethnicity": "White not Hispanic",
          "Expenditures": 44588,
          "Gender": "Female",
          "Id": 66840
         },
         {
          "Age": 52,
          "Age Cohort": "51+",
          "Ethnicity": "White not Hispanic",
          "Expenditures": 39536,
          "Gender": "Male",
          "Id": 66841
         },
         {
          "Age": 24,
          "Age Cohort": "22 to 50",
          "Ethnicity": "White not Hispanic",
          "Expenditures": 45735,
          "Gender": "Female",
          "Id": 67058
         },
         {
          "Age": 11,
          "Age Cohort": "6 to 12",
          "Ethnicity": "Hispanic",
          "Expenditures": 2143,
          "Gender": "Female",
          "Id": 67230
         },
         {
          "Age": 22,
          "Age Cohort": "22 to 50",
          "Ethnicity": "White not Hispanic",
          "Expenditures": 44002,
          "Gender": "Female",
          "Id": 67231
         },
         {
          "Age": 18,
          "Age Cohort": "18 to 21",
          "Ethnicity": "Hispanic",
          "Expenditures": 8511,
          "Gender": "Male",
          "Id": 67248
         },
         {
          "Age": 65,
          "Age Cohort": "51+",
          "Ethnicity": "Black",
          "Expenditures": 55442,
          "Gender": "Male",
          "Id": 67343
         },
         {
          "Age": 18,
          "Age Cohort": "18 to 21",
          "Ethnicity": "Asian",
          "Expenditures": 9846,
          "Gender": "Male",
          "Id": 67403
         },
         {
          "Age": 23,
          "Age Cohort": "22 to 50",
          "Ethnicity": "Hispanic",
          "Expenditures": 49548,
          "Gender": "Male",
          "Id": 67408
         },
         {
          "Age": 6,
          "Age Cohort": "6 to 12",
          "Ethnicity": "Hispanic",
          "Expenditures": 2493,
          "Gender": "Male",
          "Id": 67535
         },
         {
          "Age": 20,
          "Age Cohort": "18 to 21",
          "Ethnicity": "Hispanic",
          "Expenditures": 13579,
          "Gender": "Female",
          "Id": 67616
         },
         {
          "Age": 33,
          "Age Cohort": "22 to 50",
          "Ethnicity": "White not Hispanic",
          "Expenditures": 44765,
          "Gender": "Male",
          "Id": 67660
         },
         {
          "Age": 39,
          "Age Cohort": "22 to 50",
          "Ethnicity": "Hispanic",
          "Expenditures": 36621,
          "Gender": "Male",
          "Id": 67740
         },
         {
          "Age": 27,
          "Age Cohort": "22 to 50",
          "Ethnicity": "White not Hispanic",
          "Expenditures": 50301,
          "Gender": "Male",
          "Id": 67805
         },
         {
          "Age": 27,
          "Age Cohort": "22 to 50",
          "Ethnicity": "Asian",
          "Expenditures": 32886,
          "Gender": "Female",
          "Id": 67978
         },
         {
          "Age": 36,
          "Age Cohort": "22 to 50",
          "Ethnicity": "Black",
          "Expenditures": 38400,
          "Gender": "Male",
          "Id": 68112
         },
         {
          "Age": 18,
          "Age Cohort": "18 to 21",
          "Ethnicity": "White not Hispanic",
          "Expenditures": 10299,
          "Gender": "Male",
          "Id": 68296
         },
         {
          "Age": 25,
          "Age Cohort": "22 to 50",
          "Ethnicity": "White not Hispanic",
          "Expenditures": 34425,
          "Gender": "Male",
          "Id": 68353
         },
         {
          "Age": 27,
          "Age Cohort": "22 to 50",
          "Ethnicity": "White not Hispanic",
          "Expenditures": 38331,
          "Gender": "Male",
          "Id": 68357
         },
         {
          "Age": 11,
          "Age Cohort": "6 to 12",
          "Ethnicity": "Hispanic",
          "Expenditures": 2498,
          "Gender": "Male",
          "Id": 68378
         },
         {
          "Age": 20,
          "Age Cohort": "18 to 21",
          "Ethnicity": "Asian",
          "Expenditures": 6771,
          "Gender": "Female",
          "Id": 68507
         },
         {
          "Age": 20,
          "Age Cohort": "18 to 21",
          "Ethnicity": "Asian",
          "Expenditures": 12265,
          "Gender": "Male",
          "Id": 68570
         },
         {
          "Age": 27,
          "Age Cohort": "22 to 50",
          "Ethnicity": "White not Hispanic",
          "Expenditures": 50353,
          "Gender": "Male",
          "Id": 68685
         },
         {
          "Age": 16,
          "Age Cohort": "13 to 17",
          "Ethnicity": "Hispanic",
          "Expenditures": 2797,
          "Gender": "Female",
          "Id": 68697
         },
         {
          "Age": 8,
          "Age Cohort": "6 to 12",
          "Ethnicity": "Black",
          "Expenditures": 1733,
          "Gender": "Female",
          "Id": 68724
         },
         {
          "Age": 10,
          "Age Cohort": "6 to 12",
          "Ethnicity": "White not Hispanic",
          "Expenditures": 992,
          "Gender": "Female",
          "Id": 68759
         },
         {
          "Age": 5,
          "Age Cohort": "0 to 5",
          "Ethnicity": "Asian",
          "Expenditures": 1339,
          "Gender": "Female",
          "Id": 68824
         },
         {
          "Age": 8,
          "Age Cohort": "6 to 12",
          "Ethnicity": "Asian",
          "Expenditures": 1594,
          "Gender": "Male",
          "Id": 68830
         },
         {
          "Age": 13,
          "Age Cohort": "13 to 17",
          "Ethnicity": "White not Hispanic",
          "Expenditures": 3332,
          "Gender": "Female",
          "Id": 68863
         },
         {
          "Age": 13,
          "Age Cohort": "13 to 17",
          "Ethnicity": "Hispanic",
          "Expenditures": 4963,
          "Gender": "Male",
          "Id": 68944
         },
         {
          "Age": 8,
          "Age Cohort": "6 to 12",
          "Ethnicity": "Hispanic",
          "Expenditures": 1417,
          "Gender": "Female",
          "Id": 68956
         },
         {
          "Age": 18,
          "Age Cohort": "18 to 21",
          "Ethnicity": "White not Hispanic",
          "Expenditures": 10969,
          "Gender": "Female",
          "Id": 69156
         },
         {
          "Age": 9,
          "Age Cohort": "6 to 12",
          "Ethnicity": "Hispanic",
          "Expenditures": 2643,
          "Gender": "Male",
          "Id": 69282
         },
         {
          "Age": 20,
          "Age Cohort": "18 to 21",
          "Ethnicity": "Asian",
          "Expenditures": 10976,
          "Gender": "Male",
          "Id": 69499
         },
         {
          "Age": 5,
          "Age Cohort": "0 to 5",
          "Ethnicity": "Multi Race",
          "Expenditures": 1053,
          "Gender": "Female",
          "Id": 69542
         },
         {
          "Age": 7,
          "Age Cohort": "6 to 12",
          "Ethnicity": "Hispanic",
          "Expenditures": 1903,
          "Gender": "Female",
          "Id": 69581
         },
         {
          "Age": 16,
          "Age Cohort": "13 to 17",
          "Ethnicity": "Hispanic",
          "Expenditures": 2760,
          "Gender": "Male",
          "Id": 69608
         },
         {
          "Age": 18,
          "Age Cohort": "18 to 21",
          "Ethnicity": "White not Hispanic",
          "Expenditures": 8567,
          "Gender": "Female",
          "Id": 69614
         },
         {
          "Age": 21,
          "Age Cohort": "18 to 21",
          "Ethnicity": "White not Hispanic",
          "Expenditures": 12172,
          "Gender": "Female",
          "Id": 69616
         },
         {
          "Age": 19,
          "Age Cohort": "18 to 21",
          "Ethnicity": "Hispanic",
          "Expenditures": 6690,
          "Gender": "Female",
          "Id": 69726
         },
         {
          "Age": 19,
          "Age Cohort": "18 to 21",
          "Ethnicity": "Hispanic",
          "Expenditures": 11629,
          "Gender": "Female",
          "Id": 69933
         },
         {
          "Age": 30,
          "Age Cohort": "22 to 50",
          "Ethnicity": "Native Hawaiian",
          "Expenditures": 40727,
          "Gender": "Female",
          "Id": 70035
         },
         {
          "Age": 17,
          "Age Cohort": "13 to 17",
          "Ethnicity": "Hispanic",
          "Expenditures": 5055,
          "Gender": "Female",
          "Id": 70210
         },
         {
          "Age": 17,
          "Age Cohort": "13 to 17",
          "Ethnicity": "White not Hispanic",
          "Expenditures": 3052,
          "Gender": "Male",
          "Id": 70230
         },
         {
          "Age": 39,
          "Age Cohort": "22 to 50",
          "Ethnicity": "White not Hispanic",
          "Expenditures": 56716,
          "Gender": "Female",
          "Id": 70244
         },
         {
          "Age": 15,
          "Age Cohort": "13 to 17",
          "Ethnicity": "Hispanic",
          "Expenditures": 3911,
          "Gender": "Male",
          "Id": 70290
         },
         {
          "Age": 14,
          "Age Cohort": "13 to 17",
          "Ethnicity": "Asian",
          "Expenditures": 3060,
          "Gender": "Female",
          "Id": 70594
         },
         {
          "Age": 18,
          "Age Cohort": "18 to 21",
          "Ethnicity": "Hispanic",
          "Expenditures": 3225,
          "Gender": "Male",
          "Id": 70609
         },
         {
          "Age": 20,
          "Age Cohort": "18 to 21",
          "Ethnicity": "White not Hispanic",
          "Expenditures": 11242,
          "Gender": "Male",
          "Id": 70727
         },
         {
          "Age": 17,
          "Age Cohort": "13 to 17",
          "Ethnicity": "Hispanic",
          "Expenditures": 4152,
          "Gender": "Male",
          "Id": 70807
         },
         {
          "Age": 19,
          "Age Cohort": "18 to 21",
          "Ethnicity": "Hispanic",
          "Expenditures": 7805,
          "Gender": "Female",
          "Id": 70929
         },
         {
          "Age": 15,
          "Age Cohort": "13 to 17",
          "Ethnicity": "Hispanic",
          "Expenditures": 3702,
          "Gender": "Male",
          "Id": 71045
         },
         {
          "Age": 14,
          "Age Cohort": "13 to 17",
          "Ethnicity": "Multi Race",
          "Expenditures": 5062,
          "Gender": "Female",
          "Id": 71073
         },
         {
          "Age": 9,
          "Age Cohort": "6 to 12",
          "Ethnicity": "White not Hispanic",
          "Expenditures": 1690,
          "Gender": "Female",
          "Id": 71233
         },
         {
          "Age": 27,
          "Age Cohort": "22 to 50",
          "Ethnicity": "Asian",
          "Expenditures": 39454,
          "Gender": "Female",
          "Id": 71271
         },
         {
          "Age": 53,
          "Age Cohort": "51+",
          "Ethnicity": "White not Hispanic",
          "Expenditures": 49380,
          "Gender": "Male",
          "Id": 71346
         },
         {
          "Age": 20,
          "Age Cohort": "18 to 21",
          "Ethnicity": "Hispanic",
          "Expenditures": 16677,
          "Gender": "Female",
          "Id": 71422
         },
         {
          "Age": 13,
          "Age Cohort": "13 to 17",
          "Ethnicity": "Hispanic",
          "Expenditures": 3395,
          "Gender": "Male",
          "Id": 71440
         },
         {
          "Age": 65,
          "Age Cohort": "51+",
          "Ethnicity": "White not Hispanic",
          "Expenditures": 54874,
          "Gender": "Female",
          "Id": 71526
         },
         {
          "Age": 6,
          "Age Cohort": "6 to 12",
          "Ethnicity": "Hispanic",
          "Expenditures": 3099,
          "Gender": "Female",
          "Id": 71763
         },
         {
          "Age": 17,
          "Age Cohort": "13 to 17",
          "Ethnicity": "Hispanic",
          "Expenditures": 3088,
          "Gender": "Female",
          "Id": 71846
         },
         {
          "Age": 18,
          "Age Cohort": "18 to 21",
          "Ethnicity": "Hispanic",
          "Expenditures": 14221,
          "Gender": "Male",
          "Id": 71847
         },
         {
          "Age": 20,
          "Age Cohort": "18 to 21",
          "Ethnicity": "Asian",
          "Expenditures": 12392,
          "Gender": "Male",
          "Id": 71928
         },
         {
          "Age": 16,
          "Age Cohort": "13 to 17",
          "Ethnicity": "Black",
          "Expenditures": 4166,
          "Gender": "Male",
          "Id": 71969
         },
         {
          "Age": 19,
          "Age Cohort": "18 to 21",
          "Ethnicity": "White not Hispanic",
          "Expenditures": 11032,
          "Gender": "Female",
          "Id": 72028
         },
         {
          "Age": 34,
          "Age Cohort": "22 to 50",
          "Ethnicity": "White not Hispanic",
          "Expenditures": 40546,
          "Gender": "Male",
          "Id": 72101
         },
         {
          "Age": 6,
          "Age Cohort": "6 to 12",
          "Ethnicity": "Asian",
          "Expenditures": 2597,
          "Gender": "Male",
          "Id": 72341
         },
         {
          "Age": 19,
          "Age Cohort": "18 to 21",
          "Ethnicity": "White not Hispanic",
          "Expenditures": 11068,
          "Gender": "Male",
          "Id": 72365
         },
         {
          "Age": 9,
          "Age Cohort": "6 to 12",
          "Ethnicity": "Hispanic",
          "Expenditures": 2634,
          "Gender": "Female",
          "Id": 72418
         },
         {
          "Age": 34,
          "Age Cohort": "22 to 50",
          "Ethnicity": "Hispanic",
          "Expenditures": 45409,
          "Gender": "Female",
          "Id": 72424
         },
         {
          "Age": 56,
          "Age Cohort": "51+",
          "Ethnicity": "Black",
          "Expenditures": 52618,
          "Gender": "Male",
          "Id": 72511
         },
         {
          "Age": 22,
          "Age Cohort": "22 to 50",
          "Ethnicity": "Black",
          "Expenditures": 31853,
          "Gender": "Female",
          "Id": 72593
         },
         {
          "Age": 18,
          "Age Cohort": "18 to 21",
          "Ethnicity": "Hispanic",
          "Expenditures": 3829,
          "Gender": "Female",
          "Id": 72606
         },
         {
          "Age": 21,
          "Age Cohort": "18 to 21",
          "Ethnicity": "White not Hispanic",
          "Expenditures": 7166,
          "Gender": "Female",
          "Id": 72613
         },
         {
          "Age": 16,
          "Age Cohort": "13 to 17",
          "Ethnicity": "Other",
          "Expenditures": 4615,
          "Gender": "Male",
          "Id": 72729
         },
         {
          "Age": 18,
          "Age Cohort": "18 to 21",
          "Ethnicity": "Asian",
          "Expenditures": 11282,
          "Gender": "Male",
          "Id": 72808
         },
         {
          "Age": 16,
          "Age Cohort": "13 to 17",
          "Ethnicity": "Hispanic",
          "Expenditures": 3060,
          "Gender": "Female",
          "Id": 72893
         },
         {
          "Age": 5,
          "Age Cohort": "0 to 5",
          "Ethnicity": "Hispanic",
          "Expenditures": 1702,
          "Gender": "Female",
          "Id": 72903
         },
         {
          "Age": 21,
          "Age Cohort": "18 to 21",
          "Ethnicity": "Hispanic",
          "Expenditures": 6977,
          "Gender": "Male",
          "Id": 72982
         },
         {
          "Age": 20,
          "Age Cohort": "18 to 21",
          "Ethnicity": "White not Hispanic",
          "Expenditures": 10898,
          "Gender": "Male",
          "Id": 73085
         },
         {
          "Age": 13,
          "Age Cohort": "13 to 17",
          "Ethnicity": "Asian",
          "Expenditures": 3419,
          "Gender": "Male",
          "Id": 73176
         },
         {
          "Age": 14,
          "Age Cohort": "13 to 17",
          "Ethnicity": "Hispanic",
          "Expenditures": 3633,
          "Gender": "Female",
          "Id": 73402
         },
         {
          "Age": 18,
          "Age Cohort": "18 to 21",
          "Ethnicity": "Hispanic",
          "Expenditures": 12603,
          "Gender": "Female",
          "Id": 73569
         },
         {
          "Age": 62,
          "Age Cohort": "51+",
          "Ethnicity": "White not Hispanic",
          "Expenditures": 50219,
          "Gender": "Female",
          "Id": 73713
         },
         {
          "Age": 8,
          "Age Cohort": "6 to 12",
          "Ethnicity": "Black",
          "Expenditures": 2261,
          "Gender": "Male",
          "Id": 73750
         },
         {
          "Age": 6,
          "Age Cohort": "6 to 12",
          "Ethnicity": "Hispanic",
          "Expenditures": 3203,
          "Gender": "Male",
          "Id": 73758
         },
         {
          "Age": 35,
          "Age Cohort": "22 to 50",
          "Ethnicity": "White not Hispanic",
          "Expenditures": 42329,
          "Gender": "Female",
          "Id": 73772
         },
         {
          "Age": 8,
          "Age Cohort": "6 to 12",
          "Ethnicity": "Hispanic",
          "Expenditures": 1609,
          "Gender": "Female",
          "Id": 73907
         },
         {
          "Age": 18,
          "Age Cohort": "18 to 21",
          "Ethnicity": "Hispanic",
          "Expenditures": 11176,
          "Gender": "Male",
          "Id": 74044
         },
         {
          "Age": 19,
          "Age Cohort": "18 to 21",
          "Ethnicity": "White not Hispanic",
          "Expenditures": 8398,
          "Gender": "Female",
          "Id": 74146
         },
         {
          "Age": 7,
          "Age Cohort": "6 to 12",
          "Ethnicity": "White not Hispanic",
          "Expenditures": 1728,
          "Gender": "Male",
          "Id": 74185
         },
         {
          "Age": 19,
          "Age Cohort": "18 to 21",
          "Ethnicity": "Hispanic",
          "Expenditures": 11180,
          "Gender": "Male",
          "Id": 74272
         },
         {
          "Age": 27,
          "Age Cohort": "22 to 50",
          "Ethnicity": "Asian",
          "Expenditures": 28581,
          "Gender": "Female",
          "Id": 74463
         },
         {
          "Age": 12,
          "Age Cohort": "6 to 12",
          "Ethnicity": "Hispanic",
          "Expenditures": 1416,
          "Gender": "Male",
          "Id": 74521
         },
         {
          "Age": 15,
          "Age Cohort": "13 to 17",
          "Ethnicity": "Hispanic",
          "Expenditures": 3677,
          "Gender": "Male",
          "Id": 74523
         },
         {
          "Age": 15,
          "Age Cohort": "13 to 17",
          "Ethnicity": "White not Hispanic",
          "Expenditures": 4616,
          "Gender": "Male",
          "Id": 74683
         },
         {
          "Age": 90,
          "Age Cohort": "51+",
          "Ethnicity": "American Indian",
          "Expenditures": 58392,
          "Gender": "Female",
          "Id": 74721
         },
         {
          "Age": 9,
          "Age Cohort": "6 to 12",
          "Ethnicity": "Hispanic",
          "Expenditures": 1661,
          "Gender": "Male",
          "Id": 74878
         },
         {
          "Age": 5,
          "Age Cohort": "0 to 5",
          "Ethnicity": "Black",
          "Expenditures": 1611,
          "Gender": "Female",
          "Id": 74891
         },
         {
          "Age": 21,
          "Age Cohort": "18 to 21",
          "Ethnicity": "White not Hispanic",
          "Expenditures": 9363,
          "Gender": "Male",
          "Id": 74906
         },
         {
          "Age": 17,
          "Age Cohort": "13 to 17",
          "Ethnicity": "Hispanic",
          "Expenditures": 5347,
          "Gender": "Female",
          "Id": 74924
         },
         {
          "Age": 14,
          "Age Cohort": "13 to 17",
          "Ethnicity": "Hispanic",
          "Expenditures": 4378,
          "Gender": "Female",
          "Id": 74925
         },
         {
          "Age": 20,
          "Age Cohort": "18 to 21",
          "Ethnicity": "White not Hispanic",
          "Expenditures": 10815,
          "Gender": "Female",
          "Id": 74970
         },
         {
          "Age": 10,
          "Age Cohort": "6 to 12",
          "Ethnicity": "White not Hispanic",
          "Expenditures": 2368,
          "Gender": "Female",
          "Id": 75037
         },
         {
          "Age": 30,
          "Age Cohort": "22 to 50",
          "Ethnicity": "Hispanic",
          "Expenditures": 40572,
          "Gender": "Female",
          "Id": 75049
         },
         {
          "Age": 72,
          "Age Cohort": "51+",
          "Ethnicity": "White not Hispanic",
          "Expenditures": 50198,
          "Gender": "Female",
          "Id": 75122
         },
         {
          "Age": 11,
          "Age Cohort": "6 to 12",
          "Ethnicity": "Hispanic",
          "Expenditures": 793,
          "Gender": "Male",
          "Id": 75138
         },
         {
          "Age": 14,
          "Age Cohort": "13 to 17",
          "Ethnicity": "White not Hispanic",
          "Expenditures": 2551,
          "Gender": "Male",
          "Id": 75140
         },
         {
          "Age": 19,
          "Age Cohort": "18 to 21",
          "Ethnicity": "White not Hispanic",
          "Expenditures": 8804,
          "Gender": "Female",
          "Id": 75193
         },
         {
          "Age": 10,
          "Age Cohort": "6 to 12",
          "Ethnicity": "Hispanic",
          "Expenditures": 2865,
          "Gender": "Female",
          "Id": 75607
         },
         {
          "Age": 3,
          "Age Cohort": "0 to 5",
          "Ethnicity": "Hispanic",
          "Expenditures": 1167,
          "Gender": "Female",
          "Id": 75696
         },
         {
          "Age": 13,
          "Age Cohort": "13 to 17",
          "Ethnicity": "White not Hispanic",
          "Expenditures": 5098,
          "Gender": "Female",
          "Id": 75753
         },
         {
          "Age": 15,
          "Age Cohort": "13 to 17",
          "Ethnicity": "Hispanic",
          "Expenditures": 5304,
          "Gender": "Male",
          "Id": 75806
         },
         {
          "Age": 36,
          "Age Cohort": "22 to 50",
          "Ethnicity": "White not Hispanic",
          "Expenditures": 38246,
          "Gender": "Male",
          "Id": 75960
         },
         {
          "Age": 12,
          "Age Cohort": "6 to 12",
          "Ethnicity": "Hispanic",
          "Expenditures": 1776,
          "Gender": "Male",
          "Id": 76011
         },
         {
          "Age": 20,
          "Age Cohort": "18 to 21",
          "Ethnicity": "Hispanic",
          "Expenditures": 15711,
          "Gender": "Female",
          "Id": 76065
         },
         {
          "Age": 12,
          "Age Cohort": "6 to 12",
          "Ethnicity": "Hispanic",
          "Expenditures": 3704,
          "Gender": "Male",
          "Id": 76344
         },
         {
          "Age": 66,
          "Age Cohort": "51+",
          "Ethnicity": "White not Hispanic",
          "Expenditures": 47006,
          "Gender": "Male",
          "Id": 76353
         },
         {
          "Age": 13,
          "Age Cohort": "13 to 17",
          "Ethnicity": "Asian",
          "Expenditures": 4710,
          "Gender": "Male",
          "Id": 76461
         },
         {
          "Age": 88,
          "Age Cohort": "51+",
          "Ethnicity": "White not Hispanic",
          "Expenditures": 56415,
          "Gender": "Female",
          "Id": 76518
         },
         {
          "Age": 18,
          "Age Cohort": "18 to 21",
          "Ethnicity": "White not Hispanic",
          "Expenditures": 11240,
          "Gender": "Male",
          "Id": 76533
         },
         {
          "Age": 79,
          "Age Cohort": "51+",
          "Ethnicity": "White not Hispanic",
          "Expenditures": 58469,
          "Gender": "Female",
          "Id": 76547
         },
         {
          "Age": 14,
          "Age Cohort": "13 to 17",
          "Ethnicity": "White not Hispanic",
          "Expenditures": 4842,
          "Gender": "Male",
          "Id": 76701
         },
         {
          "Age": 14,
          "Age Cohort": "13 to 17",
          "Ethnicity": "White not Hispanic",
          "Expenditures": 2701,
          "Gender": "Male",
          "Id": 76737
         },
         {
          "Age": 90,
          "Age Cohort": "51+",
          "Ethnicity": "White not Hispanic",
          "Expenditures": 57845,
          "Gender": "Female",
          "Id": 76776
         },
         {
          "Age": 21,
          "Age Cohort": "18 to 21",
          "Ethnicity": "White not Hispanic",
          "Expenditures": 6482,
          "Gender": "Male",
          "Id": 76834
         },
         {
          "Age": 20,
          "Age Cohort": "18 to 21",
          "Ethnicity": "Hispanic",
          "Expenditures": 9162,
          "Gender": "Male",
          "Id": 76865
         },
         {
          "Age": 21,
          "Age Cohort": "18 to 21",
          "Ethnicity": "White not Hispanic",
          "Expenditures": 12552,
          "Gender": "Female",
          "Id": 76990
         },
         {
          "Age": 32,
          "Age Cohort": "22 to 50",
          "Ethnicity": "White not Hispanic",
          "Expenditures": 30791,
          "Gender": "Male",
          "Id": 77021
         },
         {
          "Age": 19,
          "Age Cohort": "18 to 21",
          "Ethnicity": "Hispanic",
          "Expenditures": 9341,
          "Gender": "Female",
          "Id": 77155
         },
         {
          "Age": 30,
          "Age Cohort": "22 to 50",
          "Ethnicity": "Hispanic",
          "Expenditures": 48121,
          "Gender": "Male",
          "Id": 77193
         },
         {
          "Age": 16,
          "Age Cohort": "13 to 17",
          "Ethnicity": "White not Hispanic",
          "Expenditures": 3047,
          "Gender": "Male",
          "Id": 77349
         },
         {
          "Age": 18,
          "Age Cohort": "18 to 21",
          "Ethnicity": "Asian",
          "Expenditures": 3707,
          "Gender": "Male",
          "Id": 77450
         },
         {
          "Age": 71,
          "Age Cohort": "51+",
          "Ethnicity": "Asian",
          "Expenditures": 52421,
          "Gender": "Female",
          "Id": 77463
         },
         {
          "Age": 18,
          "Age Cohort": "18 to 21",
          "Ethnicity": "Asian",
          "Expenditures": 18435,
          "Gender": "Female",
          "Id": 77587
         },
         {
          "Age": 24,
          "Age Cohort": "22 to 50",
          "Ethnicity": "Hispanic",
          "Expenditures": 37367,
          "Gender": "Male",
          "Id": 77596
         },
         {
          "Age": 15,
          "Age Cohort": "13 to 17",
          "Ethnicity": "Hispanic",
          "Expenditures": 4260,
          "Gender": "Female",
          "Id": 77607
         },
         {
          "Age": 0,
          "Age Cohort": "0 to 5",
          "Ethnicity": "Hispanic",
          "Expenditures": 1458,
          "Gender": "Female",
          "Id": 77654
         },
         {
          "Age": 20,
          "Age Cohort": "18 to 21",
          "Ethnicity": "Asian",
          "Expenditures": 12234,
          "Gender": "Male",
          "Id": 77715
         },
         {
          "Age": 39,
          "Age Cohort": "22 to 50",
          "Ethnicity": "White not Hispanic",
          "Expenditures": 33259,
          "Gender": "Male",
          "Id": 77829
         },
         {
          "Age": 6,
          "Age Cohort": "6 to 12",
          "Ethnicity": "Hispanic",
          "Expenditures": 1804,
          "Gender": "Female",
          "Id": 77916
         },
         {
          "Age": 51,
          "Age Cohort": "51+",
          "Ethnicity": "White not Hispanic",
          "Expenditures": 52105,
          "Gender": "Female",
          "Id": 77933
         },
         {
          "Age": 10,
          "Age Cohort": "6 to 12",
          "Ethnicity": "Hispanic",
          "Expenditures": 1934,
          "Gender": "Female",
          "Id": 78026
         },
         {
          "Age": 30,
          "Age Cohort": "22 to 50",
          "Ethnicity": "White not Hispanic",
          "Expenditures": 40268,
          "Gender": "Male",
          "Id": 78221
         },
         {
          "Age": 23,
          "Age Cohort": "22 to 50",
          "Ethnicity": "Native Hawaiian",
          "Expenditures": 37479,
          "Gender": "Male",
          "Id": 78254
         },
         {
          "Age": 75,
          "Age Cohort": "51+",
          "Ethnicity": "Hispanic",
          "Expenditures": 65581,
          "Gender": "Female",
          "Id": 78364
         },
         {
          "Age": 66,
          "Age Cohort": "51+",
          "Ethnicity": "White not Hispanic",
          "Expenditures": 42160,
          "Gender": "Male",
          "Id": 78374
         },
         {
          "Age": 7,
          "Age Cohort": "6 to 12",
          "Ethnicity": "Black",
          "Expenditures": 3125,
          "Gender": "Female",
          "Id": 78383
         },
         {
          "Age": 21,
          "Age Cohort": "18 to 21",
          "Ethnicity": "Asian",
          "Expenditures": 7683,
          "Gender": "Female",
          "Id": 78532
         },
         {
          "Age": 35,
          "Age Cohort": "22 to 50",
          "Ethnicity": "White not Hispanic",
          "Expenditures": 33070,
          "Gender": "Female",
          "Id": 78612
         },
         {
          "Age": 32,
          "Age Cohort": "22 to 50",
          "Ethnicity": "White not Hispanic",
          "Expenditures": 32704,
          "Gender": "Male",
          "Id": 78803
         },
         {
          "Age": 21,
          "Age Cohort": "18 to 21",
          "Ethnicity": "Black",
          "Expenditures": 11491,
          "Gender": "Male",
          "Id": 79152
         },
         {
          "Age": 19,
          "Age Cohort": "18 to 21",
          "Ethnicity": "White not Hispanic",
          "Expenditures": 5303,
          "Gender": "Male",
          "Id": 79204
         },
         {
          "Age": 25,
          "Age Cohort": "22 to 50",
          "Ethnicity": "Hispanic",
          "Expenditures": 46437,
          "Gender": "Female",
          "Id": 79379
         },
         {
          "Age": 32,
          "Age Cohort": "22 to 50",
          "Ethnicity": "American Indian",
          "Expenditures": 28205,
          "Gender": "Male",
          "Id": 79645
         },
         {
          "Age": 0,
          "Age Cohort": "0 to 5",
          "Ethnicity": "White not Hispanic",
          "Expenditures": 1704,
          "Gender": "Female",
          "Id": 79659
         },
         {
          "Age": 31,
          "Age Cohort": "22 to 50",
          "Ethnicity": "White not Hispanic",
          "Expenditures": 33051,
          "Gender": "Male",
          "Id": 79711
         },
         {
          "Age": 23,
          "Age Cohort": "22 to 50",
          "Ethnicity": "Asian",
          "Expenditures": 50542,
          "Gender": "Male",
          "Id": 79930
         },
         {
          "Age": 27,
          "Age Cohort": "22 to 50",
          "Ethnicity": "Hispanic",
          "Expenditures": 37708,
          "Gender": "Male",
          "Id": 80142
         },
         {
          "Age": 6,
          "Age Cohort": "6 to 12",
          "Ethnicity": "Hispanic",
          "Expenditures": 987,
          "Gender": "Female",
          "Id": 80225
         },
         {
          "Age": 10,
          "Age Cohort": "6 to 12",
          "Ethnicity": "Hispanic",
          "Expenditures": 1590,
          "Gender": "Female",
          "Id": 80338
         },
         {
          "Age": 19,
          "Age Cohort": "18 to 21",
          "Ethnicity": "White not Hispanic",
          "Expenditures": 15527,
          "Gender": "Female",
          "Id": 80426
         },
         {
          "Age": 17,
          "Age Cohort": "13 to 17",
          "Ethnicity": "Hispanic",
          "Expenditures": 4496,
          "Gender": "Female",
          "Id": 80439
         },
         {
          "Age": 20,
          "Age Cohort": "18 to 21",
          "Ethnicity": "Asian",
          "Expenditures": 13264,
          "Gender": "Female",
          "Id": 80464
         },
         {
          "Age": 8,
          "Age Cohort": "6 to 12",
          "Ethnicity": "White not Hispanic",
          "Expenditures": 2459,
          "Gender": "Female",
          "Id": 80529
         },
         {
          "Age": 71,
          "Age Cohort": "51+",
          "Ethnicity": "Black",
          "Expenditures": 58594,
          "Gender": "Male",
          "Id": 80534
         },
         {
          "Age": 21,
          "Age Cohort": "18 to 21",
          "Ethnicity": "Hispanic",
          "Expenditures": 13468,
          "Gender": "Male",
          "Id": 80636
         },
         {
          "Age": 22,
          "Age Cohort": "22 to 50",
          "Ethnicity": "Asian",
          "Expenditures": 40240,
          "Gender": "Female",
          "Id": 80688
         },
         {
          "Age": 11,
          "Age Cohort": "6 to 12",
          "Ethnicity": "White not Hispanic",
          "Expenditures": 2727,
          "Gender": "Male",
          "Id": 80955
         },
         {
          "Age": 21,
          "Age Cohort": "18 to 21",
          "Ethnicity": "Asian",
          "Expenditures": 9923,
          "Gender": "Male",
          "Id": 81195
         },
         {
          "Age": 37,
          "Age Cohort": "22 to 50",
          "Ethnicity": "White not Hispanic",
          "Expenditures": 41550,
          "Gender": "Male",
          "Id": 81203
         },
         {
          "Age": 23,
          "Age Cohort": "22 to 50",
          "Ethnicity": "White not Hispanic",
          "Expenditures": 36521,
          "Gender": "Male",
          "Id": 81394
         },
         {
          "Age": 11,
          "Age Cohort": "6 to 12",
          "Ethnicity": "Hispanic",
          "Expenditures": 1905,
          "Gender": "Female",
          "Id": 81488
         },
         {
          "Age": 20,
          "Age Cohort": "18 to 21",
          "Ethnicity": "White not Hispanic",
          "Expenditures": 7237,
          "Gender": "Female",
          "Id": 81512
         },
         {
          "Age": 22,
          "Age Cohort": "22 to 50",
          "Ethnicity": "Black",
          "Expenditures": 28061,
          "Gender": "Male",
          "Id": 81530
         },
         {
          "Age": 24,
          "Age Cohort": "22 to 50",
          "Ethnicity": "White not Hispanic",
          "Expenditures": 42746,
          "Gender": "Female",
          "Id": 81669
         },
         {
          "Age": 26,
          "Age Cohort": "22 to 50",
          "Ethnicity": "White not Hispanic",
          "Expenditures": 34915,
          "Gender": "Male",
          "Id": 81703
         },
         {
          "Age": 18,
          "Age Cohort": "18 to 21",
          "Ethnicity": "White not Hispanic",
          "Expenditures": 7144,
          "Gender": "Female",
          "Id": 81816
         },
         {
          "Age": 15,
          "Age Cohort": "13 to 17",
          "Ethnicity": "Hispanic",
          "Expenditures": 3251,
          "Gender": "Female",
          "Id": 81823
         },
         {
          "Age": 30,
          "Age Cohort": "22 to 50",
          "Ethnicity": "Hispanic",
          "Expenditures": 42070,
          "Gender": "Male",
          "Id": 81913
         },
         {
          "Age": 23,
          "Age Cohort": "22 to 50",
          "Ethnicity": "Hispanic",
          "Expenditures": 40159,
          "Gender": "Male",
          "Id": 81916
         },
         {
          "Age": 22,
          "Age Cohort": "22 to 50",
          "Ethnicity": "White not Hispanic",
          "Expenditures": 37201,
          "Gender": "Male",
          "Id": 82022
         },
         {
          "Age": 53,
          "Age Cohort": "51+",
          "Ethnicity": "Hispanic",
          "Expenditures": 50176,
          "Gender": "Male",
          "Id": 82126
         },
         {
          "Age": 7,
          "Age Cohort": "6 to 12",
          "Ethnicity": "Asian",
          "Expenditures": 1691,
          "Gender": "Male",
          "Id": 82186
         },
         {
          "Age": 29,
          "Age Cohort": "22 to 50",
          "Ethnicity": "White not Hispanic",
          "Expenditures": 46356,
          "Gender": "Female",
          "Id": 82230
         },
         {
          "Age": 33,
          "Age Cohort": "22 to 50",
          "Ethnicity": "White not Hispanic",
          "Expenditures": 38762,
          "Gender": "Male",
          "Id": 82254
         },
         {
          "Age": 72,
          "Age Cohort": "51+",
          "Ethnicity": "Black",
          "Expenditures": 60808,
          "Gender": "Male",
          "Id": 82355
         },
         {
          "Age": 62,
          "Age Cohort": "51+",
          "Ethnicity": "White not Hispanic",
          "Expenditures": 47709,
          "Gender": "Male",
          "Id": 82582
         },
         {
          "Age": 18,
          "Age Cohort": "18 to 21",
          "Ethnicity": "Hispanic",
          "Expenditures": 10439,
          "Gender": "Female",
          "Id": 82743
         },
         {
          "Age": 20,
          "Age Cohort": "18 to 21",
          "Ethnicity": "Hispanic",
          "Expenditures": 11810,
          "Gender": "Female",
          "Id": 82904
         },
         {
          "Age": 31,
          "Age Cohort": "22 to 50",
          "Ethnicity": "Hispanic",
          "Expenditures": 34021,
          "Gender": "Male",
          "Id": 82928
         },
         {
          "Age": 80,
          "Age Cohort": "51+",
          "Ethnicity": "White not Hispanic",
          "Expenditures": 68890,
          "Gender": "Male",
          "Id": 83000
         },
         {
          "Age": 70,
          "Age Cohort": "51+",
          "Ethnicity": "Hispanic",
          "Expenditures": 50230,
          "Gender": "Male",
          "Id": 83149
         },
         {
          "Age": 29,
          "Age Cohort": "22 to 50",
          "Ethnicity": "White not Hispanic",
          "Expenditures": 36658,
          "Gender": "Male",
          "Id": 83212
         },
         {
          "Age": 73,
          "Age Cohort": "51+",
          "Ethnicity": "White not Hispanic",
          "Expenditures": 51455,
          "Gender": "Male",
          "Id": 83224
         },
         {
          "Age": 20,
          "Age Cohort": "18 to 21",
          "Ethnicity": "Hispanic",
          "Expenditures": 9932,
          "Gender": "Male",
          "Id": 83404
         },
         {
          "Age": 20,
          "Age Cohort": "18 to 21",
          "Ethnicity": "Asian",
          "Expenditures": 11803,
          "Gender": "Female",
          "Id": 83443
         },
         {
          "Age": 40,
          "Age Cohort": "22 to 50",
          "Ethnicity": "Asian",
          "Expenditures": 48064,
          "Gender": "Male",
          "Id": 83495
         },
         {
          "Age": 13,
          "Age Cohort": "13 to 17",
          "Ethnicity": "White not Hispanic",
          "Expenditures": 4473,
          "Gender": "Female",
          "Id": 83771
         },
         {
          "Age": 24,
          "Age Cohort": "22 to 50",
          "Ethnicity": "Asian",
          "Expenditures": 30803,
          "Gender": "Male",
          "Id": 83851
         },
         {
          "Age": 32,
          "Age Cohort": "22 to 50",
          "Ethnicity": "White not Hispanic",
          "Expenditures": 37637,
          "Gender": "Female",
          "Id": 83897
         },
         {
          "Age": 62,
          "Age Cohort": "51+",
          "Ethnicity": "White not Hispanic",
          "Expenditures": 44111,
          "Gender": "Male",
          "Id": 83972
         },
         {
          "Age": 18,
          "Age Cohort": "18 to 21",
          "Ethnicity": "White not Hispanic",
          "Expenditures": 8985,
          "Gender": "Male",
          "Id": 84259
         },
         {
          "Age": 28,
          "Age Cohort": "22 to 50",
          "Ethnicity": "Asian",
          "Expenditures": 48968,
          "Gender": "Female",
          "Id": 84336
         },
         {
          "Age": 6,
          "Age Cohort": "6 to 12",
          "Ethnicity": "Hispanic",
          "Expenditures": 2924,
          "Gender": "Male",
          "Id": 84362
         },
         {
          "Age": 2,
          "Age Cohort": "0 to 5",
          "Ethnicity": "Multi Race",
          "Expenditures": 697,
          "Gender": "Female",
          "Id": 84388
         },
         {
          "Age": 24,
          "Age Cohort": "22 to 50",
          "Ethnicity": "Hispanic",
          "Expenditures": 37663,
          "Gender": "Female",
          "Id": 84436
         },
         {
          "Age": 19,
          "Age Cohort": "18 to 21",
          "Ethnicity": "Black",
          "Expenditures": 9675,
          "Gender": "Male",
          "Id": 84477
         },
         {
          "Age": 17,
          "Age Cohort": "13 to 17",
          "Ethnicity": "Asian",
          "Expenditures": 4216,
          "Gender": "Female",
          "Id": 84484
         },
         {
          "Age": 14,
          "Age Cohort": "13 to 17",
          "Ethnicity": "White not Hispanic",
          "Expenditures": 5576,
          "Gender": "Female",
          "Id": 84737
         },
         {
          "Age": 25,
          "Age Cohort": "22 to 50",
          "Ethnicity": "Hispanic",
          "Expenditures": 31943,
          "Gender": "Male",
          "Id": 84833
         },
         {
          "Age": 7,
          "Age Cohort": "6 to 12",
          "Ethnicity": "Black",
          "Expenditures": 2834,
          "Gender": "Female",
          "Id": 84949
         },
         {
          "Age": 12,
          "Age Cohort": "6 to 12",
          "Ethnicity": "White not Hispanic",
          "Expenditures": 1531,
          "Gender": "Male",
          "Id": 84996
         },
         {
          "Age": 15,
          "Age Cohort": "13 to 17",
          "Ethnicity": "White not Hispanic",
          "Expenditures": 5254,
          "Gender": "Female",
          "Id": 85005
         },
         {
          "Age": 23,
          "Age Cohort": "22 to 50",
          "Ethnicity": "White not Hispanic",
          "Expenditures": 44219,
          "Gender": "Male",
          "Id": 85129
         },
         {
          "Age": 28,
          "Age Cohort": "22 to 50",
          "Ethnicity": "Hispanic",
          "Expenditures": 26178,
          "Gender": "Male",
          "Id": 85179
         },
         {
          "Age": 14,
          "Age Cohort": "13 to 17",
          "Ethnicity": "White not Hispanic",
          "Expenditures": 3189,
          "Gender": "Female",
          "Id": 85261
         },
         {
          "Age": 12,
          "Age Cohort": "6 to 12",
          "Ethnicity": "Hispanic",
          "Expenditures": 3732,
          "Gender": "Female",
          "Id": 85301
         },
         {
          "Age": 23,
          "Age Cohort": "22 to 50",
          "Ethnicity": "Asian",
          "Expenditures": 25348,
          "Gender": "Male",
          "Id": 85491
         },
         {
          "Age": 21,
          "Age Cohort": "18 to 21",
          "Ethnicity": "Hispanic",
          "Expenditures": 8957,
          "Gender": "Female",
          "Id": 85501
         },
         {
          "Age": 14,
          "Age Cohort": "13 to 17",
          "Ethnicity": "Hispanic",
          "Expenditures": 5280,
          "Gender": "Female",
          "Id": 85633
         },
         {
          "Age": 33,
          "Age Cohort": "22 to 50",
          "Ethnicity": "White not Hispanic",
          "Expenditures": 39010,
          "Gender": "Male",
          "Id": 85639
         },
         {
          "Age": 41,
          "Age Cohort": "22 to 50",
          "Ethnicity": "White not Hispanic",
          "Expenditures": 49223,
          "Gender": "Female",
          "Id": 85741
         },
         {
          "Age": 19,
          "Age Cohort": "18 to 21",
          "Ethnicity": "Asian",
          "Expenditures": 12243,
          "Gender": "Female",
          "Id": 85775
         },
         {
          "Age": 25,
          "Age Cohort": "22 to 50",
          "Ethnicity": "Asian",
          "Expenditures": 40999,
          "Gender": "Male",
          "Id": 86019
         },
         {
          "Age": 20,
          "Age Cohort": "18 to 21",
          "Ethnicity": "Hispanic",
          "Expenditures": 3749,
          "Gender": "Female",
          "Id": 86084
         },
         {
          "Age": 9,
          "Age Cohort": "6 to 12",
          "Ethnicity": "Hispanic",
          "Expenditures": 1416,
          "Gender": "Female",
          "Id": 86328
         },
         {
          "Age": 32,
          "Age Cohort": "22 to 50",
          "Ethnicity": "White not Hispanic",
          "Expenditures": 33630,
          "Gender": "Female",
          "Id": 86396
         },
         {
          "Age": 26,
          "Age Cohort": "22 to 50",
          "Ethnicity": "Asian",
          "Expenditures": 33634,
          "Gender": "Male",
          "Id": 86416
         },
         {
          "Age": 19,
          "Age Cohort": "18 to 21",
          "Ethnicity": "Hispanic",
          "Expenditures": 9760,
          "Gender": "Male",
          "Id": 86565
         },
         {
          "Age": 42,
          "Age Cohort": "22 to 50",
          "Ethnicity": "Black",
          "Expenditures": 51084,
          "Gender": "Female",
          "Id": 86579
         },
         {
          "Age": 11,
          "Age Cohort": "6 to 12",
          "Ethnicity": "White not Hispanic",
          "Expenditures": 1984,
          "Gender": "Male",
          "Id": 86599
         },
         {
          "Age": 30,
          "Age Cohort": "22 to 50",
          "Ethnicity": "White not Hispanic",
          "Expenditures": 40927,
          "Gender": "Male",
          "Id": 86667
         },
         {
          "Age": 39,
          "Age Cohort": "22 to 50",
          "Ethnicity": "White not Hispanic",
          "Expenditures": 31076,
          "Gender": "Female",
          "Id": 86893
         },
         {
          "Age": 16,
          "Age Cohort": "13 to 17",
          "Ethnicity": "White not Hispanic",
          "Expenditures": 4915,
          "Gender": "Female",
          "Id": 87080
         },
         {
          "Age": 17,
          "Age Cohort": "13 to 17",
          "Ethnicity": "Hispanic",
          "Expenditures": 3747,
          "Gender": "Female",
          "Id": 87143
         },
         {
          "Age": 21,
          "Age Cohort": "18 to 21",
          "Ethnicity": "White not Hispanic",
          "Expenditures": 9700,
          "Gender": "Female",
          "Id": 87358
         },
         {
          "Age": 14,
          "Age Cohort": "13 to 17",
          "Ethnicity": "Multi Race",
          "Expenditures": 1893,
          "Gender": "Female",
          "Id": 87444
         },
         {
          "Age": 17,
          "Age Cohort": "13 to 17",
          "Ethnicity": "Hispanic",
          "Expenditures": 4221,
          "Gender": "Female",
          "Id": 87697
         },
         {
          "Age": 91,
          "Age Cohort": "51+",
          "Ethnicity": "Asian",
          "Expenditures": 54481,
          "Gender": "Male",
          "Id": 87737
         },
         {
          "Age": 10,
          "Age Cohort": "6 to 12",
          "Ethnicity": "Hispanic",
          "Expenditures": 3060,
          "Gender": "Female",
          "Id": 87869
         },
         {
          "Age": 24,
          "Age Cohort": "22 to 50",
          "Ethnicity": "Asian",
          "Expenditures": 34274,
          "Gender": "Female",
          "Id": 87923
         },
         {
          "Age": 19,
          "Age Cohort": "18 to 21",
          "Ethnicity": "Hispanic",
          "Expenditures": 12523,
          "Gender": "Female",
          "Id": 88118
         },
         {
          "Age": 71,
          "Age Cohort": "51+",
          "Ethnicity": "White not Hispanic",
          "Expenditures": 56365,
          "Gender": "Female",
          "Id": 88132
         },
         {
          "Age": 4,
          "Age Cohort": "0 to 5",
          "Ethnicity": "Asian",
          "Expenditures": 1645,
          "Gender": "Female",
          "Id": 88276
         },
         {
          "Age": 11,
          "Age Cohort": "6 to 12",
          "Ethnicity": "Hispanic",
          "Expenditures": 2839,
          "Gender": "Male",
          "Id": 88284
         },
         {
          "Age": 8,
          "Age Cohort": "6 to 12",
          "Ethnicity": "White not Hispanic",
          "Expenditures": 3572,
          "Gender": "Female",
          "Id": 88508
         },
         {
          "Age": 31,
          "Age Cohort": "22 to 50",
          "Ethnicity": "White not Hispanic",
          "Expenditures": 39172,
          "Gender": "Male",
          "Id": 88618
         },
         {
          "Age": 8,
          "Age Cohort": "6 to 12",
          "Ethnicity": "Hispanic",
          "Expenditures": 1714,
          "Gender": "Female",
          "Id": 88739
         },
         {
          "Age": 72,
          "Age Cohort": "51+",
          "Ethnicity": "White not Hispanic",
          "Expenditures": 43957,
          "Gender": "Male",
          "Id": 88757
         },
         {
          "Age": 62,
          "Age Cohort": "51+",
          "Ethnicity": "White not Hispanic",
          "Expenditures": 58480,
          "Gender": "Female",
          "Id": 88930
         },
         {
          "Age": 26,
          "Age Cohort": "22 to 50",
          "Ethnicity": "Black",
          "Expenditures": 43109,
          "Gender": "Female",
          "Id": 89102
         },
         {
          "Age": 7,
          "Age Cohort": "6 to 12",
          "Ethnicity": "Hispanic",
          "Expenditures": 1875,
          "Gender": "Female",
          "Id": 89108
         },
         {
          "Age": 63,
          "Age Cohort": "51+",
          "Ethnicity": "White not Hispanic",
          "Expenditures": 50030,
          "Gender": "Male",
          "Id": 89124
         },
         {
          "Age": 21,
          "Age Cohort": "18 to 21",
          "Ethnicity": "Hispanic",
          "Expenditures": 8707,
          "Gender": "Male",
          "Id": 89132
         },
         {
          "Age": 8,
          "Age Cohort": "6 to 12",
          "Ethnicity": "Hispanic",
          "Expenditures": 2717,
          "Gender": "Female",
          "Id": 89286
         },
         {
          "Age": 5,
          "Age Cohort": "0 to 5",
          "Ethnicity": "Hispanic",
          "Expenditures": 1684,
          "Gender": "Female",
          "Id": 89316
         },
         {
          "Age": 20,
          "Age Cohort": "18 to 21",
          "Ethnicity": "White not Hispanic",
          "Expenditures": 7743,
          "Gender": "Male",
          "Id": 89334
         },
         {
          "Age": 19,
          "Age Cohort": "18 to 21",
          "Ethnicity": "Asian",
          "Expenditures": 7475,
          "Gender": "Female",
          "Id": 89361
         },
         {
          "Age": 9,
          "Age Cohort": "6 to 12",
          "Ethnicity": "White not Hispanic",
          "Expenditures": 2753,
          "Gender": "Male",
          "Id": 89611
         },
         {
          "Age": 19,
          "Age Cohort": "18 to 21",
          "Ethnicity": "Asian",
          "Expenditures": 8820,
          "Gender": "Female",
          "Id": 89809
         },
         {
          "Age": 19,
          "Age Cohort": "18 to 21",
          "Ethnicity": "Hispanic",
          "Expenditures": 5988,
          "Gender": "Female",
          "Id": 89925
         },
         {
          "Age": 21,
          "Age Cohort": "18 to 21",
          "Ethnicity": "Black",
          "Expenditures": 11327,
          "Gender": "Male",
          "Id": 90037
         },
         {
          "Age": 16,
          "Age Cohort": "13 to 17",
          "Ethnicity": "Hispanic",
          "Expenditures": 3702,
          "Gender": "Female",
          "Id": 90151
         },
         {
          "Age": 13,
          "Age Cohort": "13 to 17",
          "Ethnicity": "Hispanic",
          "Expenditures": 3887,
          "Gender": "Female",
          "Id": 90220
         },
         {
          "Age": 19,
          "Age Cohort": "18 to 21",
          "Ethnicity": "Asian",
          "Expenditures": 9979,
          "Gender": "Male",
          "Id": 90233
         },
         {
          "Age": 18,
          "Age Cohort": "18 to 21",
          "Ethnicity": "Hispanic",
          "Expenditures": 13730,
          "Gender": "Female",
          "Id": 90239
         },
         {
          "Age": 19,
          "Age Cohort": "18 to 21",
          "Ethnicity": "White not Hispanic",
          "Expenditures": 7570,
          "Gender": "Male",
          "Id": 90299
         },
         {
          "Age": 27,
          "Age Cohort": "22 to 50",
          "Ethnicity": "White not Hispanic",
          "Expenditures": 35720,
          "Gender": "Female",
          "Id": 90432
         },
         {
          "Age": 19,
          "Age Cohort": "18 to 21",
          "Ethnicity": "Black",
          "Expenditures": 7061,
          "Gender": "Female",
          "Id": 90644
         },
         {
          "Age": 13,
          "Age Cohort": "13 to 17",
          "Ethnicity": "White not Hispanic",
          "Expenditures": 5546,
          "Gender": "Female",
          "Id": 90670
         },
         {
          "Age": 16,
          "Age Cohort": "13 to 17",
          "Ethnicity": "White not Hispanic",
          "Expenditures": 3666,
          "Gender": "Male",
          "Id": 90814
         },
         {
          "Age": 10,
          "Age Cohort": "6 to 12",
          "Ethnicity": "Multi Race",
          "Expenditures": 669,
          "Gender": "Female",
          "Id": 90953
         },
         {
          "Age": 29,
          "Age Cohort": "22 to 50",
          "Ethnicity": "White not Hispanic",
          "Expenditures": 40755,
          "Gender": "Female",
          "Id": 90996
         },
         {
          "Age": 32,
          "Age Cohort": "22 to 50",
          "Ethnicity": "Hispanic",
          "Expenditures": 35435,
          "Gender": "Female",
          "Id": 91011
         },
         {
          "Age": 21,
          "Age Cohort": "18 to 21",
          "Ethnicity": "Hispanic",
          "Expenditures": 6904,
          "Gender": "Male",
          "Id": 91064
         },
         {
          "Age": 29,
          "Age Cohort": "22 to 50",
          "Ethnicity": "White not Hispanic",
          "Expenditures": 41268,
          "Gender": "Male",
          "Id": 91288
         },
         {
          "Age": 12,
          "Age Cohort": "6 to 12",
          "Ethnicity": "White not Hispanic",
          "Expenditures": 1996,
          "Gender": "Male",
          "Id": 91383
         },
         {
          "Age": 14,
          "Age Cohort": "13 to 17",
          "Ethnicity": "Hispanic",
          "Expenditures": 3703,
          "Gender": "Male",
          "Id": 91756
         },
         {
          "Age": 7,
          "Age Cohort": "6 to 12",
          "Ethnicity": "White not Hispanic",
          "Expenditures": 2669,
          "Gender": "Female",
          "Id": 91766
         },
         {
          "Age": 14,
          "Age Cohort": "13 to 17",
          "Ethnicity": "Hispanic",
          "Expenditures": 3319,
          "Gender": "Male",
          "Id": 91966
         },
         {
          "Age": 17,
          "Age Cohort": "13 to 17",
          "Ethnicity": "Hispanic",
          "Expenditures": 3478,
          "Gender": "Female",
          "Id": 92055
         },
         {
          "Age": 20,
          "Age Cohort": "18 to 21",
          "Ethnicity": "White not Hispanic",
          "Expenditures": 8359,
          "Gender": "Male",
          "Id": 92109
         },
         {
          "Age": 17,
          "Age Cohort": "13 to 17",
          "Ethnicity": "Hispanic",
          "Expenditures": 4791,
          "Gender": "Male",
          "Id": 92198
         },
         {
          "Age": 6,
          "Age Cohort": "6 to 12",
          "Ethnicity": "Hispanic",
          "Expenditures": 1898,
          "Gender": "Male",
          "Id": 92207
         },
         {
          "Age": 9,
          "Age Cohort": "6 to 12",
          "Ethnicity": "White not Hispanic",
          "Expenditures": 2632,
          "Gender": "Female",
          "Id": 92215
         },
         {
          "Age": 32,
          "Age Cohort": "22 to 50",
          "Ethnicity": "White not Hispanic",
          "Expenditures": 43662,
          "Gender": "Female",
          "Id": 92265
         },
         {
          "Age": 11,
          "Age Cohort": "6 to 12",
          "Ethnicity": "White not Hispanic",
          "Expenditures": 620,
          "Gender": "Female",
          "Id": 92381
         },
         {
          "Age": 73,
          "Age Cohort": "51+",
          "Ethnicity": "White not Hispanic",
          "Expenditures": 49088,
          "Gender": "Female",
          "Id": 92494
         },
         {
          "Age": 33,
          "Age Cohort": "22 to 50",
          "Ethnicity": "Hispanic",
          "Expenditures": 40517,
          "Gender": "Male",
          "Id": 92628
         },
         {
          "Age": 4,
          "Age Cohort": "0 to 5",
          "Ethnicity": "White not Hispanic",
          "Expenditures": 2543,
          "Gender": "Female",
          "Id": 92700
         },
         {
          "Age": 6,
          "Age Cohort": "6 to 12",
          "Ethnicity": "Hispanic",
          "Expenditures": 1997,
          "Gender": "Male",
          "Id": 92718
         },
         {
          "Age": 8,
          "Age Cohort": "6 to 12",
          "Ethnicity": "Hispanic",
          "Expenditures": 1189,
          "Gender": "Female",
          "Id": 92766
         },
         {
          "Age": 25,
          "Age Cohort": "22 to 50",
          "Ethnicity": "White not Hispanic",
          "Expenditures": 39849,
          "Gender": "Male",
          "Id": 92789
         },
         {
          "Age": 23,
          "Age Cohort": "22 to 50",
          "Ethnicity": "White not Hispanic",
          "Expenditures": 48349,
          "Gender": "Male",
          "Id": 93080
         },
         {
          "Age": 16,
          "Age Cohort": "13 to 17",
          "Ethnicity": "Asian",
          "Expenditures": 4031,
          "Gender": "Male",
          "Id": 93118
         },
         {
          "Age": 8,
          "Age Cohort": "6 to 12",
          "Ethnicity": "Asian",
          "Expenditures": 2623,
          "Gender": "Male",
          "Id": 93194
         },
         {
          "Age": 22,
          "Age Cohort": "22 to 50",
          "Ethnicity": "White not Hispanic",
          "Expenditures": 50795,
          "Gender": "Female",
          "Id": 93415
         },
         {
          "Age": 10,
          "Age Cohort": "6 to 12",
          "Ethnicity": "Hispanic",
          "Expenditures": 2484,
          "Gender": "Female",
          "Id": 93495
         },
         {
          "Age": 31,
          "Age Cohort": "22 to 50",
          "Ethnicity": "White not Hispanic",
          "Expenditures": 39577,
          "Gender": "Male",
          "Id": 93600
         },
         {
          "Age": 6,
          "Age Cohort": "6 to 12",
          "Ethnicity": "Multi Race",
          "Expenditures": 3259,
          "Gender": "Male",
          "Id": 93628
         },
         {
          "Age": 18,
          "Age Cohort": "18 to 21",
          "Ethnicity": "Asian",
          "Expenditures": 9080,
          "Gender": "Male",
          "Id": 93673
         },
         {
          "Age": 27,
          "Age Cohort": "22 to 50",
          "Ethnicity": "Asian",
          "Expenditures": 44293,
          "Gender": "Female",
          "Id": 93702
         },
         {
          "Age": 4,
          "Age Cohort": "0 to 5",
          "Ethnicity": "Asian",
          "Expenditures": 1219,
          "Gender": "Female",
          "Id": 93727
         },
         {
          "Age": 18,
          "Age Cohort": "18 to 21",
          "Ethnicity": "White not Hispanic",
          "Expenditures": 10298,
          "Gender": "Female",
          "Id": 93757
         },
         {
          "Age": 8,
          "Age Cohort": "6 to 12",
          "Ethnicity": "Hispanic",
          "Expenditures": 2430,
          "Gender": "Male",
          "Id": 93763
         },
         {
          "Age": 14,
          "Age Cohort": "13 to 17",
          "Ethnicity": "Hispanic",
          "Expenditures": 3792,
          "Gender": "Female",
          "Id": 93871
         },
         {
          "Age": 11,
          "Age Cohort": "6 to 12",
          "Ethnicity": "White not Hispanic",
          "Expenditures": 1360,
          "Gender": "Female",
          "Id": 94072
         },
         {
          "Age": 15,
          "Age Cohort": "13 to 17",
          "Ethnicity": "Asian",
          "Expenditures": 3099,
          "Gender": "Male",
          "Id": 94273
         },
         {
          "Age": 30,
          "Age Cohort": "22 to 50",
          "Ethnicity": "White not Hispanic",
          "Expenditures": 51486,
          "Gender": "Male",
          "Id": 94371
         },
         {
          "Age": 11,
          "Age Cohort": "6 to 12",
          "Ethnicity": "Hispanic",
          "Expenditures": 2212,
          "Gender": "Male",
          "Id": 94442
         },
         {
          "Age": 17,
          "Age Cohort": "13 to 17",
          "Ethnicity": "Black",
          "Expenditures": 5183,
          "Gender": "Female",
          "Id": 94480
         },
         {
          "Age": 0,
          "Age Cohort": "0 to 5",
          "Ethnicity": "Hispanic",
          "Expenditures": 1360,
          "Gender": "Male",
          "Id": 94503
         },
         {
          "Age": 25,
          "Age Cohort": "22 to 50",
          "Ethnicity": "White not Hispanic",
          "Expenditures": 40952,
          "Gender": "Female",
          "Id": 94540
         },
         {
          "Age": 4,
          "Age Cohort": "0 to 5",
          "Ethnicity": "Multi Race",
          "Expenditures": 2335,
          "Gender": "Female",
          "Id": 94595
         },
         {
          "Age": 40,
          "Age Cohort": "22 to 50",
          "Ethnicity": "White not Hispanic",
          "Expenditures": 43175,
          "Gender": "Female",
          "Id": 94648
         },
         {
          "Age": 14,
          "Age Cohort": "13 to 17",
          "Ethnicity": "Hispanic",
          "Expenditures": 4680,
          "Gender": "Male",
          "Id": 94785
         },
         {
          "Age": 20,
          "Age Cohort": "18 to 21",
          "Ethnicity": "Hispanic",
          "Expenditures": 14003,
          "Gender": "Female",
          "Id": 94819
         },
         {
          "Age": 3,
          "Age Cohort": "0 to 5",
          "Ethnicity": "Hispanic",
          "Expenditures": 1485,
          "Gender": "Female",
          "Id": 94852
         },
         {
          "Age": 29,
          "Age Cohort": "22 to 50",
          "Ethnicity": "White not Hispanic",
          "Expenditures": 43048,
          "Gender": "Male",
          "Id": 95110
         },
         {
          "Age": 38,
          "Age Cohort": "22 to 50",
          "Ethnicity": "White not Hispanic",
          "Expenditures": 29709,
          "Gender": "Male",
          "Id": 95270
         },
         {
          "Age": 79,
          "Age Cohort": "51+",
          "Ethnicity": "Asian",
          "Expenditures": 57497,
          "Gender": "Female",
          "Id": 95313
         },
         {
          "Age": 60,
          "Age Cohort": "51+",
          "Ethnicity": "Hispanic",
          "Expenditures": 62717,
          "Gender": "Female",
          "Id": 95673
         },
         {
          "Age": 38,
          "Age Cohort": "22 to 50",
          "Ethnicity": "Hispanic",
          "Expenditures": 37378,
          "Gender": "Female",
          "Id": 95812
         },
         {
          "Age": 18,
          "Age Cohort": "18 to 21",
          "Ethnicity": "Asian",
          "Expenditures": 12651,
          "Gender": "Male",
          "Id": 95861
         },
         {
          "Age": 16,
          "Age Cohort": "13 to 17",
          "Ethnicity": "Hispanic",
          "Expenditures": 2104,
          "Gender": "Female",
          "Id": 96081
         },
         {
          "Age": 5,
          "Age Cohort": "0 to 5",
          "Ethnicity": "Hispanic",
          "Expenditures": 222,
          "Gender": "Female",
          "Id": 96097
         },
         {
          "Age": 23,
          "Age Cohort": "22 to 50",
          "Ethnicity": "Asian",
          "Expenditures": 42560,
          "Gender": "Male",
          "Id": 96188
         },
         {
          "Age": 29,
          "Age Cohort": "22 to 50",
          "Ethnicity": "Asian",
          "Expenditures": 40614,
          "Gender": "Male",
          "Id": 96258
         },
         {
          "Age": 5,
          "Age Cohort": "0 to 5",
          "Ethnicity": "Hispanic",
          "Expenditures": 1003,
          "Gender": "Female",
          "Id": 96279
         },
         {
          "Age": 26,
          "Age Cohort": "22 to 50",
          "Ethnicity": "Hispanic",
          "Expenditures": 36440,
          "Gender": "Male",
          "Id": 96367
         },
         {
          "Age": 9,
          "Age Cohort": "6 to 12",
          "Ethnicity": "White not Hispanic",
          "Expenditures": 2544,
          "Gender": "Male",
          "Id": 96426
         },
         {
          "Age": 17,
          "Age Cohort": "13 to 17",
          "Ethnicity": "Hispanic",
          "Expenditures": 5241,
          "Gender": "Female",
          "Id": 96466
         },
         {
          "Age": 14,
          "Age Cohort": "13 to 17",
          "Ethnicity": "White not Hispanic",
          "Expenditures": 3524,
          "Gender": "Male",
          "Id": 96684
         },
         {
          "Age": 30,
          "Age Cohort": "22 to 50",
          "Ethnicity": "White not Hispanic",
          "Expenditures": 40125,
          "Gender": "Female",
          "Id": 96739
         },
         {
          "Age": 10,
          "Age Cohort": "6 to 12",
          "Ethnicity": "Asian",
          "Expenditures": 3382,
          "Gender": "Male",
          "Id": 96746
         },
         {
          "Age": 51,
          "Age Cohort": "51+",
          "Ethnicity": "White not Hispanic",
          "Expenditures": 48622,
          "Gender": "Female",
          "Id": 96840
         },
         {
          "Age": 17,
          "Age Cohort": "13 to 17",
          "Ethnicity": "White not Hispanic",
          "Expenditures": 5276,
          "Gender": "Female",
          "Id": 96974
         },
         {
          "Age": 41,
          "Age Cohort": "22 to 50",
          "Ethnicity": "White not Hispanic",
          "Expenditures": 50202,
          "Gender": "Male",
          "Id": 97057
         },
         {
          "Age": 44,
          "Age Cohort": "22 to 50",
          "Ethnicity": "Hispanic",
          "Expenditures": 46144,
          "Gender": "Male",
          "Id": 97122
         },
         {
          "Age": 5,
          "Age Cohort": "0 to 5",
          "Ethnicity": "Black",
          "Expenditures": 240,
          "Gender": "Female",
          "Id": 97211
         },
         {
          "Age": 23,
          "Age Cohort": "22 to 50",
          "Ethnicity": "White not Hispanic",
          "Expenditures": 35016,
          "Gender": "Male",
          "Id": 97268
         },
         {
          "Age": 75,
          "Age Cohort": "51+",
          "Ethnicity": "White not Hispanic",
          "Expenditures": 55956,
          "Gender": "Female",
          "Id": 97316
         },
         {
          "Age": 1,
          "Age Cohort": "0 to 5",
          "Ethnicity": "Multi Race",
          "Expenditures": 2359,
          "Gender": "Female",
          "Id": 97426
         },
         {
          "Age": 9,
          "Age Cohort": "6 to 12",
          "Ethnicity": "Multi Race",
          "Expenditures": 1048,
          "Gender": "Female",
          "Id": 97793
         },
         {
          "Age": 69,
          "Age Cohort": "51+",
          "Ethnicity": "White not Hispanic",
          "Expenditures": 53561,
          "Gender": "Female",
          "Id": 97930
         },
         {
          "Age": 46,
          "Age Cohort": "22 to 50",
          "Ethnicity": "Hispanic",
          "Expenditures": 52222,
          "Gender": "Male",
          "Id": 98015
         },
         {
          "Age": 28,
          "Age Cohort": "22 to 50",
          "Ethnicity": "Hispanic",
          "Expenditures": 29588,
          "Gender": "Male",
          "Id": 98235
         },
         {
          "Age": 18,
          "Age Cohort": "18 to 21",
          "Ethnicity": "White not Hispanic",
          "Expenditures": 10393,
          "Gender": "Female",
          "Id": 98268
         },
         {
          "Age": 38,
          "Age Cohort": "22 to 50",
          "Ethnicity": "White not Hispanic",
          "Expenditures": 54191,
          "Gender": "Male",
          "Id": 98269
         },
         {
          "Age": 54,
          "Age Cohort": "51+",
          "Ethnicity": "White not Hispanic",
          "Expenditures": 46312,
          "Gender": "Female",
          "Id": 98382
         },
         {
          "Age": 24,
          "Age Cohort": "22 to 50",
          "Ethnicity": "Asian",
          "Expenditures": 49449,
          "Gender": "Male",
          "Id": 98428
         },
         {
          "Age": 13,
          "Age Cohort": "13 to 17",
          "Ethnicity": "White not Hispanic",
          "Expenditures": 3097,
          "Gender": "Female",
          "Id": 98522
         },
         {
          "Age": 13,
          "Age Cohort": "13 to 17",
          "Ethnicity": "White not Hispanic",
          "Expenditures": 3392,
          "Gender": "Female",
          "Id": 98547
         },
         {
          "Age": 15,
          "Age Cohort": "13 to 17",
          "Ethnicity": "Hispanic",
          "Expenditures": 3641,
          "Gender": "Female",
          "Id": 98562
         },
         {
          "Age": 8,
          "Age Cohort": "6 to 12",
          "Ethnicity": "Hispanic",
          "Expenditures": 2441,
          "Gender": "Male",
          "Id": 98683
         },
         {
          "Age": 5,
          "Age Cohort": "0 to 5",
          "Ethnicity": "Hispanic",
          "Expenditures": 1411,
          "Gender": "Male",
          "Id": 98792
         },
         {
          "Age": 30,
          "Age Cohort": "22 to 50",
          "Ethnicity": "White not Hispanic",
          "Expenditures": 35231,
          "Gender": "Female",
          "Id": 99046
         },
         {
          "Age": 18,
          "Age Cohort": "18 to 21",
          "Ethnicity": "Hispanic",
          "Expenditures": 5298,
          "Gender": "Male",
          "Id": 99114
         },
         {
          "Age": 20,
          "Age Cohort": "18 to 21",
          "Ethnicity": "Asian",
          "Expenditures": 7288,
          "Gender": "Male",
          "Id": 99147
         },
         {
          "Age": 2,
          "Age Cohort": "0 to 5",
          "Ethnicity": "Multi Race",
          "Expenditures": 2258,
          "Gender": "Male",
          "Id": 99529
         },
         {
          "Age": 86,
          "Age Cohort": "51+",
          "Ethnicity": "White not Hispanic",
          "Expenditures": 57055,
          "Gender": "Female",
          "Id": 99622
         },
         {
          "Age": 20,
          "Age Cohort": "18 to 21",
          "Ethnicity": "Hispanic",
          "Expenditures": 7494,
          "Gender": "Male",
          "Id": 99715
         },
         {
          "Age": 17,
          "Age Cohort": "13 to 17",
          "Ethnicity": "Multi Race",
          "Expenditures": 3673,
          "Gender": "Female",
          "Id": 99718
         },
         {
          "Age": 10,
          "Age Cohort": "6 to 12",
          "Ethnicity": "Hispanic",
          "Expenditures": 3638,
          "Gender": "Male",
          "Id": 99791
         },
         {
          "Age": 23,
          "Age Cohort": "22 to 50",
          "Ethnicity": "White not Hispanic",
          "Expenditures": 26702,
          "Gender": "Male",
          "Id": 99898
         }
        ]
       },
       "encoding": {
        "x": {
         "field": "Age",
         "type": "quantitative"
        },
        "y": {
         "field": "Expenditures",
         "type": "quantitative"
        }
       },
       "mark": {
        "type": "circle"
       }
      },
      "image/png": "[encoded data removed]",
      "text/plain": [
       "<VegaLite 5 object>\n",
       "\n",
       "If you see this message, it means the renderer has not been properly enabled\n",
       "for the frontend that you are using. For more information, see\n",
       "https://altair-viz.github.io/user_guide/display_frontends.html#troubleshooting\n"
      ]
     },
     "execution_count": 9,
     "metadata": {},
     "output_type": "execute_result"
    }
   ],
   "source": [
    "# construct scatterplot\n",
    "fig_2 = alt.Chart(dds).mark_circle().encode(\n",
    "    x = alt.X('Age:Q'),\n",
    "    y = alt.Y('Expenditures:Q')\n",
    ")\n",
    "\n",
    "# display\n",
    "fig_2"
   ]
  },
  {
   "attachments": {},
   "cell_type": "markdown",
   "metadata": {},
   "source": [
    "<!-- END QUESTION -->\n",
    "\n",
    "Precisely because recipients have different needs at different ages that translate to jumps in expenditure, age has been discretized into age cohorts defined based on need level. Going forward, we'll work with these age cohorts -- by treating age as discrete, we won't need to attempt to model the discontinuities in the relationship between age and expenditure.\n",
    "\n",
    "The cohort labels are stored as `Age Cohort` in the dataset. There are six cohorts; the cell below coerces the labels to an ordered category, puts them in the proper order, and prints the category levels."
   ]
  },
  {
   "cell_type": "code",
   "execution_count": 10,
   "metadata": {},
   "outputs": [
    {
     "data": {
      "text/plain": [
       "Index(['0 to 5', '6 to 12', '13 to 17', '18 to 21', '22 to 50', '51+'], dtype='object')"
      ]
     },
     "execution_count": 10,
     "metadata": {},
     "output_type": "execute_result"
    }
   ],
   "source": [
    "# convert data types\n",
    "dds_cat = dds.astype({'Age Cohort': 'category', 'Ethnicity': 'category', 'Gender': 'category'}).copy()\n",
    "\n",
    "dds_cat['Age Cohort'] = dds_cat['Age Cohort'].cat.as_ordered().cat.reorder_categories(\n",
    "    dds_cat['Age Cohort'].cat.categories[[0, 5, 1, 2, 3, 4]]\n",
    ")\n",
    "\n",
    "# age cohorts\n",
    "dds_cat['Age Cohort'].cat.categories"
   ]
  },
  {
   "attachments": {},
   "cell_type": "markdown",
   "metadata": {},
   "source": [
    "Here is an explanation of how the cohort age boundaries were chosen:\n",
    "\n",
    "> The 0-5 cohort (preschool age) has the fewest needs and requires the least amount of funding. For the 6-12 cohort (elementary school age) and 13-17 (high school age), a number of needed services are provided by schools. The 18-21 cohort is typically in a transition phase as the consumers begin moving out from their parents’ homes into community centers or living on their own. The majority of those in the 22-50 cohort no longer live with their parents but may still receive some support from their family. Those in the 51+ cohort have the most needs and require the most amount of funding because they are living on their own or in community centers and often have no living parents."
   ]
  },
  {
   "attachments": {},
   "cell_type": "markdown",
   "metadata": {},
   "source": [
    "Note that the ordering can be retrieved using `.cat.codes`, which coerces an ordered categorical variable to its integer encoding (0 for lowest level, 1 for next lowest, and so on). It will be helpful to store the ordering for plotting purposes."
   ]
  },
  {
   "cell_type": "code",
   "execution_count": 11,
   "metadata": {},
   "outputs": [
    {
     "data": {
      "text/html": [
       "<div>\n",
       "<style scoped>\n",
       "    .dataframe tbody tr th:only-of-type {\n",
       "        vertical-align: middle;\n",
       "    }\n",
       "\n",
       "    .dataframe tbody tr th {\n",
       "        vertical-align: top;\n",
       "    }\n",
       "\n",
       "    .dataframe thead th {\n",
       "        text-align: right;\n",
       "    }\n",
       "</style>\n",
       "<table border=\"1\" class=\"dataframe\">\n",
       "  <thead>\n",
       "    <tr style=\"text-align: right;\">\n",
       "      <th></th>\n",
       "      <th>Id</th>\n",
       "      <th>Age Cohort</th>\n",
       "      <th>Age</th>\n",
       "      <th>Gender</th>\n",
       "      <th>Expenditures</th>\n",
       "      <th>Ethnicity</th>\n",
       "      <th>cohort_order</th>\n",
       "    </tr>\n",
       "  </thead>\n",
       "  <tbody>\n",
       "    <tr>\n",
       "      <th>0</th>\n",
       "      <td>10210</td>\n",
       "      <td>13 to 17</td>\n",
       "      <td>17</td>\n",
       "      <td>Female</td>\n",
       "      <td>2113</td>\n",
       "      <td>White not Hispanic</td>\n",
       "      <td>2.0</td>\n",
       "    </tr>\n",
       "    <tr>\n",
       "      <th>1</th>\n",
       "      <td>10409</td>\n",
       "      <td>22 to 50</td>\n",
       "      <td>37</td>\n",
       "      <td>Male</td>\n",
       "      <td>41924</td>\n",
       "      <td>White not Hispanic</td>\n",
       "      <td>4.0</td>\n",
       "    </tr>\n",
       "    <tr>\n",
       "      <th>2</th>\n",
       "      <td>10486</td>\n",
       "      <td>0 to 5</td>\n",
       "      <td>3</td>\n",
       "      <td>Male</td>\n",
       "      <td>1454</td>\n",
       "      <td>Hispanic</td>\n",
       "      <td>0.0</td>\n",
       "    </tr>\n",
       "    <tr>\n",
       "      <th>3</th>\n",
       "      <td>10538</td>\n",
       "      <td>18 to 21</td>\n",
       "      <td>19</td>\n",
       "      <td>Female</td>\n",
       "      <td>6400</td>\n",
       "      <td>Hispanic</td>\n",
       "      <td>3.0</td>\n",
       "    </tr>\n",
       "    <tr>\n",
       "      <th>4</th>\n",
       "      <td>10568</td>\n",
       "      <td>13 to 17</td>\n",
       "      <td>13</td>\n",
       "      <td>Male</td>\n",
       "      <td>4412</td>\n",
       "      <td>White not Hispanic</td>\n",
       "      <td>2.0</td>\n",
       "    </tr>\n",
       "  </tbody>\n",
       "</table>\n",
       "</div>"
      ],
      "text/plain": [
       "      Id Age Cohort  Age  Gender  Expenditures           Ethnicity  \\\n",
       "0  10210   13 to 17   17  Female          2113  White not Hispanic   \n",
       "1  10409   22 to 50   37    Male         41924  White not Hispanic   \n",
       "2  10486     0 to 5    3    Male          1454            Hispanic   \n",
       "3  10538   18 to 21   19  Female          6400            Hispanic   \n",
       "4  10568   13 to 17   13    Male          4412  White not Hispanic   \n",
       "\n",
       "   cohort_order  \n",
       "0           2.0  \n",
       "1           4.0  \n",
       "2           0.0  \n",
       "3           3.0  \n",
       "4           2.0  "
      ]
     },
     "execution_count": 11,
     "metadata": {},
     "output_type": "execute_result"
    }
   ],
   "source": [
    "# retrieve ordering\n",
    "dds_cat['cohort_order'] = dds_cat['Age Cohort'].cat.codes.head()\n",
    "dds_cat.head()"
   ]
  },
  {
   "attachments": {},
   "cell_type": "markdown",
   "metadata": {},
   "source": [
    "<!-- BEGIN QUESTION -->\n",
    "\n",
    "### Question 5: age structure of the sample\n",
    "\n",
    "Here you'll explore the age composition of each ethnic group in the sample.\n",
    "\n",
    "* (i) Group the data by ethnic group and tabulate the sample sizes for each group. Use `dds_cat` so that the order of age cohorts is preserved. Store the result as `samp_sizes`.\n",
    "\n",
    "* (ii) Visualize the age structure of each ethnic group in the sample. Construct a point-and-line plot of the sample size (y) against age cohort (x) by ethnicity (color or linetype). Make sure to preserve the ordering of age cohorts on the x axis (*hint*: create a variable like `cohort_order` above). Store the plot as `fig_3` and display.\n",
    "\n",
    "Comment on the figure. Are there differences in age composition by ethnic group among the individuals sampled?"
   ]
  },
  {
   "cell_type": "markdown",
   "metadata": {},
   "source": [
    "From the graph, we can see that there are certainly differences in age composition by ethnic group. Hispanics have more people under the age of 22 than any other ethnicity and Whites have more people older than 22 than any other ethnicity."
   ]
  },
  {
   "cell_type": "code",
   "execution_count": 13,
   "metadata": {
    "tags": []
   },
   "outputs": [
    {
     "data": {
      "text/plain": [
       "['0 to 5', '6 to 12', '13 to 17', '18 to 21', '22 to 50', '51+']"
      ]
     },
     "execution_count": 13,
     "metadata": {},
     "output_type": "execute_result"
    }
   ],
   "source": [
    "# compute sample sizes for each age/ethnic group\n",
    "samp_sizes = dds_cat.groupby(\n",
    "    ['Ethnicity', 'Age Cohort']\n",
    ").Id.count().reset_index().rename(\n",
    "    columns = {'Id':'Sample Size'}\n",
    ")\n",
    "cohort_order = samp_sizes['Age Cohort'].cat.categories.tolist()\n",
    "\n",
    "\n",
    "# construct plot\n",
    "fig_3 = alt.Chart(samp_sizes).mark_line(point=True).encode(\n",
    "    x = alt.X('Age Cohort:N', sort = cohort_order),\n",
    "    y = alt.Y('Sample Size:Q'),\n",
    "    color = alt.Color('Ethnicity')\n",
    ")\n",
    "\n",
    "# display\n",
    "fig_3"
   ]
  },
  {
   "attachments": {},
   "cell_type": "markdown",
   "metadata": {},
   "source": [
    "<!-- END QUESTION -->\n",
    "\n",
    "Age structure among ethnic groups might be related to the observed differences in median expenditure, because we know that:\n",
    "\n",
    "* (i) among the individuals in the sample, age distributions differed by ethnic group\n",
    "* (ii) age is related to benefit expenditure\n",
    "\n",
    "To see this, think through an example."
   ]
  },
  {
   "attachments": {},
   "cell_type": "markdown",
   "metadata": {},
   "source": [
    "<!-- BEGIN QUESTION -->\n",
    "\n",
    "### Question 6: potential confounding\n",
    "\n",
    "Look at the age distribution for `Multi Race` and consider the age-expenditure relationship. Can you explain why the median expenditure for this group might be lower than the others? Answer in 1-2 sentences."
   ]
  },
  {
   "cell_type": "markdown",
   "metadata": {},
   "source": [
    "Looking at Multi Race, the first thing that we notice is that the majority of people in this sample are under the age of 20, which means that the median expenditure is guaranteed to be an observation from a person below the age of 20. We know that age has a positive relationship with expenditure so the median for multi race is likely to be lower than other ethnicities that may have a more even spread of people in the age cohorts."
   ]
  },
  {
   "attachments": {},
   "cell_type": "markdown",
   "metadata": {},
   "source": [
    "<!-- END QUESTION -->\n",
    "\n",
    "<!-- BEGIN QUESTION -->\n",
    "\n",
    "### Question 7: correcting for age\n",
    "\n",
    "Hopefully, the last few prompts convinced you that the apparent discrimination *could* simply be an artefact of differing age structure. You can investigate this by plotting median expenditure against ethnicity, as in figure 1, but now also correcting for age cohort.\n",
    "\n",
    "Construct an Altair point-and-line chart based on `dds_cat` with:\n",
    "\n",
    "   + ethnicity on the x axis\n",
    "   + no x axis label\n",
    "   + median expenditure on the y axis\n",
    "   + the y axis displayed on the log scale\n",
    "   + age cohort mapped to color and sorted in order of age\n",
    "   + lines connecting points that display the median expenditure for each ethnicity and cohort, with one line per age cohort\n",
    "    \n",
    "Store the result as `fig_4` and display the graphic."
   ]
  },
  {
   "cell_type": "code",
   "execution_count": 12,
   "metadata": {
    "tags": []
   },
   "outputs": [
    {
     "data": {
      "application/vnd.vegalite.v5+json": {
       "$schema": "https://vega.github.io/schema/vega-lite/v5.14.1.json",
       "config": {
        "view": {
         "continuousHeight": 300,
         "continuousWidth": 300
        }
       },
       "data": {
        "name": "data-c45255f102a5af550b2d77c3fd5e3956"
       },
       "datasets": {
        "data-c45255f102a5af550b2d77c3fd5e3956": [
         {
          "Age": 17,
          "Age Cohort": "13 to 17",
          "Ethnicity": "White not Hispanic",
          "Expenditures": 2113,
          "Gender": "Female",
          "Id": 10210,
          "cohort_order": 2
         },
         {
          "Age": 37,
          "Age Cohort": "22 to 50",
          "Ethnicity": "White not Hispanic",
          "Expenditures": 41924,
          "Gender": "Male",
          "Id": 10409,
          "cohort_order": 4
         },
         {
          "Age": 3,
          "Age Cohort": "0 to 5",
          "Ethnicity": "Hispanic",
          "Expenditures": 1454,
          "Gender": "Male",
          "Id": 10486,
          "cohort_order": 0
         },
         {
          "Age": 19,
          "Age Cohort": "18 to 21",
          "Ethnicity": "Hispanic",
          "Expenditures": 6400,
          "Gender": "Female",
          "Id": 10538,
          "cohort_order": 3
         },
         {
          "Age": 13,
          "Age Cohort": "13 to 17",
          "Ethnicity": "White not Hispanic",
          "Expenditures": 4412,
          "Gender": "Male",
          "Id": 10568,
          "cohort_order": 2
         },
         {
          "Age": 15,
          "Age Cohort": "13 to 17",
          "Ethnicity": "Hispanic",
          "Expenditures": 4566,
          "Gender": "Female",
          "Id": 10690,
          "cohort_order": null
         },
         {
          "Age": 13,
          "Age Cohort": "13 to 17",
          "Ethnicity": "White not Hispanic",
          "Expenditures": 3915,
          "Gender": "Female",
          "Id": 10711,
          "cohort_order": null
         },
         {
          "Age": 17,
          "Age Cohort": "13 to 17",
          "Ethnicity": "Black",
          "Expenditures": 3873,
          "Gender": "Male",
          "Id": 10778,
          "cohort_order": null
         },
         {
          "Age": 14,
          "Age Cohort": "13 to 17",
          "Ethnicity": "White not Hispanic",
          "Expenditures": 5021,
          "Gender": "Female",
          "Id": 10820,
          "cohort_order": null
         },
         {
          "Age": 13,
          "Age Cohort": "13 to 17",
          "Ethnicity": "Hispanic",
          "Expenditures": 2887,
          "Gender": "Male",
          "Id": 10823,
          "cohort_order": null
         },
         {
          "Age": 13,
          "Age Cohort": "13 to 17",
          "Ethnicity": "White not Hispanic",
          "Expenditures": 4154,
          "Gender": "Female",
          "Id": 11000,
          "cohort_order": null
         },
         {
          "Age": 14,
          "Age Cohort": "13 to 17",
          "Ethnicity": "Hispanic",
          "Expenditures": 3048,
          "Gender": "Male",
          "Id": 11024,
          "cohort_order": null
         },
         {
          "Age": 15,
          "Age Cohort": "13 to 17",
          "Ethnicity": "White not Hispanic",
          "Expenditures": 2757,
          "Gender": "Female",
          "Id": 11115,
          "cohort_order": null
         },
         {
          "Age": 17,
          "Age Cohort": "13 to 17",
          "Ethnicity": "Multi Race",
          "Expenditures": 5340,
          "Gender": "Male",
          "Id": 11189,
          "cohort_order": null
         },
         {
          "Age": 20,
          "Age Cohort": "18 to 21",
          "Ethnicity": "Hispanic",
          "Expenditures": 10047,
          "Gender": "Male",
          "Id": 11201,
          "cohort_order": null
         },
         {
          "Age": 25,
          "Age Cohort": "22 to 50",
          "Ethnicity": "Black",
          "Expenditures": 34795,
          "Gender": "Female",
          "Id": 11210,
          "cohort_order": null
         },
         {
          "Age": 23,
          "Age Cohort": "22 to 50",
          "Ethnicity": "White not Hispanic",
          "Expenditures": 43025,
          "Gender": "Female",
          "Id": 11379,
          "cohort_order": null
         },
         {
          "Age": 41,
          "Age Cohort": "22 to 50",
          "Ethnicity": "Asian",
          "Expenditures": 54115,
          "Gender": "Male",
          "Id": 11380,
          "cohort_order": null
         },
         {
          "Age": 5,
          "Age Cohort": "0 to 5",
          "Ethnicity": "Hispanic",
          "Expenditures": 1748,
          "Gender": "Female",
          "Id": 11441,
          "cohort_order": null
         },
         {
          "Age": 15,
          "Age Cohort": "13 to 17",
          "Ethnicity": "Hispanic",
          "Expenditures": 4515,
          "Gender": "Female",
          "Id": 11466,
          "cohort_order": null
         },
         {
          "Age": 5,
          "Age Cohort": "0 to 5",
          "Ethnicity": "Hispanic",
          "Expenditures": 1861,
          "Gender": "Male",
          "Id": 11812,
          "cohort_order": null
         },
         {
          "Age": 5,
          "Age Cohort": "0 to 5",
          "Ethnicity": "Hispanic",
          "Expenditures": 1598,
          "Gender": "Male",
          "Id": 11842,
          "cohort_order": null
         },
         {
          "Age": 22,
          "Age Cohort": "22 to 50",
          "Ethnicity": "Hispanic",
          "Expenditures": 46571,
          "Gender": "Female",
          "Id": 11922,
          "cohort_order": null
         },
         {
          "Age": 3,
          "Age Cohort": "0 to 5",
          "Ethnicity": "Hispanic",
          "Expenditures": 1066,
          "Gender": "Male",
          "Id": 11935,
          "cohort_order": null
         },
         {
          "Age": 16,
          "Age Cohort": "13 to 17",
          "Ethnicity": "Black",
          "Expenditures": 3867,
          "Gender": "Female",
          "Id": 12127,
          "cohort_order": null
         },
         {
          "Age": 71,
          "Age Cohort": "51+",
          "Ethnicity": "White not Hispanic",
          "Expenditures": 57928,
          "Gender": "Female",
          "Id": 12137,
          "cohort_order": null
         },
         {
          "Age": 13,
          "Age Cohort": "13 to 17",
          "Ethnicity": "White not Hispanic",
          "Expenditures": 4002,
          "Gender": "Female",
          "Id": 12207,
          "cohort_order": null
         },
         {
          "Age": 18,
          "Age Cohort": "18 to 21",
          "Ethnicity": "Asian",
          "Expenditures": 10434,
          "Gender": "Female",
          "Id": 12530,
          "cohort_order": null
         },
         {
          "Age": 63,
          "Age Cohort": "51+",
          "Ethnicity": "White not Hispanic",
          "Expenditures": 56134,
          "Gender": "Female",
          "Id": 12589,
          "cohort_order": null
         },
         {
          "Age": 1,
          "Age Cohort": "0 to 5",
          "Ethnicity": "White not Hispanic",
          "Expenditures": 1070,
          "Gender": "Male",
          "Id": 12834,
          "cohort_order": null
         },
         {
          "Age": 13,
          "Age Cohort": "13 to 17",
          "Ethnicity": "Multi Race",
          "Expenditures": 3775,
          "Gender": "Male",
          "Id": 12850,
          "cohort_order": null
         },
         {
          "Age": 27,
          "Age Cohort": "22 to 50",
          "Ethnicity": "White not Hispanic",
          "Expenditures": 35284,
          "Gender": "Female",
          "Id": 12990,
          "cohort_order": null
         },
         {
          "Age": 21,
          "Age Cohort": "18 to 21",
          "Ethnicity": "White not Hispanic",
          "Expenditures": 7219,
          "Gender": "Male",
          "Id": 13119,
          "cohort_order": null
         },
         {
          "Age": 14,
          "Age Cohort": "13 to 17",
          "Ethnicity": "White not Hispanic",
          "Expenditures": 4681,
          "Gender": "Male",
          "Id": 13120,
          "cohort_order": null
         },
         {
          "Age": 15,
          "Age Cohort": "13 to 17",
          "Ethnicity": "Asian",
          "Expenditures": 4629,
          "Gender": "Female",
          "Id": 13195,
          "cohort_order": null
         },
         {
          "Age": 3,
          "Age Cohort": "0 to 5",
          "Ethnicity": "White not Hispanic",
          "Expenditures": 2750,
          "Gender": "Female",
          "Id": 13621,
          "cohort_order": null
         },
         {
          "Age": 15,
          "Age Cohort": "13 to 17",
          "Ethnicity": "Asian",
          "Expenditures": 3392,
          "Gender": "Female",
          "Id": 13692,
          "cohort_order": null
         },
         {
          "Age": 14,
          "Age Cohort": "13 to 17",
          "Ethnicity": "Black",
          "Expenditures": 5696,
          "Gender": "Male",
          "Id": 13722,
          "cohort_order": null
         },
         {
          "Age": 30,
          "Age Cohort": "22 to 50",
          "Ethnicity": "White not Hispanic",
          "Expenditures": 46660,
          "Gender": "Female",
          "Id": 13826,
          "cohort_order": null
         },
         {
          "Age": 6,
          "Age Cohort": "6 to 12",
          "Ethnicity": "Hispanic",
          "Expenditures": 2354,
          "Gender": "Female",
          "Id": 14233,
          "cohort_order": null
         },
         {
          "Age": 33,
          "Age Cohort": "22 to 50",
          "Ethnicity": "White not Hispanic",
          "Expenditures": 40781,
          "Gender": "Male",
          "Id": 14367,
          "cohort_order": null
         },
         {
          "Age": 10,
          "Age Cohort": "6 to 12",
          "Ethnicity": "Black",
          "Expenditures": 2559,
          "Gender": "Female",
          "Id": 14427,
          "cohort_order": null
         },
         {
          "Age": 25,
          "Age Cohort": "22 to 50",
          "Ethnicity": "White not Hispanic",
          "Expenditures": 36428,
          "Gender": "Female",
          "Id": 14520,
          "cohort_order": null
         },
         {
          "Age": 3,
          "Age Cohort": "0 to 5",
          "Ethnicity": "Hispanic",
          "Expenditures": 674,
          "Gender": "Male",
          "Id": 14523,
          "cohort_order": null
         },
         {
          "Age": 26,
          "Age Cohort": "22 to 50",
          "Ethnicity": "Asian",
          "Expenditures": 39844,
          "Gender": "Male",
          "Id": 14648,
          "cohort_order": null
         },
         {
          "Age": 17,
          "Age Cohort": "13 to 17",
          "Ethnicity": "White not Hispanic",
          "Expenditures": 4046,
          "Gender": "Male",
          "Id": 14653,
          "cohort_order": null
         },
         {
          "Age": 33,
          "Age Cohort": "22 to 50",
          "Ethnicity": "White not Hispanic",
          "Expenditures": 36184,
          "Gender": "Male",
          "Id": 14665,
          "cohort_order": null
         },
         {
          "Age": 16,
          "Age Cohort": "13 to 17",
          "Ethnicity": "Hispanic",
          "Expenditures": 4968,
          "Gender": "Male",
          "Id": 14845,
          "cohort_order": null
         },
         {
          "Age": 24,
          "Age Cohort": "22 to 50",
          "Ethnicity": "White not Hispanic",
          "Expenditures": 36901,
          "Gender": "Male",
          "Id": 15034,
          "cohort_order": null
         },
         {
          "Age": 63,
          "Age Cohort": "51+",
          "Ethnicity": "White not Hispanic",
          "Expenditures": 50419,
          "Gender": "Female",
          "Id": 15060,
          "cohort_order": null
         },
         {
          "Age": 1,
          "Age Cohort": "0 to 5",
          "Ethnicity": "White not Hispanic",
          "Expenditures": 340,
          "Gender": "Female",
          "Id": 15111,
          "cohort_order": null
         },
         {
          "Age": 24,
          "Age Cohort": "22 to 50",
          "Ethnicity": "Black",
          "Expenditures": 42192,
          "Gender": "Female",
          "Id": 15205,
          "cohort_order": null
         },
         {
          "Age": 75,
          "Age Cohort": "51+",
          "Ethnicity": "White not Hispanic",
          "Expenditures": 49239,
          "Gender": "Female",
          "Id": 15366,
          "cohort_order": null
         },
         {
          "Age": 27,
          "Age Cohort": "22 to 50",
          "Ethnicity": "White not Hispanic",
          "Expenditures": 36057,
          "Gender": "Male",
          "Id": 15422,
          "cohort_order": null
         },
         {
          "Age": 8,
          "Age Cohort": "6 to 12",
          "Ethnicity": "Hispanic",
          "Expenditures": 2895,
          "Gender": "Female",
          "Id": 15448,
          "cohort_order": null
         },
         {
          "Age": 24,
          "Age Cohort": "22 to 50",
          "Ethnicity": "White not Hispanic",
          "Expenditures": 31512,
          "Gender": "Male",
          "Id": 15487,
          "cohort_order": null
         },
         {
          "Age": 10,
          "Age Cohort": "6 to 12",
          "Ethnicity": "Hispanic",
          "Expenditures": 1915,
          "Gender": "Female",
          "Id": 15778,
          "cohort_order": null
         },
         {
          "Age": 16,
          "Age Cohort": "13 to 17",
          "Ethnicity": "Hispanic",
          "Expenditures": 4091,
          "Gender": "Male",
          "Id": 15801,
          "cohort_order": null
         },
         {
          "Age": 13,
          "Age Cohort": "13 to 17",
          "Ethnicity": "Hispanic",
          "Expenditures": 4798,
          "Gender": "Male",
          "Id": 15888,
          "cohort_order": null
         },
         {
          "Age": 51,
          "Age Cohort": "51+",
          "Ethnicity": "White not Hispanic",
          "Expenditures": 54267,
          "Gender": "Female",
          "Id": 15970,
          "cohort_order": null
         },
         {
          "Age": 6,
          "Age Cohort": "6 to 12",
          "Ethnicity": "Asian",
          "Expenditures": 1783,
          "Gender": "Female",
          "Id": 16048,
          "cohort_order": null
         },
         {
          "Age": 16,
          "Age Cohort": "13 to 17",
          "Ethnicity": "Hispanic",
          "Expenditures": 3212,
          "Gender": "Female",
          "Id": 16052,
          "cohort_order": null
         },
         {
          "Age": 15,
          "Age Cohort": "13 to 17",
          "Ethnicity": "White not Hispanic",
          "Expenditures": 2029,
          "Gender": "Female",
          "Id": 16306,
          "cohort_order": null
         },
         {
          "Age": 22,
          "Age Cohort": "22 to 50",
          "Ethnicity": "White not Hispanic",
          "Expenditures": 37727,
          "Gender": "Male",
          "Id": 16440,
          "cohort_order": null
         },
         {
          "Age": 20,
          "Age Cohort": "18 to 21",
          "Ethnicity": "Hispanic",
          "Expenditures": 11998,
          "Gender": "Male",
          "Id": 16515,
          "cohort_order": null
         },
         {
          "Age": 45,
          "Age Cohort": "22 to 50",
          "Ethnicity": "Hispanic",
          "Expenditures": 50304,
          "Gender": "Male",
          "Id": 16525,
          "cohort_order": null
         },
         {
          "Age": 5,
          "Age Cohort": "0 to 5",
          "Ethnicity": "Hispanic",
          "Expenditures": 1130,
          "Gender": "Female",
          "Id": 16981,
          "cohort_order": null
         },
         {
          "Age": 24,
          "Age Cohort": "22 to 50",
          "Ethnicity": "White not Hispanic",
          "Expenditures": 45412,
          "Gender": "Female",
          "Id": 17191,
          "cohort_order": null
         },
         {
          "Age": 32,
          "Age Cohort": "22 to 50",
          "Ethnicity": "Hispanic",
          "Expenditures": 38310,
          "Gender": "Male",
          "Id": 17276,
          "cohort_order": null
         },
         {
          "Age": 13,
          "Age Cohort": "13 to 17",
          "Ethnicity": "Hispanic",
          "Expenditures": 3638,
          "Gender": "Female",
          "Id": 17354,
          "cohort_order": null
         },
         {
          "Age": 74,
          "Age Cohort": "51+",
          "Ethnicity": "Asian",
          "Expenditures": 54616,
          "Gender": "Female",
          "Id": 17361,
          "cohort_order": null
         },
         {
          "Age": 26,
          "Age Cohort": "22 to 50",
          "Ethnicity": "Asian",
          "Expenditures": 30504,
          "Gender": "Female",
          "Id": 17456,
          "cohort_order": null
         },
         {
          "Age": 19,
          "Age Cohort": "18 to 21",
          "Ethnicity": "Hispanic",
          "Expenditures": 7621,
          "Gender": "Male",
          "Id": 17604,
          "cohort_order": null
         },
         {
          "Age": 18,
          "Age Cohort": "18 to 21",
          "Ethnicity": "White not Hispanic",
          "Expenditures": 13677,
          "Gender": "Male",
          "Id": 17605,
          "cohort_order": null
         },
         {
          "Age": 6,
          "Age Cohort": "6 to 12",
          "Ethnicity": "Hispanic",
          "Expenditures": 1423,
          "Gender": "Female",
          "Id": 17744,
          "cohort_order": null
         },
         {
          "Age": 17,
          "Age Cohort": "13 to 17",
          "Ethnicity": "Hispanic",
          "Expenditures": 4395,
          "Gender": "Female",
          "Id": 17799,
          "cohort_order": null
         },
         {
          "Age": 29,
          "Age Cohort": "22 to 50",
          "Ethnicity": "White not Hispanic",
          "Expenditures": 38236,
          "Gender": "Male",
          "Id": 18015,
          "cohort_order": null
         },
         {
          "Age": 17,
          "Age Cohort": "13 to 17",
          "Ethnicity": "White not Hispanic",
          "Expenditures": 6798,
          "Gender": "Male",
          "Id": 18057,
          "cohort_order": null
         },
         {
          "Age": 13,
          "Age Cohort": "13 to 17",
          "Ethnicity": "White not Hispanic",
          "Expenditures": 4052,
          "Gender": "Female",
          "Id": 18080,
          "cohort_order": null
         },
         {
          "Age": 48,
          "Age Cohort": "22 to 50",
          "Ethnicity": "White not Hispanic",
          "Expenditures": 49424,
          "Gender": "Female",
          "Id": 18095,
          "cohort_order": null
         },
         {
          "Age": 34,
          "Age Cohort": "22 to 50",
          "Ethnicity": "Hispanic",
          "Expenditures": 39521,
          "Gender": "Female",
          "Id": 18127,
          "cohort_order": null
         },
         {
          "Age": 9,
          "Age Cohort": "6 to 12",
          "Ethnicity": "Asian",
          "Expenditures": 2471,
          "Gender": "Female",
          "Id": 18223,
          "cohort_order": null
         },
         {
          "Age": 18,
          "Age Cohort": "18 to 21",
          "Ethnicity": "Hispanic",
          "Expenditures": 15018,
          "Gender": "Male",
          "Id": 18262,
          "cohort_order": null
         },
         {
          "Age": 16,
          "Age Cohort": "13 to 17",
          "Ethnicity": "White not Hispanic",
          "Expenditures": 2924,
          "Gender": "Male",
          "Id": 18313,
          "cohort_order": null
         },
         {
          "Age": 0,
          "Age Cohort": "0 to 5",
          "Ethnicity": "Multi Race",
          "Expenditures": 1149,
          "Gender": "Male",
          "Id": 18383,
          "cohort_order": null
         },
         {
          "Age": 15,
          "Age Cohort": "13 to 17",
          "Ethnicity": "Hispanic",
          "Expenditures": 4525,
          "Gender": "Female",
          "Id": 18421,
          "cohort_order": null
         },
         {
          "Age": 16,
          "Age Cohort": "13 to 17",
          "Ethnicity": "Hispanic",
          "Expenditures": 3796,
          "Gender": "Male",
          "Id": 18482,
          "cohort_order": null
         },
         {
          "Age": 18,
          "Age Cohort": "18 to 21",
          "Ethnicity": "Black",
          "Expenditures": 8730,
          "Gender": "Female",
          "Id": 18492,
          "cohort_order": null
         },
         {
          "Age": 28,
          "Age Cohort": "22 to 50",
          "Ethnicity": "Black",
          "Expenditures": 37247,
          "Gender": "Male",
          "Id": 18655,
          "cohort_order": null
         },
         {
          "Age": 28,
          "Age Cohort": "22 to 50",
          "Ethnicity": "White not Hispanic",
          "Expenditures": 31027,
          "Gender": "Female",
          "Id": 18656,
          "cohort_order": null
         },
         {
          "Age": 22,
          "Age Cohort": "22 to 50",
          "Ethnicity": "White not Hispanic",
          "Expenditures": 27364,
          "Gender": "Male",
          "Id": 18671,
          "cohort_order": null
         },
         {
          "Age": 27,
          "Age Cohort": "22 to 50",
          "Ethnicity": "White not Hispanic",
          "Expenditures": 30998,
          "Gender": "Female",
          "Id": 18749,
          "cohort_order": null
         },
         {
          "Age": 66,
          "Age Cohort": "51+",
          "Ethnicity": "Asian",
          "Expenditures": 49851,
          "Gender": "Female",
          "Id": 18867,
          "cohort_order": null
         },
         {
          "Age": 3,
          "Age Cohort": "0 to 5",
          "Ethnicity": "White not Hispanic",
          "Expenditures": 1057,
          "Gender": "Male",
          "Id": 18894,
          "cohort_order": null
         },
         {
          "Age": 22,
          "Age Cohort": "22 to 50",
          "Ethnicity": "White not Hispanic",
          "Expenditures": 42623,
          "Gender": "Male",
          "Id": 19107,
          "cohort_order": null
         },
         {
          "Age": 1,
          "Age Cohort": "0 to 5",
          "Ethnicity": "Hispanic",
          "Expenditures": 1363,
          "Gender": "Male",
          "Id": 19147,
          "cohort_order": null
         },
         {
          "Age": 13,
          "Age Cohort": "13 to 17",
          "Ethnicity": "Black",
          "Expenditures": 5324,
          "Gender": "Female",
          "Id": 19148,
          "cohort_order": null
         },
         {
          "Age": 22,
          "Age Cohort": "22 to 50",
          "Ethnicity": "Black",
          "Expenditures": 46513,
          "Gender": "Male",
          "Id": 19228,
          "cohort_order": null
         },
         {
          "Age": 15,
          "Age Cohort": "13 to 17",
          "Ethnicity": "White not Hispanic",
          "Expenditures": 2521,
          "Gender": "Female",
          "Id": 19247,
          "cohort_order": null
         },
         {
          "Age": 94,
          "Age Cohort": "51+",
          "Ethnicity": "Hispanic",
          "Expenditures": 60871,
          "Gender": "Female",
          "Id": 19250,
          "cohort_order": null
         },
         {
          "Age": 41,
          "Age Cohort": "22 to 50",
          "Ethnicity": "White not Hispanic",
          "Expenditures": 42139,
          "Gender": "Female",
          "Id": 19251,
          "cohort_order": null
         },
         {
          "Age": 5,
          "Age Cohort": "0 to 5",
          "Ethnicity": "Hispanic",
          "Expenditures": 1713,
          "Gender": "Male",
          "Id": 19290,
          "cohort_order": null
         },
         {
          "Age": 6,
          "Age Cohort": "6 to 12",
          "Ethnicity": "Asian",
          "Expenditures": 1814,
          "Gender": "Female",
          "Id": 19373,
          "cohort_order": null
         },
         {
          "Age": 60,
          "Age Cohort": "51+",
          "Ethnicity": "White not Hispanic",
          "Expenditures": 57702,
          "Gender": "Female",
          "Id": 19412,
          "cohort_order": null
         },
         {
          "Age": 23,
          "Age Cohort": "22 to 50",
          "Ethnicity": "White not Hispanic",
          "Expenditures": 36607,
          "Gender": "Female",
          "Id": 19510,
          "cohort_order": null
         },
         {
          "Age": 36,
          "Age Cohort": "22 to 50",
          "Ethnicity": "White not Hispanic",
          "Expenditures": 29144,
          "Gender": "Male",
          "Id": 19517,
          "cohort_order": null
         },
         {
          "Age": 21,
          "Age Cohort": "18 to 21",
          "Ethnicity": "White not Hispanic",
          "Expenditures": 7193,
          "Gender": "Female",
          "Id": 19571,
          "cohort_order": null
         },
         {
          "Age": 23,
          "Age Cohort": "22 to 50",
          "Ethnicity": "Hispanic",
          "Expenditures": 49028,
          "Gender": "Female",
          "Id": 19661,
          "cohort_order": null
         },
         {
          "Age": 80,
          "Age Cohort": "51+",
          "Ethnicity": "White not Hispanic",
          "Expenditures": 54309,
          "Gender": "Female",
          "Id": 19662,
          "cohort_order": null
         },
         {
          "Age": 6,
          "Age Cohort": "6 to 12",
          "Ethnicity": "White not Hispanic",
          "Expenditures": 987,
          "Gender": "Female",
          "Id": 19663,
          "cohort_order": null
         },
         {
          "Age": 25,
          "Age Cohort": "22 to 50",
          "Ethnicity": "White not Hispanic",
          "Expenditures": 41107,
          "Gender": "Female",
          "Id": 19825,
          "cohort_order": null
         },
         {
          "Age": 0,
          "Age Cohort": "0 to 5",
          "Ethnicity": "White not Hispanic",
          "Expenditures": 904,
          "Gender": "Male",
          "Id": 19917,
          "cohort_order": null
         },
         {
          "Age": 65,
          "Age Cohort": "51+",
          "Ethnicity": "White not Hispanic",
          "Expenditures": 56752,
          "Gender": "Female",
          "Id": 20057,
          "cohort_order": null
         },
         {
          "Age": 4,
          "Age Cohort": "0 to 5",
          "Ethnicity": "Hispanic",
          "Expenditures": 1977,
          "Gender": "Female",
          "Id": 20073,
          "cohort_order": null
         },
         {
          "Age": 12,
          "Age Cohort": "6 to 12",
          "Ethnicity": "Hispanic",
          "Expenditures": 3450,
          "Gender": "Female",
          "Id": 20380,
          "cohort_order": null
         },
         {
          "Age": 19,
          "Age Cohort": "18 to 21",
          "Ethnicity": "White not Hispanic",
          "Expenditures": 10716,
          "Gender": "Male",
          "Id": 20641,
          "cohort_order": null
         },
         {
          "Age": 20,
          "Age Cohort": "18 to 21",
          "Ethnicity": "Hispanic",
          "Expenditures": 9161,
          "Gender": "Male",
          "Id": 20810,
          "cohort_order": null
         },
         {
          "Age": 12,
          "Age Cohort": "6 to 12",
          "Ethnicity": "Hispanic",
          "Expenditures": 3007,
          "Gender": "Female",
          "Id": 20832,
          "cohort_order": null
         },
         {
          "Age": 33,
          "Age Cohort": "22 to 50",
          "Ethnicity": "White not Hispanic",
          "Expenditures": 34558,
          "Gender": "Male",
          "Id": 20872,
          "cohort_order": null
         },
         {
          "Age": 15,
          "Age Cohort": "13 to 17",
          "Ethnicity": "Hispanic",
          "Expenditures": 3269,
          "Gender": "Male",
          "Id": 20876,
          "cohort_order": null
         },
         {
          "Age": 24,
          "Age Cohort": "22 to 50",
          "Ethnicity": "Hispanic",
          "Expenditures": 40980,
          "Gender": "Female",
          "Id": 20918,
          "cohort_order": null
         },
         {
          "Age": 4,
          "Age Cohort": "0 to 5",
          "Ethnicity": "Hispanic",
          "Expenditures": 1196,
          "Gender": "Male",
          "Id": 20976,
          "cohort_order": null
         },
         {
          "Age": 18,
          "Age Cohort": "18 to 21",
          "Ethnicity": "Black",
          "Expenditures": 4814,
          "Gender": "Male",
          "Id": 20984,
          "cohort_order": null
         },
         {
          "Age": 5,
          "Age Cohort": "0 to 5",
          "Ethnicity": "White not Hispanic",
          "Expenditures": 1997,
          "Gender": "Male",
          "Id": 21140,
          "cohort_order": null
         },
         {
          "Age": 24,
          "Age Cohort": "22 to 50",
          "Ethnicity": "Hispanic",
          "Expenditures": 51149,
          "Gender": "Female",
          "Id": 21158,
          "cohort_order": null
         },
         {
          "Age": 18,
          "Age Cohort": "18 to 21",
          "Ethnicity": "Hispanic",
          "Expenditures": 11038,
          "Gender": "Female",
          "Id": 21167,
          "cohort_order": null
         },
         {
          "Age": 21,
          "Age Cohort": "18 to 21",
          "Ethnicity": "Asian",
          "Expenditures": 3988,
          "Gender": "Male",
          "Id": 21296,
          "cohort_order": null
         },
         {
          "Age": 18,
          "Age Cohort": "18 to 21",
          "Ethnicity": "White not Hispanic",
          "Expenditures": 12306,
          "Gender": "Female",
          "Id": 21305,
          "cohort_order": null
         },
         {
          "Age": 19,
          "Age Cohort": "18 to 21",
          "Ethnicity": "Hispanic",
          "Expenditures": 12649,
          "Gender": "Female",
          "Id": 21351,
          "cohort_order": null
         },
         {
          "Age": 24,
          "Age Cohort": "22 to 50",
          "Ethnicity": "White not Hispanic",
          "Expenditures": 37416,
          "Gender": "Male",
          "Id": 21503,
          "cohort_order": null
         },
         {
          "Age": 11,
          "Age Cohort": "6 to 12",
          "Ethnicity": "Hispanic",
          "Expenditures": 2664,
          "Gender": "Female",
          "Id": 21585,
          "cohort_order": null
         },
         {
          "Age": 66,
          "Age Cohort": "51+",
          "Ethnicity": "Hispanic",
          "Expenditures": 59926,
          "Gender": "Female",
          "Id": 21591,
          "cohort_order": null
         },
         {
          "Age": 20,
          "Age Cohort": "18 to 21",
          "Ethnicity": "Asian",
          "Expenditures": 10696,
          "Gender": "Female",
          "Id": 21742,
          "cohort_order": null
         },
         {
          "Age": 19,
          "Age Cohort": "18 to 21",
          "Ethnicity": "Hispanic",
          "Expenditures": 9972,
          "Gender": "Male",
          "Id": 22056,
          "cohort_order": null
         },
         {
          "Age": 14,
          "Age Cohort": "13 to 17",
          "Ethnicity": "Hispanic",
          "Expenditures": 5920,
          "Gender": "Female",
          "Id": 22124,
          "cohort_order": null
         },
         {
          "Age": 5,
          "Age Cohort": "0 to 5",
          "Ethnicity": "Hispanic",
          "Expenditures": 2549,
          "Gender": "Male",
          "Id": 22125,
          "cohort_order": null
         },
         {
          "Age": 17,
          "Age Cohort": "13 to 17",
          "Ethnicity": "Hispanic",
          "Expenditures": 2686,
          "Gender": "Male",
          "Id": 22446,
          "cohort_order": null
         },
         {
          "Age": 34,
          "Age Cohort": "22 to 50",
          "Ethnicity": "Hispanic",
          "Expenditures": 40277,
          "Gender": "Female",
          "Id": 22534,
          "cohort_order": null
         },
         {
          "Age": 27,
          "Age Cohort": "22 to 50",
          "Ethnicity": "White not Hispanic",
          "Expenditures": 42702,
          "Gender": "Female",
          "Id": 22541,
          "cohort_order": null
         },
         {
          "Age": 37,
          "Age Cohort": "22 to 50",
          "Ethnicity": "White not Hispanic",
          "Expenditures": 42455,
          "Gender": "Female",
          "Id": 22682,
          "cohort_order": null
         },
         {
          "Age": 13,
          "Age Cohort": "13 to 17",
          "Ethnicity": "Hispanic",
          "Expenditures": 4097,
          "Gender": "Male",
          "Id": 22697,
          "cohort_order": null
         },
         {
          "Age": 4,
          "Age Cohort": "0 to 5",
          "Ethnicity": "Hispanic",
          "Expenditures": 1957,
          "Gender": "Male",
          "Id": 22700,
          "cohort_order": null
         },
         {
          "Age": 5,
          "Age Cohort": "0 to 5",
          "Ethnicity": "Hispanic",
          "Expenditures": 1646,
          "Gender": "Male",
          "Id": 22764,
          "cohort_order": null
         },
         {
          "Age": 4,
          "Age Cohort": "0 to 5",
          "Ethnicity": "Hispanic",
          "Expenditures": 1525,
          "Gender": "Male",
          "Id": 22879,
          "cohort_order": null
         },
         {
          "Age": 4,
          "Age Cohort": "0 to 5",
          "Ethnicity": "Hispanic",
          "Expenditures": 1294,
          "Gender": "Male",
          "Id": 22964,
          "cohort_order": null
         },
         {
          "Age": 16,
          "Age Cohort": "13 to 17",
          "Ethnicity": "Multi Race",
          "Expenditures": 4664,
          "Gender": "Male",
          "Id": 22988,
          "cohort_order": null
         },
         {
          "Age": 22,
          "Age Cohort": "22 to 50",
          "Ethnicity": "White not Hispanic",
          "Expenditures": 43292,
          "Gender": "Male",
          "Id": 23032,
          "cohort_order": null
         },
         {
          "Age": 16,
          "Age Cohort": "13 to 17",
          "Ethnicity": "Asian",
          "Expenditures": 1432,
          "Gender": "Female",
          "Id": 23450,
          "cohort_order": null
         },
         {
          "Age": 0,
          "Age Cohort": "0 to 5",
          "Ethnicity": "Hispanic",
          "Expenditures": 1435,
          "Gender": "Male",
          "Id": 23493,
          "cohort_order": null
         },
         {
          "Age": 4,
          "Age Cohort": "0 to 5",
          "Ethnicity": "White not Hispanic",
          "Expenditures": 1631,
          "Gender": "Male",
          "Id": 23505,
          "cohort_order": null
         },
         {
          "Age": 20,
          "Age Cohort": "18 to 21",
          "Ethnicity": "Black",
          "Expenditures": 8687,
          "Gender": "Male",
          "Id": 23559,
          "cohort_order": null
         },
         {
          "Age": 19,
          "Age Cohort": "18 to 21",
          "Ethnicity": "Hispanic",
          "Expenditures": 8096,
          "Gender": "Female",
          "Id": 23617,
          "cohort_order": null
         },
         {
          "Age": 3,
          "Age Cohort": "0 to 5",
          "Ethnicity": "Hispanic",
          "Expenditures": 1123,
          "Gender": "Male",
          "Id": 23651,
          "cohort_order": null
         },
         {
          "Age": 77,
          "Age Cohort": "51+",
          "Ethnicity": "Asian",
          "Expenditures": 55015,
          "Gender": "Female",
          "Id": 23861,
          "cohort_order": null
         },
         {
          "Age": 4,
          "Age Cohort": "0 to 5",
          "Ethnicity": "White not Hispanic",
          "Expenditures": 1644,
          "Gender": "Male",
          "Id": 23890,
          "cohort_order": null
         },
         {
          "Age": 17,
          "Age Cohort": "13 to 17",
          "Ethnicity": "Hispanic",
          "Expenditures": 3678,
          "Gender": "Female",
          "Id": 23915,
          "cohort_order": null
         },
         {
          "Age": 18,
          "Age Cohort": "18 to 21",
          "Ethnicity": "White not Hispanic",
          "Expenditures": 8999,
          "Gender": "Male",
          "Id": 24042,
          "cohort_order": null
         },
         {
          "Age": 16,
          "Age Cohort": "13 to 17",
          "Ethnicity": "Hispanic",
          "Expenditures": 1740,
          "Gender": "Male",
          "Id": 24078,
          "cohort_order": null
         },
         {
          "Age": 21,
          "Age Cohort": "18 to 21",
          "Ethnicity": "Hispanic",
          "Expenditures": 15176,
          "Gender": "Female",
          "Id": 24128,
          "cohort_order": null
         },
         {
          "Age": 35,
          "Age Cohort": "22 to 50",
          "Ethnicity": "White not Hispanic",
          "Expenditures": 27417,
          "Gender": "Male",
          "Id": 24171,
          "cohort_order": null
         },
         {
          "Age": 18,
          "Age Cohort": "18 to 21",
          "Ethnicity": "White not Hispanic",
          "Expenditures": 9078,
          "Gender": "Female",
          "Id": 24270,
          "cohort_order": null
         },
         {
          "Age": 9,
          "Age Cohort": "6 to 12",
          "Ethnicity": "Hispanic",
          "Expenditures": 1963,
          "Gender": "Female",
          "Id": 24341,
          "cohort_order": null
         },
         {
          "Age": 15,
          "Age Cohort": "13 to 17",
          "Ethnicity": "Hispanic",
          "Expenditures": 4670,
          "Gender": "Male",
          "Id": 24510,
          "cohort_order": null
         },
         {
          "Age": 4,
          "Age Cohort": "0 to 5",
          "Ethnicity": "White not Hispanic",
          "Expenditures": 2553,
          "Gender": "Male",
          "Id": 24545,
          "cohort_order": null
         },
         {
          "Age": 14,
          "Age Cohort": "13 to 17",
          "Ethnicity": "Hispanic",
          "Expenditures": 3394,
          "Gender": "Male",
          "Id": 24617,
          "cohort_order": null
         },
         {
          "Age": 0,
          "Age Cohort": "0 to 5",
          "Ethnicity": "Hispanic",
          "Expenditures": 995,
          "Gender": "Female",
          "Id": 24635,
          "cohort_order": null
         },
         {
          "Age": 0,
          "Age Cohort": "0 to 5",
          "Ethnicity": "White not Hispanic",
          "Expenditures": 1068,
          "Gender": "Female",
          "Id": 24731,
          "cohort_order": null
         },
         {
          "Age": 15,
          "Age Cohort": "13 to 17",
          "Ethnicity": "White not Hispanic",
          "Expenditures": 4818,
          "Gender": "Male",
          "Id": 24786,
          "cohort_order": null
         },
         {
          "Age": 2,
          "Age Cohort": "0 to 5",
          "Ethnicity": "White not Hispanic",
          "Expenditures": 650,
          "Gender": "Male",
          "Id": 24838,
          "cohort_order": null
         },
         {
          "Age": 21,
          "Age Cohort": "18 to 21",
          "Ethnicity": "White not Hispanic",
          "Expenditures": 15179,
          "Gender": "Female",
          "Id": 24847,
          "cohort_order": null
         },
         {
          "Age": 21,
          "Age Cohort": "18 to 21",
          "Ethnicity": "Hispanic",
          "Expenditures": 16237,
          "Gender": "Female",
          "Id": 24850,
          "cohort_order": null
         },
         {
          "Age": 27,
          "Age Cohort": "22 to 50",
          "Ethnicity": "White not Hispanic",
          "Expenditures": 47242,
          "Gender": "Female",
          "Id": 24895,
          "cohort_order": null
         },
         {
          "Age": 82,
          "Age Cohort": "51+",
          "Ethnicity": "White not Hispanic",
          "Expenditures": 58922,
          "Gender": "Female",
          "Id": 24959,
          "cohort_order": null
         },
         {
          "Age": 21,
          "Age Cohort": "18 to 21",
          "Ethnicity": "Hispanic",
          "Expenditures": 9592,
          "Gender": "Male",
          "Id": 25000,
          "cohort_order": null
         },
         {
          "Age": 21,
          "Age Cohort": "18 to 21",
          "Ethnicity": "White not Hispanic",
          "Expenditures": 10008,
          "Gender": "Male",
          "Id": 25184,
          "cohort_order": null
         },
         {
          "Age": 28,
          "Age Cohort": "22 to 50",
          "Ethnicity": "White not Hispanic",
          "Expenditures": 42346,
          "Gender": "Female",
          "Id": 25281,
          "cohort_order": null
         },
         {
          "Age": 6,
          "Age Cohort": "6 to 12",
          "Ethnicity": "Hispanic",
          "Expenditures": 2119,
          "Gender": "Female",
          "Id": 25300,
          "cohort_order": null
         },
         {
          "Age": 40,
          "Age Cohort": "22 to 50",
          "Ethnicity": "White not Hispanic",
          "Expenditures": 42840,
          "Gender": "Male",
          "Id": 25321,
          "cohort_order": null
         },
         {
          "Age": 19,
          "Age Cohort": "18 to 21",
          "Ethnicity": "Hispanic",
          "Expenditures": 10292,
          "Gender": "Female",
          "Id": 25370,
          "cohort_order": null
         },
         {
          "Age": 16,
          "Age Cohort": "13 to 17",
          "Ethnicity": "Hispanic",
          "Expenditures": 3501,
          "Gender": "Female",
          "Id": 25457,
          "cohort_order": null
         },
         {
          "Age": 23,
          "Age Cohort": "22 to 50",
          "Ethnicity": "White not Hispanic",
          "Expenditures": 40992,
          "Gender": "Male",
          "Id": 25575,
          "cohort_order": null
         },
         {
          "Age": 0,
          "Age Cohort": "0 to 5",
          "Ethnicity": "Hispanic",
          "Expenditures": 741,
          "Gender": "Male",
          "Id": 25613,
          "cohort_order": null
         },
         {
          "Age": 42,
          "Age Cohort": "22 to 50",
          "Ethnicity": "White not Hispanic",
          "Expenditures": 37916,
          "Gender": "Male",
          "Id": 25649,
          "cohort_order": null
         },
         {
          "Age": 11,
          "Age Cohort": "6 to 12",
          "Ethnicity": "White not Hispanic",
          "Expenditures": 1339,
          "Gender": "Female",
          "Id": 25743,
          "cohort_order": null
         },
         {
          "Age": 74,
          "Age Cohort": "51+",
          "Ethnicity": "White not Hispanic",
          "Expenditures": 54266,
          "Gender": "Female",
          "Id": 25747,
          "cohort_order": null
         },
         {
          "Age": 4,
          "Age Cohort": "0 to 5",
          "Ethnicity": "Hispanic",
          "Expenditures": 1016,
          "Gender": "Male",
          "Id": 25765,
          "cohort_order": null
         },
         {
          "Age": 6,
          "Age Cohort": "6 to 12",
          "Ethnicity": "Hispanic",
          "Expenditures": 1582,
          "Gender": "Female",
          "Id": 26071,
          "cohort_order": null
         },
         {
          "Age": 20,
          "Age Cohort": "18 to 21",
          "Ethnicity": "Asian",
          "Expenditures": 13345,
          "Gender": "Male",
          "Id": 26099,
          "cohort_order": null
         },
         {
          "Age": 33,
          "Age Cohort": "22 to 50",
          "Ethnicity": "White not Hispanic",
          "Expenditures": 47204,
          "Gender": "Female",
          "Id": 26169,
          "cohort_order": null
         },
         {
          "Age": 17,
          "Age Cohort": "13 to 17",
          "Ethnicity": "Hispanic",
          "Expenditures": 4723,
          "Gender": "Male",
          "Id": 26423,
          "cohort_order": null
         },
         {
          "Age": 13,
          "Age Cohort": "13 to 17",
          "Ethnicity": "Hispanic",
          "Expenditures": 2460,
          "Gender": "Male",
          "Id": 26427,
          "cohort_order": null
         },
         {
          "Age": 0,
          "Age Cohort": "0 to 5",
          "Ethnicity": "Multi Race",
          "Expenditures": 2296,
          "Gender": "Male",
          "Id": 26437,
          "cohort_order": null
         },
         {
          "Age": 16,
          "Age Cohort": "13 to 17",
          "Ethnicity": "Hispanic",
          "Expenditures": 5718,
          "Gender": "Female",
          "Id": 26457,
          "cohort_order": null
         },
         {
          "Age": 21,
          "Age Cohort": "18 to 21",
          "Ethnicity": "Asian",
          "Expenditures": 7571,
          "Gender": "Female",
          "Id": 26648,
          "cohort_order": null
         },
         {
          "Age": 18,
          "Age Cohort": "18 to 21",
          "Ethnicity": "Asian",
          "Expenditures": 7207,
          "Gender": "Male",
          "Id": 27029,
          "cohort_order": null
         },
         {
          "Age": 4,
          "Age Cohort": "0 to 5",
          "Ethnicity": "Hispanic",
          "Expenditures": 1028,
          "Gender": "Male",
          "Id": 27031,
          "cohort_order": null
         },
         {
          "Age": 12,
          "Age Cohort": "6 to 12",
          "Ethnicity": "Hispanic",
          "Expenditures": 3141,
          "Gender": "Female",
          "Id": 27150,
          "cohort_order": null
         },
         {
          "Age": 17,
          "Age Cohort": "13 to 17",
          "Ethnicity": "White not Hispanic",
          "Expenditures": 4556,
          "Gender": "Male",
          "Id": 27311,
          "cohort_order": null
         },
         {
          "Age": 25,
          "Age Cohort": "22 to 50",
          "Ethnicity": "White not Hispanic",
          "Expenditures": 49142,
          "Gender": "Female",
          "Id": 27356,
          "cohort_order": null
         },
         {
          "Age": 11,
          "Age Cohort": "6 to 12",
          "Ethnicity": "Hispanic",
          "Expenditures": 3585,
          "Gender": "Male",
          "Id": 27484,
          "cohort_order": null
         },
         {
          "Age": 7,
          "Age Cohort": "6 to 12",
          "Ethnicity": "Hispanic",
          "Expenditures": 2039,
          "Gender": "Female",
          "Id": 27547,
          "cohort_order": null
         },
         {
          "Age": 12,
          "Age Cohort": "6 to 12",
          "Ethnicity": "White not Hispanic",
          "Expenditures": 2431,
          "Gender": "Female",
          "Id": 27561,
          "cohort_order": null
         },
         {
          "Age": 11,
          "Age Cohort": "6 to 12",
          "Ethnicity": "White not Hispanic",
          "Expenditures": 1024,
          "Gender": "Male",
          "Id": 27824,
          "cohort_order": null
         },
         {
          "Age": 22,
          "Age Cohort": "22 to 50",
          "Ethnicity": "Hispanic",
          "Expenditures": 43858,
          "Gender": "Female",
          "Id": 27921,
          "cohort_order": null
         },
         {
          "Age": 1,
          "Age Cohort": "0 to 5",
          "Ethnicity": "Hispanic",
          "Expenditures": 762,
          "Gender": "Male",
          "Id": 28013,
          "cohort_order": null
         },
         {
          "Age": 62,
          "Age Cohort": "51+",
          "Ethnicity": "White not Hispanic",
          "Expenditures": 49749,
          "Gender": "Female",
          "Id": 28053,
          "cohort_order": null
         },
         {
          "Age": 20,
          "Age Cohort": "18 to 21",
          "Ethnicity": "Hispanic",
          "Expenditures": 7081,
          "Gender": "Male",
          "Id": 28066,
          "cohort_order": null
         },
         {
          "Age": 5,
          "Age Cohort": "0 to 5",
          "Ethnicity": "Hispanic",
          "Expenditures": 2291,
          "Gender": "Female",
          "Id": 28083,
          "cohort_order": null
         },
         {
          "Age": 9,
          "Age Cohort": "6 to 12",
          "Ethnicity": "White not Hispanic",
          "Expenditures": 3374,
          "Gender": "Female",
          "Id": 28085,
          "cohort_order": null
         },
         {
          "Age": 4,
          "Age Cohort": "0 to 5",
          "Ethnicity": "Hispanic",
          "Expenditures": 2359,
          "Gender": "Male",
          "Id": 28189,
          "cohort_order": null
         },
         {
          "Age": 33,
          "Age Cohort": "22 to 50",
          "Ethnicity": "Hispanic",
          "Expenditures": 40809,
          "Gender": "Female",
          "Id": 28384,
          "cohort_order": null
         },
         {
          "Age": 4,
          "Age Cohort": "0 to 5",
          "Ethnicity": "Hispanic",
          "Expenditures": 2211,
          "Gender": "Male",
          "Id": 28469,
          "cohort_order": null
         },
         {
          "Age": 19,
          "Age Cohort": "18 to 21",
          "Ethnicity": "Hispanic",
          "Expenditures": 11527,
          "Gender": "Male",
          "Id": 28502,
          "cohort_order": null
         },
         {
          "Age": 15,
          "Age Cohort": "13 to 17",
          "Ethnicity": "Hispanic",
          "Expenditures": 3959,
          "Gender": "Female",
          "Id": 28514,
          "cohort_order": null
         },
         {
          "Age": 20,
          "Age Cohort": "18 to 21",
          "Ethnicity": "White not Hispanic",
          "Expenditures": 12854,
          "Gender": "Male",
          "Id": 28728,
          "cohort_order": null
         },
         {
          "Age": 1,
          "Age Cohort": "0 to 5",
          "Ethnicity": "Hispanic",
          "Expenditures": 966,
          "Gender": "Male",
          "Id": 28948,
          "cohort_order": null
         },
         {
          "Age": 21,
          "Age Cohort": "18 to 21",
          "Ethnicity": "Hispanic",
          "Expenditures": 7339,
          "Gender": "Male",
          "Id": 29038,
          "cohort_order": null
         },
         {
          "Age": 24,
          "Age Cohort": "22 to 50",
          "Ethnicity": "White not Hispanic",
          "Expenditures": 46703,
          "Gender": "Male",
          "Id": 29193,
          "cohort_order": null
         },
         {
          "Age": 8,
          "Age Cohort": "6 to 12",
          "Ethnicity": "Hispanic",
          "Expenditures": 3378,
          "Gender": "Female",
          "Id": 29411,
          "cohort_order": null
         },
         {
          "Age": 8,
          "Age Cohort": "6 to 12",
          "Ethnicity": "White not Hispanic",
          "Expenditures": 2807,
          "Gender": "Male",
          "Id": 29440,
          "cohort_order": null
         },
         {
          "Age": 30,
          "Age Cohort": "22 to 50",
          "Ethnicity": "White not Hispanic",
          "Expenditures": 46246,
          "Gender": "Male",
          "Id": 29447,
          "cohort_order": null
         },
         {
          "Age": 17,
          "Age Cohort": "13 to 17",
          "Ethnicity": "Hispanic",
          "Expenditures": 4513,
          "Gender": "Male",
          "Id": 29458,
          "cohort_order": null
         },
         {
          "Age": 56,
          "Age Cohort": "51+",
          "Ethnicity": "White not Hispanic",
          "Expenditures": 48215,
          "Gender": "Female",
          "Id": 29506,
          "cohort_order": null
         },
         {
          "Age": 16,
          "Age Cohort": "13 to 17",
          "Ethnicity": "White not Hispanic",
          "Expenditures": 2357,
          "Gender": "Male",
          "Id": 29574,
          "cohort_order": null
         },
         {
          "Age": 20,
          "Age Cohort": "18 to 21",
          "Ethnicity": "White not Hispanic",
          "Expenditures": 9597,
          "Gender": "Male",
          "Id": 29795,
          "cohort_order": null
         },
         {
          "Age": 14,
          "Age Cohort": "13 to 17",
          "Ethnicity": "Asian",
          "Expenditures": 386,
          "Gender": "Male",
          "Id": 29804,
          "cohort_order": null
         },
         {
          "Age": 7,
          "Age Cohort": "6 to 12",
          "Ethnicity": "Hispanic",
          "Expenditures": 1473,
          "Gender": "Female",
          "Id": 29840,
          "cohort_order": null
         },
         {
          "Age": 16,
          "Age Cohort": "13 to 17",
          "Ethnicity": "Hispanic",
          "Expenditures": 4112,
          "Gender": "Male",
          "Id": 29885,
          "cohort_order": null
         },
         {
          "Age": 19,
          "Age Cohort": "18 to 21",
          "Ethnicity": "Asian",
          "Expenditures": 8530,
          "Gender": "Female",
          "Id": 29902,
          "cohort_order": null
         },
         {
          "Age": 5,
          "Age Cohort": "0 to 5",
          "Ethnicity": "Asian",
          "Expenditures": 1315,
          "Gender": "Male",
          "Id": 29914,
          "cohort_order": null
         },
         {
          "Age": 14,
          "Age Cohort": "13 to 17",
          "Ethnicity": "Hispanic",
          "Expenditures": 4653,
          "Gender": "Male",
          "Id": 30012,
          "cohort_order": null
         },
         {
          "Age": 78,
          "Age Cohort": "51+",
          "Ethnicity": "American Indian",
          "Expenditures": 55430,
          "Gender": "Female",
          "Id": 30234,
          "cohort_order": null
         },
         {
          "Age": 9,
          "Age Cohort": "6 to 12",
          "Ethnicity": "White not Hispanic",
          "Expenditures": 722,
          "Gender": "Male",
          "Id": 30385,
          "cohort_order": null
         },
         {
          "Age": 19,
          "Age Cohort": "18 to 21",
          "Ethnicity": "Hispanic",
          "Expenditures": 7667,
          "Gender": "Female",
          "Id": 30438,
          "cohort_order": null
         },
         {
          "Age": 20,
          "Age Cohort": "18 to 21",
          "Ethnicity": "Hispanic",
          "Expenditures": 12587,
          "Gender": "Male",
          "Id": 30481,
          "cohort_order": null
         },
         {
          "Age": 7,
          "Age Cohort": "6 to 12",
          "Ethnicity": "Asian",
          "Expenditures": 1725,
          "Gender": "Male",
          "Id": 30517,
          "cohort_order": null
         },
         {
          "Age": 4,
          "Age Cohort": "0 to 5",
          "Ethnicity": "White not Hispanic",
          "Expenditures": 791,
          "Gender": "Female",
          "Id": 30617,
          "cohort_order": null
         },
         {
          "Age": 10,
          "Age Cohort": "6 to 12",
          "Ethnicity": "White not Hispanic",
          "Expenditures": 2189,
          "Gender": "Female",
          "Id": 30673,
          "cohort_order": null
         },
         {
          "Age": 3,
          "Age Cohort": "0 to 5",
          "Ethnicity": "Hispanic",
          "Expenditures": 668,
          "Gender": "Male",
          "Id": 30689,
          "cohort_order": null
         },
         {
          "Age": 20,
          "Age Cohort": "18 to 21",
          "Ethnicity": "Hispanic",
          "Expenditures": 6218,
          "Gender": "Female",
          "Id": 30780,
          "cohort_order": null
         },
         {
          "Age": 17,
          "Age Cohort": "13 to 17",
          "Ethnicity": "Hispanic",
          "Expenditures": 2015,
          "Gender": "Male",
          "Id": 30909,
          "cohort_order": null
         },
         {
          "Age": 21,
          "Age Cohort": "18 to 21",
          "Ethnicity": "Hispanic",
          "Expenditures": 8948,
          "Gender": "Male",
          "Id": 31063,
          "cohort_order": null
         },
         {
          "Age": 71,
          "Age Cohort": "51+",
          "Ethnicity": "White not Hispanic",
          "Expenditures": 52472,
          "Gender": "Female",
          "Id": 31163,
          "cohort_order": null
         },
         {
          "Age": 11,
          "Age Cohort": "6 to 12",
          "Ethnicity": "Multi Race",
          "Expenditures": 2918,
          "Gender": "Female",
          "Id": 31168,
          "cohort_order": null
         },
         {
          "Age": 2,
          "Age Cohort": "0 to 5",
          "Ethnicity": "Hispanic",
          "Expenditures": 561,
          "Gender": "Male",
          "Id": 31277,
          "cohort_order": null
         },
         {
          "Age": 88,
          "Age Cohort": "51+",
          "Ethnicity": "White not Hispanic",
          "Expenditures": 54655,
          "Gender": "Female",
          "Id": 31307,
          "cohort_order": null
         },
         {
          "Age": 70,
          "Age Cohort": "51+",
          "Ethnicity": "Hispanic",
          "Expenditures": 59622,
          "Gender": "Female",
          "Id": 31437,
          "cohort_order": null
         },
         {
          "Age": 23,
          "Age Cohort": "22 to 50",
          "Ethnicity": "Asian",
          "Expenditures": 32344,
          "Gender": "Male",
          "Id": 31632,
          "cohort_order": null
         },
         {
          "Age": 11,
          "Age Cohort": "6 to 12",
          "Ethnicity": "White not Hispanic",
          "Expenditures": 3335,
          "Gender": "Female",
          "Id": 31642,
          "cohort_order": null
         },
         {
          "Age": 60,
          "Age Cohort": "51+",
          "Ethnicity": "Black",
          "Expenditures": 46873,
          "Gender": "Female",
          "Id": 31658,
          "cohort_order": null
         },
         {
          "Age": 10,
          "Age Cohort": "6 to 12",
          "Ethnicity": "White not Hispanic",
          "Expenditures": 2380,
          "Gender": "Male",
          "Id": 31859,
          "cohort_order": null
         },
         {
          "Age": 17,
          "Age Cohort": "13 to 17",
          "Ethnicity": "Hispanic",
          "Expenditures": 4921,
          "Gender": "Female",
          "Id": 31910,
          "cohort_order": null
         },
         {
          "Age": 10,
          "Age Cohort": "6 to 12",
          "Ethnicity": "White not Hispanic",
          "Expenditures": 1455,
          "Gender": "Male",
          "Id": 31919,
          "cohort_order": null
         },
         {
          "Age": 25,
          "Age Cohort": "22 to 50",
          "Ethnicity": "White not Hispanic",
          "Expenditures": 38730,
          "Gender": "Male",
          "Id": 31960,
          "cohort_order": null
         },
         {
          "Age": 38,
          "Age Cohort": "22 to 50",
          "Ethnicity": "Hispanic",
          "Expenditures": 35088,
          "Gender": "Female",
          "Id": 31973,
          "cohort_order": null
         },
         {
          "Age": 11,
          "Age Cohort": "6 to 12",
          "Ethnicity": "Asian",
          "Expenditures": 2059,
          "Gender": "Female",
          "Id": 32161,
          "cohort_order": null
         },
         {
          "Age": 16,
          "Age Cohort": "13 to 17",
          "Ethnicity": "Asian",
          "Expenditures": 4054,
          "Gender": "Female",
          "Id": 32186,
          "cohort_order": null
         },
         {
          "Age": 7,
          "Age Cohort": "6 to 12",
          "Ethnicity": "Black",
          "Expenditures": 1212,
          "Gender": "Male",
          "Id": 32326,
          "cohort_order": null
         },
         {
          "Age": 19,
          "Age Cohort": "18 to 21",
          "Ethnicity": "White not Hispanic",
          "Expenditures": 12178,
          "Gender": "Male",
          "Id": 32395,
          "cohort_order": null
         },
         {
          "Age": 11,
          "Age Cohort": "6 to 12",
          "Ethnicity": "Hispanic",
          "Expenditures": 1084,
          "Gender": "Male",
          "Id": 32398,
          "cohort_order": null
         },
         {
          "Age": 15,
          "Age Cohort": "13 to 17",
          "Ethnicity": "Asian",
          "Expenditures": 3529,
          "Gender": "Female",
          "Id": 32519,
          "cohort_order": null
         },
         {
          "Age": 20,
          "Age Cohort": "18 to 21",
          "Ethnicity": "White not Hispanic",
          "Expenditures": 11775,
          "Gender": "Female",
          "Id": 32604,
          "cohort_order": null
         },
         {
          "Age": 24,
          "Age Cohort": "22 to 50",
          "Ethnicity": "White not Hispanic",
          "Expenditures": 36279,
          "Gender": "Female",
          "Id": 32664,
          "cohort_order": null
         },
         {
          "Age": 27,
          "Age Cohort": "22 to 50",
          "Ethnicity": "White not Hispanic",
          "Expenditures": 47021,
          "Gender": "Female",
          "Id": 32745,
          "cohort_order": null
         },
         {
          "Age": 8,
          "Age Cohort": "6 to 12",
          "Ethnicity": "Asian",
          "Expenditures": 641,
          "Gender": "Male",
          "Id": 32781,
          "cohort_order": null
         },
         {
          "Age": 20,
          "Age Cohort": "18 to 21",
          "Ethnicity": "White not Hispanic",
          "Expenditures": 6362,
          "Gender": "Male",
          "Id": 32893,
          "cohort_order": null
         },
         {
          "Age": 11,
          "Age Cohort": "6 to 12",
          "Ethnicity": "Hispanic",
          "Expenditures": 3695,
          "Gender": "Female",
          "Id": 33032,
          "cohort_order": null
         },
         {
          "Age": 4,
          "Age Cohort": "0 to 5",
          "Ethnicity": "Asian",
          "Expenditures": 1437,
          "Gender": "Male",
          "Id": 33305,
          "cohort_order": null
         },
         {
          "Age": 11,
          "Age Cohort": "6 to 12",
          "Ethnicity": "White not Hispanic",
          "Expenditures": 1582,
          "Gender": "Male",
          "Id": 33339,
          "cohort_order": null
         },
         {
          "Age": 25,
          "Age Cohort": "22 to 50",
          "Ethnicity": "Asian",
          "Expenditures": 41984,
          "Gender": "Female",
          "Id": 33360,
          "cohort_order": null
         },
         {
          "Age": 2,
          "Age Cohort": "0 to 5",
          "Ethnicity": "White not Hispanic",
          "Expenditures": 1347,
          "Gender": "Male",
          "Id": 33375,
          "cohort_order": null
         },
         {
          "Age": 18,
          "Age Cohort": "18 to 21",
          "Ethnicity": "White not Hispanic",
          "Expenditures": 13593,
          "Gender": "Female",
          "Id": 33464,
          "cohort_order": null
         },
         {
          "Age": 1,
          "Age Cohort": "0 to 5",
          "Ethnicity": "Hispanic",
          "Expenditures": 1767,
          "Gender": "Female",
          "Id": 33509,
          "cohort_order": null
         },
         {
          "Age": 12,
          "Age Cohort": "6 to 12",
          "Ethnicity": "White not Hispanic",
          "Expenditures": 2880,
          "Gender": "Female",
          "Id": 33551,
          "cohort_order": null
         },
         {
          "Age": 13,
          "Age Cohort": "13 to 17",
          "Ethnicity": "Asian",
          "Expenditures": 4483,
          "Gender": "Male",
          "Id": 33643,
          "cohort_order": null
         },
         {
          "Age": 13,
          "Age Cohort": "13 to 17",
          "Ethnicity": "White not Hispanic",
          "Expenditures": 4003,
          "Gender": "Male",
          "Id": 33886,
          "cohort_order": null
         },
         {
          "Age": 69,
          "Age Cohort": "51+",
          "Ethnicity": "White not Hispanic",
          "Expenditures": 67884,
          "Gender": "Male",
          "Id": 34146,
          "cohort_order": null
         },
         {
          "Age": 23,
          "Age Cohort": "22 to 50",
          "Ethnicity": "White not Hispanic",
          "Expenditures": 46590,
          "Gender": "Female",
          "Id": 34278,
          "cohort_order": null
         },
         {
          "Age": 31,
          "Age Cohort": "22 to 50",
          "Ethnicity": "White not Hispanic",
          "Expenditures": 39007,
          "Gender": "Male",
          "Id": 34522,
          "cohort_order": null
         },
         {
          "Age": 21,
          "Age Cohort": "18 to 21",
          "Ethnicity": "White not Hispanic",
          "Expenditures": 10046,
          "Gender": "Male",
          "Id": 34681,
          "cohort_order": null
         },
         {
          "Age": 9,
          "Age Cohort": "6 to 12",
          "Ethnicity": "Asian",
          "Expenditures": 2695,
          "Gender": "Male",
          "Id": 34751,
          "cohort_order": null
         },
         {
          "Age": 85,
          "Age Cohort": "51+",
          "Ethnicity": "White not Hispanic",
          "Expenditures": 64898,
          "Gender": "Male",
          "Id": 34763,
          "cohort_order": null
         },
         {
          "Age": 26,
          "Age Cohort": "22 to 50",
          "Ethnicity": "Hispanic",
          "Expenditures": 36738,
          "Gender": "Female",
          "Id": 34821,
          "cohort_order": null
         },
         {
          "Age": 27,
          "Age Cohort": "22 to 50",
          "Ethnicity": "White not Hispanic",
          "Expenditures": 34394,
          "Gender": "Male",
          "Id": 34983,
          "cohort_order": null
         },
         {
          "Age": 68,
          "Age Cohort": "51+",
          "Ethnicity": "Hispanic",
          "Expenditures": 49502,
          "Gender": "Male",
          "Id": 34997,
          "cohort_order": null
         },
         {
          "Age": 13,
          "Age Cohort": "13 to 17",
          "Ethnicity": "Black",
          "Expenditures": 4554,
          "Gender": "Male",
          "Id": 35066,
          "cohort_order": null
         },
         {
          "Age": 9,
          "Age Cohort": "6 to 12",
          "Ethnicity": "Asian",
          "Expenditures": 1824,
          "Gender": "Male",
          "Id": 35093,
          "cohort_order": null
         },
         {
          "Age": 30,
          "Age Cohort": "22 to 50",
          "Ethnicity": "White not Hispanic",
          "Expenditures": 43134,
          "Gender": "Female",
          "Id": 35298,
          "cohort_order": null
         },
         {
          "Age": 10,
          "Age Cohort": "6 to 12",
          "Ethnicity": "Multi Race",
          "Expenditures": 1622,
          "Gender": "Female",
          "Id": 35360,
          "cohort_order": null
         },
         {
          "Age": 13,
          "Age Cohort": "13 to 17",
          "Ethnicity": "Hispanic",
          "Expenditures": 3522,
          "Gender": "Male",
          "Id": 35503,
          "cohort_order": null
         },
         {
          "Age": 8,
          "Age Cohort": "6 to 12",
          "Ethnicity": "Hispanic",
          "Expenditures": 2776,
          "Gender": "Male",
          "Id": 35590,
          "cohort_order": null
         },
         {
          "Age": 18,
          "Age Cohort": "18 to 21",
          "Ethnicity": "White not Hispanic",
          "Expenditures": 14578,
          "Gender": "Female",
          "Id": 35630,
          "cohort_order": null
         },
         {
          "Age": 21,
          "Age Cohort": "18 to 21",
          "Ethnicity": "Hispanic",
          "Expenditures": 10150,
          "Gender": "Male",
          "Id": 35656,
          "cohort_order": null
         },
         {
          "Age": 20,
          "Age Cohort": "18 to 21",
          "Ethnicity": "White not Hispanic",
          "Expenditures": 9207,
          "Gender": "Female",
          "Id": 35666,
          "cohort_order": null
         },
         {
          "Age": 20,
          "Age Cohort": "18 to 21",
          "Ethnicity": "Hispanic",
          "Expenditures": 7605,
          "Gender": "Female",
          "Id": 35684,
          "cohort_order": null
         },
         {
          "Age": 8,
          "Age Cohort": "6 to 12",
          "Ethnicity": "Hispanic",
          "Expenditures": 2954,
          "Gender": "Male",
          "Id": 35799,
          "cohort_order": null
         },
         {
          "Age": 13,
          "Age Cohort": "13 to 17",
          "Ethnicity": "Black",
          "Expenditures": 2797,
          "Gender": "Male",
          "Id": 35970,
          "cohort_order": null
         },
         {
          "Age": 59,
          "Age Cohort": "51+",
          "Ethnicity": "Asian",
          "Expenditures": 42739,
          "Gender": "Male",
          "Id": 36123,
          "cohort_order": null
         },
         {
          "Age": 15,
          "Age Cohort": "13 to 17",
          "Ethnicity": "Asian",
          "Expenditures": 2900,
          "Gender": "Female",
          "Id": 36179,
          "cohort_order": null
         },
         {
          "Age": 1,
          "Age Cohort": "0 to 5",
          "Ethnicity": "White not Hispanic",
          "Expenditures": 384,
          "Gender": "Female",
          "Id": 36391,
          "cohort_order": null
         },
         {
          "Age": 21,
          "Age Cohort": "18 to 21",
          "Ethnicity": "Asian",
          "Expenditures": 9504,
          "Gender": "Female",
          "Id": 36459,
          "cohort_order": null
         },
         {
          "Age": 27,
          "Age Cohort": "22 to 50",
          "Ethnicity": "Hispanic",
          "Expenditures": 38031,
          "Gender": "Female",
          "Id": 36576,
          "cohort_order": null
         },
         {
          "Age": 19,
          "Age Cohort": "18 to 21",
          "Ethnicity": "White not Hispanic",
          "Expenditures": 7083,
          "Gender": "Male",
          "Id": 36578,
          "cohort_order": null
         },
         {
          "Age": 9,
          "Age Cohort": "6 to 12",
          "Ethnicity": "White not Hispanic",
          "Expenditures": 2877,
          "Gender": "Male",
          "Id": 36720,
          "cohort_order": null
         },
         {
          "Age": 6,
          "Age Cohort": "6 to 12",
          "Ethnicity": "Hispanic",
          "Expenditures": 1173,
          "Gender": "Male",
          "Id": 36802,
          "cohort_order": null
         },
         {
          "Age": 21,
          "Age Cohort": "18 to 21",
          "Ethnicity": "Hispanic",
          "Expenditures": 12083,
          "Gender": "Female",
          "Id": 37075,
          "cohort_order": null
         },
         {
          "Age": 19,
          "Age Cohort": "18 to 21",
          "Ethnicity": "White not Hispanic",
          "Expenditures": 3157,
          "Gender": "Male",
          "Id": 37287,
          "cohort_order": null
         },
         {
          "Age": 15,
          "Age Cohort": "13 to 17",
          "Ethnicity": "Hispanic",
          "Expenditures": 4533,
          "Gender": "Male",
          "Id": 37297,
          "cohort_order": null
         },
         {
          "Age": 17,
          "Age Cohort": "13 to 17",
          "Ethnicity": "White not Hispanic",
          "Expenditures": 3694,
          "Gender": "Female",
          "Id": 37335,
          "cohort_order": null
         },
         {
          "Age": 18,
          "Age Cohort": "18 to 21",
          "Ethnicity": "White not Hispanic",
          "Expenditures": 8299,
          "Gender": "Female",
          "Id": 37415,
          "cohort_order": null
         },
         {
          "Age": 76,
          "Age Cohort": "51+",
          "Ethnicity": "Hispanic",
          "Expenditures": 62097,
          "Gender": "Male",
          "Id": 37454,
          "cohort_order": null
         },
         {
          "Age": 18,
          "Age Cohort": "18 to 21",
          "Ethnicity": "Hispanic",
          "Expenditures": 11935,
          "Gender": "Male",
          "Id": 37524,
          "cohort_order": null
         },
         {
          "Age": 20,
          "Age Cohort": "18 to 21",
          "Ethnicity": "Hispanic",
          "Expenditures": 11034,
          "Gender": "Male",
          "Id": 37694,
          "cohort_order": null
         },
         {
          "Age": 19,
          "Age Cohort": "18 to 21",
          "Ethnicity": "White not Hispanic",
          "Expenditures": 12481,
          "Gender": "Male",
          "Id": 37731,
          "cohort_order": null
         },
         {
          "Age": 18,
          "Age Cohort": "18 to 21",
          "Ethnicity": "Asian",
          "Expenditures": 9200,
          "Gender": "Female",
          "Id": 37846,
          "cohort_order": null
         },
         {
          "Age": 20,
          "Age Cohort": "18 to 21",
          "Ethnicity": "Hispanic",
          "Expenditures": 10294,
          "Gender": "Female",
          "Id": 38017,
          "cohort_order": null
         },
         {
          "Age": 21,
          "Age Cohort": "18 to 21",
          "Ethnicity": "Asian",
          "Expenditures": 11668,
          "Gender": "Male",
          "Id": 38104,
          "cohort_order": null
         },
         {
          "Age": 37,
          "Age Cohort": "22 to 50",
          "Ethnicity": "White not Hispanic",
          "Expenditures": 37948,
          "Gender": "Female",
          "Id": 38121,
          "cohort_order": null
         },
         {
          "Age": 14,
          "Age Cohort": "13 to 17",
          "Ethnicity": "White not Hispanic",
          "Expenditures": 5530,
          "Gender": "Female",
          "Id": 38584,
          "cohort_order": null
         },
         {
          "Age": 16,
          "Age Cohort": "13 to 17",
          "Ethnicity": "Black",
          "Expenditures": 3909,
          "Gender": "Male",
          "Id": 38732,
          "cohort_order": null
         },
         {
          "Age": 16,
          "Age Cohort": "13 to 17",
          "Ethnicity": "Asian",
          "Expenditures": 5041,
          "Gender": "Male",
          "Id": 38889,
          "cohort_order": null
         },
         {
          "Age": 24,
          "Age Cohort": "22 to 50",
          "Ethnicity": "White not Hispanic",
          "Expenditures": 39345,
          "Gender": "Female",
          "Id": 38975,
          "cohort_order": null
         },
         {
          "Age": 18,
          "Age Cohort": "18 to 21",
          "Ethnicity": "Hispanic",
          "Expenditures": 16310,
          "Gender": "Female",
          "Id": 39060,
          "cohort_order": null
         },
         {
          "Age": 20,
          "Age Cohort": "18 to 21",
          "Ethnicity": "White not Hispanic",
          "Expenditures": 6272,
          "Gender": "Female",
          "Id": 39095,
          "cohort_order": null
         },
         {
          "Age": 0,
          "Age Cohort": "0 to 5",
          "Ethnicity": "White not Hispanic",
          "Expenditures": 685,
          "Gender": "Female",
          "Id": 39131,
          "cohort_order": null
         },
         {
          "Age": 9,
          "Age Cohort": "6 to 12",
          "Ethnicity": "Hispanic",
          "Expenditures": 2490,
          "Gender": "Male",
          "Id": 39134,
          "cohort_order": null
         },
         {
          "Age": 59,
          "Age Cohort": "51+",
          "Ethnicity": "White not Hispanic",
          "Expenditures": 44734,
          "Gender": "Female",
          "Id": 39287,
          "cohort_order": null
         },
         {
          "Age": 54,
          "Age Cohort": "51+",
          "Ethnicity": "White not Hispanic",
          "Expenditures": 52833,
          "Gender": "Female",
          "Id": 39672,
          "cohort_order": null
         },
         {
          "Age": 10,
          "Age Cohort": "6 to 12",
          "Ethnicity": "Black",
          "Expenditures": 2341,
          "Gender": "Female",
          "Id": 39767,
          "cohort_order": null
         },
         {
          "Age": 5,
          "Age Cohort": "0 to 5",
          "Ethnicity": "White not Hispanic",
          "Expenditures": 1088,
          "Gender": "Female",
          "Id": 39795,
          "cohort_order": null
         },
         {
          "Age": 14,
          "Age Cohort": "13 to 17",
          "Ethnicity": "Multi Race",
          "Expenditures": 3399,
          "Gender": "Male",
          "Id": 39942,
          "cohort_order": null
         },
         {
          "Age": 21,
          "Age Cohort": "18 to 21",
          "Ethnicity": "Hispanic",
          "Expenditures": 11811,
          "Gender": "Female",
          "Id": 39999,
          "cohort_order": null
         },
         {
          "Age": 17,
          "Age Cohort": "13 to 17",
          "Ethnicity": "Hispanic",
          "Expenditures": 3945,
          "Gender": "Male",
          "Id": 40105,
          "cohort_order": null
         },
         {
          "Age": 73,
          "Age Cohort": "51+",
          "Ethnicity": "Asian",
          "Expenditures": 60198,
          "Gender": "Female",
          "Id": 40159,
          "cohort_order": null
         },
         {
          "Age": 9,
          "Age Cohort": "6 to 12",
          "Ethnicity": "Hispanic",
          "Expenditures": 2781,
          "Gender": "Female",
          "Id": 40277,
          "cohort_order": null
         },
         {
          "Age": 4,
          "Age Cohort": "0 to 5",
          "Ethnicity": "Asian",
          "Expenditures": 374,
          "Gender": "Female",
          "Id": 40313,
          "cohort_order": null
         },
         {
          "Age": 30,
          "Age Cohort": "22 to 50",
          "Ethnicity": "White not Hispanic",
          "Expenditures": 36469,
          "Gender": "Male",
          "Id": 40409,
          "cohort_order": null
         },
         {
          "Age": 12,
          "Age Cohort": "6 to 12",
          "Ethnicity": "White not Hispanic",
          "Expenditures": 2269,
          "Gender": "Male",
          "Id": 40412,
          "cohort_order": null
         },
         {
          "Age": 21,
          "Age Cohort": "18 to 21",
          "Ethnicity": "White not Hispanic",
          "Expenditures": 10973,
          "Gender": "Female",
          "Id": 40847,
          "cohort_order": null
         },
         {
          "Age": 13,
          "Age Cohort": "13 to 17",
          "Ethnicity": "Hispanic",
          "Expenditures": 1597,
          "Gender": "Male",
          "Id": 40892,
          "cohort_order": null
         },
         {
          "Age": 25,
          "Age Cohort": "22 to 50",
          "Ethnicity": "Hispanic",
          "Expenditures": 48684,
          "Gender": "Female",
          "Id": 40952,
          "cohort_order": null
         },
         {
          "Age": 14,
          "Age Cohort": "13 to 17",
          "Ethnicity": "White not Hispanic",
          "Expenditures": 2366,
          "Gender": "Female",
          "Id": 40987,
          "cohort_order": null
         },
         {
          "Age": 32,
          "Age Cohort": "22 to 50",
          "Ethnicity": "White not Hispanic",
          "Expenditures": 45017,
          "Gender": "Female",
          "Id": 41163,
          "cohort_order": null
         },
         {
          "Age": 32,
          "Age Cohort": "22 to 50",
          "Ethnicity": "Black",
          "Expenditures": 43545,
          "Gender": "Male",
          "Id": 41176,
          "cohort_order": null
         },
         {
          "Age": 7,
          "Age Cohort": "6 to 12",
          "Ethnicity": "White not Hispanic",
          "Expenditures": 1645,
          "Gender": "Male",
          "Id": 41831,
          "cohort_order": null
         },
         {
          "Age": 13,
          "Age Cohort": "13 to 17",
          "Ethnicity": "Hispanic",
          "Expenditures": 4975,
          "Gender": "Male",
          "Id": 41850,
          "cohort_order": null
         },
         {
          "Age": 14,
          "Age Cohort": "13 to 17",
          "Ethnicity": "Hispanic",
          "Expenditures": 3257,
          "Gender": "Female",
          "Id": 41968,
          "cohort_order": null
         },
         {
          "Age": 18,
          "Age Cohort": "18 to 21",
          "Ethnicity": "Asian",
          "Expenditures": 7878,
          "Gender": "Male",
          "Id": 42216,
          "cohort_order": null
         },
         {
          "Age": 16,
          "Age Cohort": "13 to 17",
          "Ethnicity": "White not Hispanic",
          "Expenditures": 3977,
          "Gender": "Female",
          "Id": 42229,
          "cohort_order": null
         },
         {
          "Age": 6,
          "Age Cohort": "6 to 12",
          "Ethnicity": "Hispanic",
          "Expenditures": 2247,
          "Gender": "Male",
          "Id": 42262,
          "cohort_order": null
         },
         {
          "Age": 16,
          "Age Cohort": "13 to 17",
          "Ethnicity": "White not Hispanic",
          "Expenditures": 4215,
          "Gender": "Female",
          "Id": 42265,
          "cohort_order": null
         },
         {
          "Age": 74,
          "Age Cohort": "51+",
          "Ethnicity": "White not Hispanic",
          "Expenditures": 52041,
          "Gender": "Male",
          "Id": 42348,
          "cohort_order": null
         },
         {
          "Age": 9,
          "Age Cohort": "6 to 12",
          "Ethnicity": "Hispanic",
          "Expenditures": 1758,
          "Gender": "Male",
          "Id": 42489,
          "cohort_order": null
         },
         {
          "Age": 24,
          "Age Cohort": "22 to 50",
          "Ethnicity": "Hispanic",
          "Expenditures": 51392,
          "Gender": "Male",
          "Id": 42590,
          "cohort_order": null
         },
         {
          "Age": 0,
          "Age Cohort": "0 to 5",
          "Ethnicity": "Black",
          "Expenditures": 1398,
          "Gender": "Female",
          "Id": 42593,
          "cohort_order": null
         },
         {
          "Age": 86,
          "Age Cohort": "51+",
          "Ethnicity": "White not Hispanic",
          "Expenditures": 60452,
          "Gender": "Male",
          "Id": 42657,
          "cohort_order": null
         },
         {
          "Age": 17,
          "Age Cohort": "13 to 17",
          "Ethnicity": "Hispanic",
          "Expenditures": 4495,
          "Gender": "Female",
          "Id": 42732,
          "cohort_order": null
         },
         {
          "Age": 15,
          "Age Cohort": "13 to 17",
          "Ethnicity": "Hispanic",
          "Expenditures": 2744,
          "Gender": "Female",
          "Id": 42804,
          "cohort_order": null
         },
         {
          "Age": 74,
          "Age Cohort": "51+",
          "Ethnicity": "White not Hispanic",
          "Expenditures": 57760,
          "Gender": "Female",
          "Id": 42905,
          "cohort_order": null
         },
         {
          "Age": 16,
          "Age Cohort": "13 to 17",
          "Ethnicity": "Hispanic",
          "Expenditures": 3561,
          "Gender": "Male",
          "Id": 43039,
          "cohort_order": null
         },
         {
          "Age": 21,
          "Age Cohort": "18 to 21",
          "Ethnicity": "White not Hispanic",
          "Expenditures": 10063,
          "Gender": "Female",
          "Id": 43188,
          "cohort_order": null
         },
         {
          "Age": 11,
          "Age Cohort": "6 to 12",
          "Ethnicity": "Hispanic",
          "Expenditures": 2906,
          "Gender": "Female",
          "Id": 43245,
          "cohort_order": null
         },
         {
          "Age": 11,
          "Age Cohort": "6 to 12",
          "Ethnicity": "Multi Race",
          "Expenditures": 2140,
          "Gender": "Male",
          "Id": 43291,
          "cohort_order": null
         },
         {
          "Age": 34,
          "Age Cohort": "22 to 50",
          "Ethnicity": "White not Hispanic",
          "Expenditures": 46325,
          "Gender": "Female",
          "Id": 43308,
          "cohort_order": null
         },
         {
          "Age": 57,
          "Age Cohort": "51+",
          "Ethnicity": "White not Hispanic",
          "Expenditures": 48363,
          "Gender": "Male",
          "Id": 43455,
          "cohort_order": null
         },
         {
          "Age": 16,
          "Age Cohort": "13 to 17",
          "Ethnicity": "Hispanic",
          "Expenditures": 5637,
          "Gender": "Female",
          "Id": 43478,
          "cohort_order": null
         },
         {
          "Age": 16,
          "Age Cohort": "13 to 17",
          "Ethnicity": "White not Hispanic",
          "Expenditures": 3740,
          "Gender": "Female",
          "Id": 43516,
          "cohort_order": null
         },
         {
          "Age": 13,
          "Age Cohort": "13 to 17",
          "Ethnicity": "Asian",
          "Expenditures": 4014,
          "Gender": "Male",
          "Id": 43574,
          "cohort_order": null
         },
         {
          "Age": 8,
          "Age Cohort": "6 to 12",
          "Ethnicity": "Hispanic",
          "Expenditures": 2904,
          "Gender": "Female",
          "Id": 43586,
          "cohort_order": null
         },
         {
          "Age": 9,
          "Age Cohort": "6 to 12",
          "Ethnicity": "White not Hispanic",
          "Expenditures": 2854,
          "Gender": "Female",
          "Id": 43735,
          "cohort_order": null
         },
         {
          "Age": 28,
          "Age Cohort": "22 to 50",
          "Ethnicity": "Hispanic",
          "Expenditures": 39147,
          "Gender": "Female",
          "Id": 43762,
          "cohort_order": null
         },
         {
          "Age": 15,
          "Age Cohort": "13 to 17",
          "Ethnicity": "White not Hispanic",
          "Expenditures": 4036,
          "Gender": "Female",
          "Id": 43767,
          "cohort_order": null
         },
         {
          "Age": 12,
          "Age Cohort": "6 to 12",
          "Ethnicity": "Asian",
          "Expenditures": 3196,
          "Gender": "Male",
          "Id": 43768,
          "cohort_order": null
         },
         {
          "Age": 17,
          "Age Cohort": "13 to 17",
          "Ethnicity": "White not Hispanic",
          "Expenditures": 3677,
          "Gender": "Female",
          "Id": 43881,
          "cohort_order": null
         },
         {
          "Age": 20,
          "Age Cohort": "18 to 21",
          "Ethnicity": "Hispanic",
          "Expenditures": 6397,
          "Gender": "Male",
          "Id": 43984,
          "cohort_order": null
         },
         {
          "Age": 27,
          "Age Cohort": "22 to 50",
          "Ethnicity": "White not Hispanic",
          "Expenditures": 48745,
          "Gender": "Female",
          "Id": 43990,
          "cohort_order": null
         },
         {
          "Age": 20,
          "Age Cohort": "18 to 21",
          "Ethnicity": "Hispanic",
          "Expenditures": 7446,
          "Gender": "Male",
          "Id": 44297,
          "cohort_order": null
         },
         {
          "Age": 12,
          "Age Cohort": "6 to 12",
          "Ethnicity": "White not Hispanic",
          "Expenditures": 1109,
          "Gender": "Male",
          "Id": 44312,
          "cohort_order": null
         },
         {
          "Age": 17,
          "Age Cohort": "13 to 17",
          "Ethnicity": "Hispanic",
          "Expenditures": 5163,
          "Gender": "Male",
          "Id": 44401,
          "cohort_order": null
         },
         {
          "Age": 67,
          "Age Cohort": "51+",
          "Ethnicity": "Hispanic",
          "Expenditures": 52243,
          "Gender": "Male",
          "Id": 44451,
          "cohort_order": null
         },
         {
          "Age": 26,
          "Age Cohort": "22 to 50",
          "Ethnicity": "White not Hispanic",
          "Expenditures": 40637,
          "Gender": "Male",
          "Id": 44613,
          "cohort_order": null
         },
         {
          "Age": 14,
          "Age Cohort": "13 to 17",
          "Ethnicity": "Hispanic",
          "Expenditures": 4774,
          "Gender": "Female",
          "Id": 44669,
          "cohort_order": null
         },
         {
          "Age": 28,
          "Age Cohort": "22 to 50",
          "Ethnicity": "White not Hispanic",
          "Expenditures": 41464,
          "Gender": "Male",
          "Id": 44973,
          "cohort_order": null
         },
         {
          "Age": 52,
          "Age Cohort": "51+",
          "Ethnicity": "Hispanic",
          "Expenditures": 51777,
          "Gender": "Male",
          "Id": 45104,
          "cohort_order": null
         },
         {
          "Age": 57,
          "Age Cohort": "51+",
          "Ethnicity": "White not Hispanic",
          "Expenditures": 42897,
          "Gender": "Female",
          "Id": 45274,
          "cohort_order": null
         },
         {
          "Age": 76,
          "Age Cohort": "51+",
          "Ethnicity": "White not Hispanic",
          "Expenditures": 59829,
          "Gender": "Male",
          "Id": 45319,
          "cohort_order": null
         },
         {
          "Age": 16,
          "Age Cohort": "13 to 17",
          "Ethnicity": "Hispanic",
          "Expenditures": 3141,
          "Gender": "Male",
          "Id": 45468,
          "cohort_order": null
         },
         {
          "Age": 9,
          "Age Cohort": "6 to 12",
          "Ethnicity": "Asian",
          "Expenditures": 2028,
          "Gender": "Male",
          "Id": 45476,
          "cohort_order": null
         },
         {
          "Age": 14,
          "Age Cohort": "13 to 17",
          "Ethnicity": "White not Hispanic",
          "Expenditures": 4363,
          "Gender": "Female",
          "Id": 45499,
          "cohort_order": null
         },
         {
          "Age": 27,
          "Age Cohort": "22 to 50",
          "Ethnicity": "Asian",
          "Expenditures": 37778,
          "Gender": "Female",
          "Id": 45540,
          "cohort_order": null
         },
         {
          "Age": 8,
          "Age Cohort": "6 to 12",
          "Ethnicity": "White not Hispanic",
          "Expenditures": 1332,
          "Gender": "Male",
          "Id": 45600,
          "cohort_order": null
         },
         {
          "Age": 22,
          "Age Cohort": "22 to 50",
          "Ethnicity": "Hispanic",
          "Expenditures": 36691,
          "Gender": "Female",
          "Id": 45625,
          "cohort_order": null
         },
         {
          "Age": 73,
          "Age Cohort": "51+",
          "Ethnicity": "Hispanic",
          "Expenditures": 53211,
          "Gender": "Male",
          "Id": 45679,
          "cohort_order": null
         },
         {
          "Age": 11,
          "Age Cohort": "6 to 12",
          "Ethnicity": "Multi Race",
          "Expenditures": 1144,
          "Gender": "Male",
          "Id": 45755,
          "cohort_order": null
         },
         {
          "Age": 11,
          "Age Cohort": "6 to 12",
          "Ethnicity": "White not Hispanic",
          "Expenditures": 1217,
          "Gender": "Female",
          "Id": 45798,
          "cohort_order": null
         },
         {
          "Age": 89,
          "Age Cohort": "51+",
          "Ethnicity": "White not Hispanic",
          "Expenditures": 58304,
          "Gender": "Female",
          "Id": 45827,
          "cohort_order": null
         },
         {
          "Age": 2,
          "Age Cohort": "0 to 5",
          "Ethnicity": "White not Hispanic",
          "Expenditures": 1113,
          "Gender": "Female",
          "Id": 45828,
          "cohort_order": null
         },
         {
          "Age": 73,
          "Age Cohort": "51+",
          "Ethnicity": "White not Hispanic",
          "Expenditures": 47997,
          "Gender": "Male",
          "Id": 45958,
          "cohort_order": null
         },
         {
          "Age": 19,
          "Age Cohort": "18 to 21",
          "Ethnicity": "White not Hispanic",
          "Expenditures": 10502,
          "Gender": "Female",
          "Id": 45962,
          "cohort_order": null
         },
         {
          "Age": 13,
          "Age Cohort": "13 to 17",
          "Ethnicity": "White not Hispanic",
          "Expenditures": 5872,
          "Gender": "Male",
          "Id": 46063,
          "cohort_order": null
         },
         {
          "Age": 33,
          "Age Cohort": "22 to 50",
          "Ethnicity": "White not Hispanic",
          "Expenditures": 27090,
          "Gender": "Male",
          "Id": 46251,
          "cohort_order": null
         },
         {
          "Age": 32,
          "Age Cohort": "22 to 50",
          "Ethnicity": "Black",
          "Expenditures": 37697,
          "Gender": "Female",
          "Id": 46272,
          "cohort_order": null
         },
         {
          "Age": 17,
          "Age Cohort": "13 to 17",
          "Ethnicity": "Hispanic",
          "Expenditures": 5040,
          "Gender": "Female",
          "Id": 46389,
          "cohort_order": null
         },
         {
          "Age": 7,
          "Age Cohort": "6 to 12",
          "Ethnicity": "White not Hispanic",
          "Expenditures": 2415,
          "Gender": "Male",
          "Id": 46498,
          "cohort_order": null
         },
         {
          "Age": 11,
          "Age Cohort": "6 to 12",
          "Ethnicity": "Hispanic",
          "Expenditures": 2167,
          "Gender": "Male",
          "Id": 46628,
          "cohort_order": null
         },
         {
          "Age": 26,
          "Age Cohort": "22 to 50",
          "Ethnicity": "Asian",
          "Expenditures": 41144,
          "Gender": "Male",
          "Id": 46637,
          "cohort_order": null
         },
         {
          "Age": 95,
          "Age Cohort": "51+",
          "Ethnicity": "Hispanic",
          "Expenditures": 55187,
          "Gender": "Male",
          "Id": 46726,
          "cohort_order": null
         },
         {
          "Age": 66,
          "Age Cohort": "51+",
          "Ethnicity": "Black",
          "Expenditures": 49056,
          "Gender": "Male",
          "Id": 46876,
          "cohort_order": null
         },
         {
          "Age": 35,
          "Age Cohort": "22 to 50",
          "Ethnicity": "White not Hispanic",
          "Expenditures": 32529,
          "Gender": "Female",
          "Id": 46945,
          "cohort_order": null
         },
         {
          "Age": 16,
          "Age Cohort": "13 to 17",
          "Ethnicity": "White not Hispanic",
          "Expenditures": 3738,
          "Gender": "Female",
          "Id": 46977,
          "cohort_order": null
         },
         {
          "Age": 25,
          "Age Cohort": "22 to 50",
          "Ethnicity": "Multi Race",
          "Expenditures": 38619,
          "Gender": "Male",
          "Id": 47043,
          "cohort_order": null
         },
         {
          "Age": 30,
          "Age Cohort": "22 to 50",
          "Ethnicity": "Black",
          "Expenditures": 44910,
          "Gender": "Male",
          "Id": 47059,
          "cohort_order": null
         },
         {
          "Age": 7,
          "Age Cohort": "6 to 12",
          "Ethnicity": "Hispanic",
          "Expenditures": 2797,
          "Gender": "Female",
          "Id": 47217,
          "cohort_order": null
         },
         {
          "Age": 16,
          "Age Cohort": "13 to 17",
          "Ethnicity": "Hispanic",
          "Expenditures": 4975,
          "Gender": "Male",
          "Id": 47236,
          "cohort_order": null
         },
         {
          "Age": 16,
          "Age Cohort": "13 to 17",
          "Ethnicity": "Asian",
          "Expenditures": 4067,
          "Gender": "Male",
          "Id": 47553,
          "cohort_order": null
         },
         {
          "Age": 17,
          "Age Cohort": "13 to 17",
          "Ethnicity": "Black",
          "Expenditures": 4918,
          "Gender": "Male",
          "Id": 47748,
          "cohort_order": null
         },
         {
          "Age": 31,
          "Age Cohort": "22 to 50",
          "Ethnicity": "Asian",
          "Expenditures": 47778,
          "Gender": "Female",
          "Id": 47809,
          "cohort_order": null
         },
         {
          "Age": 9,
          "Age Cohort": "6 to 12",
          "Ethnicity": "Hispanic",
          "Expenditures": 2755,
          "Gender": "Male",
          "Id": 47887,
          "cohort_order": null
         },
         {
          "Age": 22,
          "Age Cohort": "22 to 50",
          "Ethnicity": "White not Hispanic",
          "Expenditures": 27058,
          "Gender": "Male",
          "Id": 47979,
          "cohort_order": null
         },
         {
          "Age": 64,
          "Age Cohort": "51+",
          "Ethnicity": "White not Hispanic",
          "Expenditures": 57119,
          "Gender": "Male",
          "Id": 47997,
          "cohort_order": null
         },
         {
          "Age": 15,
          "Age Cohort": "13 to 17",
          "Ethnicity": "Asian",
          "Expenditures": 3728,
          "Gender": "Female",
          "Id": 48101,
          "cohort_order": null
         },
         {
          "Age": 16,
          "Age Cohort": "13 to 17",
          "Ethnicity": "White not Hispanic",
          "Expenditures": 4550,
          "Gender": "Male",
          "Id": 48169,
          "cohort_order": null
         },
         {
          "Age": 81,
          "Age Cohort": "51+",
          "Ethnicity": "Asian",
          "Expenditures": 75098,
          "Gender": "Female",
          "Id": 48328,
          "cohort_order": null
         },
         {
          "Age": 9,
          "Age Cohort": "6 to 12",
          "Ethnicity": "Hispanic",
          "Expenditures": 2016,
          "Gender": "Female",
          "Id": 48353,
          "cohort_order": null
         },
         {
          "Age": 7,
          "Age Cohort": "6 to 12",
          "Ethnicity": "Asian",
          "Expenditures": 1974,
          "Gender": "Male",
          "Id": 48653,
          "cohort_order": null
         },
         {
          "Age": 21,
          "Age Cohort": "18 to 21",
          "Ethnicity": "Black",
          "Expenditures": 12259,
          "Gender": "Male",
          "Id": 48882,
          "cohort_order": null
         },
         {
          "Age": 39,
          "Age Cohort": "22 to 50",
          "Ethnicity": "Black",
          "Expenditures": 36576,
          "Gender": "Male",
          "Id": 48938,
          "cohort_order": null
         },
         {
          "Age": 13,
          "Age Cohort": "13 to 17",
          "Ethnicity": "Hispanic",
          "Expenditures": 2810,
          "Gender": "Male",
          "Id": 49026,
          "cohort_order": null
         },
         {
          "Age": 16,
          "Age Cohort": "13 to 17",
          "Ethnicity": "Hispanic",
          "Expenditures": 3745,
          "Gender": "Male",
          "Id": 49094,
          "cohort_order": null
         },
         {
          "Age": 10,
          "Age Cohort": "6 to 12",
          "Ethnicity": "Hispanic",
          "Expenditures": 2854,
          "Gender": "Female",
          "Id": 49199,
          "cohort_order": null
         },
         {
          "Age": 1,
          "Age Cohort": "0 to 5",
          "Ethnicity": "Hispanic",
          "Expenditures": 1592,
          "Gender": "Female",
          "Id": 49285,
          "cohort_order": null
         },
         {
          "Age": 13,
          "Age Cohort": "13 to 17",
          "Ethnicity": "White not Hispanic",
          "Expenditures": 4245,
          "Gender": "Male",
          "Id": 49463,
          "cohort_order": null
         },
         {
          "Age": 16,
          "Age Cohort": "13 to 17",
          "Ethnicity": "Hispanic",
          "Expenditures": 3445,
          "Gender": "Male",
          "Id": 49506,
          "cohort_order": null
         },
         {
          "Age": 18,
          "Age Cohort": "18 to 21",
          "Ethnicity": "Asian",
          "Expenditures": 3153,
          "Gender": "Male",
          "Id": 49533,
          "cohort_order": null
         },
         {
          "Age": 65,
          "Age Cohort": "51+",
          "Ethnicity": "Asian",
          "Expenditures": 52076,
          "Gender": "Male",
          "Id": 49598,
          "cohort_order": null
         },
         {
          "Age": 10,
          "Age Cohort": "6 to 12",
          "Ethnicity": "White not Hispanic",
          "Expenditures": 676,
          "Gender": "Male",
          "Id": 49631,
          "cohort_order": null
         },
         {
          "Age": 16,
          "Age Cohort": "13 to 17",
          "Ethnicity": "Hispanic",
          "Expenditures": 4696,
          "Gender": "Female",
          "Id": 49818,
          "cohort_order": null
         },
         {
          "Age": 16,
          "Age Cohort": "13 to 17",
          "Ethnicity": "Black",
          "Expenditures": 4949,
          "Gender": "Female",
          "Id": 49889,
          "cohort_order": null
         },
         {
          "Age": 25,
          "Age Cohort": "22 to 50",
          "Ethnicity": "White not Hispanic",
          "Expenditures": 44916,
          "Gender": "Female",
          "Id": 49977,
          "cohort_order": null
         },
         {
          "Age": 18,
          "Age Cohort": "18 to 21",
          "Ethnicity": "Asian",
          "Expenditures": 11125,
          "Gender": "Female",
          "Id": 50053,
          "cohort_order": null
         },
         {
          "Age": 6,
          "Age Cohort": "6 to 12",
          "Ethnicity": "Hispanic",
          "Expenditures": 4163,
          "Gender": "Female",
          "Id": 50112,
          "cohort_order": null
         },
         {
          "Age": 14,
          "Age Cohort": "13 to 17",
          "Ethnicity": "Hispanic",
          "Expenditures": 4608,
          "Gender": "Male",
          "Id": 50140,
          "cohort_order": null
         },
         {
          "Age": 25,
          "Age Cohort": "22 to 50",
          "Ethnicity": "White not Hispanic",
          "Expenditures": 41752,
          "Gender": "Female",
          "Id": 50208,
          "cohort_order": null
         },
         {
          "Age": 19,
          "Age Cohort": "18 to 21",
          "Ethnicity": "Multi Race",
          "Expenditures": 7564,
          "Gender": "Female",
          "Id": 50222,
          "cohort_order": null
         },
         {
          "Age": 25,
          "Age Cohort": "22 to 50",
          "Ethnicity": "Hispanic",
          "Expenditures": 46951,
          "Gender": "Male",
          "Id": 50270,
          "cohort_order": null
         },
         {
          "Age": 16,
          "Age Cohort": "13 to 17",
          "Ethnicity": "White not Hispanic",
          "Expenditures": 3555,
          "Gender": "Female",
          "Id": 50349,
          "cohort_order": null
         },
         {
          "Age": 12,
          "Age Cohort": "6 to 12",
          "Ethnicity": "Hispanic",
          "Expenditures": 3562,
          "Gender": "Female",
          "Id": 50478,
          "cohort_order": null
         },
         {
          "Age": 8,
          "Age Cohort": "6 to 12",
          "Ethnicity": "Hispanic",
          "Expenditures": 2746,
          "Gender": "Male",
          "Id": 50559,
          "cohort_order": null
         },
         {
          "Age": 15,
          "Age Cohort": "13 to 17",
          "Ethnicity": "White not Hispanic",
          "Expenditures": 3015,
          "Gender": "Male",
          "Id": 50652,
          "cohort_order": null
         },
         {
          "Age": 20,
          "Age Cohort": "18 to 21",
          "Ethnicity": "Asian",
          "Expenditures": 9369,
          "Gender": "Male",
          "Id": 50674,
          "cohort_order": null
         },
         {
          "Age": 21,
          "Age Cohort": "18 to 21",
          "Ethnicity": "Hispanic",
          "Expenditures": 8469,
          "Gender": "Female",
          "Id": 50783,
          "cohort_order": null
         },
         {
          "Age": 25,
          "Age Cohort": "22 to 50",
          "Ethnicity": "Black",
          "Expenditures": 48021,
          "Gender": "Female",
          "Id": 50849,
          "cohort_order": null
         },
         {
          "Age": 18,
          "Age Cohort": "18 to 21",
          "Ethnicity": "White not Hispanic",
          "Expenditures": 11723,
          "Gender": "Male",
          "Id": 50913,
          "cohort_order": null
         },
         {
          "Age": 14,
          "Age Cohort": "13 to 17",
          "Ethnicity": "Hispanic",
          "Expenditures": 4219,
          "Gender": "Male",
          "Id": 50989,
          "cohort_order": null
         },
         {
          "Age": 75,
          "Age Cohort": "51+",
          "Ethnicity": "Hispanic",
          "Expenditures": 52147,
          "Gender": "Male",
          "Id": 51150,
          "cohort_order": null
         },
         {
          "Age": 7,
          "Age Cohort": "6 to 12",
          "Ethnicity": "White not Hispanic",
          "Expenditures": 633,
          "Gender": "Female",
          "Id": 51253,
          "cohort_order": null
         },
         {
          "Age": 11,
          "Age Cohort": "6 to 12",
          "Ethnicity": "Hispanic",
          "Expenditures": 1363,
          "Gender": "Female",
          "Id": 51259,
          "cohort_order": null
         },
         {
          "Age": 14,
          "Age Cohort": "13 to 17",
          "Ethnicity": "Hispanic",
          "Expenditures": 3113,
          "Gender": "Male",
          "Id": 51290,
          "cohort_order": null
         },
         {
          "Age": 13,
          "Age Cohort": "13 to 17",
          "Ethnicity": "White not Hispanic",
          "Expenditures": 3417,
          "Gender": "Male",
          "Id": 51420,
          "cohort_order": null
         },
         {
          "Age": 7,
          "Age Cohort": "6 to 12",
          "Ethnicity": "Hispanic",
          "Expenditures": 776,
          "Gender": "Male",
          "Id": 51577,
          "cohort_order": null
         },
         {
          "Age": 32,
          "Age Cohort": "22 to 50",
          "Ethnicity": "Hispanic",
          "Expenditures": 36827,
          "Gender": "Female",
          "Id": 51635,
          "cohort_order": null
         },
         {
          "Age": 23,
          "Age Cohort": "22 to 50",
          "Ethnicity": "White not Hispanic",
          "Expenditures": 43333,
          "Gender": "Female",
          "Id": 51712,
          "cohort_order": null
         },
         {
          "Age": 16,
          "Age Cohort": "13 to 17",
          "Ethnicity": "White not Hispanic",
          "Expenditures": 2054,
          "Gender": "Male",
          "Id": 51754,
          "cohort_order": null
         },
         {
          "Age": 6,
          "Age Cohort": "6 to 12",
          "Ethnicity": "Asian",
          "Expenditures": 1335,
          "Gender": "Female",
          "Id": 51954,
          "cohort_order": null
         },
         {
          "Age": 6,
          "Age Cohort": "6 to 12",
          "Ethnicity": "Black",
          "Expenditures": 1790,
          "Gender": "Female",
          "Id": 52067,
          "cohort_order": null
         },
         {
          "Age": 19,
          "Age Cohort": "18 to 21",
          "Ethnicity": "Asian",
          "Expenditures": 10531,
          "Gender": "Female",
          "Id": 52073,
          "cohort_order": null
         },
         {
          "Age": 12,
          "Age Cohort": "6 to 12",
          "Ethnicity": "Hispanic",
          "Expenditures": 3539,
          "Gender": "Female",
          "Id": 52177,
          "cohort_order": null
         },
         {
          "Age": 19,
          "Age Cohort": "18 to 21",
          "Ethnicity": "Hispanic",
          "Expenditures": 10230,
          "Gender": "Male",
          "Id": 52217,
          "cohort_order": null
         },
         {
          "Age": 27,
          "Age Cohort": "22 to 50",
          "Ethnicity": "White not Hispanic",
          "Expenditures": 42969,
          "Gender": "Female",
          "Id": 52373,
          "cohort_order": null
         },
         {
          "Age": 24,
          "Age Cohort": "22 to 50",
          "Ethnicity": "White not Hispanic",
          "Expenditures": 48694,
          "Gender": "Male",
          "Id": 52722,
          "cohort_order": null
         },
         {
          "Age": 30,
          "Age Cohort": "22 to 50",
          "Ethnicity": "Asian",
          "Expenditures": 33721,
          "Gender": "Male",
          "Id": 52727,
          "cohort_order": null
         },
         {
          "Age": 30,
          "Age Cohort": "22 to 50",
          "Ethnicity": "White not Hispanic",
          "Expenditures": 42703,
          "Gender": "Female",
          "Id": 52794,
          "cohort_order": null
         },
         {
          "Age": 30,
          "Age Cohort": "22 to 50",
          "Ethnicity": "White not Hispanic",
          "Expenditures": 35523,
          "Gender": "Male",
          "Id": 52868,
          "cohort_order": null
         },
         {
          "Age": 18,
          "Age Cohort": "18 to 21",
          "Ethnicity": "Hispanic",
          "Expenditures": 8869,
          "Gender": "Female",
          "Id": 52887,
          "cohort_order": null
         },
         {
          "Age": 55,
          "Age Cohort": "51+",
          "Ethnicity": "White not Hispanic",
          "Expenditures": 49554,
          "Gender": "Male",
          "Id": 52969,
          "cohort_order": null
         },
         {
          "Age": 16,
          "Age Cohort": "13 to 17",
          "Ethnicity": "Other",
          "Expenditures": 2018,
          "Gender": "Female",
          "Id": 53008,
          "cohort_order": null
         },
         {
          "Age": 10,
          "Age Cohort": "6 to 12",
          "Ethnicity": "White not Hispanic",
          "Expenditures": 2455,
          "Gender": "Female",
          "Id": 53083,
          "cohort_order": null
         },
         {
          "Age": 6,
          "Age Cohort": "6 to 12",
          "Ethnicity": "Hispanic",
          "Expenditures": 3379,
          "Gender": "Female",
          "Id": 53225,
          "cohort_order": null
         },
         {
          "Age": 14,
          "Age Cohort": "13 to 17",
          "Ethnicity": "Hispanic",
          "Expenditures": 3580,
          "Gender": "Female",
          "Id": 53288,
          "cohort_order": null
         },
         {
          "Age": 71,
          "Age Cohort": "51+",
          "Ethnicity": "White not Hispanic",
          "Expenditures": 46719,
          "Gender": "Male",
          "Id": 53339,
          "cohort_order": null
         },
         {
          "Age": 31,
          "Age Cohort": "22 to 50",
          "Ethnicity": "White not Hispanic",
          "Expenditures": 46437,
          "Gender": "Female",
          "Id": 53435,
          "cohort_order": null
         },
         {
          "Age": 14,
          "Age Cohort": "13 to 17",
          "Ethnicity": "White not Hispanic",
          "Expenditures": 5514,
          "Gender": "Male",
          "Id": 53658,
          "cohort_order": null
         },
         {
          "Age": 17,
          "Age Cohort": "13 to 17",
          "Ethnicity": "Hispanic",
          "Expenditures": 5228,
          "Gender": "Female",
          "Id": 53690,
          "cohort_order": null
         },
         {
          "Age": 33,
          "Age Cohort": "22 to 50",
          "Ethnicity": "White not Hispanic",
          "Expenditures": 42265,
          "Gender": "Female",
          "Id": 53719,
          "cohort_order": null
         },
         {
          "Age": 21,
          "Age Cohort": "18 to 21",
          "Ethnicity": "Hispanic",
          "Expenditures": 13129,
          "Gender": "Female",
          "Id": 53903,
          "cohort_order": null
         },
         {
          "Age": 19,
          "Age Cohort": "18 to 21",
          "Ethnicity": "Asian",
          "Expenditures": 8714,
          "Gender": "Female",
          "Id": 53996,
          "cohort_order": null
         },
         {
          "Age": 20,
          "Age Cohort": "18 to 21",
          "Ethnicity": "White not Hispanic",
          "Expenditures": 13248,
          "Gender": "Male",
          "Id": 54054,
          "cohort_order": null
         },
         {
          "Age": 12,
          "Age Cohort": "6 to 12",
          "Ethnicity": "White not Hispanic",
          "Expenditures": 1262,
          "Gender": "Female",
          "Id": 54067,
          "cohort_order": null
         },
         {
          "Age": 29,
          "Age Cohort": "22 to 50",
          "Ethnicity": "Asian",
          "Expenditures": 41013,
          "Gender": "Male",
          "Id": 54110,
          "cohort_order": null
         },
         {
          "Age": 17,
          "Age Cohort": "13 to 17",
          "Ethnicity": "White not Hispanic",
          "Expenditures": 2948,
          "Gender": "Female",
          "Id": 54223,
          "cohort_order": null
         },
         {
          "Age": 71,
          "Age Cohort": "51+",
          "Ethnicity": "Asian",
          "Expenditures": 55428,
          "Gender": "Female",
          "Id": 54252,
          "cohort_order": null
         },
         {
          "Age": 25,
          "Age Cohort": "22 to 50",
          "Ethnicity": "Black",
          "Expenditures": 38085,
          "Gender": "Male",
          "Id": 54406,
          "cohort_order": null
         },
         {
          "Age": 13,
          "Age Cohort": "13 to 17",
          "Ethnicity": "White not Hispanic",
          "Expenditures": 4005,
          "Gender": "Female",
          "Id": 54675,
          "cohort_order": null
         },
         {
          "Age": 10,
          "Age Cohort": "6 to 12",
          "Ethnicity": "Hispanic",
          "Expenditures": 4152,
          "Gender": "Female",
          "Id": 55043,
          "cohort_order": null
         },
         {
          "Age": 95,
          "Age Cohort": "51+",
          "Ethnicity": "Black",
          "Expenditures": 54680,
          "Gender": "Female",
          "Id": 55056,
          "cohort_order": null
         },
         {
          "Age": 15,
          "Age Cohort": "13 to 17",
          "Ethnicity": "Hispanic",
          "Expenditures": 3190,
          "Gender": "Female",
          "Id": 55115,
          "cohort_order": null
         },
         {
          "Age": 15,
          "Age Cohort": "13 to 17",
          "Ethnicity": "Hispanic",
          "Expenditures": 3443,
          "Gender": "Male",
          "Id": 55162,
          "cohort_order": null
         },
         {
          "Age": 45,
          "Age Cohort": "22 to 50",
          "Ethnicity": "Black",
          "Expenditures": 46132,
          "Gender": "Male",
          "Id": 55300,
          "cohort_order": null
         },
         {
          "Age": 17,
          "Age Cohort": "13 to 17",
          "Ethnicity": "Hispanic",
          "Expenditures": 2184,
          "Gender": "Female",
          "Id": 55314,
          "cohort_order": null
         },
         {
          "Age": 16,
          "Age Cohort": "13 to 17",
          "Ethnicity": "Hispanic",
          "Expenditures": 5412,
          "Gender": "Male",
          "Id": 55345,
          "cohort_order": null
         },
         {
          "Age": 24,
          "Age Cohort": "22 to 50",
          "Ethnicity": "White not Hispanic",
          "Expenditures": 37133,
          "Gender": "Male",
          "Id": 55424,
          "cohort_order": null
         },
         {
          "Age": 0,
          "Age Cohort": "0 to 5",
          "Ethnicity": "Asian",
          "Expenditures": 2532,
          "Gender": "Female",
          "Id": 55442,
          "cohort_order": null
         },
         {
          "Age": 15,
          "Age Cohort": "13 to 17",
          "Ethnicity": "Hispanic",
          "Expenditures": 4527,
          "Gender": "Female",
          "Id": 55877,
          "cohort_order": null
         },
         {
          "Age": 15,
          "Age Cohort": "13 to 17",
          "Ethnicity": "White not Hispanic",
          "Expenditures": 3055,
          "Gender": "Female",
          "Id": 55882,
          "cohort_order": null
         },
         {
          "Age": 32,
          "Age Cohort": "22 to 50",
          "Ethnicity": "White not Hispanic",
          "Expenditures": 40587,
          "Gender": "Male",
          "Id": 55958,
          "cohort_order": null
         },
         {
          "Age": 21,
          "Age Cohort": "18 to 21",
          "Ethnicity": "White not Hispanic",
          "Expenditures": 7488,
          "Gender": "Male",
          "Id": 56063,
          "cohort_order": null
         },
         {
          "Age": 20,
          "Age Cohort": "18 to 21",
          "Ethnicity": "White not Hispanic",
          "Expenditures": 9540,
          "Gender": "Female",
          "Id": 56109,
          "cohort_order": null
         },
         {
          "Age": 12,
          "Age Cohort": "6 to 12",
          "Ethnicity": "Hispanic",
          "Expenditures": 3003,
          "Gender": "Female",
          "Id": 56202,
          "cohort_order": null
         },
         {
          "Age": 19,
          "Age Cohort": "18 to 21",
          "Ethnicity": "Hispanic",
          "Expenditures": 7122,
          "Gender": "Female",
          "Id": 56203,
          "cohort_order": null
         },
         {
          "Age": 7,
          "Age Cohort": "6 to 12",
          "Ethnicity": "Hispanic",
          "Expenditures": 2191,
          "Gender": "Female",
          "Id": 56309,
          "cohort_order": null
         },
         {
          "Age": 68,
          "Age Cohort": "51+",
          "Ethnicity": "Hispanic",
          "Expenditures": 57363,
          "Gender": "Male",
          "Id": 56318,
          "cohort_order": null
         },
         {
          "Age": 16,
          "Age Cohort": "13 to 17",
          "Ethnicity": "Hispanic",
          "Expenditures": 1641,
          "Gender": "Female",
          "Id": 56400,
          "cohort_order": null
         },
         {
          "Age": 26,
          "Age Cohort": "22 to 50",
          "Ethnicity": "White not Hispanic",
          "Expenditures": 37347,
          "Gender": "Male",
          "Id": 56533,
          "cohort_order": null
         },
         {
          "Age": 20,
          "Age Cohort": "18 to 21",
          "Ethnicity": "White not Hispanic",
          "Expenditures": 15278,
          "Gender": "Female",
          "Id": 56539,
          "cohort_order": null
         },
         {
          "Age": 20,
          "Age Cohort": "18 to 21",
          "Ethnicity": "White not Hispanic",
          "Expenditures": 11070,
          "Gender": "Female",
          "Id": 56552,
          "cohort_order": null
         },
         {
          "Age": 21,
          "Age Cohort": "18 to 21",
          "Ethnicity": "White not Hispanic",
          "Expenditures": 9805,
          "Gender": "Female",
          "Id": 56576,
          "cohort_order": null
         },
         {
          "Age": 88,
          "Age Cohort": "51+",
          "Ethnicity": "Hispanic",
          "Expenditures": 54875,
          "Gender": "Male",
          "Id": 56592,
          "cohort_order": null
         },
         {
          "Age": 18,
          "Age Cohort": "18 to 21",
          "Ethnicity": "Multi Race",
          "Expenditures": 11054,
          "Gender": "Female",
          "Id": 56736,
          "cohort_order": null
         },
         {
          "Age": 72,
          "Age Cohort": "51+",
          "Ethnicity": "White not Hispanic",
          "Expenditures": 53834,
          "Gender": "Male",
          "Id": 56738,
          "cohort_order": null
         },
         {
          "Age": 29,
          "Age Cohort": "22 to 50",
          "Ethnicity": "Hispanic",
          "Expenditures": 42041,
          "Gender": "Female",
          "Id": 56802,
          "cohort_order": null
         },
         {
          "Age": 21,
          "Age Cohort": "18 to 21",
          "Ethnicity": "White not Hispanic",
          "Expenditures": 11202,
          "Gender": "Female",
          "Id": 56808,
          "cohort_order": null
         },
         {
          "Age": 64,
          "Age Cohort": "51+",
          "Ethnicity": "White not Hispanic",
          "Expenditures": 60774,
          "Gender": "Female",
          "Id": 56855,
          "cohort_order": null
         },
         {
          "Age": 22,
          "Age Cohort": "22 to 50",
          "Ethnicity": "Hispanic",
          "Expenditures": 47954,
          "Gender": "Female",
          "Id": 57039,
          "cohort_order": null
         },
         {
          "Age": 23,
          "Age Cohort": "22 to 50",
          "Ethnicity": "White not Hispanic",
          "Expenditures": 36180,
          "Gender": "Male",
          "Id": 57141,
          "cohort_order": null
         },
         {
          "Age": 5,
          "Age Cohort": "0 to 5",
          "Ethnicity": "Hispanic",
          "Expenditures": 1632,
          "Gender": "Female",
          "Id": 57419,
          "cohort_order": null
         },
         {
          "Age": 6,
          "Age Cohort": "6 to 12",
          "Ethnicity": "Black",
          "Expenditures": 3948,
          "Gender": "Male",
          "Id": 57420,
          "cohort_order": null
         },
         {
          "Age": 19,
          "Age Cohort": "18 to 21",
          "Ethnicity": "White not Hispanic",
          "Expenditures": 12882,
          "Gender": "Female",
          "Id": 57504,
          "cohort_order": null
         },
         {
          "Age": 19,
          "Age Cohort": "18 to 21",
          "Ethnicity": "Asian",
          "Expenditures": 8700,
          "Gender": "Female",
          "Id": 57550,
          "cohort_order": null
         },
         {
          "Age": 19,
          "Age Cohort": "18 to 21",
          "Ethnicity": "Hispanic",
          "Expenditures": 11986,
          "Gender": "Male",
          "Id": 57601,
          "cohort_order": null
         },
         {
          "Age": 62,
          "Age Cohort": "51+",
          "Ethnicity": "Hispanic",
          "Expenditures": 47420,
          "Gender": "Male",
          "Id": 57670,
          "cohort_order": null
         },
         {
          "Age": 17,
          "Age Cohort": "13 to 17",
          "Ethnicity": "Hispanic",
          "Expenditures": 4300,
          "Gender": "Male",
          "Id": 57874,
          "cohort_order": null
         },
         {
          "Age": 13,
          "Age Cohort": "13 to 17",
          "Ethnicity": "Hispanic",
          "Expenditures": 4787,
          "Gender": "Male",
          "Id": 57961,
          "cohort_order": null
         },
         {
          "Age": 12,
          "Age Cohort": "6 to 12",
          "Ethnicity": "Hispanic",
          "Expenditures": 2339,
          "Gender": "Female",
          "Id": 58075,
          "cohort_order": null
         },
         {
          "Age": 15,
          "Age Cohort": "13 to 17",
          "Ethnicity": "Hispanic",
          "Expenditures": 4345,
          "Gender": "Female",
          "Id": 58136,
          "cohort_order": null
         },
         {
          "Age": 14,
          "Age Cohort": "13 to 17",
          "Ethnicity": "White not Hispanic",
          "Expenditures": 4768,
          "Gender": "Female",
          "Id": 58293,
          "cohort_order": null
         },
         {
          "Age": 80,
          "Age Cohort": "51+",
          "Ethnicity": "White not Hispanic",
          "Expenditures": 57821,
          "Gender": "Male",
          "Id": 58317,
          "cohort_order": null
         },
         {
          "Age": 20,
          "Age Cohort": "18 to 21",
          "Ethnicity": "Hispanic",
          "Expenditures": 9061,
          "Gender": "Female",
          "Id": 58357,
          "cohort_order": null
         },
         {
          "Age": 6,
          "Age Cohort": "6 to 12",
          "Ethnicity": "Asian",
          "Expenditures": 3530,
          "Gender": "Female",
          "Id": 58565,
          "cohort_order": null
         },
         {
          "Age": 21,
          "Age Cohort": "18 to 21",
          "Ethnicity": "Hispanic",
          "Expenditures": 4931,
          "Gender": "Male",
          "Id": 58680,
          "cohort_order": null
         },
         {
          "Age": 21,
          "Age Cohort": "18 to 21",
          "Ethnicity": "Asian",
          "Expenditures": 10385,
          "Gender": "Male",
          "Id": 58838,
          "cohort_order": null
         },
         {
          "Age": 17,
          "Age Cohort": "13 to 17",
          "Ethnicity": "White not Hispanic",
          "Expenditures": 3904,
          "Gender": "Male",
          "Id": 58862,
          "cohort_order": null
         },
         {
          "Age": 8,
          "Age Cohort": "6 to 12",
          "Ethnicity": "White not Hispanic",
          "Expenditures": 2590,
          "Gender": "Male",
          "Id": 58870,
          "cohort_order": null
         },
         {
          "Age": 34,
          "Age Cohort": "22 to 50",
          "Ethnicity": "Black",
          "Expenditures": 41522,
          "Gender": "Female",
          "Id": 58884,
          "cohort_order": null
         },
         {
          "Age": 27,
          "Age Cohort": "22 to 50",
          "Ethnicity": "White not Hispanic",
          "Expenditures": 40156,
          "Gender": "Female",
          "Id": 59001,
          "cohort_order": null
         },
         {
          "Age": 18,
          "Age Cohort": "18 to 21",
          "Ethnicity": "Hispanic",
          "Expenditures": 11479,
          "Gender": "Male",
          "Id": 59079,
          "cohort_order": null
         },
         {
          "Age": 15,
          "Age Cohort": "13 to 17",
          "Ethnicity": "Hispanic",
          "Expenditures": 4798,
          "Gender": "Female",
          "Id": 59154,
          "cohort_order": null
         },
         {
          "Age": 83,
          "Age Cohort": "51+",
          "Ethnicity": "White not Hispanic",
          "Expenditures": 58803,
          "Gender": "Male",
          "Id": 59206,
          "cohort_order": null
         },
         {
          "Age": 21,
          "Age Cohort": "18 to 21",
          "Ethnicity": "White not Hispanic",
          "Expenditures": 16133,
          "Gender": "Male",
          "Id": 59275,
          "cohort_order": null
         },
         {
          "Age": 64,
          "Age Cohort": "51+",
          "Ethnicity": "Asian",
          "Expenditures": 51599,
          "Gender": "Male",
          "Id": 59332,
          "cohort_order": null
         },
         {
          "Age": 26,
          "Age Cohort": "22 to 50",
          "Ethnicity": "White not Hispanic",
          "Expenditures": 45507,
          "Gender": "Female",
          "Id": 59343,
          "cohort_order": null
         },
         {
          "Age": 8,
          "Age Cohort": "6 to 12",
          "Ethnicity": "White not Hispanic",
          "Expenditures": 3544,
          "Gender": "Female",
          "Id": 59467,
          "cohort_order": null
         },
         {
          "Age": 9,
          "Age Cohort": "6 to 12",
          "Ethnicity": "Hispanic",
          "Expenditures": 1713,
          "Gender": "Female",
          "Id": 59660,
          "cohort_order": null
         },
         {
          "Age": 14,
          "Age Cohort": "13 to 17",
          "Ethnicity": "Hispanic",
          "Expenditures": 2462,
          "Gender": "Female",
          "Id": 59753,
          "cohort_order": null
         },
         {
          "Age": 19,
          "Age Cohort": "18 to 21",
          "Ethnicity": "White not Hispanic",
          "Expenditures": 11816,
          "Gender": "Male",
          "Id": 59881,
          "cohort_order": null
         },
         {
          "Age": 17,
          "Age Cohort": "13 to 17",
          "Ethnicity": "White not Hispanic",
          "Expenditures": 4531,
          "Gender": "Male",
          "Id": 60002,
          "cohort_order": null
         },
         {
          "Age": 35,
          "Age Cohort": "22 to 50",
          "Ethnicity": "White not Hispanic",
          "Expenditures": 36607,
          "Gender": "Female",
          "Id": 60018,
          "cohort_order": null
         },
         {
          "Age": 15,
          "Age Cohort": "13 to 17",
          "Ethnicity": "Hispanic",
          "Expenditures": 4884,
          "Gender": "Female",
          "Id": 60037,
          "cohort_order": null
         },
         {
          "Age": 14,
          "Age Cohort": "13 to 17",
          "Ethnicity": "Hispanic",
          "Expenditures": 4058,
          "Gender": "Male",
          "Id": 60292,
          "cohort_order": null
         },
         {
          "Age": 5,
          "Age Cohort": "0 to 5",
          "Ethnicity": "White not Hispanic",
          "Expenditures": 2019,
          "Gender": "Female",
          "Id": 60348,
          "cohort_order": null
         },
         {
          "Age": 7,
          "Age Cohort": "6 to 12",
          "Ethnicity": "Hispanic",
          "Expenditures": 3464,
          "Gender": "Female",
          "Id": 60352,
          "cohort_order": null
         },
         {
          "Age": 12,
          "Age Cohort": "6 to 12",
          "Ethnicity": "Hispanic",
          "Expenditures": 1539,
          "Gender": "Male",
          "Id": 60372,
          "cohort_order": null
         },
         {
          "Age": 16,
          "Age Cohort": "13 to 17",
          "Ethnicity": "White not Hispanic",
          "Expenditures": 5224,
          "Gender": "Male",
          "Id": 60425,
          "cohort_order": null
         },
         {
          "Age": 62,
          "Age Cohort": "51+",
          "Ethnicity": "Asian",
          "Expenditures": 49075,
          "Gender": "Female",
          "Id": 60508,
          "cohort_order": null
         },
         {
          "Age": 69,
          "Age Cohort": "51+",
          "Ethnicity": "White not Hispanic",
          "Expenditures": 59682,
          "Gender": "Male",
          "Id": 60572,
          "cohort_order": null
         },
         {
          "Age": 21,
          "Age Cohort": "18 to 21",
          "Ethnicity": "Hispanic",
          "Expenditures": 5066,
          "Gender": "Female",
          "Id": 60676,
          "cohort_order": null
         },
         {
          "Age": 20,
          "Age Cohort": "18 to 21",
          "Ethnicity": "Black",
          "Expenditures": 5583,
          "Gender": "Male",
          "Id": 60864,
          "cohort_order": null
         },
         {
          "Age": 4,
          "Age Cohort": "0 to 5",
          "Ethnicity": "Hispanic",
          "Expenditures": 456,
          "Gender": "Female",
          "Id": 61004,
          "cohort_order": null
         },
         {
          "Age": 0,
          "Age Cohort": "0 to 5",
          "Ethnicity": "Hispanic",
          "Expenditures": 1147,
          "Gender": "Female",
          "Id": 61019,
          "cohort_order": null
         },
         {
          "Age": 37,
          "Age Cohort": "22 to 50",
          "Ethnicity": "White not Hispanic",
          "Expenditures": 30627,
          "Gender": "Male",
          "Id": 61051,
          "cohort_order": null
         },
         {
          "Age": 7,
          "Age Cohort": "6 to 12",
          "Ethnicity": "Multi Race",
          "Expenditures": 3000,
          "Gender": "Male",
          "Id": 61120,
          "cohort_order": null
         },
         {
          "Age": 11,
          "Age Cohort": "6 to 12",
          "Ethnicity": "Multi Race",
          "Expenditures": 2885,
          "Gender": "Male",
          "Id": 61187,
          "cohort_order": null
         },
         {
          "Age": 20,
          "Age Cohort": "18 to 21",
          "Ethnicity": "Asian",
          "Expenditures": 6255,
          "Gender": "Male",
          "Id": 61192,
          "cohort_order": null
         },
         {
          "Age": 18,
          "Age Cohort": "18 to 21",
          "Ethnicity": "White not Hispanic",
          "Expenditures": 10068,
          "Gender": "Female",
          "Id": 61329,
          "cohort_order": null
         },
         {
          "Age": 14,
          "Age Cohort": "13 to 17",
          "Ethnicity": "Black",
          "Expenditures": 5025,
          "Gender": "Male",
          "Id": 61449,
          "cohort_order": null
         },
         {
          "Age": 1,
          "Age Cohort": "0 to 5",
          "Ethnicity": "Asian",
          "Expenditures": 2157,
          "Gender": "Female",
          "Id": 61467,
          "cohort_order": null
         },
         {
          "Age": 13,
          "Age Cohort": "13 to 17",
          "Ethnicity": "American Indian",
          "Expenditures": 3726,
          "Gender": "Female",
          "Id": 61498,
          "cohort_order": null
         },
         {
          "Age": 11,
          "Age Cohort": "6 to 12",
          "Ethnicity": "Hispanic",
          "Expenditures": 1286,
          "Gender": "Male",
          "Id": 61570,
          "cohort_order": null
         },
         {
          "Age": 24,
          "Age Cohort": "22 to 50",
          "Ethnicity": "White not Hispanic",
          "Expenditures": 47674,
          "Gender": "Female",
          "Id": 61588,
          "cohort_order": null
         },
         {
          "Age": 21,
          "Age Cohort": "18 to 21",
          "Ethnicity": "Hispanic",
          "Expenditures": 4731,
          "Gender": "Female",
          "Id": 61654,
          "cohort_order": null
         },
         {
          "Age": 16,
          "Age Cohort": "13 to 17",
          "Ethnicity": "White not Hispanic",
          "Expenditures": 3839,
          "Gender": "Male",
          "Id": 61680,
          "cohort_order": null
         },
         {
          "Age": 13,
          "Age Cohort": "13 to 17",
          "Ethnicity": "White not Hispanic",
          "Expenditures": 1195,
          "Gender": "Female",
          "Id": 61785,
          "cohort_order": null
         },
         {
          "Age": 24,
          "Age Cohort": "22 to 50",
          "Ethnicity": "Asian",
          "Expenditures": 46911,
          "Gender": "Female",
          "Id": 61806,
          "cohort_order": null
         },
         {
          "Age": 17,
          "Age Cohort": "13 to 17",
          "Ethnicity": "Hispanic",
          "Expenditures": 3629,
          "Gender": "Male",
          "Id": 61887,
          "cohort_order": null
         },
         {
          "Age": 52,
          "Age Cohort": "51+",
          "Ethnicity": "White not Hispanic",
          "Expenditures": 48826,
          "Gender": "Female",
          "Id": 61944,
          "cohort_order": null
         },
         {
          "Age": 21,
          "Age Cohort": "18 to 21",
          "Ethnicity": "White not Hispanic",
          "Expenditures": 15718,
          "Gender": "Male",
          "Id": 61951,
          "cohort_order": null
         },
         {
          "Age": 19,
          "Age Cohort": "18 to 21",
          "Ethnicity": "Hispanic",
          "Expenditures": 5616,
          "Gender": "Female",
          "Id": 61954,
          "cohort_order": null
         },
         {
          "Age": 29,
          "Age Cohort": "22 to 50",
          "Ethnicity": "White not Hispanic",
          "Expenditures": 34708,
          "Gender": "Male",
          "Id": 62150,
          "cohort_order": null
         },
         {
          "Age": 17,
          "Age Cohort": "13 to 17",
          "Ethnicity": "Asian",
          "Expenditures": 3075,
          "Gender": "Male",
          "Id": 62191,
          "cohort_order": null
         },
         {
          "Age": 21,
          "Age Cohort": "18 to 21",
          "Ethnicity": "White not Hispanic",
          "Expenditures": 6669,
          "Gender": "Female",
          "Id": 62282,
          "cohort_order": null
         },
         {
          "Age": 23,
          "Age Cohort": "22 to 50",
          "Ethnicity": "White not Hispanic",
          "Expenditures": 39693,
          "Gender": "Male",
          "Id": 62302,
          "cohort_order": null
         },
         {
          "Age": 9,
          "Age Cohort": "6 to 12",
          "Ethnicity": "White not Hispanic",
          "Expenditures": 3552,
          "Gender": "Male",
          "Id": 62342,
          "cohort_order": null
         },
         {
          "Age": 23,
          "Age Cohort": "22 to 50",
          "Ethnicity": "Hispanic",
          "Expenditures": 27845,
          "Gender": "Female",
          "Id": 62485,
          "cohort_order": null
         },
         {
          "Age": 10,
          "Age Cohort": "6 to 12",
          "Ethnicity": "Hispanic",
          "Expenditures": 2409,
          "Gender": "Female",
          "Id": 62691,
          "cohort_order": null
         },
         {
          "Age": 8,
          "Age Cohort": "6 to 12",
          "Ethnicity": "White not Hispanic",
          "Expenditures": 2122,
          "Gender": "Female",
          "Id": 62913,
          "cohort_order": null
         },
         {
          "Age": 33,
          "Age Cohort": "22 to 50",
          "Ethnicity": "White not Hispanic",
          "Expenditures": 42458,
          "Gender": "Female",
          "Id": 62935,
          "cohort_order": null
         },
         {
          "Age": 22,
          "Age Cohort": "22 to 50",
          "Ethnicity": "White not Hispanic",
          "Expenditures": 40648,
          "Gender": "Male",
          "Id": 62957,
          "cohort_order": null
         },
         {
          "Age": 27,
          "Age Cohort": "22 to 50",
          "Ethnicity": "Asian",
          "Expenditures": 36712,
          "Gender": "Male",
          "Id": 63343,
          "cohort_order": null
         },
         {
          "Age": 22,
          "Age Cohort": "22 to 50",
          "Ethnicity": "White not Hispanic",
          "Expenditures": 31138,
          "Gender": "Male",
          "Id": 63363,
          "cohort_order": null
         },
         {
          "Age": 15,
          "Age Cohort": "13 to 17",
          "Ethnicity": "Asian",
          "Expenditures": 2917,
          "Gender": "Female",
          "Id": 63384,
          "cohort_order": null
         },
         {
          "Age": 68,
          "Age Cohort": "51+",
          "Ethnicity": "White not Hispanic",
          "Expenditures": 43945,
          "Gender": "Male",
          "Id": 63810,
          "cohort_order": null
         },
         {
          "Age": 27,
          "Age Cohort": "22 to 50",
          "Ethnicity": "White not Hispanic",
          "Expenditures": 49793,
          "Gender": "Male",
          "Id": 63833,
          "cohort_order": null
         },
         {
          "Age": 20,
          "Age Cohort": "18 to 21",
          "Ethnicity": "Hispanic",
          "Expenditures": 10247,
          "Gender": "Female",
          "Id": 63959,
          "cohort_order": null
         },
         {
          "Age": 59,
          "Age Cohort": "51+",
          "Ethnicity": "White not Hispanic",
          "Expenditures": 33110,
          "Gender": "Male",
          "Id": 63992,
          "cohort_order": null
         },
         {
          "Age": 6,
          "Age Cohort": "6 to 12",
          "Ethnicity": "White not Hispanic",
          "Expenditures": 1722,
          "Gender": "Female",
          "Id": 64041,
          "cohort_order": null
         },
         {
          "Age": 75,
          "Age Cohort": "51+",
          "Ethnicity": "White not Hispanic",
          "Expenditures": 50261,
          "Gender": "Male",
          "Id": 64083,
          "cohort_order": null
         },
         {
          "Age": 8,
          "Age Cohort": "6 to 12",
          "Ethnicity": "Hispanic",
          "Expenditures": 2153,
          "Gender": "Male",
          "Id": 64181,
          "cohort_order": null
         },
         {
          "Age": 12,
          "Age Cohort": "6 to 12",
          "Ethnicity": "Hispanic",
          "Expenditures": 847,
          "Gender": "Male",
          "Id": 64182,
          "cohort_order": null
         },
         {
          "Age": 66,
          "Age Cohort": "51+",
          "Ethnicity": "White not Hispanic",
          "Expenditures": 50910,
          "Gender": "Female",
          "Id": 64192,
          "cohort_order": null
         },
         {
          "Age": 20,
          "Age Cohort": "18 to 21",
          "Ethnicity": "Hispanic",
          "Expenditures": 11470,
          "Gender": "Male",
          "Id": 64319,
          "cohort_order": null
         },
         {
          "Age": 10,
          "Age Cohort": "6 to 12",
          "Ethnicity": "Black",
          "Expenditures": 3584,
          "Gender": "Female",
          "Id": 64421,
          "cohort_order": null
         },
         {
          "Age": 17,
          "Age Cohort": "13 to 17",
          "Ethnicity": "White not Hispanic",
          "Expenditures": 2722,
          "Gender": "Female",
          "Id": 64429,
          "cohort_order": null
         },
         {
          "Age": 63,
          "Age Cohort": "51+",
          "Ethnicity": "White not Hispanic",
          "Expenditures": 48614,
          "Gender": "Male",
          "Id": 64820,
          "cohort_order": null
         },
         {
          "Age": 18,
          "Age Cohort": "18 to 21",
          "Ethnicity": "White not Hispanic",
          "Expenditures": 6991,
          "Gender": "Male",
          "Id": 64829,
          "cohort_order": null
         },
         {
          "Age": 16,
          "Age Cohort": "13 to 17",
          "Ethnicity": "Hispanic",
          "Expenditures": 3698,
          "Gender": "Female",
          "Id": 64899,
          "cohort_order": null
         },
         {
          "Age": 28,
          "Age Cohort": "22 to 50",
          "Ethnicity": "Asian",
          "Expenditures": 33278,
          "Gender": "Male",
          "Id": 65036,
          "cohort_order": null
         },
         {
          "Age": 54,
          "Age Cohort": "51+",
          "Ethnicity": "Native Hawaiian",
          "Expenditures": 50141,
          "Gender": "Female",
          "Id": 65255,
          "cohort_order": null
         },
         {
          "Age": 5,
          "Age Cohort": "0 to 5",
          "Ethnicity": "Hispanic",
          "Expenditures": 2308,
          "Gender": "Female",
          "Id": 65274,
          "cohort_order": null
         },
         {
          "Age": 17,
          "Age Cohort": "13 to 17",
          "Ethnicity": "Hispanic",
          "Expenditures": 4527,
          "Gender": "Male",
          "Id": 65331,
          "cohort_order": null
         },
         {
          "Age": 6,
          "Age Cohort": "6 to 12",
          "Ethnicity": "Hispanic",
          "Expenditures": 1254,
          "Gender": "Female",
          "Id": 65394,
          "cohort_order": null
         },
         {
          "Age": 16,
          "Age Cohort": "13 to 17",
          "Ethnicity": "White not Hispanic",
          "Expenditures": 4017,
          "Gender": "Male",
          "Id": 65419,
          "cohort_order": null
         },
         {
          "Age": 53,
          "Age Cohort": "51+",
          "Ethnicity": "White not Hispanic",
          "Expenditures": 53457,
          "Gender": "Male",
          "Id": 65431,
          "cohort_order": null
         },
         {
          "Age": 20,
          "Age Cohort": "18 to 21",
          "Ethnicity": "White not Hispanic",
          "Expenditures": 6829,
          "Gender": "Male",
          "Id": 65619,
          "cohort_order": null
         },
         {
          "Age": 10,
          "Age Cohort": "6 to 12",
          "Ethnicity": "Hispanic",
          "Expenditures": 1110,
          "Gender": "Male",
          "Id": 65675,
          "cohort_order": null
         },
         {
          "Age": 15,
          "Age Cohort": "13 to 17",
          "Ethnicity": "Hispanic",
          "Expenditures": 3423,
          "Gender": "Male",
          "Id": 65787,
          "cohort_order": null
         },
         {
          "Age": 12,
          "Age Cohort": "6 to 12",
          "Ethnicity": "Hispanic",
          "Expenditures": 1184,
          "Gender": "Male",
          "Id": 65901,
          "cohort_order": null
         },
         {
          "Age": 12,
          "Age Cohort": "6 to 12",
          "Ethnicity": "Black",
          "Expenditures": 1854,
          "Gender": "Male",
          "Id": 65907,
          "cohort_order": null
         },
         {
          "Age": 12,
          "Age Cohort": "6 to 12",
          "Ethnicity": "Hispanic",
          "Expenditures": 1689,
          "Gender": "Male",
          "Id": 66098,
          "cohort_order": null
         },
         {
          "Age": 18,
          "Age Cohort": "18 to 21",
          "Ethnicity": "Asian",
          "Expenditures": 10535,
          "Gender": "Male",
          "Id": 66116,
          "cohort_order": null
         },
         {
          "Age": 10,
          "Age Cohort": "6 to 12",
          "Ethnicity": "Hispanic",
          "Expenditures": 1560,
          "Gender": "Male",
          "Id": 66375,
          "cohort_order": null
         },
         {
          "Age": 18,
          "Age Cohort": "18 to 21",
          "Ethnicity": "Asian",
          "Expenditures": 6620,
          "Gender": "Male",
          "Id": 66446,
          "cohort_order": null
         },
         {
          "Age": 19,
          "Age Cohort": "18 to 21",
          "Ethnicity": "Hispanic",
          "Expenditures": 14729,
          "Gender": "Male",
          "Id": 66577,
          "cohort_order": null
         },
         {
          "Age": 23,
          "Age Cohort": "22 to 50",
          "Ethnicity": "White not Hispanic",
          "Expenditures": 40394,
          "Gender": "Female",
          "Id": 66734,
          "cohort_order": null
         },
         {
          "Age": 17,
          "Age Cohort": "13 to 17",
          "Ethnicity": "White not Hispanic",
          "Expenditures": 3520,
          "Gender": "Male",
          "Id": 66769,
          "cohort_order": null
         },
         {
          "Age": 19,
          "Age Cohort": "18 to 21",
          "Ethnicity": "Hispanic",
          "Expenditures": 14926,
          "Gender": "Female",
          "Id": 66818,
          "cohort_order": null
         },
         {
          "Age": 26,
          "Age Cohort": "22 to 50",
          "Ethnicity": "White not Hispanic",
          "Expenditures": 44588,
          "Gender": "Female",
          "Id": 66840,
          "cohort_order": null
         },
         {
          "Age": 52,
          "Age Cohort": "51+",
          "Ethnicity": "White not Hispanic",
          "Expenditures": 39536,
          "Gender": "Male",
          "Id": 66841,
          "cohort_order": null
         },
         {
          "Age": 24,
          "Age Cohort": "22 to 50",
          "Ethnicity": "White not Hispanic",
          "Expenditures": 45735,
          "Gender": "Female",
          "Id": 67058,
          "cohort_order": null
         },
         {
          "Age": 11,
          "Age Cohort": "6 to 12",
          "Ethnicity": "Hispanic",
          "Expenditures": 2143,
          "Gender": "Female",
          "Id": 67230,
          "cohort_order": null
         },
         {
          "Age": 22,
          "Age Cohort": "22 to 50",
          "Ethnicity": "White not Hispanic",
          "Expenditures": 44002,
          "Gender": "Female",
          "Id": 67231,
          "cohort_order": null
         },
         {
          "Age": 18,
          "Age Cohort": "18 to 21",
          "Ethnicity": "Hispanic",
          "Expenditures": 8511,
          "Gender": "Male",
          "Id": 67248,
          "cohort_order": null
         },
         {
          "Age": 65,
          "Age Cohort": "51+",
          "Ethnicity": "Black",
          "Expenditures": 55442,
          "Gender": "Male",
          "Id": 67343,
          "cohort_order": null
         },
         {
          "Age": 18,
          "Age Cohort": "18 to 21",
          "Ethnicity": "Asian",
          "Expenditures": 9846,
          "Gender": "Male",
          "Id": 67403,
          "cohort_order": null
         },
         {
          "Age": 23,
          "Age Cohort": "22 to 50",
          "Ethnicity": "Hispanic",
          "Expenditures": 49548,
          "Gender": "Male",
          "Id": 67408,
          "cohort_order": null
         },
         {
          "Age": 6,
          "Age Cohort": "6 to 12",
          "Ethnicity": "Hispanic",
          "Expenditures": 2493,
          "Gender": "Male",
          "Id": 67535,
          "cohort_order": null
         },
         {
          "Age": 20,
          "Age Cohort": "18 to 21",
          "Ethnicity": "Hispanic",
          "Expenditures": 13579,
          "Gender": "Female",
          "Id": 67616,
          "cohort_order": null
         },
         {
          "Age": 33,
          "Age Cohort": "22 to 50",
          "Ethnicity": "White not Hispanic",
          "Expenditures": 44765,
          "Gender": "Male",
          "Id": 67660,
          "cohort_order": null
         },
         {
          "Age": 39,
          "Age Cohort": "22 to 50",
          "Ethnicity": "Hispanic",
          "Expenditures": 36621,
          "Gender": "Male",
          "Id": 67740,
          "cohort_order": null
         },
         {
          "Age": 27,
          "Age Cohort": "22 to 50",
          "Ethnicity": "White not Hispanic",
          "Expenditures": 50301,
          "Gender": "Male",
          "Id": 67805,
          "cohort_order": null
         },
         {
          "Age": 27,
          "Age Cohort": "22 to 50",
          "Ethnicity": "Asian",
          "Expenditures": 32886,
          "Gender": "Female",
          "Id": 67978,
          "cohort_order": null
         },
         {
          "Age": 36,
          "Age Cohort": "22 to 50",
          "Ethnicity": "Black",
          "Expenditures": 38400,
          "Gender": "Male",
          "Id": 68112,
          "cohort_order": null
         },
         {
          "Age": 18,
          "Age Cohort": "18 to 21",
          "Ethnicity": "White not Hispanic",
          "Expenditures": 10299,
          "Gender": "Male",
          "Id": 68296,
          "cohort_order": null
         },
         {
          "Age": 25,
          "Age Cohort": "22 to 50",
          "Ethnicity": "White not Hispanic",
          "Expenditures": 34425,
          "Gender": "Male",
          "Id": 68353,
          "cohort_order": null
         },
         {
          "Age": 27,
          "Age Cohort": "22 to 50",
          "Ethnicity": "White not Hispanic",
          "Expenditures": 38331,
          "Gender": "Male",
          "Id": 68357,
          "cohort_order": null
         },
         {
          "Age": 11,
          "Age Cohort": "6 to 12",
          "Ethnicity": "Hispanic",
          "Expenditures": 2498,
          "Gender": "Male",
          "Id": 68378,
          "cohort_order": null
         },
         {
          "Age": 20,
          "Age Cohort": "18 to 21",
          "Ethnicity": "Asian",
          "Expenditures": 6771,
          "Gender": "Female",
          "Id": 68507,
          "cohort_order": null
         },
         {
          "Age": 20,
          "Age Cohort": "18 to 21",
          "Ethnicity": "Asian",
          "Expenditures": 12265,
          "Gender": "Male",
          "Id": 68570,
          "cohort_order": null
         },
         {
          "Age": 27,
          "Age Cohort": "22 to 50",
          "Ethnicity": "White not Hispanic",
          "Expenditures": 50353,
          "Gender": "Male",
          "Id": 68685,
          "cohort_order": null
         },
         {
          "Age": 16,
          "Age Cohort": "13 to 17",
          "Ethnicity": "Hispanic",
          "Expenditures": 2797,
          "Gender": "Female",
          "Id": 68697,
          "cohort_order": null
         },
         {
          "Age": 8,
          "Age Cohort": "6 to 12",
          "Ethnicity": "Black",
          "Expenditures": 1733,
          "Gender": "Female",
          "Id": 68724,
          "cohort_order": null
         },
         {
          "Age": 10,
          "Age Cohort": "6 to 12",
          "Ethnicity": "White not Hispanic",
          "Expenditures": 992,
          "Gender": "Female",
          "Id": 68759,
          "cohort_order": null
         },
         {
          "Age": 5,
          "Age Cohort": "0 to 5",
          "Ethnicity": "Asian",
          "Expenditures": 1339,
          "Gender": "Female",
          "Id": 68824,
          "cohort_order": null
         },
         {
          "Age": 8,
          "Age Cohort": "6 to 12",
          "Ethnicity": "Asian",
          "Expenditures": 1594,
          "Gender": "Male",
          "Id": 68830,
          "cohort_order": null
         },
         {
          "Age": 13,
          "Age Cohort": "13 to 17",
          "Ethnicity": "White not Hispanic",
          "Expenditures": 3332,
          "Gender": "Female",
          "Id": 68863,
          "cohort_order": null
         },
         {
          "Age": 13,
          "Age Cohort": "13 to 17",
          "Ethnicity": "Hispanic",
          "Expenditures": 4963,
          "Gender": "Male",
          "Id": 68944,
          "cohort_order": null
         },
         {
          "Age": 8,
          "Age Cohort": "6 to 12",
          "Ethnicity": "Hispanic",
          "Expenditures": 1417,
          "Gender": "Female",
          "Id": 68956,
          "cohort_order": null
         },
         {
          "Age": 18,
          "Age Cohort": "18 to 21",
          "Ethnicity": "White not Hispanic",
          "Expenditures": 10969,
          "Gender": "Female",
          "Id": 69156,
          "cohort_order": null
         },
         {
          "Age": 9,
          "Age Cohort": "6 to 12",
          "Ethnicity": "Hispanic",
          "Expenditures": 2643,
          "Gender": "Male",
          "Id": 69282,
          "cohort_order": null
         },
         {
          "Age": 20,
          "Age Cohort": "18 to 21",
          "Ethnicity": "Asian",
          "Expenditures": 10976,
          "Gender": "Male",
          "Id": 69499,
          "cohort_order": null
         },
         {
          "Age": 5,
          "Age Cohort": "0 to 5",
          "Ethnicity": "Multi Race",
          "Expenditures": 1053,
          "Gender": "Female",
          "Id": 69542,
          "cohort_order": null
         },
         {
          "Age": 7,
          "Age Cohort": "6 to 12",
          "Ethnicity": "Hispanic",
          "Expenditures": 1903,
          "Gender": "Female",
          "Id": 69581,
          "cohort_order": null
         },
         {
          "Age": 16,
          "Age Cohort": "13 to 17",
          "Ethnicity": "Hispanic",
          "Expenditures": 2760,
          "Gender": "Male",
          "Id": 69608,
          "cohort_order": null
         },
         {
          "Age": 18,
          "Age Cohort": "18 to 21",
          "Ethnicity": "White not Hispanic",
          "Expenditures": 8567,
          "Gender": "Female",
          "Id": 69614,
          "cohort_order": null
         },
         {
          "Age": 21,
          "Age Cohort": "18 to 21",
          "Ethnicity": "White not Hispanic",
          "Expenditures": 12172,
          "Gender": "Female",
          "Id": 69616,
          "cohort_order": null
         },
         {
          "Age": 19,
          "Age Cohort": "18 to 21",
          "Ethnicity": "Hispanic",
          "Expenditures": 6690,
          "Gender": "Female",
          "Id": 69726,
          "cohort_order": null
         },
         {
          "Age": 19,
          "Age Cohort": "18 to 21",
          "Ethnicity": "Hispanic",
          "Expenditures": 11629,
          "Gender": "Female",
          "Id": 69933,
          "cohort_order": null
         },
         {
          "Age": 30,
          "Age Cohort": "22 to 50",
          "Ethnicity": "Native Hawaiian",
          "Expenditures": 40727,
          "Gender": "Female",
          "Id": 70035,
          "cohort_order": null
         },
         {
          "Age": 17,
          "Age Cohort": "13 to 17",
          "Ethnicity": "Hispanic",
          "Expenditures": 5055,
          "Gender": "Female",
          "Id": 70210,
          "cohort_order": null
         },
         {
          "Age": 17,
          "Age Cohort": "13 to 17",
          "Ethnicity": "White not Hispanic",
          "Expenditures": 3052,
          "Gender": "Male",
          "Id": 70230,
          "cohort_order": null
         },
         {
          "Age": 39,
          "Age Cohort": "22 to 50",
          "Ethnicity": "White not Hispanic",
          "Expenditures": 56716,
          "Gender": "Female",
          "Id": 70244,
          "cohort_order": null
         },
         {
          "Age": 15,
          "Age Cohort": "13 to 17",
          "Ethnicity": "Hispanic",
          "Expenditures": 3911,
          "Gender": "Male",
          "Id": 70290,
          "cohort_order": null
         },
         {
          "Age": 14,
          "Age Cohort": "13 to 17",
          "Ethnicity": "Asian",
          "Expenditures": 3060,
          "Gender": "Female",
          "Id": 70594,
          "cohort_order": null
         },
         {
          "Age": 18,
          "Age Cohort": "18 to 21",
          "Ethnicity": "Hispanic",
          "Expenditures": 3225,
          "Gender": "Male",
          "Id": 70609,
          "cohort_order": null
         },
         {
          "Age": 20,
          "Age Cohort": "18 to 21",
          "Ethnicity": "White not Hispanic",
          "Expenditures": 11242,
          "Gender": "Male",
          "Id": 70727,
          "cohort_order": null
         },
         {
          "Age": 17,
          "Age Cohort": "13 to 17",
          "Ethnicity": "Hispanic",
          "Expenditures": 4152,
          "Gender": "Male",
          "Id": 70807,
          "cohort_order": null
         },
         {
          "Age": 19,
          "Age Cohort": "18 to 21",
          "Ethnicity": "Hispanic",
          "Expenditures": 7805,
          "Gender": "Female",
          "Id": 70929,
          "cohort_order": null
         },
         {
          "Age": 15,
          "Age Cohort": "13 to 17",
          "Ethnicity": "Hispanic",
          "Expenditures": 3702,
          "Gender": "Male",
          "Id": 71045,
          "cohort_order": null
         },
         {
          "Age": 14,
          "Age Cohort": "13 to 17",
          "Ethnicity": "Multi Race",
          "Expenditures": 5062,
          "Gender": "Female",
          "Id": 71073,
          "cohort_order": null
         },
         {
          "Age": 9,
          "Age Cohort": "6 to 12",
          "Ethnicity": "White not Hispanic",
          "Expenditures": 1690,
          "Gender": "Female",
          "Id": 71233,
          "cohort_order": null
         },
         {
          "Age": 27,
          "Age Cohort": "22 to 50",
          "Ethnicity": "Asian",
          "Expenditures": 39454,
          "Gender": "Female",
          "Id": 71271,
          "cohort_order": null
         },
         {
          "Age": 53,
          "Age Cohort": "51+",
          "Ethnicity": "White not Hispanic",
          "Expenditures": 49380,
          "Gender": "Male",
          "Id": 71346,
          "cohort_order": null
         },
         {
          "Age": 20,
          "Age Cohort": "18 to 21",
          "Ethnicity": "Hispanic",
          "Expenditures": 16677,
          "Gender": "Female",
          "Id": 71422,
          "cohort_order": null
         },
         {
          "Age": 13,
          "Age Cohort": "13 to 17",
          "Ethnicity": "Hispanic",
          "Expenditures": 3395,
          "Gender": "Male",
          "Id": 71440,
          "cohort_order": null
         },
         {
          "Age": 65,
          "Age Cohort": "51+",
          "Ethnicity": "White not Hispanic",
          "Expenditures": 54874,
          "Gender": "Female",
          "Id": 71526,
          "cohort_order": null
         },
         {
          "Age": 6,
          "Age Cohort": "6 to 12",
          "Ethnicity": "Hispanic",
          "Expenditures": 3099,
          "Gender": "Female",
          "Id": 71763,
          "cohort_order": null
         },
         {
          "Age": 17,
          "Age Cohort": "13 to 17",
          "Ethnicity": "Hispanic",
          "Expenditures": 3088,
          "Gender": "Female",
          "Id": 71846,
          "cohort_order": null
         },
         {
          "Age": 18,
          "Age Cohort": "18 to 21",
          "Ethnicity": "Hispanic",
          "Expenditures": 14221,
          "Gender": "Male",
          "Id": 71847,
          "cohort_order": null
         },
         {
          "Age": 20,
          "Age Cohort": "18 to 21",
          "Ethnicity": "Asian",
          "Expenditures": 12392,
          "Gender": "Male",
          "Id": 71928,
          "cohort_order": null
         },
         {
          "Age": 16,
          "Age Cohort": "13 to 17",
          "Ethnicity": "Black",
          "Expenditures": 4166,
          "Gender": "Male",
          "Id": 71969,
          "cohort_order": null
         },
         {
          "Age": 19,
          "Age Cohort": "18 to 21",
          "Ethnicity": "White not Hispanic",
          "Expenditures": 11032,
          "Gender": "Female",
          "Id": 72028,
          "cohort_order": null
         },
         {
          "Age": 34,
          "Age Cohort": "22 to 50",
          "Ethnicity": "White not Hispanic",
          "Expenditures": 40546,
          "Gender": "Male",
          "Id": 72101,
          "cohort_order": null
         },
         {
          "Age": 6,
          "Age Cohort": "6 to 12",
          "Ethnicity": "Asian",
          "Expenditures": 2597,
          "Gender": "Male",
          "Id": 72341,
          "cohort_order": null
         },
         {
          "Age": 19,
          "Age Cohort": "18 to 21",
          "Ethnicity": "White not Hispanic",
          "Expenditures": 11068,
          "Gender": "Male",
          "Id": 72365,
          "cohort_order": null
         },
         {
          "Age": 9,
          "Age Cohort": "6 to 12",
          "Ethnicity": "Hispanic",
          "Expenditures": 2634,
          "Gender": "Female",
          "Id": 72418,
          "cohort_order": null
         },
         {
          "Age": 34,
          "Age Cohort": "22 to 50",
          "Ethnicity": "Hispanic",
          "Expenditures": 45409,
          "Gender": "Female",
          "Id": 72424,
          "cohort_order": null
         },
         {
          "Age": 56,
          "Age Cohort": "51+",
          "Ethnicity": "Black",
          "Expenditures": 52618,
          "Gender": "Male",
          "Id": 72511,
          "cohort_order": null
         },
         {
          "Age": 22,
          "Age Cohort": "22 to 50",
          "Ethnicity": "Black",
          "Expenditures": 31853,
          "Gender": "Female",
          "Id": 72593,
          "cohort_order": null
         },
         {
          "Age": 18,
          "Age Cohort": "18 to 21",
          "Ethnicity": "Hispanic",
          "Expenditures": 3829,
          "Gender": "Female",
          "Id": 72606,
          "cohort_order": null
         },
         {
          "Age": 21,
          "Age Cohort": "18 to 21",
          "Ethnicity": "White not Hispanic",
          "Expenditures": 7166,
          "Gender": "Female",
          "Id": 72613,
          "cohort_order": null
         },
         {
          "Age": 16,
          "Age Cohort": "13 to 17",
          "Ethnicity": "Other",
          "Expenditures": 4615,
          "Gender": "Male",
          "Id": 72729,
          "cohort_order": null
         },
         {
          "Age": 18,
          "Age Cohort": "18 to 21",
          "Ethnicity": "Asian",
          "Expenditures": 11282,
          "Gender": "Male",
          "Id": 72808,
          "cohort_order": null
         },
         {
          "Age": 16,
          "Age Cohort": "13 to 17",
          "Ethnicity": "Hispanic",
          "Expenditures": 3060,
          "Gender": "Female",
          "Id": 72893,
          "cohort_order": null
         },
         {
          "Age": 5,
          "Age Cohort": "0 to 5",
          "Ethnicity": "Hispanic",
          "Expenditures": 1702,
          "Gender": "Female",
          "Id": 72903,
          "cohort_order": null
         },
         {
          "Age": 21,
          "Age Cohort": "18 to 21",
          "Ethnicity": "Hispanic",
          "Expenditures": 6977,
          "Gender": "Male",
          "Id": 72982,
          "cohort_order": null
         },
         {
          "Age": 20,
          "Age Cohort": "18 to 21",
          "Ethnicity": "White not Hispanic",
          "Expenditures": 10898,
          "Gender": "Male",
          "Id": 73085,
          "cohort_order": null
         },
         {
          "Age": 13,
          "Age Cohort": "13 to 17",
          "Ethnicity": "Asian",
          "Expenditures": 3419,
          "Gender": "Male",
          "Id": 73176,
          "cohort_order": null
         },
         {
          "Age": 14,
          "Age Cohort": "13 to 17",
          "Ethnicity": "Hispanic",
          "Expenditures": 3633,
          "Gender": "Female",
          "Id": 73402,
          "cohort_order": null
         },
         {
          "Age": 18,
          "Age Cohort": "18 to 21",
          "Ethnicity": "Hispanic",
          "Expenditures": 12603,
          "Gender": "Female",
          "Id": 73569,
          "cohort_order": null
         },
         {
          "Age": 62,
          "Age Cohort": "51+",
          "Ethnicity": "White not Hispanic",
          "Expenditures": 50219,
          "Gender": "Female",
          "Id": 73713,
          "cohort_order": null
         },
         {
          "Age": 8,
          "Age Cohort": "6 to 12",
          "Ethnicity": "Black",
          "Expenditures": 2261,
          "Gender": "Male",
          "Id": 73750,
          "cohort_order": null
         },
         {
          "Age": 6,
          "Age Cohort": "6 to 12",
          "Ethnicity": "Hispanic",
          "Expenditures": 3203,
          "Gender": "Male",
          "Id": 73758,
          "cohort_order": null
         },
         {
          "Age": 35,
          "Age Cohort": "22 to 50",
          "Ethnicity": "White not Hispanic",
          "Expenditures": 42329,
          "Gender": "Female",
          "Id": 73772,
          "cohort_order": null
         },
         {
          "Age": 8,
          "Age Cohort": "6 to 12",
          "Ethnicity": "Hispanic",
          "Expenditures": 1609,
          "Gender": "Female",
          "Id": 73907,
          "cohort_order": null
         },
         {
          "Age": 18,
          "Age Cohort": "18 to 21",
          "Ethnicity": "Hispanic",
          "Expenditures": 11176,
          "Gender": "Male",
          "Id": 74044,
          "cohort_order": null
         },
         {
          "Age": 19,
          "Age Cohort": "18 to 21",
          "Ethnicity": "White not Hispanic",
          "Expenditures": 8398,
          "Gender": "Female",
          "Id": 74146,
          "cohort_order": null
         },
         {
          "Age": 7,
          "Age Cohort": "6 to 12",
          "Ethnicity": "White not Hispanic",
          "Expenditures": 1728,
          "Gender": "Male",
          "Id": 74185,
          "cohort_order": null
         },
         {
          "Age": 19,
          "Age Cohort": "18 to 21",
          "Ethnicity": "Hispanic",
          "Expenditures": 11180,
          "Gender": "Male",
          "Id": 74272,
          "cohort_order": null
         },
         {
          "Age": 27,
          "Age Cohort": "22 to 50",
          "Ethnicity": "Asian",
          "Expenditures": 28581,
          "Gender": "Female",
          "Id": 74463,
          "cohort_order": null
         },
         {
          "Age": 12,
          "Age Cohort": "6 to 12",
          "Ethnicity": "Hispanic",
          "Expenditures": 1416,
          "Gender": "Male",
          "Id": 74521,
          "cohort_order": null
         },
         {
          "Age": 15,
          "Age Cohort": "13 to 17",
          "Ethnicity": "Hispanic",
          "Expenditures": 3677,
          "Gender": "Male",
          "Id": 74523,
          "cohort_order": null
         },
         {
          "Age": 15,
          "Age Cohort": "13 to 17",
          "Ethnicity": "White not Hispanic",
          "Expenditures": 4616,
          "Gender": "Male",
          "Id": 74683,
          "cohort_order": null
         },
         {
          "Age": 90,
          "Age Cohort": "51+",
          "Ethnicity": "American Indian",
          "Expenditures": 58392,
          "Gender": "Female",
          "Id": 74721,
          "cohort_order": null
         },
         {
          "Age": 9,
          "Age Cohort": "6 to 12",
          "Ethnicity": "Hispanic",
          "Expenditures": 1661,
          "Gender": "Male",
          "Id": 74878,
          "cohort_order": null
         },
         {
          "Age": 5,
          "Age Cohort": "0 to 5",
          "Ethnicity": "Black",
          "Expenditures": 1611,
          "Gender": "Female",
          "Id": 74891,
          "cohort_order": null
         },
         {
          "Age": 21,
          "Age Cohort": "18 to 21",
          "Ethnicity": "White not Hispanic",
          "Expenditures": 9363,
          "Gender": "Male",
          "Id": 74906,
          "cohort_order": null
         },
         {
          "Age": 17,
          "Age Cohort": "13 to 17",
          "Ethnicity": "Hispanic",
          "Expenditures": 5347,
          "Gender": "Female",
          "Id": 74924,
          "cohort_order": null
         },
         {
          "Age": 14,
          "Age Cohort": "13 to 17",
          "Ethnicity": "Hispanic",
          "Expenditures": 4378,
          "Gender": "Female",
          "Id": 74925,
          "cohort_order": null
         },
         {
          "Age": 20,
          "Age Cohort": "18 to 21",
          "Ethnicity": "White not Hispanic",
          "Expenditures": 10815,
          "Gender": "Female",
          "Id": 74970,
          "cohort_order": null
         },
         {
          "Age": 10,
          "Age Cohort": "6 to 12",
          "Ethnicity": "White not Hispanic",
          "Expenditures": 2368,
          "Gender": "Female",
          "Id": 75037,
          "cohort_order": null
         },
         {
          "Age": 30,
          "Age Cohort": "22 to 50",
          "Ethnicity": "Hispanic",
          "Expenditures": 40572,
          "Gender": "Female",
          "Id": 75049,
          "cohort_order": null
         },
         {
          "Age": 72,
          "Age Cohort": "51+",
          "Ethnicity": "White not Hispanic",
          "Expenditures": 50198,
          "Gender": "Female",
          "Id": 75122,
          "cohort_order": null
         },
         {
          "Age": 11,
          "Age Cohort": "6 to 12",
          "Ethnicity": "Hispanic",
          "Expenditures": 793,
          "Gender": "Male",
          "Id": 75138,
          "cohort_order": null
         },
         {
          "Age": 14,
          "Age Cohort": "13 to 17",
          "Ethnicity": "White not Hispanic",
          "Expenditures": 2551,
          "Gender": "Male",
          "Id": 75140,
          "cohort_order": null
         },
         {
          "Age": 19,
          "Age Cohort": "18 to 21",
          "Ethnicity": "White not Hispanic",
          "Expenditures": 8804,
          "Gender": "Female",
          "Id": 75193,
          "cohort_order": null
         },
         {
          "Age": 10,
          "Age Cohort": "6 to 12",
          "Ethnicity": "Hispanic",
          "Expenditures": 2865,
          "Gender": "Female",
          "Id": 75607,
          "cohort_order": null
         },
         {
          "Age": 3,
          "Age Cohort": "0 to 5",
          "Ethnicity": "Hispanic",
          "Expenditures": 1167,
          "Gender": "Female",
          "Id": 75696,
          "cohort_order": null
         },
         {
          "Age": 13,
          "Age Cohort": "13 to 17",
          "Ethnicity": "White not Hispanic",
          "Expenditures": 5098,
          "Gender": "Female",
          "Id": 75753,
          "cohort_order": null
         },
         {
          "Age": 15,
          "Age Cohort": "13 to 17",
          "Ethnicity": "Hispanic",
          "Expenditures": 5304,
          "Gender": "Male",
          "Id": 75806,
          "cohort_order": null
         },
         {
          "Age": 36,
          "Age Cohort": "22 to 50",
          "Ethnicity": "White not Hispanic",
          "Expenditures": 38246,
          "Gender": "Male",
          "Id": 75960,
          "cohort_order": null
         },
         {
          "Age": 12,
          "Age Cohort": "6 to 12",
          "Ethnicity": "Hispanic",
          "Expenditures": 1776,
          "Gender": "Male",
          "Id": 76011,
          "cohort_order": null
         },
         {
          "Age": 20,
          "Age Cohort": "18 to 21",
          "Ethnicity": "Hispanic",
          "Expenditures": 15711,
          "Gender": "Female",
          "Id": 76065,
          "cohort_order": null
         },
         {
          "Age": 12,
          "Age Cohort": "6 to 12",
          "Ethnicity": "Hispanic",
          "Expenditures": 3704,
          "Gender": "Male",
          "Id": 76344,
          "cohort_order": null
         },
         {
          "Age": 66,
          "Age Cohort": "51+",
          "Ethnicity": "White not Hispanic",
          "Expenditures": 47006,
          "Gender": "Male",
          "Id": 76353,
          "cohort_order": null
         },
         {
          "Age": 13,
          "Age Cohort": "13 to 17",
          "Ethnicity": "Asian",
          "Expenditures": 4710,
          "Gender": "Male",
          "Id": 76461,
          "cohort_order": null
         },
         {
          "Age": 88,
          "Age Cohort": "51+",
          "Ethnicity": "White not Hispanic",
          "Expenditures": 56415,
          "Gender": "Female",
          "Id": 76518,
          "cohort_order": null
         },
         {
          "Age": 18,
          "Age Cohort": "18 to 21",
          "Ethnicity": "White not Hispanic",
          "Expenditures": 11240,
          "Gender": "Male",
          "Id": 76533,
          "cohort_order": null
         },
         {
          "Age": 79,
          "Age Cohort": "51+",
          "Ethnicity": "White not Hispanic",
          "Expenditures": 58469,
          "Gender": "Female",
          "Id": 76547,
          "cohort_order": null
         },
         {
          "Age": 14,
          "Age Cohort": "13 to 17",
          "Ethnicity": "White not Hispanic",
          "Expenditures": 4842,
          "Gender": "Male",
          "Id": 76701,
          "cohort_order": null
         },
         {
          "Age": 14,
          "Age Cohort": "13 to 17",
          "Ethnicity": "White not Hispanic",
          "Expenditures": 2701,
          "Gender": "Male",
          "Id": 76737,
          "cohort_order": null
         },
         {
          "Age": 90,
          "Age Cohort": "51+",
          "Ethnicity": "White not Hispanic",
          "Expenditures": 57845,
          "Gender": "Female",
          "Id": 76776,
          "cohort_order": null
         },
         {
          "Age": 21,
          "Age Cohort": "18 to 21",
          "Ethnicity": "White not Hispanic",
          "Expenditures": 6482,
          "Gender": "Male",
          "Id": 76834,
          "cohort_order": null
         },
         {
          "Age": 20,
          "Age Cohort": "18 to 21",
          "Ethnicity": "Hispanic",
          "Expenditures": 9162,
          "Gender": "Male",
          "Id": 76865,
          "cohort_order": null
         },
         {
          "Age": 21,
          "Age Cohort": "18 to 21",
          "Ethnicity": "White not Hispanic",
          "Expenditures": 12552,
          "Gender": "Female",
          "Id": 76990,
          "cohort_order": null
         },
         {
          "Age": 32,
          "Age Cohort": "22 to 50",
          "Ethnicity": "White not Hispanic",
          "Expenditures": 30791,
          "Gender": "Male",
          "Id": 77021,
          "cohort_order": null
         },
         {
          "Age": 19,
          "Age Cohort": "18 to 21",
          "Ethnicity": "Hispanic",
          "Expenditures": 9341,
          "Gender": "Female",
          "Id": 77155,
          "cohort_order": null
         },
         {
          "Age": 30,
          "Age Cohort": "22 to 50",
          "Ethnicity": "Hispanic",
          "Expenditures": 48121,
          "Gender": "Male",
          "Id": 77193,
          "cohort_order": null
         },
         {
          "Age": 16,
          "Age Cohort": "13 to 17",
          "Ethnicity": "White not Hispanic",
          "Expenditures": 3047,
          "Gender": "Male",
          "Id": 77349,
          "cohort_order": null
         },
         {
          "Age": 18,
          "Age Cohort": "18 to 21",
          "Ethnicity": "Asian",
          "Expenditures": 3707,
          "Gender": "Male",
          "Id": 77450,
          "cohort_order": null
         },
         {
          "Age": 71,
          "Age Cohort": "51+",
          "Ethnicity": "Asian",
          "Expenditures": 52421,
          "Gender": "Female",
          "Id": 77463,
          "cohort_order": null
         },
         {
          "Age": 18,
          "Age Cohort": "18 to 21",
          "Ethnicity": "Asian",
          "Expenditures": 18435,
          "Gender": "Female",
          "Id": 77587,
          "cohort_order": null
         },
         {
          "Age": 24,
          "Age Cohort": "22 to 50",
          "Ethnicity": "Hispanic",
          "Expenditures": 37367,
          "Gender": "Male",
          "Id": 77596,
          "cohort_order": null
         },
         {
          "Age": 15,
          "Age Cohort": "13 to 17",
          "Ethnicity": "Hispanic",
          "Expenditures": 4260,
          "Gender": "Female",
          "Id": 77607,
          "cohort_order": null
         },
         {
          "Age": 0,
          "Age Cohort": "0 to 5",
          "Ethnicity": "Hispanic",
          "Expenditures": 1458,
          "Gender": "Female",
          "Id": 77654,
          "cohort_order": null
         },
         {
          "Age": 20,
          "Age Cohort": "18 to 21",
          "Ethnicity": "Asian",
          "Expenditures": 12234,
          "Gender": "Male",
          "Id": 77715,
          "cohort_order": null
         },
         {
          "Age": 39,
          "Age Cohort": "22 to 50",
          "Ethnicity": "White not Hispanic",
          "Expenditures": 33259,
          "Gender": "Male",
          "Id": 77829,
          "cohort_order": null
         },
         {
          "Age": 6,
          "Age Cohort": "6 to 12",
          "Ethnicity": "Hispanic",
          "Expenditures": 1804,
          "Gender": "Female",
          "Id": 77916,
          "cohort_order": null
         },
         {
          "Age": 51,
          "Age Cohort": "51+",
          "Ethnicity": "White not Hispanic",
          "Expenditures": 52105,
          "Gender": "Female",
          "Id": 77933,
          "cohort_order": null
         },
         {
          "Age": 10,
          "Age Cohort": "6 to 12",
          "Ethnicity": "Hispanic",
          "Expenditures": 1934,
          "Gender": "Female",
          "Id": 78026,
          "cohort_order": null
         },
         {
          "Age": 30,
          "Age Cohort": "22 to 50",
          "Ethnicity": "White not Hispanic",
          "Expenditures": 40268,
          "Gender": "Male",
          "Id": 78221,
          "cohort_order": null
         },
         {
          "Age": 23,
          "Age Cohort": "22 to 50",
          "Ethnicity": "Native Hawaiian",
          "Expenditures": 37479,
          "Gender": "Male",
          "Id": 78254,
          "cohort_order": null
         },
         {
          "Age": 75,
          "Age Cohort": "51+",
          "Ethnicity": "Hispanic",
          "Expenditures": 65581,
          "Gender": "Female",
          "Id": 78364,
          "cohort_order": null
         },
         {
          "Age": 66,
          "Age Cohort": "51+",
          "Ethnicity": "White not Hispanic",
          "Expenditures": 42160,
          "Gender": "Male",
          "Id": 78374,
          "cohort_order": null
         },
         {
          "Age": 7,
          "Age Cohort": "6 to 12",
          "Ethnicity": "Black",
          "Expenditures": 3125,
          "Gender": "Female",
          "Id": 78383,
          "cohort_order": null
         },
         {
          "Age": 21,
          "Age Cohort": "18 to 21",
          "Ethnicity": "Asian",
          "Expenditures": 7683,
          "Gender": "Female",
          "Id": 78532,
          "cohort_order": null
         },
         {
          "Age": 35,
          "Age Cohort": "22 to 50",
          "Ethnicity": "White not Hispanic",
          "Expenditures": 33070,
          "Gender": "Female",
          "Id": 78612,
          "cohort_order": null
         },
         {
          "Age": 32,
          "Age Cohort": "22 to 50",
          "Ethnicity": "White not Hispanic",
          "Expenditures": 32704,
          "Gender": "Male",
          "Id": 78803,
          "cohort_order": null
         },
         {
          "Age": 21,
          "Age Cohort": "18 to 21",
          "Ethnicity": "Black",
          "Expenditures": 11491,
          "Gender": "Male",
          "Id": 79152,
          "cohort_order": null
         },
         {
          "Age": 19,
          "Age Cohort": "18 to 21",
          "Ethnicity": "White not Hispanic",
          "Expenditures": 5303,
          "Gender": "Male",
          "Id": 79204,
          "cohort_order": null
         },
         {
          "Age": 25,
          "Age Cohort": "22 to 50",
          "Ethnicity": "Hispanic",
          "Expenditures": 46437,
          "Gender": "Female",
          "Id": 79379,
          "cohort_order": null
         },
         {
          "Age": 32,
          "Age Cohort": "22 to 50",
          "Ethnicity": "American Indian",
          "Expenditures": 28205,
          "Gender": "Male",
          "Id": 79645,
          "cohort_order": null
         },
         {
          "Age": 0,
          "Age Cohort": "0 to 5",
          "Ethnicity": "White not Hispanic",
          "Expenditures": 1704,
          "Gender": "Female",
          "Id": 79659,
          "cohort_order": null
         },
         {
          "Age": 31,
          "Age Cohort": "22 to 50",
          "Ethnicity": "White not Hispanic",
          "Expenditures": 33051,
          "Gender": "Male",
          "Id": 79711,
          "cohort_order": null
         },
         {
          "Age": 23,
          "Age Cohort": "22 to 50",
          "Ethnicity": "Asian",
          "Expenditures": 50542,
          "Gender": "Male",
          "Id": 79930,
          "cohort_order": null
         },
         {
          "Age": 27,
          "Age Cohort": "22 to 50",
          "Ethnicity": "Hispanic",
          "Expenditures": 37708,
          "Gender": "Male",
          "Id": 80142,
          "cohort_order": null
         },
         {
          "Age": 6,
          "Age Cohort": "6 to 12",
          "Ethnicity": "Hispanic",
          "Expenditures": 987,
          "Gender": "Female",
          "Id": 80225,
          "cohort_order": null
         },
         {
          "Age": 10,
          "Age Cohort": "6 to 12",
          "Ethnicity": "Hispanic",
          "Expenditures": 1590,
          "Gender": "Female",
          "Id": 80338,
          "cohort_order": null
         },
         {
          "Age": 19,
          "Age Cohort": "18 to 21",
          "Ethnicity": "White not Hispanic",
          "Expenditures": 15527,
          "Gender": "Female",
          "Id": 80426,
          "cohort_order": null
         },
         {
          "Age": 17,
          "Age Cohort": "13 to 17",
          "Ethnicity": "Hispanic",
          "Expenditures": 4496,
          "Gender": "Female",
          "Id": 80439,
          "cohort_order": null
         },
         {
          "Age": 20,
          "Age Cohort": "18 to 21",
          "Ethnicity": "Asian",
          "Expenditures": 13264,
          "Gender": "Female",
          "Id": 80464,
          "cohort_order": null
         },
         {
          "Age": 8,
          "Age Cohort": "6 to 12",
          "Ethnicity": "White not Hispanic",
          "Expenditures": 2459,
          "Gender": "Female",
          "Id": 80529,
          "cohort_order": null
         },
         {
          "Age": 71,
          "Age Cohort": "51+",
          "Ethnicity": "Black",
          "Expenditures": 58594,
          "Gender": "Male",
          "Id": 80534,
          "cohort_order": null
         },
         {
          "Age": 21,
          "Age Cohort": "18 to 21",
          "Ethnicity": "Hispanic",
          "Expenditures": 13468,
          "Gender": "Male",
          "Id": 80636,
          "cohort_order": null
         },
         {
          "Age": 22,
          "Age Cohort": "22 to 50",
          "Ethnicity": "Asian",
          "Expenditures": 40240,
          "Gender": "Female",
          "Id": 80688,
          "cohort_order": null
         },
         {
          "Age": 11,
          "Age Cohort": "6 to 12",
          "Ethnicity": "White not Hispanic",
          "Expenditures": 2727,
          "Gender": "Male",
          "Id": 80955,
          "cohort_order": null
         },
         {
          "Age": 21,
          "Age Cohort": "18 to 21",
          "Ethnicity": "Asian",
          "Expenditures": 9923,
          "Gender": "Male",
          "Id": 81195,
          "cohort_order": null
         },
         {
          "Age": 37,
          "Age Cohort": "22 to 50",
          "Ethnicity": "White not Hispanic",
          "Expenditures": 41550,
          "Gender": "Male",
          "Id": 81203,
          "cohort_order": null
         },
         {
          "Age": 23,
          "Age Cohort": "22 to 50",
          "Ethnicity": "White not Hispanic",
          "Expenditures": 36521,
          "Gender": "Male",
          "Id": 81394,
          "cohort_order": null
         },
         {
          "Age": 11,
          "Age Cohort": "6 to 12",
          "Ethnicity": "Hispanic",
          "Expenditures": 1905,
          "Gender": "Female",
          "Id": 81488,
          "cohort_order": null
         },
         {
          "Age": 20,
          "Age Cohort": "18 to 21",
          "Ethnicity": "White not Hispanic",
          "Expenditures": 7237,
          "Gender": "Female",
          "Id": 81512,
          "cohort_order": null
         },
         {
          "Age": 22,
          "Age Cohort": "22 to 50",
          "Ethnicity": "Black",
          "Expenditures": 28061,
          "Gender": "Male",
          "Id": 81530,
          "cohort_order": null
         },
         {
          "Age": 24,
          "Age Cohort": "22 to 50",
          "Ethnicity": "White not Hispanic",
          "Expenditures": 42746,
          "Gender": "Female",
          "Id": 81669,
          "cohort_order": null
         },
         {
          "Age": 26,
          "Age Cohort": "22 to 50",
          "Ethnicity": "White not Hispanic",
          "Expenditures": 34915,
          "Gender": "Male",
          "Id": 81703,
          "cohort_order": null
         },
         {
          "Age": 18,
          "Age Cohort": "18 to 21",
          "Ethnicity": "White not Hispanic",
          "Expenditures": 7144,
          "Gender": "Female",
          "Id": 81816,
          "cohort_order": null
         },
         {
          "Age": 15,
          "Age Cohort": "13 to 17",
          "Ethnicity": "Hispanic",
          "Expenditures": 3251,
          "Gender": "Female",
          "Id": 81823,
          "cohort_order": null
         },
         {
          "Age": 30,
          "Age Cohort": "22 to 50",
          "Ethnicity": "Hispanic",
          "Expenditures": 42070,
          "Gender": "Male",
          "Id": 81913,
          "cohort_order": null
         },
         {
          "Age": 23,
          "Age Cohort": "22 to 50",
          "Ethnicity": "Hispanic",
          "Expenditures": 40159,
          "Gender": "Male",
          "Id": 81916,
          "cohort_order": null
         },
         {
          "Age": 22,
          "Age Cohort": "22 to 50",
          "Ethnicity": "White not Hispanic",
          "Expenditures": 37201,
          "Gender": "Male",
          "Id": 82022,
          "cohort_order": null
         },
         {
          "Age": 53,
          "Age Cohort": "51+",
          "Ethnicity": "Hispanic",
          "Expenditures": 50176,
          "Gender": "Male",
          "Id": 82126,
          "cohort_order": null
         },
         {
          "Age": 7,
          "Age Cohort": "6 to 12",
          "Ethnicity": "Asian",
          "Expenditures": 1691,
          "Gender": "Male",
          "Id": 82186,
          "cohort_order": null
         },
         {
          "Age": 29,
          "Age Cohort": "22 to 50",
          "Ethnicity": "White not Hispanic",
          "Expenditures": 46356,
          "Gender": "Female",
          "Id": 82230,
          "cohort_order": null
         },
         {
          "Age": 33,
          "Age Cohort": "22 to 50",
          "Ethnicity": "White not Hispanic",
          "Expenditures": 38762,
          "Gender": "Male",
          "Id": 82254,
          "cohort_order": null
         },
         {
          "Age": 72,
          "Age Cohort": "51+",
          "Ethnicity": "Black",
          "Expenditures": 60808,
          "Gender": "Male",
          "Id": 82355,
          "cohort_order": null
         },
         {
          "Age": 62,
          "Age Cohort": "51+",
          "Ethnicity": "White not Hispanic",
          "Expenditures": 47709,
          "Gender": "Male",
          "Id": 82582,
          "cohort_order": null
         },
         {
          "Age": 18,
          "Age Cohort": "18 to 21",
          "Ethnicity": "Hispanic",
          "Expenditures": 10439,
          "Gender": "Female",
          "Id": 82743,
          "cohort_order": null
         },
         {
          "Age": 20,
          "Age Cohort": "18 to 21",
          "Ethnicity": "Hispanic",
          "Expenditures": 11810,
          "Gender": "Female",
          "Id": 82904,
          "cohort_order": null
         },
         {
          "Age": 31,
          "Age Cohort": "22 to 50",
          "Ethnicity": "Hispanic",
          "Expenditures": 34021,
          "Gender": "Male",
          "Id": 82928,
          "cohort_order": null
         },
         {
          "Age": 80,
          "Age Cohort": "51+",
          "Ethnicity": "White not Hispanic",
          "Expenditures": 68890,
          "Gender": "Male",
          "Id": 83000,
          "cohort_order": null
         },
         {
          "Age": 70,
          "Age Cohort": "51+",
          "Ethnicity": "Hispanic",
          "Expenditures": 50230,
          "Gender": "Male",
          "Id": 83149,
          "cohort_order": null
         },
         {
          "Age": 29,
          "Age Cohort": "22 to 50",
          "Ethnicity": "White not Hispanic",
          "Expenditures": 36658,
          "Gender": "Male",
          "Id": 83212,
          "cohort_order": null
         },
         {
          "Age": 73,
          "Age Cohort": "51+",
          "Ethnicity": "White not Hispanic",
          "Expenditures": 51455,
          "Gender": "Male",
          "Id": 83224,
          "cohort_order": null
         },
         {
          "Age": 20,
          "Age Cohort": "18 to 21",
          "Ethnicity": "Hispanic",
          "Expenditures": 9932,
          "Gender": "Male",
          "Id": 83404,
          "cohort_order": null
         },
         {
          "Age": 20,
          "Age Cohort": "18 to 21",
          "Ethnicity": "Asian",
          "Expenditures": 11803,
          "Gender": "Female",
          "Id": 83443,
          "cohort_order": null
         },
         {
          "Age": 40,
          "Age Cohort": "22 to 50",
          "Ethnicity": "Asian",
          "Expenditures": 48064,
          "Gender": "Male",
          "Id": 83495,
          "cohort_order": null
         },
         {
          "Age": 13,
          "Age Cohort": "13 to 17",
          "Ethnicity": "White not Hispanic",
          "Expenditures": 4473,
          "Gender": "Female",
          "Id": 83771,
          "cohort_order": null
         },
         {
          "Age": 24,
          "Age Cohort": "22 to 50",
          "Ethnicity": "Asian",
          "Expenditures": 30803,
          "Gender": "Male",
          "Id": 83851,
          "cohort_order": null
         },
         {
          "Age": 32,
          "Age Cohort": "22 to 50",
          "Ethnicity": "White not Hispanic",
          "Expenditures": 37637,
          "Gender": "Female",
          "Id": 83897,
          "cohort_order": null
         },
         {
          "Age": 62,
          "Age Cohort": "51+",
          "Ethnicity": "White not Hispanic",
          "Expenditures": 44111,
          "Gender": "Male",
          "Id": 83972,
          "cohort_order": null
         },
         {
          "Age": 18,
          "Age Cohort": "18 to 21",
          "Ethnicity": "White not Hispanic",
          "Expenditures": 8985,
          "Gender": "Male",
          "Id": 84259,
          "cohort_order": null
         },
         {
          "Age": 28,
          "Age Cohort": "22 to 50",
          "Ethnicity": "Asian",
          "Expenditures": 48968,
          "Gender": "Female",
          "Id": 84336,
          "cohort_order": null
         },
         {
          "Age": 6,
          "Age Cohort": "6 to 12",
          "Ethnicity": "Hispanic",
          "Expenditures": 2924,
          "Gender": "Male",
          "Id": 84362,
          "cohort_order": null
         },
         {
          "Age": 2,
          "Age Cohort": "0 to 5",
          "Ethnicity": "Multi Race",
          "Expenditures": 697,
          "Gender": "Female",
          "Id": 84388,
          "cohort_order": null
         },
         {
          "Age": 24,
          "Age Cohort": "22 to 50",
          "Ethnicity": "Hispanic",
          "Expenditures": 37663,
          "Gender": "Female",
          "Id": 84436,
          "cohort_order": null
         },
         {
          "Age": 19,
          "Age Cohort": "18 to 21",
          "Ethnicity": "Black",
          "Expenditures": 9675,
          "Gender": "Male",
          "Id": 84477,
          "cohort_order": null
         },
         {
          "Age": 17,
          "Age Cohort": "13 to 17",
          "Ethnicity": "Asian",
          "Expenditures": 4216,
          "Gender": "Female",
          "Id": 84484,
          "cohort_order": null
         },
         {
          "Age": 14,
          "Age Cohort": "13 to 17",
          "Ethnicity": "White not Hispanic",
          "Expenditures": 5576,
          "Gender": "Female",
          "Id": 84737,
          "cohort_order": null
         },
         {
          "Age": 25,
          "Age Cohort": "22 to 50",
          "Ethnicity": "Hispanic",
          "Expenditures": 31943,
          "Gender": "Male",
          "Id": 84833,
          "cohort_order": null
         },
         {
          "Age": 7,
          "Age Cohort": "6 to 12",
          "Ethnicity": "Black",
          "Expenditures": 2834,
          "Gender": "Female",
          "Id": 84949,
          "cohort_order": null
         },
         {
          "Age": 12,
          "Age Cohort": "6 to 12",
          "Ethnicity": "White not Hispanic",
          "Expenditures": 1531,
          "Gender": "Male",
          "Id": 84996,
          "cohort_order": null
         },
         {
          "Age": 15,
          "Age Cohort": "13 to 17",
          "Ethnicity": "White not Hispanic",
          "Expenditures": 5254,
          "Gender": "Female",
          "Id": 85005,
          "cohort_order": null
         },
         {
          "Age": 23,
          "Age Cohort": "22 to 50",
          "Ethnicity": "White not Hispanic",
          "Expenditures": 44219,
          "Gender": "Male",
          "Id": 85129,
          "cohort_order": null
         },
         {
          "Age": 28,
          "Age Cohort": "22 to 50",
          "Ethnicity": "Hispanic",
          "Expenditures": 26178,
          "Gender": "Male",
          "Id": 85179,
          "cohort_order": null
         },
         {
          "Age": 14,
          "Age Cohort": "13 to 17",
          "Ethnicity": "White not Hispanic",
          "Expenditures": 3189,
          "Gender": "Female",
          "Id": 85261,
          "cohort_order": null
         },
         {
          "Age": 12,
          "Age Cohort": "6 to 12",
          "Ethnicity": "Hispanic",
          "Expenditures": 3732,
          "Gender": "Female",
          "Id": 85301,
          "cohort_order": null
         },
         {
          "Age": 23,
          "Age Cohort": "22 to 50",
          "Ethnicity": "Asian",
          "Expenditures": 25348,
          "Gender": "Male",
          "Id": 85491,
          "cohort_order": null
         },
         {
          "Age": 21,
          "Age Cohort": "18 to 21",
          "Ethnicity": "Hispanic",
          "Expenditures": 8957,
          "Gender": "Female",
          "Id": 85501,
          "cohort_order": null
         },
         {
          "Age": 14,
          "Age Cohort": "13 to 17",
          "Ethnicity": "Hispanic",
          "Expenditures": 5280,
          "Gender": "Female",
          "Id": 85633,
          "cohort_order": null
         },
         {
          "Age": 33,
          "Age Cohort": "22 to 50",
          "Ethnicity": "White not Hispanic",
          "Expenditures": 39010,
          "Gender": "Male",
          "Id": 85639,
          "cohort_order": null
         },
         {
          "Age": 41,
          "Age Cohort": "22 to 50",
          "Ethnicity": "White not Hispanic",
          "Expenditures": 49223,
          "Gender": "Female",
          "Id": 85741,
          "cohort_order": null
         },
         {
          "Age": 19,
          "Age Cohort": "18 to 21",
          "Ethnicity": "Asian",
          "Expenditures": 12243,
          "Gender": "Female",
          "Id": 85775,
          "cohort_order": null
         },
         {
          "Age": 25,
          "Age Cohort": "22 to 50",
          "Ethnicity": "Asian",
          "Expenditures": 40999,
          "Gender": "Male",
          "Id": 86019,
          "cohort_order": null
         },
         {
          "Age": 20,
          "Age Cohort": "18 to 21",
          "Ethnicity": "Hispanic",
          "Expenditures": 3749,
          "Gender": "Female",
          "Id": 86084,
          "cohort_order": null
         },
         {
          "Age": 9,
          "Age Cohort": "6 to 12",
          "Ethnicity": "Hispanic",
          "Expenditures": 1416,
          "Gender": "Female",
          "Id": 86328,
          "cohort_order": null
         },
         {
          "Age": 32,
          "Age Cohort": "22 to 50",
          "Ethnicity": "White not Hispanic",
          "Expenditures": 33630,
          "Gender": "Female",
          "Id": 86396,
          "cohort_order": null
         },
         {
          "Age": 26,
          "Age Cohort": "22 to 50",
          "Ethnicity": "Asian",
          "Expenditures": 33634,
          "Gender": "Male",
          "Id": 86416,
          "cohort_order": null
         },
         {
          "Age": 19,
          "Age Cohort": "18 to 21",
          "Ethnicity": "Hispanic",
          "Expenditures": 9760,
          "Gender": "Male",
          "Id": 86565,
          "cohort_order": null
         },
         {
          "Age": 42,
          "Age Cohort": "22 to 50",
          "Ethnicity": "Black",
          "Expenditures": 51084,
          "Gender": "Female",
          "Id": 86579,
          "cohort_order": null
         },
         {
          "Age": 11,
          "Age Cohort": "6 to 12",
          "Ethnicity": "White not Hispanic",
          "Expenditures": 1984,
          "Gender": "Male",
          "Id": 86599,
          "cohort_order": null
         },
         {
          "Age": 30,
          "Age Cohort": "22 to 50",
          "Ethnicity": "White not Hispanic",
          "Expenditures": 40927,
          "Gender": "Male",
          "Id": 86667,
          "cohort_order": null
         },
         {
          "Age": 39,
          "Age Cohort": "22 to 50",
          "Ethnicity": "White not Hispanic",
          "Expenditures": 31076,
          "Gender": "Female",
          "Id": 86893,
          "cohort_order": null
         },
         {
          "Age": 16,
          "Age Cohort": "13 to 17",
          "Ethnicity": "White not Hispanic",
          "Expenditures": 4915,
          "Gender": "Female",
          "Id": 87080,
          "cohort_order": null
         },
         {
          "Age": 17,
          "Age Cohort": "13 to 17",
          "Ethnicity": "Hispanic",
          "Expenditures": 3747,
          "Gender": "Female",
          "Id": 87143,
          "cohort_order": null
         },
         {
          "Age": 21,
          "Age Cohort": "18 to 21",
          "Ethnicity": "White not Hispanic",
          "Expenditures": 9700,
          "Gender": "Female",
          "Id": 87358,
          "cohort_order": null
         },
         {
          "Age": 14,
          "Age Cohort": "13 to 17",
          "Ethnicity": "Multi Race",
          "Expenditures": 1893,
          "Gender": "Female",
          "Id": 87444,
          "cohort_order": null
         },
         {
          "Age": 17,
          "Age Cohort": "13 to 17",
          "Ethnicity": "Hispanic",
          "Expenditures": 4221,
          "Gender": "Female",
          "Id": 87697,
          "cohort_order": null
         },
         {
          "Age": 91,
          "Age Cohort": "51+",
          "Ethnicity": "Asian",
          "Expenditures": 54481,
          "Gender": "Male",
          "Id": 87737,
          "cohort_order": null
         },
         {
          "Age": 10,
          "Age Cohort": "6 to 12",
          "Ethnicity": "Hispanic",
          "Expenditures": 3060,
          "Gender": "Female",
          "Id": 87869,
          "cohort_order": null
         },
         {
          "Age": 24,
          "Age Cohort": "22 to 50",
          "Ethnicity": "Asian",
          "Expenditures": 34274,
          "Gender": "Female",
          "Id": 87923,
          "cohort_order": null
         },
         {
          "Age": 19,
          "Age Cohort": "18 to 21",
          "Ethnicity": "Hispanic",
          "Expenditures": 12523,
          "Gender": "Female",
          "Id": 88118,
          "cohort_order": null
         },
         {
          "Age": 71,
          "Age Cohort": "51+",
          "Ethnicity": "White not Hispanic",
          "Expenditures": 56365,
          "Gender": "Female",
          "Id": 88132,
          "cohort_order": null
         },
         {
          "Age": 4,
          "Age Cohort": "0 to 5",
          "Ethnicity": "Asian",
          "Expenditures": 1645,
          "Gender": "Female",
          "Id": 88276,
          "cohort_order": null
         },
         {
          "Age": 11,
          "Age Cohort": "6 to 12",
          "Ethnicity": "Hispanic",
          "Expenditures": 2839,
          "Gender": "Male",
          "Id": 88284,
          "cohort_order": null
         },
         {
          "Age": 8,
          "Age Cohort": "6 to 12",
          "Ethnicity": "White not Hispanic",
          "Expenditures": 3572,
          "Gender": "Female",
          "Id": 88508,
          "cohort_order": null
         },
         {
          "Age": 31,
          "Age Cohort": "22 to 50",
          "Ethnicity": "White not Hispanic",
          "Expenditures": 39172,
          "Gender": "Male",
          "Id": 88618,
          "cohort_order": null
         },
         {
          "Age": 8,
          "Age Cohort": "6 to 12",
          "Ethnicity": "Hispanic",
          "Expenditures": 1714,
          "Gender": "Female",
          "Id": 88739,
          "cohort_order": null
         },
         {
          "Age": 72,
          "Age Cohort": "51+",
          "Ethnicity": "White not Hispanic",
          "Expenditures": 43957,
          "Gender": "Male",
          "Id": 88757,
          "cohort_order": null
         },
         {
          "Age": 62,
          "Age Cohort": "51+",
          "Ethnicity": "White not Hispanic",
          "Expenditures": 58480,
          "Gender": "Female",
          "Id": 88930,
          "cohort_order": null
         },
         {
          "Age": 26,
          "Age Cohort": "22 to 50",
          "Ethnicity": "Black",
          "Expenditures": 43109,
          "Gender": "Female",
          "Id": 89102,
          "cohort_order": null
         },
         {
          "Age": 7,
          "Age Cohort": "6 to 12",
          "Ethnicity": "Hispanic",
          "Expenditures": 1875,
          "Gender": "Female",
          "Id": 89108,
          "cohort_order": null
         },
         {
          "Age": 63,
          "Age Cohort": "51+",
          "Ethnicity": "White not Hispanic",
          "Expenditures": 50030,
          "Gender": "Male",
          "Id": 89124,
          "cohort_order": null
         },
         {
          "Age": 21,
          "Age Cohort": "18 to 21",
          "Ethnicity": "Hispanic",
          "Expenditures": 8707,
          "Gender": "Male",
          "Id": 89132,
          "cohort_order": null
         },
         {
          "Age": 8,
          "Age Cohort": "6 to 12",
          "Ethnicity": "Hispanic",
          "Expenditures": 2717,
          "Gender": "Female",
          "Id": 89286,
          "cohort_order": null
         },
         {
          "Age": 5,
          "Age Cohort": "0 to 5",
          "Ethnicity": "Hispanic",
          "Expenditures": 1684,
          "Gender": "Female",
          "Id": 89316,
          "cohort_order": null
         },
         {
          "Age": 20,
          "Age Cohort": "18 to 21",
          "Ethnicity": "White not Hispanic",
          "Expenditures": 7743,
          "Gender": "Male",
          "Id": 89334,
          "cohort_order": null
         },
         {
          "Age": 19,
          "Age Cohort": "18 to 21",
          "Ethnicity": "Asian",
          "Expenditures": 7475,
          "Gender": "Female",
          "Id": 89361,
          "cohort_order": null
         },
         {
          "Age": 9,
          "Age Cohort": "6 to 12",
          "Ethnicity": "White not Hispanic",
          "Expenditures": 2753,
          "Gender": "Male",
          "Id": 89611,
          "cohort_order": null
         },
         {
          "Age": 19,
          "Age Cohort": "18 to 21",
          "Ethnicity": "Asian",
          "Expenditures": 8820,
          "Gender": "Female",
          "Id": 89809,
          "cohort_order": null
         },
         {
          "Age": 19,
          "Age Cohort": "18 to 21",
          "Ethnicity": "Hispanic",
          "Expenditures": 5988,
          "Gender": "Female",
          "Id": 89925,
          "cohort_order": null
         },
         {
          "Age": 21,
          "Age Cohort": "18 to 21",
          "Ethnicity": "Black",
          "Expenditures": 11327,
          "Gender": "Male",
          "Id": 90037,
          "cohort_order": null
         },
         {
          "Age": 16,
          "Age Cohort": "13 to 17",
          "Ethnicity": "Hispanic",
          "Expenditures": 3702,
          "Gender": "Female",
          "Id": 90151,
          "cohort_order": null
         },
         {
          "Age": 13,
          "Age Cohort": "13 to 17",
          "Ethnicity": "Hispanic",
          "Expenditures": 3887,
          "Gender": "Female",
          "Id": 90220,
          "cohort_order": null
         },
         {
          "Age": 19,
          "Age Cohort": "18 to 21",
          "Ethnicity": "Asian",
          "Expenditures": 9979,
          "Gender": "Male",
          "Id": 90233,
          "cohort_order": null
         },
         {
          "Age": 18,
          "Age Cohort": "18 to 21",
          "Ethnicity": "Hispanic",
          "Expenditures": 13730,
          "Gender": "Female",
          "Id": 90239,
          "cohort_order": null
         },
         {
          "Age": 19,
          "Age Cohort": "18 to 21",
          "Ethnicity": "White not Hispanic",
          "Expenditures": 7570,
          "Gender": "Male",
          "Id": 90299,
          "cohort_order": null
         },
         {
          "Age": 27,
          "Age Cohort": "22 to 50",
          "Ethnicity": "White not Hispanic",
          "Expenditures": 35720,
          "Gender": "Female",
          "Id": 90432,
          "cohort_order": null
         },
         {
          "Age": 19,
          "Age Cohort": "18 to 21",
          "Ethnicity": "Black",
          "Expenditures": 7061,
          "Gender": "Female",
          "Id": 90644,
          "cohort_order": null
         },
         {
          "Age": 13,
          "Age Cohort": "13 to 17",
          "Ethnicity": "White not Hispanic",
          "Expenditures": 5546,
          "Gender": "Female",
          "Id": 90670,
          "cohort_order": null
         },
         {
          "Age": 16,
          "Age Cohort": "13 to 17",
          "Ethnicity": "White not Hispanic",
          "Expenditures": 3666,
          "Gender": "Male",
          "Id": 90814,
          "cohort_order": null
         },
         {
          "Age": 10,
          "Age Cohort": "6 to 12",
          "Ethnicity": "Multi Race",
          "Expenditures": 669,
          "Gender": "Female",
          "Id": 90953,
          "cohort_order": null
         },
         {
          "Age": 29,
          "Age Cohort": "22 to 50",
          "Ethnicity": "White not Hispanic",
          "Expenditures": 40755,
          "Gender": "Female",
          "Id": 90996,
          "cohort_order": null
         },
         {
          "Age": 32,
          "Age Cohort": "22 to 50",
          "Ethnicity": "Hispanic",
          "Expenditures": 35435,
          "Gender": "Female",
          "Id": 91011,
          "cohort_order": null
         },
         {
          "Age": 21,
          "Age Cohort": "18 to 21",
          "Ethnicity": "Hispanic",
          "Expenditures": 6904,
          "Gender": "Male",
          "Id": 91064,
          "cohort_order": null
         },
         {
          "Age": 29,
          "Age Cohort": "22 to 50",
          "Ethnicity": "White not Hispanic",
          "Expenditures": 41268,
          "Gender": "Male",
          "Id": 91288,
          "cohort_order": null
         },
         {
          "Age": 12,
          "Age Cohort": "6 to 12",
          "Ethnicity": "White not Hispanic",
          "Expenditures": 1996,
          "Gender": "Male",
          "Id": 91383,
          "cohort_order": null
         },
         {
          "Age": 14,
          "Age Cohort": "13 to 17",
          "Ethnicity": "Hispanic",
          "Expenditures": 3703,
          "Gender": "Male",
          "Id": 91756,
          "cohort_order": null
         },
         {
          "Age": 7,
          "Age Cohort": "6 to 12",
          "Ethnicity": "White not Hispanic",
          "Expenditures": 2669,
          "Gender": "Female",
          "Id": 91766,
          "cohort_order": null
         },
         {
          "Age": 14,
          "Age Cohort": "13 to 17",
          "Ethnicity": "Hispanic",
          "Expenditures": 3319,
          "Gender": "Male",
          "Id": 91966,
          "cohort_order": null
         },
         {
          "Age": 17,
          "Age Cohort": "13 to 17",
          "Ethnicity": "Hispanic",
          "Expenditures": 3478,
          "Gender": "Female",
          "Id": 92055,
          "cohort_order": null
         },
         {
          "Age": 20,
          "Age Cohort": "18 to 21",
          "Ethnicity": "White not Hispanic",
          "Expenditures": 8359,
          "Gender": "Male",
          "Id": 92109,
          "cohort_order": null
         },
         {
          "Age": 17,
          "Age Cohort": "13 to 17",
          "Ethnicity": "Hispanic",
          "Expenditures": 4791,
          "Gender": "Male",
          "Id": 92198,
          "cohort_order": null
         },
         {
          "Age": 6,
          "Age Cohort": "6 to 12",
          "Ethnicity": "Hispanic",
          "Expenditures": 1898,
          "Gender": "Male",
          "Id": 92207,
          "cohort_order": null
         },
         {
          "Age": 9,
          "Age Cohort": "6 to 12",
          "Ethnicity": "White not Hispanic",
          "Expenditures": 2632,
          "Gender": "Female",
          "Id": 92215,
          "cohort_order": null
         },
         {
          "Age": 32,
          "Age Cohort": "22 to 50",
          "Ethnicity": "White not Hispanic",
          "Expenditures": 43662,
          "Gender": "Female",
          "Id": 92265,
          "cohort_order": null
         },
         {
          "Age": 11,
          "Age Cohort": "6 to 12",
          "Ethnicity": "White not Hispanic",
          "Expenditures": 620,
          "Gender": "Female",
          "Id": 92381,
          "cohort_order": null
         },
         {
          "Age": 73,
          "Age Cohort": "51+",
          "Ethnicity": "White not Hispanic",
          "Expenditures": 49088,
          "Gender": "Female",
          "Id": 92494,
          "cohort_order": null
         },
         {
          "Age": 33,
          "Age Cohort": "22 to 50",
          "Ethnicity": "Hispanic",
          "Expenditures": 40517,
          "Gender": "Male",
          "Id": 92628,
          "cohort_order": null
         },
         {
          "Age": 4,
          "Age Cohort": "0 to 5",
          "Ethnicity": "White not Hispanic",
          "Expenditures": 2543,
          "Gender": "Female",
          "Id": 92700,
          "cohort_order": null
         },
         {
          "Age": 6,
          "Age Cohort": "6 to 12",
          "Ethnicity": "Hispanic",
          "Expenditures": 1997,
          "Gender": "Male",
          "Id": 92718,
          "cohort_order": null
         },
         {
          "Age": 8,
          "Age Cohort": "6 to 12",
          "Ethnicity": "Hispanic",
          "Expenditures": 1189,
          "Gender": "Female",
          "Id": 92766,
          "cohort_order": null
         },
         {
          "Age": 25,
          "Age Cohort": "22 to 50",
          "Ethnicity": "White not Hispanic",
          "Expenditures": 39849,
          "Gender": "Male",
          "Id": 92789,
          "cohort_order": null
         },
         {
          "Age": 23,
          "Age Cohort": "22 to 50",
          "Ethnicity": "White not Hispanic",
          "Expenditures": 48349,
          "Gender": "Male",
          "Id": 93080,
          "cohort_order": null
         },
         {
          "Age": 16,
          "Age Cohort": "13 to 17",
          "Ethnicity": "Asian",
          "Expenditures": 4031,
          "Gender": "Male",
          "Id": 93118,
          "cohort_order": null
         },
         {
          "Age": 8,
          "Age Cohort": "6 to 12",
          "Ethnicity": "Asian",
          "Expenditures": 2623,
          "Gender": "Male",
          "Id": 93194,
          "cohort_order": null
         },
         {
          "Age": 22,
          "Age Cohort": "22 to 50",
          "Ethnicity": "White not Hispanic",
          "Expenditures": 50795,
          "Gender": "Female",
          "Id": 93415,
          "cohort_order": null
         },
         {
          "Age": 10,
          "Age Cohort": "6 to 12",
          "Ethnicity": "Hispanic",
          "Expenditures": 2484,
          "Gender": "Female",
          "Id": 93495,
          "cohort_order": null
         },
         {
          "Age": 31,
          "Age Cohort": "22 to 50",
          "Ethnicity": "White not Hispanic",
          "Expenditures": 39577,
          "Gender": "Male",
          "Id": 93600,
          "cohort_order": null
         },
         {
          "Age": 6,
          "Age Cohort": "6 to 12",
          "Ethnicity": "Multi Race",
          "Expenditures": 3259,
          "Gender": "Male",
          "Id": 93628,
          "cohort_order": null
         },
         {
          "Age": 18,
          "Age Cohort": "18 to 21",
          "Ethnicity": "Asian",
          "Expenditures": 9080,
          "Gender": "Male",
          "Id": 93673,
          "cohort_order": null
         },
         {
          "Age": 27,
          "Age Cohort": "22 to 50",
          "Ethnicity": "Asian",
          "Expenditures": 44293,
          "Gender": "Female",
          "Id": 93702,
          "cohort_order": null
         },
         {
          "Age": 4,
          "Age Cohort": "0 to 5",
          "Ethnicity": "Asian",
          "Expenditures": 1219,
          "Gender": "Female",
          "Id": 93727,
          "cohort_order": null
         },
         {
          "Age": 18,
          "Age Cohort": "18 to 21",
          "Ethnicity": "White not Hispanic",
          "Expenditures": 10298,
          "Gender": "Female",
          "Id": 93757,
          "cohort_order": null
         },
         {
          "Age": 8,
          "Age Cohort": "6 to 12",
          "Ethnicity": "Hispanic",
          "Expenditures": 2430,
          "Gender": "Male",
          "Id": 93763,
          "cohort_order": null
         },
         {
          "Age": 14,
          "Age Cohort": "13 to 17",
          "Ethnicity": "Hispanic",
          "Expenditures": 3792,
          "Gender": "Female",
          "Id": 93871,
          "cohort_order": null
         },
         {
          "Age": 11,
          "Age Cohort": "6 to 12",
          "Ethnicity": "White not Hispanic",
          "Expenditures": 1360,
          "Gender": "Female",
          "Id": 94072,
          "cohort_order": null
         },
         {
          "Age": 15,
          "Age Cohort": "13 to 17",
          "Ethnicity": "Asian",
          "Expenditures": 3099,
          "Gender": "Male",
          "Id": 94273,
          "cohort_order": null
         },
         {
          "Age": 30,
          "Age Cohort": "22 to 50",
          "Ethnicity": "White not Hispanic",
          "Expenditures": 51486,
          "Gender": "Male",
          "Id": 94371,
          "cohort_order": null
         },
         {
          "Age": 11,
          "Age Cohort": "6 to 12",
          "Ethnicity": "Hispanic",
          "Expenditures": 2212,
          "Gender": "Male",
          "Id": 94442,
          "cohort_order": null
         },
         {
          "Age": 17,
          "Age Cohort": "13 to 17",
          "Ethnicity": "Black",
          "Expenditures": 5183,
          "Gender": "Female",
          "Id": 94480,
          "cohort_order": null
         },
         {
          "Age": 0,
          "Age Cohort": "0 to 5",
          "Ethnicity": "Hispanic",
          "Expenditures": 1360,
          "Gender": "Male",
          "Id": 94503,
          "cohort_order": null
         },
         {
          "Age": 25,
          "Age Cohort": "22 to 50",
          "Ethnicity": "White not Hispanic",
          "Expenditures": 40952,
          "Gender": "Female",
          "Id": 94540,
          "cohort_order": null
         },
         {
          "Age": 4,
          "Age Cohort": "0 to 5",
          "Ethnicity": "Multi Race",
          "Expenditures": 2335,
          "Gender": "Female",
          "Id": 94595,
          "cohort_order": null
         },
         {
          "Age": 40,
          "Age Cohort": "22 to 50",
          "Ethnicity": "White not Hispanic",
          "Expenditures": 43175,
          "Gender": "Female",
          "Id": 94648,
          "cohort_order": null
         },
         {
          "Age": 14,
          "Age Cohort": "13 to 17",
          "Ethnicity": "Hispanic",
          "Expenditures": 4680,
          "Gender": "Male",
          "Id": 94785,
          "cohort_order": null
         },
         {
          "Age": 20,
          "Age Cohort": "18 to 21",
          "Ethnicity": "Hispanic",
          "Expenditures": 14003,
          "Gender": "Female",
          "Id": 94819,
          "cohort_order": null
         },
         {
          "Age": 3,
          "Age Cohort": "0 to 5",
          "Ethnicity": "Hispanic",
          "Expenditures": 1485,
          "Gender": "Female",
          "Id": 94852,
          "cohort_order": null
         },
         {
          "Age": 29,
          "Age Cohort": "22 to 50",
          "Ethnicity": "White not Hispanic",
          "Expenditures": 43048,
          "Gender": "Male",
          "Id": 95110,
          "cohort_order": null
         },
         {
          "Age": 38,
          "Age Cohort": "22 to 50",
          "Ethnicity": "White not Hispanic",
          "Expenditures": 29709,
          "Gender": "Male",
          "Id": 95270,
          "cohort_order": null
         },
         {
          "Age": 79,
          "Age Cohort": "51+",
          "Ethnicity": "Asian",
          "Expenditures": 57497,
          "Gender": "Female",
          "Id": 95313,
          "cohort_order": null
         },
         {
          "Age": 60,
          "Age Cohort": "51+",
          "Ethnicity": "Hispanic",
          "Expenditures": 62717,
          "Gender": "Female",
          "Id": 95673,
          "cohort_order": null
         },
         {
          "Age": 38,
          "Age Cohort": "22 to 50",
          "Ethnicity": "Hispanic",
          "Expenditures": 37378,
          "Gender": "Female",
          "Id": 95812,
          "cohort_order": null
         },
         {
          "Age": 18,
          "Age Cohort": "18 to 21",
          "Ethnicity": "Asian",
          "Expenditures": 12651,
          "Gender": "Male",
          "Id": 95861,
          "cohort_order": null
         },
         {
          "Age": 16,
          "Age Cohort": "13 to 17",
          "Ethnicity": "Hispanic",
          "Expenditures": 2104,
          "Gender": "Female",
          "Id": 96081,
          "cohort_order": null
         },
         {
          "Age": 5,
          "Age Cohort": "0 to 5",
          "Ethnicity": "Hispanic",
          "Expenditures": 222,
          "Gender": "Female",
          "Id": 96097,
          "cohort_order": null
         },
         {
          "Age": 23,
          "Age Cohort": "22 to 50",
          "Ethnicity": "Asian",
          "Expenditures": 42560,
          "Gender": "Male",
          "Id": 96188,
          "cohort_order": null
         },
         {
          "Age": 29,
          "Age Cohort": "22 to 50",
          "Ethnicity": "Asian",
          "Expenditures": 40614,
          "Gender": "Male",
          "Id": 96258,
          "cohort_order": null
         },
         {
          "Age": 5,
          "Age Cohort": "0 to 5",
          "Ethnicity": "Hispanic",
          "Expenditures": 1003,
          "Gender": "Female",
          "Id": 96279,
          "cohort_order": null
         },
         {
          "Age": 26,
          "Age Cohort": "22 to 50",
          "Ethnicity": "Hispanic",
          "Expenditures": 36440,
          "Gender": "Male",
          "Id": 96367,
          "cohort_order": null
         },
         {
          "Age": 9,
          "Age Cohort": "6 to 12",
          "Ethnicity": "White not Hispanic",
          "Expenditures": 2544,
          "Gender": "Male",
          "Id": 96426,
          "cohort_order": null
         },
         {
          "Age": 17,
          "Age Cohort": "13 to 17",
          "Ethnicity": "Hispanic",
          "Expenditures": 5241,
          "Gender": "Female",
          "Id": 96466,
          "cohort_order": null
         },
         {
          "Age": 14,
          "Age Cohort": "13 to 17",
          "Ethnicity": "White not Hispanic",
          "Expenditures": 3524,
          "Gender": "Male",
          "Id": 96684,
          "cohort_order": null
         },
         {
          "Age": 30,
          "Age Cohort": "22 to 50",
          "Ethnicity": "White not Hispanic",
          "Expenditures": 40125,
          "Gender": "Female",
          "Id": 96739,
          "cohort_order": null
         },
         {
          "Age": 10,
          "Age Cohort": "6 to 12",
          "Ethnicity": "Asian",
          "Expenditures": 3382,
          "Gender": "Male",
          "Id": 96746,
          "cohort_order": null
         },
         {
          "Age": 51,
          "Age Cohort": "51+",
          "Ethnicity": "White not Hispanic",
          "Expenditures": 48622,
          "Gender": "Female",
          "Id": 96840,
          "cohort_order": null
         },
         {
          "Age": 17,
          "Age Cohort": "13 to 17",
          "Ethnicity": "White not Hispanic",
          "Expenditures": 5276,
          "Gender": "Female",
          "Id": 96974,
          "cohort_order": null
         },
         {
          "Age": 41,
          "Age Cohort": "22 to 50",
          "Ethnicity": "White not Hispanic",
          "Expenditures": 50202,
          "Gender": "Male",
          "Id": 97057,
          "cohort_order": null
         },
         {
          "Age": 44,
          "Age Cohort": "22 to 50",
          "Ethnicity": "Hispanic",
          "Expenditures": 46144,
          "Gender": "Male",
          "Id": 97122,
          "cohort_order": null
         },
         {
          "Age": 5,
          "Age Cohort": "0 to 5",
          "Ethnicity": "Black",
          "Expenditures": 240,
          "Gender": "Female",
          "Id": 97211,
          "cohort_order": null
         },
         {
          "Age": 23,
          "Age Cohort": "22 to 50",
          "Ethnicity": "White not Hispanic",
          "Expenditures": 35016,
          "Gender": "Male",
          "Id": 97268,
          "cohort_order": null
         },
         {
          "Age": 75,
          "Age Cohort": "51+",
          "Ethnicity": "White not Hispanic",
          "Expenditures": 55956,
          "Gender": "Female",
          "Id": 97316,
          "cohort_order": null
         },
         {
          "Age": 1,
          "Age Cohort": "0 to 5",
          "Ethnicity": "Multi Race",
          "Expenditures": 2359,
          "Gender": "Female",
          "Id": 97426,
          "cohort_order": null
         },
         {
          "Age": 9,
          "Age Cohort": "6 to 12",
          "Ethnicity": "Multi Race",
          "Expenditures": 1048,
          "Gender": "Female",
          "Id": 97793,
          "cohort_order": null
         },
         {
          "Age": 69,
          "Age Cohort": "51+",
          "Ethnicity": "White not Hispanic",
          "Expenditures": 53561,
          "Gender": "Female",
          "Id": 97930,
          "cohort_order": null
         },
         {
          "Age": 46,
          "Age Cohort": "22 to 50",
          "Ethnicity": "Hispanic",
          "Expenditures": 52222,
          "Gender": "Male",
          "Id": 98015,
          "cohort_order": null
         },
         {
          "Age": 28,
          "Age Cohort": "22 to 50",
          "Ethnicity": "Hispanic",
          "Expenditures": 29588,
          "Gender": "Male",
          "Id": 98235,
          "cohort_order": null
         },
         {
          "Age": 18,
          "Age Cohort": "18 to 21",
          "Ethnicity": "White not Hispanic",
          "Expenditures": 10393,
          "Gender": "Female",
          "Id": 98268,
          "cohort_order": null
         },
         {
          "Age": 38,
          "Age Cohort": "22 to 50",
          "Ethnicity": "White not Hispanic",
          "Expenditures": 54191,
          "Gender": "Male",
          "Id": 98269,
          "cohort_order": null
         },
         {
          "Age": 54,
          "Age Cohort": "51+",
          "Ethnicity": "White not Hispanic",
          "Expenditures": 46312,
          "Gender": "Female",
          "Id": 98382,
          "cohort_order": null
         },
         {
          "Age": 24,
          "Age Cohort": "22 to 50",
          "Ethnicity": "Asian",
          "Expenditures": 49449,
          "Gender": "Male",
          "Id": 98428,
          "cohort_order": null
         },
         {
          "Age": 13,
          "Age Cohort": "13 to 17",
          "Ethnicity": "White not Hispanic",
          "Expenditures": 3097,
          "Gender": "Female",
          "Id": 98522,
          "cohort_order": null
         },
         {
          "Age": 13,
          "Age Cohort": "13 to 17",
          "Ethnicity": "White not Hispanic",
          "Expenditures": 3392,
          "Gender": "Female",
          "Id": 98547,
          "cohort_order": null
         },
         {
          "Age": 15,
          "Age Cohort": "13 to 17",
          "Ethnicity": "Hispanic",
          "Expenditures": 3641,
          "Gender": "Female",
          "Id": 98562,
          "cohort_order": null
         },
         {
          "Age": 8,
          "Age Cohort": "6 to 12",
          "Ethnicity": "Hispanic",
          "Expenditures": 2441,
          "Gender": "Male",
          "Id": 98683,
          "cohort_order": null
         },
         {
          "Age": 5,
          "Age Cohort": "0 to 5",
          "Ethnicity": "Hispanic",
          "Expenditures": 1411,
          "Gender": "Male",
          "Id": 98792,
          "cohort_order": null
         },
         {
          "Age": 30,
          "Age Cohort": "22 to 50",
          "Ethnicity": "White not Hispanic",
          "Expenditures": 35231,
          "Gender": "Female",
          "Id": 99046,
          "cohort_order": null
         },
         {
          "Age": 18,
          "Age Cohort": "18 to 21",
          "Ethnicity": "Hispanic",
          "Expenditures": 5298,
          "Gender": "Male",
          "Id": 99114,
          "cohort_order": null
         },
         {
          "Age": 20,
          "Age Cohort": "18 to 21",
          "Ethnicity": "Asian",
          "Expenditures": 7288,
          "Gender": "Male",
          "Id": 99147,
          "cohort_order": null
         },
         {
          "Age": 2,
          "Age Cohort": "0 to 5",
          "Ethnicity": "Multi Race",
          "Expenditures": 2258,
          "Gender": "Male",
          "Id": 99529,
          "cohort_order": null
         },
         {
          "Age": 86,
          "Age Cohort": "51+",
          "Ethnicity": "White not Hispanic",
          "Expenditures": 57055,
          "Gender": "Female",
          "Id": 99622,
          "cohort_order": null
         },
         {
          "Age": 20,
          "Age Cohort": "18 to 21",
          "Ethnicity": "Hispanic",
          "Expenditures": 7494,
          "Gender": "Male",
          "Id": 99715,
          "cohort_order": null
         },
         {
          "Age": 17,
          "Age Cohort": "13 to 17",
          "Ethnicity": "Multi Race",
          "Expenditures": 3673,
          "Gender": "Female",
          "Id": 99718,
          "cohort_order": null
         },
         {
          "Age": 10,
          "Age Cohort": "6 to 12",
          "Ethnicity": "Hispanic",
          "Expenditures": 3638,
          "Gender": "Male",
          "Id": 99791,
          "cohort_order": null
         },
         {
          "Age": 23,
          "Age Cohort": "22 to 50",
          "Ethnicity": "White not Hispanic",
          "Expenditures": 26702,
          "Gender": "Male",
          "Id": 99898,
          "cohort_order": null
         }
        ]
       },
       "encoding": {
        "color": {
         "field": "Age Cohort",
         "sort": [
          "0 to 5",
          "6 to 12",
          "13 to 17",
          "18 to 21",
          "22 to 50",
          "51+"
         ],
         "type": "nominal"
        },
        "x": {
         "field": "Ethnicity",
         "title": null,
         "type": "nominal"
        },
        "y": {
         "aggregate": "median",
         "field": "Expenditures",
         "scale": {
          "type": "log"
         },
         "type": "quantitative"
        }
       },
       "mark": {
        "point": true,
        "type": "line"
       }
      },
      "image/png": "[encoded data removed]",
      "text/plain": [
       "<VegaLite 5 object>\n",
       "\n",
       "If you see this message, it means the renderer has not been properly enabled\n",
       "for the frontend that you are using. For more information, see\n",
       "https://altair-viz.github.io/user_guide/display_frontends.html#troubleshooting\n"
      ]
     },
     "execution_count": 12,
     "metadata": {},
     "output_type": "execute_result"
    }
   ],
   "source": [
    "# construct plot\n",
    "fig_4 = alt.Chart(dds_cat).mark_line(point=True).encode(\n",
    "    x = alt.X('Ethnicity:N', title=None),\n",
    "    y = alt.Y('median(Expenditures):Q', scale = alt.Scale(type = 'log')),\n",
    "    color = alt.Color('Age Cohort:N', sort = cohort_order)\n",
    ")\n",
    "\n",
    "# display\n",
    "fig_4"
   ]
  },
  {
   "attachments": {},
   "cell_type": "markdown",
   "metadata": {},
   "source": [
    "<!-- END QUESTION -->\n",
    "\n",
    "# Regression analysis\n",
    "\n",
    "Now that you've thoroughly explored the data, you'll use a linear model in this part to estimate the differences in median expenditure that you observed graphically in part 1.\n",
    "\n",
    "More specifically, you'll model the log of expenditures (response variable) as a function of gender, age cohort, and ethnicity:\n",
    "\n",
    "$$\n",
    "\\log\\left(\\text{expend}_i\\right)\n",
    "    = \\beta_0 + \\underbrace{\\beta_1\\left(\\text{6-12}\\right)_i + \\cdots + \\beta_5\\left(\\text{51+}\\right)_i}_\\text{age cohort} + \\underbrace{\\beta_6\\text{female}_i}_\\text{sex} + \\underbrace{\\beta_7\\text{hispanic}_i + \\cdots + \\beta_{13}\\text{other}_i}_\\text{ethnicity} + \\epsilon_i\n",
    "$$\n",
    "\n",
    "In this model, *all* of the explanatory variables are categorical and encoded using indicators; in this case, the linear model coefficients capture means for each group. \n",
    "\n",
    "Because this model is a little different than the examples you've seen so far in two respects -- the response variable is log-transformed and all explanatory variables are categorical -- some comments are provided below on these features. You can review or skip the comments, depending on your level of interest in understanding the model better mathematically.\n",
    "\n",
    "**Commments about parameter interpretation**\n",
    "\n",
    "In particular, each coefficient represents a difference in means from the 'baseline' group. All indicators are zero for a white male recipient between ages 0 and 5, so this is the baseline group and:\n",
    "\n",
    "$$\\mathbb{E}\\left(\\log(\\text{expend})\\;|\\; \\text{male, white, 0-5}\\right) = \\beta_1$$\n",
    "\n",
    "Then, the expected log expenditure for a hispanic male recipient between ages 0 and 5 is:\n",
    "\n",
    "$$\\mathbb{E}\\left(\\log(\\text{expend})\\;|\\; \\text{male, hispanic, 0-5}\\right) = \\beta_0 + \\beta_7$$\n",
    "\n",
    "So $\\beta_7$ is *the difference in mean log expenditure between hispanic and white recipients after accounting for gender and age*. The other parameters have similar interpretations.\n",
    "\n",
    "While the calculation shown above may seem a little foreign, you should know that the parameters represent marginal differences in means between genders (holding age and ethnicity fixed), between ages (holding gender and ethnicity fixed), and between ethnicities (holding age and gender fixed).\n",
    "\n",
    "**Comments about the log transformation**\n",
    "\n",
    "The response in this model is the *log* of expenditures (this gives a better model for a variety of reasons). The statistical assumption then becomes that:\n",
    "\n",
    "$$\\log(\\text{expend})_i \\sim N\\left(\\mathbf{x}_i'\\beta, \\sigma^2\\right)$$\n",
    "\n",
    "If the log of a random variable $Y$ is normal, then $Y$ is known as a *lognormal* random variable; it can be shown mathematically that the exponentiated mean of $\\log Y$ is the median of $Y$. As a consequence, according to our model:\n",
    "\n",
    "$$\\text{median}(\\text{expend}_i) = \\exp\\left\\{\\mathbf{x}_i'\\beta\\right\\}$$\n",
    "\n",
    "You'll work on the log scale throughout to avoid complicating matters, but know that this model for the log of expenditures is *equivalently* a model of the median expenditures."
   ]
  },
  {
   "attachments": {},
   "cell_type": "markdown",
   "metadata": {},
   "source": [
    "The cell below reorders the category levels to match the model written above. To ensure the parameters appear in the proper order, this reordering is done for you."
   ]
  },
  {
   "cell_type": "code",
   "execution_count": 13,
   "metadata": {},
   "outputs": [
    {
     "data": {
      "text/html": [
       "<div>\n",
       "<style scoped>\n",
       "    .dataframe tbody tr th:only-of-type {\n",
       "        vertical-align: middle;\n",
       "    }\n",
       "\n",
       "    .dataframe tbody tr th {\n",
       "        vertical-align: top;\n",
       "    }\n",
       "\n",
       "    .dataframe thead th {\n",
       "        text-align: right;\n",
       "    }\n",
       "</style>\n",
       "<table border=\"1\" class=\"dataframe\">\n",
       "  <thead>\n",
       "    <tr style=\"text-align: right;\">\n",
       "      <th></th>\n",
       "      <th>Age Cohort</th>\n",
       "      <th>Gender</th>\n",
       "      <th>Expenditures</th>\n",
       "      <th>Ethnicity</th>\n",
       "      <th>cohort_order</th>\n",
       "    </tr>\n",
       "  </thead>\n",
       "  <tbody>\n",
       "    <tr>\n",
       "      <th>0</th>\n",
       "      <td>13 to 17</td>\n",
       "      <td>Female</td>\n",
       "      <td>2113</td>\n",
       "      <td>White not Hispanic</td>\n",
       "      <td>2.0</td>\n",
       "    </tr>\n",
       "    <tr>\n",
       "      <th>1</th>\n",
       "      <td>22 to 50</td>\n",
       "      <td>Male</td>\n",
       "      <td>41924</td>\n",
       "      <td>White not Hispanic</td>\n",
       "      <td>4.0</td>\n",
       "    </tr>\n",
       "    <tr>\n",
       "      <th>2</th>\n",
       "      <td>0 to 5</td>\n",
       "      <td>Male</td>\n",
       "      <td>1454</td>\n",
       "      <td>Hispanic</td>\n",
       "      <td>0.0</td>\n",
       "    </tr>\n",
       "    <tr>\n",
       "      <th>3</th>\n",
       "      <td>18 to 21</td>\n",
       "      <td>Female</td>\n",
       "      <td>6400</td>\n",
       "      <td>Hispanic</td>\n",
       "      <td>3.0</td>\n",
       "    </tr>\n",
       "    <tr>\n",
       "      <th>4</th>\n",
       "      <td>13 to 17</td>\n",
       "      <td>Male</td>\n",
       "      <td>4412</td>\n",
       "      <td>White not Hispanic</td>\n",
       "      <td>2.0</td>\n",
       "    </tr>\n",
       "    <tr>\n",
       "      <th>...</th>\n",
       "      <td>...</td>\n",
       "      <td>...</td>\n",
       "      <td>...</td>\n",
       "      <td>...</td>\n",
       "      <td>...</td>\n",
       "    </tr>\n",
       "    <tr>\n",
       "      <th>995</th>\n",
       "      <td>51+</td>\n",
       "      <td>Female</td>\n",
       "      <td>57055</td>\n",
       "      <td>White not Hispanic</td>\n",
       "      <td>NaN</td>\n",
       "    </tr>\n",
       "    <tr>\n",
       "      <th>996</th>\n",
       "      <td>18 to 21</td>\n",
       "      <td>Male</td>\n",
       "      <td>7494</td>\n",
       "      <td>Hispanic</td>\n",
       "      <td>NaN</td>\n",
       "    </tr>\n",
       "    <tr>\n",
       "      <th>997</th>\n",
       "      <td>13 to 17</td>\n",
       "      <td>Female</td>\n",
       "      <td>3673</td>\n",
       "      <td>Multi Race</td>\n",
       "      <td>NaN</td>\n",
       "    </tr>\n",
       "    <tr>\n",
       "      <th>998</th>\n",
       "      <td>6 to 12</td>\n",
       "      <td>Male</td>\n",
       "      <td>3638</td>\n",
       "      <td>Hispanic</td>\n",
       "      <td>NaN</td>\n",
       "    </tr>\n",
       "    <tr>\n",
       "      <th>999</th>\n",
       "      <td>22 to 50</td>\n",
       "      <td>Male</td>\n",
       "      <td>26702</td>\n",
       "      <td>White not Hispanic</td>\n",
       "      <td>NaN</td>\n",
       "    </tr>\n",
       "  </tbody>\n",
       "</table>\n",
       "<p>1000 rows × 5 columns</p>\n",
       "</div>"
      ],
      "text/plain": [
       "    Age Cohort  Gender  Expenditures           Ethnicity  cohort_order\n",
       "0     13 to 17  Female          2113  White not Hispanic           2.0\n",
       "1     22 to 50    Male         41924  White not Hispanic           4.0\n",
       "2       0 to 5    Male          1454            Hispanic           0.0\n",
       "3     18 to 21  Female          6400            Hispanic           3.0\n",
       "4     13 to 17    Male          4412  White not Hispanic           2.0\n",
       "..         ...     ...           ...                 ...           ...\n",
       "995        51+  Female         57055  White not Hispanic           NaN\n",
       "996   18 to 21    Male          7494            Hispanic           NaN\n",
       "997   13 to 17  Female          3673          Multi Race           NaN\n",
       "998    6 to 12    Male          3638            Hispanic           NaN\n",
       "999   22 to 50    Male         26702  White not Hispanic           NaN\n",
       "\n",
       "[1000 rows x 5 columns]"
      ]
     },
     "execution_count": 13,
     "metadata": {},
     "output_type": "execute_result"
    }
   ],
   "source": [
    "# remove ID and quantitative age\n",
    "reg_data = dds_cat.copy().drop(columns = ['Id', 'Age'])\n",
    "\n",
    "# reorder ethnicity\n",
    "reg_data['Ethnicity'] = reg_data.Ethnicity.cat.as_ordered().cat.reorder_categories(\n",
    "    reg_data.Ethnicity.cat.categories[[7, 3, 2, 1, 5, 0, 4, 6]]\n",
    ")\n",
    "\n",
    "# reorder gender\n",
    "reg_data['Gender'] = reg_data.Gender.cat.as_ordered().cat.reorder_categories(['Male', 'Female'])\n",
    "reg_data"
   ]
  },
  {
   "attachments": {},
   "cell_type": "markdown",
   "metadata": {},
   "source": [
    "### Question 8: Data preprocessing\n",
    "\n",
    "Obtain the explanatory variable matrix and response vector needed to fit the linear model.\n",
    "\n",
    "1. Use `pd.get_dummies(..., drop_first = True)` to create the indicator variable encodings for gender, ethnicity, and age. Note that this function can process multiple categorical variables at once. Store the data frame of indicators for all three variables as `indicators`.\n",
    "2. Add an intercept to obtain the explanatory variable matrix. Store this as a data frame called `x`.\n",
    "3. Store the response variable as a pandas series named `y`."
   ]
  },
  {
   "cell_type": "code",
   "execution_count": 14,
   "metadata": {
    "tags": []
   },
   "outputs": [],
   "source": [
    "indicators = pd.get_dummies(reg_data[['Gender', 'Ethnicity', 'Age Cohort']], drop_first = True).astype(int)\n",
    "x = sm.tools.add_constant(indicators)\n",
    "y = np.log(reg_data['Expenditures'])"
   ]
  },
  {
   "cell_type": "code",
   "execution_count": 15,
   "metadata": {
    "deletable": false,
    "editable": false
   },
   "outputs": [
    {
     "data": {
      "text/html": [
       "<p><strong><pre style='display: inline;'>q8</pre></strong> passed! 🎉</p>"
      ],
      "text/plain": [
       "q8 results: All test cases passed!"
      ]
     },
     "execution_count": 15,
     "metadata": {},
     "output_type": "execute_result"
    }
   ],
   "source": [
    "grader.check(\"q8\")"
   ]
  },
  {
   "attachments": {},
   "cell_type": "markdown",
   "metadata": {},
   "source": [
    "### Question 9: model fitting\n",
    "\n",
    "Fit the model:\n",
    "\n",
    "$$\n",
    "\\log\\left(\\text{expend}_i\\right)\n",
    "    = \\beta_0 + \\beta_1\\left(\\text{6-12}\\right)_i + \\cdots + \\beta_5\\left(\\text{51+}\\right)_i \n",
    "        + \\beta_6\\text{female}_i \n",
    "        + \\beta_7\\text{hispanic}_i + \\cdots + \\beta_{13}\\text{other}_i\n",
    "        + \\epsilon_i\n",
    "$$\n",
    "\n",
    "Store the parameter estimates and standard errors as a data frame named `coef_tbl`. Index the data frame by variable name, and don't forget to include the error variance estimate. Display the result."
   ]
  },
  {
   "cell_type": "code",
   "execution_count": 16,
   "metadata": {
    "tags": []
   },
   "outputs": [
    {
     "data": {
      "text/html": [
       "<div>\n",
       "<style scoped>\n",
       "    .dataframe tbody tr th:only-of-type {\n",
       "        vertical-align: middle;\n",
       "    }\n",
       "\n",
       "    .dataframe tbody tr th {\n",
       "        vertical-align: top;\n",
       "    }\n",
       "\n",
       "    .dataframe thead th {\n",
       "        text-align: right;\n",
       "    }\n",
       "</style>\n",
       "<table border=\"1\" class=\"dataframe\">\n",
       "  <thead>\n",
       "    <tr style=\"text-align: right;\">\n",
       "      <th></th>\n",
       "      <th>estimate</th>\n",
       "      <th>standard error</th>\n",
       "    </tr>\n",
       "  </thead>\n",
       "  <tbody>\n",
       "    <tr>\n",
       "      <th>const</th>\n",
       "      <td>7.092439</td>\n",
       "      <td>0.041661</td>\n",
       "    </tr>\n",
       "    <tr>\n",
       "      <th>Gender_Female</th>\n",
       "      <td>0.039784</td>\n",
       "      <td>0.020749</td>\n",
       "    </tr>\n",
       "    <tr>\n",
       "      <th>Ethnicity_Hispanic</th>\n",
       "      <td>0.038594</td>\n",
       "      <td>0.024893</td>\n",
       "    </tr>\n",
       "    <tr>\n",
       "      <th>Ethnicity_Black</th>\n",
       "      <td>0.041713</td>\n",
       "      <td>0.045725</td>\n",
       "    </tr>\n",
       "    <tr>\n",
       "      <th>Ethnicity_Asian</th>\n",
       "      <td>-0.021103</td>\n",
       "      <td>0.033470</td>\n",
       "    </tr>\n",
       "    <tr>\n",
       "      <th>Ethnicity_Native Hawaiian</th>\n",
       "      <td>-0.030725</td>\n",
       "      <td>0.189967</td>\n",
       "    </tr>\n",
       "    <tr>\n",
       "      <th>Ethnicity_American Indian</th>\n",
       "      <td>-0.054396</td>\n",
       "      <td>0.164910</td>\n",
       "    </tr>\n",
       "    <tr>\n",
       "      <th>Ethnicity_Multi Race</th>\n",
       "      <td>0.041024</td>\n",
       "      <td>0.067680</td>\n",
       "    </tr>\n",
       "    <tr>\n",
       "      <th>Ethnicity_Other</th>\n",
       "      <td>-0.189877</td>\n",
       "      <td>0.232910</td>\n",
       "    </tr>\n",
       "    <tr>\n",
       "      <th>Age Cohort_6 to 12</th>\n",
       "      <td>0.490276</td>\n",
       "      <td>0.043855</td>\n",
       "    </tr>\n",
       "    <tr>\n",
       "      <th>Age Cohort_13 to 17</th>\n",
       "      <td>1.101010</td>\n",
       "      <td>0.042783</td>\n",
       "    </tr>\n",
       "    <tr>\n",
       "      <th>Age Cohort_18 to 21</th>\n",
       "      <td>2.023844</td>\n",
       "      <td>0.043456</td>\n",
       "    </tr>\n",
       "    <tr>\n",
       "      <th>Age Cohort_22 to 50</th>\n",
       "      <td>3.470836</td>\n",
       "      <td>0.043521</td>\n",
       "    </tr>\n",
       "    <tr>\n",
       "      <th>Age Cohort_51+</th>\n",
       "      <td>3.762393</td>\n",
       "      <td>0.049561</td>\n",
       "    </tr>\n",
       "    <tr>\n",
       "      <th>error variance</th>\n",
       "      <td>0.107005</td>\n",
       "      <td>NaN</td>\n",
       "    </tr>\n",
       "  </tbody>\n",
       "</table>\n",
       "</div>"
      ],
      "text/plain": [
       "                           estimate  standard error\n",
       "const                      7.092439        0.041661\n",
       "Gender_Female              0.039784        0.020749\n",
       "Ethnicity_Hispanic         0.038594        0.024893\n",
       "Ethnicity_Black            0.041713        0.045725\n",
       "Ethnicity_Asian           -0.021103        0.033470\n",
       "Ethnicity_Native Hawaiian -0.030725        0.189967\n",
       "Ethnicity_American Indian -0.054396        0.164910\n",
       "Ethnicity_Multi Race       0.041024        0.067680\n",
       "Ethnicity_Other           -0.189877        0.232910\n",
       "Age Cohort_6 to 12         0.490276        0.043855\n",
       "Age Cohort_13 to 17        1.101010        0.042783\n",
       "Age Cohort_18 to 21        2.023844        0.043456\n",
       "Age Cohort_22 to 50        3.470836        0.043521\n",
       "Age Cohort_51+             3.762393        0.049561\n",
       "error variance             0.107005             NaN"
      ]
     },
     "execution_count": 16,
     "metadata": {},
     "output_type": "execute_result"
    }
   ],
   "source": [
    "# fit model\n",
    "mlr = sm.OLS(y, x)\n",
    "rslt = mlr.fit()\n",
    "\n",
    "# retreive estimates and std errors\n",
    "coef_tbl = pd.DataFrame(\n",
    "    {'estimate': rslt.params.values,\n",
    "    'standard error': np.sqrt(rslt.cov_params().values.diagonal())},\n",
    "    index = x.columns)\n",
    "coef_tbl.loc['error variance', 'estimate'] = rslt.scale\n",
    "\n",
    "# display\n",
    "coef_tbl"
   ]
  },
  {
   "cell_type": "code",
   "execution_count": 17,
   "metadata": {
    "deletable": false,
    "editable": false
   },
   "outputs": [
    {
     "data": {
      "text/html": [
       "<p><strong><pre style='display: inline;'>q9</pre></strong> passed! 🙌</p>"
      ],
      "text/plain": [
       "q9 results: All test cases passed!"
      ]
     },
     "execution_count": 17,
     "metadata": {},
     "output_type": "execute_result"
    }
   ],
   "source": [
    "grader.check(\"q9\")"
   ]
  },
  {
   "attachments": {},
   "cell_type": "markdown",
   "metadata": {},
   "source": [
    "Now look at both the estimates and standard errors for each level of each categorical variable; if some estimates are large for at least one level and the standard errors aren't too big, then estimated mean log expenditures differ according to the value of that variable when the other variables are held constant.\n",
    "\n",
    "For example: the estimate for `Gender_Female` is 0.04; that means that, if age and ethnicity are held fixed, the estimated difference in mean log expenditure between female and male recipients is 0.04. If $\\log(a) - \\log(b) = 0.04$, then $\\frac{a}{b} = e^{0.04} \\approx 1.041$; so the estimated expenditures (not on the log scale) differ by a factor of about 1, *i.e.*, are about the same. Further, the standard error is 0.02, so the estimate is within 2SE of 0; the difference could well be zero. So the model suggests there is no difference in expenditure by gender."
   ]
  },
  {
   "attachments": {},
   "cell_type": "markdown",
   "metadata": {},
   "source": [
    "<!-- BEGIN QUESTION -->\n",
    "\n",
    "### Question 10: interpretation\n",
    "\n",
    "Do the parameter estimates suggest differences in expenditure by age or ethnicity?\n",
    "\n",
    "First consider the estimates and standard errors for each level of age, and state whether any differences in mean log expenditure between levels appear significant; if so, cite one example. Then do the same for the levels of ethnicity. Answer in 2-4 sentences.\n",
    "\n",
    "(*Hint*: it may be helpful scratch work to exponentiate the coefficient estimates and consider whether they differ by much from 1.)"
   ]
  },
  {
   "cell_type": "markdown",
   "metadata": {},
   "source": [
    "The parameter estimates do not suggest differences in expenditure by ethnicity but they do by age. All exponentiated estimates for ethnicity are very close to 1 meaning the estimated expenditures are about the same between ethnicities. On the other hand, for age, the estimates increase exponentially the higher the age cohort is."
   ]
  },
  {
   "cell_type": "code",
   "execution_count": 18,
   "metadata": {
    "tags": []
   },
   "outputs": [
    {
     "data": {
      "text/html": [
       "<div>\n",
       "<style scoped>\n",
       "    .dataframe tbody tr th:only-of-type {\n",
       "        vertical-align: middle;\n",
       "    }\n",
       "\n",
       "    .dataframe tbody tr th {\n",
       "        vertical-align: top;\n",
       "    }\n",
       "\n",
       "    .dataframe thead th {\n",
       "        text-align: right;\n",
       "    }\n",
       "</style>\n",
       "<table border=\"1\" class=\"dataframe\">\n",
       "  <thead>\n",
       "    <tr style=\"text-align: right;\">\n",
       "      <th></th>\n",
       "      <th>estimate</th>\n",
       "      <th>standard error</th>\n",
       "      <th>exp_estimates</th>\n",
       "    </tr>\n",
       "  </thead>\n",
       "  <tbody>\n",
       "    <tr>\n",
       "      <th>const</th>\n",
       "      <td>7.092439</td>\n",
       "      <td>0.041661</td>\n",
       "      <td>1202.838256</td>\n",
       "    </tr>\n",
       "    <tr>\n",
       "      <th>Gender_Female</th>\n",
       "      <td>0.039784</td>\n",
       "      <td>0.020749</td>\n",
       "      <td>1.040586</td>\n",
       "    </tr>\n",
       "    <tr>\n",
       "      <th>Ethnicity_Hispanic</th>\n",
       "      <td>0.038594</td>\n",
       "      <td>0.024893</td>\n",
       "      <td>1.039348</td>\n",
       "    </tr>\n",
       "    <tr>\n",
       "      <th>Ethnicity_Black</th>\n",
       "      <td>0.041713</td>\n",
       "      <td>0.045725</td>\n",
       "      <td>1.042595</td>\n",
       "    </tr>\n",
       "    <tr>\n",
       "      <th>Ethnicity_Asian</th>\n",
       "      <td>-0.021103</td>\n",
       "      <td>0.033470</td>\n",
       "      <td>0.979118</td>\n",
       "    </tr>\n",
       "    <tr>\n",
       "      <th>Ethnicity_Native Hawaiian</th>\n",
       "      <td>-0.030725</td>\n",
       "      <td>0.189967</td>\n",
       "      <td>0.969742</td>\n",
       "    </tr>\n",
       "    <tr>\n",
       "      <th>Ethnicity_American Indian</th>\n",
       "      <td>-0.054396</td>\n",
       "      <td>0.164910</td>\n",
       "      <td>0.947057</td>\n",
       "    </tr>\n",
       "    <tr>\n",
       "      <th>Ethnicity_Multi Race</th>\n",
       "      <td>0.041024</td>\n",
       "      <td>0.067680</td>\n",
       "      <td>1.041877</td>\n",
       "    </tr>\n",
       "    <tr>\n",
       "      <th>Ethnicity_Other</th>\n",
       "      <td>-0.189877</td>\n",
       "      <td>0.232910</td>\n",
       "      <td>0.827061</td>\n",
       "    </tr>\n",
       "    <tr>\n",
       "      <th>Age Cohort_6 to 12</th>\n",
       "      <td>0.490276</td>\n",
       "      <td>0.043855</td>\n",
       "      <td>1.632767</td>\n",
       "    </tr>\n",
       "    <tr>\n",
       "      <th>Age Cohort_13 to 17</th>\n",
       "      <td>1.101010</td>\n",
       "      <td>0.042783</td>\n",
       "      <td>3.007203</td>\n",
       "    </tr>\n",
       "    <tr>\n",
       "      <th>Age Cohort_18 to 21</th>\n",
       "      <td>2.023844</td>\n",
       "      <td>0.043456</td>\n",
       "      <td>7.567356</td>\n",
       "    </tr>\n",
       "    <tr>\n",
       "      <th>Age Cohort_22 to 50</th>\n",
       "      <td>3.470836</td>\n",
       "      <td>0.043521</td>\n",
       "      <td>32.163632</td>\n",
       "    </tr>\n",
       "    <tr>\n",
       "      <th>Age Cohort_51+</th>\n",
       "      <td>3.762393</td>\n",
       "      <td>0.049561</td>\n",
       "      <td>43.051330</td>\n",
       "    </tr>\n",
       "    <tr>\n",
       "      <th>error variance</th>\n",
       "      <td>0.107005</td>\n",
       "      <td>NaN</td>\n",
       "      <td>1.112940</td>\n",
       "    </tr>\n",
       "  </tbody>\n",
       "</table>\n",
       "</div>"
      ],
      "text/plain": [
       "                           estimate  standard error  exp_estimates\n",
       "const                      7.092439        0.041661    1202.838256\n",
       "Gender_Female              0.039784        0.020749       1.040586\n",
       "Ethnicity_Hispanic         0.038594        0.024893       1.039348\n",
       "Ethnicity_Black            0.041713        0.045725       1.042595\n",
       "Ethnicity_Asian           -0.021103        0.033470       0.979118\n",
       "Ethnicity_Native Hawaiian -0.030725        0.189967       0.969742\n",
       "Ethnicity_American Indian -0.054396        0.164910       0.947057\n",
       "Ethnicity_Multi Race       0.041024        0.067680       1.041877\n",
       "Ethnicity_Other           -0.189877        0.232910       0.827061\n",
       "Age Cohort_6 to 12         0.490276        0.043855       1.632767\n",
       "Age Cohort_13 to 17        1.101010        0.042783       3.007203\n",
       "Age Cohort_18 to 21        2.023844        0.043456       7.567356\n",
       "Age Cohort_22 to 50        3.470836        0.043521      32.163632\n",
       "Age Cohort_51+             3.762393        0.049561      43.051330\n",
       "error variance             0.107005             NaN       1.112940"
      ]
     },
     "execution_count": 18,
     "metadata": {},
     "output_type": "execute_result"
    }
   ],
   "source": [
    "# exponentiate parameter estimates\n",
    "coef_tbl['exp_estimates'] = np.exp(coef_tbl['estimate'])\n",
    "coef_tbl"
   ]
  },
  {
   "attachments": {},
   "cell_type": "markdown",
   "metadata": {},
   "source": [
    "<!-- END QUESTION -->\n",
    "\n",
    "Now as a final step in the analysis, you'll visualize your results. The idea is simple: plot the estimated mean log expenditures for each group. Essentially you'll make a version of your figure 4 from part 1 in which the points are estimated rather than observed. So the model visualization graphic will look similar to your exploratory figure.\n",
    "\n",
    "The cell below constructs a prediction grid for you. This grid comprises all unique combinations of the age, sex, and ethnicity categories."
   ]
  },
  {
   "cell_type": "code",
   "execution_count": 19,
   "metadata": {},
   "outputs": [
    {
     "data": {
      "text/plain": [
       "array(['White not Hispanic', 'Hispanic', 'Black', 'Asian',\n",
       "       'Native Hawaiian', 'American Indian', 'Multi Race', 'Other'],\n",
       "      dtype=object)"
      ]
     },
     "execution_count": 19,
     "metadata": {},
     "output_type": "execute_result"
    }
   ],
   "source": [
    "# obtain unique values of each categorical variable\n",
    "genders = reg_data.Gender.cat.categories.values\n",
    "ethnicities = reg_data.Ethnicity.cat.categories.values\n",
    "ages = reg_data['Age Cohort'].cat.categories.values\n",
    "\n",
    "# generate mesh\n",
    "gx, ex, ax = np.meshgrid(genders, ethnicities, ages)\n",
    "grid = np.array([gx.ravel(), ex.ravel(), ax.ravel()]).T\n",
    "\n",
    "# coerce to dataframe\n",
    "grid_df = pd.DataFrame(grid, columns = ['Gender', 'Ethnicity', 'Age Cohort'])\n",
    "grid_df.head()\n",
    "grid_df['Ethnicity'].unique()"
   ]
  },
  {
   "attachments": {},
   "cell_type": "markdown",
   "metadata": {},
   "source": [
    "### Question 11: compute predictions\n",
    "\n",
    "Calculate predictions with confidence intervals for the predicted mean for each grid point; append these to `grid_df` and store the result as `pred_df`. Ensure that the column containing the predictions is named `mean`.\n",
    "\n",
    "Note that you will need to generate indicators in order to compute the predictions; this can be done in the same way that the data were preprocessed. Note also that **you will need to arrange the indicator columns in exactly the same order that they appear in the explanatory variable matrix** in order to generate valid predictions."
   ]
  },
  {
   "cell_type": "code",
   "execution_count": 20,
   "metadata": {
    "tags": []
   },
   "outputs": [
    {
     "data": {
      "text/html": [
       "<div>\n",
       "<style scoped>\n",
       "    .dataframe tbody tr th:only-of-type {\n",
       "        vertical-align: middle;\n",
       "    }\n",
       "\n",
       "    .dataframe tbody tr th {\n",
       "        vertical-align: top;\n",
       "    }\n",
       "\n",
       "    .dataframe thead th {\n",
       "        text-align: right;\n",
       "    }\n",
       "</style>\n",
       "<table border=\"1\" class=\"dataframe\">\n",
       "  <thead>\n",
       "    <tr style=\"text-align: right;\">\n",
       "      <th></th>\n",
       "      <th>Gender</th>\n",
       "      <th>Ethnicity</th>\n",
       "      <th>Age Cohort</th>\n",
       "      <th>mean</th>\n",
       "      <th>mean_se</th>\n",
       "      <th>mean_ci_lower</th>\n",
       "      <th>mean_ci_upper</th>\n",
       "      <th>obs_ci_lower</th>\n",
       "      <th>obs_ci_upper</th>\n",
       "    </tr>\n",
       "  </thead>\n",
       "  <tbody>\n",
       "    <tr>\n",
       "      <th>0</th>\n",
       "      <td>Male</td>\n",
       "      <td>White not Hispanic</td>\n",
       "      <td>0 to 5</td>\n",
       "      <td>7.092439</td>\n",
       "      <td>0.041661</td>\n",
       "      <td>7.010685</td>\n",
       "      <td>7.174194</td>\n",
       "      <td>6.445331</td>\n",
       "      <td>7.739548</td>\n",
       "    </tr>\n",
       "    <tr>\n",
       "      <th>1</th>\n",
       "      <td>Male</td>\n",
       "      <td>White not Hispanic</td>\n",
       "      <td>6 to 12</td>\n",
       "      <td>7.582715</td>\n",
       "      <td>0.032020</td>\n",
       "      <td>7.519881</td>\n",
       "      <td>7.645550</td>\n",
       "      <td>6.937724</td>\n",
       "      <td>8.227707</td>\n",
       "    </tr>\n",
       "    <tr>\n",
       "      <th>2</th>\n",
       "      <td>Male</td>\n",
       "      <td>White not Hispanic</td>\n",
       "      <td>13 to 17</td>\n",
       "      <td>8.193450</td>\n",
       "      <td>0.029301</td>\n",
       "      <td>8.135950</td>\n",
       "      <td>8.250950</td>\n",
       "      <td>7.548956</td>\n",
       "      <td>8.837943</td>\n",
       "    </tr>\n",
       "    <tr>\n",
       "      <th>3</th>\n",
       "      <td>Male</td>\n",
       "      <td>White not Hispanic</td>\n",
       "      <td>18 to 21</td>\n",
       "      <td>9.116283</td>\n",
       "      <td>0.029439</td>\n",
       "      <td>9.058513</td>\n",
       "      <td>9.174053</td>\n",
       "      <td>8.471765</td>\n",
       "      <td>9.760801</td>\n",
       "    </tr>\n",
       "    <tr>\n",
       "      <th>4</th>\n",
       "      <td>Male</td>\n",
       "      <td>White not Hispanic</td>\n",
       "      <td>22 to 50</td>\n",
       "      <td>10.563276</td>\n",
       "      <td>0.025658</td>\n",
       "      <td>10.512926</td>\n",
       "      <td>10.613626</td>\n",
       "      <td>9.919380</td>\n",
       "      <td>11.207171</td>\n",
       "    </tr>\n",
       "  </tbody>\n",
       "</table>\n",
       "</div>"
      ],
      "text/plain": [
       "  Gender           Ethnicity Age Cohort       mean   mean_se  mean_ci_lower  \\\n",
       "0   Male  White not Hispanic     0 to 5   7.092439  0.041661       7.010685   \n",
       "1   Male  White not Hispanic    6 to 12   7.582715  0.032020       7.519881   \n",
       "2   Male  White not Hispanic   13 to 17   8.193450  0.029301       8.135950   \n",
       "3   Male  White not Hispanic   18 to 21   9.116283  0.029439       9.058513   \n",
       "4   Male  White not Hispanic   22 to 50  10.563276  0.025658      10.512926   \n",
       "\n",
       "   mean_ci_upper  obs_ci_lower  obs_ci_upper  \n",
       "0       7.174194      6.445331      7.739548  \n",
       "1       7.645550      6.937724      8.227707  \n",
       "2       8.250950      7.548956      8.837943  \n",
       "3       9.174053      8.471765      9.760801  \n",
       "4      10.613626      9.919380     11.207171  "
      ]
     },
     "execution_count": 20,
     "metadata": {},
     "output_type": "execute_result"
    }
   ],
   "source": [
    "#generate indicators based on the prediction grid\n",
    "grid_indicators = pd.get_dummies(grid_df[['Gender','Ethnicity','Age Cohort']]).astype(int)\n",
    "\n",
    "#add an intercept and arrange columns to match x\n",
    "x_grid = sm.tools.add_constant(grid_indicators)\n",
    "x_grid = x_grid[x.columns]\n",
    "\n",
    "#compute predictions\n",
    "\n",
    "preds = rslt.get_prediction(x_grid) \n",
    "\n",
    "#append values of categorical variables at grid points to predictions\n",
    "pred_df = pd.concat([grid_df, preds.summary_frame()], axis=1)\n",
    "\n",
    "#preview\n",
    "pred_df.head()"
   ]
  },
  {
   "cell_type": "code",
   "execution_count": 21,
   "metadata": {
    "deletable": false,
    "editable": false
   },
   "outputs": [
    {
     "data": {
      "text/html": [
       "<p><strong><pre style='display: inline;'>q11</pre></strong> passed! 🍀</p>"
      ],
      "text/plain": [
       "q11 results: All test cases passed!"
      ]
     },
     "execution_count": 21,
     "metadata": {},
     "output_type": "execute_result"
    }
   ],
   "source": [
    "grader.check(\"q11\")"
   ]
  },
  {
   "attachments": {},
   "cell_type": "markdown",
   "metadata": {},
   "source": [
    "<!-- BEGIN QUESTION -->\n",
    "\n",
    "### Question 12: model visualization\n",
    "\n",
    "Plot estimated mean log expenditure (y) against ethnicity (x) by age cohort (color) and gender (facet). Construct a line plot with points at each estimated value, and include confidence bands. Use a sequential color scale for age and ensure that the age cohorts are in appropriate order (you may want to construct another `cohort_order` variable as before for this purpose)."
   ]
  },
  {
   "cell_type": "code",
   "execution_count": 22,
   "metadata": {
    "tags": []
   },
   "outputs": [
    {
     "data": {
      "application/vnd.vegalite.v5+json": {
       "$schema": "https://vega.github.io/schema/vega-lite/v5.14.1.json",
       "config": {
        "view": {
         "continuousHeight": 300,
         "continuousWidth": 300
        }
       },
       "data": {
        "name": "data-6bf8567d502a1162688b8e1fbd532dcf"
       },
       "datasets": {
        "data-6bf8567d502a1162688b8e1fbd532dcf": [
         {
          "Age Cohort": "0 to 5",
          "Ethnicity": "White not Hispanic",
          "Gender": "Male",
          "cohort_order": 0,
          "mean": 7.092439256011259,
          "mean_ci_lower": 7.010684882309171,
          "mean_ci_upper": 7.174193629713347,
          "mean_se": 0.04166097890595085,
          "obs_ci_lower": 6.445330575070655,
          "obs_ci_upper": 7.739547936951863
         },
         {
          "Age Cohort": "6 to 12",
          "Ethnicity": "White not Hispanic",
          "Gender": "Male",
          "cohort_order": 1,
          "mean": 7.582715095888064,
          "mean_ci_lower": 7.519880684593165,
          "mean_ci_upper": 7.645549507182963,
          "mean_se": 0.03201960904334794,
          "obs_ci_lower": 6.937723599376642,
          "obs_ci_upper": 8.227706592399485
         },
         {
          "Age Cohort": "13 to 17",
          "Ethnicity": "White not Hispanic",
          "Gender": "Male",
          "cohort_order": 2,
          "mean": 8.193449717055731,
          "mean_ci_lower": 8.135949596804446,
          "mean_ci_upper": 8.250949837307017,
          "mean_se": 0.029301322833291895,
          "obs_ci_lower": 7.548956015644942,
          "obs_ci_upper": 8.837943418466521
         },
         {
          "Age Cohort": "18 to 21",
          "Ethnicity": "White not Hispanic",
          "Gender": "Male",
          "cohort_order": 3,
          "mean": 9.116282970401063,
          "mean_ci_lower": 9.058512959100764,
          "mean_ci_upper": 9.174052981701362,
          "mean_se": 0.02943885584578651,
          "obs_ci_lower": 8.471765133925683,
          "obs_ci_upper": 9.760800806876443
         },
         {
          "Age Cohort": "22 to 50",
          "Ethnicity": "White not Hispanic",
          "Gender": "Male",
          "cohort_order": 4,
          "mean": 10.563275627754987,
          "mean_ci_lower": 10.512925680630971,
          "mean_ci_upper": 10.613625574879002,
          "mean_se": 0.025657686433916357,
          "obs_ci_lower": 9.919380461982904,
          "obs_ci_upper": 11.20717079352707
         },
         {
          "Age Cohort": "51+",
          "Ethnicity": "White not Hispanic",
          "Gender": "Male",
          "cohort_order": 5,
          "mean": 10.854832373618159,
          "mean_ci_lower": 10.786464545725883,
          "mean_ci_upper": 10.923200201510435,
          "mean_se": 0.034839367078327105,
          "obs_ci_lower": 10.20927832691101,
          "obs_ci_upper": 11.500386420325308
         },
         {
          "Age Cohort": "0 to 5",
          "Ethnicity": "White not Hispanic",
          "Gender": "Female",
          "cohort_order": 0,
          "mean": 7.132223036584688,
          "mean_ci_lower": 7.051062332148801,
          "mean_ci_upper": 7.213383741020575,
          "mean_se": 0.041358452672107644,
          "obs_ci_lower": 6.485189090586646,
          "obs_ci_upper": 7.77925698258273
         },
         {
          "Age Cohort": "6 to 12",
          "Ethnicity": "White not Hispanic",
          "Gender": "Female",
          "cohort_order": 1,
          "mean": 7.622498876461493,
          "mean_ci_lower": 7.561286143357395,
          "mean_ci_upper": 7.683711609565591,
          "mean_se": 0.031193222663759564,
          "obs_ci_lower": 6.977663342372884,
          "obs_ci_upper": 8.267334410550102
         },
         {
          "Age Cohort": "13 to 17",
          "Ethnicity": "White not Hispanic",
          "Gender": "Female",
          "cohort_order": 2,
          "mean": 8.23323349762916,
          "mean_ci_lower": 8.17616584875964,
          "mean_ci_upper": 8.29030114649868,
          "mean_se": 0.02908094097116838,
          "obs_ci_lower": 7.588778236282987,
          "obs_ci_upper": 8.877688758975331
         },
         {
          "Age Cohort": "18 to 21",
          "Ethnicity": "White not Hispanic",
          "Gender": "Female",
          "cohort_order": 3,
          "mean": 9.15606675097449,
          "mean_ci_lower": 9.098736930095328,
          "mean_ci_upper": 9.213396571853654,
          "mean_se": 0.02921454046033191,
          "obs_ci_lower": 8.511588220927674,
          "obs_ci_upper": 9.800545281021307
         },
         {
          "Age Cohort": "22 to 50",
          "Ethnicity": "White not Hispanic",
          "Gender": "Female",
          "cohort_order": 4,
          "mean": 10.603059408328415,
          "mean_ci_lower": 10.55192047657573,
          "mean_ci_upper": 10.654198340081098,
          "mean_se": 0.02605974286812978,
          "obs_ci_lower": 9.959102066829715,
          "obs_ci_upper": 11.247016749827115
         },
         {
          "Age Cohort": "51+",
          "Ethnicity": "White not Hispanic",
          "Gender": "Female",
          "cohort_order": 5,
          "mean": 10.894616154191587,
          "mean_ci_lower": 10.827092037708075,
          "mean_ci_upper": 10.962140270675098,
          "mean_se": 0.03440942257980658,
          "obs_ci_lower": 10.249150916060092,
          "obs_ci_upper": 11.540081392323081
         },
         {
          "Age Cohort": "0 to 5",
          "Ethnicity": "Hispanic",
          "Gender": "Male",
          "cohort_order": 0,
          "mean": 7.131033195511555,
          "mean_ci_lower": 7.053967967312009,
          "mean_ci_upper": 7.2080984237111005,
          "mean_se": 0.03927145057832629,
          "obs_ci_lower": 6.484500198111797,
          "obs_ci_upper": 7.777566192911313
         },
         {
          "Age Cohort": "6 to 12",
          "Ethnicity": "Hispanic",
          "Gender": "Male",
          "cohort_order": 1,
          "mean": 7.62130903538836,
          "mean_ci_lower": 7.563789527746987,
          "mean_ci_upper": 7.6788285430297325,
          "mean_se": 0.029311202398296793,
          "obs_ci_lower": 6.976813603993712,
          "obs_ci_upper": 8.265804466783008
         },
         {
          "Age Cohort": "13 to 17",
          "Ethnicity": "Hispanic",
          "Gender": "Male",
          "cohort_order": 2,
          "mean": 8.232043656556026,
          "mean_ci_lower": 8.178346276757553,
          "mean_ci_upper": 8.2857410363545,
          "mean_se": 0.027363495135330047,
          "obs_ci_lower": 7.587878090939166,
          "obs_ci_upper": 8.876209222172886
         },
         {
          "Age Cohort": "18 to 21",
          "Ethnicity": "Hispanic",
          "Gender": "Male",
          "cohort_order": 3,
          "mean": 9.154876909901358,
          "mean_ci_lower": 9.098002755809974,
          "mean_ci_upper": 9.211751063992741,
          "mean_se": 0.028982338517192018,
          "obs_ci_lower": 8.510438754037757,
          "obs_ci_upper": 9.799315065764958
         },
         {
          "Age Cohort": "22 to 50",
          "Ethnicity": "Hispanic",
          "Gender": "Male",
          "cohort_order": 4,
          "mean": 10.601869567255282,
          "mean_ci_lower": 10.54268056382966,
          "mean_ci_upper": 10.661058570680904,
          "mean_se": 0.03016195600940855,
          "obs_ci_lower": 9.957222993188696,
          "obs_ci_upper": 11.246516141321868
         },
         {
          "Age Cohort": "51+",
          "Ethnicity": "Hispanic",
          "Gender": "Male",
          "cohort_order": 5,
          "mean": 10.893426313118454,
          "mean_ci_lower": 10.817246132035391,
          "mean_ci_upper": 10.969606494201516,
          "mean_se": 0.03882044193400664,
          "obs_ci_lower": 10.24699821400834,
          "obs_ci_upper": 11.539854412228568
         },
         {
          "Age Cohort": "0 to 5",
          "Ethnicity": "Hispanic",
          "Gender": "Female",
          "cohort_order": 0,
          "mean": 7.170816976084984,
          "mean_ci_lower": 7.094089070319245,
          "mean_ci_upper": 7.247544881850723,
          "mean_se": 0.03909955539813034,
          "obs_ci_lower": 6.52432409998157,
          "obs_ci_upper": 7.817309852188398
         },
         {
          "Age Cohort": "6 to 12",
          "Ethnicity": "Hispanic",
          "Gender": "Female",
          "cohort_order": 1,
          "mean": 7.661092815961789,
          "mean_ci_lower": 7.60494863539744,
          "mean_ci_upper": 7.717236996526138,
          "mean_se": 0.02861035338251883,
          "obs_ci_lower": 7.0167186728271425,
          "obs_ci_upper": 8.305466959096435
         },
         {
          "Age Cohort": "13 to 17",
          "Ethnicity": "Hispanic",
          "Gender": "Female",
          "cohort_order": 2,
          "mean": 8.271827437129456,
          "mean_ci_lower": 8.218173908667264,
          "mean_ci_upper": 8.325480965591648,
          "mean_se": 0.027341149057522638,
          "obs_ci_lower": 7.6276655254599515,
          "obs_ci_upper": 8.915989348798961
         },
         {
          "Age Cohort": "18 to 21",
          "Ethnicity": "Hispanic",
          "Gender": "Female",
          "cohort_order": 3,
          "mean": 9.194660690474787,
          "mean_ci_lower": 9.137837778188898,
          "mean_ci_upper": 9.251483602760677,
          "mean_se": 0.028956226351186314,
          "obs_ci_lower": 8.550227054876895,
          "obs_ci_upper": 9.83909432607268
         },
         {
          "Age Cohort": "22 to 50",
          "Ethnicity": "Hispanic",
          "Gender": "Female",
          "cohort_order": 4,
          "mean": 10.641653347828711,
          "mean_ci_lower": 10.58141838213127,
          "mean_ci_upper": 10.701888313526153,
          "mean_se": 0.03069496495033046,
          "obs_ci_lower": 9.996909896197103,
          "obs_ci_upper": 11.28639679946032
         },
         {
          "Age Cohort": "51+",
          "Ethnicity": "Hispanic",
          "Gender": "Female",
          "cohort_order": 5,
          "mean": 10.933210093691883,
          "mean_ci_lower": 10.857489513882571,
          "mean_ci_upper": 11.008930673501196,
          "mean_se": 0.03858623502734511,
          "obs_ci_lower": 10.286835996488161,
          "obs_ci_upper": 11.579584190895606
         },
         {
          "Age Cohort": "0 to 5",
          "Ethnicity": "Black",
          "Gender": "Male",
          "cohort_order": 0,
          "mean": 7.134152046314023,
          "mean_ci_lower": 7.022663867323083,
          "mean_ci_upper": 7.245640225304963,
          "mean_se": 0.05681294422399573,
          "obs_ci_lower": 6.482618868813457,
          "obs_ci_upper": 7.785685223814589
         },
         {
          "Age Cohort": "6 to 12",
          "Ethnicity": "Black",
          "Gender": "Male",
          "cohort_order": 1,
          "mean": 7.624427886190828,
          "mean_ci_lower": 7.5276440201375605,
          "mean_ci_upper": 7.721211752244096,
          "mean_se": 0.04931981519147253,
          "obs_ci_lower": 6.975249186557604,
          "obs_ci_upper": 8.273606585824053
         },
         {
          "Age Cohort": "13 to 17",
          "Ethnicity": "Black",
          "Gender": "Male",
          "cohort_order": 2,
          "mean": 8.235162507358496,
          "mean_ci_lower": 8.140600055918625,
          "mean_ci_upper": 8.329724958798366,
          "mean_se": 0.04818781083305903,
          "obs_ci_lower": 7.586311272828126,
          "obs_ci_upper": 8.884013741888866
         },
         {
          "Age Cohort": "18 to 21",
          "Ethnicity": "Black",
          "Gender": "Male",
          "cohort_order": 3,
          "mean": 9.157995760703827,
          "mean_ci_lower": 9.062013505679838,
          "mean_ci_upper": 9.253978015727816,
          "mean_se": 0.04891132450566252,
          "obs_ci_lower": 8.508936086553016,
          "obs_ci_upper": 9.807055434854638
         },
         {
          "Age Cohort": "22 to 50",
          "Ethnicity": "Black",
          "Gender": "Male",
          "cohort_order": 4,
          "mean": 10.60498841805775,
          "mean_ci_lower": 10.51260813561297,
          "mean_ci_upper": 10.697368700502532,
          "mean_se": 0.04707580553772307,
          "obs_ci_lower": 9.956451615775995,
          "obs_ci_upper": 11.253525220339506
         },
         {
          "Age Cohort": "51+",
          "Ethnicity": "Black",
          "Gender": "Male",
          "cohort_order": 5,
          "mean": 10.896545163920923,
          "mean_ci_lower": 10.792306905038194,
          "mean_ci_upper": 11.000783422803652,
          "mean_se": 0.05311847804413541,
          "obs_ci_lower": 10.24621333943117,
          "obs_ci_upper": 11.546876988410675
         },
         {
          "Age Cohort": "0 to 5",
          "Ethnicity": "Black",
          "Gender": "Female",
          "cohort_order": 0,
          "mean": 7.173935826887452,
          "mean_ci_lower": 7.0617736474138475,
          "mean_ci_upper": 7.2860980063610565,
          "mean_se": 0.05715640621409332,
          "obs_ci_lower": 6.522286978324411,
          "obs_ci_upper": 7.825584675450493
         },
         {
          "Age Cohort": "6 to 12",
          "Ethnicity": "Black",
          "Gender": "Female",
          "cohort_order": 1,
          "mean": 7.664211666764257,
          "mean_ci_lower": 7.56718893590206,
          "mean_ci_upper": 7.761234397626454,
          "mean_se": 0.04944153763047573,
          "obs_ci_lower": 7.014997312615162,
          "obs_ci_upper": 8.31342602091335
         },
         {
          "Age Cohort": "13 to 17",
          "Ethnicity": "Black",
          "Gender": "Female",
          "cohort_order": 2,
          "mean": 8.274946287931924,
          "mean_ci_lower": 8.17934310772674,
          "mean_ci_upper": 8.370549468137106,
          "mean_se": 0.048718152846276695,
          "obs_ci_lower": 7.62594256267712,
          "obs_ci_upper": 8.923950013186726
         },
         {
          "Age Cohort": "18 to 21",
          "Ethnicity": "Black",
          "Gender": "Female",
          "cohort_order": 3,
          "mean": 9.197779541277255,
          "mean_ci_lower": 9.100777553873208,
          "mean_ci_upper": 9.294781528681302,
          "mean_se": 0.049430967030600396,
          "obs_ci_lower": 8.548568286838762,
          "obs_ci_upper": 9.846990795715747
         },
         {
          "Age Cohort": "22 to 50",
          "Ethnicity": "Black",
          "Gender": "Female",
          "cohort_order": 4,
          "mean": 10.644772198631179,
          "mean_ci_lower": 10.550635872622372,
          "mean_ci_upper": 10.738908524639985,
          "mean_se": 0.047970662785916295,
          "obs_ci_lower": 9.995982929913128,
          "obs_ci_upper": 11.29356146734923
         },
         {
          "Age Cohort": "51+",
          "Ethnicity": "Black",
          "Gender": "Female",
          "cohort_order": 5,
          "mean": 10.93632894449435,
          "mean_ci_lower": 10.831455596328489,
          "mean_ci_upper": 11.041202292660213,
          "mean_se": 0.053442111386670384,
          "obs_ci_lower": 10.28589502280454,
          "obs_ci_upper": 11.586762866184161
         },
         {
          "Age Cohort": "0 to 5",
          "Ethnicity": "Asian",
          "Gender": "Male",
          "cohort_order": 0,
          "mean": 7.071336356207879,
          "mean_ci_lower": 6.978629374060053,
          "mean_ci_upper": 7.164043338355705,
          "mean_se": 0.04724228751074519,
          "obs_ci_lower": 6.422752936848252,
          "obs_ci_upper": 7.719919775567505
         },
         {
          "Age Cohort": "6 to 12",
          "Ethnicity": "Asian",
          "Gender": "Male",
          "cohort_order": 1,
          "mean": 7.561612196084684,
          "mean_ci_lower": 7.485003981308024,
          "mean_ci_upper": 7.638220410861344,
          "mean_se": 0.03903856240723029,
          "obs_ci_lower": 6.915133514378524,
          "obs_ci_upper": 8.208090877790843
         },
         {
          "Age Cohort": "13 to 17",
          "Ethnicity": "Asian",
          "Gender": "Male",
          "cohort_order": 2,
          "mean": 8.17234681725235,
          "mean_ci_lower": 8.098788446529097,
          "mean_ci_upper": 8.245905187975604,
          "mean_se": 0.0374844010453141,
          "obs_ci_lower": 7.5262224474652895,
          "obs_ci_upper": 8.818471187039412
         },
         {
          "Age Cohort": "18 to 21",
          "Ethnicity": "Asian",
          "Gender": "Male",
          "cohort_order": 3,
          "mean": 9.095180070597682,
          "mean_ci_lower": 9.025923901932742,
          "mean_ci_upper": 9.16443623926262,
          "mean_se": 0.03529205412753734,
          "obs_ci_lower": 8.449531339299142,
          "obs_ci_upper": 9.740828801896221
         },
         {
          "Age Cohort": "22 to 50",
          "Ethnicity": "Asian",
          "Gender": "Male",
          "cohort_order": 4,
          "mean": 10.542172727951606,
          "mean_ci_lower": 10.471082488495478,
          "mean_ci_upper": 10.613262967407733,
          "mean_se": 0.036226673048626555,
          "obs_ci_lower": 9.896324688955437,
          "obs_ci_upper": 11.188020766947774
         },
         {
          "Age Cohort": "51+",
          "Ethnicity": "Asian",
          "Gender": "Male",
          "cohort_order": 5,
          "mean": 10.833729473814778,
          "mean_ci_lower": 10.748265875700953,
          "mean_ci_upper": 10.919193071928602,
          "mean_se": 0.04355115203036257,
          "obs_ci_lower": 10.186141723828856,
          "obs_ci_upper": 11.4813172238007
         },
         {
          "Age Cohort": "0 to 5",
          "Ethnicity": "Asian",
          "Gender": "Female",
          "cohort_order": 0,
          "mean": 7.111120136781308,
          "mean_ci_lower": 7.018172651241818,
          "mean_ci_upper": 7.204067622320798,
          "mean_se": 0.04736484495046618,
          "obs_ci_lower": 6.462502296757322,
          "obs_ci_upper": 7.759737976805294
         },
         {
          "Age Cohort": "6 to 12",
          "Ethnicity": "Asian",
          "Gender": "Female",
          "cohort_order": 1,
          "mean": 7.601395976658113,
          "mean_ci_lower": 7.52517903479732,
          "mean_ci_upper": 7.677612918518905,
          "mean_se": 0.0388391747542369,
          "obs_ci_lower": 6.9549635443375495,
          "obs_ci_upper": 8.247828408978675
         },
         {
          "Age Cohort": "13 to 17",
          "Ethnicity": "Asian",
          "Gender": "Female",
          "cohort_order": 2,
          "mean": 8.21213059782578,
          "mean_ci_lower": 8.13795071628038,
          "mean_ci_upper": 8.28631047937118,
          "mean_se": 0.037801114978511366,
          "obs_ci_lower": 7.5659351767994805,
          "obs_ci_upper": 8.85832601885208
         },
         {
          "Age Cohort": "18 to 21",
          "Ethnicity": "Asian",
          "Gender": "Female",
          "cohort_order": 3,
          "mean": 9.134963851171111,
          "mean_ci_lower": 9.065055917010573,
          "mean_ci_upper": 9.20487178533165,
          "mean_se": 0.03562418545377987,
          "obs_ci_lower": 8.489244882433269,
          "obs_ci_upper": 9.780682819908954
         },
         {
          "Age Cohort": "22 to 50",
          "Ethnicity": "Asian",
          "Gender": "Female",
          "cohort_order": 4,
          "mean": 10.581956508525035,
          "mean_ci_lower": 10.509325499201251,
          "mean_ci_upper": 10.65458751784882,
          "mean_se": 0.0370118295858075,
          "obs_ci_lower": 9.935937057699707,
          "obs_ci_upper": 11.227975959350363
         },
         {
          "Age Cohort": "51+",
          "Ethnicity": "Asian",
          "Gender": "Female",
          "cohort_order": 5,
          "mean": 10.873513254388207,
          "mean_ci_lower": 10.787893506533054,
          "mean_ci_upper": 10.95913300224336,
          "mean_se": 0.04363072393318656,
          "obs_ci_lower": 10.22590487847569,
          "obs_ci_upper": 11.521121630300724
         },
         {
          "Age Cohort": "0 to 5",
          "Ethnicity": "Native Hawaiian",
          "Gender": "Male",
          "cohort_order": 0,
          "mean": 7.061714496892088,
          "mean_ci_lower": 6.6810488188687565,
          "mean_ci_upper": 7.442380174915419,
          "mean_se": 0.19398234081199395,
          "obs_ci_lower": 6.31540877819885,
          "obs_ci_upper": 7.8080202155853256
         },
         {
          "Age Cohort": "6 to 12",
          "Ethnicity": "Native Hawaiian",
          "Gender": "Male",
          "cohort_order": 1,
          "mean": 7.551990336768893,
          "mean_ci_lower": 7.1749091077040426,
          "mean_ci_upper": 7.929071565833743,
          "mean_se": 0.19215575165612944,
          "obs_ci_lower": 6.80750654202093,
          "obs_ci_upper": 8.296474131516854
         },
         {
          "Age Cohort": "13 to 17",
          "Ethnicity": "Native Hawaiian",
          "Gender": "Male",
          "cohort_order": 2,
          "mean": 8.16272495793656,
          "mean_ci_lower": 7.78643658337863,
          "mean_ci_upper": 8.53901333249449,
          "mean_se": 0.19175172318165673,
          "obs_ci_lower": 7.418642430150349,
          "obs_ci_upper": 8.90680748572277
         },
         {
          "Age Cohort": "18 to 21",
          "Ethnicity": "Native Hawaiian",
          "Gender": "Male",
          "cohort_order": 3,
          "mean": 9.08555821128189,
          "mean_ci_lower": 8.709220929756391,
          "mean_ci_upper": 9.46189549280739,
          "mean_se": 0.19177664554424095,
          "obs_ci_lower": 8.341450949662123,
          "obs_ci_upper": 9.829665472901658
         },
         {
          "Age Cohort": "22 to 50",
          "Ethnicity": "Native Hawaiian",
          "Gender": "Male",
          "cohort_order": 4,
          "mean": 10.532550868635814,
          "mean_ci_lower": 10.160144030867839,
          "mean_ci_upper": 10.90495770640379,
          "mean_se": 0.18977374188223145,
          "obs_ci_lower": 9.790423709622205,
          "obs_ci_upper": 11.274678027649424
         },
         {
          "Age Cohort": "51+",
          "Ethnicity": "Native Hawaiian",
          "Gender": "Male",
          "cohort_order": 5,
          "mean": 10.824107614498987,
          "mean_ci_lower": 10.448966747529283,
          "mean_ci_upper": 11.19924848146869,
          "mean_se": 0.1911669680515925,
          "obs_ci_lower": 10.080604731249668,
          "obs_ci_upper": 11.567610497748305
         },
         {
          "Age Cohort": "0 to 5",
          "Ethnicity": "Native Hawaiian",
          "Gender": "Female",
          "cohort_order": 0,
          "mean": 7.101498277465517,
          "mean_ci_lower": 6.721706427739478,
          "mean_ci_upper": 7.4812901271915555,
          "mean_se": 0.19353704913385594,
          "obs_ci_lower": 6.355637890765973,
          "obs_ci_upper": 7.847358664165061
         },
         {
          "Age Cohort": "6 to 12",
          "Ethnicity": "Native Hawaiian",
          "Gender": "Female",
          "cohort_order": 1,
          "mean": 7.591774117342322,
          "mean_ci_lower": 7.215713886617761,
          "mean_ci_upper": 7.967834348066883,
          "mean_se": 0.1916354640141152,
          "obs_ci_lower": 6.8478069376483,
          "obs_ci_upper": 8.335741297036344
         },
         {
          "Age Cohort": "13 to 17",
          "Ethnicity": "Native Hawaiian",
          "Gender": "Female",
          "cohort_order": 2,
          "mean": 8.202508738509989,
          "mean_ci_lower": 7.82704156029825,
          "mean_ci_upper": 8.577975916721728,
          "mean_se": 0.19133325206987312,
          "obs_ci_lower": 7.458841158711358,
          "obs_ci_upper": 8.94617631830862
         },
         {
          "Age Cohort": "18 to 21",
          "Ethnicity": "Native Hawaiian",
          "Gender": "Female",
          "cohort_order": 3,
          "mean": 9.12534199185532,
          "mean_ci_lower": 8.749827289093021,
          "mean_ci_upper": 9.50085669461762,
          "mean_se": 0.19135746997050287,
          "obs_ci_lower": 8.381650416455999,
          "obs_ci_upper": 9.869033567254641
         },
         {
          "Age Cohort": "22 to 50",
          "Ethnicity": "Native Hawaiian",
          "Gender": "Female",
          "cohort_order": 4,
          "mean": 10.572334649209242,
          "mean_ci_lower": 10.200583207584584,
          "mean_ci_upper": 10.9440860908339,
          "mean_se": 0.1894397604245391,
          "obs_ci_lower": 9.83053615791981,
          "obs_ci_upper": 11.314133140498676
         },
         {
          "Age Cohort": "51+",
          "Ethnicity": "Native Hawaiian",
          "Gender": "Female",
          "cohort_order": 5,
          "mean": 10.863891395072415,
          "mean_ci_lower": 10.489661218770173,
          "mean_ci_upper": 11.238121571374656,
          "mean_se": 0.19070289178302194,
          "obs_ci_lower": 10.120847592740093,
          "obs_ci_upper": 11.606935197404736
         },
         {
          "Age Cohort": "0 to 5",
          "Ethnicity": "American Indian",
          "Gender": "Male",
          "cohort_order": 0,
          "mean": 7.038042775789645,
          "mean_ci_lower": 6.705536413053936,
          "mean_ci_upper": 7.370549138525353,
          "mean_se": 0.16944097222865856,
          "obs_ci_lower": 6.315113769185954,
          "obs_ci_upper": 7.7609717823933355
         },
         {
          "Age Cohort": "6 to 12",
          "Ethnicity": "American Indian",
          "Gender": "Male",
          "cohort_order": 1,
          "mean": 7.52831861566645,
          "mean_ci_lower": 7.199886055000423,
          "mean_ci_upper": 7.856751176332477,
          "mean_se": 0.1673650150118557,
          "obs_ci_lower": 6.807254253605121,
          "obs_ci_upper": 8.249382977727779
         },
         {
          "Age Cohort": "13 to 17",
          "Ethnicity": "American Indian",
          "Gender": "Male",
          "cohort_order": 2,
          "mean": 8.139053236834117,
          "mean_ci_lower": 7.813024881142831,
          "mean_ci_upper": 8.465081592525404,
          "mean_se": 0.16613986303279185,
          "obs_ci_lower": 7.419080767885456,
          "obs_ci_upper": 8.859025705782779
         },
         {
          "Age Cohort": "18 to 21",
          "Ethnicity": "American Indian",
          "Gender": "Male",
          "cohort_order": 3,
          "mean": 9.061886490179448,
          "mean_ci_lower": 8.734246912996772,
          "mean_ci_upper": 9.389526067362125,
          "mean_se": 0.16696092081265113,
          "obs_ci_lower": 8.341182972867571,
          "obs_ci_upper": 9.782590007491326
         },
         {
          "Age Cohort": "22 to 50",
          "Ethnicity": "American Indian",
          "Gender": "Male",
          "cohort_order": 4,
          "mean": 10.50887914753337,
          "mean_ci_lower": 10.183319321843916,
          "mean_ci_upper": 10.834438973222825,
          "mean_se": 0.16590110616096732,
          "obs_ci_lower": 9.789118723897689,
          "obs_ci_upper": 11.228639571169053
         },
         {
          "Age Cohort": "51+",
          "Ethnicity": "American Indian",
          "Gender": "Male",
          "cohort_order": 5,
          "mean": 10.800435893396543,
          "mean_ci_lower": 10.476038109449206,
          "mean_ci_upper": 11.12483367734388,
          "mean_se": 0.16530894461273443,
          "obs_ci_lower": 10.081200334237229,
          "obs_ci_upper": 11.519671452555857
         },
         {
          "Age Cohort": "0 to 5",
          "Ethnicity": "American Indian",
          "Gender": "Female",
          "cohort_order": 0,
          "mean": 7.077826556363074,
          "mean_ci_lower": 6.746640026094047,
          "mean_ci_upper": 7.4090130866321005,
          "mean_se": 0.1687684025536195,
          "obs_ci_lower": 6.355503647159091,
          "obs_ci_upper": 7.800149465567056
         },
         {
          "Age Cohort": "6 to 12",
          "Ethnicity": "American Indian",
          "Gender": "Female",
          "cohort_order": 1,
          "mean": 7.568102396239879,
          "mean_ci_lower": 7.241165802075601,
          "mean_ci_upper": 7.8950389904041565,
          "mean_se": 0.1666026896945525,
          "obs_ci_lower": 6.847718190462847,
          "obs_ci_upper": 8.288486602016912
         },
         {
          "Age Cohort": "13 to 17",
          "Ethnicity": "American Indian",
          "Gender": "Female",
          "cohort_order": 2,
          "mean": 8.178837017407545,
          "mean_ci_lower": 7.854082193455469,
          "mean_ci_upper": 8.50359184135962,
          "mean_se": 0.16549088761385397,
          "obs_ci_lower": 7.459440351437086,
          "obs_ci_upper": 8.898233683378004
         },
         {
          "Age Cohort": "18 to 21",
          "Ethnicity": "American Indian",
          "Gender": "Female",
          "cohort_order": 3,
          "mean": 9.101670270752876,
          "mean_ci_lower": 8.775299651763298,
          "mean_ci_upper": 9.428040889742455,
          "mean_se": 0.16631427601407633,
          "obs_ci_lower": 8.381542748525801,
          "obs_ci_upper": 9.821797792979952
         },
         {
          "Age Cohort": "22 to 50",
          "Ethnicity": "American Indian",
          "Gender": "Female",
          "cohort_order": 4,
          "mean": 10.5486629281068,
          "mean_ci_lower": 10.22417867962136,
          "mean_ci_upper": 10.87314717659224,
          "mean_se": 0.1653530058309284,
          "obs_ci_lower": 9.829388366590527,
          "obs_ci_upper": 11.267937489623074
         },
         {
          "Age Cohort": "51+",
          "Ethnicity": "American Indian",
          "Gender": "Female",
          "cohort_order": 5,
          "mean": 10.840219673969973,
          "mean_ci_lower": 10.517202611118934,
          "mean_ci_upper": 11.16323673682101,
          "mean_se": 0.16460534687400652,
          "obs_ci_lower": 10.121605806707324,
          "obs_ci_upper": 11.558833541232621
         },
         {
          "Age Cohort": "0 to 5",
          "Ethnicity": "Multi Race",
          "Gender": "Male",
          "cohort_order": 0,
          "mean": 7.133463367168171,
          "mean_ci_lower": 6.994151709934217,
          "mean_ci_upper": 7.272775024402126,
          "mean_se": 0.07099143141290606,
          "obs_ci_lower": 6.47659686233592,
          "obs_ci_upper": 7.790329872000423
         },
         {
          "Age Cohort": "6 to 12",
          "Ethnicity": "Multi Race",
          "Gender": "Male",
          "cohort_order": 1,
          "mean": 7.623739207044976,
          "mean_ci_lower": 7.490169115834441,
          "mean_ci_upper": 7.757309298255512,
          "mean_se": 0.06806560310358026,
          "obs_ci_lower": 6.968066394893017,
          "obs_ci_upper": 8.279412019196936
         },
         {
          "Age Cohort": "13 to 17",
          "Ethnicity": "Multi Race",
          "Gender": "Male",
          "cohort_order": 2,
          "mean": 8.234473828212643,
          "mean_ci_lower": 8.100494326142103,
          "mean_ci_upper": 8.368453330283183,
          "mean_se": 0.06827423361996873,
          "obs_ci_lower": 7.578717490611291,
          "obs_ci_upper": 8.890230165813994
         },
         {
          "Age Cohort": "18 to 21",
          "Ethnicity": "Multi Race",
          "Gender": "Male",
          "cohort_order": 3,
          "mean": 9.157307081557974,
          "mean_ci_lower": 9.019949852854054,
          "mean_ci_upper": 9.294664310261894,
          "mean_se": 0.0699954797337983,
          "obs_ci_lower": 8.500852303521826,
          "obs_ci_upper": 9.813761859594122
         },
         {
          "Age Cohort": "22 to 50",
          "Ethnicity": "Multi Race",
          "Gender": "Male",
          "cohort_order": 4,
          "mean": 10.604299738911898,
          "mean_ci_lower": 10.466682980956225,
          "mean_ci_upper": 10.74191649686757,
          "mean_se": 0.07012773250748061,
          "obs_ci_lower": 9.947790607673422,
          "obs_ci_upper": 11.260808870150374
         },
         {
          "Age Cohort": "51+",
          "Ethnicity": "Multi Race",
          "Gender": "Male",
          "cohort_order": 5,
          "mean": 10.89585648477507,
          "mean_ci_lower": 10.749827034733908,
          "mean_ci_upper": 11.041885934816232,
          "mean_se": 0.07441473235403338,
          "obs_ci_lower": 10.237532501003711,
          "obs_ci_upper": 11.554180468546429
         },
         {
          "Age Cohort": "0 to 5",
          "Ethnicity": "Multi Race",
          "Gender": "Female",
          "cohort_order": 0,
          "mean": 7.1732471477416,
          "mean_ci_lower": 7.033888435381106,
          "mean_ci_upper": 7.312605860102094,
          "mean_se": 0.07101541010108363,
          "obs_ci_lower": 6.516370661604334,
          "obs_ci_upper": 7.830123633878866
         },
         {
          "Age Cohort": "6 to 12",
          "Ethnicity": "Multi Race",
          "Gender": "Female",
          "cohort_order": 1,
          "mean": 7.663522987618405,
          "mean_ci_lower": 7.530295230519206,
          "mean_ci_upper": 7.796750744717604,
          "mean_se": 0.06789115403687733,
          "obs_ci_lower": 7.007919828236946,
          "obs_ci_upper": 8.319126146999864
         },
         {
          "Age Cohort": "13 to 17",
          "Ethnicity": "Multi Race",
          "Gender": "Female",
          "cohort_order": 2,
          "mean": 8.274257608786073,
          "mean_ci_lower": 8.140053323317808,
          "mean_ci_upper": 8.408461894254337,
          "mean_se": 0.06838878035266248,
          "obs_ci_lower": 7.618455308113595,
          "obs_ci_upper": 8.930059909458551
         },
         {
          "Age Cohort": "18 to 21",
          "Ethnicity": "Multi Race",
          "Gender": "Female",
          "cohort_order": 3,
          "mean": 9.197090862131404,
          "mean_ci_lower": 9.059518434014372,
          "mean_ci_upper": 9.334663290248436,
          "mean_se": 0.0701051425910168,
          "obs_ci_lower": 8.540591021836462,
          "obs_ci_upper": 9.853590702426345
         },
         {
          "Age Cohort": "22 to 50",
          "Ethnicity": "Multi Race",
          "Gender": "Female",
          "cohort_order": 4,
          "mean": 10.644083519485328,
          "mean_ci_lower": 10.505778509525314,
          "mean_ci_upper": 10.782388529445342,
          "mean_se": 0.0704784568899992,
          "obs_ci_lower": 9.98742977274409,
          "obs_ci_upper": 11.300737266226566
         },
         {
          "Age Cohort": "51+",
          "Ethnicity": "Multi Race",
          "Gender": "Female",
          "cohort_order": 5,
          "mean": 10.9356402653485,
          "mean_ci_lower": 10.789627330168459,
          "mean_ci_upper": 11.08165320052854,
          "mean_se": 0.07440631659289794,
          "obs_ci_lower": 10.27731994470728,
          "obs_ci_upper": 11.59396058598972
         },
         {
          "Age Cohort": "0 to 5",
          "Ethnicity": "Other",
          "Gender": "Male",
          "cohort_order": 0,
          "mean": 6.902562322594067,
          "mean_ci_lower": 6.440480576853951,
          "mean_ci_upper": 7.364644068334182,
          "mean_se": 0.23547092333253752,
          "obs_ci_lower": 6.11162275026537,
          "obs_ci_upper": 7.693501894922763
         },
         {
          "Age Cohort": "6 to 12",
          "Ethnicity": "Other",
          "Gender": "Male",
          "cohort_order": 1,
          "mean": 7.392838162470872,
          "mean_ci_lower": 6.933646612279553,
          "mean_ci_upper": 7.8520297126621905,
          "mean_se": 0.2339981167982806,
          "obs_ci_lower": 6.603583610950024,
          "obs_ci_upper": 8.182092713991718
         },
         {
          "Age Cohort": "13 to 17",
          "Ethnicity": "Other",
          "Gender": "Male",
          "cohort_order": 2,
          "mean": 8.003572783638539,
          "mean_ci_lower": 7.549207947629308,
          "mean_ci_upper": 8.457937619647769,
          "mean_se": 0.23153848523828874,
          "obs_ci_lower": 7.217116636398934,
          "obs_ci_upper": 8.790028930878144
         },
         {
          "Age Cohort": "18 to 21",
          "Ethnicity": "Other",
          "Gender": "Male",
          "cohort_order": 3,
          "mean": 8.92640603698387,
          "mean_ci_lower": 8.467552508736672,
          "mean_ci_upper": 9.385259565231069,
          "mean_se": 0.23382586515661263,
          "obs_ci_lower": 8.13734810012868,
          "obs_ci_upper": 9.71546397383906
         },
         {
          "Age Cohort": "22 to 50",
          "Ethnicity": "Other",
          "Gender": "Male",
          "cohort_order": 4,
          "mean": 10.373398694337794,
          "mean_ci_lower": 9.91470050132695,
          "mean_ci_upper": 10.832096887348639,
          "mean_se": 0.23374670831506328,
          "obs_ci_lower": 9.584431078018415,
          "obs_ci_upper": 11.162366310657173
         },
         {
          "Age Cohort": "51+",
          "Ethnicity": "Other",
          "Gender": "Male",
          "cohort_order": 5,
          "mean": 10.664955440200966,
          "mean_ci_lower": 10.203828448829706,
          "mean_ci_upper": 11.126082431572227,
          "mean_se": 0.2349843927676265,
          "obs_ci_lower": 9.874573273461117,
          "obs_ci_upper": 11.455337606940816
         },
         {
          "Age Cohort": "0 to 5",
          "Ethnicity": "Other",
          "Gender": "Female",
          "cohort_order": 0,
          "mean": 6.942346103167496,
          "mean_ci_lower": 6.480315401424895,
          "mean_ci_upper": 7.404376804910096,
          "mean_se": 0.23544491196693734,
          "obs_ci_lower": 6.151436350615394,
          "obs_ci_upper": 7.733255855719597
         },
         {
          "Age Cohort": "6 to 12",
          "Ethnicity": "Other",
          "Gender": "Female",
          "cohort_order": 1,
          "mean": 7.432621943044301,
          "mean_ci_lower": 6.973595514066817,
          "mean_ci_upper": 7.891648372021784,
          "mean_se": 0.23391397314828377,
          "obs_ci_lower": 6.643463448298734,
          "obs_ci_upper": 8.221780437789867
         },
         {
          "Age Cohort": "13 to 17",
          "Ethnicity": "Other",
          "Gender": "Female",
          "cohort_order": 2,
          "mean": 8.043356564211967,
          "mean_ci_lower": 7.588991728202736,
          "mean_ci_upper": 8.497721400221197,
          "mean_se": 0.23153848523828874,
          "obs_ci_lower": 7.256900416972362,
          "obs_ci_upper": 8.829812711451572
         },
         {
          "Age Cohort": "18 to 21",
          "Ethnicity": "Other",
          "Gender": "Female",
          "cohort_order": 3,
          "mean": 8.966189817557298,
          "mean_ci_lower": 8.507337508177994,
          "mean_ci_upper": 9.425042126936603,
          "mean_se": 0.23382524403718685,
          "obs_ci_lower": 8.177132589498402,
          "obs_ci_upper": 9.755247045616194
         },
         {
          "Age Cohort": "22 to 50",
          "Ethnicity": "Other",
          "Gender": "Female",
          "cohort_order": 4,
          "mean": 10.413182474911222,
          "mean_ci_lower": 9.954343012006989,
          "mean_ci_upper": 10.872021937815456,
          "mean_se": 0.23381869763847235,
          "obs_ci_lower": 9.62413271726123,
          "obs_ci_upper": 11.202232232561215
         },
         {
          "Age Cohort": "51+",
          "Ethnicity": "Other",
          "Gender": "Female",
          "cohort_order": 5,
          "mean": 10.704739220774394,
          "mean_ci_lower": 10.243682829571865,
          "mean_ci_upper": 11.165795611976923,
          "mean_se": 0.2349484158283253,
          "obs_ci_lower": 9.914398241703989,
          "obs_ci_upper": 11.4950801998448
         }
        ]
       },
       "facet": {
        "field": "Gender",
        "type": "nominal"
       },
       "spec": {
        "layer": [
         {
          "encoding": {
           "color": {
            "field": "Age Cohort",
            "sort": [
             "0 to 5",
             "6 to 12",
             "13 to 17",
             "18 to 21",
             "22 to 50",
             "51+"
            ],
            "type": "nominal"
           },
           "x": {
            "field": "Ethnicity",
            "type": "nominal"
           },
           "y": {
            "field": "mean",
            "type": "quantitative"
           }
          },
          "mark": {
           "point": true,
           "type": "line"
          }
         },
         {
          "encoding": {
           "color": {
            "field": "Age Cohort",
            "sort": [
             "0 to 5",
             "6 to 12",
             "13 to 17",
             "18 to 21",
             "22 to 50",
             "51+"
            ],
            "type": "nominal"
           },
           "x": {
            "field": "Ethnicity",
            "type": "nominal"
           },
           "y": {
            "field": "mean_ci_lower",
            "type": "quantitative"
           },
           "y2": {
            "field": "mean_ci_upper"
           }
          },
          "mark": {
           "opacity": 0.4,
           "type": "area"
          }
         }
        ]
       }
      },
      "image/png": "[encoded data removed]",
      "text/plain": [
       "<VegaLite 5 object>\n",
       "\n",
       "If you see this message, it means the renderer has not been properly enabled\n",
       "for the frontend that you are using. For more information, see\n",
       "https://altair-viz.github.io/user_guide/display_frontends.html#troubleshooting\n"
      ]
     },
     "execution_count": 22,
     "metadata": {},
     "output_type": "execute_result"
    }
   ],
   "source": [
    "# add cohort ordering\n",
    "pred_cat = pred_df.astype({'Age Cohort': 'category', 'Ethnicity': 'category', 'Gender': 'category'}).copy()\n",
    "pred_cat['Age Cohort'] = pred_cat['Age Cohort'].cat.as_ordered().cat.reorder_categories(\n",
    "    pred_cat[\"Age Cohort\"].cat.categories[[0, 5, 1, 2, 3, 4]]\n",
    ")\n",
    "\n",
    "pred_cat['cohort_order'] = pred_cat['Age Cohort'].cat.codes\n",
    "\n",
    "cohort_order = pred_cat['Age Cohort'].cat.categories.tolist()\n",
    "\n",
    "# construct point-and-line plot\n",
    "lines = alt.Chart(pred_cat).mark_line(point = True).encode(\n",
    "    x = 'Ethnicity:N',\n",
    "    y = 'mean:Q',\n",
    "    color = alt.Color('Age Cohort:N', sort = cohort_order)\n",
    ")\n",
    "\n",
    "# construct confidence bands\n",
    "bands = alt.Chart(pred_cat).mark_area(opacity = 0.4).encode(\n",
    "    x = 'Ethnicity:N',\n",
    "    y = 'mean_ci_lower:Q',\n",
    "    y2 = 'mean_ci_upper:Q',\n",
    "    color = alt.Color('Age Cohort:N', sort = cohort_order)\n",
    ")\n",
    "\n",
    "# layer then facet\n",
    "fig_5 = (lines + bands).facet('Gender:N')\n",
    "\n",
    "# display\n",
    "fig_5"
   ]
  },
  {
   "attachments": {},
   "cell_type": "markdown",
   "metadata": {},
   "source": [
    "<!-- END QUESTION -->\n",
    "\n",
    "<!-- BEGIN QUESTION -->\n",
    "\n",
    "### Question 13: uncertainty\n",
    "\n",
    "Which estimates have greater uncertainty and why? Identify the ethnic groups for which the uncertainty band is relatively wide in the plot. Why might uncertainty be higher for these groups? Answer in 2 sentences.\n",
    "\n",
    "(*Hint*: it may help to refer to figure 3.)"
   ]
  },
  {
   "cell_type": "markdown",
   "metadata": {},
   "source": [
    "From the confidence intervals in figure 5, we can see that the Native Hawaiian, Other, and American Indian ethnicities have the greatest uncertainty for the estimation. This is due to the fact that there is a much smaller sample size for these ethnicities and there is not enough data to be more accurate."
   ]
  },
  {
   "attachments": {},
   "cell_type": "markdown",
   "metadata": {},
   "source": [
    "<!-- END QUESTION -->\n",
    "\n",
    "# Communicating results\n",
    "\n",
    "Review your exploratory and regression analyses above, and then answer the following questions."
   ]
  },
  {
   "attachments": {},
   "cell_type": "markdown",
   "metadata": {},
   "source": [
    "<!-- BEGIN QUESTION -->\n",
    "\n",
    "### Question 14: summary\n",
    "\n",
    "Write a one-paragraph summary of your analysis. Focus on answering the question, 'do the data provide evidence of ethnic or gender discrimination in allocation of DDS funds?'\n",
    "\n",
    "Your summary should include the following:\n",
    "\n",
    "* a description of the data indicating observations, variables, and sampling mechanism;\n",
    "* a description of any important exploratory findings;\n",
    "* a description of the method you used to analyze the data (don't worry about capturing every detail);\n",
    "* a description of the findings of the analysis;\n",
    "* an answer to the question."
   ]
  },
  {
   "cell_type": "markdown",
   "metadata": {},
   "source": [
    "After visualizing all the data into simple graphs and looking at estimations on this topic, I can conclude that the data does not provide any evidence of ethnic or gender discrimination in the allocation of DDS funds. From figure 1, it appears as though the median allocation of funds is affected by the ethnicity of the individual but figures 2 and 4 work together to show that the reason for the differences is actually based on the age of the individual rather than ethnicity. Figure 4 shows a fairly even median of expenditures between ethnicities accounting for the age. As we see with figure 3, ethnicities such as White have a much higher ratio of older to younger individuals which will result in a higher median of expenditures. By using linear regression and estimation, I found that there is no evidence to support that expenditure is affected by ethnicity and Gender but only by Age. We can also see this in figure 5 where I make two plots of the mean estimated expenditure by ethnicity and age cohort the individual and separate the plots by gender. From this figure, we can see that the estimations between ethnicity and gender are extremely similar and the only visible differences is due to the Age."
   ]
  },
  {
   "attachments": {},
   "cell_type": "markdown",
   "metadata": {},
   "source": [
    "<!-- END QUESTION -->\n",
    "\n",
    "# Submission\n",
    "\n",
    "\n",
    "1. Save the notebook. \n",
    "2. Restart the kernel and run all cells. (**CAUTION**: if your notebook is not saved, you will lose your work.)\n",
    "3. Carefully look through your notebook and verify that all computations execute correctly and all graphics are displayed clearly. You should see **no errors**; if there are any errors, make sure to correct them before you submit the notebook.\n",
    "4. Download the notebook as an `.ipynb` file. This is your backup copy.\n",
    "5. Export the notebook as PDF and upload to Gradescope."
   ]
  },
  {
   "cell_type": "markdown",
   "metadata": {
    "deletable": false,
    "editable": false
   },
   "source": [
    "---\n",
    "\n",
    "To double-check your work, the cell below will rerun all of the autograder tests."
   ]
  },
  {
   "cell_type": "code",
   "execution_count": 23,
   "metadata": {
    "deletable": false,
    "editable": false
   },
   "outputs": [
    {
     "data": {
      "text/plain": [
       "q11 results: All test cases passed!\n",
       "\n",
       "q2 results: All test cases passed!\n",
       "\n",
       "q8 results: All test cases passed!\n",
       "\n",
       "q9 results: All test cases passed!"
      ]
     },
     "execution_count": 23,
     "metadata": {},
     "output_type": "execute_result"
    }
   ],
   "source": [
    "grader.check_all()"
   ]
  }
 ],
 "metadata": {
  "kernelspec": {
   "display_name": "Python 3 (ipykernel)",
   "language": "python",
   "name": "python3"
  },
  "language_info": {
   "codemirror_mode": {
    "name": "ipython",
    "version": 3
   },
   "file_extension": ".py",
   "mimetype": "text/x-python",
   "name": "python",
   "nbconvert_exporter": "python",
   "pygments_lexer": "ipython3",
   "version": "3.11.5"
  },
  "otter": {
   "OK_FORMAT": true,
   "tests": {
    "q11": {
     "name": "q11",
     "points": 1,
     "suites": [
      {
       "cases": [
        {
         "code": ">>> pred_df.shape[0] == (len(ages)*len(genders)*len(ethnicities))\nTrue",
         "hidden": false,
         "locked": false
        },
        {
         "code": ">>> (np.round(pred_df[(pred_df.Gender == 'Female') & (pred_df['Age Cohort'] == '22 to 50') & (pred_df.Ethnicity == 'Hispanic')]['mean'], 6) == 10.641653).all()\nTrue",
         "hidden": false,
         "locked": false
        }
       ],
       "scored": true,
       "setup": "",
       "teardown": "",
       "type": "doctest"
      }
     ]
    },
    "q2": {
     "name": "q2",
     "points": 1,
     "suites": [
      {
       "cases": [
        {
         "code": ">>> median_expend_by_eth.shape[0] == 8\nTrue",
         "hidden": false,
         "locked": false
        },
        {
         "code": ">>> median_expend_by_eth.loc['Asian', 'Expenditures'] == 9369\nTrue",
         "hidden": false,
         "locked": false
        },
        {
         "code": ">>> ethnicity_n.loc['Other'] == 2\nTrue",
         "hidden": false,
         "locked": false
        },
        {
         "code": ">>> ethnicity_n.max() > 400\nTrue",
         "hidden": false,
         "locked": false
        },
        {
         "code": ">>> (median_expend_by_eth.idxmax() == 'American Indian').all()\nTrue",
         "hidden": false,
         "locked": false
        }
       ],
       "scored": true,
       "setup": "",
       "teardown": "",
       "type": "doctest"
      }
     ]
    },
    "q8": {
     "name": "q8",
     "points": 1,
     "suites": [
      {
       "cases": [
        {
         "code": ">>> indicators.shape[1] == (len(reg_data.Gender.cat.categories) - 1 + len(reg_data.Ethnicity.cat.categories) - 1 + len(reg_data['Age Cohort'].cat.categories) - 1)\nTrue",
         "hidden": false,
         "locked": false
        },
        {
         "code": ">>> np.sort(np.unique(indicators.values)).tolist() == [0, 1]\nTrue",
         "hidden": false,
         "locked": false
        },
        {
         "code": ">>> x.shape[1] == indicators.shape[1] + 1\nTrue",
         "hidden": false,
         "locked": false
        },
        {
         "code": ">>> y.shape[0] == x.shape[0]\nTrue",
         "hidden": false,
         "locked": false
        },
        {
         "code": ">>> y[1] == np.log(reg_data.Expenditures[1])\nTrue",
         "hidden": false,
         "locked": false
        }
       ],
       "scored": true,
       "setup": "",
       "teardown": "",
       "type": "doctest"
      }
     ]
    },
    "q9": {
     "name": "q9",
     "points": 1,
     "suites": [
      {
       "cases": [
        {
         "code": ">>> coef_tbl.shape[0] == (x.shape[1] + 1)\nTrue",
         "hidden": false,
         "locked": false
        },
        {
         "code": ">>> coef_tbl.estimate.max() < 7.5\nTrue",
         "hidden": false,
         "locked": false
        },
        {
         "code": ">>> coef_tbl.estimate.min() > -1\nTrue",
         "hidden": false,
         "locked": false
        },
        {
         "code": ">>> (coef_tbl.estimate < 0).sum() == 4\nTrue",
         "hidden": false,
         "locked": false
        },
        {
         "code": ">>> np.round(coef_tbl.loc['const', 'estimate'], 4) == 7.0924\nTrue",
         "hidden": false,
         "locked": false
        }
       ],
       "scored": true,
       "setup": "",
       "teardown": "",
       "type": "doctest"
      }
     ]
    }
   }
  }
 },
 "nbformat": 4,
 "nbformat_minor": 4
}
