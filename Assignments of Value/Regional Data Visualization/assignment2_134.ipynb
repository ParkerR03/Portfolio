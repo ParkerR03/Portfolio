{
 "cells": [
  {
   "cell_type": "code",
   "execution_count": 1,
   "metadata": {
    "deletable": false,
    "editable": false
   },
   "outputs": [],
   "source": [
    "# Initialize Otter\n",
    "import otter\n",
    "grader = otter.Notebook(\"assignment2_134.ipynb\")"
   ]
  },
  {
   "cell_type": "markdown",
   "metadata": {},
   "source": [
    "# Assignment 2: Forest Fires\n",
    "**PSTAT 134 (Winter 2024)  \n",
    "Due Date: 02/11**\n",
    "\n",
    "## Collaboration Policy\n",
    "\n",
    "While you may talk with others about the homework, we ask that you **write your solutions individually**. If you do discuss the assignments with others please **include their names** at the top of your notebook.\n",
    "\n",
    "**Collaborators**: *list collaborators here*"
   ]
  },
  {
   "cell_type": "markdown",
   "metadata": {},
   "source": [
    "# Direction and Goal"
   ]
  },
  {
   "cell_type": "markdown",
   "metadata": {},
   "source": [
    "This assignment will focus on analyzing the data for forest fires in the United States from 1992 through 2020. The data we will be using is from the US Forest Service, which is part of the US Department of Agriculture. "
   ]
  },
  {
   "cell_type": "markdown",
   "metadata": {},
   "source": [
    "## Question 1: Data Processing"
   ]
  },
  {
   "cell_type": "markdown",
   "metadata": {},
   "source": [
    "First we will import the needed modules. We will use `pandas` for our data cleaning and analysis, `seaborn` for our plotting, and `geopandas`. `geopandas` may not be installed so, if not, uncomment the below line and run it."
   ]
  },
  {
   "cell_type": "code",
   "execution_count": 2,
   "metadata": {},
   "outputs": [
    {
     "name": "stdout",
     "output_type": "stream",
     "text": [
      "Requirement already satisfied: geopandas in /opt/conda/lib/python3.11/site-packages (0.14.3)\n",
      "Requirement already satisfied: fiona>=1.8.21 in /opt/conda/lib/python3.11/site-packages (from geopandas) (1.9.5)\n",
      "Requirement already satisfied: packaging in /opt/conda/lib/python3.11/site-packages (from geopandas) (23.1)\n",
      "Requirement already satisfied: pandas>=1.4.0 in /opt/conda/lib/python3.11/site-packages (from geopandas) (2.1.4)\n",
      "Requirement already satisfied: pyproj>=3.3.0 in /opt/conda/lib/python3.11/site-packages (from geopandas) (3.6.1)\n",
      "Requirement already satisfied: shapely>=1.8.0 in /opt/conda/lib/python3.11/site-packages (from geopandas) (2.0.2)\n",
      "Requirement already satisfied: attrs>=19.2.0 in /opt/conda/lib/python3.11/site-packages (from fiona>=1.8.21->geopandas) (23.1.0)\n",
      "Requirement already satisfied: certifi in /opt/conda/lib/python3.11/site-packages (from fiona>=1.8.21->geopandas) (2023.11.17)\n",
      "Requirement already satisfied: click~=8.0 in /opt/conda/lib/python3.11/site-packages (from fiona>=1.8.21->geopandas) (8.1.7)\n",
      "Requirement already satisfied: click-plugins>=1.0 in /opt/conda/lib/python3.11/site-packages (from fiona>=1.8.21->geopandas) (1.1.1)\n",
      "Requirement already satisfied: cligj>=0.5 in /opt/conda/lib/python3.11/site-packages (from fiona>=1.8.21->geopandas) (0.7.2)\n",
      "Requirement already satisfied: six in /opt/conda/lib/python3.11/site-packages (from fiona>=1.8.21->geopandas) (1.16.0)\n",
      "Requirement already satisfied: setuptools in /opt/conda/lib/python3.11/site-packages (from fiona>=1.8.21->geopandas) (68.2.2)\n",
      "Requirement already satisfied: numpy<2,>=1.23.2 in /opt/conda/lib/python3.11/site-packages (from pandas>=1.4.0->geopandas) (1.26.3)\n",
      "Requirement already satisfied: python-dateutil>=2.8.2 in /opt/conda/lib/python3.11/site-packages (from pandas>=1.4.0->geopandas) (2.8.2)\n",
      "Requirement already satisfied: pytz>=2020.1 in /opt/conda/lib/python3.11/site-packages (from pandas>=1.4.0->geopandas) (2023.3.post1)\n",
      "Requirement already satisfied: tzdata>=2022.1 in /opt/conda/lib/python3.11/site-packages (from pandas>=1.4.0->geopandas) (2023.4)\n",
      "Requirement already satisfied: pyarrow in /opt/conda/lib/python3.11/site-packages (15.0.0)\n",
      "Requirement already satisfied: numpy<2,>=1.16.6 in /opt/conda/lib/python3.11/site-packages (from pyarrow) (1.26.3)\n"
     ]
    }
   ],
   "source": [
    "!pip install geopandas\n",
    "!pip install pyarrow"
   ]
  },
  {
   "cell_type": "code",
   "execution_count": 3,
   "metadata": {},
   "outputs": [],
   "source": [
    "import pandas as pd\n",
    "import seaborn as sns\n",
    "import geopandas as geo"
   ]
  },
  {
   "cell_type": "markdown",
   "metadata": {
    "deletable": false,
    "editable": false
   },
   "source": [
    "## Question 1a: Read the data"
   ]
  },
  {
   "cell_type": "markdown",
   "metadata": {
    "deletable": false,
    "editable": false
   },
   "source": [
    "In the `data` folder, there is a file called `fires.parquet.gzip`. The `parquet` format is a very efficient file format for tabular type data that enables compression methods as well. Since the file we will be working with is very large(over 100 MB), it has been stored as a `parquet` binary file, compressed using `gzip`. Fortunately, `pandas` has a convenient method called `read_parquet()` that can read `parquet` files.ince the file is very large, storing it as a csv would entail taking up a lot of space. Each row in the  represents one fire that happened in the United States with info like the fire name, its year, the number of acres burned, etc.  Read the file using `read_parquet()` into a pandas `DataFrame` called `fires`."
   ]
  },
  {
   "cell_type": "code",
   "execution_count": 4,
   "metadata": {
    "tags": []
   },
   "outputs": [
    {
     "data": {
      "text/html": [
       "<div>\n",
       "<style scoped>\n",
       "    .dataframe tbody tr th:only-of-type {\n",
       "        vertical-align: middle;\n",
       "    }\n",
       "\n",
       "    .dataframe tbody tr th {\n",
       "        vertical-align: top;\n",
       "    }\n",
       "\n",
       "    .dataframe thead th {\n",
       "        text-align: right;\n",
       "    }\n",
       "</style>\n",
       "<table border=\"1\" class=\"dataframe\">\n",
       "  <thead>\n",
       "    <tr style=\"text-align: right;\">\n",
       "      <th></th>\n",
       "      <th>FIRE_NAME</th>\n",
       "      <th>FIRE_SIZE</th>\n",
       "      <th>STATE</th>\n",
       "      <th>LATITUDE</th>\n",
       "      <th>LONGITUDE</th>\n",
       "      <th>FIRE_YEAR</th>\n",
       "      <th>DISCOVERY_DATE</th>\n",
       "      <th>CONT_DATE</th>\n",
       "    </tr>\n",
       "  </thead>\n",
       "  <tbody>\n",
       "    <tr>\n",
       "      <th>0</th>\n",
       "      <td>FOUNTAIN</td>\n",
       "      <td>0.10</td>\n",
       "      <td>CA</td>\n",
       "      <td>40.036944</td>\n",
       "      <td>-121.005833</td>\n",
       "      <td>2005</td>\n",
       "      <td>2/2/2005</td>\n",
       "      <td>2/2/2005</td>\n",
       "    </tr>\n",
       "    <tr>\n",
       "      <th>1</th>\n",
       "      <td>PIGEON</td>\n",
       "      <td>0.25</td>\n",
       "      <td>CA</td>\n",
       "      <td>38.933056</td>\n",
       "      <td>-120.404444</td>\n",
       "      <td>2004</td>\n",
       "      <td>5/12/2004</td>\n",
       "      <td>5/12/2004</td>\n",
       "    </tr>\n",
       "    <tr>\n",
       "      <th>2</th>\n",
       "      <td>SLACK</td>\n",
       "      <td>0.10</td>\n",
       "      <td>CA</td>\n",
       "      <td>38.984167</td>\n",
       "      <td>-120.735556</td>\n",
       "      <td>2004</td>\n",
       "      <td>5/31/2004</td>\n",
       "      <td>5/31/2004</td>\n",
       "    </tr>\n",
       "    <tr>\n",
       "      <th>3</th>\n",
       "      <td>DEER</td>\n",
       "      <td>0.10</td>\n",
       "      <td>CA</td>\n",
       "      <td>38.559167</td>\n",
       "      <td>-119.913333</td>\n",
       "      <td>2004</td>\n",
       "      <td>6/28/2004</td>\n",
       "      <td>7/3/2004</td>\n",
       "    </tr>\n",
       "    <tr>\n",
       "      <th>4</th>\n",
       "      <td>STEVENOT</td>\n",
       "      <td>0.10</td>\n",
       "      <td>CA</td>\n",
       "      <td>38.559167</td>\n",
       "      <td>-119.933056</td>\n",
       "      <td>2004</td>\n",
       "      <td>6/28/2004</td>\n",
       "      <td>7/3/2004</td>\n",
       "    </tr>\n",
       "  </tbody>\n",
       "</table>\n",
       "</div>"
      ],
      "text/plain": [
       "  FIRE_NAME  FIRE_SIZE STATE   LATITUDE   LONGITUDE  FIRE_YEAR DISCOVERY_DATE  \\\n",
       "0  FOUNTAIN       0.10    CA  40.036944 -121.005833       2005       2/2/2005   \n",
       "1    PIGEON       0.25    CA  38.933056 -120.404444       2004      5/12/2004   \n",
       "2     SLACK       0.10    CA  38.984167 -120.735556       2004      5/31/2004   \n",
       "3      DEER       0.10    CA  38.559167 -119.913333       2004      6/28/2004   \n",
       "4  STEVENOT       0.10    CA  38.559167 -119.933056       2004      6/28/2004   \n",
       "\n",
       "   CONT_DATE  \n",
       "0   2/2/2005  \n",
       "1  5/12/2004  \n",
       "2  5/31/2004  \n",
       "3   7/3/2004  \n",
       "4   7/3/2004  "
      ]
     },
     "execution_count": 4,
     "metadata": {},
     "output_type": "execute_result"
    }
   ],
   "source": [
    "# Fill-in ...\n",
    "fires = pd.read_parquet('data/fires.parquet.gzip') # Replace ... with correct code\n",
    "fires.head()"
   ]
  },
  {
   "cell_type": "code",
   "execution_count": 5,
   "metadata": {
    "deletable": false,
    "editable": false
   },
   "outputs": [
    {
     "data": {
      "text/html": [
       "<p><strong><pre style='display: inline;'>q1a</pre></strong> passed! 💯</p>"
      ],
      "text/plain": [
       "q1a results: All test cases passed!"
      ]
     },
     "execution_count": 5,
     "metadata": {},
     "output_type": "execute_result"
    }
   ],
   "source": [
    "grader.check(\"q1a\")"
   ]
  },
  {
   "cell_type": "markdown",
   "metadata": {},
   "source": [
    "A handy method to initially examine the data is to use the `info()` method. It can tell us how many rows our data has, how much memory it takes up, and the names and data types of the columns. Notice the `memory_usage='deep'`. The purpose of this is to tell `pandas` to tell us the **true** memory taken up by the dataframe as by default, `pandas` only tells us how much space is taken up by references to objects contained in the dataframe and not necessarily the objects themselves"
   ]
  },
  {
   "cell_type": "code",
   "execution_count": 6,
   "metadata": {},
   "outputs": [
    {
     "name": "stdout",
     "output_type": "stream",
     "text": [
      "<class 'pandas.core.frame.DataFrame'>\n",
      "RangeIndex: 2303566 entries, 0 to 2303565\n",
      "Data columns (total 8 columns):\n",
      " #   Column          Dtype  \n",
      "---  ------          -----  \n",
      " 0   FIRE_NAME       object \n",
      " 1   FIRE_SIZE       float64\n",
      " 2   STATE           object \n",
      " 3   LATITUDE        float64\n",
      " 4   LONGITUDE       float64\n",
      " 5   FIRE_YEAR       int64  \n",
      " 6   DISCOVERY_DATE  object \n",
      " 7   CONT_DATE       object \n",
      "dtypes: float64(3), int64(1), object(4)\n",
      "memory usage: 562.9 MB\n"
     ]
    }
   ],
   "source": [
    "fires.info(memory_usage='deep')"
   ]
  },
  {
   "cell_type": "markdown",
   "metadata": {},
   "source": [
    "Another useful method is `describe()` which gives you summary statistics of all the numeric columns. We see "
   ]
  },
  {
   "cell_type": "code",
   "execution_count": 7,
   "metadata": {},
   "outputs": [
    {
     "data": {
      "text/html": [
       "<div>\n",
       "<style scoped>\n",
       "    .dataframe tbody tr th:only-of-type {\n",
       "        vertical-align: middle;\n",
       "    }\n",
       "\n",
       "    .dataframe tbody tr th {\n",
       "        vertical-align: top;\n",
       "    }\n",
       "\n",
       "    .dataframe thead th {\n",
       "        text-align: right;\n",
       "    }\n",
       "</style>\n",
       "<table border=\"1\" class=\"dataframe\">\n",
       "  <thead>\n",
       "    <tr style=\"text-align: right;\">\n",
       "      <th></th>\n",
       "      <th>count</th>\n",
       "      <th>mean</th>\n",
       "      <th>std</th>\n",
       "      <th>min</th>\n",
       "      <th>25%</th>\n",
       "      <th>50%</th>\n",
       "      <th>75%</th>\n",
       "      <th>max</th>\n",
       "    </tr>\n",
       "  </thead>\n",
       "  <tbody>\n",
       "    <tr>\n",
       "      <th>FIRE_SIZE</th>\n",
       "      <td>2303566.0</td>\n",
       "      <td>78.160876</td>\n",
       "      <td>2630.832485</td>\n",
       "      <td>0.000010</td>\n",
       "      <td>0.100000</td>\n",
       "      <td>0.80000</td>\n",
       "      <td>3.000000</td>\n",
       "      <td>662700.000000</td>\n",
       "    </tr>\n",
       "    <tr>\n",
       "      <th>LATITUDE</th>\n",
       "      <td>2303566.0</td>\n",
       "      <td>36.966233</td>\n",
       "      <td>6.008260</td>\n",
       "      <td>17.939722</td>\n",
       "      <td>33.013904</td>\n",
       "      <td>35.72250</td>\n",
       "      <td>40.890285</td>\n",
       "      <td>70.330600</td>\n",
       "    </tr>\n",
       "    <tr>\n",
       "      <th>LONGITUDE</th>\n",
       "      <td>2303566.0</td>\n",
       "      <td>-96.357920</td>\n",
       "      <td>16.643602</td>\n",
       "      <td>-178.802600</td>\n",
       "      <td>-111.036111</td>\n",
       "      <td>-93.47009</td>\n",
       "      <td>-82.510000</td>\n",
       "      <td>-65.256944</td>\n",
       "    </tr>\n",
       "    <tr>\n",
       "      <th>FIRE_YEAR</th>\n",
       "      <td>2303566.0</td>\n",
       "      <td>2006.166901</td>\n",
       "      <td>8.044361</td>\n",
       "      <td>1992.000000</td>\n",
       "      <td>2000.000000</td>\n",
       "      <td>2006.00000</td>\n",
       "      <td>2013.000000</td>\n",
       "      <td>2020.000000</td>\n",
       "    </tr>\n",
       "  </tbody>\n",
       "</table>\n",
       "</div>"
      ],
      "text/plain": [
       "               count         mean          std          min          25%  \\\n",
       "FIRE_SIZE  2303566.0    78.160876  2630.832485     0.000010     0.100000   \n",
       "LATITUDE   2303566.0    36.966233     6.008260    17.939722    33.013904   \n",
       "LONGITUDE  2303566.0   -96.357920    16.643602  -178.802600  -111.036111   \n",
       "FIRE_YEAR  2303566.0  2006.166901     8.044361  1992.000000  2000.000000   \n",
       "\n",
       "                  50%          75%            max  \n",
       "FIRE_SIZE     0.80000     3.000000  662700.000000  \n",
       "LATITUDE     35.72250    40.890285      70.330600  \n",
       "LONGITUDE   -93.47009   -82.510000     -65.256944  \n",
       "FIRE_YEAR  2006.00000  2013.000000    2020.000000  "
      ]
     },
     "execution_count": 7,
     "metadata": {},
     "output_type": "execute_result"
    }
   ],
   "source": [
    "fires.describe().T.head(4) # if you remove the "
   ]
  },
  {
   "cell_type": "code",
   "execution_count": 8,
   "metadata": {},
   "outputs": [
    {
     "data": {
      "text/plain": [
       "FIRE_NAME         964444\n",
       "FIRE_SIZE              0\n",
       "STATE                  0\n",
       "LATITUDE               0\n",
       "LONGITUDE              0\n",
       "FIRE_YEAR              0\n",
       "DISCOVERY_DATE         0\n",
       "CONT_DATE         894813\n",
       "dtype: int64"
      ]
     },
     "execution_count": 8,
     "metadata": {},
     "output_type": "execute_result"
    }
   ],
   "source": [
    "fires.isna().sum()"
   ]
  },
  {
   "cell_type": "markdown",
   "metadata": {},
   "source": [
    "## Question 1b: Clean the Data"
   ]
  },
  {
   "cell_type": "markdown",
   "metadata": {
    "deletable": false,
    "editable": false
   },
   "source": [
    "### Question 1b (i): LowerCase Column Names"
   ]
  },
  {
   "cell_type": "markdown",
   "metadata": {
    "deletable": false,
    "editable": false
   },
   "source": [
    "Convert all the column names to lowercase."
   ]
  },
  {
   "cell_type": "code",
   "execution_count": 9,
   "metadata": {
    "tags": []
   },
   "outputs": [
    {
     "data": {
      "text/html": [
       "<div>\n",
       "<style scoped>\n",
       "    .dataframe tbody tr th:only-of-type {\n",
       "        vertical-align: middle;\n",
       "    }\n",
       "\n",
       "    .dataframe tbody tr th {\n",
       "        vertical-align: top;\n",
       "    }\n",
       "\n",
       "    .dataframe thead th {\n",
       "        text-align: right;\n",
       "    }\n",
       "</style>\n",
       "<table border=\"1\" class=\"dataframe\">\n",
       "  <thead>\n",
       "    <tr style=\"text-align: right;\">\n",
       "      <th></th>\n",
       "      <th>fire_name</th>\n",
       "      <th>fire_size</th>\n",
       "      <th>state</th>\n",
       "      <th>latitude</th>\n",
       "      <th>longitude</th>\n",
       "      <th>fire_year</th>\n",
       "      <th>discovery_date</th>\n",
       "      <th>cont_date</th>\n",
       "    </tr>\n",
       "  </thead>\n",
       "  <tbody>\n",
       "    <tr>\n",
       "      <th>0</th>\n",
       "      <td>FOUNTAIN</td>\n",
       "      <td>0.10</td>\n",
       "      <td>CA</td>\n",
       "      <td>40.036944</td>\n",
       "      <td>-121.005833</td>\n",
       "      <td>2005</td>\n",
       "      <td>2/2/2005</td>\n",
       "      <td>2/2/2005</td>\n",
       "    </tr>\n",
       "    <tr>\n",
       "      <th>1</th>\n",
       "      <td>PIGEON</td>\n",
       "      <td>0.25</td>\n",
       "      <td>CA</td>\n",
       "      <td>38.933056</td>\n",
       "      <td>-120.404444</td>\n",
       "      <td>2004</td>\n",
       "      <td>5/12/2004</td>\n",
       "      <td>5/12/2004</td>\n",
       "    </tr>\n",
       "    <tr>\n",
       "      <th>2</th>\n",
       "      <td>SLACK</td>\n",
       "      <td>0.10</td>\n",
       "      <td>CA</td>\n",
       "      <td>38.984167</td>\n",
       "      <td>-120.735556</td>\n",
       "      <td>2004</td>\n",
       "      <td>5/31/2004</td>\n",
       "      <td>5/31/2004</td>\n",
       "    </tr>\n",
       "    <tr>\n",
       "      <th>3</th>\n",
       "      <td>DEER</td>\n",
       "      <td>0.10</td>\n",
       "      <td>CA</td>\n",
       "      <td>38.559167</td>\n",
       "      <td>-119.913333</td>\n",
       "      <td>2004</td>\n",
       "      <td>6/28/2004</td>\n",
       "      <td>7/3/2004</td>\n",
       "    </tr>\n",
       "    <tr>\n",
       "      <th>4</th>\n",
       "      <td>STEVENOT</td>\n",
       "      <td>0.10</td>\n",
       "      <td>CA</td>\n",
       "      <td>38.559167</td>\n",
       "      <td>-119.933056</td>\n",
       "      <td>2004</td>\n",
       "      <td>6/28/2004</td>\n",
       "      <td>7/3/2004</td>\n",
       "    </tr>\n",
       "  </tbody>\n",
       "</table>\n",
       "</div>"
      ],
      "text/plain": [
       "  fire_name  fire_size state   latitude   longitude  fire_year discovery_date  \\\n",
       "0  FOUNTAIN       0.10    CA  40.036944 -121.005833       2005       2/2/2005   \n",
       "1    PIGEON       0.25    CA  38.933056 -120.404444       2004      5/12/2004   \n",
       "2     SLACK       0.10    CA  38.984167 -120.735556       2004      5/31/2004   \n",
       "3      DEER       0.10    CA  38.559167 -119.913333       2004      6/28/2004   \n",
       "4  STEVENOT       0.10    CA  38.559167 -119.933056       2004      6/28/2004   \n",
       "\n",
       "   cont_date  \n",
       "0   2/2/2005  \n",
       "1  5/12/2004  \n",
       "2  5/31/2004  \n",
       "3   7/3/2004  \n",
       "4   7/3/2004  "
      ]
     },
     "execution_count": 9,
     "metadata": {},
     "output_type": "execute_result"
    }
   ],
   "source": [
    "# Fill-in ___\n",
    "fires.columns = fires.columns.str.lower() # Replace ___ with correct code\n",
    "fires.head()"
   ]
  },
  {
   "cell_type": "code",
   "execution_count": 10,
   "metadata": {
    "deletable": false,
    "editable": false
   },
   "outputs": [
    {
     "data": {
      "text/html": [
       "<p><strong><pre style='display: inline;'>q1bi</pre></strong> passed! 🎉</p>"
      ],
      "text/plain": [
       "q1bi results: All test cases passed!"
      ]
     },
     "execution_count": 10,
     "metadata": {},
     "output_type": "execute_result"
    }
   ],
   "source": [
    "grader.check(\"q1bi\")"
   ]
  },
  {
   "cell_type": "markdown",
   "metadata": {
    "deletable": false,
    "editable": false
   },
   "source": [
    "### Question 1b (ii): Rename Columns\n",
    "\n",
    "Rename the `fire_size` column to  `acres_burned` and `cont_date` to  `contains_date`"
   ]
  },
  {
   "cell_type": "code",
   "execution_count": 11,
   "metadata": {
    "tags": []
   },
   "outputs": [
    {
     "data": {
      "text/html": [
       "<div>\n",
       "<style scoped>\n",
       "    .dataframe tbody tr th:only-of-type {\n",
       "        vertical-align: middle;\n",
       "    }\n",
       "\n",
       "    .dataframe tbody tr th {\n",
       "        vertical-align: top;\n",
       "    }\n",
       "\n",
       "    .dataframe thead th {\n",
       "        text-align: right;\n",
       "    }\n",
       "</style>\n",
       "<table border=\"1\" class=\"dataframe\">\n",
       "  <thead>\n",
       "    <tr style=\"text-align: right;\">\n",
       "      <th></th>\n",
       "      <th>fire_name</th>\n",
       "      <th>acres_burned</th>\n",
       "      <th>state</th>\n",
       "      <th>latitude</th>\n",
       "      <th>longitude</th>\n",
       "      <th>fire_year</th>\n",
       "      <th>discovery_date</th>\n",
       "      <th>contain_date</th>\n",
       "    </tr>\n",
       "  </thead>\n",
       "  <tbody>\n",
       "    <tr>\n",
       "      <th>0</th>\n",
       "      <td>FOUNTAIN</td>\n",
       "      <td>0.10</td>\n",
       "      <td>CA</td>\n",
       "      <td>40.036944</td>\n",
       "      <td>-121.005833</td>\n",
       "      <td>2005</td>\n",
       "      <td>2/2/2005</td>\n",
       "      <td>2/2/2005</td>\n",
       "    </tr>\n",
       "    <tr>\n",
       "      <th>1</th>\n",
       "      <td>PIGEON</td>\n",
       "      <td>0.25</td>\n",
       "      <td>CA</td>\n",
       "      <td>38.933056</td>\n",
       "      <td>-120.404444</td>\n",
       "      <td>2004</td>\n",
       "      <td>5/12/2004</td>\n",
       "      <td>5/12/2004</td>\n",
       "    </tr>\n",
       "    <tr>\n",
       "      <th>2</th>\n",
       "      <td>SLACK</td>\n",
       "      <td>0.10</td>\n",
       "      <td>CA</td>\n",
       "      <td>38.984167</td>\n",
       "      <td>-120.735556</td>\n",
       "      <td>2004</td>\n",
       "      <td>5/31/2004</td>\n",
       "      <td>5/31/2004</td>\n",
       "    </tr>\n",
       "    <tr>\n",
       "      <th>3</th>\n",
       "      <td>DEER</td>\n",
       "      <td>0.10</td>\n",
       "      <td>CA</td>\n",
       "      <td>38.559167</td>\n",
       "      <td>-119.913333</td>\n",
       "      <td>2004</td>\n",
       "      <td>6/28/2004</td>\n",
       "      <td>7/3/2004</td>\n",
       "    </tr>\n",
       "    <tr>\n",
       "      <th>4</th>\n",
       "      <td>STEVENOT</td>\n",
       "      <td>0.10</td>\n",
       "      <td>CA</td>\n",
       "      <td>38.559167</td>\n",
       "      <td>-119.933056</td>\n",
       "      <td>2004</td>\n",
       "      <td>6/28/2004</td>\n",
       "      <td>7/3/2004</td>\n",
       "    </tr>\n",
       "  </tbody>\n",
       "</table>\n",
       "</div>"
      ],
      "text/plain": [
       "  fire_name  acres_burned state   latitude   longitude  fire_year  \\\n",
       "0  FOUNTAIN          0.10    CA  40.036944 -121.005833       2005   \n",
       "1    PIGEON          0.25    CA  38.933056 -120.404444       2004   \n",
       "2     SLACK          0.10    CA  38.984167 -120.735556       2004   \n",
       "3      DEER          0.10    CA  38.559167 -119.913333       2004   \n",
       "4  STEVENOT          0.10    CA  38.559167 -119.933056       2004   \n",
       "\n",
       "  discovery_date contain_date  \n",
       "0       2/2/2005     2/2/2005  \n",
       "1      5/12/2004    5/12/2004  \n",
       "2      5/31/2004    5/31/2004  \n",
       "3      6/28/2004     7/3/2004  \n",
       "4      6/28/2004     7/3/2004  "
      ]
     },
     "execution_count": 11,
     "metadata": {},
     "output_type": "execute_result"
    }
   ],
   "source": [
    "# Fill-in ...\n",
    "fires = fires.rename(columns = {'fire_size': 'acres_burned', 'cont_date': 'contain_date'}) # Replace ... with correct code\n",
    "fires.head()"
   ]
  },
  {
   "cell_type": "code",
   "execution_count": 12,
   "metadata": {
    "deletable": false,
    "editable": false
   },
   "outputs": [
    {
     "data": {
      "text/html": [
       "<p><strong><pre style='display: inline;'>q1bii</pre></strong> passed! 🍀</p>"
      ],
      "text/plain": [
       "q1bii results: All test cases passed!"
      ]
     },
     "execution_count": 12,
     "metadata": {},
     "output_type": "execute_result"
    }
   ],
   "source": [
    "grader.check(\"q1bii\")"
   ]
  },
  {
   "cell_type": "code",
   "execution_count": 13,
   "metadata": {},
   "outputs": [],
   "source": [
    "# The previous test has a typo so I rename the variable after the test to pass it.\n",
    "fires = fires.rename(columns = {'contain_date': 'contains_date'})"
   ]
  },
  {
   "cell_type": "markdown",
   "metadata": {
    "deletable": false,
    "editable": false
   },
   "source": [
    "### Question 1b (iii): Subset Data\n",
    "\n",
    "In large datasets, it is always wise to consider whether some rows can be removed. We have over 2 million rows and many of these rows are for small fires that are not going to enhance our analysis. Thus, for this analysis, we will focus only on fires that burned at least 10 acres. "
   ]
  },
  {
   "cell_type": "code",
   "execution_count": 14,
   "metadata": {
    "tags": []
   },
   "outputs": [
    {
     "data": {
      "text/html": [
       "<div>\n",
       "<style scoped>\n",
       "    .dataframe tbody tr th:only-of-type {\n",
       "        vertical-align: middle;\n",
       "    }\n",
       "\n",
       "    .dataframe tbody tr th {\n",
       "        vertical-align: top;\n",
       "    }\n",
       "\n",
       "    .dataframe thead th {\n",
       "        text-align: right;\n",
       "    }\n",
       "</style>\n",
       "<table border=\"1\" class=\"dataframe\">\n",
       "  <thead>\n",
       "    <tr style=\"text-align: right;\">\n",
       "      <th></th>\n",
       "      <th>fire_name</th>\n",
       "      <th>acres_burned</th>\n",
       "      <th>state</th>\n",
       "      <th>latitude</th>\n",
       "      <th>longitude</th>\n",
       "      <th>fire_year</th>\n",
       "      <th>discovery_date</th>\n",
       "      <th>contains_date</th>\n",
       "    </tr>\n",
       "  </thead>\n",
       "  <tbody>\n",
       "    <tr>\n",
       "      <th>1349801</th>\n",
       "      <td>None</td>\n",
       "      <td>14.0</td>\n",
       "      <td>NY</td>\n",
       "      <td>42.223532</td>\n",
       "      <td>-73.687350</td>\n",
       "      <td>1997</td>\n",
       "      <td>2/26/1997</td>\n",
       "      <td>None</td>\n",
       "    </tr>\n",
       "    <tr>\n",
       "      <th>1370421</th>\n",
       "      <td>None</td>\n",
       "      <td>15.0</td>\n",
       "      <td>CT</td>\n",
       "      <td>41.279541</td>\n",
       "      <td>-72.815099</td>\n",
       "      <td>2000</td>\n",
       "      <td>3/6/2000</td>\n",
       "      <td>None</td>\n",
       "    </tr>\n",
       "    <tr>\n",
       "      <th>1431032</th>\n",
       "      <td>None</td>\n",
       "      <td>30.0</td>\n",
       "      <td>AL</td>\n",
       "      <td>32.640810</td>\n",
       "      <td>-86.837740</td>\n",
       "      <td>1995</td>\n",
       "      <td>7/20/1995</td>\n",
       "      <td>None</td>\n",
       "    </tr>\n",
       "    <tr>\n",
       "      <th>1450567</th>\n",
       "      <td>None</td>\n",
       "      <td>40.0</td>\n",
       "      <td>MO</td>\n",
       "      <td>36.764580</td>\n",
       "      <td>-93.871070</td>\n",
       "      <td>2001</td>\n",
       "      <td>3/23/2001</td>\n",
       "      <td>None</td>\n",
       "    </tr>\n",
       "    <tr>\n",
       "      <th>1699177</th>\n",
       "      <td>None</td>\n",
       "      <td>15.0</td>\n",
       "      <td>PR</td>\n",
       "      <td>17.983538</td>\n",
       "      <td>-66.084427</td>\n",
       "      <td>2003</td>\n",
       "      <td>2/3/2003</td>\n",
       "      <td>None</td>\n",
       "    </tr>\n",
       "    <tr>\n",
       "      <th>1699271</th>\n",
       "      <td>None</td>\n",
       "      <td>10.0</td>\n",
       "      <td>PR</td>\n",
       "      <td>18.061184</td>\n",
       "      <td>-66.895203</td>\n",
       "      <td>2003</td>\n",
       "      <td>2/15/2003</td>\n",
       "      <td>None</td>\n",
       "    </tr>\n",
       "    <tr>\n",
       "      <th>1700335</th>\n",
       "      <td>None</td>\n",
       "      <td>10.0</td>\n",
       "      <td>PR</td>\n",
       "      <td>18.153349</td>\n",
       "      <td>-66.476265</td>\n",
       "      <td>2003</td>\n",
       "      <td>3/11/2003</td>\n",
       "      <td>None</td>\n",
       "    </tr>\n",
       "    <tr>\n",
       "      <th>1701983</th>\n",
       "      <td>None</td>\n",
       "      <td>10.0</td>\n",
       "      <td>PR</td>\n",
       "      <td>18.009628</td>\n",
       "      <td>-66.359695</td>\n",
       "      <td>2003</td>\n",
       "      <td>7/10/2003</td>\n",
       "      <td>None</td>\n",
       "    </tr>\n",
       "    <tr>\n",
       "      <th>1703596</th>\n",
       "      <td>None</td>\n",
       "      <td>25.0</td>\n",
       "      <td>PR</td>\n",
       "      <td>17.985920</td>\n",
       "      <td>-66.415642</td>\n",
       "      <td>2004</td>\n",
       "      <td>4/29/2004</td>\n",
       "      <td>None</td>\n",
       "    </tr>\n",
       "    <tr>\n",
       "      <th>1703753</th>\n",
       "      <td>None</td>\n",
       "      <td>50.0</td>\n",
       "      <td>PR</td>\n",
       "      <td>18.050814</td>\n",
       "      <td>-66.354919</td>\n",
       "      <td>2004</td>\n",
       "      <td>6/26/2004</td>\n",
       "      <td>None</td>\n",
       "    </tr>\n",
       "    <tr>\n",
       "      <th>1703784</th>\n",
       "      <td>None</td>\n",
       "      <td>20.0</td>\n",
       "      <td>PR</td>\n",
       "      <td>17.993565</td>\n",
       "      <td>-66.386131</td>\n",
       "      <td>2004</td>\n",
       "      <td>7/5/2004</td>\n",
       "      <td>None</td>\n",
       "    </tr>\n",
       "    <tr>\n",
       "      <th>1704302</th>\n",
       "      <td>None</td>\n",
       "      <td>50.0</td>\n",
       "      <td>PR</td>\n",
       "      <td>17.970539</td>\n",
       "      <td>-66.246414</td>\n",
       "      <td>2005</td>\n",
       "      <td>1/3/2005</td>\n",
       "      <td>None</td>\n",
       "    </tr>\n",
       "    <tr>\n",
       "      <th>1704614</th>\n",
       "      <td>None</td>\n",
       "      <td>15.0</td>\n",
       "      <td>PR</td>\n",
       "      <td>18.057589</td>\n",
       "      <td>-66.798042</td>\n",
       "      <td>2005</td>\n",
       "      <td>2/1/2005</td>\n",
       "      <td>None</td>\n",
       "    </tr>\n",
       "    <tr>\n",
       "      <th>1704773</th>\n",
       "      <td>None</td>\n",
       "      <td>10.0</td>\n",
       "      <td>PR</td>\n",
       "      <td>17.956533</td>\n",
       "      <td>-66.121941</td>\n",
       "      <td>2005</td>\n",
       "      <td>2/5/2005</td>\n",
       "      <td>None</td>\n",
       "    </tr>\n",
       "    <tr>\n",
       "      <th>1704888</th>\n",
       "      <td>None</td>\n",
       "      <td>10.0</td>\n",
       "      <td>PR</td>\n",
       "      <td>17.983538</td>\n",
       "      <td>-66.084427</td>\n",
       "      <td>2005</td>\n",
       "      <td>2/9/2005</td>\n",
       "      <td>None</td>\n",
       "    </tr>\n",
       "    <tr>\n",
       "      <th>1705127</th>\n",
       "      <td>None</td>\n",
       "      <td>30.0</td>\n",
       "      <td>PR</td>\n",
       "      <td>18.119143</td>\n",
       "      <td>-67.060432</td>\n",
       "      <td>2005</td>\n",
       "      <td>2/16/2005</td>\n",
       "      <td>None</td>\n",
       "    </tr>\n",
       "    <tr>\n",
       "      <th>1705771</th>\n",
       "      <td>None</td>\n",
       "      <td>10.0</td>\n",
       "      <td>PR</td>\n",
       "      <td>18.063969</td>\n",
       "      <td>-66.877960</td>\n",
       "      <td>2005</td>\n",
       "      <td>2/28/2005</td>\n",
       "      <td>None</td>\n",
       "    </tr>\n",
       "    <tr>\n",
       "      <th>1705859</th>\n",
       "      <td>None</td>\n",
       "      <td>50.0</td>\n",
       "      <td>PR</td>\n",
       "      <td>18.119322</td>\n",
       "      <td>-65.417709</td>\n",
       "      <td>2005</td>\n",
       "      <td>3/2/2005</td>\n",
       "      <td>None</td>\n",
       "    </tr>\n",
       "    <tr>\n",
       "      <th>1706009</th>\n",
       "      <td>None</td>\n",
       "      <td>10.0</td>\n",
       "      <td>PR</td>\n",
       "      <td>17.993565</td>\n",
       "      <td>-66.386131</td>\n",
       "      <td>2005</td>\n",
       "      <td>3/5/2005</td>\n",
       "      <td>None</td>\n",
       "    </tr>\n",
       "    <tr>\n",
       "      <th>1706432</th>\n",
       "      <td>None</td>\n",
       "      <td>10.0</td>\n",
       "      <td>PR</td>\n",
       "      <td>18.006666</td>\n",
       "      <td>-66.308388</td>\n",
       "      <td>2005</td>\n",
       "      <td>3/12/2005</td>\n",
       "      <td>None</td>\n",
       "    </tr>\n",
       "    <tr>\n",
       "      <th>1706893</th>\n",
       "      <td>None</td>\n",
       "      <td>20.0</td>\n",
       "      <td>PR</td>\n",
       "      <td>18.091257</td>\n",
       "      <td>-65.812027</td>\n",
       "      <td>2005</td>\n",
       "      <td>3/19/2005</td>\n",
       "      <td>None</td>\n",
       "    </tr>\n",
       "    <tr>\n",
       "      <th>1707133</th>\n",
       "      <td>None</td>\n",
       "      <td>15.0</td>\n",
       "      <td>PR</td>\n",
       "      <td>18.119322</td>\n",
       "      <td>-65.417709</td>\n",
       "      <td>2005</td>\n",
       "      <td>3/22/2005</td>\n",
       "      <td>None</td>\n",
       "    </tr>\n",
       "    <tr>\n",
       "      <th>1707636</th>\n",
       "      <td>None</td>\n",
       "      <td>10.0</td>\n",
       "      <td>PR</td>\n",
       "      <td>18.332642</td>\n",
       "      <td>-67.018456</td>\n",
       "      <td>2005</td>\n",
       "      <td>3/28/2005</td>\n",
       "      <td>None</td>\n",
       "    </tr>\n",
       "    <tr>\n",
       "      <th>1707979</th>\n",
       "      <td>None</td>\n",
       "      <td>50.0</td>\n",
       "      <td>PR</td>\n",
       "      <td>18.195486</td>\n",
       "      <td>-65.700462</td>\n",
       "      <td>2005</td>\n",
       "      <td>4/4/2005</td>\n",
       "      <td>None</td>\n",
       "    </tr>\n",
       "    <tr>\n",
       "      <th>1709411</th>\n",
       "      <td>None</td>\n",
       "      <td>20.0</td>\n",
       "      <td>PR</td>\n",
       "      <td>17.970539</td>\n",
       "      <td>-66.246414</td>\n",
       "      <td>2006</td>\n",
       "      <td>2/24/2006</td>\n",
       "      <td>None</td>\n",
       "    </tr>\n",
       "    <tr>\n",
       "      <th>1711074</th>\n",
       "      <td>None</td>\n",
       "      <td>10.0</td>\n",
       "      <td>PR</td>\n",
       "      <td>18.006666</td>\n",
       "      <td>-66.308388</td>\n",
       "      <td>2007</td>\n",
       "      <td>1/4/2007</td>\n",
       "      <td>None</td>\n",
       "    </tr>\n",
       "    <tr>\n",
       "      <th>1711098</th>\n",
       "      <td>None</td>\n",
       "      <td>10.0</td>\n",
       "      <td>PR</td>\n",
       "      <td>17.993565</td>\n",
       "      <td>-66.386131</td>\n",
       "      <td>2007</td>\n",
       "      <td>1/5/2007</td>\n",
       "      <td>None</td>\n",
       "    </tr>\n",
       "    <tr>\n",
       "      <th>1711221</th>\n",
       "      <td>None</td>\n",
       "      <td>20.0</td>\n",
       "      <td>PR</td>\n",
       "      <td>18.016670</td>\n",
       "      <td>-66.451408</td>\n",
       "      <td>2007</td>\n",
       "      <td>1/12/2007</td>\n",
       "      <td>None</td>\n",
       "    </tr>\n",
       "    <tr>\n",
       "      <th>1711333</th>\n",
       "      <td>None</td>\n",
       "      <td>20.0</td>\n",
       "      <td>PR</td>\n",
       "      <td>18.057226</td>\n",
       "      <td>-66.406883</td>\n",
       "      <td>2007</td>\n",
       "      <td>1/17/2007</td>\n",
       "      <td>None</td>\n",
       "    </tr>\n",
       "    <tr>\n",
       "      <th>1711480</th>\n",
       "      <td>None</td>\n",
       "      <td>15.0</td>\n",
       "      <td>PR</td>\n",
       "      <td>17.998768</td>\n",
       "      <td>-66.168312</td>\n",
       "      <td>2007</td>\n",
       "      <td>1/23/2007</td>\n",
       "      <td>None</td>\n",
       "    </tr>\n",
       "    <tr>\n",
       "      <th>1711483</th>\n",
       "      <td>None</td>\n",
       "      <td>10.0</td>\n",
       "      <td>PR</td>\n",
       "      <td>17.970539</td>\n",
       "      <td>-66.246414</td>\n",
       "      <td>2007</td>\n",
       "      <td>1/23/2007</td>\n",
       "      <td>None</td>\n",
       "    </tr>\n",
       "    <tr>\n",
       "      <th>1711534</th>\n",
       "      <td>None</td>\n",
       "      <td>80.0</td>\n",
       "      <td>PR</td>\n",
       "      <td>17.970539</td>\n",
       "      <td>-66.246414</td>\n",
       "      <td>2007</td>\n",
       "      <td>1/25/2007</td>\n",
       "      <td>None</td>\n",
       "    </tr>\n",
       "    <tr>\n",
       "      <th>1711652</th>\n",
       "      <td>None</td>\n",
       "      <td>10.0</td>\n",
       "      <td>PR</td>\n",
       "      <td>18.036682</td>\n",
       "      <td>-66.254295</td>\n",
       "      <td>2007</td>\n",
       "      <td>1/28/2007</td>\n",
       "      <td>None</td>\n",
       "    </tr>\n",
       "    <tr>\n",
       "      <th>1711851</th>\n",
       "      <td>None</td>\n",
       "      <td>10.0</td>\n",
       "      <td>PR</td>\n",
       "      <td>18.051044</td>\n",
       "      <td>-66.694656</td>\n",
       "      <td>2007</td>\n",
       "      <td>2/1/2007</td>\n",
       "      <td>None</td>\n",
       "    </tr>\n",
       "    <tr>\n",
       "      <th>1712665</th>\n",
       "      <td>None</td>\n",
       "      <td>10.0</td>\n",
       "      <td>PR</td>\n",
       "      <td>18.008783</td>\n",
       "      <td>-66.891083</td>\n",
       "      <td>2007</td>\n",
       "      <td>2/14/2007</td>\n",
       "      <td>None</td>\n",
       "    </tr>\n",
       "    <tr>\n",
       "      <th>1715608</th>\n",
       "      <td>None</td>\n",
       "      <td>10.0</td>\n",
       "      <td>PR</td>\n",
       "      <td>17.983538</td>\n",
       "      <td>-66.084427</td>\n",
       "      <td>2009</td>\n",
       "      <td>4/8/2009</td>\n",
       "      <td>None</td>\n",
       "    </tr>\n",
       "    <tr>\n",
       "      <th>1716251</th>\n",
       "      <td>None</td>\n",
       "      <td>10.0</td>\n",
       "      <td>PR</td>\n",
       "      <td>18.475163</td>\n",
       "      <td>-66.555565</td>\n",
       "      <td>2009</td>\n",
       "      <td>10/24/2009</td>\n",
       "      <td>None</td>\n",
       "    </tr>\n",
       "    <tr>\n",
       "      <th>1716798</th>\n",
       "      <td>None</td>\n",
       "      <td>15.0</td>\n",
       "      <td>PR</td>\n",
       "      <td>17.993565</td>\n",
       "      <td>-66.386131</td>\n",
       "      <td>2010</td>\n",
       "      <td>2/15/2010</td>\n",
       "      <td>None</td>\n",
       "    </tr>\n",
       "    <tr>\n",
       "      <th>1718087</th>\n",
       "      <td>None</td>\n",
       "      <td>10.0</td>\n",
       "      <td>PR</td>\n",
       "      <td>18.050814</td>\n",
       "      <td>-66.354919</td>\n",
       "      <td>2010</td>\n",
       "      <td>12/24/2010</td>\n",
       "      <td>None</td>\n",
       "    </tr>\n",
       "    <tr>\n",
       "      <th>1718300</th>\n",
       "      <td>None</td>\n",
       "      <td>50.0</td>\n",
       "      <td>PR</td>\n",
       "      <td>18.053959</td>\n",
       "      <td>-66.448174</td>\n",
       "      <td>2011</td>\n",
       "      <td>1/17/2011</td>\n",
       "      <td>None</td>\n",
       "    </tr>\n",
       "    <tr>\n",
       "      <th>1718377</th>\n",
       "      <td>None</td>\n",
       "      <td>10.0</td>\n",
       "      <td>PR</td>\n",
       "      <td>18.061184</td>\n",
       "      <td>-66.895203</td>\n",
       "      <td>2011</td>\n",
       "      <td>1/20/2011</td>\n",
       "      <td>None</td>\n",
       "    </tr>\n",
       "    <tr>\n",
       "      <th>1718425</th>\n",
       "      <td>None</td>\n",
       "      <td>20.0</td>\n",
       "      <td>PR</td>\n",
       "      <td>18.002171</td>\n",
       "      <td>-67.177948</td>\n",
       "      <td>2011</td>\n",
       "      <td>1/22/2011</td>\n",
       "      <td>None</td>\n",
       "    </tr>\n",
       "    <tr>\n",
       "      <th>1718701</th>\n",
       "      <td>None</td>\n",
       "      <td>10.0</td>\n",
       "      <td>PR</td>\n",
       "      <td>18.142918</td>\n",
       "      <td>-66.590668</td>\n",
       "      <td>2011</td>\n",
       "      <td>2/2/2011</td>\n",
       "      <td>None</td>\n",
       "    </tr>\n",
       "    <tr>\n",
       "      <th>1719115</th>\n",
       "      <td>None</td>\n",
       "      <td>10.0</td>\n",
       "      <td>PR</td>\n",
       "      <td>18.070255</td>\n",
       "      <td>-66.854874</td>\n",
       "      <td>2011</td>\n",
       "      <td>2/12/2011</td>\n",
       "      <td>None</td>\n",
       "    </tr>\n",
       "    <tr>\n",
       "      <th>1720040</th>\n",
       "      <td>None</td>\n",
       "      <td>10.0</td>\n",
       "      <td>PR</td>\n",
       "      <td>18.057226</td>\n",
       "      <td>-66.406883</td>\n",
       "      <td>2011</td>\n",
       "      <td>4/1/2011</td>\n",
       "      <td>None</td>\n",
       "    </tr>\n",
       "    <tr>\n",
       "      <th>1842422</th>\n",
       "      <td>None</td>\n",
       "      <td>12.0</td>\n",
       "      <td>MA</td>\n",
       "      <td>42.201056</td>\n",
       "      <td>-72.640495</td>\n",
       "      <td>2015</td>\n",
       "      <td>5/15/2015</td>\n",
       "      <td>5/15/2015</td>\n",
       "    </tr>\n",
       "    <tr>\n",
       "      <th>1860331</th>\n",
       "      <td>None</td>\n",
       "      <td>10.0</td>\n",
       "      <td>HI</td>\n",
       "      <td>21.497620</td>\n",
       "      <td>-158.187042</td>\n",
       "      <td>1992</td>\n",
       "      <td>9/7/1992</td>\n",
       "      <td>None</td>\n",
       "    </tr>\n",
       "    <tr>\n",
       "      <th>2027536</th>\n",
       "      <td>None</td>\n",
       "      <td>16.0</td>\n",
       "      <td>CA</td>\n",
       "      <td>37.868425</td>\n",
       "      <td>-122.125128</td>\n",
       "      <td>2017</td>\n",
       "      <td>6/19/2017</td>\n",
       "      <td>None</td>\n",
       "    </tr>\n",
       "    <tr>\n",
       "      <th>2028477</th>\n",
       "      <td>None</td>\n",
       "      <td>100.0</td>\n",
       "      <td>CA</td>\n",
       "      <td>36.990848</td>\n",
       "      <td>-121.598476</td>\n",
       "      <td>2017</td>\n",
       "      <td>9/3/2017</td>\n",
       "      <td>None</td>\n",
       "    </tr>\n",
       "    <tr>\n",
       "      <th>2196433</th>\n",
       "      <td>None</td>\n",
       "      <td>41.0</td>\n",
       "      <td>CA</td>\n",
       "      <td>37.582904</td>\n",
       "      <td>-121.585341</td>\n",
       "      <td>2019</td>\n",
       "      <td>10/24/2019</td>\n",
       "      <td>None</td>\n",
       "    </tr>\n",
       "    <tr>\n",
       "      <th>2256648</th>\n",
       "      <td>None</td>\n",
       "      <td>10.0</td>\n",
       "      <td>AR</td>\n",
       "      <td>36.380540</td>\n",
       "      <td>-93.965760</td>\n",
       "      <td>2020</td>\n",
       "      <td>11/13/2020</td>\n",
       "      <td>None</td>\n",
       "    </tr>\n",
       "  </tbody>\n",
       "</table>\n",
       "</div>"
      ],
      "text/plain": [
       "        fire_name  acres_burned state   latitude   longitude  fire_year  \\\n",
       "1349801      None          14.0    NY  42.223532  -73.687350       1997   \n",
       "1370421      None          15.0    CT  41.279541  -72.815099       2000   \n",
       "1431032      None          30.0    AL  32.640810  -86.837740       1995   \n",
       "1450567      None          40.0    MO  36.764580  -93.871070       2001   \n",
       "1699177      None          15.0    PR  17.983538  -66.084427       2003   \n",
       "1699271      None          10.0    PR  18.061184  -66.895203       2003   \n",
       "1700335      None          10.0    PR  18.153349  -66.476265       2003   \n",
       "1701983      None          10.0    PR  18.009628  -66.359695       2003   \n",
       "1703596      None          25.0    PR  17.985920  -66.415642       2004   \n",
       "1703753      None          50.0    PR  18.050814  -66.354919       2004   \n",
       "1703784      None          20.0    PR  17.993565  -66.386131       2004   \n",
       "1704302      None          50.0    PR  17.970539  -66.246414       2005   \n",
       "1704614      None          15.0    PR  18.057589  -66.798042       2005   \n",
       "1704773      None          10.0    PR  17.956533  -66.121941       2005   \n",
       "1704888      None          10.0    PR  17.983538  -66.084427       2005   \n",
       "1705127      None          30.0    PR  18.119143  -67.060432       2005   \n",
       "1705771      None          10.0    PR  18.063969  -66.877960       2005   \n",
       "1705859      None          50.0    PR  18.119322  -65.417709       2005   \n",
       "1706009      None          10.0    PR  17.993565  -66.386131       2005   \n",
       "1706432      None          10.0    PR  18.006666  -66.308388       2005   \n",
       "1706893      None          20.0    PR  18.091257  -65.812027       2005   \n",
       "1707133      None          15.0    PR  18.119322  -65.417709       2005   \n",
       "1707636      None          10.0    PR  18.332642  -67.018456       2005   \n",
       "1707979      None          50.0    PR  18.195486  -65.700462       2005   \n",
       "1709411      None          20.0    PR  17.970539  -66.246414       2006   \n",
       "1711074      None          10.0    PR  18.006666  -66.308388       2007   \n",
       "1711098      None          10.0    PR  17.993565  -66.386131       2007   \n",
       "1711221      None          20.0    PR  18.016670  -66.451408       2007   \n",
       "1711333      None          20.0    PR  18.057226  -66.406883       2007   \n",
       "1711480      None          15.0    PR  17.998768  -66.168312       2007   \n",
       "1711483      None          10.0    PR  17.970539  -66.246414       2007   \n",
       "1711534      None          80.0    PR  17.970539  -66.246414       2007   \n",
       "1711652      None          10.0    PR  18.036682  -66.254295       2007   \n",
       "1711851      None          10.0    PR  18.051044  -66.694656       2007   \n",
       "1712665      None          10.0    PR  18.008783  -66.891083       2007   \n",
       "1715608      None          10.0    PR  17.983538  -66.084427       2009   \n",
       "1716251      None          10.0    PR  18.475163  -66.555565       2009   \n",
       "1716798      None          15.0    PR  17.993565  -66.386131       2010   \n",
       "1718087      None          10.0    PR  18.050814  -66.354919       2010   \n",
       "1718300      None          50.0    PR  18.053959  -66.448174       2011   \n",
       "1718377      None          10.0    PR  18.061184  -66.895203       2011   \n",
       "1718425      None          20.0    PR  18.002171  -67.177948       2011   \n",
       "1718701      None          10.0    PR  18.142918  -66.590668       2011   \n",
       "1719115      None          10.0    PR  18.070255  -66.854874       2011   \n",
       "1720040      None          10.0    PR  18.057226  -66.406883       2011   \n",
       "1842422      None          12.0    MA  42.201056  -72.640495       2015   \n",
       "1860331      None          10.0    HI  21.497620 -158.187042       1992   \n",
       "2027536      None          16.0    CA  37.868425 -122.125128       2017   \n",
       "2028477      None         100.0    CA  36.990848 -121.598476       2017   \n",
       "2196433      None          41.0    CA  37.582904 -121.585341       2019   \n",
       "2256648      None          10.0    AR  36.380540  -93.965760       2020   \n",
       "\n",
       "        discovery_date contains_date  \n",
       "1349801      2/26/1997          None  \n",
       "1370421       3/6/2000          None  \n",
       "1431032      7/20/1995          None  \n",
       "1450567      3/23/2001          None  \n",
       "1699177       2/3/2003          None  \n",
       "1699271      2/15/2003          None  \n",
       "1700335      3/11/2003          None  \n",
       "1701983      7/10/2003          None  \n",
       "1703596      4/29/2004          None  \n",
       "1703753      6/26/2004          None  \n",
       "1703784       7/5/2004          None  \n",
       "1704302       1/3/2005          None  \n",
       "1704614       2/1/2005          None  \n",
       "1704773       2/5/2005          None  \n",
       "1704888       2/9/2005          None  \n",
       "1705127      2/16/2005          None  \n",
       "1705771      2/28/2005          None  \n",
       "1705859       3/2/2005          None  \n",
       "1706009       3/5/2005          None  \n",
       "1706432      3/12/2005          None  \n",
       "1706893      3/19/2005          None  \n",
       "1707133      3/22/2005          None  \n",
       "1707636      3/28/2005          None  \n",
       "1707979       4/4/2005          None  \n",
       "1709411      2/24/2006          None  \n",
       "1711074       1/4/2007          None  \n",
       "1711098       1/5/2007          None  \n",
       "1711221      1/12/2007          None  \n",
       "1711333      1/17/2007          None  \n",
       "1711480      1/23/2007          None  \n",
       "1711483      1/23/2007          None  \n",
       "1711534      1/25/2007          None  \n",
       "1711652      1/28/2007          None  \n",
       "1711851       2/1/2007          None  \n",
       "1712665      2/14/2007          None  \n",
       "1715608       4/8/2009          None  \n",
       "1716251     10/24/2009          None  \n",
       "1716798      2/15/2010          None  \n",
       "1718087     12/24/2010          None  \n",
       "1718300      1/17/2011          None  \n",
       "1718377      1/20/2011          None  \n",
       "1718425      1/22/2011          None  \n",
       "1718701       2/2/2011          None  \n",
       "1719115      2/12/2011          None  \n",
       "1720040       4/1/2011          None  \n",
       "1842422      5/15/2015     5/15/2015  \n",
       "1860331       9/7/1992          None  \n",
       "2027536      6/19/2017          None  \n",
       "2028477       9/3/2017          None  \n",
       "2196433     10/24/2019          None  \n",
       "2256648     11/13/2020          None  "
      ]
     },
     "execution_count": 14,
     "metadata": {},
     "output_type": "execute_result"
    }
   ],
   "source": [
    "\n",
    "# Fill-in ___\n",
    "fires = fires[fires['acres_burned'] >= 10] # Replace ... with correct code(you can also use query method if you wish)\n",
    "fires[fires.duplicated()] # This should return an empty DataFrame"
   ]
  },
  {
   "cell_type": "code",
   "execution_count": 15,
   "metadata": {
    "deletable": false,
    "editable": false
   },
   "outputs": [
    {
     "data": {
      "text/html": [
       "<p><strong><pre style='display: inline;'>q1biii</pre></strong> passed! 💯</p>"
      ],
      "text/plain": [
       "q1biii results: All test cases passed!"
      ]
     },
     "execution_count": 15,
     "metadata": {},
     "output_type": "execute_result"
    }
   ],
   "source": [
    "grader.check(\"q1biii\")"
   ]
  },
  {
   "cell_type": "markdown",
   "metadata": {
    "deletable": false,
    "editable": false
   },
   "source": [
    "### Question 1b (iv): Drop Unnecessary rows\n",
    "\n",
    "The US Forest Service collects the data on forest fires from multiple agencies and this can lead to the problem of  duplicate rows(rows that contain exactly the same information). \n",
    "We can use the `duplicated()` method in `pandas` to check for which rows are exactly the same as shown in the code snippet below. "
   ]
  },
  {
   "cell_type": "code",
   "execution_count": 16,
   "metadata": {
    "deletable": false,
    "editable": false
   },
   "outputs": [
    {
     "data": {
      "text/html": [
       "<div>\n",
       "<style scoped>\n",
       "    .dataframe tbody tr th:only-of-type {\n",
       "        vertical-align: middle;\n",
       "    }\n",
       "\n",
       "    .dataframe tbody tr th {\n",
       "        vertical-align: top;\n",
       "    }\n",
       "\n",
       "    .dataframe thead th {\n",
       "        text-align: right;\n",
       "    }\n",
       "</style>\n",
       "<table border=\"1\" class=\"dataframe\">\n",
       "  <thead>\n",
       "    <tr style=\"text-align: right;\">\n",
       "      <th></th>\n",
       "      <th>fire_name</th>\n",
       "      <th>acres_burned</th>\n",
       "      <th>state</th>\n",
       "      <th>latitude</th>\n",
       "      <th>longitude</th>\n",
       "      <th>fire_year</th>\n",
       "      <th>discovery_date</th>\n",
       "      <th>contains_date</th>\n",
       "    </tr>\n",
       "  </thead>\n",
       "  <tbody>\n",
       "    <tr>\n",
       "      <th>1349790</th>\n",
       "      <td>None</td>\n",
       "      <td>14.0</td>\n",
       "      <td>NY</td>\n",
       "      <td>42.223532</td>\n",
       "      <td>-73.687350</td>\n",
       "      <td>1997</td>\n",
       "      <td>2/26/1997</td>\n",
       "      <td>None</td>\n",
       "    </tr>\n",
       "    <tr>\n",
       "      <th>1349801</th>\n",
       "      <td>None</td>\n",
       "      <td>14.0</td>\n",
       "      <td>NY</td>\n",
       "      <td>42.223532</td>\n",
       "      <td>-73.687350</td>\n",
       "      <td>1997</td>\n",
       "      <td>2/26/1997</td>\n",
       "      <td>None</td>\n",
       "    </tr>\n",
       "    <tr>\n",
       "      <th>1370420</th>\n",
       "      <td>None</td>\n",
       "      <td>15.0</td>\n",
       "      <td>CT</td>\n",
       "      <td>41.279541</td>\n",
       "      <td>-72.815099</td>\n",
       "      <td>2000</td>\n",
       "      <td>3/6/2000</td>\n",
       "      <td>None</td>\n",
       "    </tr>\n",
       "    <tr>\n",
       "      <th>1370421</th>\n",
       "      <td>None</td>\n",
       "      <td>15.0</td>\n",
       "      <td>CT</td>\n",
       "      <td>41.279541</td>\n",
       "      <td>-72.815099</td>\n",
       "      <td>2000</td>\n",
       "      <td>3/6/2000</td>\n",
       "      <td>None</td>\n",
       "    </tr>\n",
       "    <tr>\n",
       "      <th>1431018</th>\n",
       "      <td>None</td>\n",
       "      <td>30.0</td>\n",
       "      <td>AL</td>\n",
       "      <td>32.640810</td>\n",
       "      <td>-86.837740</td>\n",
       "      <td>1995</td>\n",
       "      <td>7/20/1995</td>\n",
       "      <td>None</td>\n",
       "    </tr>\n",
       "    <tr>\n",
       "      <th>...</th>\n",
       "      <td>...</td>\n",
       "      <td>...</td>\n",
       "      <td>...</td>\n",
       "      <td>...</td>\n",
       "      <td>...</td>\n",
       "      <td>...</td>\n",
       "      <td>...</td>\n",
       "      <td>...</td>\n",
       "    </tr>\n",
       "    <tr>\n",
       "      <th>2028477</th>\n",
       "      <td>None</td>\n",
       "      <td>100.0</td>\n",
       "      <td>CA</td>\n",
       "      <td>36.990848</td>\n",
       "      <td>-121.598476</td>\n",
       "      <td>2017</td>\n",
       "      <td>9/3/2017</td>\n",
       "      <td>None</td>\n",
       "    </tr>\n",
       "    <tr>\n",
       "      <th>2181422</th>\n",
       "      <td>None</td>\n",
       "      <td>41.0</td>\n",
       "      <td>CA</td>\n",
       "      <td>37.582904</td>\n",
       "      <td>-121.585341</td>\n",
       "      <td>2019</td>\n",
       "      <td>10/24/2019</td>\n",
       "      <td>None</td>\n",
       "    </tr>\n",
       "    <tr>\n",
       "      <th>2196433</th>\n",
       "      <td>None</td>\n",
       "      <td>41.0</td>\n",
       "      <td>CA</td>\n",
       "      <td>37.582904</td>\n",
       "      <td>-121.585341</td>\n",
       "      <td>2019</td>\n",
       "      <td>10/24/2019</td>\n",
       "      <td>None</td>\n",
       "    </tr>\n",
       "    <tr>\n",
       "      <th>2250031</th>\n",
       "      <td>None</td>\n",
       "      <td>10.0</td>\n",
       "      <td>AR</td>\n",
       "      <td>36.380540</td>\n",
       "      <td>-93.965760</td>\n",
       "      <td>2020</td>\n",
       "      <td>11/13/2020</td>\n",
       "      <td>None</td>\n",
       "    </tr>\n",
       "    <tr>\n",
       "      <th>2256648</th>\n",
       "      <td>None</td>\n",
       "      <td>10.0</td>\n",
       "      <td>AR</td>\n",
       "      <td>36.380540</td>\n",
       "      <td>-93.965760</td>\n",
       "      <td>2020</td>\n",
       "      <td>11/13/2020</td>\n",
       "      <td>None</td>\n",
       "    </tr>\n",
       "  </tbody>\n",
       "</table>\n",
       "<p>102 rows × 8 columns</p>\n",
       "</div>"
      ],
      "text/plain": [
       "        fire_name  acres_burned state   latitude   longitude  fire_year  \\\n",
       "1349790      None          14.0    NY  42.223532  -73.687350       1997   \n",
       "1349801      None          14.0    NY  42.223532  -73.687350       1997   \n",
       "1370420      None          15.0    CT  41.279541  -72.815099       2000   \n",
       "1370421      None          15.0    CT  41.279541  -72.815099       2000   \n",
       "1431018      None          30.0    AL  32.640810  -86.837740       1995   \n",
       "...           ...           ...   ...        ...         ...        ...   \n",
       "2028477      None         100.0    CA  36.990848 -121.598476       2017   \n",
       "2181422      None          41.0    CA  37.582904 -121.585341       2019   \n",
       "2196433      None          41.0    CA  37.582904 -121.585341       2019   \n",
       "2250031      None          10.0    AR  36.380540  -93.965760       2020   \n",
       "2256648      None          10.0    AR  36.380540  -93.965760       2020   \n",
       "\n",
       "        discovery_date contains_date  \n",
       "1349790      2/26/1997          None  \n",
       "1349801      2/26/1997          None  \n",
       "1370420       3/6/2000          None  \n",
       "1370421       3/6/2000          None  \n",
       "1431018      7/20/1995          None  \n",
       "...                ...           ...  \n",
       "2028477       9/3/2017          None  \n",
       "2181422     10/24/2019          None  \n",
       "2196433     10/24/2019          None  \n",
       "2250031     11/13/2020          None  \n",
       "2256648     11/13/2020          None  \n",
       "\n",
       "[102 rows x 8 columns]"
      ]
     },
     "execution_count": 16,
     "metadata": {},
     "output_type": "execute_result"
    }
   ],
   "source": [
    "fires[fires.duplicated(keep=False)]"
   ]
  },
  {
   "cell_type": "markdown",
   "metadata": {
    "deletable": false,
    "editable": false
   },
   "source": [
    "Write code to drop all duplicate rows, keeping only the first ocurrence of each set of duplicate rows. "
   ]
  },
  {
   "cell_type": "code",
   "execution_count": 17,
   "metadata": {
    "tags": []
   },
   "outputs": [
    {
     "data": {
      "text/html": [
       "<div>\n",
       "<style scoped>\n",
       "    .dataframe tbody tr th:only-of-type {\n",
       "        vertical-align: middle;\n",
       "    }\n",
       "\n",
       "    .dataframe tbody tr th {\n",
       "        vertical-align: top;\n",
       "    }\n",
       "\n",
       "    .dataframe thead th {\n",
       "        text-align: right;\n",
       "    }\n",
       "</style>\n",
       "<table border=\"1\" class=\"dataframe\">\n",
       "  <thead>\n",
       "    <tr style=\"text-align: right;\">\n",
       "      <th></th>\n",
       "      <th>fire_name</th>\n",
       "      <th>acres_burned</th>\n",
       "      <th>state</th>\n",
       "      <th>latitude</th>\n",
       "      <th>longitude</th>\n",
       "      <th>fire_year</th>\n",
       "      <th>discovery_date</th>\n",
       "      <th>contains_date</th>\n",
       "    </tr>\n",
       "  </thead>\n",
       "  <tbody>\n",
       "  </tbody>\n",
       "</table>\n",
       "</div>"
      ],
      "text/plain": [
       "Empty DataFrame\n",
       "Columns: [fire_name, acres_burned, state, latitude, longitude, fire_year, discovery_date, contains_date]\n",
       "Index: []"
      ]
     },
     "execution_count": 17,
     "metadata": {},
     "output_type": "execute_result"
    }
   ],
   "source": [
    "# Fill-in ___\n",
    "fires = fires.drop_duplicates() # Replace ___ with correct code(you can also use query method if you wish)\n",
    "fires[fires.duplicated()] # This should return an empty DataFrame"
   ]
  },
  {
   "cell_type": "code",
   "execution_count": 18,
   "metadata": {
    "deletable": false,
    "editable": false
   },
   "outputs": [
    {
     "data": {
      "text/html": [
       "<p><strong><pre style='display: inline;'>q1biv</pre></strong> passed! 💯</p>"
      ],
      "text/plain": [
       "q1biv results: All test cases passed!"
      ]
     },
     "execution_count": 18,
     "metadata": {},
     "output_type": "execute_result"
    }
   ],
   "source": [
    "grader.check(\"q1biv\")"
   ]
  },
  {
   "cell_type": "markdown",
   "metadata": {
    "deletable": false,
    "editable": false
   },
   "source": [
    "### Question 1b (v): Convert columns to appropriate types\n",
    "\n",
    "It is always beneficial to have each column in a dataframe be the most beneficial and appropriate type. Currently the `contains_date` and `discovery_date` columns are strings(represented as `object` type in `pandas`) but\n",
    "we can convert them to a `datetime` column so we have access to myriad of methods appropriate for time series data. \n",
    "\n",
    "Write code to convert these two columns to `datetime` columns."
   ]
  },
  {
   "cell_type": "code",
   "execution_count": 19,
   "metadata": {
    "tags": []
   },
   "outputs": [
    {
     "name": "stdout",
     "output_type": "stream",
     "text": [
      "<class 'pandas.core.frame.DataFrame'>\n",
      "Index: 322719 entries, 16 to 2303565\n",
      "Data columns (total 8 columns):\n",
      " #   Column          Non-Null Count   Dtype         \n",
      "---  ------          --------------   -----         \n",
      " 0   fire_name       179934 non-null  object        \n",
      " 1   acres_burned    322719 non-null  float64       \n",
      " 2   state           322719 non-null  object        \n",
      " 3   latitude        322719 non-null  float64       \n",
      " 4   longitude       322719 non-null  float64       \n",
      " 5   fire_year       322719 non-null  int64         \n",
      " 6   discovery_date  322719 non-null  datetime64[ns]\n",
      " 7   contains_date   193577 non-null  datetime64[ns]\n",
      "dtypes: datetime64[ns](2), float64(3), int64(1), object(2)\n",
      "memory usage: 22.2+ MB\n"
     ]
    }
   ],
   "source": [
    "# Fill-in ...\n",
    "fires['discovery_date'] = pd.to_datetime(fires['discovery_date'])\n",
    "fires['contains_date'] = pd.to_datetime(fires['contains_date'])\n",
    "fires.info() # You should see datetime64[ns] for the two columns now. The ns tells us it is in nanosecond precision."
   ]
  },
  {
   "cell_type": "code",
   "execution_count": 20,
   "metadata": {
    "deletable": false,
    "editable": false
   },
   "outputs": [
    {
     "data": {
      "text/html": [
       "<p><strong><pre style='display: inline;'>q1bv</pre></strong> passed! 🌈</p>"
      ],
      "text/plain": [
       "q1bv results: All test cases passed!"
      ]
     },
     "execution_count": 20,
     "metadata": {},
     "output_type": "execute_result"
    }
   ],
   "source": [
    "grader.check(\"q1bv\")"
   ]
  },
  {
   "cell_type": "markdown",
   "metadata": {
    "deletable": false,
    "editable": false
   },
   "source": [
    "# Question 2: Prepare the Data\n",
    "\n",
    "In order to facilitate our analysis, we will add two new columns. The first column will be the month of the fire(based on `discovery_date`) and the second column will be the number of days the fire burned which\n",
    "is the difference between `contains_date` and `discovery_date`. Name the two new columns `fire_month` and `days_burning` respectively. \n",
    "\n",
    "Write code to accomplish the above. The following page may prove helpful: \n",
    "\n",
    "[Pandas Time Series](https://pandas.pydata.org/docs/user_guide/timeseries.html#time-date-components)\n",
    "\n",
    "[Pandas Timedelta](https://pandas.pydata.org/docs/user_guide/timedeltas.html#attributes)"
   ]
  },
  {
   "cell_type": "code",
   "execution_count": 21,
   "metadata": {
    "tags": []
   },
   "outputs": [
    {
     "data": {
      "text/plain": [
       "16        2004-10-06\n",
       "17        2004-10-13\n",
       "25        2004-07-20\n",
       "37        2005-01-27\n",
       "39        2005-02-12\n",
       "             ...    \n",
       "2303560   2020-05-13\n",
       "2303562   2020-07-11\n",
       "2303563   2020-08-27\n",
       "2303564   2020-08-17\n",
       "2303565   2020-11-20\n",
       "Name: discovery_date, Length: 322719, dtype: datetime64[ns]"
      ]
     },
     "execution_count": 21,
     "metadata": {},
     "output_type": "execute_result"
    }
   ],
   "source": [
    "fires.discovery_date"
   ]
  },
  {
   "cell_type": "code",
   "execution_count": 22,
   "metadata": {
    "tags": []
   },
   "outputs": [],
   "source": [
    "# Fill-in ___\n",
    "fires['fire_month']  = fires['discovery_date'].dt.month\n",
    "fires['days_burning'] = (fires['contains_date'] - fires['discovery_date']).dt.days"
   ]
  },
  {
   "cell_type": "code",
   "execution_count": 23,
   "metadata": {
    "deletable": false,
    "editable": false
   },
   "outputs": [
    {
     "data": {
      "text/html": [
       "<p><strong><pre style='display: inline;'>q2</pre></strong> passed! 💯</p>"
      ],
      "text/plain": [
       "q2 results: All test cases passed!"
      ]
     },
     "execution_count": 23,
     "metadata": {},
     "output_type": "execute_result"
    }
   ],
   "source": [
    "grader.check(\"q2\")"
   ]
  },
  {
   "cell_type": "markdown",
   "metadata": {},
   "source": [
    "## QUESTION 3: Analyzing the Data\n"
   ]
  },
  {
   "cell_type": "markdown",
   "metadata": {
    "deletable": false,
    "editable": false
   },
   "source": [
    "<!-- BEGIN QUESTION -->\n",
    "\n",
    "### Question 3a (i): Maximum Fire Size by Year for California\n",
    "\n",
    "For the state of California(CA), what was the **maximum** fire size for each year? Create a **barplot** with the year on the x-axis and the fire size(`acres_burned`) on the y-axis. Add/Change the titles and labels to what you deem appropriate. "
   ]
  },
  {
   "cell_type": "code",
   "execution_count": 24,
   "metadata": {
    "tags": []
   },
   "outputs": [
    {
     "data": {
      "image/png": "[encoded data removed]",
      "text/plain": [
       "<Figure size 640x480 with 1 Axes>"
      ]
     },
     "metadata": {},
     "output_type": "display_data"
    }
   ],
   "source": [
    "\n",
    "# Fill-in ___ and ...\n",
    "fires.query('state == \"CA\"') \\\n",
    "     .groupby('fire_year') \\\n",
    "     .acres_burned.max()\\\n",
    "     .plot(kind='bar',title='Max Fire Size By Year',ylabel='Acres Burned',xlabel='Year');\n"
   ]
  },
  {
   "cell_type": "markdown",
   "metadata": {
    "deletable": false,
    "editable": false
   },
   "source": [
    "<!-- END QUESTION -->\n",
    "\n",
    "<!-- BEGIN QUESTION -->\n",
    "\n",
    "### Question 3a (ii): Fire Count By Month in California\n",
    "\n",
    "Create a barplot of the number of fires by month in California. The x-axis, as before, should be the year and the y-axis is the count of fires. Do you notice any patterns? Which months have the most fires? Does this make sense? For these free-resposne questions, type you answer after the **SOLUTION** cell. "
   ]
  },
  {
   "cell_type": "markdown",
   "metadata": {},
   "source": [
    "_Type your answer here, replacing this text._"
   ]
  },
  {
   "cell_type": "code",
   "execution_count": 25,
   "metadata": {
    "tags": []
   },
   "outputs": [
    {
     "data": {
      "image/png": "[encoded data removed]",
      "text/plain": [
       "<Figure size 640x480 with 1 Axes>"
      ]
     },
     "metadata": {},
     "output_type": "display_data"
    }
   ],
   "source": [
    "\n",
    "# Fill-in ___ and ...\n",
    "fires.query('state == \"CA\"') \\\n",
    "     .groupby('fire_month') \\\n",
    "     .size()\\\n",
    "     .plot(kind='bar',title='Fire Count by Month in California',ylabel='Count',xlabel='Month');"
   ]
  },
  {
   "cell_type": "markdown",
   "metadata": {},
   "source": [
    "The months that have the most fires are the hottest months in California. During the summer months, mainly June - August, are the hottest months and have the highest counts for fires."
   ]
  },
  {
   "cell_type": "markdown",
   "metadata": {
    "deletable": false,
    "editable": false
   },
   "source": [
    "<!-- END QUESTION -->\n",
    "\n",
    "### Question 3b (i): Ranking states by total acres burned\n",
    "\n",
    "For each state, calculate the total amount of acres burned and rank each state by that amount. The state with the most acres burned overall should have rank 1 and so on.\n",
    "Name the dataframe `fires_states` and it should have the state abbreviation be the index and the two columns should be the total acres burned for each state and the rank of each state. The names of these two columns\n",
    "should be `acres_burned` and `state_rank` respectively. Sort `fires_states` in ascending order by `state_rank`.\n",
    "\n",
    "HINT: The `rank()` method may come in handy."
   ]
  },
  {
   "cell_type": "code",
   "execution_count": 26,
   "metadata": {
    "tags": []
   },
   "outputs": [],
   "source": [
    "\n",
    "\n",
    "# Fill-in ___ and ...\n",
    "fires_states = fires.groupby('state').acres_burned.agg('sum').reset_index()\n",
    "\n",
    "# Rank each state in descending order(state with most acres burned should be rank 1)\n",
    "\n",
    "fires_states['state_rank'] = fires_states['acres_burned'].rank(ascending=False)\n",
    "\n",
    "# SORT in ASCENDING ORDR BY state_rank\n",
    "\n",
    "fires_states = fires_states.sort_values(by='state_rank').set_index('state')\n"
   ]
  },
  {
   "cell_type": "code",
   "execution_count": 27,
   "metadata": {
    "deletable": false,
    "editable": false
   },
   "outputs": [
    {
     "data": {
      "text/html": [
       "<p><strong><pre style='display: inline;'>3bi</pre></strong> passed! 🌈</p>"
      ],
      "text/plain": [
       "3bi results: All test cases passed!"
      ]
     },
     "execution_count": 27,
     "metadata": {},
     "output_type": "execute_result"
    }
   ],
   "source": [
    "grader.check(\"3bi\")"
   ]
  },
  {
   "cell_type": "markdown",
   "metadata": {
    "deletable": false,
    "editable": false
   },
   "source": [
    "<!-- BEGIN QUESTION -->\n",
    "\n",
    "### QUESTION 3b (ii)\n",
    "\n",
    "Using the `fires_states' from the previous question, for the top 10 ranking states, create a barplot with the state on the x-axis and the total acres burned on the y-axis. Add\n",
    "appropriate titles and labels. "
   ]
  },
  {
   "cell_type": "code",
   "execution_count": 28,
   "metadata": {
    "tags": []
   },
   "outputs": [
    {
     "data": {
      "image/png": "[encoded data removed]",
      "text/plain": [
       "<Figure size 640x480 with 1 Axes>"
      ]
     },
     "metadata": {},
     "output_type": "display_data"
    }
   ],
   "source": [
    "\n",
    "# Fill-in ...\n",
    "fires_states[:10].plot(y='acres_burned',kind='bar',legend=False,title='States with Highest Total Acres Burned',xlabel='State',ylabel='Total Acres Burned');"
   ]
  },
  {
   "cell_type": "markdown",
   "metadata": {
    "deletable": false,
    "editable": false
   },
   "source": [
    "<!-- END QUESTION -->\n",
    "\n",
    "### Question 3c (i): Preparing a DataFrame to total acres burned by year within each state\n",
    "\n",
    "We have already seen the sum of acres burned overall for each state but suppose we want to see how this changes over the years? \n",
    "\n",
    "Create a new `DataFrame` called `fires_states_year` storing the total acres burned by year within each state. The result should be a `DataFrame` with a MultiIndex of `state` and `fire_year` with a sole column representing the total acres burned by year within each state. \n",
    "\n",
    "Join `fires_states_year` to `fires_states` to create a `DataFrame` of three columns and then use `reset_index()` to set the indexes to be columns and filter for only states ranking within the top 4, naming the result `fires_states_top_4`.\n",
    "\n",
    "HINT: Use `join()` to merge/join two `DataFrame`s together. Join automatically joins by common index values."
   ]
  },
  {
   "cell_type": "code",
   "execution_count": 29,
   "metadata": {
    "tags": []
   },
   "outputs": [
    {
     "data": {
      "text/html": [
       "<div>\n",
       "<style scoped>\n",
       "    .dataframe tbody tr th:only-of-type {\n",
       "        vertical-align: middle;\n",
       "    }\n",
       "\n",
       "    .dataframe tbody tr th {\n",
       "        vertical-align: top;\n",
       "    }\n",
       "\n",
       "    .dataframe thead th {\n",
       "        text-align: right;\n",
       "    }\n",
       "</style>\n",
       "<table border=\"1\" class=\"dataframe\">\n",
       "  <thead>\n",
       "    <tr style=\"text-align: right;\">\n",
       "      <th></th>\n",
       "      <th>state</th>\n",
       "      <th>fire_year</th>\n",
       "      <th>acres_burned_by_year</th>\n",
       "      <th>acres_burned_total</th>\n",
       "      <th>state_rank</th>\n",
       "    </tr>\n",
       "  </thead>\n",
       "  <tbody>\n",
       "    <tr>\n",
       "      <th>0</th>\n",
       "      <td>AK</td>\n",
       "      <td>1992</td>\n",
       "      <td>142444.700</td>\n",
       "      <td>3.664577e+07</td>\n",
       "      <td>1.0</td>\n",
       "    </tr>\n",
       "    <tr>\n",
       "      <th>1</th>\n",
       "      <td>AK</td>\n",
       "      <td>1993</td>\n",
       "      <td>686630.500</td>\n",
       "      <td>3.664577e+07</td>\n",
       "      <td>1.0</td>\n",
       "    </tr>\n",
       "    <tr>\n",
       "      <th>2</th>\n",
       "      <td>AK</td>\n",
       "      <td>1994</td>\n",
       "      <td>261604.700</td>\n",
       "      <td>3.664577e+07</td>\n",
       "      <td>1.0</td>\n",
       "    </tr>\n",
       "    <tr>\n",
       "      <th>3</th>\n",
       "      <td>AK</td>\n",
       "      <td>1995</td>\n",
       "      <td>43762.600</td>\n",
       "      <td>3.664577e+07</td>\n",
       "      <td>1.0</td>\n",
       "    </tr>\n",
       "    <tr>\n",
       "      <th>4</th>\n",
       "      <td>AK</td>\n",
       "      <td>1996</td>\n",
       "      <td>598407.200</td>\n",
       "      <td>3.664577e+07</td>\n",
       "      <td>1.0</td>\n",
       "    </tr>\n",
       "    <tr>\n",
       "      <th>...</th>\n",
       "      <td>...</td>\n",
       "      <td>...</td>\n",
       "      <td>...</td>\n",
       "      <td>...</td>\n",
       "      <td>...</td>\n",
       "    </tr>\n",
       "    <tr>\n",
       "      <th>111</th>\n",
       "      <td>NV</td>\n",
       "      <td>2016</td>\n",
       "      <td>267188.400</td>\n",
       "      <td>1.182666e+07</td>\n",
       "      <td>4.0</td>\n",
       "    </tr>\n",
       "    <tr>\n",
       "      <th>112</th>\n",
       "      <td>NV</td>\n",
       "      <td>2017</td>\n",
       "      <td>1136500.630</td>\n",
       "      <td>1.182666e+07</td>\n",
       "      <td>4.0</td>\n",
       "    </tr>\n",
       "    <tr>\n",
       "      <th>113</th>\n",
       "      <td>NV</td>\n",
       "      <td>2018</td>\n",
       "      <td>1070255.400</td>\n",
       "      <td>1.182666e+07</td>\n",
       "      <td>4.0</td>\n",
       "    </tr>\n",
       "    <tr>\n",
       "      <th>114</th>\n",
       "      <td>NV</td>\n",
       "      <td>2019</td>\n",
       "      <td>80919.390</td>\n",
       "      <td>1.182666e+07</td>\n",
       "      <td>4.0</td>\n",
       "    </tr>\n",
       "    <tr>\n",
       "      <th>115</th>\n",
       "      <td>NV</td>\n",
       "      <td>2020</td>\n",
       "      <td>238735.615</td>\n",
       "      <td>1.182666e+07</td>\n",
       "      <td>4.0</td>\n",
       "    </tr>\n",
       "  </tbody>\n",
       "</table>\n",
       "<p>116 rows × 5 columns</p>\n",
       "</div>"
      ],
      "text/plain": [
       "    state  fire_year  acres_burned_by_year  acres_burned_total  state_rank\n",
       "0      AK       1992            142444.700        3.664577e+07         1.0\n",
       "1      AK       1993            686630.500        3.664577e+07         1.0\n",
       "2      AK       1994            261604.700        3.664577e+07         1.0\n",
       "3      AK       1995             43762.600        3.664577e+07         1.0\n",
       "4      AK       1996            598407.200        3.664577e+07         1.0\n",
       "..    ...        ...                   ...                 ...         ...\n",
       "111    NV       2016            267188.400        1.182666e+07         4.0\n",
       "112    NV       2017           1136500.630        1.182666e+07         4.0\n",
       "113    NV       2018           1070255.400        1.182666e+07         4.0\n",
       "114    NV       2019             80919.390        1.182666e+07         4.0\n",
       "115    NV       2020            238735.615        1.182666e+07         4.0\n",
       "\n",
       "[116 rows x 5 columns]"
      ]
     },
     "execution_count": 29,
     "metadata": {},
     "output_type": "execute_result"
    }
   ],
   "source": [
    "\n",
    "\n",
    "# Fill-in ... and ____\n",
    "fires_states_year = fires.groupby(['state', 'fire_year'])['acres_burned'].agg('sum').reset_index().set_index('state')\n",
    "\n",
    "\n",
    "fires_states_top_4 = fires_states_year.join(fires_states,lsuffix='_by_year',rsuffix='_total').query('state_rank <= 4').reset_index() # lsuffix and rsuffix are used here to append strings\n",
    "#to the end of common column names in the two dataframes we are joining(acres_burned) in order to differentiate between them. The default is to add an x and a y so we can use\n",
    "#this to make it more informative. \n",
    "\n",
    "fires_states_top_4"
   ]
  },
  {
   "cell_type": "code",
   "execution_count": 30,
   "metadata": {
    "deletable": false,
    "editable": false
   },
   "outputs": [
    {
     "data": {
      "text/html": [
       "<p><strong><pre style='display: inline;'>3ci</pre></strong> passed! 🍀</p>"
      ],
      "text/plain": [
       "3ci results: All test cases passed!"
      ]
     },
     "execution_count": 30,
     "metadata": {},
     "output_type": "execute_result"
    }
   ],
   "source": [
    "grader.check(\"3ci\")"
   ]
  },
  {
   "cell_type": "markdown",
   "metadata": {
    "deletable": false,
    "editable": false
   },
   "source": [
    "<!-- BEGIN QUESTION -->\n",
    "\n",
    "### Question 3c (ii): Preparing a DataFrame to total acres burned by year within each state\n",
    "\n",
    "Using `fires_states_top_4` and `seaborn`, create four lineplots corresponding to each of the top 4 states showing the change in acres burned over the years. The result should be a plot with 2 rows and 2 columns, one lineplot for each state. The line color for each state/plot should be different. "
   ]
  },
  {
   "cell_type": "code",
   "execution_count": 31,
   "metadata": {
    "tags": []
   },
   "outputs": [
    {
     "data": {
      "image/png": "[encoded data removed]",
      "text/plain": [
       "<Figure size 1000x1000 with 4 Axes>"
      ]
     },
     "metadata": {},
     "output_type": "display_data"
    }
   ],
   "source": [
    "\n",
    "# Fill-in ... and ____\n",
    "g = sns.relplot(data=fires_states_top_4,kind='line',x='fire_year',y='acres_burned_by_year',hue='state',col='state',col_wrap=2,legend=False);\n",
    "g.fig.suptitle('Total Acres Burned By Year in the Top 4 States',y=1.025); # Super Title For Entire Plot"
   ]
  },
  {
   "cell_type": "markdown",
   "metadata": {
    "deletable": false,
    "editable": false
   },
   "source": [
    "<!-- END QUESTION -->\n",
    "\n",
    "## Question 4: Using GeoPandas to plot fires on maps"
   ]
  },
  {
   "cell_type": "markdown",
   "metadata": {},
   "source": [
    "Now that we have created some nice plots, it would be nice if we could view the locations of the fires on maps of states so we can get a visual \n",
    "understanding of where they tend to occur and reaffirm our analyses from above. We will be using `GeoPandas` which you can think of `pandas` but extended to work with geospatial data. \n",
    "The data we will be working with that stores the map information for the United States is located in the `Maps` subfolder as shape files. These are special files\n",
    "formats for storing geographic information. We will first go through a demonstration of this to see it in action. You will notice there are other files as well that are needed for the rendering of the plots. "
   ]
  },
  {
   "cell_type": "markdown",
   "metadata": {},
   "source": [
    "\n",
    "First, lets load the map of the USA and get it displayed. We load the shape file `states.shp` located inside the `Maps` subfolder."
   ]
  },
  {
   "cell_type": "code",
   "execution_count": 32,
   "metadata": {},
   "outputs": [
    {
     "data": {
      "text/html": [
       "<div>\n",
       "<style scoped>\n",
       "    .dataframe tbody tr th:only-of-type {\n",
       "        vertical-align: middle;\n",
       "    }\n",
       "\n",
       "    .dataframe tbody tr th {\n",
       "        vertical-align: top;\n",
       "    }\n",
       "\n",
       "    .dataframe thead th {\n",
       "        text-align: right;\n",
       "    }\n",
       "</style>\n",
       "<table border=\"1\" class=\"dataframe\">\n",
       "  <thead>\n",
       "    <tr style=\"text-align: right;\">\n",
       "      <th></th>\n",
       "      <th>STATE_NAME</th>\n",
       "      <th>DRAWSEQ</th>\n",
       "      <th>STATE_FIPS</th>\n",
       "      <th>SUB_REGION</th>\n",
       "      <th>STATE_ABBR</th>\n",
       "      <th>geometry</th>\n",
       "    </tr>\n",
       "  </thead>\n",
       "  <tbody>\n",
       "    <tr>\n",
       "      <th>0</th>\n",
       "      <td>Hawaii</td>\n",
       "      <td>1</td>\n",
       "      <td>15</td>\n",
       "      <td>Pacific</td>\n",
       "      <td>HI</td>\n",
       "      <td>MULTIPOLYGON (((-160.07380 22.00418, -160.0497...</td>\n",
       "    </tr>\n",
       "    <tr>\n",
       "      <th>1</th>\n",
       "      <td>Washington</td>\n",
       "      <td>2</td>\n",
       "      <td>53</td>\n",
       "      <td>Pacific</td>\n",
       "      <td>WA</td>\n",
       "      <td>MULTIPOLYGON (((-122.40202 48.22522, -122.4628...</td>\n",
       "    </tr>\n",
       "    <tr>\n",
       "      <th>2</th>\n",
       "      <td>Montana</td>\n",
       "      <td>3</td>\n",
       "      <td>30</td>\n",
       "      <td>Mountain</td>\n",
       "      <td>MT</td>\n",
       "      <td>POLYGON ((-111.47543 44.70216, -111.48080 44.6...</td>\n",
       "    </tr>\n",
       "    <tr>\n",
       "      <th>3</th>\n",
       "      <td>Maine</td>\n",
       "      <td>4</td>\n",
       "      <td>23</td>\n",
       "      <td>New England</td>\n",
       "      <td>ME</td>\n",
       "      <td>MULTIPOLYGON (((-69.77728 44.07415, -69.85993 ...</td>\n",
       "    </tr>\n",
       "    <tr>\n",
       "      <th>4</th>\n",
       "      <td>North Dakota</td>\n",
       "      <td>5</td>\n",
       "      <td>38</td>\n",
       "      <td>West North Central</td>\n",
       "      <td>ND</td>\n",
       "      <td>POLYGON ((-98.73044 45.93827, -99.00683 45.939...</td>\n",
       "    </tr>\n",
       "    <tr>\n",
       "      <th>5</th>\n",
       "      <td>South Dakota</td>\n",
       "      <td>6</td>\n",
       "      <td>46</td>\n",
       "      <td>West North Central</td>\n",
       "      <td>SD</td>\n",
       "      <td>POLYGON ((-102.78838 42.99530, -103.00588 42.9...</td>\n",
       "    </tr>\n",
       "    <tr>\n",
       "      <th>6</th>\n",
       "      <td>Wyoming</td>\n",
       "      <td>7</td>\n",
       "      <td>56</td>\n",
       "      <td>Mountain</td>\n",
       "      <td>WY</td>\n",
       "      <td>POLYGON ((-104.05362 41.69822, -104.05550 41.5...</td>\n",
       "    </tr>\n",
       "    <tr>\n",
       "      <th>7</th>\n",
       "      <td>Wisconsin</td>\n",
       "      <td>8</td>\n",
       "      <td>55</td>\n",
       "      <td>East North Central</td>\n",
       "      <td>WI</td>\n",
       "      <td>MULTIPOLYGON (((-87.74856 44.96162, -87.83999 ...</td>\n",
       "    </tr>\n",
       "    <tr>\n",
       "      <th>8</th>\n",
       "      <td>Idaho</td>\n",
       "      <td>9</td>\n",
       "      <td>16</td>\n",
       "      <td>Mountain</td>\n",
       "      <td>ID</td>\n",
       "      <td>POLYGON ((-117.02630 43.67903, -117.02379 43.7...</td>\n",
       "    </tr>\n",
       "    <tr>\n",
       "      <th>9</th>\n",
       "      <td>Vermont</td>\n",
       "      <td>10</td>\n",
       "      <td>50</td>\n",
       "      <td>New England</td>\n",
       "      <td>VT</td>\n",
       "      <td>POLYGON ((-73.25806 42.74606, -73.26928 42.747...</td>\n",
       "    </tr>\n",
       "    <tr>\n",
       "      <th>10</th>\n",
       "      <td>Minnesota</td>\n",
       "      <td>11</td>\n",
       "      <td>27</td>\n",
       "      <td>West North Central</td>\n",
       "      <td>MN</td>\n",
       "      <td>POLYGON ((-91.73037 43.49957, -92.07753 43.499...</td>\n",
       "    </tr>\n",
       "    <tr>\n",
       "      <th>11</th>\n",
       "      <td>Oregon</td>\n",
       "      <td>12</td>\n",
       "      <td>41</td>\n",
       "      <td>Pacific</td>\n",
       "      <td>OR</td>\n",
       "      <td>POLYGON ((-121.44151 41.99433, -122.28471 42.0...</td>\n",
       "    </tr>\n",
       "    <tr>\n",
       "      <th>12</th>\n",
       "      <td>New Hampshire</td>\n",
       "      <td>13</td>\n",
       "      <td>33</td>\n",
       "      <td>New England</td>\n",
       "      <td>NH</td>\n",
       "      <td>POLYGON ((-72.27992 42.72047, -72.45577 42.725...</td>\n",
       "    </tr>\n",
       "    <tr>\n",
       "      <th>13</th>\n",
       "      <td>Iowa</td>\n",
       "      <td>14</td>\n",
       "      <td>19</td>\n",
       "      <td>West North Central</td>\n",
       "      <td>IA</td>\n",
       "      <td>POLYGON ((-91.12013 40.70544, -91.12930 40.682...</td>\n",
       "    </tr>\n",
       "    <tr>\n",
       "      <th>14</th>\n",
       "      <td>Massachusetts</td>\n",
       "      <td>15</td>\n",
       "      <td>25</td>\n",
       "      <td>New England</td>\n",
       "      <td>MA</td>\n",
       "      <td>MULTIPOLYGON (((-71.31933 41.77220, -71.33980 ...</td>\n",
       "    </tr>\n",
       "    <tr>\n",
       "      <th>15</th>\n",
       "      <td>Nebraska</td>\n",
       "      <td>16</td>\n",
       "      <td>31</td>\n",
       "      <td>West North Central</td>\n",
       "      <td>NE</td>\n",
       "      <td>POLYGON ((-101.40739 40.00100, -102.05154 39.9...</td>\n",
       "    </tr>\n",
       "    <tr>\n",
       "      <th>16</th>\n",
       "      <td>New York</td>\n",
       "      <td>17</td>\n",
       "      <td>36</td>\n",
       "      <td>Middle Atlantic</td>\n",
       "      <td>NY</td>\n",
       "      <td>MULTIPOLYGON (((-79.76324 42.26733, -79.44402 ...</td>\n",
       "    </tr>\n",
       "    <tr>\n",
       "      <th>17</th>\n",
       "      <td>Pennsylvania</td>\n",
       "      <td>18</td>\n",
       "      <td>42</td>\n",
       "      <td>Middle Atlantic</td>\n",
       "      <td>PA</td>\n",
       "      <td>POLYGON ((-77.47579 39.71962, -78.09595 39.725...</td>\n",
       "    </tr>\n",
       "    <tr>\n",
       "      <th>18</th>\n",
       "      <td>Connecticut</td>\n",
       "      <td>19</td>\n",
       "      <td>09</td>\n",
       "      <td>New England</td>\n",
       "      <td>CT</td>\n",
       "      <td>POLYGON ((-73.53039 41.52275, -73.51715 41.665...</td>\n",
       "    </tr>\n",
       "    <tr>\n",
       "      <th>19</th>\n",
       "      <td>Rhode Island</td>\n",
       "      <td>20</td>\n",
       "      <td>44</td>\n",
       "      <td>New England</td>\n",
       "      <td>RI</td>\n",
       "      <td>MULTIPOLYGON (((-71.79019 41.60131, -71.79261 ...</td>\n",
       "    </tr>\n",
       "    <tr>\n",
       "      <th>20</th>\n",
       "      <td>New Jersey</td>\n",
       "      <td>21</td>\n",
       "      <td>34</td>\n",
       "      <td>Middle Atlantic</td>\n",
       "      <td>NJ</td>\n",
       "      <td>POLYGON ((-75.48928 39.71486, -75.47597 39.720...</td>\n",
       "    </tr>\n",
       "    <tr>\n",
       "      <th>21</th>\n",
       "      <td>Indiana</td>\n",
       "      <td>22</td>\n",
       "      <td>18</td>\n",
       "      <td>East North Central</td>\n",
       "      <td>IN</td>\n",
       "      <td>POLYGON ((-86.34161 38.17729, -86.36435 38.193...</td>\n",
       "    </tr>\n",
       "    <tr>\n",
       "      <th>22</th>\n",
       "      <td>Nevada</td>\n",
       "      <td>23</td>\n",
       "      <td>32</td>\n",
       "      <td>Mountain</td>\n",
       "      <td>NV</td>\n",
       "      <td>POLYGON ((-119.15245 38.41180, -119.31883 38.5...</td>\n",
       "    </tr>\n",
       "    <tr>\n",
       "      <th>23</th>\n",
       "      <td>Utah</td>\n",
       "      <td>24</td>\n",
       "      <td>49</td>\n",
       "      <td>Mountain</td>\n",
       "      <td>UT</td>\n",
       "      <td>POLYGON ((-114.04727 38.13765, -114.04509 38.5...</td>\n",
       "    </tr>\n",
       "    <tr>\n",
       "      <th>24</th>\n",
       "      <td>California</td>\n",
       "      <td>25</td>\n",
       "      <td>06</td>\n",
       "      <td>Pacific</td>\n",
       "      <td>CA</td>\n",
       "      <td>MULTIPOLYGON (((-121.66522 38.16929, -121.7823...</td>\n",
       "    </tr>\n",
       "    <tr>\n",
       "      <th>25</th>\n",
       "      <td>Ohio</td>\n",
       "      <td>26</td>\n",
       "      <td>39</td>\n",
       "      <td>East North Central</td>\n",
       "      <td>OH</td>\n",
       "      <td>POLYGON ((-83.27276 38.60926, -83.29004 38.596...</td>\n",
       "    </tr>\n",
       "    <tr>\n",
       "      <th>26</th>\n",
       "      <td>Illinois</td>\n",
       "      <td>27</td>\n",
       "      <td>17</td>\n",
       "      <td>East North Central</td>\n",
       "      <td>IL</td>\n",
       "      <td>POLYGON ((-88.07159 37.51104, -88.08791 37.476...</td>\n",
       "    </tr>\n",
       "    <tr>\n",
       "      <th>27</th>\n",
       "      <td>District of Columbia</td>\n",
       "      <td>28</td>\n",
       "      <td>11</td>\n",
       "      <td>South Atlantic</td>\n",
       "      <td>DC</td>\n",
       "      <td>POLYGON ((-77.00793 38.96667, -76.91090 38.890...</td>\n",
       "    </tr>\n",
       "    <tr>\n",
       "      <th>28</th>\n",
       "      <td>Delaware</td>\n",
       "      <td>29</td>\n",
       "      <td>10</td>\n",
       "      <td>South Atlantic</td>\n",
       "      <td>DE</td>\n",
       "      <td>POLYGON ((-75.70707 38.55759, -75.71071 38.649...</td>\n",
       "    </tr>\n",
       "    <tr>\n",
       "      <th>29</th>\n",
       "      <td>West Virginia</td>\n",
       "      <td>30</td>\n",
       "      <td>54</td>\n",
       "      <td>South Atlantic</td>\n",
       "      <td>WV</td>\n",
       "      <td>POLYGON ((-79.23166 38.48050, -79.27236 38.437...</td>\n",
       "    </tr>\n",
       "    <tr>\n",
       "      <th>30</th>\n",
       "      <td>Maryland</td>\n",
       "      <td>31</td>\n",
       "      <td>24</td>\n",
       "      <td>South Atlantic</td>\n",
       "      <td>MD</td>\n",
       "      <td>MULTIPOLYGON (((-75.71071 38.64967, -75.70707 ...</td>\n",
       "    </tr>\n",
       "    <tr>\n",
       "      <th>31</th>\n",
       "      <td>Colorado</td>\n",
       "      <td>32</td>\n",
       "      <td>08</td>\n",
       "      <td>Mountain</td>\n",
       "      <td>CO</td>\n",
       "      <td>POLYGON ((-102.04446 37.64147, -102.04201 37.3...</td>\n",
       "    </tr>\n",
       "    <tr>\n",
       "      <th>32</th>\n",
       "      <td>Kentucky</td>\n",
       "      <td>33</td>\n",
       "      <td>21</td>\n",
       "      <td>East South Central</td>\n",
       "      <td>KY</td>\n",
       "      <td>MULTIPOLYGON (((-86.51067 36.65507, -86.77054 ...</td>\n",
       "    </tr>\n",
       "    <tr>\n",
       "      <th>33</th>\n",
       "      <td>Kansas</td>\n",
       "      <td>34</td>\n",
       "      <td>20</td>\n",
       "      <td>West North Central</td>\n",
       "      <td>KS</td>\n",
       "      <td>POLYGON ((-95.07193 37.00148, -95.40662 37.000...</td>\n",
       "    </tr>\n",
       "    <tr>\n",
       "      <th>34</th>\n",
       "      <td>Virginia</td>\n",
       "      <td>35</td>\n",
       "      <td>51</td>\n",
       "      <td>South Atlantic</td>\n",
       "      <td>VA</td>\n",
       "      <td>MULTIPOLYGON (((-79.14406 36.54620, -79.21680 ...</td>\n",
       "    </tr>\n",
       "    <tr>\n",
       "      <th>35</th>\n",
       "      <td>Missouri</td>\n",
       "      <td>36</td>\n",
       "      <td>29</td>\n",
       "      <td>West North Central</td>\n",
       "      <td>MO</td>\n",
       "      <td>POLYGON ((-89.10503 36.95392, -89.12965 36.866...</td>\n",
       "    </tr>\n",
       "    <tr>\n",
       "      <th>36</th>\n",
       "      <td>Arizona</td>\n",
       "      <td>37</td>\n",
       "      <td>04</td>\n",
       "      <td>Mountain</td>\n",
       "      <td>AZ</td>\n",
       "      <td>POLYGON ((-114.52063 33.02771, -114.55909 33.0...</td>\n",
       "    </tr>\n",
       "    <tr>\n",
       "      <th>37</th>\n",
       "      <td>Oklahoma</td>\n",
       "      <td>38</td>\n",
       "      <td>40</td>\n",
       "      <td>West South Central</td>\n",
       "      <td>OK</td>\n",
       "      <td>POLYGON ((-94.43932 34.92915, -94.44596 34.735...</td>\n",
       "    </tr>\n",
       "    <tr>\n",
       "      <th>38</th>\n",
       "      <td>North Carolina</td>\n",
       "      <td>39</td>\n",
       "      <td>37</td>\n",
       "      <td>South Atlantic</td>\n",
       "      <td>NC</td>\n",
       "      <td>MULTIPOLYGON (((-83.98845 34.98915, -84.11815 ...</td>\n",
       "    </tr>\n",
       "    <tr>\n",
       "      <th>39</th>\n",
       "      <td>Tennessee</td>\n",
       "      <td>40</td>\n",
       "      <td>47</td>\n",
       "      <td>East South Central</td>\n",
       "      <td>TN</td>\n",
       "      <td>POLYGON ((-83.95461 35.45554, -84.01256 35.407...</td>\n",
       "    </tr>\n",
       "    <tr>\n",
       "      <th>40</th>\n",
       "      <td>Texas</td>\n",
       "      <td>41</td>\n",
       "      <td>48</td>\n",
       "      <td>West South Central</td>\n",
       "      <td>TX</td>\n",
       "      <td>MULTIPOLYGON (((-105.99889 31.39394, -106.2132...</td>\n",
       "    </tr>\n",
       "    <tr>\n",
       "      <th>41</th>\n",
       "      <td>New Mexico</td>\n",
       "      <td>42</td>\n",
       "      <td>35</td>\n",
       "      <td>Mountain</td>\n",
       "      <td>NM</td>\n",
       "      <td>POLYGON ((-109.04950 32.44204, -109.05135 32.7...</td>\n",
       "    </tr>\n",
       "    <tr>\n",
       "      <th>42</th>\n",
       "      <td>Alabama</td>\n",
       "      <td>43</td>\n",
       "      <td>01</td>\n",
       "      <td>East South Central</td>\n",
       "      <td>AL</td>\n",
       "      <td>POLYGON ((-85.07007 31.98070, -85.11515 31.907...</td>\n",
       "    </tr>\n",
       "    <tr>\n",
       "      <th>43</th>\n",
       "      <td>Mississippi</td>\n",
       "      <td>44</td>\n",
       "      <td>28</td>\n",
       "      <td>East South Central</td>\n",
       "      <td>MS</td>\n",
       "      <td>POLYGON ((-88.45080 31.43562, -88.43456 31.120...</td>\n",
       "    </tr>\n",
       "    <tr>\n",
       "      <th>44</th>\n",
       "      <td>Georgia</td>\n",
       "      <td>45</td>\n",
       "      <td>13</td>\n",
       "      <td>South Atlantic</td>\n",
       "      <td>GA</td>\n",
       "      <td>MULTIPOLYGON (((-85.13017 31.77885, -85.13156 ...</td>\n",
       "    </tr>\n",
       "    <tr>\n",
       "      <th>45</th>\n",
       "      <td>South Carolina</td>\n",
       "      <td>46</td>\n",
       "      <td>45</td>\n",
       "      <td>South Atlantic</td>\n",
       "      <td>SC</td>\n",
       "      <td>MULTIPOLYGON (((-81.75959 33.19538, -81.76988 ...</td>\n",
       "    </tr>\n",
       "    <tr>\n",
       "      <th>46</th>\n",
       "      <td>Arkansas</td>\n",
       "      <td>47</td>\n",
       "      <td>05</td>\n",
       "      <td>West South Central</td>\n",
       "      <td>AR</td>\n",
       "      <td>POLYGON ((-94.46169 34.19677, -94.45262 34.508...</td>\n",
       "    </tr>\n",
       "    <tr>\n",
       "      <th>47</th>\n",
       "      <td>Louisiana</td>\n",
       "      <td>48</td>\n",
       "      <td>22</td>\n",
       "      <td>West South Central</td>\n",
       "      <td>LA</td>\n",
       "      <td>MULTIPOLYGON (((-93.70752 30.23958, -93.69938 ...</td>\n",
       "    </tr>\n",
       "    <tr>\n",
       "      <th>48</th>\n",
       "      <td>Florida</td>\n",
       "      <td>49</td>\n",
       "      <td>12</td>\n",
       "      <td>South Atlantic</td>\n",
       "      <td>FL</td>\n",
       "      <td>MULTIPOLYGON (((-80.78566 28.78519, -80.76242 ...</td>\n",
       "    </tr>\n",
       "    <tr>\n",
       "      <th>49</th>\n",
       "      <td>Michigan</td>\n",
       "      <td>50</td>\n",
       "      <td>26</td>\n",
       "      <td>East North Central</td>\n",
       "      <td>MI</td>\n",
       "      <td>MULTIPOLYGON (((-88.49753 48.17380, -88.62533 ...</td>\n",
       "    </tr>\n",
       "    <tr>\n",
       "      <th>50</th>\n",
       "      <td>Alaska</td>\n",
       "      <td>51</td>\n",
       "      <td>02</td>\n",
       "      <td>Pacific</td>\n",
       "      <td>AK</td>\n",
       "      <td>MULTIPOLYGON (((-161.33379 58.73325, -161.3824...</td>\n",
       "    </tr>\n",
       "  </tbody>\n",
       "</table>\n",
       "</div>"
      ],
      "text/plain": [
       "              STATE_NAME  DRAWSEQ STATE_FIPS          SUB_REGION STATE_ABBR  \\\n",
       "0                 Hawaii        1         15             Pacific         HI   \n",
       "1             Washington        2         53             Pacific         WA   \n",
       "2                Montana        3         30            Mountain         MT   \n",
       "3                  Maine        4         23         New England         ME   \n",
       "4           North Dakota        5         38  West North Central         ND   \n",
       "5           South Dakota        6         46  West North Central         SD   \n",
       "6                Wyoming        7         56            Mountain         WY   \n",
       "7              Wisconsin        8         55  East North Central         WI   \n",
       "8                  Idaho        9         16            Mountain         ID   \n",
       "9                Vermont       10         50         New England         VT   \n",
       "10             Minnesota       11         27  West North Central         MN   \n",
       "11                Oregon       12         41             Pacific         OR   \n",
       "12         New Hampshire       13         33         New England         NH   \n",
       "13                  Iowa       14         19  West North Central         IA   \n",
       "14         Massachusetts       15         25         New England         MA   \n",
       "15              Nebraska       16         31  West North Central         NE   \n",
       "16              New York       17         36     Middle Atlantic         NY   \n",
       "17          Pennsylvania       18         42     Middle Atlantic         PA   \n",
       "18           Connecticut       19         09         New England         CT   \n",
       "19          Rhode Island       20         44         New England         RI   \n",
       "20            New Jersey       21         34     Middle Atlantic         NJ   \n",
       "21               Indiana       22         18  East North Central         IN   \n",
       "22                Nevada       23         32            Mountain         NV   \n",
       "23                  Utah       24         49            Mountain         UT   \n",
       "24            California       25         06             Pacific         CA   \n",
       "25                  Ohio       26         39  East North Central         OH   \n",
       "26              Illinois       27         17  East North Central         IL   \n",
       "27  District of Columbia       28         11      South Atlantic         DC   \n",
       "28              Delaware       29         10      South Atlantic         DE   \n",
       "29         West Virginia       30         54      South Atlantic         WV   \n",
       "30              Maryland       31         24      South Atlantic         MD   \n",
       "31              Colorado       32         08            Mountain         CO   \n",
       "32              Kentucky       33         21  East South Central         KY   \n",
       "33                Kansas       34         20  West North Central         KS   \n",
       "34              Virginia       35         51      South Atlantic         VA   \n",
       "35              Missouri       36         29  West North Central         MO   \n",
       "36               Arizona       37         04            Mountain         AZ   \n",
       "37              Oklahoma       38         40  West South Central         OK   \n",
       "38        North Carolina       39         37      South Atlantic         NC   \n",
       "39             Tennessee       40         47  East South Central         TN   \n",
       "40                 Texas       41         48  West South Central         TX   \n",
       "41            New Mexico       42         35            Mountain         NM   \n",
       "42               Alabama       43         01  East South Central         AL   \n",
       "43           Mississippi       44         28  East South Central         MS   \n",
       "44               Georgia       45         13      South Atlantic         GA   \n",
       "45        South Carolina       46         45      South Atlantic         SC   \n",
       "46              Arkansas       47         05  West South Central         AR   \n",
       "47             Louisiana       48         22  West South Central         LA   \n",
       "48               Florida       49         12      South Atlantic         FL   \n",
       "49              Michigan       50         26  East North Central         MI   \n",
       "50                Alaska       51         02             Pacific         AK   \n",
       "\n",
       "                                             geometry  \n",
       "0   MULTIPOLYGON (((-160.07380 22.00418, -160.0497...  \n",
       "1   MULTIPOLYGON (((-122.40202 48.22522, -122.4628...  \n",
       "2   POLYGON ((-111.47543 44.70216, -111.48080 44.6...  \n",
       "3   MULTIPOLYGON (((-69.77728 44.07415, -69.85993 ...  \n",
       "4   POLYGON ((-98.73044 45.93827, -99.00683 45.939...  \n",
       "5   POLYGON ((-102.78838 42.99530, -103.00588 42.9...  \n",
       "6   POLYGON ((-104.05362 41.69822, -104.05550 41.5...  \n",
       "7   MULTIPOLYGON (((-87.74856 44.96162, -87.83999 ...  \n",
       "8   POLYGON ((-117.02630 43.67903, -117.02379 43.7...  \n",
       "9   POLYGON ((-73.25806 42.74606, -73.26928 42.747...  \n",
       "10  POLYGON ((-91.73037 43.49957, -92.07753 43.499...  \n",
       "11  POLYGON ((-121.44151 41.99433, -122.28471 42.0...  \n",
       "12  POLYGON ((-72.27992 42.72047, -72.45577 42.725...  \n",
       "13  POLYGON ((-91.12013 40.70544, -91.12930 40.682...  \n",
       "14  MULTIPOLYGON (((-71.31933 41.77220, -71.33980 ...  \n",
       "15  POLYGON ((-101.40739 40.00100, -102.05154 39.9...  \n",
       "16  MULTIPOLYGON (((-79.76324 42.26733, -79.44402 ...  \n",
       "17  POLYGON ((-77.47579 39.71962, -78.09595 39.725...  \n",
       "18  POLYGON ((-73.53039 41.52275, -73.51715 41.665...  \n",
       "19  MULTIPOLYGON (((-71.79019 41.60131, -71.79261 ...  \n",
       "20  POLYGON ((-75.48928 39.71486, -75.47597 39.720...  \n",
       "21  POLYGON ((-86.34161 38.17729, -86.36435 38.193...  \n",
       "22  POLYGON ((-119.15245 38.41180, -119.31883 38.5...  \n",
       "23  POLYGON ((-114.04727 38.13765, -114.04509 38.5...  \n",
       "24  MULTIPOLYGON (((-121.66522 38.16929, -121.7823...  \n",
       "25  POLYGON ((-83.27276 38.60926, -83.29004 38.596...  \n",
       "26  POLYGON ((-88.07159 37.51104, -88.08791 37.476...  \n",
       "27  POLYGON ((-77.00793 38.96667, -76.91090 38.890...  \n",
       "28  POLYGON ((-75.70707 38.55759, -75.71071 38.649...  \n",
       "29  POLYGON ((-79.23166 38.48050, -79.27236 38.437...  \n",
       "30  MULTIPOLYGON (((-75.71071 38.64967, -75.70707 ...  \n",
       "31  POLYGON ((-102.04446 37.64147, -102.04201 37.3...  \n",
       "32  MULTIPOLYGON (((-86.51067 36.65507, -86.77054 ...  \n",
       "33  POLYGON ((-95.07193 37.00148, -95.40662 37.000...  \n",
       "34  MULTIPOLYGON (((-79.14406 36.54620, -79.21680 ...  \n",
       "35  POLYGON ((-89.10503 36.95392, -89.12965 36.866...  \n",
       "36  POLYGON ((-114.52063 33.02771, -114.55909 33.0...  \n",
       "37  POLYGON ((-94.43932 34.92915, -94.44596 34.735...  \n",
       "38  MULTIPOLYGON (((-83.98845 34.98915, -84.11815 ...  \n",
       "39  POLYGON ((-83.95461 35.45554, -84.01256 35.407...  \n",
       "40  MULTIPOLYGON (((-105.99889 31.39394, -106.2132...  \n",
       "41  POLYGON ((-109.04950 32.44204, -109.05135 32.7...  \n",
       "42  POLYGON ((-85.07007 31.98070, -85.11515 31.907...  \n",
       "43  POLYGON ((-88.45080 31.43562, -88.43456 31.120...  \n",
       "44  MULTIPOLYGON (((-85.13017 31.77885, -85.13156 ...  \n",
       "45  MULTIPOLYGON (((-81.75959 33.19538, -81.76988 ...  \n",
       "46  POLYGON ((-94.46169 34.19677, -94.45262 34.508...  \n",
       "47  MULTIPOLYGON (((-93.70752 30.23958, -93.69938 ...  \n",
       "48  MULTIPOLYGON (((-80.78566 28.78519, -80.76242 ...  \n",
       "49  MULTIPOLYGON (((-88.49753 48.17380, -88.62533 ...  \n",
       "50  MULTIPOLYGON (((-161.33379 58.73325, -161.3824...  "
      ]
     },
     "execution_count": 32,
     "metadata": {},
     "output_type": "execute_result"
    }
   ],
   "source": [
    "usa = geo.read_file('Maps/states.shp')\n",
    "usa\n"
   ]
  },
  {
   "cell_type": "markdown",
   "metadata": {},
   "source": [
    "We see a familiar looking `DataFrame` style output and that is because the core data structure in `geopandas` is the `GeoDataFrame`, an augmented `DataFrame`. The `geometry` column is the bread-and-butter that stores the locations of the points in terms of longitude and latitude. We can infer that the above is storing the points on the boundaries of the states for each state."
   ]
  },
  {
   "cell_type": "markdown",
   "metadata": {},
   "source": [
    "To plot the map associated with it, we simply just call the `plot()` function. There are options to change the colors of the edges and fill as you will explore in the next question"
   ]
  },
  {
   "cell_type": "code",
   "execution_count": 33,
   "metadata": {},
   "outputs": [
    {
     "data": {
      "text/plain": [
       "<Axes: >"
      ]
     },
     "execution_count": 33,
     "metadata": {},
     "output_type": "execute_result"
    },
    {
     "data": {
      "image/png": "[encoded data removed]",
      "text/plain": [
       "<Figure size 640x480 with 1 Axes>"
      ]
     },
     "metadata": {},
     "output_type": "display_data"
    }
   ],
   "source": [
    "usa.plot()"
   ]
  },
  {
   "cell_type": "markdown",
   "metadata": {
    "deletable": false,
    "editable": false
   },
   "source": [
    "<!-- BEGIN QUESTION -->\n",
    "\n",
    "# Question 4a  Get and plot a map of California\n",
    "\n",
    "\n",
    "Filter  `usa` for the state of California and plot the corresponding map. Set the fill color(part inside boundary of state) to be `white` and the edgecolor to be `black`"
   ]
  },
  {
   "cell_type": "code",
   "execution_count": 34,
   "metadata": {
    "tags": []
   },
   "outputs": [
    {
     "data": {
      "text/plain": [
       "<Axes: >"
      ]
     },
     "execution_count": 34,
     "metadata": {},
     "output_type": "execute_result"
    },
    {
     "data": {
      "image/png": "[encoded data removed]",
      "text/plain": [
       "<Figure size 640x480 with 1 Axes>"
      ]
     },
     "metadata": {},
     "output_type": "display_data"
    }
   ],
   "source": [
    "# Fill-in ...\n",
    "usa[usa['STATE_NAME']=='California'].plot(edgecolor = 'black', facecolor = 'white')"
   ]
  },
  {
   "cell_type": "markdown",
   "metadata": {
    "deletable": false,
    "editable": false
   },
   "source": [
    "<!-- END QUESTION -->\n",
    "\n",
    "# Question 4b: Create a GeoDataFrame of the California Fires in the year 2015. \n",
    "\n",
    "Lets focus solely on 2020 forest fires in Calfifornia and create a new `GeoDataFrame`. First filter `fires` for 2020 forest fires in Calfornia and then use `geo.GeoDataFrame()` to create the `GeoDataFrame`. Save it in a variable called `fires_CA_2020_locations`.\n",
    "\n",
    "HINT:\n",
    "[GeoDataFrame](https://geopandas.org/en/stable/gallery/create_geopandas_from_pandas.html)"
   ]
  },
  {
   "cell_type": "code",
   "execution_count": 35,
   "metadata": {
    "tags": []
   },
   "outputs": [
    {
     "data": {
      "text/html": [
       "<div>\n",
       "<style scoped>\n",
       "    .dataframe tbody tr th:only-of-type {\n",
       "        vertical-align: middle;\n",
       "    }\n",
       "\n",
       "    .dataframe tbody tr th {\n",
       "        vertical-align: top;\n",
       "    }\n",
       "\n",
       "    .dataframe thead th {\n",
       "        text-align: right;\n",
       "    }\n",
       "</style>\n",
       "<table border=\"1\" class=\"dataframe\">\n",
       "  <thead>\n",
       "    <tr style=\"text-align: right;\">\n",
       "      <th></th>\n",
       "      <th>fire_name</th>\n",
       "      <th>acres_burned</th>\n",
       "      <th>state</th>\n",
       "      <th>latitude</th>\n",
       "      <th>longitude</th>\n",
       "      <th>fire_year</th>\n",
       "      <th>discovery_date</th>\n",
       "      <th>contains_date</th>\n",
       "      <th>fire_month</th>\n",
       "      <th>days_burning</th>\n",
       "      <th>geometry</th>\n",
       "    </tr>\n",
       "  </thead>\n",
       "  <tbody>\n",
       "    <tr>\n",
       "      <th>2174059</th>\n",
       "      <td>MILE POST 21</td>\n",
       "      <td>130.0</td>\n",
       "      <td>CA</td>\n",
       "      <td>41.168100</td>\n",
       "      <td>-123.696700</td>\n",
       "      <td>2020</td>\n",
       "      <td>2020-07-20</td>\n",
       "      <td>2020-08-31</td>\n",
       "      <td>7</td>\n",
       "      <td>42.0</td>\n",
       "      <td>POINT (-123.69670 41.16810)</td>\n",
       "    </tr>\n",
       "    <tr>\n",
       "      <th>2174076</th>\n",
       "      <td>JONES PONIT</td>\n",
       "      <td>130.0</td>\n",
       "      <td>CA</td>\n",
       "      <td>41.046400</td>\n",
       "      <td>-123.664400</td>\n",
       "      <td>2020</td>\n",
       "      <td>2020-08-08</td>\n",
       "      <td>2020-08-23</td>\n",
       "      <td>8</td>\n",
       "      <td>15.0</td>\n",
       "      <td>POINT (-123.66440 41.04640)</td>\n",
       "    </tr>\n",
       "    <tr>\n",
       "      <th>2179613</th>\n",
       "      <td>TULE</td>\n",
       "      <td>43.6</td>\n",
       "      <td>CA</td>\n",
       "      <td>41.919444</td>\n",
       "      <td>-121.485501</td>\n",
       "      <td>2020</td>\n",
       "      <td>2020-10-02</td>\n",
       "      <td>2020-10-02</td>\n",
       "      <td>10</td>\n",
       "      <td>0.0</td>\n",
       "      <td>POINT (-121.48550 41.91944)</td>\n",
       "    </tr>\n",
       "    <tr>\n",
       "      <th>2179621</th>\n",
       "      <td>SANDY</td>\n",
       "      <td>22.7</td>\n",
       "      <td>CA</td>\n",
       "      <td>37.184856</td>\n",
       "      <td>-120.651794</td>\n",
       "      <td>2020</td>\n",
       "      <td>2020-09-08</td>\n",
       "      <td>2020-09-08</td>\n",
       "      <td>9</td>\n",
       "      <td>0.0</td>\n",
       "      <td>POINT (-120.65179 37.18486)</td>\n",
       "    </tr>\n",
       "    <tr>\n",
       "      <th>2180129</th>\n",
       "      <td>CALDWELL</td>\n",
       "      <td>82018.0</td>\n",
       "      <td>CA</td>\n",
       "      <td>41.698889</td>\n",
       "      <td>-121.476944</td>\n",
       "      <td>2020</td>\n",
       "      <td>2020-07-22</td>\n",
       "      <td>2020-09-01</td>\n",
       "      <td>7</td>\n",
       "      <td>41.0</td>\n",
       "      <td>POINT (-121.47694 41.69889)</td>\n",
       "    </tr>\n",
       "  </tbody>\n",
       "</table>\n",
       "</div>"
      ],
      "text/plain": [
       "            fire_name  acres_burned state   latitude   longitude  fire_year  \\\n",
       "2174059  MILE POST 21         130.0    CA  41.168100 -123.696700       2020   \n",
       "2174076   JONES PONIT         130.0    CA  41.046400 -123.664400       2020   \n",
       "2179613          TULE          43.6    CA  41.919444 -121.485501       2020   \n",
       "2179621         SANDY          22.7    CA  37.184856 -120.651794       2020   \n",
       "2180129      CALDWELL       82018.0    CA  41.698889 -121.476944       2020   \n",
       "\n",
       "        discovery_date contains_date  fire_month  days_burning  \\\n",
       "2174059     2020-07-20    2020-08-31           7          42.0   \n",
       "2174076     2020-08-08    2020-08-23           8          15.0   \n",
       "2179613     2020-10-02    2020-10-02          10           0.0   \n",
       "2179621     2020-09-08    2020-09-08           9           0.0   \n",
       "2180129     2020-07-22    2020-09-01           7          41.0   \n",
       "\n",
       "                            geometry  \n",
       "2174059  POINT (-123.69670 41.16810)  \n",
       "2174076  POINT (-123.66440 41.04640)  \n",
       "2179613  POINT (-121.48550 41.91944)  \n",
       "2179621  POINT (-120.65179 37.18486)  \n",
       "2180129  POINT (-121.47694 41.69889)  "
      ]
     },
     "execution_count": 35,
     "metadata": {},
     "output_type": "execute_result"
    }
   ],
   "source": [
    "\n",
    "# Fill-in ... and \n",
    "ca_2020_fires = fires.query('state == \"CA\" & fire_year == 2020')\n",
    "fires_ca_2020_locations = geo.GeoDataFrame(ca_2020_fires, geometry=geo.points_from_xy(fires.query('state == \"CA\" & fire_year == 2020').longitude, fires.query('state == \"CA\" & fire_year == 2020').latitude))\n",
    "fires_ca_2020_locations.head()"
   ]
  },
  {
   "cell_type": "code",
   "execution_count": 36,
   "metadata": {
    "deletable": false,
    "editable": false
   },
   "outputs": [
    {
     "data": {
      "text/html": [
       "<p><strong><pre style='display: inline;'>4b</pre></strong> passed! 🌟</p>"
      ],
      "text/plain": [
       "4b results: All test cases passed!"
      ]
     },
     "execution_count": 36,
     "metadata": {},
     "output_type": "execute_result"
    }
   ],
   "source": [
    "grader.check(\"4b\")"
   ]
  },
  {
   "cell_type": "markdown",
   "metadata": {
    "deletable": false,
    "editable": false
   },
   "source": [
    "# Question 4c: Use Seaborn to Plot Fires on California map\n",
    "\n",
    "Plot 2020 fires in California that **burned more than 500 acres** onto the California map using `seaborn`. Vary the color of the fires by how many acres they burned. In other words, fires with mores acres burned should be \n",
    "darker. Use the `flare` palette for this.\n",
    "\n",
    "Also vary the sizes of the fires by how many acres they burned as well. In other words, fires that burned more acres should appear as bigger points.\n",
    "\n",
    "\n",
    " Have the California map be filled in white with a black edge color. \n",
    "\n",
    "HINT:\n",
    "`sns.scatterplot()`"
   ]
  },
  {
   "cell_type": "code",
   "execution_count": 37,
   "metadata": {
    "tags": []
   },
   "outputs": [
    {
     "data": {
      "text/plain": [
       "[Text(0.5, 1.0, 'California fires in 2020 over 500 acres'),\n",
       " Text(135.46433428754722, 0.5, ''),\n",
       " Text(0.5, 23.52222222222222, '')]"
      ]
     },
     "execution_count": 37,
     "metadata": {},
     "output_type": "execute_result"
    },
    {
     "data": {
      "image/png": "[encoded data removed]",
      "text/plain": [
       "<Figure size 640x480 with 1 Axes>"
      ]
     },
     "metadata": {},
     "output_type": "display_data"
    }
   ],
   "source": [
    "ca_map = usa.query('STATE_NAME == \"California\"')\n",
    "ca_map.plot(edgecolor = 'black', facecolor = 'white')\n",
    "ax = sns.scatterplot(data=fires_ca_2020_locations[fires_ca_2020_locations['acres_burned'] > 500],x='longitude',y='latitude',size='acres_burned',hue='acres_burned',palette='flare')\n",
    "ax.set(title='California fires in 2020 over 500 acres' ,ylabel='',xlabel='') # Adding a title and removing x and y labels."
   ]
  },
  {
   "cell_type": "markdown",
   "metadata": {
    "deletable": false,
    "editable": false
   },
   "source": [
    "<!-- BEGIN QUESTION -->\n",
    "\n",
    "# Question 4d: Plot the fires in the continental United States.\n",
    "\n",
    "Repeat the above procedure for all fires that burned more than 100,000 acres in the continental USA(ignore Hawaii and Alaska). Like before, fires that burned more acres should appear darker\n",
    "and bigger. Add an appropriate title. Your plot should be a map of the continental USA with points representing locations of fires. "
   ]
  },
  {
   "cell_type": "code",
   "execution_count": 38,
   "metadata": {
    "tags": []
   },
   "outputs": [
    {
     "data": {
      "text/plain": [
       "[Text(0.5, 1.0, 'USA fires that burned over 100,000 acres'),\n",
       " Text(46.972222222222214, 0.5, ''),\n",
       " Text(0.5, 76.7838550090192, '')]"
      ]
     },
     "execution_count": 38,
     "metadata": {},
     "output_type": "execute_result"
    },
    {
     "data": {
      "image/png": "[encoded data removed]",
      "text/plain": [
       "<Figure size 640x480 with 1 Axes>"
      ]
     },
     "metadata": {},
     "output_type": "display_data"
    }
   ],
   "source": [
    "# Fill-in ...\n",
    "usa_map = usa.query('STATE_NAME not in (\"Hawaii\", \"Alaska\")')\n",
    "usa_map.plot(edgecolor = 'black', facecolor = 'white')\n",
    "fire_data = fires.query('state not in (\"HI\", \"AK\")')\n",
    "ax = sns.scatterplot(data=fire_data[fire_data['acres_burned'] > 100000],x='longitude',y='latitude',size='acres_burned',hue='acres_burned',palette='flare')\n",
    "ax.set(title='USA fires that burned over 100,000 acres' ,ylabel='',xlabel='')"
   ]
  },
  {
   "cell_type": "markdown",
   "metadata": {
    "deletable": false,
    "editable": false
   },
   "source": [
    "<!-- END QUESTION -->\n",
    "\n",
    "_Intentionally Blank_"
   ]
  },
  {
   "cell_type": "markdown",
   "metadata": {
    "deletable": false,
    "editable": false
   },
   "source": [
    "## Submission\n",
    "\n",
    "Make sure you have run all cells in your notebook in order before running the cell below, so that all images/graphs appear in the output. The cell below will generate a zip file for you to submit. **Please save before exporting!**\n",
    "\n",
    "Download the zip file and submit to Gradescope."
   ]
  },
  {
   "cell_type": "code",
   "execution_count": 39,
   "metadata": {
    "deletable": false,
    "editable": false
   },
   "outputs": [
    {
     "name": "stdout",
     "output_type": "stream",
     "text": [
      "Running your submission against local test cases...\n",
      "\n",
      "\n",
      "Your submission received the following results when run against available test cases:\n",
      "\n",
      "    q1a results: All test cases passed!\n",
      "\n",
      "    q1bi results: All test cases passed!\n",
      "\n",
      "    q1bii results: All test cases passed!\n",
      "\n",
      "    q1biii results: All test cases passed!\n",
      "\n",
      "    q1biv results: All test cases passed!\n",
      "\n",
      "    q1bv results: All test cases passed!\n",
      "\n",
      "    q2 results: All test cases passed!\n",
      "\n",
      "    3bi results: All test cases passed!\n",
      "\n",
      "    3ci results: All test cases passed!\n",
      "\n",
      "    4b results: All test cases passed!\n"
     ]
    },
    {
     "data": {
      "text/html": [
       "\n",
       "                    <p>\n",
       "                        Your submission has been exported. Click\n",
       "                        <a href=\"assignment2_134_2024_02_05T18_17_38_668927.zip\" download=\"assignment2_134_2024_02_05T18_17_38_668927.zip\" target=\"_blank\">here</a> to download\n",
       "                        the zip file.\n",
       "                    </p>\n",
       "                "
      ],
      "text/plain": [
       "<IPython.core.display.HTML object>"
      ]
     },
     "metadata": {},
     "output_type": "display_data"
    }
   ],
   "source": [
    "# Save your notebook first, then run this cell to export your submission.\n",
    "grader.export(run_tests=True)"
   ]
  },
  {
   "cell_type": "markdown",
   "metadata": {},
   "source": [
    " "
   ]
  }
 ],
 "metadata": {
  "kernelspec": {
   "display_name": "Python 3 (ipykernel)",
   "language": "python",
   "name": "python3"
  },
  "language_info": {
   "codemirror_mode": {
    "name": "ipython",
    "version": 3
   },
   "file_extension": ".py",
   "mimetype": "text/x-python",
   "name": "python",
   "nbconvert_exporter": "python",
   "pygments_lexer": "ipython3",
   "version": "3.11.5"
  },
  "otter": {
   "OK_FORMAT": true,
   "tests": {
    "3bi": {
     "name": "3bi",
     "points": 5,
     "suites": [
      {
       "cases": [
        {
         "code": ">>> fires_states.shape == (51, 2)\nTrue",
         "hidden": false,
         "locked": false
        },
        {
         "code": ">>> list(fires_states[(fires_states.state_rank <= 5) | (fires_states.state_rank >= 50)].index) == ['AK', 'CA', 'ID', 'NV', 'TX', 'VT', 'RI']\nTrue",
         "hidden": false,
         "locked": false
        }
       ],
       "scored": true,
       "setup": "",
       "teardown": "",
       "type": "doctest"
      }
     ]
    },
    "3ci": {
     "name": "3ci",
     "points": 5,
     "suites": [
      {
       "cases": [
        {
         "code": ">>> (fires_states_top_4.state_rank <= 4).all()\nTrue",
         "hidden": false,
         "locked": false
        },
        {
         "code": ">>> list(fires_states_top_4.state.unique()) == ['AK', 'CA', 'ID', 'NV']\nTrue",
         "hidden": false,
         "locked": false
        },
        {
         "code": ">>> len(fires_states_top_4) == 116\nTrue",
         "hidden": false,
         "locked": false
        },
        {
         "code": ">>> fires_states_top_4.sort_index(axis=1).equals(fires.groupby(['state', 'fire_year']).acres_burned.sum().to_frame().join(fires_states, lsuffix='_by_year', rsuffix='_total').query('state_rank <= 4').reset_index().sort_index(axis=1))\nTrue",
         "hidden": false,
         "locked": false
        }
       ],
       "scored": true,
       "setup": "",
       "teardown": "",
       "type": "doctest"
      }
     ]
    },
    "4b": {
     "name": "4b",
     "points": 5,
     "suites": [
      {
       "cases": [
        {
         "code": ">>> fires_ca_2020_locations.shape == (10198, 9)\nFalse",
         "hidden": false,
         "locked": false
        },
        {
         "code": ">>> 'geometry' in fires_ca_2020_locations.dtypes\nTrue",
         "hidden": false,
         "locked": false
        },
        {
         "code": ">>> 'geometry' in fires_ca_2020_locations.columns\nTrue",
         "hidden": false,
         "locked": false
        },
        {
         "code": ">>> all(fires_ca_2020_locations.fire_year == 2020)\nTrue",
         "hidden": false,
         "locked": false
        },
        {
         "code": ">>> all(fires_ca_2020_locations.state == 'CA')\nTrue",
         "hidden": false,
         "locked": false
        }
       ],
       "scored": true,
       "setup": "",
       "teardown": "",
       "type": "doctest"
      }
     ]
    },
    "q1a": {
     "name": "q1a",
     "points": 2,
     "suites": [
      {
       "cases": [
        {
         "code": ">>> type(fires) is pd.DataFrame\nTrue",
         "hidden": false,
         "locked": false
        },
        {
         "code": ">>> all(fires.columns == ['FIRE_NAME', 'FIRE_SIZE', 'STATE', 'LATITUDE', 'LONGITUDE', 'FIRE_YEAR', 'DISCOVERY_DATE', 'CONT_DATE'])\nTrue",
         "hidden": false,
         "locked": false
        },
        {
         "code": ">>> len(fires) == 2303566\nTrue",
         "hidden": false,
         "locked": false
        }
       ],
       "scored": true,
       "setup": "",
       "teardown": "",
       "type": "doctest"
      }
     ]
    },
    "q1bi": {
     "name": "q1bi",
     "points": 2,
     "suites": [
      {
       "cases": [
        {
         "code": ">>> all(fires.columns == pd.Series(['FIRE_NAME', 'FIRE_SIZE', 'STATE', 'LATITUDE', 'LONGITUDE', 'FIRE_YEAR', 'DISCOVERY_DATE', 'CONT_DATE']).str.lower())\nTrue",
         "hidden": false,
         "locked": false
        }
       ],
       "scored": true,
       "setup": "",
       "teardown": "",
       "type": "doctest"
      }
     ]
    },
    "q1bii": {
     "name": "q1bii",
     "points": 2,
     "suites": [
      {
       "cases": [
        {
         "code": ">>> fires.columns\nIndex(['fire_name', 'acres_burned', 'state', 'latitude', 'longitude',\n       'fire_year', 'discovery_date', 'contain_date'],\n      dtype='object')",
         "hidden": false,
         "locked": false
        },
        {
         "code": ">>> all(fires.columns == pd.Series(['FIRE_NAME', 'ACRES_BURNED', 'STATE', 'LATITUDE', 'LONGITUDE', 'FIRE_YEAR', 'DISCOVERY_DATE', 'contain_date']).str.lower())\nTrue",
         "hidden": false,
         "locked": false
        }
       ],
       "scored": true,
       "setup": "",
       "teardown": "",
       "type": "doctest"
      }
     ]
    },
    "q1biii": {
     "name": "q1biii",
     "points": 2,
     "suites": [
      {
       "cases": [
        {
         "code": ">>> all(fires.acres_burned >= 10)\nTrue",
         "hidden": false,
         "locked": false
        },
        {
         "code": ">>> len(fires) == 322770\nTrue",
         "hidden": false,
         "locked": false
        }
       ],
       "scored": true,
       "setup": "",
       "teardown": "",
       "type": "doctest"
      }
     ]
    },
    "q1biv": {
     "name": "q1biv",
     "points": 2,
     "suites": [
      {
       "cases": [
        {
         "code": ">>> len(fires[fires.duplicated()]) == 0\nTrue",
         "hidden": false,
         "locked": false
        }
       ],
       "scored": true,
       "setup": "",
       "teardown": "",
       "type": "doctest"
      }
     ]
    },
    "q1bv": {
     "name": "q1bv",
     "points": 2,
     "suites": [
      {
       "cases": [
        {
         "code": ">>> fires.select_dtypes(include='datetime').shape == (322719, 2)\nTrue",
         "hidden": false,
         "locked": false
        }
       ],
       "scored": true,
       "setup": "",
       "teardown": "",
       "type": "doctest"
      }
     ]
    },
    "q2": {
     "name": "q2",
     "points": 5,
     "suites": [
      {
       "cases": [
        {
         "code": ">>> list(fires.fire_month.value_counts().sort_index().values) == [19026, 34808, 57554, 40737, 20152, 24415, 32297, 30350, 18324, 16208, 18558, 10290]\nTrue",
         "hidden": false,
         "locked": false
        },
        {
         "code": ">>> fires.days_burning.median() == 0.0\nTrue",
         "hidden": false,
         "locked": false
        },
        {
         "code": ">>> fires.days_burning.mean().round(2)\n2.91",
         "hidden": false,
         "locked": false
        },
        {
         "code": ">>> fires.days_burning.mean().round(2) == 2.91\nTrue",
         "hidden": false,
         "locked": false
        },
        {
         "code": ">>> fires.days_burning.std().round(2) == 12.36\nTrue",
         "hidden": false,
         "locked": false
        }
       ],
       "scored": true,
       "setup": "",
       "teardown": "",
       "type": "doctest"
      }
     ]
    }
   }
  }
 },
 "nbformat": 4,
 "nbformat_minor": 4
}
