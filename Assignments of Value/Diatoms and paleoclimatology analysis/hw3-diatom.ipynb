{
 "cells": [
  {
   "cell_type": "code",
   "execution_count": 1,
   "metadata": {
    "deletable": false,
    "editable": false
   },
   "outputs": [],
   "source": [
    "# Initialize Otter\n",
    "import otter\n",
    "grader = otter.Notebook(\"hw3-diatom.ipynb\")"
   ]
  },
  {
   "cell_type": "code",
   "execution_count": 2,
   "metadata": {},
   "outputs": [
    {
     "data": {
      "text/plain": [
       "RendererRegistry.enable('mimetype')"
      ]
     },
     "execution_count": 2,
     "metadata": {},
     "output_type": "execute_result"
    }
   ],
   "source": [
    "import numpy as np\n",
    "import pandas as pd\n",
    "import altair as alt\n",
    "from sklearn.decomposition import PCA\n",
    "import statsmodels.api as sm\n",
    "# disable row limit for plotting\n",
    "alt.data_transformers.disable_max_rows()\n",
    "# uncomment to ensure graphics display with pdf export\n",
    "alt.renderers.enable('mimetype')"
   ]
  },
  {
   "cell_type": "markdown",
   "metadata": {},
   "source": [
    "# Background: diatoms and paleoclimatology\n",
    "\n",
    "Diatoms are a type of phytoplankton -- they are photosynthetic algae that function as primary producers in aquatic ecosystems. Diatoms are at the bottom of the food web: they are consumed by filter feeders, like clams, mussels, and many fish, which are in turn consumed by larger organisms like scavengers and predators and, well, us. As a result, changes in the composition of diatom species in marine ecosystems have ripple effects that can dramatically alter overall community structure in any environment of which marine life forms a part. \n",
    "\n",
    "Diatoms have glass bodies. As a group of organisms, they display a great diversity of body shapes, and many are quite elaborate. The image below, taken from a Scientific American article, shows a small sample of their shapes and structures.\n",
    "\n",
    "<center><img src='figures/diatoms-sciam.jpg' style='width:400px'></center>\n",
    "\n",
    "Because they are made of glass, diatoms preserve extraordinarily well over time. When they die, their bodies sink and form part of the sediment. Due to their abundance, there is a sort of steady rain of diatoms forming part of the sedimentation process, which produces sediment layers that are dense with diatoms.\n",
    "\n",
    "Sedimentation is a long-term process spanning great stretches of time, and the deeper one looks in sediment, the older the material. Since diatoms are present in high density throughout sedimentation layers, and they preserve so well, it is possible to study their presence over longer time spans -- potentially hundreds of thousands of years. \n",
    "\n",
    "A branch of paleoclimatology is dedicated to studying changes in biological productivity on geologic time scales, and much research in this area has involved studying the relative abundances of diatoms. In this assignment, you'll do just that on a small scale and work with data from sediment cores taken in the gulf of California at the location indicated on the map:\n",
    "\n",
    "<center><img src='figures/site1-barron2004.png' style='width:400px'></center>\n",
    "\n",
    "The data is publicly available: \n",
    "> Barron, J.A., *et al.* 2005. High Resolution Guaymas Basin Geochemical, Diatom, and Silicoflagellate Data. IGBP PAGES/World Data Center for Paleoclimatology Data Contribution Series # 2005-022. NOAA/NGDC Paleoclimatology Program, Boulder CO, USA.\n",
    "\n",
    "In this assignment, you'll use the exploratory techniques we've been discussing in class to analyze the relative abundances of diatom taxa over a time span of 15,000 years. This will involve practicing the following:\n",
    "\n",
    "* data import and preprocessing\n",
    "* graphical techniques for visualizing distributions\n",
    "* multivariate analysis with PCA"
   ]
  },
  {
   "cell_type": "markdown",
   "metadata": {},
   "source": [
    "# Diatom data\n",
    "\n",
    "The data are diatom counts sampled from evenly-spaced depths in a sediment core from the gulf of California. In sediment cores, depth correlates with time before the present -- deeper layers are older -- and depths are typically chosen to obtain a desired temporal resolution. The counts were recorded by sampling material from sediment cores at each depth, and examining the sampled material for phytoplankton cells. For each sample, phytoplankton were identified at the taxon level and counts of diatom taxa were recorded along with the total number of phytoplankton cells identified. Thus:\n",
    "\n",
    "* The **observational units** are _**sediment samples**_.  \n",
    "* The **variables** are _**depth (age), diatom abundance counts, and the total number of identified phytoplankton**_. Age is inferred from radiocarbon. \n",
    "* One **observation** is made at _**each depth**_ from 0cm (surface) to  13.71 cm. \n",
    "\n",
    "The table below provides variable descriptions and units for each column in the dataframe.\n",
    "\n",
    "Variable | Description | Units\n",
    "---|---|---\n",
    "Depth | Depth interval location of sampled material in sediment core | Centimeters (cm)\n",
    "Age | Radiocarbon age | Thousands of years before present (KyrBP)\n",
    "A_curv | Abundance of *Actinocyclus curvatulus* | Count (n)\n",
    "A_octon | Abundance of *Actinocyclus octonarius* | Count (n)\n",
    "ActinSpp | Abundance of *Actinoptychus* species | Count (n)\n",
    "A_nodul | Abundance of *Azpeitia nodulifer* | Count (n)\n",
    "CocsinSpp | Abundance of *Coscinodiscus* species | Count (n)\n",
    "CyclotSpp | Abundance of *Cyclotella* species | Count (n)\n",
    "Rop_tess | Abundance of *Roperia tesselata* | Count (n)\n",
    "StephanSpp | Abundance of *Stephanopyxis* species | Count (n)\n",
    "Num.counted | Number of diatoms counted in sample | Count (n)\n",
    "\n",
    "The cell below imports the data."
   ]
  },
  {
   "cell_type": "code",
   "execution_count": 3,
   "metadata": {},
   "outputs": [
    {
     "data": {
      "text/html": [
       "<div>\n",
       "<style scoped>\n",
       "    .dataframe tbody tr th:only-of-type {\n",
       "        vertical-align: middle;\n",
       "    }\n",
       "\n",
       "    .dataframe tbody tr th {\n",
       "        vertical-align: top;\n",
       "    }\n",
       "\n",
       "    .dataframe thead th {\n",
       "        text-align: right;\n",
       "    }\n",
       "</style>\n",
       "<table border=\"1\" class=\"dataframe\">\n",
       "  <thead>\n",
       "    <tr style=\"text-align: right;\">\n",
       "      <th></th>\n",
       "      <th>Depth</th>\n",
       "      <th>Age</th>\n",
       "      <th>A_curv</th>\n",
       "      <th>A_octon</th>\n",
       "      <th>ActinSpp</th>\n",
       "      <th>A_nodul</th>\n",
       "      <th>CoscinSpp</th>\n",
       "      <th>CyclotSpp</th>\n",
       "      <th>Rop_tess</th>\n",
       "      <th>StephanSpp</th>\n",
       "      <th>Num.counted</th>\n",
       "    </tr>\n",
       "  </thead>\n",
       "  <tbody>\n",
       "    <tr>\n",
       "      <th>0</th>\n",
       "      <td>0.00</td>\n",
       "      <td>1.33</td>\n",
       "      <td>5.0</td>\n",
       "      <td>2.0</td>\n",
       "      <td>32</td>\n",
       "      <td>14.0</td>\n",
       "      <td>21</td>\n",
       "      <td>22.0</td>\n",
       "      <td>1.0</td>\n",
       "      <td>1.0</td>\n",
       "      <td>201</td>\n",
       "    </tr>\n",
       "    <tr>\n",
       "      <th>1</th>\n",
       "      <td>0.05</td>\n",
       "      <td>1.37</td>\n",
       "      <td>8.0</td>\n",
       "      <td>2.0</td>\n",
       "      <td>31</td>\n",
       "      <td>16.0</td>\n",
       "      <td>20</td>\n",
       "      <td>16.0</td>\n",
       "      <td>7.0</td>\n",
       "      <td>2.0</td>\n",
       "      <td>200</td>\n",
       "    </tr>\n",
       "    <tr>\n",
       "      <th>2</th>\n",
       "      <td>0.10</td>\n",
       "      <td>1.42</td>\n",
       "      <td>8.0</td>\n",
       "      <td>6.0</td>\n",
       "      <td>33</td>\n",
       "      <td>18.0</td>\n",
       "      <td>29</td>\n",
       "      <td>7.0</td>\n",
       "      <td>1.0</td>\n",
       "      <td>1.0</td>\n",
       "      <td>200</td>\n",
       "    </tr>\n",
       "    <tr>\n",
       "      <th>3</th>\n",
       "      <td>0.15</td>\n",
       "      <td>1.46</td>\n",
       "      <td>11.0</td>\n",
       "      <td>1.0</td>\n",
       "      <td>21</td>\n",
       "      <td>1.0</td>\n",
       "      <td>12</td>\n",
       "      <td>28.0</td>\n",
       "      <td>25.0</td>\n",
       "      <td>3.0</td>\n",
       "      <td>200</td>\n",
       "    </tr>\n",
       "    <tr>\n",
       "      <th>4</th>\n",
       "      <td>0.20</td>\n",
       "      <td>1.51</td>\n",
       "      <td>11.0</td>\n",
       "      <td>1.0</td>\n",
       "      <td>38</td>\n",
       "      <td>3.0</td>\n",
       "      <td>18</td>\n",
       "      <td>24.0</td>\n",
       "      <td>3.0</td>\n",
       "      <td>NaN</td>\n",
       "      <td>300</td>\n",
       "    </tr>\n",
       "  </tbody>\n",
       "</table>\n",
       "</div>"
      ],
      "text/plain": [
       "   Depth   Age  A_curv  A_octon  ActinSpp  A_nodul  CoscinSpp  CyclotSpp  \\\n",
       "0   0.00  1.33     5.0      2.0        32     14.0         21       22.0   \n",
       "1   0.05  1.37     8.0      2.0        31     16.0         20       16.0   \n",
       "2   0.10  1.42     8.0      6.0        33     18.0         29        7.0   \n",
       "3   0.15  1.46    11.0      1.0        21      1.0         12       28.0   \n",
       "4   0.20  1.51    11.0      1.0        38      3.0         18       24.0   \n",
       "\n",
       "   Rop_tess  StephanSpp  Num.counted  \n",
       "0       1.0         1.0          201  \n",
       "1       7.0         2.0          200  \n",
       "2       1.0         1.0          200  \n",
       "3      25.0         3.0          200  \n",
       "4       3.0         NaN          300  "
      ]
     },
     "execution_count": 3,
     "metadata": {},
     "output_type": "execute_result"
    }
   ],
   "source": [
    "# import diatom data\n",
    "diatoms_raw = pd.read_csv('data/barron-diatoms.csv')\n",
    "diatoms_raw.head(5)"
   ]
  },
  {
   "cell_type": "markdown",
   "metadata": {},
   "source": [
    "The data are already in tidy format, because each row is an observation (a set of measurements on one sample of sediment) and each column is a variable (one of age, depth, or counts). However, examine rows 3 and 4, and note:\n",
    "\n",
    "1. NaNs are present\n",
    "2. The number of individuals counted in each sample varies by a lot from sample to sample.\n",
    "\n",
    "Let's address those before conducting initial explorations.\n",
    "\n",
    "The NaNs are an artefact of the data recording -- if *no* diatoms in a particular taxa are observed, a `-` is entered in the table (you can verify this by checking the .csv file). In these cases the value isn't missing, but rather zero. These entries are parsed by pandas as NaNs, but they correspond to a value of 0 (no diatoms observed). "
   ]
  },
  {
   "cell_type": "markdown",
   "metadata": {},
   "source": [
    "### Question 1: Filling NaNs\n",
    "\n",
    "Use `.fill_na()` to replace all NaNs by zeros, and store the result as `diatoms_mod1`. Store rows 4 and 5 (index, not integer location) of the resulting dataframe as `diatoms_mod1_examplerows` and display these rows."
   ]
  },
  {
   "cell_type": "code",
   "execution_count": 4,
   "metadata": {
    "tags": []
   },
   "outputs": [
    {
     "name": "stdout",
     "output_type": "stream",
     "text": [
      "   Depth   Age  A_curv  A_octon  ActinSpp  A_nodul  CoscinSpp  CyclotSpp  \\\n",
      "4   0.20  1.51    11.0      1.0        38      3.0         18       24.0   \n",
      "5   0.25  1.55     4.0      9.0        30     10.0         16       14.0   \n",
      "\n",
      "   Rop_tess  StephanSpp  Num.counted  \n",
      "4       3.0         0.0          300  \n",
      "5      16.0         0.0          203  \n"
     ]
    }
   ],
   "source": [
    "diatoms_mod1 = diatoms_raw.fillna(0)\n",
    "\n",
    "# print rows 4 and 5\n",
    "diatoms_mod1_examplerows = diatoms_mod1.loc[[4,5]]\n",
    "print(diatoms_mod1_examplerows)"
   ]
  },
  {
   "cell_type": "code",
   "execution_count": 5,
   "metadata": {
    "deletable": false,
    "editable": false
   },
   "outputs": [
    {
     "data": {
      "text/html": [
       "<p><strong><pre style='display: inline;'>q1</pre></strong> passed! 🎉</p>"
      ],
      "text/plain": [
       "q1 results: All test cases passed!"
      ]
     },
     "execution_count": 5,
     "metadata": {},
     "output_type": "execute_result"
    }
   ],
   "source": [
    "grader.check(\"q1\")"
   ]
  },
  {
   "cell_type": "markdown",
   "metadata": {},
   "source": [
    "Since the total number of phytoplankton counted in each sample varies, the raw counts are not directly comparable -- *e.g.*, a count of 18 is actually a *different* abundance in a sample with 200 individuals counted than in a sample with 300 individuals counted.\n",
    "\n",
    "For exploratory analysis, you'll want the values to be comparable across rows. This can be achieved by a simple transformation so that the values are *relative* abundances: *proportions* of phytoplankton observed from each taxon."
   ]
  },
  {
   "cell_type": "markdown",
   "metadata": {},
   "source": [
    "### Question 2: Counts to proportions\n",
    "\n",
    "Convert the counts to proportions by dividing by the relevant entry in the `Num.counted` column. There are a few ways to do this, but here's one approach:\n",
    "\n",
    "1. Set Depth and Age to row indices using `.set_index(...)` and store the result as `diatoms_mod2`.\n",
    "2. Store the `Num.counted` column from `diatoms_mod2` as `sampsize`.\n",
    "3. Use `.div(...)` to divide entrywise every column in `diatoms_mod2` by `sampsize` and store the result as `diatoms_mod3`.\n",
    "4. Drop the `Num.counted` column from `diatoms_mod3` and reset the index; store the result as `diatoms`.\n",
    "\n",
    "Carry out these steps and print the first four rows of `diatoms`.\n",
    "\n",
    "(*Hint*: careful with the `axis = ...` argument in `.div(...)`; you may want to look at the [documentation](https://pandas.pydata.org/docs/reference/api/pandas.DataFrame.div.html) and check one or two values manually to verify the calculation works as intended.)\n"
   ]
  },
  {
   "cell_type": "code",
   "execution_count": 6,
   "metadata": {
    "tags": []
   },
   "outputs": [
    {
     "data": {
      "text/html": [
       "<div>\n",
       "<style scoped>\n",
       "    .dataframe tbody tr th:only-of-type {\n",
       "        vertical-align: middle;\n",
       "    }\n",
       "\n",
       "    .dataframe tbody tr th {\n",
       "        vertical-align: top;\n",
       "    }\n",
       "\n",
       "    .dataframe thead th {\n",
       "        text-align: right;\n",
       "    }\n",
       "</style>\n",
       "<table border=\"1\" class=\"dataframe\">\n",
       "  <thead>\n",
       "    <tr style=\"text-align: right;\">\n",
       "      <th></th>\n",
       "      <th>Depth</th>\n",
       "      <th>Age</th>\n",
       "      <th>A_curv</th>\n",
       "      <th>A_octon</th>\n",
       "      <th>ActinSpp</th>\n",
       "      <th>A_nodul</th>\n",
       "      <th>CoscinSpp</th>\n",
       "      <th>CyclotSpp</th>\n",
       "      <th>Rop_tess</th>\n",
       "      <th>StephanSpp</th>\n",
       "    </tr>\n",
       "  </thead>\n",
       "  <tbody>\n",
       "    <tr>\n",
       "      <th>0</th>\n",
       "      <td>0.00</td>\n",
       "      <td>1.33</td>\n",
       "      <td>0.024876</td>\n",
       "      <td>0.009950</td>\n",
       "      <td>0.159204</td>\n",
       "      <td>0.069652</td>\n",
       "      <td>0.104478</td>\n",
       "      <td>0.109453</td>\n",
       "      <td>0.004975</td>\n",
       "      <td>0.004975</td>\n",
       "    </tr>\n",
       "    <tr>\n",
       "      <th>1</th>\n",
       "      <td>0.05</td>\n",
       "      <td>1.37</td>\n",
       "      <td>0.040000</td>\n",
       "      <td>0.010000</td>\n",
       "      <td>0.155000</td>\n",
       "      <td>0.080000</td>\n",
       "      <td>0.100000</td>\n",
       "      <td>0.080000</td>\n",
       "      <td>0.035000</td>\n",
       "      <td>0.010000</td>\n",
       "    </tr>\n",
       "    <tr>\n",
       "      <th>2</th>\n",
       "      <td>0.10</td>\n",
       "      <td>1.42</td>\n",
       "      <td>0.040000</td>\n",
       "      <td>0.030000</td>\n",
       "      <td>0.165000</td>\n",
       "      <td>0.090000</td>\n",
       "      <td>0.145000</td>\n",
       "      <td>0.035000</td>\n",
       "      <td>0.005000</td>\n",
       "      <td>0.005000</td>\n",
       "    </tr>\n",
       "    <tr>\n",
       "      <th>3</th>\n",
       "      <td>0.15</td>\n",
       "      <td>1.46</td>\n",
       "      <td>0.055000</td>\n",
       "      <td>0.005000</td>\n",
       "      <td>0.105000</td>\n",
       "      <td>0.005000</td>\n",
       "      <td>0.060000</td>\n",
       "      <td>0.140000</td>\n",
       "      <td>0.125000</td>\n",
       "      <td>0.015000</td>\n",
       "    </tr>\n",
       "    <tr>\n",
       "      <th>4</th>\n",
       "      <td>0.20</td>\n",
       "      <td>1.51</td>\n",
       "      <td>0.036667</td>\n",
       "      <td>0.003333</td>\n",
       "      <td>0.126667</td>\n",
       "      <td>0.010000</td>\n",
       "      <td>0.060000</td>\n",
       "      <td>0.080000</td>\n",
       "      <td>0.010000</td>\n",
       "      <td>0.000000</td>\n",
       "    </tr>\n",
       "  </tbody>\n",
       "</table>\n",
       "</div>"
      ],
      "text/plain": [
       "   Depth   Age    A_curv   A_octon  ActinSpp   A_nodul  CoscinSpp  CyclotSpp  \\\n",
       "0   0.00  1.33  0.024876  0.009950  0.159204  0.069652   0.104478   0.109453   \n",
       "1   0.05  1.37  0.040000  0.010000  0.155000  0.080000   0.100000   0.080000   \n",
       "2   0.10  1.42  0.040000  0.030000  0.165000  0.090000   0.145000   0.035000   \n",
       "3   0.15  1.46  0.055000  0.005000  0.105000  0.005000   0.060000   0.140000   \n",
       "4   0.20  1.51  0.036667  0.003333  0.126667  0.010000   0.060000   0.080000   \n",
       "\n",
       "   Rop_tess  StephanSpp  \n",
       "0  0.004975    0.004975  \n",
       "1  0.035000    0.010000  \n",
       "2  0.005000    0.005000  \n",
       "3  0.125000    0.015000  \n",
       "4  0.010000    0.000000  "
      ]
     },
     "execution_count": 6,
     "metadata": {},
     "output_type": "execute_result"
    }
   ],
   "source": [
    "# set depth, age to indices\n",
    "diatoms_mod2 = diatoms_mod1.set_index(['Depth', 'Age'])\n",
    "\n",
    "# store sample sizes\n",
    "sampsize = diatoms_mod2['Num.counted']\n",
    "\n",
    "# divide\n",
    "diatoms_mod3 = diatoms_mod2.div(sampsize,  axis = 'index')\n",
    "\n",
    "# drop num.counted and reset index\n",
    "diatoms = diatoms_mod3.drop(columns = 'Num.counted').reset_index()\n",
    "\n",
    "# print\n",
    "diatoms.head()"
   ]
  },
  {
   "cell_type": "code",
   "execution_count": 7,
   "metadata": {
    "deletable": false,
    "editable": false
   },
   "outputs": [
    {
     "data": {
      "text/html": [
       "<p><strong><pre style='display: inline;'>q2</pre></strong> passed! 🎉</p>"
      ],
      "text/plain": [
       "q2 results: All test cases passed!"
      ]
     },
     "execution_count": 7,
     "metadata": {},
     "output_type": "execute_result"
    }
   ],
   "source": [
    "grader.check(\"q2\")"
   ]
  },
  {
   "cell_type": "markdown",
   "metadata": {},
   "source": [
    "Take a moment to think about what the data represent. They are relative abundances over time; essentially, snapshots of the community composition of diatoms over time, and thus information about how ecological community composition changes.\n",
    "\n",
    "Before diving in, it will be helpful to resolve two matters:\n",
    "\n",
    "1. How far back in time do the data go?\n",
    "2. What is the time resolution of the data?"
   ]
  },
  {
   "cell_type": "markdown",
   "metadata": {},
   "source": [
    "### Question 3: Time span\n",
    "\n",
    "What is the geological time span covered by the data? Compute the minimum and maximum age using `.aggregate(...)` and store the result as `min_max_age`. (You will need to use `.aggregate()` to pass the automated tests.)\n",
    "\n",
    "*Note*: This may be a new function for you, but it's simple: it takes as an argument a list of functions that will be applied to the dataframe (columnwise by default). So for example, to get the mean and variance of each column in `df`, one would use `df.aggregate(['mean', 'var'])`. See the [documentation](https://pandas.pydata.org/docs/reference/api/pandas.DataFrame.aggregate.html) for further examples.\n",
    "\n",
    "*Remember*: age is reported as thousands of years before present, so `Age = 2` means 2000 years ago."
   ]
  },
  {
   "cell_type": "code",
   "execution_count": 8,
   "metadata": {
    "tags": []
   },
   "outputs": [
    {
     "data": {
      "text/plain": [
       "min     1.33\n",
       "max    15.19\n",
       "Name: Age, dtype: float64"
      ]
     },
     "execution_count": 8,
     "metadata": {},
     "output_type": "execute_result"
    }
   ],
   "source": [
    "min_max_age = diatoms['Age'].aggregate(['min', 'max'])\n",
    "min_max_age"
   ]
  },
  {
   "cell_type": "code",
   "execution_count": 9,
   "metadata": {
    "deletable": false,
    "editable": false
   },
   "outputs": [
    {
     "data": {
      "text/html": [
       "<p><strong><pre style='display: inline;'>q3</pre></strong> passed! 🎉</p>"
      ],
      "text/plain": [
       "q3 results: All test cases passed!"
      ]
     },
     "execution_count": 9,
     "metadata": {},
     "output_type": "execute_result"
    }
   ],
   "source": [
    "grader.check(\"q3\")"
   ]
  },
  {
   "cell_type": "markdown",
   "metadata": {},
   "source": [
    "<!-- BEGIN QUESTION -->\n",
    "\n",
    "### Question 4: Time resolution\n",
    "\n",
    "**(i) How are the observations spaced in time?**\n",
    "\n",
    "Follow these steps:\n",
    "\n",
    "1. Extract the `Age` column from `diatoms`, sort the values in ascending order, compute the differences between consecutive rows, and store the result as `diffs`.\n",
    "    + *Hint*: use `.sort_values()` and `.diff()`.\n",
    "    + *Notice*: that the first difference is NaN, because there is no previous value to compare the first row with. Drop this entry when you store `diffs`.\n",
    "2. Make a simple count histogram (no need to manually bin or convert to density scale) with bins of width 0.02 (20 years). Store this as `fig1` and display the figure.\n",
    "    + Label the x axis 'Time step between consecutive samples'\n",
    "    + Put the y axis on a square root scale so that bins with one observation are discernible\n",
    "\n",
    "**(ii) What is the typical time step in years?**\n",
    "\n",
    "Write your answer based on the count histogram."
   ]
  },
  {
   "cell_type": "markdown",
   "metadata": {},
   "source": [
    "The observations are generally about 20-100 years apart with some consecutive samples even exceeding 1000 years apart. The typical time step is 0.04-0.06 which means the observations are usually about 40-60 years apart."
   ]
  },
  {
   "cell_type": "code",
   "execution_count": 10,
   "metadata": {
    "tags": []
   },
   "outputs": [
    {
     "data": {
      "application/vnd.vegalite.v5+json": {
       "$schema": "https://vega.github.io/schema/vega-lite/v5.14.1.json",
       "config": {
        "view": {
         "continuousHeight": 300,
         "continuousWidth": 300
        }
       },
       "data": {
        "name": "data-1fad5eb1bb8f0f175f9b039d9feb5253"
       },
       "datasets": {
        "data-1fad5eb1bb8f0f175f9b039d9feb5253": [
         {
          "diff": 0.040000000000000036
         },
         {
          "diff": 0.04999999999999982
         },
         {
          "diff": 0.040000000000000036
         },
         {
          "diff": 0.050000000000000044
         },
         {
          "diff": 0.040000000000000036
         },
         {
          "diff": 0.040000000000000036
         },
         {
          "diff": 0.04999999999999982
         },
         {
          "diff": 0.040000000000000036
         },
         {
          "diff": 0.040000000000000036
         },
         {
          "diff": 0.050000000000000044
         },
         {
          "diff": 0.040000000000000036
         },
         {
          "diff": 0.050000000000000044
         },
         {
          "diff": 0.039999999999999813
         },
         {
          "diff": 0.040000000000000036
         },
         {
          "diff": 0.050000000000000044
         },
         {
          "diff": 0.039999999999999813
         },
         {
          "diff": 0.050000000000000266
         },
         {
          "diff": 0.040000000000000036
         },
         {
          "diff": 0.040000000000000036
         },
         {
          "diff": 0.04999999999999982
         },
         {
          "diff": 0.040000000000000036
         },
         {
          "diff": 0.040000000000000036
         },
         {
          "diff": 0.04999999999999982
         },
         {
          "diff": 0.040000000000000036
         },
         {
          "diff": 0.050000000000000266
         },
         {
          "diff": 0.040000000000000036
         },
         {
          "diff": 0.03999999999999959
         },
         {
          "diff": 0.050000000000000266
         },
         {
          "diff": 0.08000000000000007
         },
         {
          "diff": 0.009999999999999787
         },
         {
          "diff": 0.040000000000000036
         },
         {
          "diff": 0.040000000000000036
         },
         {
          "diff": 0.04999999999999982
         },
         {
          "diff": 0.040000000000000036
         },
         {
          "diff": 0.050000000000000266
         },
         {
          "diff": 0.040000000000000036
         },
         {
          "diff": 0.040000000000000036
         },
         {
          "diff": 0.04999999999999982
         },
         {
          "diff": 0.040000000000000036
         },
         {
          "diff": 0.040000000000000036
         },
         {
          "diff": 0.04999999999999982
         },
         {
          "diff": 0.040000000000000036
         },
         {
          "diff": 0.050000000000000266
         },
         {
          "diff": 0.03999999999999959
         },
         {
          "diff": 0.040000000000000036
         },
         {
          "diff": 0.050000000000000266
         },
         {
          "diff": 0.040000000000000036
         },
         {
          "diff": 0.04999999999999982
         },
         {
          "diff": 0.040000000000000036
         },
         {
          "diff": 0.040000000000000036
         },
         {
          "diff": 0.04999999999999982
         },
         {
          "diff": 0.03000000000000025
         },
         {
          "diff": 0.04999999999999982
         },
         {
          "diff": 0.050000000000000266
         },
         {
          "diff": 0.040000000000000036
         },
         {
          "diff": 0.04999999999999982
         },
         {
          "diff": 0.040000000000000036
         },
         {
          "diff": 0.040000000000000036
         },
         {
          "diff": 0.04999999999999982
         },
         {
          "diff": 0.040000000000000036
         },
         {
          "diff": 0
         },
         {
          "diff": 0.04999999999999982
         },
         {
          "diff": 0.040000000000000036
         },
         {
          "diff": 0.08999999999999986
         },
         {
          "diff": 0.040000000000000036
         },
         {
          "diff": 0.040000000000000036
         },
         {
          "diff": 0.04999999999999982
         },
         {
          "diff": 0.040000000000000036
         },
         {
          "diff": 0.05000000000000071
         },
         {
          "diff": 0.040000000000000036
         },
         {
          "diff": 0.040000000000000036
         },
         {
          "diff": 0.04999999999999982
         },
         {
          "diff": 0.040000000000000036
         },
         {
          "diff": 0.04999999999999982
         },
         {
          "diff": 0.040000000000000036
         },
         {
          "diff": 0.8799999999999999
         },
         {
          "diff": 0.040000000000000036
         },
         {
          "diff": 0.040000000000000036
         },
         {
          "diff": 0.04999999999999982
         },
         {
          "diff": 0.040000000000000036
         },
         {
          "diff": 0.04999999999999982
         },
         {
          "diff": 0.040000000000000036
         },
         {
          "diff": 0.040000000000000036
         },
         {
          "diff": 0.04999999999999982
         },
         {
          "diff": 0.040000000000000036
         },
         {
          "diff": 0.05000000000000071
         },
         {
          "diff": 0.040000000000000036
         },
         {
          "diff": 0.03999999999999915
         },
         {
          "diff": 0.05000000000000071
         },
         {
          "diff": 0.040000000000000036
         },
         {
          "diff": 0.040000000000000036
         },
         {
          "diff": 0.04999999999999982
         },
         {
          "diff": 0.040000000000000036
         },
         {
          "diff": 0.04999999999999982
         },
         {
          "diff": 0.040000000000000036
         },
         {
          "diff": 0.040000000000000036
         },
         {
          "diff": 0.04999999999999982
         },
         {
          "diff": 0.040000000000000036
         },
         {
          "diff": 0.04999999999999982
         },
         {
          "diff": 0.040000000000000036
         },
         {
          "diff": 0.040000000000000036
         },
         {
          "diff": 0.04999999999999982
         },
         {
          "diff": 0.040000000000000036
         },
         {
          "diff": 0.040000000000000036
         },
         {
          "diff": 0.04999999999999982
         },
         {
          "diff": 0.040000000000000036
         },
         {
          "diff": 0.05000000000000071
         },
         {
          "diff": 0.040000000000000036
         },
         {
          "diff": 0.040000000000000036
         },
         {
          "diff": 0.04999999999999982
         },
         {
          "diff": 0.040000000000000036
         },
         {
          "diff": 0.04999999999999982
         },
         {
          "diff": 0.040000000000000036
         },
         {
          "diff": 0.040000000000000036
         },
         {
          "diff": 0.04999999999999982
         },
         {
          "diff": 0.040000000000000036
         },
         {
          "diff": 0.040000000000000036
         },
         {
          "diff": 0.04999999999999982
         },
         {
          "diff": 0.040000000000000036
         },
         {
          "diff": 0.04999999999999982
         },
         {
          "diff": 0.040000000000000036
         },
         {
          "diff": 0.040000000000000036
         },
         {
          "diff": 0.04999999999999982
         },
         {
          "diff": 0.040000000000000036
         },
         {
          "diff": 0.05000000000000071
         },
         {
          "diff": 0.040000000000000036
         },
         {
          "diff": 0.040000000000000036
         },
         {
          "diff": 0.04999999999999982
         },
         {
          "diff": 0.040000000000000036
         },
         {
          "diff": 0.04999999999999982
         },
         {
          "diff": 0.040000000000000036
         },
         {
          "diff": 0.040000000000000036
         },
         {
          "diff": 0.04999999999999982
         },
         {
          "diff": 0.03999999999999915
         },
         {
          "diff": 0.040000000000000924
         },
         {
          "diff": 0.05000000000000071
         },
         {
          "diff": 0.03999999999999915
         },
         {
          "diff": 0.4399999999999995
         },
         {
          "diff": 0.040000000000000924
         },
         {
          "diff": 0.049999999999998934
         },
         {
          "diff": 0.040000000000000924
         },
         {
          "diff": 0.049999999999998934
         },
         {
          "diff": 0.040000000000000924
         },
         {
          "diff": 0.03999999999999915
         },
         {
          "diff": 0.05000000000000071
         },
         {
          "diff": 0.040000000000000924
         },
         {
          "diff": 1.1399999999999988
         },
         {
          "diff": 0.08000000000000007
         },
         {
          "diff": 0.08999999999999986
         },
         {
          "diff": 0.08000000000000007
         },
         {
          "diff": 0.08000000000000007
         },
         {
          "diff": 0.08999999999999986
         },
         {
          "diff": 0.08000000000000007
         },
         {
          "diff": 0.08000000000000007
         },
         {
          "diff": 0.08999999999999986
         },
         {
          "diff": 0.08000000000000007
         },
         {
          "diff": 0.08000000000000007
         },
         {
          "diff": 0.08999999999999986
         },
         {
          "diff": 0.08000000000000007
         },
         {
          "diff": 0.08000000000000007
         },
         {
          "diff": 0.08999999999999986
         },
         {
          "diff": 0.08000000000000007
         },
         {
          "diff": 0.08000000000000007
         },
         {
          "diff": 0.08999999999999986
         },
         {
          "diff": 0.08000000000000007
         },
         {
          "diff": 0.08000000000000007
         },
         {
          "diff": 0.08999999999999986
         },
         {
          "diff": 0.08000000000000007
         },
         {
          "diff": 0.08000000000000007
         },
         {
          "diff": 0.08999999999999986
         },
         {
          "diff": 0.08000000000000007
         },
         {
          "diff": 0.08000000000000007
         },
         {
          "diff": 0.08999999999999986
         },
         {
          "diff": 0.08000000000000007
         },
         {
          "diff": 0.08000000000000007
         },
         {
          "diff": 0.08999999999999986
         },
         {
          "diff": 0.120000000000001
         },
         {
          "diff": 0.08999999999999986
         },
         {
          "diff": 0.08999999999999986
         },
         {
          "diff": 0.08000000000000007
         },
         {
          "diff": 0.03999999999999915
         },
         {
          "diff": 0.05000000000000071
         },
         {
          "diff": 0.03999999999999915
         },
         {
          "diff": 0.05000000000000071
         },
         {
          "diff": 0.03999999999999915
         },
         {
          "diff": 0.05000000000000071
         },
         {
          "diff": 0.040000000000000924
         },
         {
          "diff": 0.049999999999998934
         },
         {
          "diff": 0.040000000000000924
         },
         {
          "diff": 0.049999999999998934
         },
         {
          "diff": 0.040000000000000924
         },
         {
          "diff": 0.049999999999998934
         },
         {
          "diff": 0.040000000000000924
         },
         {
          "diff": 0.049999999999998934
         },
         {
          "diff": 0.040000000000000924
         },
         {
          "diff": 0.03999999999999915
         },
         {
          "diff": 0.05000000000000071
         },
         {
          "diff": 0.03999999999999915
         },
         {
          "diff": 0.05000000000000071
         },
         {
          "diff": 0.03999999999999915
         },
         {
          "diff": 0.05000000000000071
         },
         {
          "diff": 0.040000000000000924
         },
         {
          "diff": 0.049999999999998934
         },
         {
          "diff": 0.040000000000000924
         },
         {
          "diff": 0.049999999999998934
         },
         {
          "diff": 0.040000000000000924
         },
         {
          "diff": 0.049999999999998934
         },
         {
          "diff": 0.040000000000000924
         },
         {
          "diff": 0.03999999999999915
         },
         {
          "diff": 0.05000000000000071
         },
         {
          "diff": 0.03999999999999915
         },
         {
          "diff": 0.05000000000000071
         },
         {
          "diff": 0.03999999999999915
         },
         {
          "diff": 0.05000000000000071
         },
         {
          "diff": 0.040000000000000924
         },
         {
          "diff": 0.049999999999998934
         },
         {
          "diff": 0.040000000000000924
         },
         {
          "diff": 0.049999999999998934
         },
         {
          "diff": 0.040000000000000924
         },
         {
          "diff": 0.049999999999998934
         },
         {
          "diff": 0.040000000000000924
         },
         {
          "diff": 0.049999999999998934
         },
         {
          "diff": 0.14000000000000057
         },
         {
          "diff": 0.040000000000000924
         },
         {
          "diff": 0.049999999999998934
         },
         {
          "diff": 0.040000000000000924
         },
         {
          "diff": 0.049999999999998934
         },
         {
          "diff": 0.040000000000000924
         },
         {
          "diff": 0.049999999999998934
         }
        ]
       },
       "encoding": {
        "x": {
         "bin": {
          "step": 0.02
         },
         "field": "diff",
         "title": "Time step between consecutive samples",
         "type": "ordinal"
        },
        "y": {
         "aggregate": "count",
         "scale": {
          "type": "sqrt"
         },
         "title": "Count",
         "type": "quantitative"
        }
       },
       "mark": {
        "type": "bar"
       }
      },
      "image/png": "[encoded data removed]",
      "text/plain": [
       "<VegaLite 5 object>\n",
       "\n",
       "If you see this message, it means the renderer has not been properly enabled\n",
       "for the frontend that you are using. For more information, see\n",
       "https://altair-viz.github.io/user_guide/display_frontends.html#troubleshooting\n"
      ]
     },
     "execution_count": 10,
     "metadata": {},
     "output_type": "execute_result"
    }
   ],
   "source": [
    "# store differences\n",
    "diffs = diatoms['Age'].sort_values().diff().iloc[1:].rename('diff').to_frame()\n",
    "\n",
    "# construct histogram\n",
    "fig1 = alt.Chart(diffs).mark_bar().encode(\n",
    "    x = alt.X('diff:O', bin=alt.Bin(step=0.02), title='Time step between consecutive samples'),\n",
    "    y = alt.Y('count()', scale=alt.Scale(type='sqrt'), title='Count')\n",
    ")\n",
    "\n",
    "# display\n",
    "fig1"
   ]
  },
  {
   "cell_type": "code",
   "execution_count": 11,
   "metadata": {
    "deletable": false,
    "editable": false
   },
   "outputs": [
    {
     "data": {
      "text/html": [
       "<p><strong><pre style='display: inline;'>q4</pre></strong> passed! 🚀</p>"
      ],
      "text/plain": [
       "q4 results: All test cases passed!"
      ]
     },
     "execution_count": 11,
     "metadata": {},
     "output_type": "execute_result"
    }
   ],
   "source": [
    "grader.check(\"q4\")"
   ]
  },
  {
   "cell_type": "markdown",
   "metadata": {},
   "source": [
    "<!-- END QUESTION -->\n",
    "\n",
    "# Univariate explorations\n",
    "\n",
    "To begin, you'll examine the variation in relative abundance over time for the eight individual taxa, one variable at a time.\n",
    "\n",
    "Here are some initial questions in this spirit that will help you to hone in and develop more focused exploratory questions:\n",
    "* Which taxa are most and least abundant on average over time?\n",
    "* Which taxa vary the most over time?\n",
    "\n",
    "These can be answered by computing simple summary statistics for each column in the diatom data."
   ]
  },
  {
   "cell_type": "markdown",
   "metadata": {},
   "source": [
    "### Question 5: Summary statistics\n",
    "\n",
    "Use `.aggregate(...)` to find the mean and standard deviation of relative abundances for each taxon. Follow these steps:\n",
    "\n",
    "1. Drop the depth and age variables before performing the aggregation.\n",
    "2. Use `.transpose()` to ensure that the table is rendered in long form (8 rows by 2 columns rather than 2 columns by 8 rows). \n",
    "3. Store the resulting dataframe as `diatom_summary` display.\n"
   ]
  },
  {
   "cell_type": "code",
   "execution_count": 12,
   "metadata": {
    "tags": []
   },
   "outputs": [
    {
     "data": {
      "text/html": [
       "<div>\n",
       "<style scoped>\n",
       "    .dataframe tbody tr th:only-of-type {\n",
       "        vertical-align: middle;\n",
       "    }\n",
       "\n",
       "    .dataframe tbody tr th {\n",
       "        vertical-align: top;\n",
       "    }\n",
       "\n",
       "    .dataframe thead th {\n",
       "        text-align: right;\n",
       "    }\n",
       "</style>\n",
       "<table border=\"1\" class=\"dataframe\">\n",
       "  <thead>\n",
       "    <tr style=\"text-align: right;\">\n",
       "      <th></th>\n",
       "      <th>mean</th>\n",
       "      <th>std</th>\n",
       "    </tr>\n",
       "  </thead>\n",
       "  <tbody>\n",
       "    <tr>\n",
       "      <th>A_curv</th>\n",
       "      <td>0.028989</td>\n",
       "      <td>0.018602</td>\n",
       "    </tr>\n",
       "    <tr>\n",
       "      <th>A_octon</th>\n",
       "      <td>0.018257</td>\n",
       "      <td>0.016465</td>\n",
       "    </tr>\n",
       "    <tr>\n",
       "      <th>ActinSpp</th>\n",
       "      <td>0.135900</td>\n",
       "      <td>0.053797</td>\n",
       "    </tr>\n",
       "    <tr>\n",
       "      <th>A_nodul</th>\n",
       "      <td>0.072940</td>\n",
       "      <td>0.092677</td>\n",
       "    </tr>\n",
       "    <tr>\n",
       "      <th>CoscinSpp</th>\n",
       "      <td>0.085925</td>\n",
       "      <td>0.031795</td>\n",
       "    </tr>\n",
       "    <tr>\n",
       "      <th>CyclotSpp</th>\n",
       "      <td>0.070366</td>\n",
       "      <td>0.042423</td>\n",
       "    </tr>\n",
       "    <tr>\n",
       "      <th>Rop_tess</th>\n",
       "      <td>0.060448</td>\n",
       "      <td>0.076098</td>\n",
       "    </tr>\n",
       "    <tr>\n",
       "      <th>StephanSpp</th>\n",
       "      <td>0.002447</td>\n",
       "      <td>0.007721</td>\n",
       "    </tr>\n",
       "  </tbody>\n",
       "</table>\n",
       "</div>"
      ],
      "text/plain": [
       "                mean       std\n",
       "A_curv      0.028989  0.018602\n",
       "A_octon     0.018257  0.016465\n",
       "ActinSpp    0.135900  0.053797\n",
       "A_nodul     0.072940  0.092677\n",
       "CoscinSpp   0.085925  0.031795\n",
       "CyclotSpp   0.070366  0.042423\n",
       "Rop_tess    0.060448  0.076098\n",
       "StephanSpp  0.002447  0.007721"
      ]
     },
     "execution_count": 12,
     "metadata": {},
     "output_type": "execute_result"
    }
   ],
   "source": [
    "diatom_summary = diatoms.drop(columns = ['Depth', 'Age']).aggregate(['mean', 'std']).transpose()\n",
    "\n",
    "# print the dataframe\n",
    "diatom_summary\n"
   ]
  },
  {
   "cell_type": "code",
   "execution_count": 13,
   "metadata": {
    "deletable": false,
    "editable": false
   },
   "outputs": [
    {
     "data": {
      "text/html": [
       "<p><strong><pre style='display: inline;'>q5</pre></strong> passed! 🎉</p>"
      ],
      "text/plain": [
       "q5 results: All test cases passed!"
      ]
     },
     "execution_count": 13,
     "metadata": {},
     "output_type": "execute_result"
    }
   ],
   "source": [
    "grader.check(\"q5\")"
   ]
  },
  {
   "cell_type": "markdown",
   "metadata": {},
   "source": [
    "It will be easier to determine which taxa are most/least abundant and most variable by displaying this information visually."
   ]
  },
  {
   "cell_type": "markdown",
   "metadata": {},
   "source": [
    "<!-- BEGIN QUESTION -->\n",
    "\n",
    "### Question 6: Visualizing summary statistics\n",
    "\n",
    "**(i) Create a plot of the average relative abundances and their variation over time.**\n",
    "\n",
    "1. Reset the index of `diatom_summary` so that the taxon names are stored as a column and not an index. Store the result as `plot_df`.\n",
    "2. Create an Altair chart based on `plot_df` with *no marks* -- just `alt.Chart(...).encode(...)` -- and pass the columnn of taxon names to the `Y` encoding channel with the title 'Taxon' and sorted in descending order of mean relative abundance. Store the result as `base`.\n",
    "    + *Hint*: `alt.Y(..., sort = {'field': 'column', 'order': 'descending'})` will sort the Y channel by 'column' in descending order.\n",
    "3. Modify `base` to create a point plot of the average relative abundances for each taxon; store the result as `means`.\n",
    "    + Average relative abundance (the mean you calculated in Q1 (a)) should appear on the x axis, and taxon on the y axis.\n",
    "    + Since the `Y` encoding was already specified in `base`, you do not need to add a `Y` encoding at this stage.\n",
    "    + Give the x axis the title 'Average relative abundance'.\n",
    "4. Modify `base` to create a plot with bars spanning two standard deviations in either direction from the mean. Store the result as `bars`.\n",
    "    + First use `base.transform_calculate(...)` to compute `lwr` and `upr` for the positions of the bar endpoints:\n",
    "        - $\\texttt{lwr} = \\texttt{mean} - 2\\times\\texttt{std}$\n",
    "        - $\\texttt{upr} = \\texttt{mean} + 2\\times\\texttt{std}$.\n",
    "    + Then append `.mark_errorbar().encode(...)` to the chain:\n",
    "        - pass `lwr:Q` to the `X` encoding channel with the title 'Average relative abundance' (to match the point plot)\n",
    "        - pass `upr:Q` to the `X2` encoding channel (no specific title needed).\n",
    "5. Layer the plots: `means + bars`. Store the result as `fig2` and display the figure.\n",
    "\n",
    "It may help to have a look at [this example](https://altair-viz.github.io/gallery/simple_scatter_with_errorbars.html).\n",
    "\n",
    "**(ii) Based on the figure, answer the following questions.**\n",
    "\n",
    "1. Which taxon is most abundant on average over time?\n",
    "2. Which taxon is most rare on average over time?\n",
    "3. Which taxon varies most in relative abundance over time?"
   ]
  },
  {
   "cell_type": "markdown",
   "metadata": {},
   "source": [
    "ActinSpp or the Actinoptychus species is the most abundant on average over time and StephanSpp or the Stephanopyxis species is the rarest on average over time. The taxon that varies the most in relative abundance over time is the Azpeitia nodulifer."
   ]
  },
  {
   "cell_type": "code",
   "execution_count": 14,
   "metadata": {
    "tags": []
   },
   "outputs": [
    {
     "name": "stderr",
     "output_type": "stream",
     "text": [
      "/opt/conda/lib/python3.11/site-packages/altair/utils/core.py:410: FutureWarning: the convert_dtype parameter is deprecated and will be removed in a future version.  Do ``ser.astype(object).apply()`` instead if you want ``convert_dtype=False``.\n",
      "  col = df[col_name].apply(to_list_if_array, convert_dtype=False)\n"
     ]
    },
    {
     "data": {
      "application/vnd.vegalite.v5+json": {
       "$schema": "https://vega.github.io/schema/vega-lite/v5.14.1.json",
       "config": {
        "view": {
         "continuousHeight": 300,
         "continuousWidth": 300
        }
       },
       "data": {
        "name": "data-1b0d93bfcb022f0704e46c56041c0f6d"
       },
       "datasets": {
        "data-1b0d93bfcb022f0704e46c56041c0f6d": [
         {
          "index": "A_curv",
          "mean": 0.028988939091285634,
          "std": 0.018602153931886755
         },
         {
          "index": "A_octon",
          "mean": 0.018257499553308642,
          "std": 0.01646514646425771
         },
         {
          "index": "ActinSpp",
          "mean": 0.13590010485376025,
          "std": 0.053796667319204114
         },
         {
          "index": "A_nodul",
          "mean": 0.07294021160607427,
          "std": 0.09267704433557557
         },
         {
          "index": "CoscinSpp",
          "mean": 0.0859250771728572,
          "std": 0.03179511361581213
         },
         {
          "index": "CyclotSpp",
          "mean": 0.0703657104247277,
          "std": 0.04242306729462194
         },
         {
          "index": "Rop_tess",
          "mean": 0.06044764462101304,
          "std": 0.07609838548473113
         },
         {
          "index": "StephanSpp",
          "mean": 0.0024473050108681084,
          "std": 0.007720531940272898
         }
        ]
       },
       "layer": [
        {
         "encoding": {
          "x": {
           "field": "mean",
           "title": "Average relative Abundance",
           "type": "quantitative"
          },
          "y": {
           "field": "index",
           "sort": {
            "field": "column",
            "order": "descending"
           },
           "type": "nominal"
          }
         },
         "mark": {
          "type": "point"
         }
        },
        {
         "encoding": {
          "x": {
           "field": "lwr",
           "title": "Average Relative Abundance",
           "type": "quantitative"
          },
          "x2": {
           "field": "upr"
          },
          "y": {
           "field": "index",
           "sort": {
            "field": "column",
            "order": "descending"
           },
           "type": "nominal"
          }
         },
         "mark": {
          "type": "errorbar"
         },
         "transform": [
          {
           "as": "lwr",
           "calculate": "datum.mean - 2 * datum.std"
          },
          {
           "as": "upr",
           "calculate": "datum.mean + 2 * datum.std"
          }
         ]
        }
       ]
      },
      "image/png": "[encoded data removed]",
      "text/plain": [
       "<VegaLite 5 object>\n",
       "\n",
       "If you see this message, it means the renderer has not been properly enabled\n",
       "for the frontend that you are using. For more information, see\n",
       "https://altair-viz.github.io/user_guide/display_frontends.html#troubleshooting\n"
      ]
     },
     "execution_count": 14,
     "metadata": {},
     "output_type": "execute_result"
    }
   ],
   "source": [
    "# reset index\n",
    "plot_df = diatom_summary.reset_index()\n",
    "\n",
    "# create base chart\n",
    "base = alt.Chart(plot_df).encode(\n",
    "    y = alt.Y('index',sort = {'field': 'column', 'order': 'descending'})\n",
    ")\n",
    "\n",
    "# create point plot\n",
    "means = base.mark_point().encode(\n",
    "    x = alt.X('mean', title = 'Average relative Abundance')\n",
    ")\n",
    "\n",
    "#create bar plot\n",
    "bars = base.transform_calculate(\n",
    "    lwr = 'datum.mean - 2 * datum.std',\n",
    "    upr = 'datum.mean + 2 * datum.std'\n",
    ").mark_errorbar().encode(\n",
    "    x = alt.X('lwr:Q', title='Average Relative Abundance'),\n",
    "    x2 = alt.X2('upr:Q')\n",
    ")\n",
    "\n",
    "# layer\n",
    "fig2 = means + bars\n",
    "\n",
    "# display\n",
    "fig2"
   ]
  },
  {
   "cell_type": "markdown",
   "metadata": {},
   "source": [
    "<!-- END QUESTION -->\n",
    "\n",
    "Now that you have a sense of the typical abundances for each taxon (measured by means) and the variations in abundance (measured by standard deviations), you'll dig in a bit further and examine the variation in abundance of the most variable taxon."
   ]
  },
  {
   "cell_type": "markdown",
   "metadata": {},
   "source": [
    "<!-- BEGIN QUESTION -->\n",
    "\n",
    "### Question 7: Distribution of *Azpeitia nodulifer* abundance over time\n",
    "\n",
    "**(i) Construct a density scale histogram of the relative abundances of *Azpeitia nodulifer* and overlay a kernel density estimate.**\n",
    "\n",
    "Use the `diatoms` dataframe and a bin width of 0.03. Be sure to choose an appropriate kernel and smoothing bandwidth. Store the result as `fig3`.\n",
    "\n",
    "**(ii) Answer the following questions in a few sentences.**\n",
    "\n",
    "* Which values are common?\n",
    "* Which values are rare?\n",
    "* How spread out are the values?\n",
    "* Are values spread evenly or irregularly?"
   ]
  },
  {
   "cell_type": "markdown",
   "metadata": {},
   "source": [
    "Values from 0 to about 0.03 are the most common while values greater than around 0.275 are rare. The values are not very spread out because most of them are close to 0 and the graph is skewed right. Other than that, the density seems to decrease with higher A_nodul abundance."
   ]
  },
  {
   "cell_type": "code",
   "execution_count": 15,
   "metadata": {
    "tags": []
   },
   "outputs": [
    {
     "data": {
      "application/vnd.vegalite.v5+json": {
       "$schema": "https://vega.github.io/schema/vega-lite/v5.14.1.json",
       "config": {
        "view": {
         "continuousHeight": 300,
         "continuousWidth": 300
        }
       },
       "data": {
        "name": "data-9f4e66e54759d6b46301ea3d10ce44f6"
       },
       "datasets": {
        "data-9f4e66e54759d6b46301ea3d10ce44f6": [
         {
          "A_curv": 0.024875621890547265,
          "A_nodul": 0.06965174129353234,
          "A_octon": 0.009950248756218905,
          "ActinSpp": 0.15920398009950248,
          "Age": 1.33,
          "CoscinSpp": 0.1044776119402985,
          "CyclotSpp": 0.10945273631840796,
          "Depth": 0,
          "Rop_tess": 0.004975124378109453,
          "StephanSpp": 0.004975124378109453
         },
         {
          "A_curv": 0.04,
          "A_nodul": 0.08,
          "A_octon": 0.01,
          "ActinSpp": 0.155,
          "Age": 1.37,
          "CoscinSpp": 0.1,
          "CyclotSpp": 0.08,
          "Depth": 0.05,
          "Rop_tess": 0.035,
          "StephanSpp": 0.01
         },
         {
          "A_curv": 0.04,
          "A_nodul": 0.09,
          "A_octon": 0.03,
          "ActinSpp": 0.165,
          "Age": 1.42,
          "CoscinSpp": 0.145,
          "CyclotSpp": 0.035,
          "Depth": 0.1,
          "Rop_tess": 0.005,
          "StephanSpp": 0.005
         },
         {
          "A_curv": 0.055,
          "A_nodul": 0.005,
          "A_octon": 0.005,
          "ActinSpp": 0.105,
          "Age": 1.46,
          "CoscinSpp": 0.06,
          "CyclotSpp": 0.14,
          "Depth": 0.15,
          "Rop_tess": 0.125,
          "StephanSpp": 0.015
         },
         {
          "A_curv": 0.03666666666666667,
          "A_nodul": 0.01,
          "A_octon": 0.0033333333333333335,
          "ActinSpp": 0.12666666666666668,
          "Age": 1.51,
          "CoscinSpp": 0.06,
          "CyclotSpp": 0.08,
          "Depth": 0.2,
          "Rop_tess": 0.01,
          "StephanSpp": 0
         },
         {
          "A_curv": 0.019704433497536946,
          "A_nodul": 0.04926108374384237,
          "A_octon": 0.04433497536945813,
          "ActinSpp": 0.1477832512315271,
          "Age": 1.55,
          "CoscinSpp": 0.07881773399014778,
          "CyclotSpp": 0.06896551724137931,
          "Depth": 0.25,
          "Rop_tess": 0.07881773399014778,
          "StephanSpp": 0
         },
         {
          "A_curv": 0.025,
          "A_nodul": 0.02,
          "A_octon": 0.015,
          "ActinSpp": 0.105,
          "Age": 1.59,
          "CoscinSpp": 0.06,
          "CyclotSpp": 0.08,
          "Depth": 0.3,
          "Rop_tess": 0.2,
          "StephanSpp": 0
         },
         {
          "A_curv": 0.035,
          "A_nodul": 0.095,
          "A_octon": 0.02,
          "ActinSpp": 0.18,
          "Age": 1.64,
          "CoscinSpp": 0.095,
          "CyclotSpp": 0.065,
          "Depth": 0.35,
          "Rop_tess": 0.015,
          "StephanSpp": 0.005
         },
         {
          "A_curv": 0.07,
          "A_nodul": 0.02,
          "A_octon": 0.035,
          "ActinSpp": 0.2,
          "Age": 1.68,
          "CoscinSpp": 0.12,
          "CyclotSpp": 0.055,
          "Depth": 0.4,
          "Rop_tess": 0.015,
          "StephanSpp": 0.005
         },
         {
          "A_curv": 0.03,
          "A_nodul": 0.03,
          "A_octon": 0.015,
          "ActinSpp": 0.185,
          "Age": 1.72,
          "CoscinSpp": 0.13,
          "CyclotSpp": 0.1,
          "Depth": 0.45,
          "Rop_tess": 0.015,
          "StephanSpp": 0.005
         },
         {
          "A_curv": 0.04,
          "A_nodul": 0.055,
          "A_octon": 0.02,
          "ActinSpp": 0.1,
          "Age": 1.77,
          "CoscinSpp": 0.055,
          "CyclotSpp": 0.1,
          "Depth": 0.5,
          "Rop_tess": 0.135,
          "StephanSpp": 0.005
         },
         {
          "A_curv": 0.024875621890547265,
          "A_nodul": 0.014925373134328358,
          "A_octon": 0.014925373134328358,
          "ActinSpp": 0.17412935323383086,
          "Age": 1.81,
          "CoscinSpp": 0.07462686567164178,
          "CyclotSpp": 0.10945273631840796,
          "Depth": 0.55,
          "Rop_tess": 0.05970149253731343,
          "StephanSpp": 0.014925373134328358
         },
         {
          "A_curv": 0.04455445544554455,
          "A_nodul": 0.01485148514851485,
          "A_octon": 0.01485148514851485,
          "ActinSpp": 0.1485148514851485,
          "Age": 1.86,
          "CoscinSpp": 0.0891089108910891,
          "CyclotSpp": 0.13366336633663367,
          "Depth": 0.6,
          "Rop_tess": 0.034653465346534656,
          "StephanSpp": 0.0049504950495049506
         },
         {
          "A_curv": 0.016556291390728478,
          "A_nodul": 0.019867549668874173,
          "A_octon": 0.013245033112582781,
          "ActinSpp": 0.08940397350993377,
          "Age": 1.9,
          "CoscinSpp": 0.06291390728476821,
          "CyclotSpp": 0.11589403973509933,
          "Depth": 0.65,
          "Rop_tess": 0.013245033112582781,
          "StephanSpp": 0
         },
         {
          "A_curv": 0.065,
          "A_nodul": 0.04,
          "A_octon": 0.01,
          "ActinSpp": 0.18,
          "Age": 1.94,
          "CoscinSpp": 0.075,
          "CyclotSpp": 0.105,
          "Depth": 0.7,
          "Rop_tess": 0.03,
          "StephanSpp": 0
         },
         {
          "A_curv": 0.029850746268656716,
          "A_nodul": 0.01990049751243781,
          "A_octon": 0.009950248756218905,
          "ActinSpp": 0.16417910447761194,
          "Age": 1.99,
          "CoscinSpp": 0.15920398009950248,
          "CyclotSpp": 0.1044776119402985,
          "Depth": 0.75,
          "Rop_tess": 0.004975124378109453,
          "StephanSpp": 0
         },
         {
          "A_curv": 0.04455445544554455,
          "A_nodul": 0.01485148514851485,
          "A_octon": 0.009900990099009901,
          "ActinSpp": 0.2079207920792079,
          "Age": 2.03,
          "CoscinSpp": 0.10396039603960396,
          "CyclotSpp": 0.0891089108910891,
          "Depth": 0.8,
          "Rop_tess": 0.019801980198019802,
          "StephanSpp": 0.0049504950495049506
         },
         {
          "A_curv": 0.06965174129353234,
          "A_nodul": 0.004975124378109453,
          "A_octon": 0.014925373134328358,
          "ActinSpp": 0.1044776119402985,
          "Age": 2.08,
          "CoscinSpp": 0.06965174129353234,
          "CyclotSpp": 0.208955223880597,
          "Depth": 0.85,
          "Rop_tess": 0.01990049751243781,
          "StephanSpp": 0
         },
         {
          "A_curv": 0.04477611940298507,
          "A_nodul": 0.06467661691542288,
          "A_octon": 0.024875621890547265,
          "ActinSpp": 0.12935323383084577,
          "Age": 2.12,
          "CoscinSpp": 0.07960199004975124,
          "CyclotSpp": 0.09950248756218906,
          "Depth": 0.9,
          "Rop_tess": 0.04477611940298507,
          "StephanSpp": 0
         },
         {
          "A_curv": 0.055,
          "A_nodul": 0.015,
          "A_octon": 0.02,
          "ActinSpp": 0.17,
          "Age": 2.16,
          "CoscinSpp": 0.05,
          "CyclotSpp": 0.175,
          "Depth": 0.95,
          "Rop_tess": 0.015,
          "StephanSpp": 0.01
         },
         {
          "A_curv": 0.058823529411764705,
          "A_nodul": 0.004901960784313725,
          "A_octon": 0.014705882352941176,
          "ActinSpp": 0.19117647058823528,
          "Age": 2.21,
          "CoscinSpp": 0.0784313725490196,
          "CyclotSpp": 0.11274509803921569,
          "Depth": 1,
          "Rop_tess": 0.00980392156862745,
          "StephanSpp": 0.00980392156862745
         },
         {
          "A_curv": 0.065,
          "A_nodul": 0.025,
          "A_octon": 0.015,
          "ActinSpp": 0.115,
          "Age": 2.25,
          "CoscinSpp": 0.09,
          "CyclotSpp": 0.115,
          "Depth": 1.05,
          "Rop_tess": 0.075,
          "StephanSpp": 0.005
         },
         {
          "A_curv": 0.029850746268656716,
          "A_nodul": 0.01990049751243781,
          "A_octon": 0.004975124378109453,
          "ActinSpp": 0.11442786069651742,
          "Age": 2.29,
          "CoscinSpp": 0.04975124378109453,
          "CyclotSpp": 0.0945273631840796,
          "Depth": 1.1,
          "Rop_tess": 0.07960199004975124,
          "StephanSpp": 0.0945273631840796
         },
         {
          "A_curv": 0.034482758620689655,
          "A_nodul": 0.03940886699507389,
          "A_octon": 0.04433497536945813,
          "ActinSpp": 0.13793103448275862,
          "Age": 2.34,
          "CoscinSpp": 0.08866995073891626,
          "CyclotSpp": 0.11330049261083744,
          "Depth": 1.15,
          "Rop_tess": 0.034482758620689655,
          "StephanSpp": 0
         },
         {
          "A_curv": 0.03734439834024896,
          "A_nodul": 0.07883817427385892,
          "A_octon": 0.012448132780082987,
          "ActinSpp": 0.04564315352697095,
          "Age": 2.38,
          "CoscinSpp": 0.04979253112033195,
          "CyclotSpp": 0.07468879668049792,
          "Depth": 1.2,
          "Rop_tess": 0.11203319502074689,
          "StephanSpp": 0
         },
         {
          "A_curv": 0.045,
          "A_nodul": 0.01,
          "A_octon": 0.015,
          "ActinSpp": 0.13,
          "Age": 2.43,
          "CoscinSpp": 0.09,
          "CyclotSpp": 0.065,
          "Depth": 1.25,
          "Rop_tess": 0.11,
          "StephanSpp": 0.045
         },
         {
          "A_curv": 0.04,
          "A_nodul": 0.013333333333333334,
          "A_octon": 0.01,
          "ActinSpp": 0.09,
          "Age": 2.47,
          "CoscinSpp": 0.043333333333333335,
          "CyclotSpp": 0.06333333333333334,
          "Depth": 1.3,
          "Rop_tess": 0.05333333333333334,
          "StephanSpp": 0.016666666666666666
         },
         {
          "A_curv": 0.04455445544554455,
          "A_nodul": 0.019801980198019802,
          "A_octon": 0.019801980198019802,
          "ActinSpp": 0.14356435643564355,
          "Age": 2.51,
          "CoscinSpp": 0.039603960396039604,
          "CyclotSpp": 0.21287128712871287,
          "Depth": 1.35,
          "Rop_tess": 0.01485148514851485,
          "StephanSpp": 0
         },
         {
          "A_curv": 0.049019607843137254,
          "A_nodul": 0.014705882352941176,
          "A_octon": 0.029411764705882353,
          "ActinSpp": 0.12254901960784313,
          "Age": 2.56,
          "CoscinSpp": 0.049019607843137254,
          "CyclotSpp": 0.17647058823529413,
          "Depth": 1.4,
          "Rop_tess": 0.04411764705882353,
          "StephanSpp": 0.004901960784313725
         },
         {
          "A_curv": 0.045,
          "A_nodul": 0.03,
          "A_octon": 0.015,
          "ActinSpp": 0.14,
          "Age": 2.64,
          "CoscinSpp": 0.145,
          "CyclotSpp": 0.095,
          "Depth": 1.49,
          "Rop_tess": 0.045,
          "StephanSpp": 0
         },
         {
          "A_curv": 0.03,
          "A_nodul": 0.04,
          "A_octon": 0.035,
          "ActinSpp": 0.16,
          "Age": 2.65,
          "CoscinSpp": 0.065,
          "CyclotSpp": 0.085,
          "Depth": 1.5,
          "Rop_tess": 0.095,
          "StephanSpp": 0
         },
         {
          "A_curv": 0.025,
          "A_nodul": 0.02,
          "A_octon": 0.035,
          "ActinSpp": 0.11,
          "Age": 2.69,
          "CoscinSpp": 0.05,
          "CyclotSpp": 0.155,
          "Depth": 1.55,
          "Rop_tess": 0.115,
          "StephanSpp": 0
         },
         {
          "A_curv": 0.04,
          "A_nodul": 0.01,
          "A_octon": 0.03,
          "ActinSpp": 0.14,
          "Age": 2.73,
          "CoscinSpp": 0.13,
          "CyclotSpp": 0.125,
          "Depth": 1.6,
          "Rop_tess": 0.03,
          "StephanSpp": 0.005
         },
         {
          "A_curv": 0.05,
          "A_nodul": 0.03,
          "A_octon": 0.005,
          "ActinSpp": 0.14,
          "Age": 2.78,
          "CoscinSpp": 0.095,
          "CyclotSpp": 0.14,
          "Depth": 1.65,
          "Rop_tess": 0.05,
          "StephanSpp": 0
         },
         {
          "A_curv": 0.045,
          "A_nodul": 0.005,
          "A_octon": 0.015,
          "ActinSpp": 0.215,
          "Age": 2.82,
          "CoscinSpp": 0.08,
          "CyclotSpp": 0.125,
          "Depth": 1.7,
          "Rop_tess": 0.02,
          "StephanSpp": 0.005
         },
         {
          "A_curv": 0.07881773399014778,
          "A_nodul": 0.019704433497536946,
          "A_octon": 0.059113300492610835,
          "ActinSpp": 0.10344827586206896,
          "Age": 2.87,
          "CoscinSpp": 0.09359605911330049,
          "CyclotSpp": 0.09359605911330049,
          "Depth": 1.75,
          "Rop_tess": 0.034482758620689655,
          "StephanSpp": 0.009852216748768473
         },
         {
          "A_curv": 0.054187192118226604,
          "A_nodul": 0.029556650246305417,
          "A_octon": 0.009852216748768473,
          "ActinSpp": 0.19704433497536947,
          "Age": 2.91,
          "CoscinSpp": 0.08374384236453201,
          "CyclotSpp": 0.07389162561576355,
          "Depth": 1.8,
          "Rop_tess": 0.034482758620689655,
          "StephanSpp": 0
         },
         {
          "A_curv": 0.025,
          "A_nodul": 0.025,
          "A_octon": 0.015,
          "ActinSpp": 0.19,
          "Age": 2.95,
          "CoscinSpp": 0.115,
          "CyclotSpp": 0.105,
          "Depth": 1.85,
          "Rop_tess": 0.03,
          "StephanSpp": 0.005
         },
         {
          "A_curv": 0.03,
          "A_nodul": 0.005,
          "A_octon": 0.01,
          "ActinSpp": 0.09,
          "Age": 3,
          "CoscinSpp": 0.055,
          "CyclotSpp": 0.18,
          "Depth": 1.9,
          "Rop_tess": 0.13,
          "StephanSpp": 0.005
         },
         {
          "A_curv": 0.05,
          "A_nodul": 0.01,
          "A_octon": 0.02,
          "ActinSpp": 0.2,
          "Age": 3.04,
          "CoscinSpp": 0.075,
          "CyclotSpp": 0.12,
          "Depth": 1.95,
          "Rop_tess": 0.035,
          "StephanSpp": 0.005
         },
         {
          "A_curv": 0.0297029702970297,
          "A_nodul": 0.0049504950495049506,
          "A_octon": 0.0049504950495049506,
          "ActinSpp": 0.14356435643564355,
          "Age": 3.08,
          "CoscinSpp": 0.0297029702970297,
          "CyclotSpp": 0.2079207920792079,
          "Depth": 2,
          "Rop_tess": 0.06930693069306931,
          "StephanSpp": 0
         },
         {
          "A_curv": 0.03,
          "A_nodul": 0.02,
          "A_octon": 0.04,
          "ActinSpp": 0.175,
          "Age": 3.13,
          "CoscinSpp": 0.08,
          "CyclotSpp": 0.125,
          "Depth": 2.05,
          "Rop_tess": 0.04,
          "StephanSpp": 0.005
         },
         {
          "A_curv": 0.054187192118226604,
          "A_nodul": 0.014778325123152709,
          "A_octon": 0.019704433497536946,
          "ActinSpp": 0.13793103448275862,
          "Age": 3.17,
          "CoscinSpp": 0.09359605911330049,
          "CyclotSpp": 0.1330049261083744,
          "Depth": 2.1,
          "Rop_tess": 0.03940886699507389,
          "StephanSpp": 0
         },
         {
          "A_curv": 0.02181818181818182,
          "A_nodul": 0.014545454545454545,
          "A_octon": 0.01090909090909091,
          "ActinSpp": 0.13454545454545455,
          "Age": 3.22,
          "CoscinSpp": 0.04363636363636364,
          "CyclotSpp": 0.12727272727272726,
          "Depth": 2.15,
          "Rop_tess": 0.007272727272727273,
          "StephanSpp": 0
         },
         {
          "A_curv": 0.034653465346534656,
          "A_nodul": 0.06435643564356436,
          "A_octon": 0.024752475247524754,
          "ActinSpp": 0.18316831683168316,
          "Age": 3.26,
          "CoscinSpp": 0.0891089108910891,
          "CyclotSpp": 0.07920792079207921,
          "Depth": 2.2,
          "Rop_tess": 0.009900990099009901,
          "StephanSpp": 0
         },
         {
          "A_curv": 0.035,
          "A_nodul": 0.02,
          "A_octon": 0.03,
          "ActinSpp": 0.18,
          "Age": 3.3,
          "CoscinSpp": 0.1,
          "CyclotSpp": 0.11,
          "Depth": 2.25,
          "Rop_tess": 0.03,
          "StephanSpp": 0.005
         },
         {
          "A_curv": 0.024875621890547265,
          "A_nodul": 0.03482587064676617,
          "A_octon": 0.029850746268656716,
          "ActinSpp": 0.15920398009950248,
          "Age": 3.35,
          "CoscinSpp": 0.10945273631840796,
          "CyclotSpp": 0.0945273631840796,
          "Depth": 2.3,
          "Rop_tess": 0.029850746268656716,
          "StephanSpp": 0
         },
         {
          "A_curv": 0.02666666666666667,
          "A_nodul": 0.01,
          "A_octon": 0.04666666666666667,
          "ActinSpp": 0.09666666666666666,
          "Age": 3.39,
          "CoscinSpp": 0.04,
          "CyclotSpp": 0.10333333333333333,
          "Depth": 2.35,
          "Rop_tess": 0.01,
          "StephanSpp": 0
         },
         {
          "A_curv": 0.045,
          "A_nodul": 0.01,
          "A_octon": 0.03,
          "ActinSpp": 0.175,
          "Age": 3.44,
          "CoscinSpp": 0.095,
          "CyclotSpp": 0.13,
          "Depth": 2.4,
          "Rop_tess": 0.025,
          "StephanSpp": 0
         },
         {
          "A_curv": 0.045,
          "A_nodul": 0.015,
          "A_octon": 0.04,
          "ActinSpp": 0.17,
          "Age": 3.48,
          "CoscinSpp": 0.11,
          "CyclotSpp": 0.12,
          "Depth": 2.45,
          "Rop_tess": 0.01,
          "StephanSpp": 0.005
         },
         {
          "A_curv": 0.03482587064676617,
          "A_nodul": 0.01990049751243781,
          "A_octon": 0.01990049751243781,
          "ActinSpp": 0.1791044776119403,
          "Age": 3.52,
          "CoscinSpp": 0.09950248756218906,
          "CyclotSpp": 0.12437810945273632,
          "Depth": 2.5,
          "Rop_tess": 0.004975124378109453,
          "StephanSpp": 0.009950248756218905
         },
         {
          "A_curv": 0.04455445544554455,
          "A_nodul": 0.024752475247524754,
          "A_octon": 0.0297029702970297,
          "ActinSpp": 0.1782178217821782,
          "Age": 3.57,
          "CoscinSpp": 0.1188118811881188,
          "CyclotSpp": 0.06930693069306931,
          "Depth": 2.55,
          "Rop_tess": 0.0297029702970297,
          "StephanSpp": 0
         },
         {
          "A_curv": 0.03,
          "A_nodul": 0.015,
          "A_octon": 0.015,
          "ActinSpp": 0.22,
          "Age": 3.6,
          "CoscinSpp": 0.11,
          "CyclotSpp": 0.09,
          "Depth": 2.59,
          "Rop_tess": 0.03,
          "StephanSpp": 0
         },
         {
          "A_curv": 0.03,
          "A_nodul": 0.035,
          "A_octon": 0.02,
          "ActinSpp": 0.155,
          "Age": 3.65,
          "CoscinSpp": 0.095,
          "CyclotSpp": 0.155,
          "Depth": 2.65,
          "Rop_tess": 0.02,
          "StephanSpp": 0.005
         },
         {
          "A_curv": 0.04245283018867924,
          "A_nodul": 0.02358490566037736,
          "A_octon": 0.0330188679245283,
          "ActinSpp": 0.14150943396226415,
          "Age": 3.7,
          "CoscinSpp": 0.08018867924528301,
          "CyclotSpp": 0.09905660377358491,
          "Depth": 2.7,
          "Rop_tess": 0.04716981132075472,
          "StephanSpp": 0
         },
         {
          "A_curv": 0.035,
          "A_nodul": 0.025,
          "A_octon": 0.02,
          "ActinSpp": 0.15,
          "Age": 3.74,
          "CoscinSpp": 0.085,
          "CyclotSpp": 0.165,
          "Depth": 2.75,
          "Rop_tess": 0.03,
          "StephanSpp": 0
         },
         {
          "A_curv": 0.03515625,
          "A_nodul": 0.01953125,
          "A_octon": 0.015625,
          "ActinSpp": 0.1171875,
          "Age": 3.79,
          "CoscinSpp": 0.05078125,
          "CyclotSpp": 0.1328125,
          "Depth": 2.8,
          "Rop_tess": 0.015625,
          "StephanSpp": 0
         },
         {
          "A_curv": 0.016,
          "A_nodul": 0.024,
          "A_octon": 0.032,
          "ActinSpp": 0.16,
          "Age": 3.83,
          "CoscinSpp": 0.06,
          "CyclotSpp": 0.088,
          "Depth": 2.85,
          "Rop_tess": 0.016,
          "StephanSpp": 0
         },
         {
          "A_curv": 0.048,
          "A_nodul": 0.012,
          "A_octon": 0.016,
          "ActinSpp": 0.156,
          "Age": 3.87,
          "CoscinSpp": 0.072,
          "CyclotSpp": 0.08,
          "Depth": 2.9,
          "Rop_tess": 0.012,
          "StephanSpp": 0
         },
         {
          "A_curv": 0.015151515151515152,
          "A_nodul": 0.01893939393939394,
          "A_octon": 0.026515151515151516,
          "ActinSpp": 0.13257575757575757,
          "Age": 3.92,
          "CoscinSpp": 0.056818181818181816,
          "CyclotSpp": 0.12121212121212122,
          "Depth": 2.95,
          "Rop_tess": 0.007575757575757576,
          "StephanSpp": 0
         },
         {
          "A_curv": 0.014005602240896359,
          "A_nodul": 0.0056022408963585435,
          "A_octon": 0.025210084033613446,
          "ActinSpp": 0.08403361344537816,
          "Age": 3.96,
          "CoscinSpp": 0.03361344537815126,
          "CyclotSpp": 0.1092436974789916,
          "Depth": 3,
          "Rop_tess": 0.008403361344537815,
          "StephanSpp": 0
         },
         {
          "A_curv": 0.03,
          "A_nodul": 0.01,
          "A_octon": 0.015,
          "ActinSpp": 0.065,
          "Age": 3.96,
          "CoscinSpp": 0.05,
          "CyclotSpp": 0.165,
          "Depth": 3,
          "Rop_tess": 0.165,
          "StephanSpp": 0.005
         },
         {
          "A_curv": 0.024822695035460994,
          "A_nodul": 0.02127659574468085,
          "A_octon": 0.014184397163120567,
          "ActinSpp": 0.09219858156028368,
          "Age": 4.01,
          "CoscinSpp": 0.05673758865248227,
          "CyclotSpp": 0.12056737588652482,
          "Depth": 3.05,
          "Rop_tess": 0.024822695035460994,
          "StephanSpp": 0
         },
         {
          "A_curv": 0.024,
          "A_nodul": 0.012,
          "A_octon": 0.008,
          "ActinSpp": 0.12,
          "Age": 4.05,
          "CoscinSpp": 0.096,
          "CyclotSpp": 0.104,
          "Depth": 3.1,
          "Rop_tess": 0.04,
          "StephanSpp": 0
         },
         {
          "A_curv": 0.02040816326530612,
          "A_nodul": 0.02857142857142857,
          "A_octon": 0.012244897959183673,
          "ActinSpp": 0.07755102040816327,
          "Age": 4.14,
          "CoscinSpp": 0.053061224489795916,
          "CyclotSpp": 0.10612244897959183,
          "Depth": 3.2,
          "Rop_tess": 0.11020408163265306,
          "StephanSpp": 0
         },
         {
          "A_curv": 0.01932367149758454,
          "A_nodul": 0.057971014492753624,
          "A_octon": 0.00966183574879227,
          "ActinSpp": 0.15942028985507245,
          "Age": 4.18,
          "CoscinSpp": 0.057971014492753624,
          "CyclotSpp": 0.08695652173913043,
          "Depth": 3.25,
          "Rop_tess": 0.08695652173913043,
          "StephanSpp": 0
         },
         {
          "A_curv": 0.023696682464454975,
          "A_nodul": 0.052132701421800945,
          "A_octon": 0.014218009478672985,
          "ActinSpp": 0.12796208530805686,
          "Age": 4.22,
          "CoscinSpp": 0.10426540284360189,
          "CyclotSpp": 0.0995260663507109,
          "Depth": 3.3,
          "Rop_tess": 0.052132701421800945,
          "StephanSpp": 0
         },
         {
          "A_curv": 0.009950248756218905,
          "A_nodul": 0.11442786069651742,
          "A_octon": 0.009950248756218905,
          "ActinSpp": 0.11442786069651742,
          "Age": 4.27,
          "CoscinSpp": 0.06965174129353234,
          "CyclotSpp": 0.08955223880597014,
          "Depth": 3.35,
          "Rop_tess": 0.07960199004975124,
          "StephanSpp": 0
         },
         {
          "A_curv": 0.02,
          "A_nodul": 0.11,
          "A_octon": 0.025,
          "ActinSpp": 0.16,
          "Age": 4.31,
          "CoscinSpp": 0.055,
          "CyclotSpp": 0.125,
          "Depth": 3.4,
          "Rop_tess": 0.015,
          "StephanSpp": 0
         },
         {
          "A_curv": 0.015,
          "A_nodul": 0.02,
          "A_octon": 0.005,
          "ActinSpp": 0.07,
          "Age": 4.36,
          "CoscinSpp": 0.015,
          "CyclotSpp": 0.085,
          "Depth": 3.45,
          "Rop_tess": 0.3,
          "StephanSpp": 0
         },
         {
          "A_curv": 0.01532567049808429,
          "A_nodul": 0.019157088122605363,
          "A_octon": 0.007662835249042145,
          "ActinSpp": 0.13026819923371646,
          "Age": 4.4,
          "CoscinSpp": 0.05747126436781609,
          "CyclotSpp": 0.11877394636015326,
          "Depth": 3.5,
          "Rop_tess": 0.03065134099616858,
          "StephanSpp": 0
         },
         {
          "A_curv": 0.01,
          "A_nodul": 0.03,
          "A_octon": 0.01,
          "ActinSpp": 0.07,
          "Age": 4.44,
          "CoscinSpp": 0.035,
          "CyclotSpp": 0.115,
          "Depth": 3.55,
          "Rop_tess": 0.24,
          "StephanSpp": 0
         },
         {
          "A_curv": 0.017391304347826087,
          "A_nodul": 0.14347826086956522,
          "A_octon": 0.021739130434782608,
          "ActinSpp": 0.09565217391304348,
          "Age": 4.49,
          "CoscinSpp": 0.0391304347826087,
          "CyclotSpp": 0.06956521739130435,
          "Depth": 3.6,
          "Rop_tess": 0.04782608695652174,
          "StephanSpp": 0
         },
         {
          "A_curv": 0.0375,
          "A_nodul": 0.025,
          "A_octon": 0.0125,
          "ActinSpp": 0.17083333333333334,
          "Age": 4.53,
          "CoscinSpp": 0.05416666666666667,
          "CyclotSpp": 0.075,
          "Depth": 3.65,
          "Rop_tess": 0.041666666666666664,
          "StephanSpp": 0
         },
         {
          "A_curv": 0.017777777777777778,
          "A_nodul": 0.057777777777777775,
          "A_octon": 0.008888888888888889,
          "ActinSpp": 0.16444444444444445,
          "Age": 4.58,
          "CoscinSpp": 0.08,
          "CyclotSpp": 0.06666666666666667,
          "Depth": 3.7,
          "Rop_tess": 0.04,
          "StephanSpp": 0
         },
         {
          "A_curv": 0.02857142857142857,
          "A_nodul": 0.009523809523809525,
          "A_octon": 0.022222222222222223,
          "ActinSpp": 0.1523809523809524,
          "Age": 4.62,
          "CoscinSpp": 0.047619047619047616,
          "CyclotSpp": 0.05714285714285714,
          "Depth": 3.75,
          "Rop_tess": 0.0031746031746031746,
          "StephanSpp": 0
         },
         {
          "A_curv": 0.0196078431372549,
          "A_nodul": 0.04411764705882353,
          "A_octon": 0.00980392156862745,
          "ActinSpp": 0.19117647058823528,
          "Age": 5.5,
          "CoscinSpp": 0.11764705882352941,
          "CyclotSpp": 0.06862745098039216,
          "Depth": 4.75,
          "Rop_tess": 0.014705882352941176,
          "StephanSpp": 0.014705882352941176
         },
         {
          "A_curv": 0.0297029702970297,
          "A_nodul": 0.09405940594059406,
          "A_octon": 0.019801980198019802,
          "ActinSpp": 0.15346534653465346,
          "Age": 5.54,
          "CoscinSpp": 0.08415841584158416,
          "CyclotSpp": 0.07425742574257425,
          "Depth": 4.8,
          "Rop_tess": 0.0297029702970297,
          "StephanSpp": 0.0049504950495049506
         },
         {
          "A_curv": 0.024271844660194174,
          "A_nodul": 0.05339805825242718,
          "A_octon": 0.014563106796116505,
          "ActinSpp": 0.2087378640776699,
          "Age": 5.58,
          "CoscinSpp": 0.05825242718446602,
          "CyclotSpp": 0.0825242718446602,
          "Depth": 4.85,
          "Rop_tess": 0.038834951456310676,
          "StephanSpp": 0
         },
         {
          "A_curv": 0.03,
          "A_nodul": 0.01,
          "A_octon": 0.02,
          "ActinSpp": 0.16,
          "Age": 5.63,
          "CoscinSpp": 0.095,
          "CyclotSpp": 0.075,
          "Depth": 4.9,
          "Rop_tess": 0.11,
          "StephanSpp": 0.005
         },
         {
          "A_curv": 0.035,
          "A_nodul": 0.02,
          "A_octon": 0.035,
          "ActinSpp": 0.12,
          "Age": 5.67,
          "CoscinSpp": 0.09,
          "CyclotSpp": 0.13,
          "Depth": 4.95,
          "Rop_tess": 0.08,
          "StephanSpp": 0
         },
         {
          "A_curv": 0.034653465346534656,
          "A_nodul": 0.0049504950495049506,
          "A_octon": 0.019801980198019802,
          "ActinSpp": 0.11386138613861387,
          "Age": 5.72,
          "CoscinSpp": 0.08415841584158416,
          "CyclotSpp": 0.10891089108910891,
          "Depth": 5,
          "Rop_tess": 0.13366336633663367,
          "StephanSpp": 0
         },
         {
          "A_curv": 0.03755868544600939,
          "A_nodul": 0,
          "A_octon": 0.009389671361502348,
          "ActinSpp": 0.07042253521126761,
          "Age": 5.76,
          "CoscinSpp": 0.046948356807511735,
          "CyclotSpp": 0.13615023474178403,
          "Depth": 5.05,
          "Rop_tess": 0.1643192488262911,
          "StephanSpp": 0
         },
         {
          "A_curv": 0.024630541871921183,
          "A_nodul": 0.0049261083743842365,
          "A_octon": 0.019704433497536946,
          "ActinSpp": 0.12807881773399016,
          "Age": 5.8,
          "CoscinSpp": 0.059113300492610835,
          "CyclotSpp": 0.11330049261083744,
          "Depth": 5.1,
          "Rop_tess": 0.14285714285714285,
          "StephanSpp": 0
         },
         {
          "A_curv": 0.035,
          "A_nodul": 0.015,
          "A_octon": 0.015,
          "ActinSpp": 0.135,
          "Age": 5.85,
          "CoscinSpp": 0.08,
          "CyclotSpp": 0.04,
          "Depth": 5.15,
          "Rop_tess": 0.19,
          "StephanSpp": 0
         },
         {
          "A_curv": 0.029850746268656716,
          "A_nodul": 0.05472636815920398,
          "A_octon": 0.024875621890547265,
          "ActinSpp": 0.1044776119402985,
          "Age": 5.89,
          "CoscinSpp": 0.1044776119402985,
          "CyclotSpp": 0.0845771144278607,
          "Depth": 5.2,
          "Rop_tess": 0.08955223880597014,
          "StephanSpp": 0
         },
         {
          "A_curv": 0.035,
          "A_nodul": 0.015,
          "A_octon": 0.01,
          "ActinSpp": 0.24,
          "Age": 5.94,
          "CoscinSpp": 0.07,
          "CyclotSpp": 0.05,
          "Depth": 5.25,
          "Rop_tess": 0.09,
          "StephanSpp": 0
         },
         {
          "A_curv": 0.025,
          "A_nodul": 0.005,
          "A_octon": 0,
          "ActinSpp": 0.02,
          "Age": 5.98,
          "CoscinSpp": 0.01,
          "CyclotSpp": 0.065,
          "Depth": 5.3,
          "Rop_tess": 0.38,
          "StephanSpp": 0.005
         },
         {
          "A_curv": 0.025,
          "A_nodul": 0.065,
          "A_octon": 0.03,
          "ActinSpp": 0.09,
          "Age": 6.02,
          "CoscinSpp": 0.075,
          "CyclotSpp": 0.16,
          "Depth": 5.35,
          "Rop_tess": 0.07,
          "StephanSpp": 0
         },
         {
          "A_curv": 0.009950248756218905,
          "A_nodul": 0.009950248756218905,
          "A_octon": 0.01990049751243781,
          "ActinSpp": 0.07960199004975124,
          "Age": 6.07,
          "CoscinSpp": 0.05970149253731343,
          "CyclotSpp": 0.06467661691542288,
          "Depth": 5.4,
          "Rop_tess": 0.24378109452736318,
          "StephanSpp": 0
         },
         {
          "A_curv": 0.039473684210526314,
          "A_nodul": 0.017543859649122806,
          "A_octon": 0.008771929824561403,
          "ActinSpp": 0.15789473684210525,
          "Age": 6.11,
          "CoscinSpp": 0.10964912280701754,
          "CyclotSpp": 0.06578947368421052,
          "Depth": 5.45,
          "Rop_tess": 0.03508771929824561,
          "StephanSpp": 0.008771929824561403
         },
         {
          "A_curv": 0.020161290322580645,
          "A_nodul": 0.06854838709677419,
          "A_octon": 0.04435483870967742,
          "ActinSpp": 0.05241935483870968,
          "Age": 6.15,
          "CoscinSpp": 0.04838709677419355,
          "CyclotSpp": 0.056451612903225805,
          "Depth": 5.5,
          "Rop_tess": 0.11290322580645161,
          "StephanSpp": 0
         },
         {
          "A_curv": 0.024193548387096774,
          "A_nodul": 0.10483870967741936,
          "A_octon": 0.04032258064516129,
          "ActinSpp": 0.06048387096774194,
          "Age": 6.2,
          "CoscinSpp": 0.036290322580645164,
          "CyclotSpp": 0.04435483870967742,
          "Depth": 5.55,
          "Rop_tess": 0.09274193548387097,
          "StephanSpp": 0
         },
         {
          "A_curv": 0.04128440366972477,
          "A_nodul": 0,
          "A_octon": 0.05963302752293578,
          "ActinSpp": 0.0779816513761468,
          "Age": 6.24,
          "CoscinSpp": 0.10091743119266056,
          "CyclotSpp": 0.06422018348623854,
          "Depth": 5.6,
          "Rop_tess": 0.11467889908256881,
          "StephanSpp": 0
         },
         {
          "A_curv": 0.03686635944700461,
          "A_nodul": 0,
          "A_octon": 0.027649769585253458,
          "ActinSpp": 0.08755760368663594,
          "Age": 6.29,
          "CoscinSpp": 0.06912442396313365,
          "CyclotSpp": 0.09216589861751152,
          "Depth": 5.65,
          "Rop_tess": 0.14746543778801843,
          "StephanSpp": 0
         },
         {
          "A_curv": 0.012096774193548387,
          "A_nodul": 0,
          "A_octon": 0.016129032258064516,
          "ActinSpp": 0.04435483870967742,
          "Age": 6.33,
          "CoscinSpp": 0.04032258064516129,
          "CyclotSpp": 0.03225806451612903,
          "Depth": 5.7,
          "Rop_tess": 0.2540322580645161,
          "StephanSpp": 0
         },
         {
          "A_curv": 0.03619909502262444,
          "A_nodul": 0.00904977375565611,
          "A_octon": 0.04524886877828054,
          "ActinSpp": 0.08144796380090498,
          "Age": 6.37,
          "CoscinSpp": 0.08597285067873303,
          "CyclotSpp": 0.058823529411764705,
          "Depth": 5.75,
          "Rop_tess": 0.13574660633484162,
          "StephanSpp": 0
         },
         {
          "A_curv": 0.06,
          "A_nodul": 0.005,
          "A_octon": 0.02,
          "ActinSpp": 0.075,
          "Age": 6.42,
          "CoscinSpp": 0.085,
          "CyclotSpp": 0.09,
          "Depth": 5.8,
          "Rop_tess": 0.17,
          "StephanSpp": 0
         },
         {
          "A_curv": 0.075,
          "A_nodul": 0.005,
          "A_octon": 0.015,
          "ActinSpp": 0.14,
          "Age": 6.46,
          "CoscinSpp": 0.09,
          "CyclotSpp": 0.05,
          "Depth": 5.85,
          "Rop_tess": 0.135,
          "StephanSpp": 0
         },
         {
          "A_curv": 0.024752475247524754,
          "A_nodul": 0,
          "A_octon": 0.0297029702970297,
          "ActinSpp": 0.054455445544554455,
          "Age": 6.51,
          "CoscinSpp": 0.07920792079207921,
          "CyclotSpp": 0.10396039603960396,
          "Depth": 5.9,
          "Rop_tess": 0.20297029702970298,
          "StephanSpp": 0
         },
         {
          "A_curv": 0.054187192118226604,
          "A_nodul": 0,
          "A_octon": 0.014778325123152709,
          "ActinSpp": 0.12807881773399016,
          "Age": 6.55,
          "CoscinSpp": 0.12315270935960591,
          "CyclotSpp": 0.06896551724137931,
          "Depth": 5.95,
          "Rop_tess": 0.10344827586206896,
          "StephanSpp": 0
         },
         {
          "A_curv": 0.05,
          "A_nodul": 0,
          "A_octon": 0.01,
          "ActinSpp": 0.185,
          "Age": 6.59,
          "CoscinSpp": 0.06,
          "CyclotSpp": 0.105,
          "Depth": 6,
          "Rop_tess": 0.09,
          "StephanSpp": 0.005
         },
         {
          "A_curv": 0.013513513513513514,
          "A_nodul": 0.009009009009009009,
          "A_octon": 0.009009009009009009,
          "ActinSpp": 0.11711711711711711,
          "Age": 6.64,
          "CoscinSpp": 0.14414414414414414,
          "CyclotSpp": 0.05405405405405406,
          "Depth": 6.05,
          "Rop_tess": 0.0945945945945946,
          "StephanSpp": 0.009009009009009009
         },
         {
          "A_curv": 0.023809523809523808,
          "A_nodul": 0.004761904761904762,
          "A_octon": 0.02857142857142857,
          "ActinSpp": 0.19523809523809524,
          "Age": 6.68,
          "CoscinSpp": 0.12380952380952381,
          "CyclotSpp": 0.09047619047619047,
          "Depth": 6.1,
          "Rop_tess": 0.009523809523809525,
          "StephanSpp": 0
         },
         {
          "A_curv": 0.017777777777777778,
          "A_nodul": 0.0044444444444444444,
          "A_octon": 0.008888888888888889,
          "ActinSpp": 0.16,
          "Age": 6.72,
          "CoscinSpp": 0.07111111111111111,
          "CyclotSpp": 0.04,
          "Depth": 6.15,
          "Rop_tess": 0.14222222222222222,
          "StephanSpp": 0
         },
         {
          "A_curv": 0.03404255319148936,
          "A_nodul": 0,
          "A_octon": 0.01276595744680851,
          "ActinSpp": 0.2,
          "Age": 6.77,
          "CoscinSpp": 0.0851063829787234,
          "CyclotSpp": 0.04680851063829787,
          "Depth": 6.2,
          "Rop_tess": 0.04680851063829787,
          "StephanSpp": 0
         },
         {
          "A_curv": 0.017316017316017316,
          "A_nodul": 0,
          "A_octon": 0.012987012987012988,
          "ActinSpp": 0.11688311688311688,
          "Age": 6.81,
          "CoscinSpp": 0.10822510822510822,
          "CyclotSpp": 0.04329004329004329,
          "Depth": 6.25,
          "Rop_tess": 0.1341991341991342,
          "StephanSpp": 0
         },
         {
          "A_curv": 0.034653465346534656,
          "A_nodul": 0,
          "A_octon": 0.0297029702970297,
          "ActinSpp": 0.06930693069306931,
          "Age": 6.86,
          "CoscinSpp": 0.04950495049504951,
          "CyclotSpp": 0.09405940594059406,
          "Depth": 6.3,
          "Rop_tess": 0.21782178217821782,
          "StephanSpp": 0
         },
         {
          "A_curv": 0.01951219512195122,
          "A_nodul": 0,
          "A_octon": 0.004878048780487805,
          "ActinSpp": 0.22926829268292684,
          "Age": 6.9,
          "CoscinSpp": 0.14634146341463414,
          "CyclotSpp": 0.07317073170731707,
          "Depth": 6.35,
          "Rop_tess": 0.014634146341463415,
          "StephanSpp": 0
         },
         {
          "A_curv": 0.01,
          "A_nodul": 0,
          "A_octon": 0,
          "ActinSpp": 0.02,
          "Age": 6.94,
          "CoscinSpp": 0.02,
          "CyclotSpp": 0.025,
          "Depth": 6.4,
          "Rop_tess": 0.435,
          "StephanSpp": 0
         },
         {
          "A_curv": 0.035398230088495575,
          "A_nodul": 0.004424778761061947,
          "A_octon": 0.008849557522123894,
          "ActinSpp": 0.19469026548672566,
          "Age": 6.99,
          "CoscinSpp": 0.10176991150442478,
          "CyclotSpp": 0.061946902654867256,
          "Depth": 6.45,
          "Rop_tess": 0.02654867256637168,
          "StephanSpp": 0.008849557522123894
         },
         {
          "A_curv": 0.02,
          "A_nodul": 0.055,
          "A_octon": 0.015,
          "ActinSpp": 0.105,
          "Age": 7.03,
          "CoscinSpp": 0.075,
          "CyclotSpp": 0.06,
          "Depth": 6.5,
          "Rop_tess": 0.175,
          "StephanSpp": 0.005
         },
         {
          "A_curv": 0.011904761904761904,
          "A_nodul": 0.031746031746031744,
          "A_octon": 0.011904761904761904,
          "ActinSpp": 0.17063492063492064,
          "Age": 7.08,
          "CoscinSpp": 0.1111111111111111,
          "CyclotSpp": 0.03571428571428571,
          "Depth": 6.55,
          "Rop_tess": 0.023809523809523808,
          "StephanSpp": 0.003968253968253968
         },
         {
          "A_curv": 0.013452914798206279,
          "A_nodul": 0.004484304932735426,
          "A_octon": 0.008968609865470852,
          "ActinSpp": 0.17937219730941703,
          "Age": 7.12,
          "CoscinSpp": 0.08071748878923767,
          "CyclotSpp": 0.13004484304932734,
          "Depth": 6.6,
          "Rop_tess": 0.03139013452914798,
          "StephanSpp": 0
         },
         {
          "A_curv": 0.02145922746781116,
          "A_nodul": 0.004291845493562232,
          "A_octon": 0.02145922746781116,
          "ActinSpp": 0.11158798283261803,
          "Age": 7.16,
          "CoscinSpp": 0.11587982832618025,
          "CyclotSpp": 0.09012875536480687,
          "Depth": 6.65,
          "Rop_tess": 0.06437768240343347,
          "StephanSpp": 0
         },
         {
          "A_curv": 0.01327433628318584,
          "A_nodul": 0,
          "A_octon": 0.017699115044247787,
          "ActinSpp": 0.1415929203539823,
          "Age": 7.21,
          "CoscinSpp": 0.10619469026548672,
          "CyclotSpp": 0.09292035398230089,
          "Depth": 6.7,
          "Rop_tess": 0.061946902654867256,
          "StephanSpp": 0
         },
         {
          "A_curv": 0.04128440366972477,
          "A_nodul": 0,
          "A_octon": 0.03211009174311927,
          "ActinSpp": 0.10550458715596331,
          "Age": 7.25,
          "CoscinSpp": 0.10550458715596331,
          "CyclotSpp": 0.07339449541284404,
          "Depth": 6.75,
          "Rop_tess": 0.0963302752293578,
          "StephanSpp": 0.0045871559633027525
         },
         {
          "A_curv": 0.00816326530612245,
          "A_nodul": 0,
          "A_octon": 0.02040816326530612,
          "ActinSpp": 0.0653061224489796,
          "Age": 7.29,
          "CoscinSpp": 0.02857142857142857,
          "CyclotSpp": 0.04897959183673469,
          "Depth": 6.8,
          "Rop_tess": 0.23673469387755103,
          "StephanSpp": 0
         },
         {
          "A_curv": 0.008547008547008548,
          "A_nodul": 0,
          "A_octon": 0.017094017094017096,
          "ActinSpp": 0.07692307692307693,
          "Age": 7.34,
          "CoscinSpp": 0.06837606837606838,
          "CyclotSpp": 0.029914529914529916,
          "Depth": 6.85,
          "Rop_tess": 0.2264957264957265,
          "StephanSpp": 0
         },
         {
          "A_curv": 0.04,
          "A_nodul": 0,
          "A_octon": 0.025,
          "ActinSpp": 0.08,
          "Age": 7.38,
          "CoscinSpp": 0.145,
          "CyclotSpp": 0.02,
          "Depth": 6.9,
          "Rop_tess": 0.19,
          "StephanSpp": 0.005
         },
         {
          "A_curv": 0.05,
          "A_nodul": 0.005,
          "A_octon": 0.025,
          "ActinSpp": 0.135,
          "Age": 7.43,
          "CoscinSpp": 0.16,
          "CyclotSpp": 0.04,
          "Depth": 6.95,
          "Rop_tess": 0.09,
          "StephanSpp": 0
         },
         {
          "A_curv": 0.014634146341463415,
          "A_nodul": 0.004878048780487805,
          "A_octon": 0.01951219512195122,
          "ActinSpp": 0.08780487804878048,
          "Age": 7.47,
          "CoscinSpp": 0.1073170731707317,
          "CyclotSpp": 0.01951219512195122,
          "Depth": 7,
          "Rop_tess": 0.22926829268292684,
          "StephanSpp": 0.004878048780487805
         },
         {
          "A_curv": 0.028455284552845527,
          "A_nodul": 0,
          "A_octon": 0.016260162601626018,
          "ActinSpp": 0.17073170731707318,
          "Age": 7.51,
          "CoscinSpp": 0.08943089430894309,
          "CyclotSpp": 0.06097560975609756,
          "Depth": 7.05,
          "Rop_tess": 0.04065040650406504,
          "StephanSpp": 0
         },
         {
          "A_curv": 0.029166666666666667,
          "A_nodul": 0,
          "A_octon": 0.0125,
          "ActinSpp": 0.14166666666666666,
          "Age": 7.56,
          "CoscinSpp": 0.1,
          "CyclotSpp": 0.058333333333333334,
          "Depth": 7.1,
          "Rop_tess": 0.075,
          "StephanSpp": 0
         },
         {
          "A_curv": 0.04975124378109453,
          "A_nodul": 0,
          "A_octon": 0.01990049751243781,
          "ActinSpp": 0.08955223880597014,
          "Age": 7.6,
          "CoscinSpp": 0.0845771144278607,
          "CyclotSpp": 0.03482587064676617,
          "Depth": 7.15,
          "Rop_tess": 0.18407960199004975,
          "StephanSpp": 0.024875621890547265
         },
         {
          "A_curv": 0.01937984496124031,
          "A_nodul": 0,
          "A_octon": 0.027131782945736434,
          "ActinSpp": 0.12403100775193798,
          "Age": 7.65,
          "CoscinSpp": 0.08139534883720931,
          "CyclotSpp": 0.05426356589147287,
          "Depth": 7.2,
          "Rop_tess": 0.08139534883720931,
          "StephanSpp": 0
         },
         {
          "A_curv": 0.015,
          "A_nodul": 0,
          "A_octon": 0.025,
          "ActinSpp": 0.215,
          "Age": 7.69,
          "CoscinSpp": 0.12,
          "CyclotSpp": 0.055,
          "Depth": 7.25,
          "Rop_tess": 0.075,
          "StephanSpp": 0
         },
         {
          "A_curv": 0.0075,
          "A_nodul": 0,
          "A_octon": 0.005,
          "ActinSpp": 0.03,
          "Age": 7.73,
          "CoscinSpp": 0.02,
          "CyclotSpp": 0.01,
          "Depth": 7.3,
          "Rop_tess": 0.1775,
          "StephanSpp": 0
         },
         {
          "A_curv": 0.013392857142857142,
          "A_nodul": 0,
          "A_octon": 0.017857142857142856,
          "ActinSpp": 0.14732142857142858,
          "Age": 7.78,
          "CoscinSpp": 0.12946428571428573,
          "CyclotSpp": 0.07142857142857142,
          "Depth": 7.35,
          "Rop_tess": 0.06696428571428571,
          "StephanSpp": 0.004464285714285714
         },
         {
          "A_curv": 0.04,
          "A_nodul": 0.005,
          "A_octon": 0.015,
          "ActinSpp": 0.165,
          "Age": 7.82,
          "CoscinSpp": 0.115,
          "CyclotSpp": 0.08,
          "Depth": 7.4,
          "Rop_tess": 0.085,
          "StephanSpp": 0.005
         },
         {
          "A_curv": 0.0049504950495049506,
          "A_nodul": 0,
          "A_octon": 0.034653465346534656,
          "ActinSpp": 0.0891089108910891,
          "Age": 7.87,
          "CoscinSpp": 0.04950495049504951,
          "CyclotSpp": 0.06930693069306931,
          "Depth": 7.45,
          "Rop_tess": 0.24752475247524752,
          "StephanSpp": 0
         },
         {
          "A_curv": 0.019801980198019802,
          "A_nodul": 0.009900990099009901,
          "A_octon": 0.009900990099009901,
          "ActinSpp": 0.14356435643564355,
          "Age": 7.91,
          "CoscinSpp": 0.08415841584158416,
          "CyclotSpp": 0.04455445544554455,
          "Depth": 7.5,
          "Rop_tess": 0.1782178217821782,
          "StephanSpp": 0
         },
         {
          "A_curv": 0.023696682464454975,
          "A_nodul": 0,
          "A_octon": 0.05687203791469194,
          "ActinSpp": 0.14691943127962084,
          "Age": 7.95,
          "CoscinSpp": 0.12796208530805686,
          "CyclotSpp": 0.07582938388625593,
          "Depth": 7.55,
          "Rop_tess": 0.04265402843601896,
          "StephanSpp": 0
         },
         {
          "A_curv": 0.024630541871921183,
          "A_nodul": 0,
          "A_octon": 0.054187192118226604,
          "ActinSpp": 0.14285714285714285,
          "Age": 8,
          "CoscinSpp": 0.06896551724137931,
          "CyclotSpp": 0.09852216748768473,
          "Depth": 7.6,
          "Rop_tess": 0.10344827586206896,
          "StephanSpp": 0
         },
         {
          "A_curv": 0.019704433497536946,
          "A_nodul": 0,
          "A_octon": 0.0049261083743842365,
          "ActinSpp": 0.04926108374384237,
          "Age": 8.04,
          "CoscinSpp": 0.009852216748768473,
          "CyclotSpp": 0.04433497536945813,
          "Depth": 7.65,
          "Rop_tess": 0.35467980295566504,
          "StephanSpp": 0
         },
         {
          "A_curv": 0.034482758620689655,
          "A_nodul": 0,
          "A_octon": 0.06403940886699508,
          "ActinSpp": 0.12807881773399016,
          "Age": 8.08,
          "CoscinSpp": 0.07881773399014778,
          "CyclotSpp": 0.10837438423645321,
          "Depth": 7.7,
          "Rop_tess": 0.06403940886699508,
          "StephanSpp": 0.014778325123152709
         },
         {
          "A_curv": 0.021367521367521368,
          "A_nodul": 0.004273504273504274,
          "A_octon": 0.02564102564102564,
          "ActinSpp": 0.1452991452991453,
          "Age": 8.13,
          "CoscinSpp": 0.08547008547008547,
          "CyclotSpp": 0.1282051282051282,
          "Depth": 7.75,
          "Rop_tess": 0.017094017094017096,
          "StephanSpp": 0
         },
         {
          "A_curv": 0.024390243902439025,
          "A_nodul": 0.004878048780487805,
          "A_octon": 0.024390243902439025,
          "ActinSpp": 0.08292682926829269,
          "Age": 8.17,
          "CoscinSpp": 0.07317073170731707,
          "CyclotSpp": 0.12195121951219512,
          "Depth": 7.8,
          "Rop_tess": 0.15121951219512195,
          "StephanSpp": 0
         },
         {
          "A_curv": 0.019801980198019802,
          "A_nodul": 0,
          "A_octon": 0.009900990099009901,
          "ActinSpp": 0.13366336633663367,
          "Age": 8.61,
          "CoscinSpp": 0.0891089108910891,
          "CyclotSpp": 0.0049504950495049506,
          "Depth": 8.3,
          "Rop_tess": 0.2376237623762376,
          "StephanSpp": 0
         },
         {
          "A_curv": 0.047619047619047616,
          "A_nodul": 0,
          "A_octon": 0.009523809523809525,
          "ActinSpp": 0.14285714285714285,
          "Age": 8.65,
          "CoscinSpp": 0.19523809523809524,
          "CyclotSpp": 0.047619047619047616,
          "Depth": 8.35,
          "Rop_tess": 0.02857142857142857,
          "StephanSpp": 0
         },
         {
          "A_curv": 0.014634146341463415,
          "A_nodul": 0,
          "A_octon": 0.024390243902439025,
          "ActinSpp": 0.1902439024390244,
          "Age": 8.7,
          "CoscinSpp": 0.12682926829268293,
          "CyclotSpp": 0.014634146341463415,
          "Depth": 8.4,
          "Rop_tess": 0.11219512195121951,
          "StephanSpp": 0
         },
         {
          "A_curv": 0.024875621890547265,
          "A_nodul": 0,
          "A_octon": 0.18407960199004975,
          "ActinSpp": 0.11442786069651742,
          "Age": 8.74,
          "CoscinSpp": 0.12935323383084577,
          "CyclotSpp": 0.004975124378109453,
          "Depth": 8.45,
          "Rop_tess": 0.029850746268656716,
          "StephanSpp": 0
         },
         {
          "A_curv": 0.025,
          "A_nodul": 0,
          "A_octon": 0.01,
          "ActinSpp": 0.135,
          "Age": 8.79,
          "CoscinSpp": 0.11,
          "CyclotSpp": 0.055,
          "Depth": 8.5,
          "Rop_tess": 0.165,
          "StephanSpp": 0.005
         },
         {
          "A_curv": 0.00980392156862745,
          "A_nodul": 0,
          "A_octon": 0.00980392156862745,
          "ActinSpp": 0.24019607843137256,
          "Age": 8.83,
          "CoscinSpp": 0.06862745098039216,
          "CyclotSpp": 0.03431372549019608,
          "Depth": 8.55,
          "Rop_tess": 0.12745098039215685,
          "StephanSpp": 0
         },
         {
          "A_curv": 0.013636363636363636,
          "A_nodul": 0,
          "A_octon": 0.01818181818181818,
          "ActinSpp": 0.22272727272727272,
          "Age": 8.87,
          "CoscinSpp": 0.12727272727272726,
          "CyclotSpp": 0.03636363636363636,
          "Depth": 8.6,
          "Rop_tess": 0.03636363636363636,
          "StephanSpp": 0
         },
         {
          "A_curv": 0.0048543689320388345,
          "A_nodul": 0,
          "A_octon": 0.0048543689320388345,
          "ActinSpp": 0.2087378640776699,
          "Age": 8.92,
          "CoscinSpp": 0.043689320388349516,
          "CyclotSpp": 0.11165048543689321,
          "Depth": 8.65,
          "Rop_tess": 0.11165048543689321,
          "StephanSpp": 0
         },
         {
          "A_curv": 0.03482587064676617,
          "A_nodul": 0,
          "A_octon": 0.014925373134328358,
          "ActinSpp": 0.24378109452736318,
          "Age": 8.96,
          "CoscinSpp": 0.12437810945273632,
          "CyclotSpp": 0.04477611940298507,
          "Depth": 8.7,
          "Rop_tess": 0.024875621890547265,
          "StephanSpp": 0
         },
         {
          "A_curv": 0.04,
          "A_nodul": 0,
          "A_octon": 0.015,
          "ActinSpp": 0.22,
          "Age": 10.1,
          "CoscinSpp": 0.06,
          "CyclotSpp": 0.05,
          "Depth": 9.5,
          "Rop_tess": 0.125,
          "StephanSpp": 0
         },
         {
          "A_curv": 0.025,
          "A_nodul": 0,
          "A_octon": 0.005,
          "ActinSpp": 0.165,
          "Age": 10.18,
          "CoscinSpp": 0.06,
          "CyclotSpp": 0.025,
          "Depth": 9.55,
          "Rop_tess": 0.225,
          "StephanSpp": 0
         },
         {
          "A_curv": 0.04477611940298507,
          "A_nodul": 0.004975124378109453,
          "A_octon": 0.014925373134328358,
          "ActinSpp": 0.263681592039801,
          "Age": 10.27,
          "CoscinSpp": 0.08955223880597014,
          "CyclotSpp": 0.004975124378109453,
          "Depth": 9.6,
          "Rop_tess": 0.04975124378109453,
          "StephanSpp": 0.01990049751243781
         },
         {
          "A_curv": 0.024752475247524754,
          "A_nodul": 0.0049504950495049506,
          "A_octon": 0.0297029702970297,
          "ActinSpp": 0.15841584158415842,
          "Age": 10.35,
          "CoscinSpp": 0.09900990099009901,
          "CyclotSpp": 0.04455445544554455,
          "Depth": 9.65,
          "Rop_tess": 0.12871287128712872,
          "StephanSpp": 0
         },
         {
          "A_curv": 0.054455445544554455,
          "A_nodul": 0,
          "A_octon": 0.009900990099009901,
          "ActinSpp": 0.22772277227722773,
          "Age": 10.43,
          "CoscinSpp": 0.13861386138613863,
          "CyclotSpp": 0.0297029702970297,
          "Depth": 9.7,
          "Rop_tess": 0.024752475247524754,
          "StephanSpp": 0.009900990099009901
         },
         {
          "A_curv": 0.06403940886699508,
          "A_nodul": 0,
          "A_octon": 0.04926108374384237,
          "ActinSpp": 0.14285714285714285,
          "Age": 10.52,
          "CoscinSpp": 0.09852216748768473,
          "CyclotSpp": 0.06896551724137931,
          "Depth": 9.75,
          "Rop_tess": 0.06403940886699508,
          "StephanSpp": 0
         },
         {
          "A_curv": 0.075,
          "A_nodul": 0.005,
          "A_octon": 0.01,
          "ActinSpp": 0.2,
          "Age": 10.6,
          "CoscinSpp": 0.125,
          "CyclotSpp": 0.015,
          "Depth": 9.8,
          "Rop_tess": 0.08,
          "StephanSpp": 0
         },
         {
          "A_curv": 0.06,
          "A_nodul": 0.06,
          "A_octon": 0.01,
          "ActinSpp": 0.25,
          "Age": 10.68,
          "CoscinSpp": 0.105,
          "CyclotSpp": 0.005,
          "Depth": 9.85,
          "Rop_tess": 0.02,
          "StephanSpp": 0
         },
         {
          "A_curv": 0.029850746268656716,
          "A_nodul": 0.07960199004975124,
          "A_octon": 0.004975124378109453,
          "ActinSpp": 0.24875621890547264,
          "Age": 10.77,
          "CoscinSpp": 0.06965174129353234,
          "CyclotSpp": 0.029850746268656716,
          "Depth": 9.9,
          "Rop_tess": 0.029850746268656716,
          "StephanSpp": 0
         },
         {
          "A_curv": 0.034653465346534656,
          "A_nodul": 0.04950495049504951,
          "A_octon": 0.009900990099009901,
          "ActinSpp": 0.22772277227722773,
          "Age": 10.85,
          "CoscinSpp": 0.13366336633663367,
          "CyclotSpp": 0.019801980198019802,
          "Depth": 9.95,
          "Rop_tess": 0.0049504950495049506,
          "StephanSpp": 0.0049504950495049506
         },
         {
          "A_curv": 0.01990049751243781,
          "A_nodul": 0.11442786069651742,
          "A_octon": 0.014925373134328358,
          "ActinSpp": 0.19900497512437812,
          "Age": 10.93,
          "CoscinSpp": 0.13432835820895522,
          "CyclotSpp": 0,
          "Depth": 10,
          "Rop_tess": 0.009950248756218905,
          "StephanSpp": 0
         },
         {
          "A_curv": 0.04433497536945813,
          "A_nodul": 0.08866995073891626,
          "A_octon": 0.0049261083743842365,
          "ActinSpp": 0.2561576354679803,
          "Age": 11.02,
          "CoscinSpp": 0.06403940886699508,
          "CyclotSpp": 0.024630541871921183,
          "Depth": 10.05,
          "Rop_tess": 0.0049261083743842365,
          "StephanSpp": 0
         },
         {
          "A_curv": 0.034482758620689655,
          "A_nodul": 0.054187192118226604,
          "A_octon": 0.0049261083743842365,
          "ActinSpp": 0.16748768472906403,
          "Age": 11.1,
          "CoscinSpp": 0.1625615763546798,
          "CyclotSpp": 0.024630541871921183,
          "Depth": 10.1,
          "Rop_tess": 0.029556650246305417,
          "StephanSpp": 0.0049261083743842365
         },
         {
          "A_curv": 0.054455445544554455,
          "A_nodul": 0.09900990099009901,
          "A_octon": 0,
          "ActinSpp": 0.15346534653465346,
          "Age": 11.18,
          "CoscinSpp": 0.09900990099009901,
          "CyclotSpp": 0.01485148514851485,
          "Depth": 10.15,
          "Rop_tess": 0.06435643564356436,
          "StephanSpp": 0.0049504950495049506
         },
         {
          "A_curv": 0.0196078431372549,
          "A_nodul": 0.058823529411764705,
          "A_octon": 0,
          "ActinSpp": 0.15196078431372548,
          "Age": 11.27,
          "CoscinSpp": 0.14215686274509803,
          "CyclotSpp": 0.04411764705882353,
          "Depth": 10.2,
          "Rop_tess": 0.07352941176470588,
          "StephanSpp": 0
         },
         {
          "A_curv": 0.03902439024390244,
          "A_nodul": 0.08780487804878048,
          "A_octon": 0.00975609756097561,
          "ActinSpp": 0.17560975609756097,
          "Age": 11.35,
          "CoscinSpp": 0.08780487804878048,
          "CyclotSpp": 0.05853658536585366,
          "Depth": 10.25,
          "Rop_tess": 0.02926829268292683,
          "StephanSpp": 0
         },
         {
          "A_curv": 0.024509803921568627,
          "A_nodul": 0.049019607843137254,
          "A_octon": 0.004901960784313725,
          "ActinSpp": 0.13725490196078433,
          "Age": 11.43,
          "CoscinSpp": 0.12745098039215685,
          "CyclotSpp": 0.024509803921568627,
          "Depth": 10.3,
          "Rop_tess": 0.12254901960784313,
          "StephanSpp": 0
         },
         {
          "A_curv": 0.01990049751243781,
          "A_nodul": 0.04975124378109453,
          "A_octon": 0.01990049751243781,
          "ActinSpp": 0.19900497512437812,
          "Age": 11.52,
          "CoscinSpp": 0.12935323383084577,
          "CyclotSpp": 0.03482587064676617,
          "Depth": 10.35,
          "Rop_tess": 0.03980099502487562,
          "StephanSpp": 0
         },
         {
          "A_curv": 0.034482758620689655,
          "A_nodul": 0.024630541871921183,
          "A_octon": 0.009852216748768473,
          "ActinSpp": 0.22660098522167488,
          "Age": 11.6,
          "CoscinSpp": 0.12807881773399016,
          "CyclotSpp": 0.029556650246305417,
          "Depth": 10.4,
          "Rop_tess": 0.034482758620689655,
          "StephanSpp": 0
         },
         {
          "A_curv": 0.009950248756218905,
          "A_nodul": 0.11442786069651742,
          "A_octon": 0.024875621890547265,
          "ActinSpp": 0.18407960199004975,
          "Age": 11.68,
          "CoscinSpp": 0.09950248756218906,
          "CyclotSpp": 0.04477611940298507,
          "Depth": 10.45,
          "Rop_tess": 0.014925373134328358,
          "StephanSpp": 0
         },
         {
          "A_curv": 0,
          "A_nodul": 0.13592233009708737,
          "A_octon": 0.0048543689320388345,
          "ActinSpp": 0.0970873786407767,
          "Age": 11.77,
          "CoscinSpp": 0.1407766990291262,
          "CyclotSpp": 0.0825242718446602,
          "Depth": 10.5,
          "Rop_tess": 0.024271844660194174,
          "StephanSpp": 0
         },
         {
          "A_curv": 0,
          "A_nodul": 0.28846153846153844,
          "A_octon": 0.004807692307692308,
          "ActinSpp": 0.038461538461538464,
          "Age": 11.85,
          "CoscinSpp": 0.10576923076923077,
          "CyclotSpp": 0.038461538461538464,
          "Depth": 10.55,
          "Rop_tess": 0.004807692307692308,
          "StephanSpp": 0
         },
         {
          "A_curv": 0.009615384615384616,
          "A_nodul": 0.1971153846153846,
          "A_octon": 0,
          "ActinSpp": 0.09134615384615384,
          "Age": 11.93,
          "CoscinSpp": 0.1201923076923077,
          "CyclotSpp": 0.052884615384615384,
          "Depth": 10.6,
          "Rop_tess": 0,
          "StephanSpp": 0
         },
         {
          "A_curv": 0.0049504950495049506,
          "A_nodul": 0.30198019801980197,
          "A_octon": 0.0049504950495049506,
          "ActinSpp": 0.06930693069306931,
          "Age": 12.02,
          "CoscinSpp": 0.054455445544554455,
          "CyclotSpp": 0.054455445544554455,
          "Depth": 10.65,
          "Rop_tess": 0,
          "StephanSpp": 0
         },
         {
          "A_curv": 0.0049261083743842365,
          "A_nodul": 0.3054187192118227,
          "A_octon": 0.009852216748768473,
          "ActinSpp": 0.04926108374384237,
          "Age": 12.1,
          "CoscinSpp": 0.06896551724137931,
          "CyclotSpp": 0.04926108374384237,
          "Depth": 10.7,
          "Rop_tess": 0,
          "StephanSpp": 0
         },
         {
          "A_curv": 0.019704433497536946,
          "A_nodul": 0.31527093596059114,
          "A_octon": 0.0049261083743842365,
          "ActinSpp": 0.034482758620689655,
          "Age": 12.18,
          "CoscinSpp": 0.06403940886699508,
          "CyclotSpp": 0.054187192118226604,
          "Depth": 10.75,
          "Rop_tess": 0,
          "StephanSpp": 0
         },
         {
          "A_curv": 0.009900990099009901,
          "A_nodul": 0.26732673267326734,
          "A_octon": 0.0049504950495049506,
          "ActinSpp": 0.06930693069306931,
          "Age": 12.27,
          "CoscinSpp": 0.08415841584158416,
          "CyclotSpp": 0.054455445544554455,
          "Depth": 10.8,
          "Rop_tess": 0.0049504950495049506,
          "StephanSpp": 0
         },
         {
          "A_curv": 0.00975609756097561,
          "A_nodul": 0.2926829268292683,
          "A_octon": 0.004878048780487805,
          "ActinSpp": 0.05853658536585366,
          "Age": 12.35,
          "CoscinSpp": 0.07804878048780488,
          "CyclotSpp": 0.03902439024390244,
          "Depth": 10.85,
          "Rop_tess": 0,
          "StephanSpp": 0
         },
         {
          "A_curv": 0.004901960784313725,
          "A_nodul": 0.25980392156862747,
          "A_octon": 0.00980392156862745,
          "ActinSpp": 0.06372549019607843,
          "Age": 12.43,
          "CoscinSpp": 0.09313725490196079,
          "CyclotSpp": 0.05392156862745098,
          "Depth": 10.9,
          "Rop_tess": 0,
          "StephanSpp": 0
         },
         {
          "A_curv": 0.009852216748768473,
          "A_nodul": 0.2512315270935961,
          "A_octon": 0.009852216748768473,
          "ActinSpp": 0.06896551724137931,
          "Age": 12.52,
          "CoscinSpp": 0.08866995073891626,
          "CyclotSpp": 0.059113300492610835,
          "Depth": 10.95,
          "Rop_tess": 0.0049261083743842365,
          "StephanSpp": 0
         },
         {
          "A_curv": 0.0049504950495049506,
          "A_nodul": 0.21287128712871287,
          "A_octon": 0.009900990099009901,
          "ActinSpp": 0.09405940594059406,
          "Age": 12.64,
          "CoscinSpp": 0.10891089108910891,
          "CyclotSpp": 0.0594059405940594,
          "Depth": 11,
          "Rop_tess": 0,
          "StephanSpp": 0.0049504950495049506
         },
         {
          "A_curv": 0.0049504950495049506,
          "A_nodul": 0.25742574257425743,
          "A_octon": 0.0049504950495049506,
          "ActinSpp": 0.06435643564356436,
          "Age": 12.73,
          "CoscinSpp": 0.09405940594059406,
          "CyclotSpp": 0.054455445544554455,
          "Depth": 11.05,
          "Rop_tess": 0.0049504950495049506,
          "StephanSpp": 0
         },
         {
          "A_curv": 0.023923444976076555,
          "A_nodul": 0.1339712918660287,
          "A_octon": 0.03827751196172249,
          "ActinSpp": 0.17703349282296652,
          "Age": 13.08,
          "CoscinSpp": 0.06698564593301436,
          "CyclotSpp": 0.023923444976076555,
          "Depth": 11.35,
          "Rop_tess": 0,
          "StephanSpp": 0.004784688995215311
         },
         {
          "A_curv": 0.0196078431372549,
          "A_nodul": 0.25980392156862747,
          "A_octon": 0.0392156862745098,
          "ActinSpp": 0.10294117647058823,
          "Age": 13.12,
          "CoscinSpp": 0.05392156862745098,
          "CyclotSpp": 0.014705882352941176,
          "Depth": 11.4,
          "Rop_tess": 0,
          "StephanSpp": 0
         },
         {
          "A_curv": 0.009708737864077669,
          "A_nodul": 0.18446601941747573,
          "A_octon": 0.038834951456310676,
          "ActinSpp": 0.1407766990291262,
          "Age": 13.17,
          "CoscinSpp": 0.10194174757281553,
          "CyclotSpp": 0.009708737864077669,
          "Depth": 11.45,
          "Rop_tess": 0,
          "StephanSpp": 0
         },
         {
          "A_curv": 0.054187192118226604,
          "A_nodul": 0.12807881773399016,
          "A_octon": 0.019704433497536946,
          "ActinSpp": 0.14285714285714285,
          "Age": 13.21,
          "CoscinSpp": 0.11822660098522167,
          "CyclotSpp": 0.024630541871921183,
          "Depth": 11.5,
          "Rop_tess": 0,
          "StephanSpp": 0
         },
         {
          "A_curv": 0.00980392156862745,
          "A_nodul": 0.18627450980392157,
          "A_octon": 0,
          "ActinSpp": 0.2107843137254902,
          "Age": 13.26,
          "CoscinSpp": 0.06862745098039216,
          "CyclotSpp": 0.00980392156862745,
          "Depth": 11.55,
          "Rop_tess": 0,
          "StephanSpp": 0
         },
         {
          "A_curv": 0.05263157894736842,
          "A_nodul": 0.11961722488038277,
          "A_octon": 0.019138755980861243,
          "ActinSpp": 0.15311004784688995,
          "Age": 13.3,
          "CoscinSpp": 0.07177033492822966,
          "CyclotSpp": 0.05741626794258373,
          "Depth": 11.6,
          "Rop_tess": 0,
          "StephanSpp": 0.004784688995215311
         },
         {
          "A_curv": 0.02912621359223301,
          "A_nodul": 0.1262135922330097,
          "A_octon": 0.03398058252427184,
          "ActinSpp": 0.1407766990291262,
          "Age": 13.35,
          "CoscinSpp": 0.1262135922330097,
          "CyclotSpp": 0.024271844660194174,
          "Depth": 11.65,
          "Rop_tess": 0,
          "StephanSpp": 0
         },
         {
          "A_curv": 0.029411764705882353,
          "A_nodul": 0.13725490196078433,
          "A_octon": 0.00980392156862745,
          "ActinSpp": 0.20588235294117646,
          "Age": 13.39,
          "CoscinSpp": 0.08823529411764706,
          "CyclotSpp": 0.014705882352941176,
          "Depth": 11.7,
          "Rop_tess": 0,
          "StephanSpp": 0
         },
         {
          "A_curv": 0.10396039603960396,
          "A_nodul": 0.0297029702970297,
          "A_octon": 0.0049504950495049506,
          "ActinSpp": 0.16336633663366337,
          "Age": 13.44,
          "CoscinSpp": 0.07425742574257425,
          "CyclotSpp": 0.10891089108910891,
          "Depth": 11.75,
          "Rop_tess": 0.0049504950495049506,
          "StephanSpp": 0
         },
         {
          "A_curv": 0.014705882352941176,
          "A_nodul": 0.14215686274509803,
          "A_octon": 0.0196078431372549,
          "ActinSpp": 0.16666666666666666,
          "Age": 13.48,
          "CoscinSpp": 0.09313725490196079,
          "CyclotSpp": 0.04411764705882353,
          "Depth": 11.8,
          "Rop_tess": 0.00980392156862745,
          "StephanSpp": 0
         },
         {
          "A_curv": 0.03940886699507389,
          "A_nodul": 0.13793103448275862,
          "A_octon": 0.009852216748768473,
          "ActinSpp": 0.18719211822660098,
          "Age": 13.53,
          "CoscinSpp": 0.07389162561576355,
          "CyclotSpp": 0.03940886699507389,
          "Depth": 11.85,
          "Rop_tess": 0.0049261083743842365,
          "StephanSpp": 0
         },
         {
          "A_curv": 0.00980392156862745,
          "A_nodul": 0.1568627450980392,
          "A_octon": 0.014705882352941176,
          "ActinSpp": 0.17647058823529413,
          "Age": 13.57,
          "CoscinSpp": 0.07352941176470588,
          "CyclotSpp": 0.049019607843137254,
          "Depth": 11.9,
          "Rop_tess": 0,
          "StephanSpp": 0.004901960784313725
         },
         {
          "A_curv": 0.11386138613861387,
          "A_nodul": 0.04950495049504951,
          "A_octon": 0.01485148514851485,
          "ActinSpp": 0.19306930693069307,
          "Age": 13.61,
          "CoscinSpp": 0.08415841584158416,
          "CyclotSpp": 0.0297029702970297,
          "Depth": 11.95,
          "Rop_tess": 0,
          "StephanSpp": 0
         },
         {
          "A_curv": 0.05365853658536585,
          "A_nodul": 0.09268292682926829,
          "A_octon": 0.02926829268292683,
          "ActinSpp": 0.2097560975609756,
          "Age": 13.66,
          "CoscinSpp": 0.06341463414634146,
          "CyclotSpp": 0.03902439024390244,
          "Depth": 12,
          "Rop_tess": 0,
          "StephanSpp": 0
         },
         {
          "A_curv": 0.014354066985645933,
          "A_nodul": 0.24401913875598086,
          "A_octon": 0.009569377990430622,
          "ActinSpp": 0.04784688995215311,
          "Age": 13.7,
          "CoscinSpp": 0.0430622009569378,
          "CyclotSpp": 0.04784688995215311,
          "Depth": 12.05,
          "Rop_tess": 0.07655502392344497,
          "StephanSpp": 0
         },
         {
          "A_curv": 0.04926108374384237,
          "A_nodul": 0.1477832512315271,
          "A_octon": 0.014778325123152709,
          "ActinSpp": 0.1477832512315271,
          "Age": 13.75,
          "CoscinSpp": 0.10344827586206896,
          "CyclotSpp": 0.029556650246305417,
          "Depth": 12.1,
          "Rop_tess": 0,
          "StephanSpp": 0
         },
         {
          "A_curv": 0.019230769230769232,
          "A_nodul": 0.18269230769230768,
          "A_octon": 0.038461538461538464,
          "ActinSpp": 0.12980769230769232,
          "Age": 13.79,
          "CoscinSpp": 0.052884615384615384,
          "CyclotSpp": 0.057692307692307696,
          "Depth": 12.15,
          "Rop_tess": 0,
          "StephanSpp": 0
         },
         {
          "A_curv": 0,
          "A_nodul": 0.22549019607843138,
          "A_octon": 0.004901960784313725,
          "ActinSpp": 0.06862745098039216,
          "Age": 12.82,
          "CoscinSpp": 0.1323529411764706,
          "CyclotSpp": 0.049019607843137254,
          "Depth": 11.1,
          "Rop_tess": 0,
          "StephanSpp": 0
         },
         {
          "A_curv": 0,
          "A_nodul": 0.23267326732673269,
          "A_octon": 0.009900990099009901,
          "ActinSpp": 0.0891089108910891,
          "Age": 12.9,
          "CoscinSpp": 0.11386138613861387,
          "CyclotSpp": 0.04455445544554455,
          "Depth": 11.15,
          "Rop_tess": 0.0049504950495049506,
          "StephanSpp": 0
         },
         {
          "A_curv": 0.004901960784313725,
          "A_nodul": 0.24509803921568626,
          "A_octon": 0.00980392156862745,
          "ActinSpp": 0.09803921568627451,
          "Age": 12.94,
          "CoscinSpp": 0.09803921568627451,
          "CyclotSpp": 0.029411764705882353,
          "Depth": 11.2,
          "Rop_tess": 0,
          "StephanSpp": 0
         },
         {
          "A_curv": 0.00980392156862745,
          "A_nodul": 0.08823529411764706,
          "A_octon": 0.0196078431372549,
          "ActinSpp": 0.19117647058823528,
          "Age": 12.99,
          "CoscinSpp": 0.16176470588235295,
          "CyclotSpp": 0.014705882352941176,
          "Depth": 11.25,
          "Rop_tess": 0,
          "StephanSpp": 0.004901960784313725
         },
         {
          "A_curv": 0.00980392156862745,
          "A_nodul": 0.24509803921568626,
          "A_octon": 0.0392156862745098,
          "ActinSpp": 0.06372549019607843,
          "Age": 13.03,
          "CoscinSpp": 0.07352941176470588,
          "CyclotSpp": 0.0392156862745098,
          "Depth": 11.3,
          "Rop_tess": 0.014705882352941176,
          "StephanSpp": 0
         },
         {
          "A_curv": 0.054187192118226604,
          "A_nodul": 0.06896551724137931,
          "A_octon": 0.014778325123152709,
          "ActinSpp": 0.2660098522167488,
          "Age": 13.84,
          "CoscinSpp": 0.04926108374384237,
          "CyclotSpp": 0.029556650246305417,
          "Depth": 12.2,
          "Rop_tess": 0,
          "StephanSpp": 0.0049261083743842365
         },
         {
          "A_curv": 0.04411764705882353,
          "A_nodul": 0.09803921568627451,
          "A_octon": 0.004901960784313725,
          "ActinSpp": 0.1568627450980392,
          "Age": 13.88,
          "CoscinSpp": 0.12745098039215685,
          "CyclotSpp": 0.049019607843137254,
          "Depth": 12.25,
          "Rop_tess": 0.004901960784313725,
          "StephanSpp": 0
         },
         {
          "A_curv": 0.06435643564356436,
          "A_nodul": 0.15346534653465346,
          "A_octon": 0.009900990099009901,
          "ActinSpp": 0.12871287128712872,
          "Age": 13.93,
          "CoscinSpp": 0.0891089108910891,
          "CyclotSpp": 0.039603960396039604,
          "Depth": 12.3,
          "Rop_tess": 0,
          "StephanSpp": 0.0049504950495049506
         },
         {
          "A_curv": 0.00980392156862745,
          "A_nodul": 0.21568627450980393,
          "A_octon": 0.004901960784313725,
          "ActinSpp": 0.12745098039215685,
          "Age": 13.97,
          "CoscinSpp": 0.10294117647058823,
          "CyclotSpp": 0.029411764705882353,
          "Depth": 12.35,
          "Rop_tess": 0,
          "StephanSpp": 0
         },
         {
          "A_curv": 0.03940886699507389,
          "A_nodul": 0.11330049261083744,
          "A_octon": 0.009852216748768473,
          "ActinSpp": 0.22167487684729065,
          "Age": 14.02,
          "CoscinSpp": 0.06896551724137931,
          "CyclotSpp": 0.03940886699507389,
          "Depth": 12.4,
          "Rop_tess": 0,
          "StephanSpp": 0
         },
         {
          "A_curv": 0.05314009661835749,
          "A_nodul": 0.1111111111111111,
          "A_octon": 0.01932367149758454,
          "ActinSpp": 0.14009661835748793,
          "Age": 14.06,
          "CoscinSpp": 0.13043478260869565,
          "CyclotSpp": 0.033816425120772944,
          "Depth": 12.45,
          "Rop_tess": 0,
          "StephanSpp": 0
         },
         {
          "A_curv": 0.024390243902439025,
          "A_nodul": 0.14146341463414633,
          "A_octon": 0.004878048780487805,
          "ActinSpp": 0.17073170731707318,
          "Age": 14.11,
          "CoscinSpp": 0.06829268292682927,
          "CyclotSpp": 0.06341463414634146,
          "Depth": 12.5,
          "Rop_tess": 0.014634146341463415,
          "StephanSpp": 0
         },
         {
          "A_curv": 0.028985507246376812,
          "A_nodul": 0.15942028985507245,
          "A_octon": 0.00966183574879227,
          "ActinSpp": 0.14009661835748793,
          "Age": 14.15,
          "CoscinSpp": 0.08695652173913043,
          "CyclotSpp": 0.057971014492753624,
          "Depth": 12.55,
          "Rop_tess": 0,
          "StephanSpp": 0
         },
         {
          "A_curv": 0.03431372549019608,
          "A_nodul": 0.16666666666666666,
          "A_octon": 0.014705882352941176,
          "ActinSpp": 0.1568627450980392,
          "Age": 14.19,
          "CoscinSpp": 0.09313725490196079,
          "CyclotSpp": 0.0196078431372549,
          "Depth": 12.6,
          "Rop_tess": 0,
          "StephanSpp": 0
         },
         {
          "A_curv": 0.043689320388349516,
          "A_nodul": 0.15048543689320387,
          "A_octon": 0.019417475728155338,
          "ActinSpp": 0.16019417475728157,
          "Age": 14.24,
          "CoscinSpp": 0.07766990291262135,
          "CyclotSpp": 0.02912621359223301,
          "Depth": 12.65,
          "Rop_tess": 0,
          "StephanSpp": 0.0048543689320388345
         },
         {
          "A_curv": 0.009708737864077669,
          "A_nodul": 0.3058252427184466,
          "A_octon": 0.0048543689320388345,
          "ActinSpp": 0.06796116504854369,
          "Age": 14.28,
          "CoscinSpp": 0.07766990291262135,
          "CyclotSpp": 0.009708737864077669,
          "Depth": 12.7,
          "Rop_tess": 0,
          "StephanSpp": 0
         },
         {
          "A_curv": 0.02912621359223301,
          "A_nodul": 0.16019417475728157,
          "A_octon": 0.02912621359223301,
          "ActinSpp": 0.1796116504854369,
          "Age": 14.33,
          "CoscinSpp": 0.05339805825242718,
          "CyclotSpp": 0.024271844660194174,
          "Depth": 12.75,
          "Rop_tess": 0,
          "StephanSpp": 0.0048543689320388345
         },
         {
          "A_curv": 0.01951219512195122,
          "A_nodul": 0.18048780487804877,
          "A_octon": 0.024390243902439025,
          "ActinSpp": 0.17073170731707318,
          "Age": 14.37,
          "CoscinSpp": 0.05853658536585366,
          "CyclotSpp": 0.03414634146341464,
          "Depth": 12.8,
          "Rop_tess": 0,
          "StephanSpp": 0
         },
         {
          "A_curv": 0.024630541871921183,
          "A_nodul": 0.17733990147783252,
          "A_octon": 0.009852216748768473,
          "ActinSpp": 0.1625615763546798,
          "Age": 14.42,
          "CoscinSpp": 0.07881773399014778,
          "CyclotSpp": 0.029556650246305417,
          "Depth": 12.85,
          "Rop_tess": 0,
          "StephanSpp": 0
         },
         {
          "A_curv": 0.02926829268292683,
          "A_nodul": 0.15609756097560976,
          "A_octon": 0.02926829268292683,
          "ActinSpp": 0.14634146341463414,
          "Age": 14.46,
          "CoscinSpp": 0.08780487804878048,
          "CyclotSpp": 0.03902439024390244,
          "Depth": 12.9,
          "Rop_tess": 0,
          "StephanSpp": 0
         },
         {
          "A_curv": 0.014492753623188406,
          "A_nodul": 0.2028985507246377,
          "A_octon": 0.028985507246376812,
          "ActinSpp": 0.09178743961352658,
          "Age": 14.51,
          "CoscinSpp": 0.06763285024154589,
          "CyclotSpp": 0.07729468599033816,
          "Depth": 12.95,
          "Rop_tess": 0,
          "StephanSpp": 0
         },
         {
          "A_curv": 0.00975609756097561,
          "A_nodul": 0.32682926829268294,
          "A_octon": 0.014634146341463415,
          "ActinSpp": 0.08292682926829269,
          "Age": 14.55,
          "CoscinSpp": 0.024390243902439025,
          "CyclotSpp": 0.01951219512195122,
          "Depth": 13,
          "Rop_tess": 0,
          "StephanSpp": 0
         },
         {
          "A_curv": 0,
          "A_nodul": 0.23786407766990292,
          "A_octon": 0.019417475728155338,
          "ActinSpp": 0.10679611650485436,
          "Age": 14.6,
          "CoscinSpp": 0.0825242718446602,
          "CyclotSpp": 0.038834951456310676,
          "Depth": 13.05,
          "Rop_tess": 0,
          "StephanSpp": 0
         },
         {
          "A_curv": 0,
          "A_nodul": 0.3582089552238806,
          "A_octon": 0,
          "ActinSpp": 0.03980099502487562,
          "Age": 14.64,
          "CoscinSpp": 0.07462686567164178,
          "CyclotSpp": 0.01990049751243781,
          "Depth": 13.1,
          "Rop_tess": 0,
          "StephanSpp": 0
         },
         {
          "A_curv": 0.004878048780487805,
          "A_nodul": 0.1951219512195122,
          "A_octon": 0.014634146341463415,
          "ActinSpp": 0.09268292682926829,
          "Age": 14.69,
          "CoscinSpp": 0.14146341463414633,
          "CyclotSpp": 0.024390243902439025,
          "Depth": 13.15,
          "Rop_tess": 0.004878048780487805,
          "StephanSpp": 0
         },
         {
          "A_curv": 0.004878048780487805,
          "A_nodul": 0.2975609756097561,
          "A_octon": 0.00975609756097561,
          "ActinSpp": 0.07317073170731707,
          "Age": 14.73,
          "CoscinSpp": 0.08292682926829269,
          "CyclotSpp": 0.014634146341463415,
          "Depth": 13.2,
          "Rop_tess": 0,
          "StephanSpp": 0
         },
         {
          "A_curv": 0.0048543689320388345,
          "A_nodul": 0.24271844660194175,
          "A_octon": 0,
          "ActinSpp": 0.10679611650485436,
          "Age": 14.78,
          "CoscinSpp": 0.0970873786407767,
          "CyclotSpp": 0.02912621359223301,
          "Depth": 13.25,
          "Rop_tess": 0,
          "StephanSpp": 0
         },
         {
          "A_curv": 0,
          "A_nodul": 0.24537037037037038,
          "A_octon": 0.013888888888888888,
          "ActinSpp": 0.06481481481481481,
          "Age": 14.92,
          "CoscinSpp": 0.07407407407407407,
          "CyclotSpp": 0.06018518518518518,
          "Depth": 13.41,
          "Rop_tess": 0,
          "StephanSpp": 0
         },
         {
          "A_curv": 0,
          "A_nodul": 0.2753623188405797,
          "A_octon": 0.00966183574879227,
          "ActinSpp": 0.05314009661835749,
          "Age": 14.96,
          "CoscinSpp": 0.10628019323671498,
          "CyclotSpp": 0.028985507246376812,
          "Depth": 13.46,
          "Rop_tess": 0.004830917874396135,
          "StephanSpp": 0
         },
         {
          "A_curv": 0,
          "A_nodul": 0.3073170731707317,
          "A_octon": 0,
          "ActinSpp": 0.04878048780487805,
          "Age": 15.01,
          "CoscinSpp": 0.1073170731707317,
          "CyclotSpp": 0.024390243902439025,
          "Depth": 13.51,
          "Rop_tess": 0,
          "StephanSpp": 0
         },
         {
          "A_curv": 0.0049261083743842365,
          "A_nodul": 0.2660098522167488,
          "A_octon": 0,
          "ActinSpp": 0.034482758620689655,
          "Age": 15.05,
          "CoscinSpp": 0.12807881773399016,
          "CyclotSpp": 0.054187192118226604,
          "Depth": 13.56,
          "Rop_tess": 0,
          "StephanSpp": 0
         },
         {
          "A_curv": 0.0048543689320388345,
          "A_nodul": 0.30097087378640774,
          "A_octon": 0.0048543689320388345,
          "ActinSpp": 0.04854368932038835,
          "Age": 15.1,
          "CoscinSpp": 0.07281553398058252,
          "CyclotSpp": 0.05339805825242718,
          "Depth": 13.61,
          "Rop_tess": 0,
          "StephanSpp": 0
         },
         {
          "A_curv": 0.014563106796116505,
          "A_nodul": 0.2815533980582524,
          "A_octon": 0.009708737864077669,
          "ActinSpp": 0.05825242718446602,
          "Age": 15.14,
          "CoscinSpp": 0.06310679611650485,
          "CyclotSpp": 0.05825242718446602,
          "Depth": 13.66,
          "Rop_tess": 0,
          "StephanSpp": 0
         },
         {
          "A_curv": 0.004901960784313725,
          "A_nodul": 0.2696078431372549,
          "A_octon": 0.00980392156862745,
          "ActinSpp": 0.06372549019607843,
          "Age": 15.19,
          "CoscinSpp": 0.08823529411764706,
          "CyclotSpp": 0.05392156862745098,
          "Depth": 13.71,
          "Rop_tess": 0,
          "StephanSpp": 0
         }
        ]
       },
       "layer": [
        {
         "encoding": {
          "x": {
           "axis": {
            "title": "Relative Abundances of Azpeitia nodulifer"
           },
           "field": "binshift",
           "type": "quantitative"
          },
          "y": {
           "axis": {
            "title": "Density"
           },
           "field": "Density",
           "type": "quantitative"
          }
         },
         "mark": {
          "opacity": 0.8,
          "size": 20,
          "type": "bar"
         },
         "transform": [
          {
           "as": [
            "bin_start",
            "bin_end"
           ],
           "bin": {
            "step": 0.03
           },
           "field": "A_nodul"
          },
          {
           "aggregate": [
            {
             "as": "Count",
             "op": "count"
            }
           ],
           "groupby": [
            "bin_start",
            "bin_end"
           ]
          },
          {
           "as": "Density",
           "calculate": "datum.Count / (230*0.03)"
          },
          {
           "as": "binshift",
           "calculate": "(datum.bin_start + datum.bin_end) / 2"
          }
         ]
        },
        {
         "encoding": {
          "x": {
           "field": "Azpeitia_nodulifer",
           "type": "quantitative"
          },
          "y": {
           "field": "density",
           "type": "quantitative"
          }
         },
         "mark": {
          "color": "red",
          "type": "line"
         },
         "transform": [
          {
           "as": [
            "Azpeitia_nodulifer",
            "density"
           ],
           "bandwidth": 0.03310796388916444,
           "density": "A_nodul"
          }
         ]
        }
       ]
      },
      "image/png": "[encoded data removed]",
      "text/plain": [
       "<VegaLite 5 object>\n",
       "\n",
       "If you see this message, it means the renderer has not been properly enabled\n",
       "for the frontend that you are using. For more information, see\n",
       "https://altair-viz.github.io/user_guide/display_frontends.html#troubleshooting\n"
      ]
     },
     "execution_count": 15,
     "metadata": {},
     "output_type": "execute_result"
    }
   ],
   "source": [
    "#density scale histogram\n",
    "hist = alt.Chart(diatoms).transform_bin(\n",
    "    as_ = ['bin_start', 'bin_end'],\n",
    "    field = 'A_nodul',\n",
    "    bin = alt.Bin(step=0.03)\n",
    ").transform_aggregate(\n",
    "    Count = 'count()',\n",
    "    groupby = ['bin_start', 'bin_end']\n",
    ").transform_calculate(\n",
    "    Density='datum.Count / (230*0.03)',\n",
    "    binshift='(datum.bin_start + datum.bin_end) / 2'\n",
    ").mark_bar(size = 20, opacity = 0.8).encode(\n",
    "    x = alt.X('binshift:Q', axis=alt.Axis(title=\"Relative Abundances of Azpeitia nodulifer\")),\n",
    "    y = alt.Y('Density:Q', axis=alt.Axis(title=\"Density\"))\n",
    ")\n",
    "\n",
    "# compute density estimate\n",
    "n, p = diatoms.shape\n",
    "n\n",
    "sigma_hat = diatoms.A_nodul.std()\n",
    "bw_scott = 1.06*sigma_hat*n**(-1/5)\n",
    "bw_scott\n",
    "\n",
    "kde = alt.Chart(diatoms).transform_density(\n",
    "    density = 'A_nodul',\n",
    "    bandwidth = bw_scott,\n",
    "    as_ = ['Azpeitia_nodulifer', 'density']\n",
    ")\n",
    "\n",
    "# plot kde\n",
    "smooth = kde.mark_line(color='red').encode(\n",
    "    x = 'Azpeitia_nodulifer:Q',\n",
    "    y = 'density:Q'\n",
    ")\n",
    "\n",
    "# layer\n",
    "fig3 = hist + smooth\n",
    "\n",
    "# display\n",
    "fig3"
   ]
  },
  {
   "cell_type": "markdown",
   "metadata": {},
   "source": [
    "<!-- END QUESTION -->\n",
    "\n",
    "> **Comment:** There are a disproportionately large number of zeroes, because in many samples no *Azpeitia nodulifer* diatoms were observed. This is a common phenomenon in ecological data, and even has a name: it results in a 'zero inflated' distribution of values. The statistician to identify and name the phenomenon was Diane Lambert in 1992. Zero inflation can present a variety of challenges. You may have noticed, for example, that there was no bandwidth parameter for the KDE that *both* captured the shape of the histogram near zero *and* away from zero, regardless of the choice of kernel. The key difficulty with zero inflated data is that no common probability distribution fits the data well. This requires the use of mixtures as probability models, which are challenging to incorporate into common statistical models.\n",
    "\n",
    "There was a transition between geological epochs during the time span covered by the diatom data. The oldest data points in the diatom data correspond to the end of the Pleistocene epoch (ice age), at which time there was a pronounced warming (Late Glacial Interstadial, 14.7 - 12.9 KyrBP) followed by a return to glacial conditions (Younger Dryas, 12.9 - 11.7 KyrBP). \n",
    "\n",
    "This fluctuation can be seen from temperature reconstructions. Below is a plot of sea surface temperature reconstructions off the coast of Northern California. Data come from the following source:\n",
    "\n",
    "> Barron *et al.*, 2003. Northern Coastal California High Resolution Holocene/Late Pleistocene Oceanographic Data. IGBP PAGES/World Data Center for Paleoclimatology. Data Contribution Series # 2003-014. NOAA/NGDC Paleoclimatology Program, Boulder CO, USA.\n",
    "\n",
    "The shaded region indicates the time window with unusually large flucutations in sea surface temperature; this window roughly corresponds to the dates of the climate event."
   ]
  },
  {
   "cell_type": "code",
   "execution_count": 16,
   "metadata": {},
   "outputs": [
    {
     "data": {
      "application/vnd.vegalite.v5+json": {
       "$schema": "https://vega.github.io/schema/vega-lite/v5.14.1.json",
       "config": {
        "view": {
         "continuousHeight": 300,
         "continuousWidth": 300
        }
       },
       "datasets": {
        "data-3a58caeda919fa504e554b7173d0eec4": [
         {
          "Age": 0.16,
          "SST": 11.7
         },
         {
          "Age": 0.16,
          "SST": 11.6
         },
         {
          "Age": 0.29,
          "SST": 11.5
         },
         {
          "Age": 0.29,
          "SST": 11.4
         },
         {
          "Age": 0.55,
          "SST": 11.3
         },
         {
          "Age": 0.68,
          "SST": 11.4
         },
         {
          "Age": 0.82,
          "SST": 11.6
         },
         {
          "Age": 0.95,
          "SST": 11.3
         },
         {
          "Age": 1.21,
          "SST": 11.5
         },
         {
          "Age": 1.34,
          "SST": 11.5
         },
         {
          "Age": 1.47,
          "SST": 11.7
         },
         {
          "Age": 1.61,
          "SST": 11.6
         },
         {
          "Age": 1.87,
          "SST": 11.5
         },
         {
          "Age": 1.87,
          "SST": 11.4
         },
         {
          "Age": 2,
          "SST": 11.3
         },
         {
          "Age": 2,
          "SST": 11.2
         },
         {
          "Age": 2.13,
          "SST": 10.9
         },
         {
          "Age": 2.26,
          "SST": 11.5
         },
         {
          "Age": 2.53,
          "SST": 11.8
         },
         {
          "Age": 2.66,
          "SST": 11.9
         },
         {
          "Age": 2.79,
          "SST": 12.1
         },
         {
          "Age": 2.92,
          "SST": 11.6
         },
         {
          "Age": 3.18,
          "SST": 12.2
         },
         {
          "Age": 3.32,
          "SST": 11.3
         },
         {
          "Age": 3.45,
          "SST": 10.5
         },
         {
          "Age": 3.58,
          "SST": 10.8
         },
         {
          "Age": 3.58,
          "SST": 10.8
         },
         {
          "Age": 3.58,
          "SST": 10.8
         },
         {
          "Age": 3.84,
          "SST": 11
         },
         {
          "Age": 3.97,
          "SST": 10.7
         },
         {
          "Age": 4.11,
          "SST": 11
         },
         {
          "Age": 4.24,
          "SST": 10.6
         },
         {
          "Age": 4.5,
          "SST": 11.2
         },
         {
          "Age": 4.63,
          "SST": 10.4
         },
         {
          "Age": 4.76,
          "SST": 10.6
         },
         {
          "Age": 4.89,
          "SST": 10.4
         },
         {
          "Age": 5.18,
          "SST": 10.5
         },
         {
          "Age": 5.29,
          "SST": 10.5
         },
         {
          "Age": 5.42,
          "SST": 10.6
         },
         {
          "Age": 5.52,
          "SST": 10.6
         },
         {
          "Age": 5.52,
          "SST": 10.8
         },
         {
          "Age": 5.73,
          "SST": 10.8
         },
         {
          "Age": 5.83,
          "SST": 10.7
         },
         {
          "Age": 5.94,
          "SST": 10.8
         },
         {
          "Age": 6.05,
          "SST": 10.8
         },
         {
          "Age": 6.26,
          "SST": 10.4
         },
         {
          "Age": 6.37,
          "SST": 10.2
         },
         {
          "Age": 6.49,
          "SST": 9.8
         },
         {
          "Age": 6.58,
          "SST": 10.1
         },
         {
          "Age": 6.79,
          "SST": 10.4
         },
         {
          "Age": 6.92,
          "SST": 10.2
         },
         {
          "Age": 6.92,
          "SST": 10.2
         },
         {
          "Age": 7,
          "SST": 10.7
         },
         {
          "Age": 7.11,
          "SST": 10.6
         },
         {
          "Age": 7.32,
          "SST": 10.4
         },
         {
          "Age": 7.43,
          "SST": 10.4
         },
         {
          "Age": 7.54,
          "SST": 10.9
         },
         {
          "Age": 7.73,
          "SST": 10.9
         },
         {
          "Age": 7.84,
          "SST": 10.6
         },
         {
          "Age": 7.94,
          "SST": 11.5
         },
         {
          "Age": 8.05,
          "SST": 10.8
         },
         {
          "Age": 8.2,
          "SST": 10.2
         },
         {
          "Age": 8.39,
          "SST": 11.3
         },
         {
          "Age": 8.49,
          "SST": 11.3
         },
         {
          "Age": 8.6,
          "SST": 11.8
         },
         {
          "Age": 8.71,
          "SST": 11.3
         },
         {
          "Age": 8.92,
          "SST": 11.6
         },
         {
          "Age": 8.92,
          "SST": 11.8
         },
         {
          "Age": 9.03,
          "SST": 11.7
         },
         {
          "Age": 9.13,
          "SST": 11.7
         },
         {
          "Age": 9.26,
          "SST": 11.5
         },
         {
          "Age": 9.37,
          "SST": 11.9
         },
         {
          "Age": 9.56,
          "SST": 11.8
         },
         {
          "Age": 9.66,
          "SST": 11.1
         },
         {
          "Age": 9.77,
          "SST": 12.7
         },
         {
          "Age": 9.97,
          "SST": 12.8
         },
         {
          "Age": 10.05,
          "SST": 13.2
         },
         {
          "Age": 10.17,
          "SST": 11.6
         },
         {
          "Age": 10.22,
          "SST": 12
         },
         {
          "Age": 10.35,
          "SST": 11.9
         },
         {
          "Age": 10.4,
          "SST": 11.9
         },
         {
          "Age": 10.52,
          "SST": 11.6
         },
         {
          "Age": 10.58,
          "SST": 11.7
         },
         {
          "Age": 10.66,
          "SST": 11.3
         },
         {
          "Age": 10.72,
          "SST": 11.5
         },
         {
          "Age": 10.77,
          "SST": 11
         },
         {
          "Age": 10.83,
          "SST": 10.8
         },
         {
          "Age": 10.99,
          "SST": 10.3
         },
         {
          "Age": 11.07,
          "SST": 11.2
         },
         {
          "Age": 11.15,
          "SST": 13.1
         },
         {
          "Age": 11.31,
          "SST": 13.1
         },
         {
          "Age": 11.31,
          "SST": 11.9
         },
         {
          "Age": 11.41,
          "SST": 11.7
         },
         {
          "Age": 11.49,
          "SST": 11.1
         },
         {
          "Age": 11.57,
          "SST": 9.5
         },
         {
          "Age": 11.57,
          "SST": 9.6
         },
         {
          "Age": 11.73,
          "SST": 8.4
         },
         {
          "Age": 11.8,
          "SST": 8
         },
         {
          "Age": 11.96,
          "SST": 8
         },
         {
          "Age": 12.13,
          "SST": 7.7
         },
         {
          "Age": 12.21,
          "SST": 7.6
         },
         {
          "Age": 12.28,
          "SST": 7.5
         },
         {
          "Age": 12.36,
          "SST": 7.6
         },
         {
          "Age": 12.52,
          "SST": 7.6
         },
         {
          "Age": 12.52,
          "SST": 7.5
         },
         {
          "Age": 12.6,
          "SST": 7.3
         },
         {
          "Age": 12.68,
          "SST": 7.4
         },
         {
          "Age": 12.84,
          "SST": 8.1
         },
         {
          "Age": 12.92,
          "SST": 8.5
         },
         {
          "Age": 13.01,
          "SST": 9.4
         },
         {
          "Age": 13.09,
          "SST": 10.8
         },
         {
          "Age": 13.17,
          "SST": 10
         },
         {
          "Age": 13.33,
          "SST": 10.3
         },
         {
          "Age": 13.41,
          "SST": 10.3
         },
         {
          "Age": 13.49,
          "SST": 10.4
         },
         {
          "Age": 13.57,
          "SST": 12.9
         },
         {
          "Age": 13.73,
          "SST": 10.4
         },
         {
          "Age": 13.81,
          "SST": 10.7
         },
         {
          "Age": 13.89,
          "SST": 9
         },
         {
          "Age": 13.97,
          "SST": 10.3
         },
         {
          "Age": 14.13,
          "SST": 9.7
         },
         {
          "Age": 14.21,
          "SST": 9
         },
         {
          "Age": 14.3,
          "SST": 9.3
         },
         {
          "Age": 14.38,
          "SST": 11.1
         },
         {
          "Age": 14.62,
          "SST": 12.1
         },
         {
          "Age": 14.7,
          "SST": 10.8
         },
         {
          "Age": 14.78,
          "SST": 8.5
         },
         {
          "Age": 14.94,
          "SST": 11.3
         }
        ],
        "data-6cea38239315c3d997ab47994b5133ac": [
         {
          "SST": 0,
          "lwr": 15,
          "upr": 11
         },
         {
          "SST": 0.1414141414141414,
          "lwr": 15,
          "upr": 11
         },
         {
          "SST": 0.2828282828282828,
          "lwr": 15,
          "upr": 11
         },
         {
          "SST": 0.4242424242424242,
          "lwr": 15,
          "upr": 11
         },
         {
          "SST": 0.5656565656565656,
          "lwr": 15,
          "upr": 11
         },
         {
          "SST": 0.7070707070707071,
          "lwr": 15,
          "upr": 11
         },
         {
          "SST": 0.8484848484848484,
          "lwr": 15,
          "upr": 11
         },
         {
          "SST": 0.9898989898989898,
          "lwr": 15,
          "upr": 11
         },
         {
          "SST": 1.1313131313131313,
          "lwr": 15,
          "upr": 11
         },
         {
          "SST": 1.2727272727272727,
          "lwr": 15,
          "upr": 11
         },
         {
          "SST": 1.4141414141414141,
          "lwr": 15,
          "upr": 11
         },
         {
          "SST": 1.5555555555555556,
          "lwr": 15,
          "upr": 11
         },
         {
          "SST": 1.6969696969696968,
          "lwr": 15,
          "upr": 11
         },
         {
          "SST": 1.8383838383838382,
          "lwr": 15,
          "upr": 11
         },
         {
          "SST": 1.9797979797979797,
          "lwr": 15,
          "upr": 11
         },
         {
          "SST": 2.121212121212121,
          "lwr": 15,
          "upr": 11
         },
         {
          "SST": 2.2626262626262625,
          "lwr": 15,
          "upr": 11
         },
         {
          "SST": 2.404040404040404,
          "lwr": 15,
          "upr": 11
         },
         {
          "SST": 2.5454545454545454,
          "lwr": 15,
          "upr": 11
         },
         {
          "SST": 2.686868686868687,
          "lwr": 15,
          "upr": 11
         },
         {
          "SST": 2.8282828282828283,
          "lwr": 15,
          "upr": 11
         },
         {
          "SST": 2.9696969696969697,
          "lwr": 15,
          "upr": 11
         },
         {
          "SST": 3.111111111111111,
          "lwr": 15,
          "upr": 11
         },
         {
          "SST": 3.2525252525252526,
          "lwr": 15,
          "upr": 11
         },
         {
          "SST": 3.3939393939393936,
          "lwr": 15,
          "upr": 11
         },
         {
          "SST": 3.535353535353535,
          "lwr": 15,
          "upr": 11
         },
         {
          "SST": 3.6767676767676765,
          "lwr": 15,
          "upr": 11
         },
         {
          "SST": 3.818181818181818,
          "lwr": 15,
          "upr": 11
         },
         {
          "SST": 3.9595959595959593,
          "lwr": 15,
          "upr": 11
         },
         {
          "SST": 4.101010101010101,
          "lwr": 15,
          "upr": 11
         },
         {
          "SST": 4.242424242424242,
          "lwr": 15,
          "upr": 11
         },
         {
          "SST": 4.383838383838384,
          "lwr": 15,
          "upr": 11
         },
         {
          "SST": 4.525252525252525,
          "lwr": 15,
          "upr": 11
         },
         {
          "SST": 4.666666666666666,
          "lwr": 15,
          "upr": 11
         },
         {
          "SST": 4.808080808080808,
          "lwr": 15,
          "upr": 11
         },
         {
          "SST": 4.949494949494949,
          "lwr": 15,
          "upr": 11
         },
         {
          "SST": 5.090909090909091,
          "lwr": 15,
          "upr": 11
         },
         {
          "SST": 5.232323232323232,
          "lwr": 15,
          "upr": 11
         },
         {
          "SST": 5.373737373737374,
          "lwr": 15,
          "upr": 11
         },
         {
          "SST": 5.515151515151515,
          "lwr": 15,
          "upr": 11
         },
         {
          "SST": 5.656565656565657,
          "lwr": 15,
          "upr": 11
         },
         {
          "SST": 5.797979797979798,
          "lwr": 15,
          "upr": 11
         },
         {
          "SST": 5.9393939393939394,
          "lwr": 15,
          "upr": 11
         },
         {
          "SST": 6.08080808080808,
          "lwr": 15,
          "upr": 11
         },
         {
          "SST": 6.222222222222222,
          "lwr": 15,
          "upr": 11
         },
         {
          "SST": 6.363636363636363,
          "lwr": 15,
          "upr": 11
         },
         {
          "SST": 6.505050505050505,
          "lwr": 15,
          "upr": 11
         },
         {
          "SST": 6.646464646464646,
          "lwr": 15,
          "upr": 11
         },
         {
          "SST": 6.787878787878787,
          "lwr": 15,
          "upr": 11
         },
         {
          "SST": 6.929292929292929,
          "lwr": 15,
          "upr": 11
         },
         {
          "SST": 7.07070707070707,
          "lwr": 15,
          "upr": 11
         },
         {
          "SST": 7.212121212121212,
          "lwr": 15,
          "upr": 11
         },
         {
          "SST": 7.353535353535353,
          "lwr": 15,
          "upr": 11
         },
         {
          "SST": 7.494949494949495,
          "lwr": 15,
          "upr": 11
         },
         {
          "SST": 7.636363636363636,
          "lwr": 15,
          "upr": 11
         },
         {
          "SST": 7.777777777777778,
          "lwr": 15,
          "upr": 11
         },
         {
          "SST": 7.919191919191919,
          "lwr": 15,
          "upr": 11
         },
         {
          "SST": 8.06060606060606,
          "lwr": 15,
          "upr": 11
         },
         {
          "SST": 8.202020202020202,
          "lwr": 15,
          "upr": 11
         },
         {
          "SST": 8.343434343434343,
          "lwr": 15,
          "upr": 11
         },
         {
          "SST": 8.484848484848484,
          "lwr": 15,
          "upr": 11
         },
         {
          "SST": 8.626262626262626,
          "lwr": 15,
          "upr": 11
         },
         {
          "SST": 8.767676767676768,
          "lwr": 15,
          "upr": 11
         },
         {
          "SST": 8.909090909090908,
          "lwr": 15,
          "upr": 11
         },
         {
          "SST": 9.05050505050505,
          "lwr": 15,
          "upr": 11
         },
         {
          "SST": 9.191919191919192,
          "lwr": 15,
          "upr": 11
         },
         {
          "SST": 9.333333333333332,
          "lwr": 15,
          "upr": 11
         },
         {
          "SST": 9.474747474747474,
          "lwr": 15,
          "upr": 11
         },
         {
          "SST": 9.616161616161616,
          "lwr": 15,
          "upr": 11
         },
         {
          "SST": 9.757575757575758,
          "lwr": 15,
          "upr": 11
         },
         {
          "SST": 9.898989898989898,
          "lwr": 15,
          "upr": 11
         },
         {
          "SST": 10.04040404040404,
          "lwr": 15,
          "upr": 11
         },
         {
          "SST": 10.181818181818182,
          "lwr": 15,
          "upr": 11
         },
         {
          "SST": 10.323232323232324,
          "lwr": 15,
          "upr": 11
         },
         {
          "SST": 10.464646464646464,
          "lwr": 15,
          "upr": 11
         },
         {
          "SST": 10.606060606060606,
          "lwr": 15,
          "upr": 11
         },
         {
          "SST": 10.747474747474747,
          "lwr": 15,
          "upr": 11
         },
         {
          "SST": 10.88888888888889,
          "lwr": 15,
          "upr": 11
         },
         {
          "SST": 11.03030303030303,
          "lwr": 15,
          "upr": 11
         },
         {
          "SST": 11.171717171717171,
          "lwr": 15,
          "upr": 11
         },
         {
          "SST": 11.313131313131313,
          "lwr": 15,
          "upr": 11
         },
         {
          "SST": 11.454545454545453,
          "lwr": 15,
          "upr": 11
         },
         {
          "SST": 11.595959595959595,
          "lwr": 15,
          "upr": 11
         },
         {
          "SST": 11.737373737373737,
          "lwr": 15,
          "upr": 11
         },
         {
          "SST": 11.878787878787879,
          "lwr": 15,
          "upr": 11
         },
         {
          "SST": 12.020202020202019,
          "lwr": 15,
          "upr": 11
         },
         {
          "SST": 12.16161616161616,
          "lwr": 15,
          "upr": 11
         },
         {
          "SST": 12.303030303030303,
          "lwr": 15,
          "upr": 11
         },
         {
          "SST": 12.444444444444445,
          "lwr": 15,
          "upr": 11
         },
         {
          "SST": 12.585858585858585,
          "lwr": 15,
          "upr": 11
         },
         {
          "SST": 12.727272727272727,
          "lwr": 15,
          "upr": 11
         },
         {
          "SST": 12.868686868686869,
          "lwr": 15,
          "upr": 11
         },
         {
          "SST": 13.01010101010101,
          "lwr": 15,
          "upr": 11
         },
         {
          "SST": 13.15151515151515,
          "lwr": 15,
          "upr": 11
         },
         {
          "SST": 13.292929292929292,
          "lwr": 15,
          "upr": 11
         },
         {
          "SST": 13.434343434343434,
          "lwr": 15,
          "upr": 11
         },
         {
          "SST": 13.575757575757574,
          "lwr": 15,
          "upr": 11
         },
         {
          "SST": 13.717171717171716,
          "lwr": 15,
          "upr": 11
         },
         {
          "SST": 13.858585858585858,
          "lwr": 15,
          "upr": 11
         },
         {
          "SST": 14,
          "lwr": 15,
          "upr": 11
         }
        ]
       },
       "layer": [
        {
         "data": {
          "name": "data-3a58caeda919fa504e554b7173d0eec4"
         },
         "encoding": {
          "x": {
           "field": "Age",
           "title": "Thousands of years before present",
           "type": "quantitative"
          },
          "y": {
           "field": "SST",
           "type": "quantitative"
          }
         },
         "mark": {
          "type": "line"
         }
        },
        {
         "data": {
          "name": "data-6cea38239315c3d997ab47994b5133ac"
         },
         "encoding": {
          "x": {
           "field": "upr",
           "title": "Thousands of years before present",
           "type": "quantitative"
          },
          "x2": {
           "field": "lwr"
          },
          "y": {
           "field": "SST",
           "type": "quantitative"
          }
         },
         "mark": {
          "color": "orange",
          "opacity": 0.2,
          "type": "area"
         }
        },
        {
         "data": {
          "name": "data-3a58caeda919fa504e554b7173d0eec4"
         },
         "encoding": {
          "x": {
           "field": "Age",
           "title": "Thousands of years before present",
           "type": "quantitative"
          },
          "y": {
           "field": "SST",
           "type": "quantitative"
          }
         },
         "mark": {
          "color": "black",
          "type": "line"
         },
         "transform": [
          {
           "bandwidth": 0.2,
           "loess": "SST",
           "on": "Age"
          }
         ]
        }
       ]
      },
      "image/png": "[encoded data removed]",
      "text/plain": [
       "<VegaLite 5 object>\n",
       "\n",
       "If you see this message, it means the renderer has not been properly enabled\n",
       "for the frontend that you are using. For more information, see\n",
       "https://altair-viz.github.io/user_guide/display_frontends.html#troubleshooting\n"
      ]
     },
     "execution_count": 16,
     "metadata": {},
     "output_type": "execute_result"
    }
   ],
   "source": [
    "# import sea surface temp reconstruction\n",
    "seatemps = pd.read_csv('data/barron-sst.csv')\n",
    "\n",
    "# line plot of time series\n",
    "line = alt.Chart(seatemps).mark_line().encode(\n",
    "    x = alt.X('Age', title = 'Thousands of years before present'),\n",
    "    y = 'SST'\n",
    ")\n",
    "\n",
    "# highlight region with large variations\n",
    "highlight = alt.Chart(\n",
    "    pd.DataFrame(\n",
    "        {'SST': np.linspace(0, 14, 100), \n",
    "         'upr': np.repeat(11, 100), \n",
    "         'lwr': np.repeat(15, 100)}\n",
    "    )\n",
    ").mark_area(opacity = 0.2, color = 'orange').encode(\n",
    "    y = 'SST',\n",
    "    x = alt.X('upr', title = 'Thousands of years before present'),\n",
    "    x2 = 'lwr'\n",
    ")\n",
    "\n",
    "# add smooth trend\n",
    "smooth = line.transform_loess(\n",
    "    on = 'Age',\n",
    "    loess = 'SST',\n",
    "    bandwidth = 0.2\n",
    ").mark_line(color = 'black')\n",
    "\n",
    "# layer\n",
    "line + highlight + smooth"
   ]
  },
  {
   "cell_type": "markdown",
   "metadata": {},
   "source": [
    "<!-- BEGIN QUESTION -->\n",
    "\n",
    "### Question 8: Conditional distributions of relative abundance\n",
    "\n",
    "Does the distribution of relative abundance of *Azpeitia nodulifer* differ when variation in sea temperatures was higher (before 11KyrBP)? \n",
    "\n",
    "**(i) Plot kernel density estimates to show the distribution of relative abundances before and after 11KyrBP.**\n",
    "\n",
    "Use the Altair implementation of Gaussian KDE:\n",
    "1. Use `.transform_caluculate(...)` to calculate an indicator variable, `pleistocene`, that indicates whether `Age` exceeds 11.\n",
    "2. Use `.transform_density(...)` to compute KDEs separately for observations of relative abundance before and after 11KyrBP.\n",
    "    + *Hint*: group by `pleistocene`\n",
    "3. Plot the KDEs distinguished by color; give the color legend the title 'Before 11KyrBP' and store the plot as `kdes`.\n",
    "4. Add a shaded area beneath the KDE curves. Adjust the opacity of the area to your liking.\n",
    "\n",
    "Store the result as `fig4` and display the figure.\n",
    "\n",
    "**(ii) Does the distribution seem to change between epochs? If so, how?**\n",
    "\n",
    "Answer based on the figure in a few sentences."
   ]
  },
  {
   "cell_type": "markdown",
   "metadata": {},
   "source": [
    "The distribution definitely changes between epochs. Before 11 KyrBP, the distribution is much more spread out over values ranging from close to zero to above 0.35. Unlike the abundance after 11 KyrBP which has the vast majority of values close to zero. We can see that after 11KyrBP the abundance of this taxon has diminished a lot."
   ]
  },
  {
   "cell_type": "code",
   "execution_count": 17,
   "metadata": {
    "tags": []
   },
   "outputs": [
    {
     "data": {
      "application/vnd.vegalite.v5+json": {
       "$schema": "https://vega.github.io/schema/vega-lite/v5.14.1.json",
       "config": {
        "view": {
         "continuousHeight": 300,
         "continuousWidth": 300
        }
       },
       "data": {
        "name": "data-9f4e66e54759d6b46301ea3d10ce44f6"
       },
       "datasets": {
        "data-9f4e66e54759d6b46301ea3d10ce44f6": [
         {
          "A_curv": 0.024875621890547265,
          "A_nodul": 0.06965174129353234,
          "A_octon": 0.009950248756218905,
          "ActinSpp": 0.15920398009950248,
          "Age": 1.33,
          "CoscinSpp": 0.1044776119402985,
          "CyclotSpp": 0.10945273631840796,
          "Depth": 0,
          "Rop_tess": 0.004975124378109453,
          "StephanSpp": 0.004975124378109453
         },
         {
          "A_curv": 0.04,
          "A_nodul": 0.08,
          "A_octon": 0.01,
          "ActinSpp": 0.155,
          "Age": 1.37,
          "CoscinSpp": 0.1,
          "CyclotSpp": 0.08,
          "Depth": 0.05,
          "Rop_tess": 0.035,
          "StephanSpp": 0.01
         },
         {
          "A_curv": 0.04,
          "A_nodul": 0.09,
          "A_octon": 0.03,
          "ActinSpp": 0.165,
          "Age": 1.42,
          "CoscinSpp": 0.145,
          "CyclotSpp": 0.035,
          "Depth": 0.1,
          "Rop_tess": 0.005,
          "StephanSpp": 0.005
         },
         {
          "A_curv": 0.055,
          "A_nodul": 0.005,
          "A_octon": 0.005,
          "ActinSpp": 0.105,
          "Age": 1.46,
          "CoscinSpp": 0.06,
          "CyclotSpp": 0.14,
          "Depth": 0.15,
          "Rop_tess": 0.125,
          "StephanSpp": 0.015
         },
         {
          "A_curv": 0.03666666666666667,
          "A_nodul": 0.01,
          "A_octon": 0.0033333333333333335,
          "ActinSpp": 0.12666666666666668,
          "Age": 1.51,
          "CoscinSpp": 0.06,
          "CyclotSpp": 0.08,
          "Depth": 0.2,
          "Rop_tess": 0.01,
          "StephanSpp": 0
         },
         {
          "A_curv": 0.019704433497536946,
          "A_nodul": 0.04926108374384237,
          "A_octon": 0.04433497536945813,
          "ActinSpp": 0.1477832512315271,
          "Age": 1.55,
          "CoscinSpp": 0.07881773399014778,
          "CyclotSpp": 0.06896551724137931,
          "Depth": 0.25,
          "Rop_tess": 0.07881773399014778,
          "StephanSpp": 0
         },
         {
          "A_curv": 0.025,
          "A_nodul": 0.02,
          "A_octon": 0.015,
          "ActinSpp": 0.105,
          "Age": 1.59,
          "CoscinSpp": 0.06,
          "CyclotSpp": 0.08,
          "Depth": 0.3,
          "Rop_tess": 0.2,
          "StephanSpp": 0
         },
         {
          "A_curv": 0.035,
          "A_nodul": 0.095,
          "A_octon": 0.02,
          "ActinSpp": 0.18,
          "Age": 1.64,
          "CoscinSpp": 0.095,
          "CyclotSpp": 0.065,
          "Depth": 0.35,
          "Rop_tess": 0.015,
          "StephanSpp": 0.005
         },
         {
          "A_curv": 0.07,
          "A_nodul": 0.02,
          "A_octon": 0.035,
          "ActinSpp": 0.2,
          "Age": 1.68,
          "CoscinSpp": 0.12,
          "CyclotSpp": 0.055,
          "Depth": 0.4,
          "Rop_tess": 0.015,
          "StephanSpp": 0.005
         },
         {
          "A_curv": 0.03,
          "A_nodul": 0.03,
          "A_octon": 0.015,
          "ActinSpp": 0.185,
          "Age": 1.72,
          "CoscinSpp": 0.13,
          "CyclotSpp": 0.1,
          "Depth": 0.45,
          "Rop_tess": 0.015,
          "StephanSpp": 0.005
         },
         {
          "A_curv": 0.04,
          "A_nodul": 0.055,
          "A_octon": 0.02,
          "ActinSpp": 0.1,
          "Age": 1.77,
          "CoscinSpp": 0.055,
          "CyclotSpp": 0.1,
          "Depth": 0.5,
          "Rop_tess": 0.135,
          "StephanSpp": 0.005
         },
         {
          "A_curv": 0.024875621890547265,
          "A_nodul": 0.014925373134328358,
          "A_octon": 0.014925373134328358,
          "ActinSpp": 0.17412935323383086,
          "Age": 1.81,
          "CoscinSpp": 0.07462686567164178,
          "CyclotSpp": 0.10945273631840796,
          "Depth": 0.55,
          "Rop_tess": 0.05970149253731343,
          "StephanSpp": 0.014925373134328358
         },
         {
          "A_curv": 0.04455445544554455,
          "A_nodul": 0.01485148514851485,
          "A_octon": 0.01485148514851485,
          "ActinSpp": 0.1485148514851485,
          "Age": 1.86,
          "CoscinSpp": 0.0891089108910891,
          "CyclotSpp": 0.13366336633663367,
          "Depth": 0.6,
          "Rop_tess": 0.034653465346534656,
          "StephanSpp": 0.0049504950495049506
         },
         {
          "A_curv": 0.016556291390728478,
          "A_nodul": 0.019867549668874173,
          "A_octon": 0.013245033112582781,
          "ActinSpp": 0.08940397350993377,
          "Age": 1.9,
          "CoscinSpp": 0.06291390728476821,
          "CyclotSpp": 0.11589403973509933,
          "Depth": 0.65,
          "Rop_tess": 0.013245033112582781,
          "StephanSpp": 0
         },
         {
          "A_curv": 0.065,
          "A_nodul": 0.04,
          "A_octon": 0.01,
          "ActinSpp": 0.18,
          "Age": 1.94,
          "CoscinSpp": 0.075,
          "CyclotSpp": 0.105,
          "Depth": 0.7,
          "Rop_tess": 0.03,
          "StephanSpp": 0
         },
         {
          "A_curv": 0.029850746268656716,
          "A_nodul": 0.01990049751243781,
          "A_octon": 0.009950248756218905,
          "ActinSpp": 0.16417910447761194,
          "Age": 1.99,
          "CoscinSpp": 0.15920398009950248,
          "CyclotSpp": 0.1044776119402985,
          "Depth": 0.75,
          "Rop_tess": 0.004975124378109453,
          "StephanSpp": 0
         },
         {
          "A_curv": 0.04455445544554455,
          "A_nodul": 0.01485148514851485,
          "A_octon": 0.009900990099009901,
          "ActinSpp": 0.2079207920792079,
          "Age": 2.03,
          "CoscinSpp": 0.10396039603960396,
          "CyclotSpp": 0.0891089108910891,
          "Depth": 0.8,
          "Rop_tess": 0.019801980198019802,
          "StephanSpp": 0.0049504950495049506
         },
         {
          "A_curv": 0.06965174129353234,
          "A_nodul": 0.004975124378109453,
          "A_octon": 0.014925373134328358,
          "ActinSpp": 0.1044776119402985,
          "Age": 2.08,
          "CoscinSpp": 0.06965174129353234,
          "CyclotSpp": 0.208955223880597,
          "Depth": 0.85,
          "Rop_tess": 0.01990049751243781,
          "StephanSpp": 0
         },
         {
          "A_curv": 0.04477611940298507,
          "A_nodul": 0.06467661691542288,
          "A_octon": 0.024875621890547265,
          "ActinSpp": 0.12935323383084577,
          "Age": 2.12,
          "CoscinSpp": 0.07960199004975124,
          "CyclotSpp": 0.09950248756218906,
          "Depth": 0.9,
          "Rop_tess": 0.04477611940298507,
          "StephanSpp": 0
         },
         {
          "A_curv": 0.055,
          "A_nodul": 0.015,
          "A_octon": 0.02,
          "ActinSpp": 0.17,
          "Age": 2.16,
          "CoscinSpp": 0.05,
          "CyclotSpp": 0.175,
          "Depth": 0.95,
          "Rop_tess": 0.015,
          "StephanSpp": 0.01
         },
         {
          "A_curv": 0.058823529411764705,
          "A_nodul": 0.004901960784313725,
          "A_octon": 0.014705882352941176,
          "ActinSpp": 0.19117647058823528,
          "Age": 2.21,
          "CoscinSpp": 0.0784313725490196,
          "CyclotSpp": 0.11274509803921569,
          "Depth": 1,
          "Rop_tess": 0.00980392156862745,
          "StephanSpp": 0.00980392156862745
         },
         {
          "A_curv": 0.065,
          "A_nodul": 0.025,
          "A_octon": 0.015,
          "ActinSpp": 0.115,
          "Age": 2.25,
          "CoscinSpp": 0.09,
          "CyclotSpp": 0.115,
          "Depth": 1.05,
          "Rop_tess": 0.075,
          "StephanSpp": 0.005
         },
         {
          "A_curv": 0.029850746268656716,
          "A_nodul": 0.01990049751243781,
          "A_octon": 0.004975124378109453,
          "ActinSpp": 0.11442786069651742,
          "Age": 2.29,
          "CoscinSpp": 0.04975124378109453,
          "CyclotSpp": 0.0945273631840796,
          "Depth": 1.1,
          "Rop_tess": 0.07960199004975124,
          "StephanSpp": 0.0945273631840796
         },
         {
          "A_curv": 0.034482758620689655,
          "A_nodul": 0.03940886699507389,
          "A_octon": 0.04433497536945813,
          "ActinSpp": 0.13793103448275862,
          "Age": 2.34,
          "CoscinSpp": 0.08866995073891626,
          "CyclotSpp": 0.11330049261083744,
          "Depth": 1.15,
          "Rop_tess": 0.034482758620689655,
          "StephanSpp": 0
         },
         {
          "A_curv": 0.03734439834024896,
          "A_nodul": 0.07883817427385892,
          "A_octon": 0.012448132780082987,
          "ActinSpp": 0.04564315352697095,
          "Age": 2.38,
          "CoscinSpp": 0.04979253112033195,
          "CyclotSpp": 0.07468879668049792,
          "Depth": 1.2,
          "Rop_tess": 0.11203319502074689,
          "StephanSpp": 0
         },
         {
          "A_curv": 0.045,
          "A_nodul": 0.01,
          "A_octon": 0.015,
          "ActinSpp": 0.13,
          "Age": 2.43,
          "CoscinSpp": 0.09,
          "CyclotSpp": 0.065,
          "Depth": 1.25,
          "Rop_tess": 0.11,
          "StephanSpp": 0.045
         },
         {
          "A_curv": 0.04,
          "A_nodul": 0.013333333333333334,
          "A_octon": 0.01,
          "ActinSpp": 0.09,
          "Age": 2.47,
          "CoscinSpp": 0.043333333333333335,
          "CyclotSpp": 0.06333333333333334,
          "Depth": 1.3,
          "Rop_tess": 0.05333333333333334,
          "StephanSpp": 0.016666666666666666
         },
         {
          "A_curv": 0.04455445544554455,
          "A_nodul": 0.019801980198019802,
          "A_octon": 0.019801980198019802,
          "ActinSpp": 0.14356435643564355,
          "Age": 2.51,
          "CoscinSpp": 0.039603960396039604,
          "CyclotSpp": 0.21287128712871287,
          "Depth": 1.35,
          "Rop_tess": 0.01485148514851485,
          "StephanSpp": 0
         },
         {
          "A_curv": 0.049019607843137254,
          "A_nodul": 0.014705882352941176,
          "A_octon": 0.029411764705882353,
          "ActinSpp": 0.12254901960784313,
          "Age": 2.56,
          "CoscinSpp": 0.049019607843137254,
          "CyclotSpp": 0.17647058823529413,
          "Depth": 1.4,
          "Rop_tess": 0.04411764705882353,
          "StephanSpp": 0.004901960784313725
         },
         {
          "A_curv": 0.045,
          "A_nodul": 0.03,
          "A_octon": 0.015,
          "ActinSpp": 0.14,
          "Age": 2.64,
          "CoscinSpp": 0.145,
          "CyclotSpp": 0.095,
          "Depth": 1.49,
          "Rop_tess": 0.045,
          "StephanSpp": 0
         },
         {
          "A_curv": 0.03,
          "A_nodul": 0.04,
          "A_octon": 0.035,
          "ActinSpp": 0.16,
          "Age": 2.65,
          "CoscinSpp": 0.065,
          "CyclotSpp": 0.085,
          "Depth": 1.5,
          "Rop_tess": 0.095,
          "StephanSpp": 0
         },
         {
          "A_curv": 0.025,
          "A_nodul": 0.02,
          "A_octon": 0.035,
          "ActinSpp": 0.11,
          "Age": 2.69,
          "CoscinSpp": 0.05,
          "CyclotSpp": 0.155,
          "Depth": 1.55,
          "Rop_tess": 0.115,
          "StephanSpp": 0
         },
         {
          "A_curv": 0.04,
          "A_nodul": 0.01,
          "A_octon": 0.03,
          "ActinSpp": 0.14,
          "Age": 2.73,
          "CoscinSpp": 0.13,
          "CyclotSpp": 0.125,
          "Depth": 1.6,
          "Rop_tess": 0.03,
          "StephanSpp": 0.005
         },
         {
          "A_curv": 0.05,
          "A_nodul": 0.03,
          "A_octon": 0.005,
          "ActinSpp": 0.14,
          "Age": 2.78,
          "CoscinSpp": 0.095,
          "CyclotSpp": 0.14,
          "Depth": 1.65,
          "Rop_tess": 0.05,
          "StephanSpp": 0
         },
         {
          "A_curv": 0.045,
          "A_nodul": 0.005,
          "A_octon": 0.015,
          "ActinSpp": 0.215,
          "Age": 2.82,
          "CoscinSpp": 0.08,
          "CyclotSpp": 0.125,
          "Depth": 1.7,
          "Rop_tess": 0.02,
          "StephanSpp": 0.005
         },
         {
          "A_curv": 0.07881773399014778,
          "A_nodul": 0.019704433497536946,
          "A_octon": 0.059113300492610835,
          "ActinSpp": 0.10344827586206896,
          "Age": 2.87,
          "CoscinSpp": 0.09359605911330049,
          "CyclotSpp": 0.09359605911330049,
          "Depth": 1.75,
          "Rop_tess": 0.034482758620689655,
          "StephanSpp": 0.009852216748768473
         },
         {
          "A_curv": 0.054187192118226604,
          "A_nodul": 0.029556650246305417,
          "A_octon": 0.009852216748768473,
          "ActinSpp": 0.19704433497536947,
          "Age": 2.91,
          "CoscinSpp": 0.08374384236453201,
          "CyclotSpp": 0.07389162561576355,
          "Depth": 1.8,
          "Rop_tess": 0.034482758620689655,
          "StephanSpp": 0
         },
         {
          "A_curv": 0.025,
          "A_nodul": 0.025,
          "A_octon": 0.015,
          "ActinSpp": 0.19,
          "Age": 2.95,
          "CoscinSpp": 0.115,
          "CyclotSpp": 0.105,
          "Depth": 1.85,
          "Rop_tess": 0.03,
          "StephanSpp": 0.005
         },
         {
          "A_curv": 0.03,
          "A_nodul": 0.005,
          "A_octon": 0.01,
          "ActinSpp": 0.09,
          "Age": 3,
          "CoscinSpp": 0.055,
          "CyclotSpp": 0.18,
          "Depth": 1.9,
          "Rop_tess": 0.13,
          "StephanSpp": 0.005
         },
         {
          "A_curv": 0.05,
          "A_nodul": 0.01,
          "A_octon": 0.02,
          "ActinSpp": 0.2,
          "Age": 3.04,
          "CoscinSpp": 0.075,
          "CyclotSpp": 0.12,
          "Depth": 1.95,
          "Rop_tess": 0.035,
          "StephanSpp": 0.005
         },
         {
          "A_curv": 0.0297029702970297,
          "A_nodul": 0.0049504950495049506,
          "A_octon": 0.0049504950495049506,
          "ActinSpp": 0.14356435643564355,
          "Age": 3.08,
          "CoscinSpp": 0.0297029702970297,
          "CyclotSpp": 0.2079207920792079,
          "Depth": 2,
          "Rop_tess": 0.06930693069306931,
          "StephanSpp": 0
         },
         {
          "A_curv": 0.03,
          "A_nodul": 0.02,
          "A_octon": 0.04,
          "ActinSpp": 0.175,
          "Age": 3.13,
          "CoscinSpp": 0.08,
          "CyclotSpp": 0.125,
          "Depth": 2.05,
          "Rop_tess": 0.04,
          "StephanSpp": 0.005
         },
         {
          "A_curv": 0.054187192118226604,
          "A_nodul": 0.014778325123152709,
          "A_octon": 0.019704433497536946,
          "ActinSpp": 0.13793103448275862,
          "Age": 3.17,
          "CoscinSpp": 0.09359605911330049,
          "CyclotSpp": 0.1330049261083744,
          "Depth": 2.1,
          "Rop_tess": 0.03940886699507389,
          "StephanSpp": 0
         },
         {
          "A_curv": 0.02181818181818182,
          "A_nodul": 0.014545454545454545,
          "A_octon": 0.01090909090909091,
          "ActinSpp": 0.13454545454545455,
          "Age": 3.22,
          "CoscinSpp": 0.04363636363636364,
          "CyclotSpp": 0.12727272727272726,
          "Depth": 2.15,
          "Rop_tess": 0.007272727272727273,
          "StephanSpp": 0
         },
         {
          "A_curv": 0.034653465346534656,
          "A_nodul": 0.06435643564356436,
          "A_octon": 0.024752475247524754,
          "ActinSpp": 0.18316831683168316,
          "Age": 3.26,
          "CoscinSpp": 0.0891089108910891,
          "CyclotSpp": 0.07920792079207921,
          "Depth": 2.2,
          "Rop_tess": 0.009900990099009901,
          "StephanSpp": 0
         },
         {
          "A_curv": 0.035,
          "A_nodul": 0.02,
          "A_octon": 0.03,
          "ActinSpp": 0.18,
          "Age": 3.3,
          "CoscinSpp": 0.1,
          "CyclotSpp": 0.11,
          "Depth": 2.25,
          "Rop_tess": 0.03,
          "StephanSpp": 0.005
         },
         {
          "A_curv": 0.024875621890547265,
          "A_nodul": 0.03482587064676617,
          "A_octon": 0.029850746268656716,
          "ActinSpp": 0.15920398009950248,
          "Age": 3.35,
          "CoscinSpp": 0.10945273631840796,
          "CyclotSpp": 0.0945273631840796,
          "Depth": 2.3,
          "Rop_tess": 0.029850746268656716,
          "StephanSpp": 0
         },
         {
          "A_curv": 0.02666666666666667,
          "A_nodul": 0.01,
          "A_octon": 0.04666666666666667,
          "ActinSpp": 0.09666666666666666,
          "Age": 3.39,
          "CoscinSpp": 0.04,
          "CyclotSpp": 0.10333333333333333,
          "Depth": 2.35,
          "Rop_tess": 0.01,
          "StephanSpp": 0
         },
         {
          "A_curv": 0.045,
          "A_nodul": 0.01,
          "A_octon": 0.03,
          "ActinSpp": 0.175,
          "Age": 3.44,
          "CoscinSpp": 0.095,
          "CyclotSpp": 0.13,
          "Depth": 2.4,
          "Rop_tess": 0.025,
          "StephanSpp": 0
         },
         {
          "A_curv": 0.045,
          "A_nodul": 0.015,
          "A_octon": 0.04,
          "ActinSpp": 0.17,
          "Age": 3.48,
          "CoscinSpp": 0.11,
          "CyclotSpp": 0.12,
          "Depth": 2.45,
          "Rop_tess": 0.01,
          "StephanSpp": 0.005
         },
         {
          "A_curv": 0.03482587064676617,
          "A_nodul": 0.01990049751243781,
          "A_octon": 0.01990049751243781,
          "ActinSpp": 0.1791044776119403,
          "Age": 3.52,
          "CoscinSpp": 0.09950248756218906,
          "CyclotSpp": 0.12437810945273632,
          "Depth": 2.5,
          "Rop_tess": 0.004975124378109453,
          "StephanSpp": 0.009950248756218905
         },
         {
          "A_curv": 0.04455445544554455,
          "A_nodul": 0.024752475247524754,
          "A_octon": 0.0297029702970297,
          "ActinSpp": 0.1782178217821782,
          "Age": 3.57,
          "CoscinSpp": 0.1188118811881188,
          "CyclotSpp": 0.06930693069306931,
          "Depth": 2.55,
          "Rop_tess": 0.0297029702970297,
          "StephanSpp": 0
         },
         {
          "A_curv": 0.03,
          "A_nodul": 0.015,
          "A_octon": 0.015,
          "ActinSpp": 0.22,
          "Age": 3.6,
          "CoscinSpp": 0.11,
          "CyclotSpp": 0.09,
          "Depth": 2.59,
          "Rop_tess": 0.03,
          "StephanSpp": 0
         },
         {
          "A_curv": 0.03,
          "A_nodul": 0.035,
          "A_octon": 0.02,
          "ActinSpp": 0.155,
          "Age": 3.65,
          "CoscinSpp": 0.095,
          "CyclotSpp": 0.155,
          "Depth": 2.65,
          "Rop_tess": 0.02,
          "StephanSpp": 0.005
         },
         {
          "A_curv": 0.04245283018867924,
          "A_nodul": 0.02358490566037736,
          "A_octon": 0.0330188679245283,
          "ActinSpp": 0.14150943396226415,
          "Age": 3.7,
          "CoscinSpp": 0.08018867924528301,
          "CyclotSpp": 0.09905660377358491,
          "Depth": 2.7,
          "Rop_tess": 0.04716981132075472,
          "StephanSpp": 0
         },
         {
          "A_curv": 0.035,
          "A_nodul": 0.025,
          "A_octon": 0.02,
          "ActinSpp": 0.15,
          "Age": 3.74,
          "CoscinSpp": 0.085,
          "CyclotSpp": 0.165,
          "Depth": 2.75,
          "Rop_tess": 0.03,
          "StephanSpp": 0
         },
         {
          "A_curv": 0.03515625,
          "A_nodul": 0.01953125,
          "A_octon": 0.015625,
          "ActinSpp": 0.1171875,
          "Age": 3.79,
          "CoscinSpp": 0.05078125,
          "CyclotSpp": 0.1328125,
          "Depth": 2.8,
          "Rop_tess": 0.015625,
          "StephanSpp": 0
         },
         {
          "A_curv": 0.016,
          "A_nodul": 0.024,
          "A_octon": 0.032,
          "ActinSpp": 0.16,
          "Age": 3.83,
          "CoscinSpp": 0.06,
          "CyclotSpp": 0.088,
          "Depth": 2.85,
          "Rop_tess": 0.016,
          "StephanSpp": 0
         },
         {
          "A_curv": 0.048,
          "A_nodul": 0.012,
          "A_octon": 0.016,
          "ActinSpp": 0.156,
          "Age": 3.87,
          "CoscinSpp": 0.072,
          "CyclotSpp": 0.08,
          "Depth": 2.9,
          "Rop_tess": 0.012,
          "StephanSpp": 0
         },
         {
          "A_curv": 0.015151515151515152,
          "A_nodul": 0.01893939393939394,
          "A_octon": 0.026515151515151516,
          "ActinSpp": 0.13257575757575757,
          "Age": 3.92,
          "CoscinSpp": 0.056818181818181816,
          "CyclotSpp": 0.12121212121212122,
          "Depth": 2.95,
          "Rop_tess": 0.007575757575757576,
          "StephanSpp": 0
         },
         {
          "A_curv": 0.014005602240896359,
          "A_nodul": 0.0056022408963585435,
          "A_octon": 0.025210084033613446,
          "ActinSpp": 0.08403361344537816,
          "Age": 3.96,
          "CoscinSpp": 0.03361344537815126,
          "CyclotSpp": 0.1092436974789916,
          "Depth": 3,
          "Rop_tess": 0.008403361344537815,
          "StephanSpp": 0
         },
         {
          "A_curv": 0.03,
          "A_nodul": 0.01,
          "A_octon": 0.015,
          "ActinSpp": 0.065,
          "Age": 3.96,
          "CoscinSpp": 0.05,
          "CyclotSpp": 0.165,
          "Depth": 3,
          "Rop_tess": 0.165,
          "StephanSpp": 0.005
         },
         {
          "A_curv": 0.024822695035460994,
          "A_nodul": 0.02127659574468085,
          "A_octon": 0.014184397163120567,
          "ActinSpp": 0.09219858156028368,
          "Age": 4.01,
          "CoscinSpp": 0.05673758865248227,
          "CyclotSpp": 0.12056737588652482,
          "Depth": 3.05,
          "Rop_tess": 0.024822695035460994,
          "StephanSpp": 0
         },
         {
          "A_curv": 0.024,
          "A_nodul": 0.012,
          "A_octon": 0.008,
          "ActinSpp": 0.12,
          "Age": 4.05,
          "CoscinSpp": 0.096,
          "CyclotSpp": 0.104,
          "Depth": 3.1,
          "Rop_tess": 0.04,
          "StephanSpp": 0
         },
         {
          "A_curv": 0.02040816326530612,
          "A_nodul": 0.02857142857142857,
          "A_octon": 0.012244897959183673,
          "ActinSpp": 0.07755102040816327,
          "Age": 4.14,
          "CoscinSpp": 0.053061224489795916,
          "CyclotSpp": 0.10612244897959183,
          "Depth": 3.2,
          "Rop_tess": 0.11020408163265306,
          "StephanSpp": 0
         },
         {
          "A_curv": 0.01932367149758454,
          "A_nodul": 0.057971014492753624,
          "A_octon": 0.00966183574879227,
          "ActinSpp": 0.15942028985507245,
          "Age": 4.18,
          "CoscinSpp": 0.057971014492753624,
          "CyclotSpp": 0.08695652173913043,
          "Depth": 3.25,
          "Rop_tess": 0.08695652173913043,
          "StephanSpp": 0
         },
         {
          "A_curv": 0.023696682464454975,
          "A_nodul": 0.052132701421800945,
          "A_octon": 0.014218009478672985,
          "ActinSpp": 0.12796208530805686,
          "Age": 4.22,
          "CoscinSpp": 0.10426540284360189,
          "CyclotSpp": 0.0995260663507109,
          "Depth": 3.3,
          "Rop_tess": 0.052132701421800945,
          "StephanSpp": 0
         },
         {
          "A_curv": 0.009950248756218905,
          "A_nodul": 0.11442786069651742,
          "A_octon": 0.009950248756218905,
          "ActinSpp": 0.11442786069651742,
          "Age": 4.27,
          "CoscinSpp": 0.06965174129353234,
          "CyclotSpp": 0.08955223880597014,
          "Depth": 3.35,
          "Rop_tess": 0.07960199004975124,
          "StephanSpp": 0
         },
         {
          "A_curv": 0.02,
          "A_nodul": 0.11,
          "A_octon": 0.025,
          "ActinSpp": 0.16,
          "Age": 4.31,
          "CoscinSpp": 0.055,
          "CyclotSpp": 0.125,
          "Depth": 3.4,
          "Rop_tess": 0.015,
          "StephanSpp": 0
         },
         {
          "A_curv": 0.015,
          "A_nodul": 0.02,
          "A_octon": 0.005,
          "ActinSpp": 0.07,
          "Age": 4.36,
          "CoscinSpp": 0.015,
          "CyclotSpp": 0.085,
          "Depth": 3.45,
          "Rop_tess": 0.3,
          "StephanSpp": 0
         },
         {
          "A_curv": 0.01532567049808429,
          "A_nodul": 0.019157088122605363,
          "A_octon": 0.007662835249042145,
          "ActinSpp": 0.13026819923371646,
          "Age": 4.4,
          "CoscinSpp": 0.05747126436781609,
          "CyclotSpp": 0.11877394636015326,
          "Depth": 3.5,
          "Rop_tess": 0.03065134099616858,
          "StephanSpp": 0
         },
         {
          "A_curv": 0.01,
          "A_nodul": 0.03,
          "A_octon": 0.01,
          "ActinSpp": 0.07,
          "Age": 4.44,
          "CoscinSpp": 0.035,
          "CyclotSpp": 0.115,
          "Depth": 3.55,
          "Rop_tess": 0.24,
          "StephanSpp": 0
         },
         {
          "A_curv": 0.017391304347826087,
          "A_nodul": 0.14347826086956522,
          "A_octon": 0.021739130434782608,
          "ActinSpp": 0.09565217391304348,
          "Age": 4.49,
          "CoscinSpp": 0.0391304347826087,
          "CyclotSpp": 0.06956521739130435,
          "Depth": 3.6,
          "Rop_tess": 0.04782608695652174,
          "StephanSpp": 0
         },
         {
          "A_curv": 0.0375,
          "A_nodul": 0.025,
          "A_octon": 0.0125,
          "ActinSpp": 0.17083333333333334,
          "Age": 4.53,
          "CoscinSpp": 0.05416666666666667,
          "CyclotSpp": 0.075,
          "Depth": 3.65,
          "Rop_tess": 0.041666666666666664,
          "StephanSpp": 0
         },
         {
          "A_curv": 0.017777777777777778,
          "A_nodul": 0.057777777777777775,
          "A_octon": 0.008888888888888889,
          "ActinSpp": 0.16444444444444445,
          "Age": 4.58,
          "CoscinSpp": 0.08,
          "CyclotSpp": 0.06666666666666667,
          "Depth": 3.7,
          "Rop_tess": 0.04,
          "StephanSpp": 0
         },
         {
          "A_curv": 0.02857142857142857,
          "A_nodul": 0.009523809523809525,
          "A_octon": 0.022222222222222223,
          "ActinSpp": 0.1523809523809524,
          "Age": 4.62,
          "CoscinSpp": 0.047619047619047616,
          "CyclotSpp": 0.05714285714285714,
          "Depth": 3.75,
          "Rop_tess": 0.0031746031746031746,
          "StephanSpp": 0
         },
         {
          "A_curv": 0.0196078431372549,
          "A_nodul": 0.04411764705882353,
          "A_octon": 0.00980392156862745,
          "ActinSpp": 0.19117647058823528,
          "Age": 5.5,
          "CoscinSpp": 0.11764705882352941,
          "CyclotSpp": 0.06862745098039216,
          "Depth": 4.75,
          "Rop_tess": 0.014705882352941176,
          "StephanSpp": 0.014705882352941176
         },
         {
          "A_curv": 0.0297029702970297,
          "A_nodul": 0.09405940594059406,
          "A_octon": 0.019801980198019802,
          "ActinSpp": 0.15346534653465346,
          "Age": 5.54,
          "CoscinSpp": 0.08415841584158416,
          "CyclotSpp": 0.07425742574257425,
          "Depth": 4.8,
          "Rop_tess": 0.0297029702970297,
          "StephanSpp": 0.0049504950495049506
         },
         {
          "A_curv": 0.024271844660194174,
          "A_nodul": 0.05339805825242718,
          "A_octon": 0.014563106796116505,
          "ActinSpp": 0.2087378640776699,
          "Age": 5.58,
          "CoscinSpp": 0.05825242718446602,
          "CyclotSpp": 0.0825242718446602,
          "Depth": 4.85,
          "Rop_tess": 0.038834951456310676,
          "StephanSpp": 0
         },
         {
          "A_curv": 0.03,
          "A_nodul": 0.01,
          "A_octon": 0.02,
          "ActinSpp": 0.16,
          "Age": 5.63,
          "CoscinSpp": 0.095,
          "CyclotSpp": 0.075,
          "Depth": 4.9,
          "Rop_tess": 0.11,
          "StephanSpp": 0.005
         },
         {
          "A_curv": 0.035,
          "A_nodul": 0.02,
          "A_octon": 0.035,
          "ActinSpp": 0.12,
          "Age": 5.67,
          "CoscinSpp": 0.09,
          "CyclotSpp": 0.13,
          "Depth": 4.95,
          "Rop_tess": 0.08,
          "StephanSpp": 0
         },
         {
          "A_curv": 0.034653465346534656,
          "A_nodul": 0.0049504950495049506,
          "A_octon": 0.019801980198019802,
          "ActinSpp": 0.11386138613861387,
          "Age": 5.72,
          "CoscinSpp": 0.08415841584158416,
          "CyclotSpp": 0.10891089108910891,
          "Depth": 5,
          "Rop_tess": 0.13366336633663367,
          "StephanSpp": 0
         },
         {
          "A_curv": 0.03755868544600939,
          "A_nodul": 0,
          "A_octon": 0.009389671361502348,
          "ActinSpp": 0.07042253521126761,
          "Age": 5.76,
          "CoscinSpp": 0.046948356807511735,
          "CyclotSpp": 0.13615023474178403,
          "Depth": 5.05,
          "Rop_tess": 0.1643192488262911,
          "StephanSpp": 0
         },
         {
          "A_curv": 0.024630541871921183,
          "A_nodul": 0.0049261083743842365,
          "A_octon": 0.019704433497536946,
          "ActinSpp": 0.12807881773399016,
          "Age": 5.8,
          "CoscinSpp": 0.059113300492610835,
          "CyclotSpp": 0.11330049261083744,
          "Depth": 5.1,
          "Rop_tess": 0.14285714285714285,
          "StephanSpp": 0
         },
         {
          "A_curv": 0.035,
          "A_nodul": 0.015,
          "A_octon": 0.015,
          "ActinSpp": 0.135,
          "Age": 5.85,
          "CoscinSpp": 0.08,
          "CyclotSpp": 0.04,
          "Depth": 5.15,
          "Rop_tess": 0.19,
          "StephanSpp": 0
         },
         {
          "A_curv": 0.029850746268656716,
          "A_nodul": 0.05472636815920398,
          "A_octon": 0.024875621890547265,
          "ActinSpp": 0.1044776119402985,
          "Age": 5.89,
          "CoscinSpp": 0.1044776119402985,
          "CyclotSpp": 0.0845771144278607,
          "Depth": 5.2,
          "Rop_tess": 0.08955223880597014,
          "StephanSpp": 0
         },
         {
          "A_curv": 0.035,
          "A_nodul": 0.015,
          "A_octon": 0.01,
          "ActinSpp": 0.24,
          "Age": 5.94,
          "CoscinSpp": 0.07,
          "CyclotSpp": 0.05,
          "Depth": 5.25,
          "Rop_tess": 0.09,
          "StephanSpp": 0
         },
         {
          "A_curv": 0.025,
          "A_nodul": 0.005,
          "A_octon": 0,
          "ActinSpp": 0.02,
          "Age": 5.98,
          "CoscinSpp": 0.01,
          "CyclotSpp": 0.065,
          "Depth": 5.3,
          "Rop_tess": 0.38,
          "StephanSpp": 0.005
         },
         {
          "A_curv": 0.025,
          "A_nodul": 0.065,
          "A_octon": 0.03,
          "ActinSpp": 0.09,
          "Age": 6.02,
          "CoscinSpp": 0.075,
          "CyclotSpp": 0.16,
          "Depth": 5.35,
          "Rop_tess": 0.07,
          "StephanSpp": 0
         },
         {
          "A_curv": 0.009950248756218905,
          "A_nodul": 0.009950248756218905,
          "A_octon": 0.01990049751243781,
          "ActinSpp": 0.07960199004975124,
          "Age": 6.07,
          "CoscinSpp": 0.05970149253731343,
          "CyclotSpp": 0.06467661691542288,
          "Depth": 5.4,
          "Rop_tess": 0.24378109452736318,
          "StephanSpp": 0
         },
         {
          "A_curv": 0.039473684210526314,
          "A_nodul": 0.017543859649122806,
          "A_octon": 0.008771929824561403,
          "ActinSpp": 0.15789473684210525,
          "Age": 6.11,
          "CoscinSpp": 0.10964912280701754,
          "CyclotSpp": 0.06578947368421052,
          "Depth": 5.45,
          "Rop_tess": 0.03508771929824561,
          "StephanSpp": 0.008771929824561403
         },
         {
          "A_curv": 0.020161290322580645,
          "A_nodul": 0.06854838709677419,
          "A_octon": 0.04435483870967742,
          "ActinSpp": 0.05241935483870968,
          "Age": 6.15,
          "CoscinSpp": 0.04838709677419355,
          "CyclotSpp": 0.056451612903225805,
          "Depth": 5.5,
          "Rop_tess": 0.11290322580645161,
          "StephanSpp": 0
         },
         {
          "A_curv": 0.024193548387096774,
          "A_nodul": 0.10483870967741936,
          "A_octon": 0.04032258064516129,
          "ActinSpp": 0.06048387096774194,
          "Age": 6.2,
          "CoscinSpp": 0.036290322580645164,
          "CyclotSpp": 0.04435483870967742,
          "Depth": 5.55,
          "Rop_tess": 0.09274193548387097,
          "StephanSpp": 0
         },
         {
          "A_curv": 0.04128440366972477,
          "A_nodul": 0,
          "A_octon": 0.05963302752293578,
          "ActinSpp": 0.0779816513761468,
          "Age": 6.24,
          "CoscinSpp": 0.10091743119266056,
          "CyclotSpp": 0.06422018348623854,
          "Depth": 5.6,
          "Rop_tess": 0.11467889908256881,
          "StephanSpp": 0
         },
         {
          "A_curv": 0.03686635944700461,
          "A_nodul": 0,
          "A_octon": 0.027649769585253458,
          "ActinSpp": 0.08755760368663594,
          "Age": 6.29,
          "CoscinSpp": 0.06912442396313365,
          "CyclotSpp": 0.09216589861751152,
          "Depth": 5.65,
          "Rop_tess": 0.14746543778801843,
          "StephanSpp": 0
         },
         {
          "A_curv": 0.012096774193548387,
          "A_nodul": 0,
          "A_octon": 0.016129032258064516,
          "ActinSpp": 0.04435483870967742,
          "Age": 6.33,
          "CoscinSpp": 0.04032258064516129,
          "CyclotSpp": 0.03225806451612903,
          "Depth": 5.7,
          "Rop_tess": 0.2540322580645161,
          "StephanSpp": 0
         },
         {
          "A_curv": 0.03619909502262444,
          "A_nodul": 0.00904977375565611,
          "A_octon": 0.04524886877828054,
          "ActinSpp": 0.08144796380090498,
          "Age": 6.37,
          "CoscinSpp": 0.08597285067873303,
          "CyclotSpp": 0.058823529411764705,
          "Depth": 5.75,
          "Rop_tess": 0.13574660633484162,
          "StephanSpp": 0
         },
         {
          "A_curv": 0.06,
          "A_nodul": 0.005,
          "A_octon": 0.02,
          "ActinSpp": 0.075,
          "Age": 6.42,
          "CoscinSpp": 0.085,
          "CyclotSpp": 0.09,
          "Depth": 5.8,
          "Rop_tess": 0.17,
          "StephanSpp": 0
         },
         {
          "A_curv": 0.075,
          "A_nodul": 0.005,
          "A_octon": 0.015,
          "ActinSpp": 0.14,
          "Age": 6.46,
          "CoscinSpp": 0.09,
          "CyclotSpp": 0.05,
          "Depth": 5.85,
          "Rop_tess": 0.135,
          "StephanSpp": 0
         },
         {
          "A_curv": 0.024752475247524754,
          "A_nodul": 0,
          "A_octon": 0.0297029702970297,
          "ActinSpp": 0.054455445544554455,
          "Age": 6.51,
          "CoscinSpp": 0.07920792079207921,
          "CyclotSpp": 0.10396039603960396,
          "Depth": 5.9,
          "Rop_tess": 0.20297029702970298,
          "StephanSpp": 0
         },
         {
          "A_curv": 0.054187192118226604,
          "A_nodul": 0,
          "A_octon": 0.014778325123152709,
          "ActinSpp": 0.12807881773399016,
          "Age": 6.55,
          "CoscinSpp": 0.12315270935960591,
          "CyclotSpp": 0.06896551724137931,
          "Depth": 5.95,
          "Rop_tess": 0.10344827586206896,
          "StephanSpp": 0
         },
         {
          "A_curv": 0.05,
          "A_nodul": 0,
          "A_octon": 0.01,
          "ActinSpp": 0.185,
          "Age": 6.59,
          "CoscinSpp": 0.06,
          "CyclotSpp": 0.105,
          "Depth": 6,
          "Rop_tess": 0.09,
          "StephanSpp": 0.005
         },
         {
          "A_curv": 0.013513513513513514,
          "A_nodul": 0.009009009009009009,
          "A_octon": 0.009009009009009009,
          "ActinSpp": 0.11711711711711711,
          "Age": 6.64,
          "CoscinSpp": 0.14414414414414414,
          "CyclotSpp": 0.05405405405405406,
          "Depth": 6.05,
          "Rop_tess": 0.0945945945945946,
          "StephanSpp": 0.009009009009009009
         },
         {
          "A_curv": 0.023809523809523808,
          "A_nodul": 0.004761904761904762,
          "A_octon": 0.02857142857142857,
          "ActinSpp": 0.19523809523809524,
          "Age": 6.68,
          "CoscinSpp": 0.12380952380952381,
          "CyclotSpp": 0.09047619047619047,
          "Depth": 6.1,
          "Rop_tess": 0.009523809523809525,
          "StephanSpp": 0
         },
         {
          "A_curv": 0.017777777777777778,
          "A_nodul": 0.0044444444444444444,
          "A_octon": 0.008888888888888889,
          "ActinSpp": 0.16,
          "Age": 6.72,
          "CoscinSpp": 0.07111111111111111,
          "CyclotSpp": 0.04,
          "Depth": 6.15,
          "Rop_tess": 0.14222222222222222,
          "StephanSpp": 0
         },
         {
          "A_curv": 0.03404255319148936,
          "A_nodul": 0,
          "A_octon": 0.01276595744680851,
          "ActinSpp": 0.2,
          "Age": 6.77,
          "CoscinSpp": 0.0851063829787234,
          "CyclotSpp": 0.04680851063829787,
          "Depth": 6.2,
          "Rop_tess": 0.04680851063829787,
          "StephanSpp": 0
         },
         {
          "A_curv": 0.017316017316017316,
          "A_nodul": 0,
          "A_octon": 0.012987012987012988,
          "ActinSpp": 0.11688311688311688,
          "Age": 6.81,
          "CoscinSpp": 0.10822510822510822,
          "CyclotSpp": 0.04329004329004329,
          "Depth": 6.25,
          "Rop_tess": 0.1341991341991342,
          "StephanSpp": 0
         },
         {
          "A_curv": 0.034653465346534656,
          "A_nodul": 0,
          "A_octon": 0.0297029702970297,
          "ActinSpp": 0.06930693069306931,
          "Age": 6.86,
          "CoscinSpp": 0.04950495049504951,
          "CyclotSpp": 0.09405940594059406,
          "Depth": 6.3,
          "Rop_tess": 0.21782178217821782,
          "StephanSpp": 0
         },
         {
          "A_curv": 0.01951219512195122,
          "A_nodul": 0,
          "A_octon": 0.004878048780487805,
          "ActinSpp": 0.22926829268292684,
          "Age": 6.9,
          "CoscinSpp": 0.14634146341463414,
          "CyclotSpp": 0.07317073170731707,
          "Depth": 6.35,
          "Rop_tess": 0.014634146341463415,
          "StephanSpp": 0
         },
         {
          "A_curv": 0.01,
          "A_nodul": 0,
          "A_octon": 0,
          "ActinSpp": 0.02,
          "Age": 6.94,
          "CoscinSpp": 0.02,
          "CyclotSpp": 0.025,
          "Depth": 6.4,
          "Rop_tess": 0.435,
          "StephanSpp": 0
         },
         {
          "A_curv": 0.035398230088495575,
          "A_nodul": 0.004424778761061947,
          "A_octon": 0.008849557522123894,
          "ActinSpp": 0.19469026548672566,
          "Age": 6.99,
          "CoscinSpp": 0.10176991150442478,
          "CyclotSpp": 0.061946902654867256,
          "Depth": 6.45,
          "Rop_tess": 0.02654867256637168,
          "StephanSpp": 0.008849557522123894
         },
         {
          "A_curv": 0.02,
          "A_nodul": 0.055,
          "A_octon": 0.015,
          "ActinSpp": 0.105,
          "Age": 7.03,
          "CoscinSpp": 0.075,
          "CyclotSpp": 0.06,
          "Depth": 6.5,
          "Rop_tess": 0.175,
          "StephanSpp": 0.005
         },
         {
          "A_curv": 0.011904761904761904,
          "A_nodul": 0.031746031746031744,
          "A_octon": 0.011904761904761904,
          "ActinSpp": 0.17063492063492064,
          "Age": 7.08,
          "CoscinSpp": 0.1111111111111111,
          "CyclotSpp": 0.03571428571428571,
          "Depth": 6.55,
          "Rop_tess": 0.023809523809523808,
          "StephanSpp": 0.003968253968253968
         },
         {
          "A_curv": 0.013452914798206279,
          "A_nodul": 0.004484304932735426,
          "A_octon": 0.008968609865470852,
          "ActinSpp": 0.17937219730941703,
          "Age": 7.12,
          "CoscinSpp": 0.08071748878923767,
          "CyclotSpp": 0.13004484304932734,
          "Depth": 6.6,
          "Rop_tess": 0.03139013452914798,
          "StephanSpp": 0
         },
         {
          "A_curv": 0.02145922746781116,
          "A_nodul": 0.004291845493562232,
          "A_octon": 0.02145922746781116,
          "ActinSpp": 0.11158798283261803,
          "Age": 7.16,
          "CoscinSpp": 0.11587982832618025,
          "CyclotSpp": 0.09012875536480687,
          "Depth": 6.65,
          "Rop_tess": 0.06437768240343347,
          "StephanSpp": 0
         },
         {
          "A_curv": 0.01327433628318584,
          "A_nodul": 0,
          "A_octon": 0.017699115044247787,
          "ActinSpp": 0.1415929203539823,
          "Age": 7.21,
          "CoscinSpp": 0.10619469026548672,
          "CyclotSpp": 0.09292035398230089,
          "Depth": 6.7,
          "Rop_tess": 0.061946902654867256,
          "StephanSpp": 0
         },
         {
          "A_curv": 0.04128440366972477,
          "A_nodul": 0,
          "A_octon": 0.03211009174311927,
          "ActinSpp": 0.10550458715596331,
          "Age": 7.25,
          "CoscinSpp": 0.10550458715596331,
          "CyclotSpp": 0.07339449541284404,
          "Depth": 6.75,
          "Rop_tess": 0.0963302752293578,
          "StephanSpp": 0.0045871559633027525
         },
         {
          "A_curv": 0.00816326530612245,
          "A_nodul": 0,
          "A_octon": 0.02040816326530612,
          "ActinSpp": 0.0653061224489796,
          "Age": 7.29,
          "CoscinSpp": 0.02857142857142857,
          "CyclotSpp": 0.04897959183673469,
          "Depth": 6.8,
          "Rop_tess": 0.23673469387755103,
          "StephanSpp": 0
         },
         {
          "A_curv": 0.008547008547008548,
          "A_nodul": 0,
          "A_octon": 0.017094017094017096,
          "ActinSpp": 0.07692307692307693,
          "Age": 7.34,
          "CoscinSpp": 0.06837606837606838,
          "CyclotSpp": 0.029914529914529916,
          "Depth": 6.85,
          "Rop_tess": 0.2264957264957265,
          "StephanSpp": 0
         },
         {
          "A_curv": 0.04,
          "A_nodul": 0,
          "A_octon": 0.025,
          "ActinSpp": 0.08,
          "Age": 7.38,
          "CoscinSpp": 0.145,
          "CyclotSpp": 0.02,
          "Depth": 6.9,
          "Rop_tess": 0.19,
          "StephanSpp": 0.005
         },
         {
          "A_curv": 0.05,
          "A_nodul": 0.005,
          "A_octon": 0.025,
          "ActinSpp": 0.135,
          "Age": 7.43,
          "CoscinSpp": 0.16,
          "CyclotSpp": 0.04,
          "Depth": 6.95,
          "Rop_tess": 0.09,
          "StephanSpp": 0
         },
         {
          "A_curv": 0.014634146341463415,
          "A_nodul": 0.004878048780487805,
          "A_octon": 0.01951219512195122,
          "ActinSpp": 0.08780487804878048,
          "Age": 7.47,
          "CoscinSpp": 0.1073170731707317,
          "CyclotSpp": 0.01951219512195122,
          "Depth": 7,
          "Rop_tess": 0.22926829268292684,
          "StephanSpp": 0.004878048780487805
         },
         {
          "A_curv": 0.028455284552845527,
          "A_nodul": 0,
          "A_octon": 0.016260162601626018,
          "ActinSpp": 0.17073170731707318,
          "Age": 7.51,
          "CoscinSpp": 0.08943089430894309,
          "CyclotSpp": 0.06097560975609756,
          "Depth": 7.05,
          "Rop_tess": 0.04065040650406504,
          "StephanSpp": 0
         },
         {
          "A_curv": 0.029166666666666667,
          "A_nodul": 0,
          "A_octon": 0.0125,
          "ActinSpp": 0.14166666666666666,
          "Age": 7.56,
          "CoscinSpp": 0.1,
          "CyclotSpp": 0.058333333333333334,
          "Depth": 7.1,
          "Rop_tess": 0.075,
          "StephanSpp": 0
         },
         {
          "A_curv": 0.04975124378109453,
          "A_nodul": 0,
          "A_octon": 0.01990049751243781,
          "ActinSpp": 0.08955223880597014,
          "Age": 7.6,
          "CoscinSpp": 0.0845771144278607,
          "CyclotSpp": 0.03482587064676617,
          "Depth": 7.15,
          "Rop_tess": 0.18407960199004975,
          "StephanSpp": 0.024875621890547265
         },
         {
          "A_curv": 0.01937984496124031,
          "A_nodul": 0,
          "A_octon": 0.027131782945736434,
          "ActinSpp": 0.12403100775193798,
          "Age": 7.65,
          "CoscinSpp": 0.08139534883720931,
          "CyclotSpp": 0.05426356589147287,
          "Depth": 7.2,
          "Rop_tess": 0.08139534883720931,
          "StephanSpp": 0
         },
         {
          "A_curv": 0.015,
          "A_nodul": 0,
          "A_octon": 0.025,
          "ActinSpp": 0.215,
          "Age": 7.69,
          "CoscinSpp": 0.12,
          "CyclotSpp": 0.055,
          "Depth": 7.25,
          "Rop_tess": 0.075,
          "StephanSpp": 0
         },
         {
          "A_curv": 0.0075,
          "A_nodul": 0,
          "A_octon": 0.005,
          "ActinSpp": 0.03,
          "Age": 7.73,
          "CoscinSpp": 0.02,
          "CyclotSpp": 0.01,
          "Depth": 7.3,
          "Rop_tess": 0.1775,
          "StephanSpp": 0
         },
         {
          "A_curv": 0.013392857142857142,
          "A_nodul": 0,
          "A_octon": 0.017857142857142856,
          "ActinSpp": 0.14732142857142858,
          "Age": 7.78,
          "CoscinSpp": 0.12946428571428573,
          "CyclotSpp": 0.07142857142857142,
          "Depth": 7.35,
          "Rop_tess": 0.06696428571428571,
          "StephanSpp": 0.004464285714285714
         },
         {
          "A_curv": 0.04,
          "A_nodul": 0.005,
          "A_octon": 0.015,
          "ActinSpp": 0.165,
          "Age": 7.82,
          "CoscinSpp": 0.115,
          "CyclotSpp": 0.08,
          "Depth": 7.4,
          "Rop_tess": 0.085,
          "StephanSpp": 0.005
         },
         {
          "A_curv": 0.0049504950495049506,
          "A_nodul": 0,
          "A_octon": 0.034653465346534656,
          "ActinSpp": 0.0891089108910891,
          "Age": 7.87,
          "CoscinSpp": 0.04950495049504951,
          "CyclotSpp": 0.06930693069306931,
          "Depth": 7.45,
          "Rop_tess": 0.24752475247524752,
          "StephanSpp": 0
         },
         {
          "A_curv": 0.019801980198019802,
          "A_nodul": 0.009900990099009901,
          "A_octon": 0.009900990099009901,
          "ActinSpp": 0.14356435643564355,
          "Age": 7.91,
          "CoscinSpp": 0.08415841584158416,
          "CyclotSpp": 0.04455445544554455,
          "Depth": 7.5,
          "Rop_tess": 0.1782178217821782,
          "StephanSpp": 0
         },
         {
          "A_curv": 0.023696682464454975,
          "A_nodul": 0,
          "A_octon": 0.05687203791469194,
          "ActinSpp": 0.14691943127962084,
          "Age": 7.95,
          "CoscinSpp": 0.12796208530805686,
          "CyclotSpp": 0.07582938388625593,
          "Depth": 7.55,
          "Rop_tess": 0.04265402843601896,
          "StephanSpp": 0
         },
         {
          "A_curv": 0.024630541871921183,
          "A_nodul": 0,
          "A_octon": 0.054187192118226604,
          "ActinSpp": 0.14285714285714285,
          "Age": 8,
          "CoscinSpp": 0.06896551724137931,
          "CyclotSpp": 0.09852216748768473,
          "Depth": 7.6,
          "Rop_tess": 0.10344827586206896,
          "StephanSpp": 0
         },
         {
          "A_curv": 0.019704433497536946,
          "A_nodul": 0,
          "A_octon": 0.0049261083743842365,
          "ActinSpp": 0.04926108374384237,
          "Age": 8.04,
          "CoscinSpp": 0.009852216748768473,
          "CyclotSpp": 0.04433497536945813,
          "Depth": 7.65,
          "Rop_tess": 0.35467980295566504,
          "StephanSpp": 0
         },
         {
          "A_curv": 0.034482758620689655,
          "A_nodul": 0,
          "A_octon": 0.06403940886699508,
          "ActinSpp": 0.12807881773399016,
          "Age": 8.08,
          "CoscinSpp": 0.07881773399014778,
          "CyclotSpp": 0.10837438423645321,
          "Depth": 7.7,
          "Rop_tess": 0.06403940886699508,
          "StephanSpp": 0.014778325123152709
         },
         {
          "A_curv": 0.021367521367521368,
          "A_nodul": 0.004273504273504274,
          "A_octon": 0.02564102564102564,
          "ActinSpp": 0.1452991452991453,
          "Age": 8.13,
          "CoscinSpp": 0.08547008547008547,
          "CyclotSpp": 0.1282051282051282,
          "Depth": 7.75,
          "Rop_tess": 0.017094017094017096,
          "StephanSpp": 0
         },
         {
          "A_curv": 0.024390243902439025,
          "A_nodul": 0.004878048780487805,
          "A_octon": 0.024390243902439025,
          "ActinSpp": 0.08292682926829269,
          "Age": 8.17,
          "CoscinSpp": 0.07317073170731707,
          "CyclotSpp": 0.12195121951219512,
          "Depth": 7.8,
          "Rop_tess": 0.15121951219512195,
          "StephanSpp": 0
         },
         {
          "A_curv": 0.019801980198019802,
          "A_nodul": 0,
          "A_octon": 0.009900990099009901,
          "ActinSpp": 0.13366336633663367,
          "Age": 8.61,
          "CoscinSpp": 0.0891089108910891,
          "CyclotSpp": 0.0049504950495049506,
          "Depth": 8.3,
          "Rop_tess": 0.2376237623762376,
          "StephanSpp": 0
         },
         {
          "A_curv": 0.047619047619047616,
          "A_nodul": 0,
          "A_octon": 0.009523809523809525,
          "ActinSpp": 0.14285714285714285,
          "Age": 8.65,
          "CoscinSpp": 0.19523809523809524,
          "CyclotSpp": 0.047619047619047616,
          "Depth": 8.35,
          "Rop_tess": 0.02857142857142857,
          "StephanSpp": 0
         },
         {
          "A_curv": 0.014634146341463415,
          "A_nodul": 0,
          "A_octon": 0.024390243902439025,
          "ActinSpp": 0.1902439024390244,
          "Age": 8.7,
          "CoscinSpp": 0.12682926829268293,
          "CyclotSpp": 0.014634146341463415,
          "Depth": 8.4,
          "Rop_tess": 0.11219512195121951,
          "StephanSpp": 0
         },
         {
          "A_curv": 0.024875621890547265,
          "A_nodul": 0,
          "A_octon": 0.18407960199004975,
          "ActinSpp": 0.11442786069651742,
          "Age": 8.74,
          "CoscinSpp": 0.12935323383084577,
          "CyclotSpp": 0.004975124378109453,
          "Depth": 8.45,
          "Rop_tess": 0.029850746268656716,
          "StephanSpp": 0
         },
         {
          "A_curv": 0.025,
          "A_nodul": 0,
          "A_octon": 0.01,
          "ActinSpp": 0.135,
          "Age": 8.79,
          "CoscinSpp": 0.11,
          "CyclotSpp": 0.055,
          "Depth": 8.5,
          "Rop_tess": 0.165,
          "StephanSpp": 0.005
         },
         {
          "A_curv": 0.00980392156862745,
          "A_nodul": 0,
          "A_octon": 0.00980392156862745,
          "ActinSpp": 0.24019607843137256,
          "Age": 8.83,
          "CoscinSpp": 0.06862745098039216,
          "CyclotSpp": 0.03431372549019608,
          "Depth": 8.55,
          "Rop_tess": 0.12745098039215685,
          "StephanSpp": 0
         },
         {
          "A_curv": 0.013636363636363636,
          "A_nodul": 0,
          "A_octon": 0.01818181818181818,
          "ActinSpp": 0.22272727272727272,
          "Age": 8.87,
          "CoscinSpp": 0.12727272727272726,
          "CyclotSpp": 0.03636363636363636,
          "Depth": 8.6,
          "Rop_tess": 0.03636363636363636,
          "StephanSpp": 0
         },
         {
          "A_curv": 0.0048543689320388345,
          "A_nodul": 0,
          "A_octon": 0.0048543689320388345,
          "ActinSpp": 0.2087378640776699,
          "Age": 8.92,
          "CoscinSpp": 0.043689320388349516,
          "CyclotSpp": 0.11165048543689321,
          "Depth": 8.65,
          "Rop_tess": 0.11165048543689321,
          "StephanSpp": 0
         },
         {
          "A_curv": 0.03482587064676617,
          "A_nodul": 0,
          "A_octon": 0.014925373134328358,
          "ActinSpp": 0.24378109452736318,
          "Age": 8.96,
          "CoscinSpp": 0.12437810945273632,
          "CyclotSpp": 0.04477611940298507,
          "Depth": 8.7,
          "Rop_tess": 0.024875621890547265,
          "StephanSpp": 0
         },
         {
          "A_curv": 0.04,
          "A_nodul": 0,
          "A_octon": 0.015,
          "ActinSpp": 0.22,
          "Age": 10.1,
          "CoscinSpp": 0.06,
          "CyclotSpp": 0.05,
          "Depth": 9.5,
          "Rop_tess": 0.125,
          "StephanSpp": 0
         },
         {
          "A_curv": 0.025,
          "A_nodul": 0,
          "A_octon": 0.005,
          "ActinSpp": 0.165,
          "Age": 10.18,
          "CoscinSpp": 0.06,
          "CyclotSpp": 0.025,
          "Depth": 9.55,
          "Rop_tess": 0.225,
          "StephanSpp": 0
         },
         {
          "A_curv": 0.04477611940298507,
          "A_nodul": 0.004975124378109453,
          "A_octon": 0.014925373134328358,
          "ActinSpp": 0.263681592039801,
          "Age": 10.27,
          "CoscinSpp": 0.08955223880597014,
          "CyclotSpp": 0.004975124378109453,
          "Depth": 9.6,
          "Rop_tess": 0.04975124378109453,
          "StephanSpp": 0.01990049751243781
         },
         {
          "A_curv": 0.024752475247524754,
          "A_nodul": 0.0049504950495049506,
          "A_octon": 0.0297029702970297,
          "ActinSpp": 0.15841584158415842,
          "Age": 10.35,
          "CoscinSpp": 0.09900990099009901,
          "CyclotSpp": 0.04455445544554455,
          "Depth": 9.65,
          "Rop_tess": 0.12871287128712872,
          "StephanSpp": 0
         },
         {
          "A_curv": 0.054455445544554455,
          "A_nodul": 0,
          "A_octon": 0.009900990099009901,
          "ActinSpp": 0.22772277227722773,
          "Age": 10.43,
          "CoscinSpp": 0.13861386138613863,
          "CyclotSpp": 0.0297029702970297,
          "Depth": 9.7,
          "Rop_tess": 0.024752475247524754,
          "StephanSpp": 0.009900990099009901
         },
         {
          "A_curv": 0.06403940886699508,
          "A_nodul": 0,
          "A_octon": 0.04926108374384237,
          "ActinSpp": 0.14285714285714285,
          "Age": 10.52,
          "CoscinSpp": 0.09852216748768473,
          "CyclotSpp": 0.06896551724137931,
          "Depth": 9.75,
          "Rop_tess": 0.06403940886699508,
          "StephanSpp": 0
         },
         {
          "A_curv": 0.075,
          "A_nodul": 0.005,
          "A_octon": 0.01,
          "ActinSpp": 0.2,
          "Age": 10.6,
          "CoscinSpp": 0.125,
          "CyclotSpp": 0.015,
          "Depth": 9.8,
          "Rop_tess": 0.08,
          "StephanSpp": 0
         },
         {
          "A_curv": 0.06,
          "A_nodul": 0.06,
          "A_octon": 0.01,
          "ActinSpp": 0.25,
          "Age": 10.68,
          "CoscinSpp": 0.105,
          "CyclotSpp": 0.005,
          "Depth": 9.85,
          "Rop_tess": 0.02,
          "StephanSpp": 0
         },
         {
          "A_curv": 0.029850746268656716,
          "A_nodul": 0.07960199004975124,
          "A_octon": 0.004975124378109453,
          "ActinSpp": 0.24875621890547264,
          "Age": 10.77,
          "CoscinSpp": 0.06965174129353234,
          "CyclotSpp": 0.029850746268656716,
          "Depth": 9.9,
          "Rop_tess": 0.029850746268656716,
          "StephanSpp": 0
         },
         {
          "A_curv": 0.034653465346534656,
          "A_nodul": 0.04950495049504951,
          "A_octon": 0.009900990099009901,
          "ActinSpp": 0.22772277227722773,
          "Age": 10.85,
          "CoscinSpp": 0.13366336633663367,
          "CyclotSpp": 0.019801980198019802,
          "Depth": 9.95,
          "Rop_tess": 0.0049504950495049506,
          "StephanSpp": 0.0049504950495049506
         },
         {
          "A_curv": 0.01990049751243781,
          "A_nodul": 0.11442786069651742,
          "A_octon": 0.014925373134328358,
          "ActinSpp": 0.19900497512437812,
          "Age": 10.93,
          "CoscinSpp": 0.13432835820895522,
          "CyclotSpp": 0,
          "Depth": 10,
          "Rop_tess": 0.009950248756218905,
          "StephanSpp": 0
         },
         {
          "A_curv": 0.04433497536945813,
          "A_nodul": 0.08866995073891626,
          "A_octon": 0.0049261083743842365,
          "ActinSpp": 0.2561576354679803,
          "Age": 11.02,
          "CoscinSpp": 0.06403940886699508,
          "CyclotSpp": 0.024630541871921183,
          "Depth": 10.05,
          "Rop_tess": 0.0049261083743842365,
          "StephanSpp": 0
         },
         {
          "A_curv": 0.034482758620689655,
          "A_nodul": 0.054187192118226604,
          "A_octon": 0.0049261083743842365,
          "ActinSpp": 0.16748768472906403,
          "Age": 11.1,
          "CoscinSpp": 0.1625615763546798,
          "CyclotSpp": 0.024630541871921183,
          "Depth": 10.1,
          "Rop_tess": 0.029556650246305417,
          "StephanSpp": 0.0049261083743842365
         },
         {
          "A_curv": 0.054455445544554455,
          "A_nodul": 0.09900990099009901,
          "A_octon": 0,
          "ActinSpp": 0.15346534653465346,
          "Age": 11.18,
          "CoscinSpp": 0.09900990099009901,
          "CyclotSpp": 0.01485148514851485,
          "Depth": 10.15,
          "Rop_tess": 0.06435643564356436,
          "StephanSpp": 0.0049504950495049506
         },
         {
          "A_curv": 0.0196078431372549,
          "A_nodul": 0.058823529411764705,
          "A_octon": 0,
          "ActinSpp": 0.15196078431372548,
          "Age": 11.27,
          "CoscinSpp": 0.14215686274509803,
          "CyclotSpp": 0.04411764705882353,
          "Depth": 10.2,
          "Rop_tess": 0.07352941176470588,
          "StephanSpp": 0
         },
         {
          "A_curv": 0.03902439024390244,
          "A_nodul": 0.08780487804878048,
          "A_octon": 0.00975609756097561,
          "ActinSpp": 0.17560975609756097,
          "Age": 11.35,
          "CoscinSpp": 0.08780487804878048,
          "CyclotSpp": 0.05853658536585366,
          "Depth": 10.25,
          "Rop_tess": 0.02926829268292683,
          "StephanSpp": 0
         },
         {
          "A_curv": 0.024509803921568627,
          "A_nodul": 0.049019607843137254,
          "A_octon": 0.004901960784313725,
          "ActinSpp": 0.13725490196078433,
          "Age": 11.43,
          "CoscinSpp": 0.12745098039215685,
          "CyclotSpp": 0.024509803921568627,
          "Depth": 10.3,
          "Rop_tess": 0.12254901960784313,
          "StephanSpp": 0
         },
         {
          "A_curv": 0.01990049751243781,
          "A_nodul": 0.04975124378109453,
          "A_octon": 0.01990049751243781,
          "ActinSpp": 0.19900497512437812,
          "Age": 11.52,
          "CoscinSpp": 0.12935323383084577,
          "CyclotSpp": 0.03482587064676617,
          "Depth": 10.35,
          "Rop_tess": 0.03980099502487562,
          "StephanSpp": 0
         },
         {
          "A_curv": 0.034482758620689655,
          "A_nodul": 0.024630541871921183,
          "A_octon": 0.009852216748768473,
          "ActinSpp": 0.22660098522167488,
          "Age": 11.6,
          "CoscinSpp": 0.12807881773399016,
          "CyclotSpp": 0.029556650246305417,
          "Depth": 10.4,
          "Rop_tess": 0.034482758620689655,
          "StephanSpp": 0
         },
         {
          "A_curv": 0.009950248756218905,
          "A_nodul": 0.11442786069651742,
          "A_octon": 0.024875621890547265,
          "ActinSpp": 0.18407960199004975,
          "Age": 11.68,
          "CoscinSpp": 0.09950248756218906,
          "CyclotSpp": 0.04477611940298507,
          "Depth": 10.45,
          "Rop_tess": 0.014925373134328358,
          "StephanSpp": 0
         },
         {
          "A_curv": 0,
          "A_nodul": 0.13592233009708737,
          "A_octon": 0.0048543689320388345,
          "ActinSpp": 0.0970873786407767,
          "Age": 11.77,
          "CoscinSpp": 0.1407766990291262,
          "CyclotSpp": 0.0825242718446602,
          "Depth": 10.5,
          "Rop_tess": 0.024271844660194174,
          "StephanSpp": 0
         },
         {
          "A_curv": 0,
          "A_nodul": 0.28846153846153844,
          "A_octon": 0.004807692307692308,
          "ActinSpp": 0.038461538461538464,
          "Age": 11.85,
          "CoscinSpp": 0.10576923076923077,
          "CyclotSpp": 0.038461538461538464,
          "Depth": 10.55,
          "Rop_tess": 0.004807692307692308,
          "StephanSpp": 0
         },
         {
          "A_curv": 0.009615384615384616,
          "A_nodul": 0.1971153846153846,
          "A_octon": 0,
          "ActinSpp": 0.09134615384615384,
          "Age": 11.93,
          "CoscinSpp": 0.1201923076923077,
          "CyclotSpp": 0.052884615384615384,
          "Depth": 10.6,
          "Rop_tess": 0,
          "StephanSpp": 0
         },
         {
          "A_curv": 0.0049504950495049506,
          "A_nodul": 0.30198019801980197,
          "A_octon": 0.0049504950495049506,
          "ActinSpp": 0.06930693069306931,
          "Age": 12.02,
          "CoscinSpp": 0.054455445544554455,
          "CyclotSpp": 0.054455445544554455,
          "Depth": 10.65,
          "Rop_tess": 0,
          "StephanSpp": 0
         },
         {
          "A_curv": 0.0049261083743842365,
          "A_nodul": 0.3054187192118227,
          "A_octon": 0.009852216748768473,
          "ActinSpp": 0.04926108374384237,
          "Age": 12.1,
          "CoscinSpp": 0.06896551724137931,
          "CyclotSpp": 0.04926108374384237,
          "Depth": 10.7,
          "Rop_tess": 0,
          "StephanSpp": 0
         },
         {
          "A_curv": 0.019704433497536946,
          "A_nodul": 0.31527093596059114,
          "A_octon": 0.0049261083743842365,
          "ActinSpp": 0.034482758620689655,
          "Age": 12.18,
          "CoscinSpp": 0.06403940886699508,
          "CyclotSpp": 0.054187192118226604,
          "Depth": 10.75,
          "Rop_tess": 0,
          "StephanSpp": 0
         },
         {
          "A_curv": 0.009900990099009901,
          "A_nodul": 0.26732673267326734,
          "A_octon": 0.0049504950495049506,
          "ActinSpp": 0.06930693069306931,
          "Age": 12.27,
          "CoscinSpp": 0.08415841584158416,
          "CyclotSpp": 0.054455445544554455,
          "Depth": 10.8,
          "Rop_tess": 0.0049504950495049506,
          "StephanSpp": 0
         },
         {
          "A_curv": 0.00975609756097561,
          "A_nodul": 0.2926829268292683,
          "A_octon": 0.004878048780487805,
          "ActinSpp": 0.05853658536585366,
          "Age": 12.35,
          "CoscinSpp": 0.07804878048780488,
          "CyclotSpp": 0.03902439024390244,
          "Depth": 10.85,
          "Rop_tess": 0,
          "StephanSpp": 0
         },
         {
          "A_curv": 0.004901960784313725,
          "A_nodul": 0.25980392156862747,
          "A_octon": 0.00980392156862745,
          "ActinSpp": 0.06372549019607843,
          "Age": 12.43,
          "CoscinSpp": 0.09313725490196079,
          "CyclotSpp": 0.05392156862745098,
          "Depth": 10.9,
          "Rop_tess": 0,
          "StephanSpp": 0
         },
         {
          "A_curv": 0.009852216748768473,
          "A_nodul": 0.2512315270935961,
          "A_octon": 0.009852216748768473,
          "ActinSpp": 0.06896551724137931,
          "Age": 12.52,
          "CoscinSpp": 0.08866995073891626,
          "CyclotSpp": 0.059113300492610835,
          "Depth": 10.95,
          "Rop_tess": 0.0049261083743842365,
          "StephanSpp": 0
         },
         {
          "A_curv": 0.0049504950495049506,
          "A_nodul": 0.21287128712871287,
          "A_octon": 0.009900990099009901,
          "ActinSpp": 0.09405940594059406,
          "Age": 12.64,
          "CoscinSpp": 0.10891089108910891,
          "CyclotSpp": 0.0594059405940594,
          "Depth": 11,
          "Rop_tess": 0,
          "StephanSpp": 0.0049504950495049506
         },
         {
          "A_curv": 0.0049504950495049506,
          "A_nodul": 0.25742574257425743,
          "A_octon": 0.0049504950495049506,
          "ActinSpp": 0.06435643564356436,
          "Age": 12.73,
          "CoscinSpp": 0.09405940594059406,
          "CyclotSpp": 0.054455445544554455,
          "Depth": 11.05,
          "Rop_tess": 0.0049504950495049506,
          "StephanSpp": 0
         },
         {
          "A_curv": 0.023923444976076555,
          "A_nodul": 0.1339712918660287,
          "A_octon": 0.03827751196172249,
          "ActinSpp": 0.17703349282296652,
          "Age": 13.08,
          "CoscinSpp": 0.06698564593301436,
          "CyclotSpp": 0.023923444976076555,
          "Depth": 11.35,
          "Rop_tess": 0,
          "StephanSpp": 0.004784688995215311
         },
         {
          "A_curv": 0.0196078431372549,
          "A_nodul": 0.25980392156862747,
          "A_octon": 0.0392156862745098,
          "ActinSpp": 0.10294117647058823,
          "Age": 13.12,
          "CoscinSpp": 0.05392156862745098,
          "CyclotSpp": 0.014705882352941176,
          "Depth": 11.4,
          "Rop_tess": 0,
          "StephanSpp": 0
         },
         {
          "A_curv": 0.009708737864077669,
          "A_nodul": 0.18446601941747573,
          "A_octon": 0.038834951456310676,
          "ActinSpp": 0.1407766990291262,
          "Age": 13.17,
          "CoscinSpp": 0.10194174757281553,
          "CyclotSpp": 0.009708737864077669,
          "Depth": 11.45,
          "Rop_tess": 0,
          "StephanSpp": 0
         },
         {
          "A_curv": 0.054187192118226604,
          "A_nodul": 0.12807881773399016,
          "A_octon": 0.019704433497536946,
          "ActinSpp": 0.14285714285714285,
          "Age": 13.21,
          "CoscinSpp": 0.11822660098522167,
          "CyclotSpp": 0.024630541871921183,
          "Depth": 11.5,
          "Rop_tess": 0,
          "StephanSpp": 0
         },
         {
          "A_curv": 0.00980392156862745,
          "A_nodul": 0.18627450980392157,
          "A_octon": 0,
          "ActinSpp": 0.2107843137254902,
          "Age": 13.26,
          "CoscinSpp": 0.06862745098039216,
          "CyclotSpp": 0.00980392156862745,
          "Depth": 11.55,
          "Rop_tess": 0,
          "StephanSpp": 0
         },
         {
          "A_curv": 0.05263157894736842,
          "A_nodul": 0.11961722488038277,
          "A_octon": 0.019138755980861243,
          "ActinSpp": 0.15311004784688995,
          "Age": 13.3,
          "CoscinSpp": 0.07177033492822966,
          "CyclotSpp": 0.05741626794258373,
          "Depth": 11.6,
          "Rop_tess": 0,
          "StephanSpp": 0.004784688995215311
         },
         {
          "A_curv": 0.02912621359223301,
          "A_nodul": 0.1262135922330097,
          "A_octon": 0.03398058252427184,
          "ActinSpp": 0.1407766990291262,
          "Age": 13.35,
          "CoscinSpp": 0.1262135922330097,
          "CyclotSpp": 0.024271844660194174,
          "Depth": 11.65,
          "Rop_tess": 0,
          "StephanSpp": 0
         },
         {
          "A_curv": 0.029411764705882353,
          "A_nodul": 0.13725490196078433,
          "A_octon": 0.00980392156862745,
          "ActinSpp": 0.20588235294117646,
          "Age": 13.39,
          "CoscinSpp": 0.08823529411764706,
          "CyclotSpp": 0.014705882352941176,
          "Depth": 11.7,
          "Rop_tess": 0,
          "StephanSpp": 0
         },
         {
          "A_curv": 0.10396039603960396,
          "A_nodul": 0.0297029702970297,
          "A_octon": 0.0049504950495049506,
          "ActinSpp": 0.16336633663366337,
          "Age": 13.44,
          "CoscinSpp": 0.07425742574257425,
          "CyclotSpp": 0.10891089108910891,
          "Depth": 11.75,
          "Rop_tess": 0.0049504950495049506,
          "StephanSpp": 0
         },
         {
          "A_curv": 0.014705882352941176,
          "A_nodul": 0.14215686274509803,
          "A_octon": 0.0196078431372549,
          "ActinSpp": 0.16666666666666666,
          "Age": 13.48,
          "CoscinSpp": 0.09313725490196079,
          "CyclotSpp": 0.04411764705882353,
          "Depth": 11.8,
          "Rop_tess": 0.00980392156862745,
          "StephanSpp": 0
         },
         {
          "A_curv": 0.03940886699507389,
          "A_nodul": 0.13793103448275862,
          "A_octon": 0.009852216748768473,
          "ActinSpp": 0.18719211822660098,
          "Age": 13.53,
          "CoscinSpp": 0.07389162561576355,
          "CyclotSpp": 0.03940886699507389,
          "Depth": 11.85,
          "Rop_tess": 0.0049261083743842365,
          "StephanSpp": 0
         },
         {
          "A_curv": 0.00980392156862745,
          "A_nodul": 0.1568627450980392,
          "A_octon": 0.014705882352941176,
          "ActinSpp": 0.17647058823529413,
          "Age": 13.57,
          "CoscinSpp": 0.07352941176470588,
          "CyclotSpp": 0.049019607843137254,
          "Depth": 11.9,
          "Rop_tess": 0,
          "StephanSpp": 0.004901960784313725
         },
         {
          "A_curv": 0.11386138613861387,
          "A_nodul": 0.04950495049504951,
          "A_octon": 0.01485148514851485,
          "ActinSpp": 0.19306930693069307,
          "Age": 13.61,
          "CoscinSpp": 0.08415841584158416,
          "CyclotSpp": 0.0297029702970297,
          "Depth": 11.95,
          "Rop_tess": 0,
          "StephanSpp": 0
         },
         {
          "A_curv": 0.05365853658536585,
          "A_nodul": 0.09268292682926829,
          "A_octon": 0.02926829268292683,
          "ActinSpp": 0.2097560975609756,
          "Age": 13.66,
          "CoscinSpp": 0.06341463414634146,
          "CyclotSpp": 0.03902439024390244,
          "Depth": 12,
          "Rop_tess": 0,
          "StephanSpp": 0
         },
         {
          "A_curv": 0.014354066985645933,
          "A_nodul": 0.24401913875598086,
          "A_octon": 0.009569377990430622,
          "ActinSpp": 0.04784688995215311,
          "Age": 13.7,
          "CoscinSpp": 0.0430622009569378,
          "CyclotSpp": 0.04784688995215311,
          "Depth": 12.05,
          "Rop_tess": 0.07655502392344497,
          "StephanSpp": 0
         },
         {
          "A_curv": 0.04926108374384237,
          "A_nodul": 0.1477832512315271,
          "A_octon": 0.014778325123152709,
          "ActinSpp": 0.1477832512315271,
          "Age": 13.75,
          "CoscinSpp": 0.10344827586206896,
          "CyclotSpp": 0.029556650246305417,
          "Depth": 12.1,
          "Rop_tess": 0,
          "StephanSpp": 0
         },
         {
          "A_curv": 0.019230769230769232,
          "A_nodul": 0.18269230769230768,
          "A_octon": 0.038461538461538464,
          "ActinSpp": 0.12980769230769232,
          "Age": 13.79,
          "CoscinSpp": 0.052884615384615384,
          "CyclotSpp": 0.057692307692307696,
          "Depth": 12.15,
          "Rop_tess": 0,
          "StephanSpp": 0
         },
         {
          "A_curv": 0,
          "A_nodul": 0.22549019607843138,
          "A_octon": 0.004901960784313725,
          "ActinSpp": 0.06862745098039216,
          "Age": 12.82,
          "CoscinSpp": 0.1323529411764706,
          "CyclotSpp": 0.049019607843137254,
          "Depth": 11.1,
          "Rop_tess": 0,
          "StephanSpp": 0
         },
         {
          "A_curv": 0,
          "A_nodul": 0.23267326732673269,
          "A_octon": 0.009900990099009901,
          "ActinSpp": 0.0891089108910891,
          "Age": 12.9,
          "CoscinSpp": 0.11386138613861387,
          "CyclotSpp": 0.04455445544554455,
          "Depth": 11.15,
          "Rop_tess": 0.0049504950495049506,
          "StephanSpp": 0
         },
         {
          "A_curv": 0.004901960784313725,
          "A_nodul": 0.24509803921568626,
          "A_octon": 0.00980392156862745,
          "ActinSpp": 0.09803921568627451,
          "Age": 12.94,
          "CoscinSpp": 0.09803921568627451,
          "CyclotSpp": 0.029411764705882353,
          "Depth": 11.2,
          "Rop_tess": 0,
          "StephanSpp": 0
         },
         {
          "A_curv": 0.00980392156862745,
          "A_nodul": 0.08823529411764706,
          "A_octon": 0.0196078431372549,
          "ActinSpp": 0.19117647058823528,
          "Age": 12.99,
          "CoscinSpp": 0.16176470588235295,
          "CyclotSpp": 0.014705882352941176,
          "Depth": 11.25,
          "Rop_tess": 0,
          "StephanSpp": 0.004901960784313725
         },
         {
          "A_curv": 0.00980392156862745,
          "A_nodul": 0.24509803921568626,
          "A_octon": 0.0392156862745098,
          "ActinSpp": 0.06372549019607843,
          "Age": 13.03,
          "CoscinSpp": 0.07352941176470588,
          "CyclotSpp": 0.0392156862745098,
          "Depth": 11.3,
          "Rop_tess": 0.014705882352941176,
          "StephanSpp": 0
         },
         {
          "A_curv": 0.054187192118226604,
          "A_nodul": 0.06896551724137931,
          "A_octon": 0.014778325123152709,
          "ActinSpp": 0.2660098522167488,
          "Age": 13.84,
          "CoscinSpp": 0.04926108374384237,
          "CyclotSpp": 0.029556650246305417,
          "Depth": 12.2,
          "Rop_tess": 0,
          "StephanSpp": 0.0049261083743842365
         },
         {
          "A_curv": 0.04411764705882353,
          "A_nodul": 0.09803921568627451,
          "A_octon": 0.004901960784313725,
          "ActinSpp": 0.1568627450980392,
          "Age": 13.88,
          "CoscinSpp": 0.12745098039215685,
          "CyclotSpp": 0.049019607843137254,
          "Depth": 12.25,
          "Rop_tess": 0.004901960784313725,
          "StephanSpp": 0
         },
         {
          "A_curv": 0.06435643564356436,
          "A_nodul": 0.15346534653465346,
          "A_octon": 0.009900990099009901,
          "ActinSpp": 0.12871287128712872,
          "Age": 13.93,
          "CoscinSpp": 0.0891089108910891,
          "CyclotSpp": 0.039603960396039604,
          "Depth": 12.3,
          "Rop_tess": 0,
          "StephanSpp": 0.0049504950495049506
         },
         {
          "A_curv": 0.00980392156862745,
          "A_nodul": 0.21568627450980393,
          "A_octon": 0.004901960784313725,
          "ActinSpp": 0.12745098039215685,
          "Age": 13.97,
          "CoscinSpp": 0.10294117647058823,
          "CyclotSpp": 0.029411764705882353,
          "Depth": 12.35,
          "Rop_tess": 0,
          "StephanSpp": 0
         },
         {
          "A_curv": 0.03940886699507389,
          "A_nodul": 0.11330049261083744,
          "A_octon": 0.009852216748768473,
          "ActinSpp": 0.22167487684729065,
          "Age": 14.02,
          "CoscinSpp": 0.06896551724137931,
          "CyclotSpp": 0.03940886699507389,
          "Depth": 12.4,
          "Rop_tess": 0,
          "StephanSpp": 0
         },
         {
          "A_curv": 0.05314009661835749,
          "A_nodul": 0.1111111111111111,
          "A_octon": 0.01932367149758454,
          "ActinSpp": 0.14009661835748793,
          "Age": 14.06,
          "CoscinSpp": 0.13043478260869565,
          "CyclotSpp": 0.033816425120772944,
          "Depth": 12.45,
          "Rop_tess": 0,
          "StephanSpp": 0
         },
         {
          "A_curv": 0.024390243902439025,
          "A_nodul": 0.14146341463414633,
          "A_octon": 0.004878048780487805,
          "ActinSpp": 0.17073170731707318,
          "Age": 14.11,
          "CoscinSpp": 0.06829268292682927,
          "CyclotSpp": 0.06341463414634146,
          "Depth": 12.5,
          "Rop_tess": 0.014634146341463415,
          "StephanSpp": 0
         },
         {
          "A_curv": 0.028985507246376812,
          "A_nodul": 0.15942028985507245,
          "A_octon": 0.00966183574879227,
          "ActinSpp": 0.14009661835748793,
          "Age": 14.15,
          "CoscinSpp": 0.08695652173913043,
          "CyclotSpp": 0.057971014492753624,
          "Depth": 12.55,
          "Rop_tess": 0,
          "StephanSpp": 0
         },
         {
          "A_curv": 0.03431372549019608,
          "A_nodul": 0.16666666666666666,
          "A_octon": 0.014705882352941176,
          "ActinSpp": 0.1568627450980392,
          "Age": 14.19,
          "CoscinSpp": 0.09313725490196079,
          "CyclotSpp": 0.0196078431372549,
          "Depth": 12.6,
          "Rop_tess": 0,
          "StephanSpp": 0
         },
         {
          "A_curv": 0.043689320388349516,
          "A_nodul": 0.15048543689320387,
          "A_octon": 0.019417475728155338,
          "ActinSpp": 0.16019417475728157,
          "Age": 14.24,
          "CoscinSpp": 0.07766990291262135,
          "CyclotSpp": 0.02912621359223301,
          "Depth": 12.65,
          "Rop_tess": 0,
          "StephanSpp": 0.0048543689320388345
         },
         {
          "A_curv": 0.009708737864077669,
          "A_nodul": 0.3058252427184466,
          "A_octon": 0.0048543689320388345,
          "ActinSpp": 0.06796116504854369,
          "Age": 14.28,
          "CoscinSpp": 0.07766990291262135,
          "CyclotSpp": 0.009708737864077669,
          "Depth": 12.7,
          "Rop_tess": 0,
          "StephanSpp": 0
         },
         {
          "A_curv": 0.02912621359223301,
          "A_nodul": 0.16019417475728157,
          "A_octon": 0.02912621359223301,
          "ActinSpp": 0.1796116504854369,
          "Age": 14.33,
          "CoscinSpp": 0.05339805825242718,
          "CyclotSpp": 0.024271844660194174,
          "Depth": 12.75,
          "Rop_tess": 0,
          "StephanSpp": 0.0048543689320388345
         },
         {
          "A_curv": 0.01951219512195122,
          "A_nodul": 0.18048780487804877,
          "A_octon": 0.024390243902439025,
          "ActinSpp": 0.17073170731707318,
          "Age": 14.37,
          "CoscinSpp": 0.05853658536585366,
          "CyclotSpp": 0.03414634146341464,
          "Depth": 12.8,
          "Rop_tess": 0,
          "StephanSpp": 0
         },
         {
          "A_curv": 0.024630541871921183,
          "A_nodul": 0.17733990147783252,
          "A_octon": 0.009852216748768473,
          "ActinSpp": 0.1625615763546798,
          "Age": 14.42,
          "CoscinSpp": 0.07881773399014778,
          "CyclotSpp": 0.029556650246305417,
          "Depth": 12.85,
          "Rop_tess": 0,
          "StephanSpp": 0
         },
         {
          "A_curv": 0.02926829268292683,
          "A_nodul": 0.15609756097560976,
          "A_octon": 0.02926829268292683,
          "ActinSpp": 0.14634146341463414,
          "Age": 14.46,
          "CoscinSpp": 0.08780487804878048,
          "CyclotSpp": 0.03902439024390244,
          "Depth": 12.9,
          "Rop_tess": 0,
          "StephanSpp": 0
         },
         {
          "A_curv": 0.014492753623188406,
          "A_nodul": 0.2028985507246377,
          "A_octon": 0.028985507246376812,
          "ActinSpp": 0.09178743961352658,
          "Age": 14.51,
          "CoscinSpp": 0.06763285024154589,
          "CyclotSpp": 0.07729468599033816,
          "Depth": 12.95,
          "Rop_tess": 0,
          "StephanSpp": 0
         },
         {
          "A_curv": 0.00975609756097561,
          "A_nodul": 0.32682926829268294,
          "A_octon": 0.014634146341463415,
          "ActinSpp": 0.08292682926829269,
          "Age": 14.55,
          "CoscinSpp": 0.024390243902439025,
          "CyclotSpp": 0.01951219512195122,
          "Depth": 13,
          "Rop_tess": 0,
          "StephanSpp": 0
         },
         {
          "A_curv": 0,
          "A_nodul": 0.23786407766990292,
          "A_octon": 0.019417475728155338,
          "ActinSpp": 0.10679611650485436,
          "Age": 14.6,
          "CoscinSpp": 0.0825242718446602,
          "CyclotSpp": 0.038834951456310676,
          "Depth": 13.05,
          "Rop_tess": 0,
          "StephanSpp": 0
         },
         {
          "A_curv": 0,
          "A_nodul": 0.3582089552238806,
          "A_octon": 0,
          "ActinSpp": 0.03980099502487562,
          "Age": 14.64,
          "CoscinSpp": 0.07462686567164178,
          "CyclotSpp": 0.01990049751243781,
          "Depth": 13.1,
          "Rop_tess": 0,
          "StephanSpp": 0
         },
         {
          "A_curv": 0.004878048780487805,
          "A_nodul": 0.1951219512195122,
          "A_octon": 0.014634146341463415,
          "ActinSpp": 0.09268292682926829,
          "Age": 14.69,
          "CoscinSpp": 0.14146341463414633,
          "CyclotSpp": 0.024390243902439025,
          "Depth": 13.15,
          "Rop_tess": 0.004878048780487805,
          "StephanSpp": 0
         },
         {
          "A_curv": 0.004878048780487805,
          "A_nodul": 0.2975609756097561,
          "A_octon": 0.00975609756097561,
          "ActinSpp": 0.07317073170731707,
          "Age": 14.73,
          "CoscinSpp": 0.08292682926829269,
          "CyclotSpp": 0.014634146341463415,
          "Depth": 13.2,
          "Rop_tess": 0,
          "StephanSpp": 0
         },
         {
          "A_curv": 0.0048543689320388345,
          "A_nodul": 0.24271844660194175,
          "A_octon": 0,
          "ActinSpp": 0.10679611650485436,
          "Age": 14.78,
          "CoscinSpp": 0.0970873786407767,
          "CyclotSpp": 0.02912621359223301,
          "Depth": 13.25,
          "Rop_tess": 0,
          "StephanSpp": 0
         },
         {
          "A_curv": 0,
          "A_nodul": 0.24537037037037038,
          "A_octon": 0.013888888888888888,
          "ActinSpp": 0.06481481481481481,
          "Age": 14.92,
          "CoscinSpp": 0.07407407407407407,
          "CyclotSpp": 0.06018518518518518,
          "Depth": 13.41,
          "Rop_tess": 0,
          "StephanSpp": 0
         },
         {
          "A_curv": 0,
          "A_nodul": 0.2753623188405797,
          "A_octon": 0.00966183574879227,
          "ActinSpp": 0.05314009661835749,
          "Age": 14.96,
          "CoscinSpp": 0.10628019323671498,
          "CyclotSpp": 0.028985507246376812,
          "Depth": 13.46,
          "Rop_tess": 0.004830917874396135,
          "StephanSpp": 0
         },
         {
          "A_curv": 0,
          "A_nodul": 0.3073170731707317,
          "A_octon": 0,
          "ActinSpp": 0.04878048780487805,
          "Age": 15.01,
          "CoscinSpp": 0.1073170731707317,
          "CyclotSpp": 0.024390243902439025,
          "Depth": 13.51,
          "Rop_tess": 0,
          "StephanSpp": 0
         },
         {
          "A_curv": 0.0049261083743842365,
          "A_nodul": 0.2660098522167488,
          "A_octon": 0,
          "ActinSpp": 0.034482758620689655,
          "Age": 15.05,
          "CoscinSpp": 0.12807881773399016,
          "CyclotSpp": 0.054187192118226604,
          "Depth": 13.56,
          "Rop_tess": 0,
          "StephanSpp": 0
         },
         {
          "A_curv": 0.0048543689320388345,
          "A_nodul": 0.30097087378640774,
          "A_octon": 0.0048543689320388345,
          "ActinSpp": 0.04854368932038835,
          "Age": 15.1,
          "CoscinSpp": 0.07281553398058252,
          "CyclotSpp": 0.05339805825242718,
          "Depth": 13.61,
          "Rop_tess": 0,
          "StephanSpp": 0
         },
         {
          "A_curv": 0.014563106796116505,
          "A_nodul": 0.2815533980582524,
          "A_octon": 0.009708737864077669,
          "ActinSpp": 0.05825242718446602,
          "Age": 15.14,
          "CoscinSpp": 0.06310679611650485,
          "CyclotSpp": 0.05825242718446602,
          "Depth": 13.66,
          "Rop_tess": 0,
          "StephanSpp": 0
         },
         {
          "A_curv": 0.004901960784313725,
          "A_nodul": 0.2696078431372549,
          "A_octon": 0.00980392156862745,
          "ActinSpp": 0.06372549019607843,
          "Age": 15.19,
          "CoscinSpp": 0.08823529411764706,
          "CyclotSpp": 0.05392156862745098,
          "Depth": 13.71,
          "Rop_tess": 0,
          "StephanSpp": 0
         }
        ]
       },
       "encoding": {
        "color": {
         "field": "pleistocene",
         "scale": {
          "range": [
           "red",
           "blue"
          ]
         },
         "title": "Before 11KyrBP",
         "type": "nominal"
        },
        "x": {
         "field": "A_nodul",
         "title": "Relative Abundances of Azpeitia nodulifer",
         "type": "quantitative"
        },
        "y": {
         "field": "density",
         "title": "Density",
         "type": "quantitative"
        }
       },
       "mark": {
        "opacity": 0.4,
        "type": "area"
       },
       "transform": [
        {
         "as": "pleistocene",
         "calculate": "datum.Age > 11"
        },
        {
         "as": [
          "A_nodul",
          "density"
         ],
         "density": "A_nodul",
         "groupby": [
          "pleistocene"
         ]
        }
       ]
      },
      "image/png": "[encoded data removed]",
      "text/plain": [
       "<VegaLite 5 object>\n",
       "\n",
       "If you see this message, it means the renderer has not been properly enabled\n",
       "for the frontend that you are using. For more information, see\n",
       "https://altair-viz.github.io/user_guide/display_frontends.html#troubleshooting\n"
      ]
     },
     "execution_count": 17,
     "metadata": {},
     "output_type": "execute_result"
    }
   ],
   "source": [
    "# \n",
    "kdes = alt.Chart(diatoms).transform_calculate(\n",
    "     pleistocene = 'datum.Age > 11'\n",
    ").transform_density(\n",
    "    'A_nodul',\n",
    "    groupby = ['pleistocene'],\n",
    "    as_ = ['A_nodul', 'density']\n",
    ").mark_area(opacity = 0.4).encode(\n",
    "    x = alt.X('A_nodul:Q', title=\"Relative Abundances of Azpeitia nodulifer\"),\n",
    "    y=alt.Y('density:Q', title=\"Density\"),\n",
    "    color = alt.Color('pleistocene:N', title = 'Before 11KyrBP', scale = alt.Scale(range = ['red', 'blue']))\n",
    ")\n",
    "\n",
    "fig4 = kdes\n",
    "\n",
    "fig4"
   ]
  },
  {
   "cell_type": "markdown",
   "metadata": {},
   "source": [
    "<!-- END QUESTION -->\n",
    "\n",
    "# Visualizing community composition with PCA\n",
    "\n",
    "So far you've seen that the abundances of one taxon -- *Azpeitia nodulifer* -- change markedly before and after a shift in climate conditions. In this part you'll use PCA to compare variation in community composition among *all* eight taxa during the late Pleistocene and Holocene epochs."
   ]
  },
  {
   "cell_type": "markdown",
   "metadata": {},
   "source": [
    "### Question 9: Pairwise correlations in relative abundances\n",
    "\n",
    "**(i) Compute the pairwise correlations between relative abundances and make a heatmap of the correlation matrix.**\n",
    "\n",
    "Be sure to remove or set to indices the Depth and Age variables before computing the correlation matrix. Save the matrix as `corr_mx`.\n",
    "\n",
    "1. Melt `corr_mx` to obtain a dataframe with three columns: \n",
    "    + `row`, which contains the values of the index of `corr_mx` (taxon names); \n",
    "    + `column`, which contains the names of the columns of `corr_mx` (also taxon names); and\n",
    "    + `Correlation`, which contains the values of `corr_mx`. \n",
    "    + Store the result as `corr_mx_long`.\n",
    "2. Create an Altair chart based on `corr_mx_long` and construct the heatmap by following the examples indicated above.\n",
    "    + Adjust the color scheme to `blueorange` over the extent (-1, 1) to obtain a diverging color gradient where a correlation of zero is blank (white).\n",
    "    + Adjust the color legend to indicate the color values corresponding to correlations of 1, 0.5, 0, -0.5, and -1.\n",
    "    + Sort the rows and columns in ascending order of correlation. \n",
    "\n",
    "**(ii) How does *A. nodulifer* seem to vary with the other taxa, if at all?**\n",
    "\n",
    "Answer in a few sentences based on the heatmap."
   ]
  },
  {
   "cell_type": "markdown",
   "metadata": {},
   "source": [
    "A. nodulifer seems to have negative correlation with all of the other taxons. It is the only taxon to have this much negative correlation with the other taxons."
   ]
  },
  {
   "cell_type": "code",
   "execution_count": 18,
   "metadata": {
    "tags": []
   },
   "outputs": [
    {
     "name": "stderr",
     "output_type": "stream",
     "text": [
      "/opt/conda/lib/python3.11/site-packages/altair/utils/core.py:410: FutureWarning: the convert_dtype parameter is deprecated and will be removed in a future version.  Do ``ser.astype(object).apply()`` instead if you want ``convert_dtype=False``.\n",
      "  col = df[col_name].apply(to_list_if_array, convert_dtype=False)\n"
     ]
    },
    {
     "data": {
      "application/vnd.vegalite.v5+json": {
       "$schema": "https://vega.github.io/schema/vega-lite/v5.14.1.json",
       "config": {
        "view": {
         "continuousHeight": 300,
         "continuousWidth": 300
        }
       },
       "data": {
        "name": "data-9ee510db773f5545a7d2d7974b488e8b"
       },
       "datasets": {
        "data-9ee510db773f5545a7d2d7974b488e8b": [
         {
          "Correlation": 1,
          "col": "A_curv",
          "row": "A_curv"
         },
         {
          "Correlation": 0.11148012704163955,
          "col": "A_curv",
          "row": "A_octon"
         },
         {
          "Correlation": 0.3908983210789049,
          "col": "A_curv",
          "row": "ActinSpp"
         },
         {
          "Correlation": -0.4467783794634828,
          "col": "A_curv",
          "row": "A_nodul"
         },
         {
          "Correlation": 0.09122238756013563,
          "col": "A_curv",
          "row": "CoscinSpp"
         },
         {
          "Correlation": 0.21943881178532748,
          "col": "A_curv",
          "row": "CyclotSpp"
         },
         {
          "Correlation": -0.06268987663790046,
          "col": "A_curv",
          "row": "Rop_tess"
         },
         {
          "Correlation": 0.15190926871442448,
          "col": "A_curv",
          "row": "StephanSpp"
         },
         {
          "Correlation": 0.11148012704163955,
          "col": "A_octon",
          "row": "A_curv"
         },
         {
          "Correlation": 1,
          "col": "A_octon",
          "row": "A_octon"
         },
         {
          "Correlation": -0.005009031137348913,
          "col": "A_octon",
          "row": "ActinSpp"
         },
         {
          "Correlation": -0.21799220763122606,
          "col": "A_octon",
          "row": "A_nodul"
         },
         {
          "Correlation": 0.04958934728741469,
          "col": "A_octon",
          "row": "CoscinSpp"
         },
         {
          "Correlation": 0.06524911658995947,
          "col": "A_octon",
          "row": "CyclotSpp"
         },
         {
          "Correlation": -0.023046710627739175,
          "col": "A_octon",
          "row": "Rop_tess"
         },
         {
          "Correlation": -0.04101728630045759,
          "col": "A_octon",
          "row": "StephanSpp"
         },
         {
          "Correlation": 0.3908983210789049,
          "col": "ActinSpp",
          "row": "A_curv"
         },
         {
          "Correlation": -0.005009031137348913,
          "col": "ActinSpp",
          "row": "A_octon"
         },
         {
          "Correlation": 1,
          "col": "ActinSpp",
          "row": "ActinSpp"
         },
         {
          "Correlation": -0.36347511559409307,
          "col": "ActinSpp",
          "row": "A_nodul"
         },
         {
          "Correlation": 0.30602097625707547,
          "col": "ActinSpp",
          "row": "CoscinSpp"
         },
         {
          "Correlation": -0.05573194440277609,
          "col": "ActinSpp",
          "row": "CyclotSpp"
         },
         {
          "Correlation": -0.3434096542828656,
          "col": "ActinSpp",
          "row": "Rop_tess"
         },
         {
          "Correlation": 0.05849426108338282,
          "col": "ActinSpp",
          "row": "StephanSpp"
         },
         {
          "Correlation": -0.4467783794634828,
          "col": "A_nodul",
          "row": "A_curv"
         },
         {
          "Correlation": -0.21799220763122606,
          "col": "A_nodul",
          "row": "A_octon"
         },
         {
          "Correlation": -0.36347511559409307,
          "col": "A_nodul",
          "row": "ActinSpp"
         },
         {
          "Correlation": 1,
          "col": "A_nodul",
          "row": "A_nodul"
         },
         {
          "Correlation": -0.010920227836139393,
          "col": "A_nodul",
          "row": "CoscinSpp"
         },
         {
          "Correlation": -0.4073376790554347,
          "col": "A_nodul",
          "row": "CyclotSpp"
         },
         {
          "Correlation": -0.47194075252401796,
          "col": "A_nodul",
          "row": "Rop_tess"
         },
         {
          "Correlation": -0.15140866339925804,
          "col": "A_nodul",
          "row": "StephanSpp"
         },
         {
          "Correlation": 0.09122238756013563,
          "col": "CoscinSpp",
          "row": "A_curv"
         },
         {
          "Correlation": 0.04958934728741469,
          "col": "CoscinSpp",
          "row": "A_octon"
         },
         {
          "Correlation": 0.30602097625707547,
          "col": "CoscinSpp",
          "row": "ActinSpp"
         },
         {
          "Correlation": -0.010920227836139393,
          "col": "CoscinSpp",
          "row": "A_nodul"
         },
         {
          "Correlation": 1,
          "col": "CoscinSpp",
          "row": "CoscinSpp"
         },
         {
          "Correlation": -0.26615674332029876,
          "col": "CoscinSpp",
          "row": "CyclotSpp"
         },
         {
          "Correlation": -0.3417547521258265,
          "col": "CoscinSpp",
          "row": "Rop_tess"
         },
         {
          "Correlation": -0.016331607089081487,
          "col": "CoscinSpp",
          "row": "StephanSpp"
         },
         {
          "Correlation": 0.21943881178532748,
          "col": "CyclotSpp",
          "row": "A_curv"
         },
         {
          "Correlation": 0.06524911658995947,
          "col": "CyclotSpp",
          "row": "A_octon"
         },
         {
          "Correlation": -0.05573194440277609,
          "col": "CyclotSpp",
          "row": "ActinSpp"
         },
         {
          "Correlation": -0.4073376790554347,
          "col": "CyclotSpp",
          "row": "A_nodul"
         },
         {
          "Correlation": -0.26615674332029876,
          "col": "CyclotSpp",
          "row": "CoscinSpp"
         },
         {
          "Correlation": 1,
          "col": "CyclotSpp",
          "row": "CyclotSpp"
         },
         {
          "Correlation": 0.018149478515156917,
          "col": "CyclotSpp",
          "row": "Rop_tess"
         },
         {
          "Correlation": 0.07068436521730259,
          "col": "CyclotSpp",
          "row": "StephanSpp"
         },
         {
          "Correlation": -0.06268987663790046,
          "col": "Rop_tess",
          "row": "A_curv"
         },
         {
          "Correlation": -0.023046710627739175,
          "col": "Rop_tess",
          "row": "A_octon"
         },
         {
          "Correlation": -0.3434096542828656,
          "col": "Rop_tess",
          "row": "ActinSpp"
         },
         {
          "Correlation": -0.47194075252401796,
          "col": "Rop_tess",
          "row": "A_nodul"
         },
         {
          "Correlation": -0.3417547521258265,
          "col": "Rop_tess",
          "row": "CoscinSpp"
         },
         {
          "Correlation": 0.018149478515156917,
          "col": "Rop_tess",
          "row": "CyclotSpp"
         },
         {
          "Correlation": 1,
          "col": "Rop_tess",
          "row": "Rop_tess"
         },
         {
          "Correlation": 0.03260666162779185,
          "col": "Rop_tess",
          "row": "StephanSpp"
         },
         {
          "Correlation": 0.15190926871442448,
          "col": "StephanSpp",
          "row": "A_curv"
         },
         {
          "Correlation": -0.04101728630045759,
          "col": "StephanSpp",
          "row": "A_octon"
         },
         {
          "Correlation": 0.05849426108338282,
          "col": "StephanSpp",
          "row": "ActinSpp"
         },
         {
          "Correlation": -0.15140866339925804,
          "col": "StephanSpp",
          "row": "A_nodul"
         },
         {
          "Correlation": -0.016331607089081487,
          "col": "StephanSpp",
          "row": "CoscinSpp"
         },
         {
          "Correlation": 0.07068436521730259,
          "col": "StephanSpp",
          "row": "CyclotSpp"
         },
         {
          "Correlation": 0.03260666162779185,
          "col": "StephanSpp",
          "row": "Rop_tess"
         },
         {
          "Correlation": 1,
          "col": "StephanSpp",
          "row": "StephanSpp"
         }
        ]
       },
       "encoding": {
        "color": {
         "field": "Correlation",
         "legend": {
          "tickCount": 5
         },
         "scale": {
          "domain": [
           -1,
           1
          ],
          "scheme": "blueorange",
          "type": "sqrt"
         },
         "type": "quantitative"
        },
        "x": {
         "field": "col",
         "sort": {
          "field": "Correlation",
          "order": "ascending"
         },
         "title": "",
         "type": "nominal"
        },
        "y": {
         "field": "row",
         "sort": {
          "field": "Correlation",
          "order": "ascending"
         },
         "title": "",
         "type": "nominal"
        }
       },
       "height": 200,
       "mark": {
        "type": "rect"
       },
       "width": 200
      },
      "image/png": "[encoded data removed]",
      "text/plain": [
       "<VegaLite 5 object>\n",
       "\n",
       "If you see this message, it means the renderer has not been properly enabled\n",
       "for the frontend that you are using. For more information, see\n",
       "https://altair-viz.github.io/user_guide/display_frontends.html#troubleshooting\n"
      ]
     },
     "execution_count": 18,
     "metadata": {},
     "output_type": "execute_result"
    }
   ],
   "source": [
    "corr_mx = diatoms.set_index(['Age', 'Depth']).corr()\n",
    "\n",
    "# melt corr_mx\n",
    "corr_mx_long = corr_mx.reset_index().rename(\n",
    "    columns = {'index': 'row'}\n",
    ").melt(\n",
    "    id_vars = 'row',\n",
    "    var_name = 'col',\n",
    "    value_name = 'Correlation'\n",
    ")\n",
    "\n",
    "# construct heatmap\n",
    "fig5 = alt.Chart(corr_mx_long).mark_rect().encode(\n",
    "    x = alt.X('col', title = '', sort = {'field': 'Correlation', 'order': 'ascending'}),\n",
    "    y = alt.Y('row', title = '', sort = {'field': 'Correlation', 'order': 'ascending'}),\n",
    "    color = alt.Color('Correlation', \n",
    "                      scale = alt.Scale(scheme = 'blueorange',\n",
    "                                        domain = (-1, 1), \n",
    "                                        type = 'sqrt'),\n",
    "                     legend = alt.Legend(tickCount = 5))\n",
    ").properties(width = 200, height = 200)\n",
    "\n",
    "# display\n",
    "fig5"
   ]
  },
  {
   "cell_type": "code",
   "execution_count": 19,
   "metadata": {
    "deletable": false,
    "editable": false
   },
   "outputs": [
    {
     "data": {
      "text/html": [
       "<p><strong><pre style='display: inline;'>q9</pre></strong> passed! 🌟</p>"
      ],
      "text/plain": [
       "q9 results: All test cases passed!"
      ]
     },
     "execution_count": 19,
     "metadata": {},
     "output_type": "execute_result"
    }
   ],
   "source": [
    "grader.check(\"q9\")"
   ]
  },
  {
   "cell_type": "markdown",
   "metadata": {},
   "source": [
    "### Question 10: Computing and selecting principal components\n",
    "\n",
    "Here you'll perform all of the calculations involved in PCA and check the variance ratios to select an appropriate number of principal components. The parts of this question correspond to the individual steps in this process.\n",
    "\n",
    "**(i) Center and scale the data columns.**\n",
    "\n",
    "For PCA it is usually recommended to center and scale the data; set Depth and Age as indices and center and scale the relative abundances. Store the normalized result as `pcdata`. \n",
    "\n",
    "**(ii) Compute the principal components.**\n",
    "\n",
    "Compute *all 8* principal components. For this part you do not need to show any specific output.\n",
    "\n",
    "**(iii) Examine the variance ratios.**\n",
    "\n",
    "Create a dataframe called `pcvars` with the variance information by following these steps:\n",
    "\n",
    "1. Store the proportion of variance explained (called `.explained_variance_ratio_` in the PCA output) as a dataframe named `pcvars` with just one column named `Proportion of variance explained`.\n",
    "2. Add a column named `Component` to `pcvars` with the integers 1 through 8 as values (indicating the component number).\n",
    "3. Add a column named `Cumulative variance explained` to `pcvars` that is the cumulative sum of `Proportion of variance explained`.\n",
    "    + *Hint*: slice the `Proportion of variance explained` column and use `.cumsum(axis = ...)`.\n",
    "\n",
    "For this part you do not need to show any specific output.\n",
    "\n",
    "**(iv) Plot the variance explained by each PC.**\n",
    "\n",
    "Use `pcvars` to construct a dual-axis plot showing the proportion of variance explained (left y axis) and cumulative variance explained (right y axis) as a function of component number (x axis), with points indicating the variance ratios and lines connecting the points. Follow these steps:\n",
    "\n",
    "1. Construct a base chart that encodes only `Component` on the `X` channel. Store this as `base`.\n",
    "2. Make a base layer for the proportion of variance explained that modifies `base` by encoding `Proportion of variance explained` on the `Y` channel. Store the result as `prop_var_base`.\n",
    "    + Give the `Y` axis title a distinct color of your choosing via `alt.Y(..., axis = alt.Axis(titleColor = ...))`.\n",
    "3. Make a base layer for the cumulative variance explained that modifies `base` by endocing `Cumulative variance explained` on the `Y` channel. Store the result as `cum_var_base`.\n",
    "    + Give the `Y` axis title another distinct color of your choosing via `alt.Y(..., axis = alt.Axis(titleColor = ...))`.\n",
    "4. Create a plot layer for the proportion of variance explained by combining points (`prop_var_base.mark_point()`) with lines (`prop_var_base.mark_line()`). Store the result as `cum_var`.\n",
    "    + Apply the color you chose for the axis title to the points and lines.\n",
    "5. Repeat the previous step for the cumulative variance explained.\n",
    "    + Apply the color you chose for the axis title to the points and lines.\n",
    "6. Layer the plots together using `alt.layer(l1, l2).resolve_scale(y = 'independent')`.\n",
    "\n",
    "Store the result as `fig6` and display the figure.\n",
    "\n",
    "**(v) How many PCs should be used?**\n",
    "\n",
    "Propose an answer based on the variance explained plots and indicate how much total variation your proposed number of components capture jointly."
   ]
  },
  {
   "cell_type": "markdown",
   "metadata": {},
   "source": [
    "The 8 principle components jointly capture all of the explained variance but from looking at the graph, 3 of the components capture the majority of the variance which shows that the last few are not necessary. The cumulative variance explained by 2 of the principle components is 47 percent and 61 by 3."
   ]
  },
  {
   "cell_type": "code",
   "execution_count": 20,
   "metadata": {
    "tags": []
   },
   "outputs": [],
   "source": [
    "## (i) center and scale data\n",
    "\n",
    "# helper variable pcdata_raw; set Depth and Age as indices\n",
    "pcdata_raw = diatoms.set_index(['Depth', 'Age'])\n",
    "\n",
    "# center and scale the relative abundances\n",
    "mean = pcdata_raw.mean()\n",
    "std = pcdata_raw.std()\n",
    "\n",
    "pcdata = (pcdata_raw - mean) / std"
   ]
  },
  {
   "cell_type": "code",
   "execution_count": 21,
   "metadata": {
    "tags": []
   },
   "outputs": [
    {
     "data": {
      "text/html": [
       "<style>#sk-container-id-1 {color: black;}#sk-container-id-1 pre{padding: 0;}#sk-container-id-1 div.sk-toggleable {background-color: white;}#sk-container-id-1 label.sk-toggleable__label {cursor: pointer;display: block;width: 100%;margin-bottom: 0;padding: 0.3em;box-sizing: border-box;text-align: center;}#sk-container-id-1 label.sk-toggleable__label-arrow:before {content: \"▸\";float: left;margin-right: 0.25em;color: #696969;}#sk-container-id-1 label.sk-toggleable__label-arrow:hover:before {color: black;}#sk-container-id-1 div.sk-estimator:hover label.sk-toggleable__label-arrow:before {color: black;}#sk-container-id-1 div.sk-toggleable__content {max-height: 0;max-width: 0;overflow: hidden;text-align: left;background-color: #f0f8ff;}#sk-container-id-1 div.sk-toggleable__content pre {margin: 0.2em;color: black;border-radius: 0.25em;background-color: #f0f8ff;}#sk-container-id-1 input.sk-toggleable__control:checked~div.sk-toggleable__content {max-height: 200px;max-width: 100%;overflow: auto;}#sk-container-id-1 input.sk-toggleable__control:checked~label.sk-toggleable__label-arrow:before {content: \"▾\";}#sk-container-id-1 div.sk-estimator input.sk-toggleable__control:checked~label.sk-toggleable__label {background-color: #d4ebff;}#sk-container-id-1 div.sk-label input.sk-toggleable__control:checked~label.sk-toggleable__label {background-color: #d4ebff;}#sk-container-id-1 input.sk-hidden--visually {border: 0;clip: rect(1px 1px 1px 1px);clip: rect(1px, 1px, 1px, 1px);height: 1px;margin: -1px;overflow: hidden;padding: 0;position: absolute;width: 1px;}#sk-container-id-1 div.sk-estimator {font-family: monospace;background-color: #f0f8ff;border: 1px dotted black;border-radius: 0.25em;box-sizing: border-box;margin-bottom: 0.5em;}#sk-container-id-1 div.sk-estimator:hover {background-color: #d4ebff;}#sk-container-id-1 div.sk-parallel-item::after {content: \"\";width: 100%;border-bottom: 1px solid gray;flex-grow: 1;}#sk-container-id-1 div.sk-label:hover label.sk-toggleable__label {background-color: #d4ebff;}#sk-container-id-1 div.sk-serial::before {content: \"\";position: absolute;border-left: 1px solid gray;box-sizing: border-box;top: 0;bottom: 0;left: 50%;z-index: 0;}#sk-container-id-1 div.sk-serial {display: flex;flex-direction: column;align-items: center;background-color: white;padding-right: 0.2em;padding-left: 0.2em;position: relative;}#sk-container-id-1 div.sk-item {position: relative;z-index: 1;}#sk-container-id-1 div.sk-parallel {display: flex;align-items: stretch;justify-content: center;background-color: white;position: relative;}#sk-container-id-1 div.sk-item::before, #sk-container-id-1 div.sk-parallel-item::before {content: \"\";position: absolute;border-left: 1px solid gray;box-sizing: border-box;top: 0;bottom: 0;left: 50%;z-index: -1;}#sk-container-id-1 div.sk-parallel-item {display: flex;flex-direction: column;z-index: 1;position: relative;background-color: white;}#sk-container-id-1 div.sk-parallel-item:first-child::after {align-self: flex-end;width: 50%;}#sk-container-id-1 div.sk-parallel-item:last-child::after {align-self: flex-start;width: 50%;}#sk-container-id-1 div.sk-parallel-item:only-child::after {width: 0;}#sk-container-id-1 div.sk-dashed-wrapped {border: 1px dashed gray;margin: 0 0.4em 0.5em 0.4em;box-sizing: border-box;padding-bottom: 0.4em;background-color: white;}#sk-container-id-1 div.sk-label label {font-family: monospace;font-weight: bold;display: inline-block;line-height: 1.2em;}#sk-container-id-1 div.sk-label-container {text-align: center;}#sk-container-id-1 div.sk-container {/* jupyter's `normalize.less` sets `[hidden] { display: none; }` but bootstrap.min.css set `[hidden] { display: none !important; }` so we also need the `!important` here to be able to override the default hidden behavior on the sphinx rendered scikit-learn.org. See: https://github.com/scikit-learn/scikit-learn/issues/21755 */display: inline-block !important;position: relative;}#sk-container-id-1 div.sk-text-repr-fallback {display: none;}</style><div id=\"sk-container-id-1\" class=\"sk-top-container\"><div class=\"sk-text-repr-fallback\"><pre>PCA(n_components=8)</pre><b>In a Jupyter environment, please rerun this cell to show the HTML representation or trust the notebook. <br />On GitHub, the HTML representation is unable to render, please try loading this page with nbviewer.org.</b></div><div class=\"sk-container\" hidden><div class=\"sk-item\"><div class=\"sk-estimator sk-toggleable\"><input class=\"sk-toggleable__control sk-hidden--visually\" id=\"sk-estimator-id-1\" type=\"checkbox\" checked><label for=\"sk-estimator-id-1\" class=\"sk-toggleable__label sk-toggleable__label-arrow\">PCA</label><div class=\"sk-toggleable__content\"><pre>PCA(n_components=8)</pre></div></div></div></div></div>"
      ],
      "text/plain": [
       "PCA(n_components=8)"
      ]
     },
     "execution_count": 21,
     "metadata": {},
     "output_type": "execute_result"
    }
   ],
   "source": [
    "## (ii) compute pcs\n",
    "\n",
    "pca = PCA(n_components = 8)\n",
    "pca.fit(pcdata)"
   ]
  },
  {
   "cell_type": "code",
   "execution_count": 22,
   "metadata": {
    "tags": []
   },
   "outputs": [
    {
     "data": {
      "text/html": [
       "<div>\n",
       "<style scoped>\n",
       "    .dataframe tbody tr th:only-of-type {\n",
       "        vertical-align: middle;\n",
       "    }\n",
       "\n",
       "    .dataframe tbody tr th {\n",
       "        vertical-align: top;\n",
       "    }\n",
       "\n",
       "    .dataframe thead th {\n",
       "        text-align: right;\n",
       "    }\n",
       "</style>\n",
       "<table border=\"1\" class=\"dataframe\">\n",
       "  <thead>\n",
       "    <tr style=\"text-align: right;\">\n",
       "      <th></th>\n",
       "      <th>Proportion of variance explained</th>\n",
       "      <th>Component</th>\n",
       "      <th>Cumulative variance explained</th>\n",
       "    </tr>\n",
       "  </thead>\n",
       "  <tbody>\n",
       "    <tr>\n",
       "      <th>0</th>\n",
       "      <td>0.255513</td>\n",
       "      <td>1</td>\n",
       "      <td>0.255513</td>\n",
       "    </tr>\n",
       "    <tr>\n",
       "      <th>1</th>\n",
       "      <td>0.223354</td>\n",
       "      <td>2</td>\n",
       "      <td>0.478867</td>\n",
       "    </tr>\n",
       "    <tr>\n",
       "      <th>2</th>\n",
       "      <td>0.132145</td>\n",
       "      <td>3</td>\n",
       "      <td>0.611012</td>\n",
       "    </tr>\n",
       "    <tr>\n",
       "      <th>3</th>\n",
       "      <td>0.122549</td>\n",
       "      <td>4</td>\n",
       "      <td>0.733560</td>\n",
       "    </tr>\n",
       "    <tr>\n",
       "      <th>4</th>\n",
       "      <td>0.110833</td>\n",
       "      <td>5</td>\n",
       "      <td>0.844394</td>\n",
       "    </tr>\n",
       "    <tr>\n",
       "      <th>5</th>\n",
       "      <td>0.077988</td>\n",
       "      <td>6</td>\n",
       "      <td>0.922382</td>\n",
       "    </tr>\n",
       "    <tr>\n",
       "      <th>6</th>\n",
       "      <td>0.067303</td>\n",
       "      <td>7</td>\n",
       "      <td>0.989684</td>\n",
       "    </tr>\n",
       "    <tr>\n",
       "      <th>7</th>\n",
       "      <td>0.010316</td>\n",
       "      <td>8</td>\n",
       "      <td>1.000000</td>\n",
       "    </tr>\n",
       "  </tbody>\n",
       "</table>\n",
       "</div>"
      ],
      "text/plain": [
       "   Proportion of variance explained  Component  Cumulative variance explained\n",
       "0                          0.255513          1                       0.255513\n",
       "1                          0.223354          2                       0.478867\n",
       "2                          0.132145          3                       0.611012\n",
       "3                          0.122549          4                       0.733560\n",
       "4                          0.110833          5                       0.844394\n",
       "5                          0.077988          6                       0.922382\n",
       "6                          0.067303          7                       0.989684\n",
       "7                          0.010316          8                       1.000000"
      ]
     },
     "execution_count": 22,
     "metadata": {},
     "output_type": "execute_result"
    }
   ],
   "source": [
    "## (iii) retrieve variance info\n",
    "\n",
    "# store proportion of variance explained as a dataframe\n",
    "pcvars = pd.DataFrame({'Proportion of variance explained' : pca.explained_variance_ratio_})\n",
    "\n",
    "# add component number as a new column\n",
    "pcvars['Component'] = range(1,9)\n",
    "\n",
    "# add cumulative variance explained as a new column\n",
    "pcvars['Cumulative variance explained'] = pcvars['Proportion of variance explained'].cumsum()\n",
    "pcvars"
   ]
  },
  {
   "cell_type": "code",
   "execution_count": 23,
   "metadata": {
    "tags": []
   },
   "outputs": [
    {
     "data": {
      "application/vnd.vegalite.v5+json": {
       "$schema": "https://vega.github.io/schema/vega-lite/v5.14.1.json",
       "config": {
        "view": {
         "continuousHeight": 300,
         "continuousWidth": 300
        }
       },
       "data": {
        "name": "data-25137a97b439a9cc5ec531150f0306db"
       },
       "datasets": {
        "data-25137a97b439a9cc5ec531150f0306db": [
         {
          "Component": 1,
          "Cumulative variance explained": 0.2555128666490459,
          "Proportion of variance explained": 0.2555128666490459
         },
         {
          "Component": 2,
          "Cumulative variance explained": 0.47886672524742224,
          "Proportion of variance explained": 0.22335385859837634
         },
         {
          "Component": 3,
          "Cumulative variance explained": 0.611011553338407,
          "Proportion of variance explained": 0.13214482809098468
         },
         {
          "Component": 4,
          "Cumulative variance explained": 0.7335602054401354,
          "Proportion of variance explained": 0.12254865210172851
         },
         {
          "Component": 5,
          "Cumulative variance explained": 0.8443935831290427,
          "Proportion of variance explained": 0.11083337768890719
         },
         {
          "Component": 6,
          "Cumulative variance explained": 0.9223815644334283,
          "Proportion of variance explained": 0.07798798130438564
         },
         {
          "Component": 7,
          "Cumulative variance explained": 0.9896841812573167,
          "Proportion of variance explained": 0.06730261682388837
         },
         {
          "Component": 8,
          "Cumulative variance explained": 1,
          "Proportion of variance explained": 0.010315818742683367
         }
        ]
       },
       "layer": [
        {
         "layer": [
          {
           "encoding": {
            "x": {
             "field": "Component",
             "title": "Component",
             "type": "ordinal"
            },
            "y": {
             "axis": {
              "titleColor": "blue"
             },
             "field": "Proportion of variance explained",
             "title": "Proportion of Variance Explained",
             "type": "quantitative"
            }
           },
           "mark": {
            "color": "blue",
            "type": "point"
           }
          },
          {
           "encoding": {
            "x": {
             "field": "Component",
             "title": "Component",
             "type": "ordinal"
            },
            "y": {
             "axis": {
              "titleColor": "blue"
             },
             "field": "Proportion of variance explained",
             "title": "Proportion of Variance Explained",
             "type": "quantitative"
            }
           },
           "mark": {
            "color": "blue",
            "type": "line"
           }
          }
         ]
        },
        {
         "layer": [
          {
           "encoding": {
            "x": {
             "field": "Component",
             "title": "Component",
             "type": "ordinal"
            },
            "y": {
             "axis": {
              "titleColor": "green"
             },
             "field": "Cumulative variance explained",
             "title": "Cumulative Variance Explained",
             "type": "quantitative"
            }
           },
           "mark": {
            "color": "green",
            "type": "point"
           }
          },
          {
           "encoding": {
            "x": {
             "field": "Component",
             "title": "Component",
             "type": "ordinal"
            },
            "y": {
             "axis": {
              "titleColor": "green"
             },
             "field": "Cumulative variance explained",
             "title": "Cumulative Variance Explained",
             "type": "quantitative"
            }
           },
           "mark": {
            "color": "green",
            "type": "line"
           }
          }
         ]
        }
       ],
       "resolve": {
        "scale": {
         "y": "independent"
        }
       }
      },
      "image/png": "[encoded data removed]",
      "text/plain": [
       "<VegaLite 5 object>\n",
       "\n",
       "If you see this message, it means the renderer has not been properly enabled\n",
       "for the frontend that you are using. For more information, see\n",
       "https://altair-viz.github.io/user_guide/display_frontends.html#troubleshooting\n"
      ]
     },
     "execution_count": 23,
     "metadata": {},
     "output_type": "execute_result"
    }
   ],
   "source": [
    "## (iv) plot variance explained\n",
    "\n",
    "# encode component axis only as base layer\n",
    "base = alt.Chart(pcvars).encode(\n",
    "    x = alt.X('Component:O', title = 'Component')\n",
    ")\n",
    "\n",
    "# make a base layer for the proportion of variance explained\n",
    "prop_var_base = base.encode(\n",
    "    y = alt.Y('Proportion of variance explained:Q', axis = alt.Axis(titleColor ='blue'), title = 'Proportion of Variance Explained')\n",
    ")\n",
    "# make a base layer for the cumulative variance explained\n",
    "cum_var_base = base.encode(\n",
    "    y = alt.Y('Cumulative variance explained:Q', axis = alt.Axis(titleColor='green'), title = 'Cumulative Variance Explained')\n",
    ")\n",
    "\n",
    "# add points and lines to each base layer\n",
    "prop_var = prop_var_base.mark_point(color = 'blue') + prop_var_base.mark_line(color = 'blue')\n",
    "cum_var = cum_var_base.mark_point(color = 'green') + cum_var_base.mark_line(color = 'green')\n",
    "\n",
    "# layer the layers\n",
    "fig6 = alt.layer(prop_var, cum_var).resolve_scale(y = 'independent')\n",
    "\n",
    "# display\n",
    "fig6"
   ]
  },
  {
   "cell_type": "code",
   "execution_count": 24,
   "metadata": {
    "deletable": false,
    "editable": false
   },
   "outputs": [
    {
     "data": {
      "text/html": [
       "<p><strong><pre style='display: inline;'>q10</pre></strong> passed! 🙌</p>"
      ],
      "text/plain": [
       "q10 results: All test cases passed!"
      ]
     },
     "execution_count": 24,
     "metadata": {},
     "output_type": "execute_result"
    }
   ],
   "source": [
    "grader.check(\"q10\")"
   ]
  },
  {
   "cell_type": "markdown",
   "metadata": {},
   "source": [
    "Now that you've performed the calculations for PCA, you can move on to the fun/difficult part: figuring out what they say about the data.\n",
    "\n",
    "The first step in this process is to examine the loadings. Each principal component is a linear combination of the relative abundances by taxon, and the loadings tell you *how* that combination is formed; the loadings are the linear combination coefficients, and thus correspond to the weight of each taxon in the corresponding principal component. Some useful points to keep in mind:\n",
    "\n",
    "* a high loading value (negative or positive) indicates that a variable strongly influences the principal component;\n",
    "* a negative loading value indicates that\n",
    "    + increases in the value of a variable *decrease* the value of the principal component \n",
    "    + and decreases in the value of a variable *increase* the value of the principal component;\n",
    "* a positive loading value indicates that \n",
    "    + increases in the value of a variable *increase* the value of the principal component\n",
    "    + and decreases in the value of a variable *decrease* the value of the principal component;\n",
    "* similar loadings between two or more variables indicate that the principal component reflects their *average*;\n",
    "* divergent loadings between two sets of variables indicates that the principal component reflects their *difference*."
   ]
  },
  {
   "cell_type": "markdown",
   "metadata": {},
   "source": [
    "### Question 11: Interpreting component loadings\n",
    "\n",
    "**(i) Extract the loadings from `pca`.**\n",
    "\n",
    "Store the loadings for the first two principal components (called `.components_` in the PCA output) in a dataframe named `loading_df`. Name the columns `PC1` and `PC2`, and append a column `Taxon` with the corresponding variable names, and print the resulting dataframe.\n",
    "\n",
    "**(ii) Construct loading plots**\n",
    "\n",
    "Construct a line-and-point plot connecting the loadings of the first two principal components. Display the value of the loading on the y axis and the taxa names on the x axis, and show points indicating the loading values. Distinguish the PC's by color, and add lines connecting the loading values for each principal component. Store the result as `fig7` and display the figure -- you may need to resize for better readability.\n",
    "\n",
    "*Hint*: you will need to first melt `loading_df` to long form with three columns -- the taxon name, the principal component (1 or 2), and the value of the loading.\n",
    "\n",
    "**(iii) Interpret the first principal component.**\n",
    "\n",
    "In a few sentences, answer the following questions.\n",
    "1. Which taxa are up-weighted and which are down-weighted in this component?\n",
    "2. How would you describe the principal component in context (*e.g.*, average abundance among a group, differences in abundances, etc.)?\n",
    "3. How would you interpret a larger value of the PC versus a smaller value of the PC in terms of diatom communnity composition?\n",
    "\n",
    "**(iv) Interpret the second principal component.**\n",
    "\n",
    "Answer the same questions for component 2."
   ]
  },
  {
   "cell_type": "markdown",
   "metadata": {},
   "source": [
    "For PC1, A_nodul is the only taxon that is upweighted while the others are down-weighted. PC1 seems to indicate that A_nodul and A_curv has a large influence average abundances of taxons. A larger value of the PC would amount to a higher influence on the average abundances. For PC2, CytoSpp, Rop_tess, and StephenSpp are upweighted and the other taxons are downweighted. PC2 seems to indicate that Actin_Spp, coscin_spp, aand Rop_tess largely influence the average abundances of the taxons and similar to PC1, if this was a large value, then these taxons would be a large factor in the variation of abundance among the taxons."
   ]
  },
  {
   "cell_type": "code",
   "execution_count": 25,
   "metadata": {
    "tags": []
   },
   "outputs": [],
   "source": [
    "## (i) retrieve loadings\n",
    "# store the loadings as a data frame with appropriate names\n",
    "loading_df = pd.DataFrame(pca.components_).iloc[:2, :].transpose().rename(columns = {0: 'PC1', 1: 'PC2'})\n",
    "# add a column with the taxon names\n",
    "loading_df['Taxon'] = diatom_summary.index"
   ]
  },
  {
   "cell_type": "code",
   "execution_count": 26,
   "metadata": {
    "tags": []
   },
   "outputs": [
    {
     "name": "stderr",
     "output_type": "stream",
     "text": [
      "/opt/conda/lib/python3.11/site-packages/altair/utils/core.py:410: FutureWarning: the convert_dtype parameter is deprecated and will be removed in a future version.  Do ``ser.astype(object).apply()`` instead if you want ``convert_dtype=False``.\n",
      "  col = df[col_name].apply(to_list_if_array, convert_dtype=False)\n"
     ]
    },
    {
     "data": {
      "application/vnd.vegalite.v5+json": {
       "$schema": "https://vega.github.io/schema/vega-lite/v5.14.1.json",
       "config": {
        "axis": {
         "grid": false
        },
        "view": {
         "continuousHeight": 300,
         "continuousWidth": 300
        }
       },
       "data": {
        "name": "data-3cade703c95c41848dc5d166ca2aaae2"
       },
       "datasets": {
        "data-06fd9f850666401b4599de5588b60692": [
         {
          "y": 0
         }
        ],
        "data-3cade703c95c41848dc5d166ca2aaae2": [
         {
          "Loadings": -0.5213775448914195,
          "Principal Component": "PC1",
          "Taxon": "A_curv"
         },
         {
          "Loadings": -0.19451988542116794,
          "Principal Component": "PC1",
          "Taxon": "A_octon"
         },
         {
          "Loadings": -0.37381455714043743,
          "Principal Component": "PC1",
          "Taxon": "ActinSpp"
         },
         {
          "Loadings": 0.6115630260808559,
          "Principal Component": "PC1",
          "Taxon": "A_nodul"
         },
         {
          "Loadings": -0.04119871652977872,
          "Principal Component": "PC1",
          "Taxon": "CoscinSpp"
         },
         {
          "Loadings": -0.3457260053176096,
          "Principal Component": "PC1",
          "Taxon": "CyclotSpp"
         },
         {
          "Loadings": -0.11678603992578888,
          "Principal Component": "PC1",
          "Taxon": "Rop_tess"
         },
         {
          "Loadings": -0.2042499149114491,
          "Principal Component": "PC1",
          "Taxon": "StephanSpp"
         },
         {
          "Loadings": -0.15787989052091467,
          "Principal Component": "PC2",
          "Taxon": "A_curv"
         },
         {
          "Loadings": 0.001638537384432287,
          "Principal Component": "PC2",
          "Taxon": "A_octon"
         },
         {
          "Loadings": -0.47714427309195173,
          "Principal Component": "PC2",
          "Taxon": "ActinSpp"
         },
         {
          "Loadings": -0.18150272404052875,
          "Principal Component": "PC2",
          "Taxon": "A_nodul"
         },
         {
          "Loadings": -0.5484274789558763,
          "Principal Component": "PC2",
          "Taxon": "CoscinSpp"
         },
         {
          "Loadings": 0.2853297361181303,
          "Principal Component": "PC2",
          "Taxon": "CyclotSpp"
         },
         {
          "Loadings": 0.5756648017779321,
          "Principal Component": "PC2",
          "Taxon": "Rop_tess"
         },
         {
          "Loadings": 0.029759657131725153,
          "Principal Component": "PC2",
          "Taxon": "StephanSpp"
         }
        ]
       },
       "height": 300,
       "layer": [
        {
         "encoding": {
          "color": {
           "field": "Principal Component",
           "scale": {
            "range": [
             "red",
             "blue"
            ]
           },
           "title": "Principal Component",
           "type": "nominal"
          },
          "x": {
           "field": "Taxon",
           "title": "Taxon",
           "type": "nominal"
          },
          "y": {
           "field": "Loadings",
           "title": "Loadings",
           "type": "quantitative"
          }
         },
         "mark": {
          "point": true,
          "type": "line"
         }
        },
        {
         "encoding": {
          "color": {
           "field": "Principal Component",
           "scale": {
            "range": [
             "red",
             "blue"
            ]
           },
           "title": "Principal Component",
           "type": "nominal"
          },
          "x": {
           "field": "Taxon",
           "title": "Taxon",
           "type": "nominal"
          },
          "y": {
           "field": "Loadings",
           "title": "Loadings",
           "type": "quantitative"
          }
         },
         "mark": {
          "color": "red",
          "type": "rule"
         }
        },
        {
         "data": {
          "name": "data-06fd9f850666401b4599de5588b60692"
         },
         "encoding": {
          "y": {
           "field": "y",
           "type": "quantitative"
          }
         },
         "mark": {
          "color": "red",
          "type": "rule"
         }
        }
       ],
       "width": 600
      },
      "image/png": "[encoded data removed]",
      "text/plain": [
       "<VegaLite 5 object>\n",
       "\n",
       "If you see this message, it means the renderer has not been properly enabled\n",
       "for the frontend that you are using. For more information, see\n",
       "https://altair-viz.github.io/user_guide/display_frontends.html#troubleshooting\n"
      ]
     },
     "execution_count": 26,
     "metadata": {},
     "output_type": "execute_result"
    }
   ],
   "source": [
    "## (ii) construct loading plots\n",
    "# melt from wide to long\n",
    "loading_plot_df = loading_df.melt(\n",
    "    id_vars = ['Taxon'],\n",
    "    var_name = 'Principal Component',\n",
    "    value_name = 'Loadings'\n",
    ")\n",
    "\n",
    "# create base layer with encoding\n",
    "base = alt.Chart(loading_plot_df).encode(\n",
    "    x = alt.X('Taxon:N', title = 'Taxon'),\n",
    "    y = alt.Y('Loadings:Q', title = 'Loadings'),\n",
    "    color = alt.Color('Principal Component:N', title='Principal Component', scale = alt.Scale(range = ['red', 'blue']))\n",
    ")\n",
    "\n",
    "# store horizontal line at zero\n",
    "rule = alt.Chart(pd.DataFrame({'y': [0]})).mark_rule(color='red').encode(y='y:Q')\n",
    "\n",
    "# layer points + lines + rule to construct loading plot\n",
    "fig7 = (base.mark_line(point=True) + base.mark_rule(color='red') + rule).properties(\n",
    "    width=600,\n",
    "    height=300 \n",
    ").configure_axis(grid=False)\n",
    "\n",
    "# show\n",
    "fig7"
   ]
  },
  {
   "cell_type": "code",
   "execution_count": 27,
   "metadata": {
    "deletable": false,
    "editable": false
   },
   "outputs": [
    {
     "data": {
      "text/html": [
       "<p><strong><pre style='display: inline;'>q11</pre></strong> passed! 🍀</p>"
      ],
      "text/plain": [
       "q11 results: All test cases passed!"
      ]
     },
     "execution_count": 27,
     "metadata": {},
     "output_type": "execute_result"
    }
   ],
   "source": [
    "grader.check(\"q11\")"
   ]
  },
  {
   "cell_type": "markdown",
   "metadata": {},
   "source": [
    "Recall that there was a shift in climate around 11,000 years ago, and *A. nodulifer* abundances seemed to differ before and after the shift. \n",
    "\n",
    "You can now use PCA to investigate whether not just individual abundances but *community composition* may have shifted around that time. To that end, let's think of the principal components as 'community composition indices':\n",
    "\n",
    "* consider PC1 a nodulifer/non-nodulifer community composition index; and \n",
    "* consider PC2 a complex community composition index. \n",
    "\n",
    "A pattern of variation or covariation in the principal components can be thought of as reflecting a particular ecological community composition dynamic -- a way that community composition varies throughout time. Here you'll look for distinct patterns of variation/covariation before and after 11,000 years ago via an exploratory plot of the principal components."
   ]
  },
  {
   "cell_type": "markdown",
   "metadata": {},
   "source": [
    "### Question 12: Visualizing community composition shift\n",
    "\n",
    "**(i) Project the centered and scaled data onto the first two component directions.**\n",
    "\n",
    "This sounds a little more complicated than it is -- all that means is compute the values of the principal components for each data point. Create a dataframe called `projected_data` containing just the first two principal components as two columns named `PC1` and `PC2`, and two additional columns with the Age and Depth variables. \n",
    "\n",
    "**(ii) Construct a scatterplot of PC1 and PC2 by epoch.**\n",
    "\n",
    "Construct a scatterplot of the principal components with observations colored according to whether they occurred in the Pleistocene or Holocene epoch. Store the result as `fig8` and display the figure.\n",
    "\n",
    "**(iii) Comment on the plot: does there appear to be any change in community structure?**\n",
    "\n",
    "Answer in a few sentences."
   ]
  },
  {
   "cell_type": "markdown",
   "metadata": {},
   "source": [
    "Based on the plot, there does appear to be a change in community structure from the Pleistocene epoch to the Holocene epoch. The complex community composition averages much higher in the Holocene epoch than in Pleistocene. Also, in the Pleistocene epoch, the nodulifer/non-nodulifer community composition averages higher than that during the Holocene Epoch."
   ]
  },
  {
   "cell_type": "code",
   "execution_count": 28,
   "metadata": {
    "tags": []
   },
   "outputs": [],
   "source": [
    "## (i) project pcdata onto first two components; store as data frame\n",
    "\n",
    "# retrieve principal component scores for pc1 and pc2\n",
    "projected_data = pd.DataFrame(pca.transform(pcdata)).iloc[:, 0:2].rename(columns = {0: 'PC1', 1: 'PC2'})\n",
    "\n",
    "# adjust index\n",
    "projected_data.index = pcdata.index\n",
    "projected_data = projected_data.reset_index()\n"
   ]
  },
  {
   "cell_type": "code",
   "execution_count": 29,
   "metadata": {
    "tags": []
   },
   "outputs": [
    {
     "name": "stderr",
     "output_type": "stream",
     "text": [
      "/opt/conda/lib/python3.11/site-packages/altair/utils/core.py:410: FutureWarning: the convert_dtype parameter is deprecated and will be removed in a future version.  Do ``ser.astype(object).apply()`` instead if you want ``convert_dtype=False``.\n",
      "  col = df[col_name].apply(to_list_if_array, convert_dtype=False)\n"
     ]
    },
    {
     "data": {
      "application/vnd.vegalite.v5+json": {
       "$schema": "https://vega.github.io/schema/vega-lite/v5.14.1.json",
       "config": {
        "view": {
         "continuousHeight": 300,
         "continuousWidth": 300
        }
       },
       "data": {
        "name": "data-4a2df4ce8efb60f0ba7bf3365544e6a4"
       },
       "datasets": {
        "data-4a2df4ce8efb60f0ba7bf3365544e6a4": [
         {
          "Age": 1.33,
          "Depth": 0,
          "Epoch": "Holocene",
          "PC1": -0.2945223196047892,
          "PC2": -0.6331758100461379
         },
         {
          "Age": 1.37,
          "Depth": 0.05,
          "Epoch": "Holocene",
          "PC1": -0.5547015570717837,
          "PC2": -0.6188747287774223
         },
         {
          "Age": 1.42,
          "Depth": 0.1,
          "Epoch": "Holocene",
          "PC1": -0.30774539275745494,
          "PC2": -2.0502358533304696
         },
         {
          "Age": 1.46,
          "Depth": 0.15,
          "Epoch": "Holocene",
          "PC1": -1.771066467039053,
          "PC2": 1.637274154058646
         },
         {
          "Age": 1.51,
          "Depth": 0.2,
          "Epoch": "Holocene",
          "PC1": -0.29280577872110525,
          "PC2": 0.2594303745561764
         },
         {
          "Age": 1.55,
          "Depth": 0.25,
          "Epoch": "Holocene",
          "PC1": -0.22951054796954426,
          "PC2": 0.2650795302274206
         },
         {
          "Age": 1.59,
          "Depth": 0.3,
          "Epoch": "Holocene",
          "PC1": -0.1786899603600097,
          "PC2": 1.969495826220095
         },
         {
          "Age": 1.64,
          "Depth": 0.35,
          "Epoch": "Holocene",
          "PC1": -0.31574486457444756,
          "PC2": -1.011766546142131
         },
         {
          "Age": 1.68,
          "Depth": 0.4,
          "Epoch": "Holocene",
          "PC1": -2.0587154989566305,
          "PC2": -1.8363081314955556
         },
         {
          "Age": 1.72,
          "Depth": 0.45,
          "Epoch": "Holocene",
          "PC1": -0.9107882783574432,
          "PC2": -1.2551807743864907
         },
         {
          "Age": 1.77,
          "Depth": 0.5,
          "Epoch": "Holocene",
          "PC1": -0.5815080694072067,
          "PC2": 1.5668121615550525
         },
         {
          "Age": 1.81,
          "Depth": 0.55,
          "Epoch": "Holocene",
          "PC1": -1.126687403495902,
          "PC2": 0.3093534320349244
         },
         {
          "Age": 1.86,
          "Depth": 0.6,
          "Epoch": "Holocene",
          "PC1": -1.4136094000991253,
          "PC2": 0.05476540313906984
         },
         {
          "Age": 1.9,
          "Depth": 0.65,
          "Epoch": "Holocene",
          "PC1": 0.1765133511111327,
          "PC2": 0.9579731040851617
         },
         {
          "Age": 1.94,
          "Depth": 0.7,
          "Epoch": "Holocene",
          "PC1": -1.5921831501633816,
          "PC2": -0.4514561450885479
         },
         {
          "Age": 1.99,
          "Depth": 0.75,
          "Epoch": "Holocene",
          "PC1": -0.6955845010802679,
          "PC2": -1.6186949903858365
         },
         {
          "Age": 2.03,
          "Depth": 0.8,
          "Epoch": "Holocene",
          "PC1": -1.4012715638535505,
          "PC2": -1.1408054249471564
         },
         {
          "Age": 2.08,
          "Depth": 0.85,
          "Epoch": "Holocene",
          "PC1": -2.3118467160723193,
          "PC2": 0.9630210472047538
         },
         {
          "Age": 2.12,
          "Depth": 0.9,
          "Epoch": "Holocene",
          "PC1": -0.6701664537249994,
          "PC2": 0.11797028263326055
         },
         {
          "Age": 2.16,
          "Depth": 0.95,
          "Epoch": "Holocene",
          "PC1": -2.3051344054116707,
          "PC2": 0.5991679517422539
         },
         {
          "Age": 2.21,
          "Depth": 1,
          "Epoch": "Holocene",
          "PC1": -2.079871554265041,
          "PC2": -0.5510408889074452
         },
         {
          "Age": 2.25,
          "Depth": 1.05,
          "Epoch": "Holocene",
          "PC1": -1.600842095826428,
          "PC2": 0.3231419488203195
         },
         {
          "Age": 2.29,
          "Depth": 1.1,
          "Epoch": "Holocene",
          "PC1": -2.6834792862576538,
          "PC2": 1.5719777113213866
         },
         {
          "Age": 2.34,
          "Depth": 1.15,
          "Epoch": "Holocene",
          "PC1": -0.9463018173173261,
          "PC2": 0.03919870221904716
         },
         {
          "Age": 2.38,
          "Depth": 1.2,
          "Epoch": "Holocene",
          "PC1": 0.49769694478456794,
          "PC2": 1.750599254547479
         },
         {
          "Age": 2.43,
          "Depth": 1.25,
          "Epoch": "Holocene",
          "PC1": -1.9479550002010781,
          "PC2": 0.471880970866706
         },
         {
          "Age": 2.47,
          "Depth": 1.3,
          "Epoch": "Holocene",
          "PC1": -0.5382172591771504,
          "PC2": 1.1179186050879448
         },
         {
          "Age": 2.51,
          "Depth": 1.35,
          "Epoch": "Holocene",
          "PC1": -1.8250279983714481,
          "PC2": 1.3072303284315072
         },
         {
          "Age": 2.56,
          "Depth": 1.4,
          "Epoch": "Holocene",
          "PC1": -1.8414578227375027,
          "PC2": 1.29971716136027
         },
         {
          "Age": 2.64,
          "Depth": 1.49,
          "Epoch": "Holocene",
          "PC1": -0.910967803698701,
          "PC2": -1.0680572158558939
         },
         {
          "Age": 2.65,
          "Depth": 1.5,
          "Epoch": "Holocene",
          "PC1": -0.6913942906795844,
          "PC2": 0.5551512174846933
         },
         {
          "Age": 2.69,
          "Depth": 1.55,
          "Epoch": "Holocene",
          "PC1": -0.9175204859414509,
          "PC2": 1.9610600500807998
         },
         {
          "Age": 2.73,
          "Depth": 1.6,
          "Epoch": "Holocene",
          "PC1": -1.4143217338225598,
          "PC2": -0.6186513637457527
         },
         {
          "Age": 2.78,
          "Depth": 1.65,
          "Epoch": "Holocene",
          "PC1": -1.2425786554614349,
          "PC2": 0.09143702235285393
         },
         {
          "Age": 2.82,
          "Depth": 1.7,
          "Epoch": "Holocene",
          "PC1": -1.8512591836665033,
          "PC2": -0.5312005135220201
         },
         {
          "Age": 2.87,
          "Depth": 1.75,
          "Epoch": "Holocene",
          "PC1": -2.3603702235851207,
          "PC2": -0.17069958517997896
         },
         {
          "Age": 2.91,
          "Depth": 1.8,
          "Epoch": "Holocene",
          "PC1": -1.2394197395941366,
          "PC2": -0.8165599639934674
         },
         {
          "Age": 2.95,
          "Depth": 1.85,
          "Epoch": "Holocene",
          "PC1": -0.8827179850834389,
          "PC2": -0.8414674502599637
         },
         {
          "Age": 3,
          "Depth": 1.9,
          "Epoch": "Holocene",
          "PC1": -1.0878313299685776,
          "PC2": 2.337546562616645
         },
         {
          "Age": 3.04,
          "Depth": 1.95,
          "Epoch": "Holocene",
          "PC1": -1.8890381356773498,
          "PC2": -0.28380396887337944
         },
         {
          "Age": 3.08,
          "Depth": 2,
          "Epoch": "Holocene",
          "PC1": -1.3617183350383089,
          "PC2": 2.010311000893624
         },
         {
          "Age": 3.13,
          "Depth": 2.05,
          "Epoch": "Holocene",
          "PC1": -1.3799573346094725,
          "PC2": 0.07528943882534653
         },
         {
          "Age": 3.17,
          "Depth": 2.1,
          "Epoch": "Holocene",
          "PC1": -1.5446451117098379,
          "PC2": 0.0025736508906857997
         },
         {
          "Age": 3.22,
          "Depth": 2.15,
          "Epoch": "Holocene",
          "PC1": -0.35074726663649647,
          "PC2": 0.886993528117268
         },
         {
          "Age": 3.26,
          "Depth": 2.2,
          "Epoch": "Holocene",
          "PC1": -0.5544577521959348,
          "PC2": -0.8371115987584387
         },
         {
          "Age": 3.3,
          "Depth": 2.25,
          "Epoch": "Holocene",
          "PC1": -1.3250254341476602,
          "PC2": -0.5339992714472386
         },
         {
          "Age": 3.35,
          "Depth": 2.3,
          "Epoch": "Holocene",
          "PC1": -0.5508080948514746,
          "PC2": -0.580190602445556
         },
         {
          "Age": 3.39,
          "Depth": 2.35,
          "Epoch": "Holocene",
          "PC1": -0.480249178720746,
          "PC2": 1.11660826237898
         },
         {
          "Age": 3.44,
          "Depth": 2.4,
          "Epoch": "Holocene",
          "PC1": -1.6531092150364037,
          "PC2": -0.39127613984967374
         },
         {
          "Age": 3.48,
          "Depth": 2.45,
          "Epoch": "Holocene",
          "PC1": -1.750710566585546,
          "PC2": -0.775914409966578
         },
         {
          "Age": 3.52,
          "Depth": 2.5,
          "Epoch": "Holocene",
          "PC1": -1.4043484025241855,
          "PC2": -0.5903283227659751
         },
         {
          "Age": 3.57,
          "Depth": 2.55,
          "Epoch": "Holocene",
          "PC1": -1.1055773069642165,
          "PC2": -1.228316276971034
         },
         {
          "Age": 3.6,
          "Depth": 2.59,
          "Epoch": "Holocene",
          "PC1": -1.036307218191344,
          "PC2": -1.1643173079892648
         },
         {
          "Age": 3.65,
          "Depth": 2.65,
          "Epoch": "Holocene",
          "PC1": -1.1389478492354295,
          "PC2": 0.013058153799304695
         },
         {
          "Age": 3.7,
          "Depth": 2.7,
          "Epoch": "Holocene",
          "PC1": -1.057682189707089,
          "PC2": 0.1161454487116944
         },
         {
          "Age": 3.74,
          "Depth": 2.75,
          "Epoch": "Holocene",
          "PC1": -1.2619390834614999,
          "PC2": 0.3306741913157193
         },
         {
          "Age": 3.79,
          "Depth": 2.8,
          "Epoch": "Holocene",
          "PC1": -0.6940052421082868,
          "PC2": 0.8956520824849176
         },
         {
          "Age": 3.83,
          "Depth": 2.85,
          "Epoch": "Holocene",
          "PC1": -0.2658752916205588,
          "PC2": 0.2138149907169447
         },
         {
          "Age": 3.87,
          "Depth": 2.9,
          "Epoch": "Holocene",
          "PC1": -0.9693466816673237,
          "PC2": -0.291439270454908
         },
         {
          "Age": 3.92,
          "Depth": 2.95,
          "Epoch": "Holocene",
          "PC1": -0.27373877451484463,
          "PC2": 0.6881518621400154
         },
         {
          "Age": 3.96,
          "Depth": 3,
          "Epoch": "Holocene",
          "PC1": 0.1494234464832565,
          "PC2": 1.480424410115062
         },
         {
          "Age": 3.96,
          "Depth": 3,
          "Epoch": "Holocene",
          "PC1": -0.8651833109610862,
          "PC2": 2.800109765860095
         },
         {
          "Age": 4.01,
          "Depth": 3.05,
          "Epoch": "Holocene",
          "PC1": -0.1242443272003673,
          "PC2": 1.085910179239972
         },
         {
          "Age": 4.05,
          "Depth": 3.1,
          "Epoch": "Holocene",
          "PC1": -0.22167193046362946,
          "PC2": 0.190016747915229
         },
         {
          "Age": 4.14,
          "Depth": 3.2,
          "Epoch": "Holocene",
          "PC1": 0.16376703153880914,
          "PC2": 1.8509599753517525
         },
         {
          "Age": 4.18,
          "Depth": 3.25,
          "Epoch": "Holocene",
          "PC1": 0.035309592717583355,
          "PC2": 0.6867420057544682
         },
         {
          "Age": 4.22,
          "Depth": 3.3,
          "Epoch": "Holocene",
          "PC1": -0.06999547114985691,
          "PC2": -0.03688503744350728
         },
         {
          "Age": 4.27,
          "Depth": 3.35,
          "Epoch": "Holocene",
          "PC1": 0.9548042729755254,
          "PC2": 0.8151577581513269
         },
         {
          "Age": 4.31,
          "Depth": 3.4,
          "Epoch": "Holocene",
          "PC1": -0.021303471279940367,
          "PC2": 0.33827796511941133
         },
         {
          "Age": 4.36,
          "Depth": 3.45,
          "Epoch": "Holocene",
          "PC1": 0.32702590748936555,
          "PC2": 3.9301009432516443
         },
         {
          "Age": 4.4,
          "Depth": 3.5,
          "Epoch": "Holocene",
          "PC1": -0.05481681968217024,
          "PC2": 0.8517352736789826
         },
         {
          "Age": 4.44,
          "Depth": 3.55,
          "Epoch": "Holocene",
          "PC1": 0.29576408826165734,
          "PC2": 3.356363890436035
         },
         {
          "Age": 4.49,
          "Depth": 3.6,
          "Epoch": "Holocene",
          "PC1": 1.1803365007152162,
          "PC2": 1.0144631323481603
         },
         {
          "Age": 4.53,
          "Depth": 3.65,
          "Epoch": "Holocene",
          "PC1": -0.6326656553408866,
          "PC2": 0.13870050678536833
         },
         {
          "Age": 4.58,
          "Depth": 3.7,
          "Epoch": "Holocene",
          "PC1": 0.2604534094374762,
          "PC2": -0.21605083896033078
         },
         {
          "Age": 4.62,
          "Depth": 3.75,
          "Epoch": "Holocene",
          "PC1": -0.25809884374460423,
          "PC2": 0.11106936401719884
         },
         {
          "Age": 5.5,
          "Depth": 4.75,
          "Epoch": "Holocene",
          "PC1": -0.49253543341831346,
          "PC2": -1.2126730502060141
         },
         {
          "Age": 5.54,
          "Depth": 4.8,
          "Epoch": "Holocene",
          "PC1": -0.06941772401480209,
          "PC2": -0.3693393651119209
         },
         {
          "Age": 5.58,
          "Depth": 4.85,
          "Epoch": "Holocene",
          "PC1": -0.4245411243212992,
          "PC2": -0.18191969999471702
         },
         {
          "Age": 5.63,
          "Depth": 4.9,
          "Epoch": "Holocene",
          "PC1": -0.8248246097243247,
          "PC2": 0.16043391503578294
         },
         {
          "Age": 5.67,
          "Depth": 4.95,
          "Epoch": "Holocene",
          "PC1": -1.061664800725988,
          "PC2": 0.6646308592742385
         },
         {
          "Age": 5.72,
          "Depth": 5,
          "Epoch": "Holocene",
          "PC1": -0.8319777583653095,
          "PC2": 1.1148474255691765
         },
         {
          "Age": 5.76,
          "Depth": 5.05,
          "Epoch": "Holocene",
          "PC1": -0.7420373396010932,
          "PC2": 2.541065487889768
         },
         {
          "Age": 5.8,
          "Depth": 5.1,
          "Epoch": "Holocene",
          "PC1": -0.6662878048951377,
          "PC2": 1.604922091384265
         },
         {
          "Age": 5.85,
          "Depth": 5.15,
          "Epoch": "Holocene",
          "PC1": -0.38501115801956065,
          "PC2": 0.9386781233166109
         },
         {
          "Age": 5.89,
          "Depth": 5.2,
          "Epoch": "Holocene",
          "PC1": -0.12396450606266998,
          "PC2": 0.2940235512637372
         },
         {
          "Age": 5.94,
          "Depth": 5.25,
          "Epoch": "Holocene",
          "PC1": -0.9706199667989965,
          "PC2": -0.5098349347075926
         },
         {
          "Age": 5.98,
          "Depth": 5.3,
          "Epoch": "Holocene",
          "PC1": 0.26868551822825404,
          "PC2": 4.8937585340463015
         },
         {
          "Age": 6.02,
          "Depth": 5.35,
          "Epoch": "Holocene",
          "PC1": -0.42660945823747043,
          "PC2": 1.3118162330070577
         },
         {
          "Age": 6.07,
          "Depth": 5.4,
          "Epoch": "Holocene",
          "PC1": 0.3534668012765694,
          "PC2": 2.5759399414376896
         },
         {
          "Age": 6.11,
          "Depth": 5.45,
          "Epoch": "Holocene",
          "PC1": -0.8220355910974382,
          "PC2": -0.7839710948652772
         },
         {
          "Age": 6.15,
          "Depth": 5.5,
          "Epoch": "Holocene",
          "PC1": 0.6364777750313321,
          "PC2": 1.7678254375621465
         },
         {
          "Age": 6.2,
          "Depth": 5.55,
          "Epoch": "Holocene",
          "PC1": 0.8997348365453701,
          "PC2": 1.5653808170284462
         },
         {
          "Age": 6.24,
          "Depth": 5.6,
          "Epoch": "Holocene",
          "PC1": -0.9001202190867947,
          "PC2": 0.6571933360755158
         },
         {
          "Age": 6.29,
          "Depth": 5.65,
          "Epoch": "Holocene",
          "PC1": -0.7018443537948034,
          "PC2": 1.5909449349859988
         },
         {
          "Age": 6.33,
          "Depth": 5.7,
          "Epoch": "Holocene",
          "PC1": 0.7906932391535335,
          "PC2": 3.08322396567601
         },
         {
          "Age": 6.37,
          "Depth": 5.75,
          "Epoch": "Holocene",
          "PC1": -0.5210107185930025,
          "PC2": 1.031305203956981
         },
         {
          "Age": 6.42,
          "Depth": 5.8,
          "Epoch": "Holocene",
          "PC1": -1.177105142552127,
          "PC2": 1.3774965971569642
         },
         {
          "Age": 6.46,
          "Depth": 5.85,
          "Epoch": "Holocene",
          "PC1": -1.616900697770763,
          "PC2": 0.053137476298861994
         },
         {
          "Age": 6.51,
          "Depth": 5.9,
          "Epoch": "Holocene",
          "PC1": -0.35092636966214974,
          "PC2": 2.3128378363837485
         },
         {
          "Age": 6.55,
          "Depth": 5.95,
          "Epoch": "Holocene",
          "PC1": -1.1301980339344186,
          "PC2": -0.3376830055440336
         },
         {
          "Age": 6.59,
          "Depth": 6,
          "Epoch": "Holocene",
          "PC1": -1.6753848951098094,
          "PC2": 0.4417319834436166
         },
         {
          "Age": 6.64,
          "Depth": 6.05,
          "Epoch": "Holocene",
          "PC1": 0.08314441733232411,
          "PC2": -0.40809043677943213
         },
         {
          "Age": 6.68,
          "Depth": 6.1,
          "Epoch": "Holocene",
          "PC1": -0.9089832079017768,
          "PC2": -1.2606450665678797
         },
         {
          "Age": 6.72,
          "Depth": 6.15,
          "Epoch": "Holocene",
          "PC1": 0.011356808710165034,
          "PC2": 0.6750715231835275
         },
         {
          "Age": 6.77,
          "Depth": 6.2,
          "Epoch": "Holocene",
          "PC1": -0.7247790864848324,
          "PC2": -0.7260457917132981
         },
         {
          "Age": 6.81,
          "Depth": 6.25,
          "Epoch": "Holocene",
          "PC1": 0.18356963906629215,
          "PC2": 0.39178735515962
         },
         {
          "Age": 6.86,
          "Depth": 6.3,
          "Epoch": "Holocene",
          "PC1": -0.635243666964493,
          "PC2": 2.655178494367789
         },
         {
          "Age": 6.9,
          "Depth": 6.35,
          "Epoch": "Holocene",
          "PC1": -0.6725193748705366,
          "PC2": -1.9854160969449535
         },
         {
          "Age": 6.94,
          "Depth": 6.4,
          "Epoch": "Holocene",
          "PC1": 1.0170001409509088,
          "PC2": 4.98612574827766
         },
         {
          "Age": 6.99,
          "Depth": 6.45,
          "Epoch": "Holocene",
          "PC1": -0.9984016850860147,
          "PC2": -1.0042695890479911
         },
         {
          "Age": 7.03,
          "Depth": 6.5,
          "Epoch": "Holocene",
          "PC1": 0.24205221626619583,
          "PC2": 1.3802924147351234
         },
         {
          "Age": 7.08,
          "Depth": 6.55,
          "Epoch": "Holocene",
          "PC1": 0.30643480288276864,
          "PC2": -1.021819475243745
         },
         {
          "Age": 7.12,
          "Depth": 6.6,
          "Epoch": "Holocene",
          "PC1": -0.5788917532992564,
          "PC2": 0.14139768788529006
         },
         {
          "Age": 7.16,
          "Depth": 6.65,
          "Epoch": "Holocene",
          "PC1": -0.2520080231202497,
          "PC2": 0.05083805164000706
         },
         {
          "Age": 7.21,
          "Depth": 6.7,
          "Epoch": "Holocene",
          "PC1": -0.22146672485596894,
          "PC2": 0.029654551891051754
         },
         {
          "Age": 7.25,
          "Depth": 6.75,
          "Epoch": "Holocene",
          "PC1": -0.9401163469087034,
          "PC2": 0.2718032668959636
         },
         {
          "Age": 7.29,
          "Depth": 6.8,
          "Epoch": "Holocene",
          "PC1": 0.6103046984309204,
          "PC2": 3.115516368899256
         },
         {
          "Age": 7.34,
          "Depth": 6.85,
          "Epoch": "Holocene",
          "PC1": 0.6774871597745646,
          "PC2": 2.116628784342938
         },
         {
          "Age": 7.38,
          "Depth": 6.9,
          "Epoch": "Holocene",
          "PC1": -0.4136090260917375,
          "PC2": 0.17801602613084594
         },
         {
          "Age": 7.43,
          "Depth": 6.95,
          "Epoch": "Holocene",
          "PC1": -0.9397505729738993,
          "PC2": -1.304428242304452
         },
         {
          "Age": 7.47,
          "Depth": 7,
          "Epoch": "Holocene",
          "PC1": 0.3358950498143627,
          "PC2": 1.2572653682236152
         },
         {
          "Age": 7.51,
          "Depth": 7.05,
          "Epoch": "Holocene",
          "PC1": -0.5176929345937118,
          "PC2": -0.4445774374995304
         },
         {
          "Age": 7.56,
          "Depth": 7.1,
          "Epoch": "Holocene",
          "PC1": -0.33612287569535804,
          "PC2": -0.13342967973118874
         },
         {
          "Age": 7.6,
          "Depth": 7.15,
          "Epoch": "Holocene",
          "PC1": -1.2523063758233484,
          "PC2": 1.183790024894675
         },
         {
          "Age": 7.65,
          "Depth": 7.2,
          "Epoch": "Holocene",
          "PC1": -0.06467724056083049,
          "PC2": 0.4494212417257307
         },
         {
          "Age": 7.69,
          "Depth": 7.25,
          "Epoch": "Holocene",
          "PC1": -0.5950561157954565,
          "PC2": -1.0297687958955979
         },
         {
          "Age": 7.73,
          "Depth": 7.3,
          "Epoch": "Holocene",
          "PC1": 1.4759330845353709,
          "PC2": 2.870338457271692
         },
         {
          "Age": 7.78,
          "Depth": 7.35,
          "Epoch": "Holocene",
          "PC1": -0.24727041315673973,
          "PC2": -0.5129030765629656
         },
         {
          "Age": 7.82,
          "Depth": 7.4,
          "Epoch": "Holocene",
          "PC1": -1.1420657964324445,
          "PC2": -0.4599557619152202
         },
         {
          "Age": 7.87,
          "Depth": 7.45,
          "Epoch": "Holocene",
          "PC1": 0.15731842896788836,
          "PC2": 2.7903487510618996
         },
         {
          "Age": 7.91,
          "Depth": 7.5,
          "Epoch": "Holocene",
          "PC1": -0.0163855195182451,
          "PC2": 0.8709600669519726
         },
         {
          "Age": 7.95,
          "Depth": 7.55,
          "Epoch": "Holocene",
          "PC1": -0.8726992155756134,
          "PC2": -0.7385042259461606
         },
         {
          "Age": 8,
          "Depth": 7.6,
          "Epoch": "Holocene",
          "PC1": -1.0407153885099585,
          "PC2": 0.9194730827418357
         },
         {
          "Age": 8.04,
          "Depth": 7.65,
          "Epoch": "Holocene",
          "PC1": 0.462327878365151,
          "PC2": 4.342203166025602
         },
         {
          "Age": 8.08,
          "Depth": 7.7,
          "Epoch": "Holocene",
          "PC1": -1.7541000246485678,
          "PC2": 0.6230828964648111
         },
         {
          "Age": 8.13,
          "Depth": 7.75,
          "Epoch": "Holocene",
          "PC1": -0.7315441275474649,
          "PC2": 0.17600794517402601
         },
         {
          "Age": 8.17,
          "Depth": 7.8,
          "Epoch": "Holocene",
          "PC1": -0.5030300478335434,
          "PC2": 1.8869617105250154
         },
         {
          "Age": 8.61,
          "Depth": 8.3,
          "Epoch": "Holocene",
          "PC1": 0.21224628539263804,
          "PC2": 1.0757981562200736
         },
         {
          "Age": 8.65,
          "Depth": 8.35,
          "Epoch": "Holocene",
          "PC1": -0.7912508575318243,
          "PC2": -2.3669186030512126
         },
         {
          "Age": 8.7,
          "Depth": 8.4,
          "Epoch": "Holocene",
          "PC1": -0.1425473302721611,
          "PC2": -0.9150710143328555
         },
         {
          "Age": 8.74,
          "Depth": 8.45,
          "Epoch": "Holocene",
          "PC1": -1.5875329576468844,
          "PC2": -1.0450720605878328
         },
         {
          "Age": 8.79,
          "Depth": 8.5,
          "Epoch": "Holocene",
          "PC1": -0.39967105855508805,
          "PC2": 0.4660067982206036
         },
         {
          "Age": 8.83,
          "Depth": 8.55,
          "Epoch": "Holocene",
          "PC1": -0.2903195908750307,
          "PC2": -0.06689425702639719
         },
         {
          "Age": 8.87,
          "Depth": 8.6,
          "Epoch": "Holocene",
          "PC1": -0.328233122633671,
          "PC2": -1.6304749156274454
         },
         {
          "Age": 8.92,
          "Depth": 8.65,
          "Epoch": "Holocene",
          "PC1": -0.4482201522349819,
          "PC2": 1.0844153678121387
         },
         {
          "Age": 8.96,
          "Depth": 8.7,
          "Epoch": "Holocene",
          "PC1": -1.0771288253144278,
          "PC2": -1.9777674236030445
         },
         {
          "Age": 10.1,
          "Depth": 9.5,
          "Epoch": "Holocene",
          "PC1": -1.1705949378304759,
          "PC2": 0.0922454297066063
         },
         {
          "Age": 10.18,
          "Depth": 9.55,
          "Epoch": "Holocene",
          "PC1": -0.19959149932955442,
          "PC2": 1.29470413974654
         },
         {
          "Age": 10.27,
          "Depth": 9.6,
          "Epoch": "Holocene",
          "PC1": -1.6566326368255244,
          "PC2": -1.6505693765223972
         },
         {
          "Age": 10.35,
          "Depth": 9.65,
          "Epoch": "Holocene",
          "PC1": -0.46821395794282905,
          "PC2": 0.0782238456487938
         },
         {
          "Age": 10.43,
          "Depth": 9.7,
          "Epoch": "Holocene",
          "PC1": -1.6137142778308853,
          "PC2": -2.3121354342831753
         },
         {
          "Age": 10.52,
          "Depth": 9.75,
          "Epoch": "Holocene",
          "PC1": -1.8240093580848507,
          "PC2": -0.4222146709185988
         },
         {
          "Age": 10.6,
          "Depth": 9.8,
          "Epoch": "Holocene",
          "PC1": -1.650462554823023,
          "PC2": -1.7346966121163379
         },
         {
          "Age": 10.68,
          "Depth": 9.85,
          "Epoch": "Holocene",
          "PC1": -1.0150506453815231,
          "PC2": -2.334740184213285
         },
         {
          "Age": 10.77,
          "Depth": 9.9,
          "Epoch": "Holocene",
          "PC1": -0.14451135976224097,
          "PC2": -1.255340908235174
         },
         {
          "Age": 10.85,
          "Depth": 9.95,
          "Epoch": "Holocene",
          "PC1": -0.4835723638236404,
          "PC2": -2.3911063277764506
         },
         {
          "Age": 10.93,
          "Depth": 10,
          "Epoch": "Holocene",
          "PC1": 0.7823387659805087,
          "PC2": -2.2637484848861673
         },
         {
          "Age": 11.02,
          "Depth": 10.05,
          "Epoch": "Pleistocene",
          "PC1": -0.45341980140593563,
          "PC2": -1.588533969865944
         },
         {
          "Age": 11.1,
          "Depth": 10.1,
          "Epoch": "Pleistocene",
          "PC1": -0.08447650869315222,
          "PC2": -2.1450113757358014
         },
         {
          "Age": 11.18,
          "Depth": 10.15,
          "Epoch": "Pleistocene",
          "PC1": -0.08486425169764035,
          "PC2": -0.9846631095664139
         },
         {
          "Age": 11.27,
          "Depth": 10.2,
          "Epoch": "Pleistocene",
          "PC1": 0.4595858493281232,
          "PC2": -1.09394324664815
         },
         {
          "Age": 11.35,
          "Depth": 10.25,
          "Epoch": "Pleistocene",
          "PC1": -0.1521145884085382,
          "PC2": -0.8246132497918855
         },
         {
          "Age": 11.43,
          "Depth": 10.3,
          "Epoch": "Pleistocene",
          "PC1": 0.40539407857485943,
          "PC2": -0.4928256294377395
         },
         {
          "Age": 11.52,
          "Depth": 10.35,
          "Epoch": "Pleistocene",
          "PC1": -0.026406956792374384,
          "PC2": -1.5907273478015835
         },
         {
          "Age": 11.6,
          "Depth": 10.4,
          "Epoch": "Pleistocene",
          "PC1": -0.6211736899450456,
          "PC2": -1.9647410304066872
         },
         {
          "Age": 11.68,
          "Depth": 10.45,
          "Epoch": "Pleistocene",
          "PC1": 0.7199695559139856,
          "PC2": -1.1064336933056365
         },
         {
          "Age": 11.77,
          "Depth": 10.5,
          "Epoch": "Pleistocene",
          "PC1": 1.6062502082840269,
          "PC2": -0.6818429581499307
         },
         {
          "Age": 11.85,
          "Depth": 10.55,
          "Epoch": "Pleistocene",
          "PC1": 3.455078316409509,
          "PC2": -0.30037324743153165
         },
         {
          "Age": 11.93,
          "Depth": 10.6,
          "Epoch": "Pleistocene",
          "PC1": 2.1432696086687097,
          "PC2": -0.8607606235132128
         },
         {
          "Age": 12.02,
          "Depth": 10.65,
          "Epoch": "Pleistocene",
          "PC1": 3.1330398004057747,
          "PC2": 0.31387369841527807
         },
         {
          "Age": 12.1,
          "Depth": 10.7,
          "Epoch": "Pleistocene",
          "PC1": 3.2613260428893205,
          "PC2": 0.20041138794830066
         },
         {
          "Age": 12.18,
          "Depth": 10.75,
          "Epoch": "Pleistocene",
          "PC1": 3.0392599923964387,
          "PC2": 0.3043762541362148
         },
         {
          "Age": 12.27,
          "Depth": 10.8,
          "Epoch": "Pleistocene",
          "PC1": 2.719529660844517,
          "PC2": -0.13516651304578453
         },
         {
          "Age": 12.35,
          "Depth": 10.85,
          "Epoch": "Pleistocene",
          "PC1": 3.107877102548859,
          "PC2": -0.12392793438070034
         },
         {
          "Age": 12.43,
          "Depth": 10.9,
          "Epoch": "Pleistocene",
          "PC1": 2.791758247274978,
          "PC2": -0.22393296851122058
         },
         {
          "Age": 12.52,
          "Depth": 10.95,
          "Epoch": "Pleistocene",
          "PC1": 2.515382335905938,
          "PC2": -0.14639024563921943
         },
         {
          "Age": 12.64,
          "Depth": 11,
          "Epoch": "Pleistocene",
          "PC1": 2.072668229683208,
          "PC2": -0.6175711694154372
         },
         {
          "Age": 12.73,
          "Depth": 11.05,
          "Epoch": "Pleistocene",
          "PC1": 2.81451592348809,
          "PC2": -0.20063247067542506
         },
         {
          "Age": 13.08,
          "Depth": 11.35,
          "Epoch": "Pleistocene",
          "PC1": 0.4563234554806784,
          "PC2": -0.8733113321755742
         },
         {
          "Age": 13.12,
          "Depth": 11.4,
          "Epoch": "Pleistocene",
          "PC1": 2.130018055065062,
          "PC2": -0.2809712981787038
         },
         {
          "Age": 13.17,
          "Depth": 11.45,
          "Epoch": "Pleistocene",
          "PC1": 1.6304174894286034,
          "PC2": -1.246927349022026
         },
         {
          "Age": 13.21,
          "Depth": 11.5,
          "Epoch": "Pleistocene",
          "PC1": 0.08053891213770772,
          "PC2": -1.7148819253337182
         },
         {
          "Age": 13.26,
          "Depth": 11.55,
          "Epoch": "Pleistocene",
          "PC1": 1.6544139645887694,
          "PC2": -1.3007956328810109
         },
         {
          "Age": 13.3,
          "Depth": 11.6,
          "Epoch": "Pleistocene",
          "PC1": -0.3298301575065515,
          "PC2": -0.7358324280701168
         },
         {
          "Age": 13.35,
          "Depth": 11.65,
          "Epoch": "Pleistocene",
          "PC1": 0.6090060763291618,
          "PC2": -1.6188374040382043
         },
         {
          "Age": 13.39,
          "Depth": 11.7,
          "Epoch": "Pleistocene",
          "PC1": 0.634258234945281,
          "PC2": -1.6319978047937553
         },
         {
          "Age": 13.44,
          "Depth": 11.75,
          "Epoch": "Pleistocene",
          "PC1": -2.5693363271013903,
          "PC2": -0.7653065216102111
         },
         {
          "Age": 13.48,
          "Depth": 11.8,
          "Epoch": "Pleistocene",
          "PC1": 0.9743634364114395,
          "PC2": -0.9805618265785888
         },
         {
          "Age": 13.53,
          "Depth": 11.85,
          "Epoch": "Pleistocene",
          "PC1": 0.29753398408019005,
          "PC2": -1.10156969139708
         },
         {
          "Age": 13.57,
          "Depth": 11.9,
          "Epoch": "Pleistocene",
          "PC1": 1.069405516131093,
          "PC2": -0.7392889606840854
         },
         {
          "Age": 13.61,
          "Depth": 11.95,
          "Epoch": "Pleistocene",
          "PC1": -2.399263626822028,
          "PC2": -1.8915486633562375
         },
         {
          "Age": 13.66,
          "Depth": 12,
          "Epoch": "Pleistocene",
          "PC1": -0.7623417451562902,
          "PC2": -1.1912253701130262
         },
         {
          "Age": 13.7,
          "Depth": 12.05,
          "Epoch": "Pleistocene",
          "PC1": 2.5326844127594024,
          "PC2": 1.269565677185158
         },
         {
          "Age": 13.75,
          "Depth": 12.1,
          "Epoch": "Pleistocene",
          "PC1": 0.35160503520412456,
          "PC2": -1.4678045774475976
         },
         {
          "Age": 13.79,
          "Depth": 12.15,
          "Epoch": "Pleistocene",
          "PC1": 1.1049876121613729,
          "PC2": -0.05811229540541392
         },
         {
          "Age": 12.82,
          "Depth": 11.1,
          "Epoch": "Pleistocene",
          "PC1": 2.7157022944262494,
          "PC2": -0.868486049841244
         },
         {
          "Age": 12.9,
          "Depth": 11.15,
          "Epoch": "Pleistocene",
          "PC1": 2.614476874563254,
          "PC2": -0.7373399839919966
         },
         {
          "Age": 12.94,
          "Depth": 11.2,
          "Epoch": "Pleistocene",
          "PC1": 2.649672319780625,
          "PC2": -0.7488759177203829
         },
         {
          "Age": 12.99,
          "Depth": 11.25,
          "Epoch": "Pleistocene",
          "PC1": 0.6217519990113218,
          "PC2": -2.48757108583161
         },
         {
          "Age": 13.03,
          "Depth": 11.3,
          "Epoch": "Pleistocene",
          "PC1": 2.332536817459377,
          "PC2": 0.11673964933472102
         },
         {
          "Age": 13.84,
          "Depth": 12.2,
          "Epoch": "Pleistocene",
          "PC1": -1.188195222711084,
          "PC2": -1.4502004243659663
         },
         {
          "Age": 13.88,
          "Depth": 12.25,
          "Epoch": "Pleistocene",
          "PC1": 0.023862153476530465,
          "PC2": -1.6542744002689538
         },
         {
          "Age": 13.93,
          "Depth": 12.3,
          "Epoch": "Pleistocene",
          "PC1": -0.03812211122699616,
          "PC2": -1.104396759720505
         },
         {
          "Age": 13.97,
          "Depth": 12.35,
          "Epoch": "Pleistocene",
          "PC1": 2.165384905065848,
          "PC2": -1.0787840054973388
         },
         {
          "Age": 14.02,
          "Depth": 12.4,
          "Epoch": "Pleistocene",
          "PC1": -0.09066540957548788,
          "PC2": -1.3114689284245256
         },
         {
          "Age": 14.06,
          "Depth": 12.45,
          "Epoch": "Pleistocene",
          "PC1": -0.0690795939605934,
          "PC2": -1.7971123298447624
         },
         {
          "Age": 14.11,
          "Depth": 12.5,
          "Epoch": "Pleistocene",
          "PC1": 0.71164712564902,
          "PC2": -0.5040506352777926
         },
         {
          "Age": 14.15,
          "Depth": 12.55,
          "Epoch": "Pleistocene",
          "PC1": 0.9003412855028239,
          "PC2": -0.775273145449218
         },
         {
          "Age": 14.19,
          "Depth": 12.6,
          "Epoch": "Pleistocene",
          "PC1": 0.9273594800294278,
          "PC2": -1.3475237252718222
         },
         {
          "Age": 14.24,
          "Depth": 12.65,
          "Epoch": "Pleistocene",
          "PC1": 0.29304028668694054,
          "PC2": -1.0749612715472912
         },
         {
          "Age": 14.28,
          "Depth": 12.7,
          "Epoch": "Pleistocene",
          "PC1": 3.3701187103908556,
          "PC2": -0.42349370108149686
         },
         {
          "Age": 14.33,
          "Depth": 12.75,
          "Epoch": "Pleistocene",
          "PC1": 0.5866650344317839,
          "PC2": -0.755620211163181
         },
         {
          "Age": 14.37,
          "Depth": 12.8,
          "Epoch": "Pleistocene",
          "PC1": 1.1489884010006948,
          "PC2": -0.6764107887222551
         },
         {
          "Age": 14.42,
          "Depth": 12.85,
          "Epoch": "Pleistocene",
          "PC1": 1.2244082303209323,
          "PC2": -1.0233635736420423
         },
         {
          "Age": 14.46,
          "Depth": 12.9,
          "Epoch": "Pleistocene",
          "PC1": 0.748770370321171,
          "PC2": -0.9666673478031395
         },
         {
          "Age": 14.51,
          "Depth": 12.95,
          "Epoch": "Pleistocene",
          "PC1": 1.5684025380937119,
          "PC2": 0.1562538972032212
         },
         {
          "Age": 14.55,
          "Depth": 13,
          "Epoch": "Pleistocene",
          "PC1": 3.277008411914083,
          "PC2": 0.3881522056340186
         },
         {
          "Age": 14.6,
          "Depth": 13.05,
          "Epoch": "Pleistocene",
          "PC1": 2.5082135051473977,
          "PC2": -0.438823807859022
         },
         {
          "Age": 14.64,
          "Depth": 13.1,
          "Epoch": "Pleistocene",
          "PC1": 4.161816740517054,
          "PC2": -0.07336696968346541
         },
         {
          "Age": 14.69,
          "Depth": 13.15,
          "Epoch": "Pleistocene",
          "PC1": 2.2778811704735307,
          "PC2": -1.3486977342569217
         },
         {
          "Age": 14.73,
          "Depth": 13.2,
          "Epoch": "Pleistocene",
          "PC1": 3.3099176408281457,
          "PC2": -0.46957587169713155
         },
         {
          "Age": 14.78,
          "Depth": 13.25,
          "Epoch": "Pleistocene",
          "PC1": 2.693839272516413,
          "PC2": -0.8079583362784463
         },
         {
          "Age": 14.92,
          "Depth": 13.41,
          "Epoch": "Pleistocene",
          "PC1": 2.751731137350844,
          "PC2": 0.20762789913511176
         },
         {
          "Age": 14.96,
          "Depth": 13.46,
          "Epoch": "Pleistocene",
          "PC1": 3.2858220912093787,
          "PC2": -0.4767979751615403
         },
         {
          "Age": 15.01,
          "Depth": 13.51,
          "Epoch": "Pleistocene",
          "PC1": 3.684645178414574,
          "PC2": -0.5870104080491759
         },
         {
          "Age": 15.05,
          "Depth": 13.56,
          "Epoch": "Pleistocene",
          "PC1": 3.1036146895000862,
          "PC2": -0.5788153838415151
         },
         {
          "Age": 15.1,
          "Depth": 13.61,
          "Epoch": "Pleistocene",
          "PC1": 3.259312840406536,
          "PC2": 0.1770129715196292
         },
         {
          "Age": 15.14,
          "Depth": 13.66,
          "Epoch": "Pleistocene",
          "PC1": 2.7072721641103015,
          "PC2": 0.24712718673745032
         },
         {
          "Age": 15.19,
          "Depth": 13.71,
          "Epoch": "Pleistocene",
          "PC1": 2.862804718981273,
          "PC2": -0.15858046235950662
         }
        ]
       },
       "encoding": {
        "color": {
         "field": "Epoch",
         "legend": {
          "title": "Epoch"
         },
         "scale": {
          "scheme": "set1"
         },
         "type": "nominal"
        },
        "x": {
         "field": "PC1",
         "title": "nodulifer/non-nodulifer community composition",
         "type": "quantitative"
        },
        "y": {
         "field": "PC2",
         "title": "complex community composition",
         "type": "quantitative"
        }
       },
       "height": 300,
       "mark": {
        "type": "point"
       },
       "width": 400
      },
      "image/png": "[encoded data removed]",
      "text/plain": [
       "<VegaLite 5 object>\n",
       "\n",
       "If you see this message, it means the renderer has not been properly enabled\n",
       "for the frontend that you are using. For more information, see\n",
       "https://altair-viz.github.io/user_guide/display_frontends.html#troubleshooting\n"
      ]
     },
     "execution_count": 29,
     "metadata": {},
     "output_type": "execute_result"
    }
   ],
   "source": [
    "## (ii) construct scatterplot\\\n",
    "\n",
    "# works for projected_data but no legend\n",
    "# fig8 = alt.Chart(proj_data).mark_point().encode(\n",
    "#     x = alt.X('PC1:Q', title = 'nodulifer/non-nodulifer community composition'),\n",
    "#     y = alt.Y('PC2:Q', title = 'complex community composition'),\n",
    "#     color = alt.condition(alt.datum.Age > 11, alt.value('red'), alt.value('blue')),\n",
    "# ).properties(\n",
    "#     width=400,\n",
    "#     height=300\n",
    "# )\n",
    "\n",
    "proj_data = projected_data.copy()\n",
    "proj_data['Epoch'] = ['Pleistocene' if age > 11 else 'Holocene' for age in proj_data['Age']]\n",
    "\n",
    "fig8 = alt.Chart(proj_data).mark_point().encode(\n",
    "    x = alt.X('PC1:Q', title = 'nodulifer/non-nodulifer community composition'),\n",
    "    y = alt.Y('PC2:Q', title = 'complex community composition'),\n",
    "    color=alt.Color('Epoch:N', scale=alt.Scale(scheme='set1'), legend=alt.Legend(title='Epoch')),\n",
    ").properties(\n",
    "    width=400,\n",
    "    height=300\n",
    ")\n",
    "\n",
    "# display\n",
    "fig8"
   ]
  },
  {
   "cell_type": "code",
   "execution_count": 30,
   "metadata": {
    "deletable": false,
    "editable": false
   },
   "outputs": [
    {
     "data": {
      "text/html": [
       "<p><strong><pre style='display: inline;'>q12</pre></strong> passed! 🌟</p>"
      ],
      "text/plain": [
       "q12 results: All test cases passed!"
      ]
     },
     "execution_count": 30,
     "metadata": {},
     "output_type": "execute_result"
    }
   ],
   "source": [
    "grader.check(\"q12\")"
   ]
  },
  {
   "cell_type": "markdown",
   "metadata": {},
   "source": [
    "<!-- BEGIN QUESTION -->\n",
    "\n",
    "### (Optional) Question 13: Multi-panel visualization\n",
    "\n",
    "Sometimes it's helpful to see marginal distributions together with a scatterplot. Follow the steps below to create a multi-panel figure with marginal density estimates appended to the projected scatter from the previous question.\n",
    "\n",
    "1. Create an Altair chart based on `projected_data` and use `.transform_calculate(...)` to define a variable `holocene` that indicates whether `Age` is older than 11,000 years. Store the result as `base`.\n",
    "2. Modify `base` to add points with the following encodings. \n",
    "    + Pass PC1 to the `X` encoding channel and title the axis 'A. Nodulifer/non-A. nodulifer composition'.\n",
    "    + Pass PC2 to the `Y` encoding channel and title the axis 'Complex community composition'.\n",
    "    + Pass the variable you created in step 1. to the `color` encoding channel and title it 'Holocene'.\n",
    "    Store the result as `scatter`.\n",
    "3. Construct plots of kernel density estimates for each principal component conditional on age being older than 11,000 years:\n",
    "    + modify `base` to create a `top_panel` plot with the KDE curves for PC1, with color corresponding to the age indicator from the `.transform_calculate(...)` step in making the base layer;\n",
    "    + modify `base` again to create a `side_panel` plot with the KDE curves for PC2, rotated 90 degrees relative to the usual orientation (flip the typical axes), and with color corresponding to the age indicator from the `.transform_calculate(...)` step in making the base layer.\n",
    "4. Then, resize these panels appropriately (top should be thin, side should be narrow), and use Altair's faceting operators `&` (vertical concatenation) and `|` (horizontal concatenation) to combine them with your scatterplot.\n",
    "\n",
    "Store the result as `fig9` and display the figure."
   ]
  },
  {
   "cell_type": "code",
   "execution_count": 31,
   "metadata": {
    "tags": []
   },
   "outputs": [
    {
     "data": {
      "application/vnd.vegalite.v5+json": {
       "$schema": "https://vega.github.io/schema/vega-lite/v5.14.1.json",
       "config": {
        "view": {
         "continuousHeight": 300,
         "continuousWidth": 300
        }
       },
       "data": {
        "name": "data-f898725205d0c9e93686f04425aa0e47"
       },
       "datasets": {
        "data-f898725205d0c9e93686f04425aa0e47": [
         {
          "Age": 1.33,
          "Depth": 0,
          "PC1": -0.2945223196047892,
          "PC2": -0.6331758100461379
         },
         {
          "Age": 1.37,
          "Depth": 0.05,
          "PC1": -0.5547015570717837,
          "PC2": -0.6188747287774223
         },
         {
          "Age": 1.42,
          "Depth": 0.1,
          "PC1": -0.30774539275745494,
          "PC2": -2.0502358533304696
         },
         {
          "Age": 1.46,
          "Depth": 0.15,
          "PC1": -1.771066467039053,
          "PC2": 1.637274154058646
         },
         {
          "Age": 1.51,
          "Depth": 0.2,
          "PC1": -0.29280577872110525,
          "PC2": 0.2594303745561764
         },
         {
          "Age": 1.55,
          "Depth": 0.25,
          "PC1": -0.22951054796954426,
          "PC2": 0.2650795302274206
         },
         {
          "Age": 1.59,
          "Depth": 0.3,
          "PC1": -0.1786899603600097,
          "PC2": 1.969495826220095
         },
         {
          "Age": 1.64,
          "Depth": 0.35,
          "PC1": -0.31574486457444756,
          "PC2": -1.011766546142131
         },
         {
          "Age": 1.68,
          "Depth": 0.4,
          "PC1": -2.0587154989566305,
          "PC2": -1.8363081314955556
         },
         {
          "Age": 1.72,
          "Depth": 0.45,
          "PC1": -0.9107882783574432,
          "PC2": -1.2551807743864907
         },
         {
          "Age": 1.77,
          "Depth": 0.5,
          "PC1": -0.5815080694072067,
          "PC2": 1.5668121615550525
         },
         {
          "Age": 1.81,
          "Depth": 0.55,
          "PC1": -1.126687403495902,
          "PC2": 0.3093534320349244
         },
         {
          "Age": 1.86,
          "Depth": 0.6,
          "PC1": -1.4136094000991253,
          "PC2": 0.05476540313906984
         },
         {
          "Age": 1.9,
          "Depth": 0.65,
          "PC1": 0.1765133511111327,
          "PC2": 0.9579731040851617
         },
         {
          "Age": 1.94,
          "Depth": 0.7,
          "PC1": -1.5921831501633816,
          "PC2": -0.4514561450885479
         },
         {
          "Age": 1.99,
          "Depth": 0.75,
          "PC1": -0.6955845010802679,
          "PC2": -1.6186949903858365
         },
         {
          "Age": 2.03,
          "Depth": 0.8,
          "PC1": -1.4012715638535505,
          "PC2": -1.1408054249471564
         },
         {
          "Age": 2.08,
          "Depth": 0.85,
          "PC1": -2.3118467160723193,
          "PC2": 0.9630210472047538
         },
         {
          "Age": 2.12,
          "Depth": 0.9,
          "PC1": -0.6701664537249994,
          "PC2": 0.11797028263326055
         },
         {
          "Age": 2.16,
          "Depth": 0.95,
          "PC1": -2.3051344054116707,
          "PC2": 0.5991679517422539
         },
         {
          "Age": 2.21,
          "Depth": 1,
          "PC1": -2.079871554265041,
          "PC2": -0.5510408889074452
         },
         {
          "Age": 2.25,
          "Depth": 1.05,
          "PC1": -1.600842095826428,
          "PC2": 0.3231419488203195
         },
         {
          "Age": 2.29,
          "Depth": 1.1,
          "PC1": -2.6834792862576538,
          "PC2": 1.5719777113213866
         },
         {
          "Age": 2.34,
          "Depth": 1.15,
          "PC1": -0.9463018173173261,
          "PC2": 0.03919870221904716
         },
         {
          "Age": 2.38,
          "Depth": 1.2,
          "PC1": 0.49769694478456794,
          "PC2": 1.750599254547479
         },
         {
          "Age": 2.43,
          "Depth": 1.25,
          "PC1": -1.9479550002010781,
          "PC2": 0.471880970866706
         },
         {
          "Age": 2.47,
          "Depth": 1.3,
          "PC1": -0.5382172591771504,
          "PC2": 1.1179186050879448
         },
         {
          "Age": 2.51,
          "Depth": 1.35,
          "PC1": -1.8250279983714481,
          "PC2": 1.3072303284315072
         },
         {
          "Age": 2.56,
          "Depth": 1.4,
          "PC1": -1.8414578227375027,
          "PC2": 1.29971716136027
         },
         {
          "Age": 2.64,
          "Depth": 1.49,
          "PC1": -0.910967803698701,
          "PC2": -1.0680572158558939
         },
         {
          "Age": 2.65,
          "Depth": 1.5,
          "PC1": -0.6913942906795844,
          "PC2": 0.5551512174846933
         },
         {
          "Age": 2.69,
          "Depth": 1.55,
          "PC1": -0.9175204859414509,
          "PC2": 1.9610600500807998
         },
         {
          "Age": 2.73,
          "Depth": 1.6,
          "PC1": -1.4143217338225598,
          "PC2": -0.6186513637457527
         },
         {
          "Age": 2.78,
          "Depth": 1.65,
          "PC1": -1.2425786554614349,
          "PC2": 0.09143702235285393
         },
         {
          "Age": 2.82,
          "Depth": 1.7,
          "PC1": -1.8512591836665033,
          "PC2": -0.5312005135220201
         },
         {
          "Age": 2.87,
          "Depth": 1.75,
          "PC1": -2.3603702235851207,
          "PC2": -0.17069958517997896
         },
         {
          "Age": 2.91,
          "Depth": 1.8,
          "PC1": -1.2394197395941366,
          "PC2": -0.8165599639934674
         },
         {
          "Age": 2.95,
          "Depth": 1.85,
          "PC1": -0.8827179850834389,
          "PC2": -0.8414674502599637
         },
         {
          "Age": 3,
          "Depth": 1.9,
          "PC1": -1.0878313299685776,
          "PC2": 2.337546562616645
         },
         {
          "Age": 3.04,
          "Depth": 1.95,
          "PC1": -1.8890381356773498,
          "PC2": -0.28380396887337944
         },
         {
          "Age": 3.08,
          "Depth": 2,
          "PC1": -1.3617183350383089,
          "PC2": 2.010311000893624
         },
         {
          "Age": 3.13,
          "Depth": 2.05,
          "PC1": -1.3799573346094725,
          "PC2": 0.07528943882534653
         },
         {
          "Age": 3.17,
          "Depth": 2.1,
          "PC1": -1.5446451117098379,
          "PC2": 0.0025736508906857997
         },
         {
          "Age": 3.22,
          "Depth": 2.15,
          "PC1": -0.35074726663649647,
          "PC2": 0.886993528117268
         },
         {
          "Age": 3.26,
          "Depth": 2.2,
          "PC1": -0.5544577521959348,
          "PC2": -0.8371115987584387
         },
         {
          "Age": 3.3,
          "Depth": 2.25,
          "PC1": -1.3250254341476602,
          "PC2": -0.5339992714472386
         },
         {
          "Age": 3.35,
          "Depth": 2.3,
          "PC1": -0.5508080948514746,
          "PC2": -0.580190602445556
         },
         {
          "Age": 3.39,
          "Depth": 2.35,
          "PC1": -0.480249178720746,
          "PC2": 1.11660826237898
         },
         {
          "Age": 3.44,
          "Depth": 2.4,
          "PC1": -1.6531092150364037,
          "PC2": -0.39127613984967374
         },
         {
          "Age": 3.48,
          "Depth": 2.45,
          "PC1": -1.750710566585546,
          "PC2": -0.775914409966578
         },
         {
          "Age": 3.52,
          "Depth": 2.5,
          "PC1": -1.4043484025241855,
          "PC2": -0.5903283227659751
         },
         {
          "Age": 3.57,
          "Depth": 2.55,
          "PC1": -1.1055773069642165,
          "PC2": -1.228316276971034
         },
         {
          "Age": 3.6,
          "Depth": 2.59,
          "PC1": -1.036307218191344,
          "PC2": -1.1643173079892648
         },
         {
          "Age": 3.65,
          "Depth": 2.65,
          "PC1": -1.1389478492354295,
          "PC2": 0.013058153799304695
         },
         {
          "Age": 3.7,
          "Depth": 2.7,
          "PC1": -1.057682189707089,
          "PC2": 0.1161454487116944
         },
         {
          "Age": 3.74,
          "Depth": 2.75,
          "PC1": -1.2619390834614999,
          "PC2": 0.3306741913157193
         },
         {
          "Age": 3.79,
          "Depth": 2.8,
          "PC1": -0.6940052421082868,
          "PC2": 0.8956520824849176
         },
         {
          "Age": 3.83,
          "Depth": 2.85,
          "PC1": -0.2658752916205588,
          "PC2": 0.2138149907169447
         },
         {
          "Age": 3.87,
          "Depth": 2.9,
          "PC1": -0.9693466816673237,
          "PC2": -0.291439270454908
         },
         {
          "Age": 3.92,
          "Depth": 2.95,
          "PC1": -0.27373877451484463,
          "PC2": 0.6881518621400154
         },
         {
          "Age": 3.96,
          "Depth": 3,
          "PC1": 0.1494234464832565,
          "PC2": 1.480424410115062
         },
         {
          "Age": 3.96,
          "Depth": 3,
          "PC1": -0.8651833109610862,
          "PC2": 2.800109765860095
         },
         {
          "Age": 4.01,
          "Depth": 3.05,
          "PC1": -0.1242443272003673,
          "PC2": 1.085910179239972
         },
         {
          "Age": 4.05,
          "Depth": 3.1,
          "PC1": -0.22167193046362946,
          "PC2": 0.190016747915229
         },
         {
          "Age": 4.14,
          "Depth": 3.2,
          "PC1": 0.16376703153880914,
          "PC2": 1.8509599753517525
         },
         {
          "Age": 4.18,
          "Depth": 3.25,
          "PC1": 0.035309592717583355,
          "PC2": 0.6867420057544682
         },
         {
          "Age": 4.22,
          "Depth": 3.3,
          "PC1": -0.06999547114985691,
          "PC2": -0.03688503744350728
         },
         {
          "Age": 4.27,
          "Depth": 3.35,
          "PC1": 0.9548042729755254,
          "PC2": 0.8151577581513269
         },
         {
          "Age": 4.31,
          "Depth": 3.4,
          "PC1": -0.021303471279940367,
          "PC2": 0.33827796511941133
         },
         {
          "Age": 4.36,
          "Depth": 3.45,
          "PC1": 0.32702590748936555,
          "PC2": 3.9301009432516443
         },
         {
          "Age": 4.4,
          "Depth": 3.5,
          "PC1": -0.05481681968217024,
          "PC2": 0.8517352736789826
         },
         {
          "Age": 4.44,
          "Depth": 3.55,
          "PC1": 0.29576408826165734,
          "PC2": 3.356363890436035
         },
         {
          "Age": 4.49,
          "Depth": 3.6,
          "PC1": 1.1803365007152162,
          "PC2": 1.0144631323481603
         },
         {
          "Age": 4.53,
          "Depth": 3.65,
          "PC1": -0.6326656553408866,
          "PC2": 0.13870050678536833
         },
         {
          "Age": 4.58,
          "Depth": 3.7,
          "PC1": 0.2604534094374762,
          "PC2": -0.21605083896033078
         },
         {
          "Age": 4.62,
          "Depth": 3.75,
          "PC1": -0.25809884374460423,
          "PC2": 0.11106936401719884
         },
         {
          "Age": 5.5,
          "Depth": 4.75,
          "PC1": -0.49253543341831346,
          "PC2": -1.2126730502060141
         },
         {
          "Age": 5.54,
          "Depth": 4.8,
          "PC1": -0.06941772401480209,
          "PC2": -0.3693393651119209
         },
         {
          "Age": 5.58,
          "Depth": 4.85,
          "PC1": -0.4245411243212992,
          "PC2": -0.18191969999471702
         },
         {
          "Age": 5.63,
          "Depth": 4.9,
          "PC1": -0.8248246097243247,
          "PC2": 0.16043391503578294
         },
         {
          "Age": 5.67,
          "Depth": 4.95,
          "PC1": -1.061664800725988,
          "PC2": 0.6646308592742385
         },
         {
          "Age": 5.72,
          "Depth": 5,
          "PC1": -0.8319777583653095,
          "PC2": 1.1148474255691765
         },
         {
          "Age": 5.76,
          "Depth": 5.05,
          "PC1": -0.7420373396010932,
          "PC2": 2.541065487889768
         },
         {
          "Age": 5.8,
          "Depth": 5.1,
          "PC1": -0.6662878048951377,
          "PC2": 1.604922091384265
         },
         {
          "Age": 5.85,
          "Depth": 5.15,
          "PC1": -0.38501115801956065,
          "PC2": 0.9386781233166109
         },
         {
          "Age": 5.89,
          "Depth": 5.2,
          "PC1": -0.12396450606266998,
          "PC2": 0.2940235512637372
         },
         {
          "Age": 5.94,
          "Depth": 5.25,
          "PC1": -0.9706199667989965,
          "PC2": -0.5098349347075926
         },
         {
          "Age": 5.98,
          "Depth": 5.3,
          "PC1": 0.26868551822825404,
          "PC2": 4.8937585340463015
         },
         {
          "Age": 6.02,
          "Depth": 5.35,
          "PC1": -0.42660945823747043,
          "PC2": 1.3118162330070577
         },
         {
          "Age": 6.07,
          "Depth": 5.4,
          "PC1": 0.3534668012765694,
          "PC2": 2.5759399414376896
         },
         {
          "Age": 6.11,
          "Depth": 5.45,
          "PC1": -0.8220355910974382,
          "PC2": -0.7839710948652772
         },
         {
          "Age": 6.15,
          "Depth": 5.5,
          "PC1": 0.6364777750313321,
          "PC2": 1.7678254375621465
         },
         {
          "Age": 6.2,
          "Depth": 5.55,
          "PC1": 0.8997348365453701,
          "PC2": 1.5653808170284462
         },
         {
          "Age": 6.24,
          "Depth": 5.6,
          "PC1": -0.9001202190867947,
          "PC2": 0.6571933360755158
         },
         {
          "Age": 6.29,
          "Depth": 5.65,
          "PC1": -0.7018443537948034,
          "PC2": 1.5909449349859988
         },
         {
          "Age": 6.33,
          "Depth": 5.7,
          "PC1": 0.7906932391535335,
          "PC2": 3.08322396567601
         },
         {
          "Age": 6.37,
          "Depth": 5.75,
          "PC1": -0.5210107185930025,
          "PC2": 1.031305203956981
         },
         {
          "Age": 6.42,
          "Depth": 5.8,
          "PC1": -1.177105142552127,
          "PC2": 1.3774965971569642
         },
         {
          "Age": 6.46,
          "Depth": 5.85,
          "PC1": -1.616900697770763,
          "PC2": 0.053137476298861994
         },
         {
          "Age": 6.51,
          "Depth": 5.9,
          "PC1": -0.35092636966214974,
          "PC2": 2.3128378363837485
         },
         {
          "Age": 6.55,
          "Depth": 5.95,
          "PC1": -1.1301980339344186,
          "PC2": -0.3376830055440336
         },
         {
          "Age": 6.59,
          "Depth": 6,
          "PC1": -1.6753848951098094,
          "PC2": 0.4417319834436166
         },
         {
          "Age": 6.64,
          "Depth": 6.05,
          "PC1": 0.08314441733232411,
          "PC2": -0.40809043677943213
         },
         {
          "Age": 6.68,
          "Depth": 6.1,
          "PC1": -0.9089832079017768,
          "PC2": -1.2606450665678797
         },
         {
          "Age": 6.72,
          "Depth": 6.15,
          "PC1": 0.011356808710165034,
          "PC2": 0.6750715231835275
         },
         {
          "Age": 6.77,
          "Depth": 6.2,
          "PC1": -0.7247790864848324,
          "PC2": -0.7260457917132981
         },
         {
          "Age": 6.81,
          "Depth": 6.25,
          "PC1": 0.18356963906629215,
          "PC2": 0.39178735515962
         },
         {
          "Age": 6.86,
          "Depth": 6.3,
          "PC1": -0.635243666964493,
          "PC2": 2.655178494367789
         },
         {
          "Age": 6.9,
          "Depth": 6.35,
          "PC1": -0.6725193748705366,
          "PC2": -1.9854160969449535
         },
         {
          "Age": 6.94,
          "Depth": 6.4,
          "PC1": 1.0170001409509088,
          "PC2": 4.98612574827766
         },
         {
          "Age": 6.99,
          "Depth": 6.45,
          "PC1": -0.9984016850860147,
          "PC2": -1.0042695890479911
         },
         {
          "Age": 7.03,
          "Depth": 6.5,
          "PC1": 0.24205221626619583,
          "PC2": 1.3802924147351234
         },
         {
          "Age": 7.08,
          "Depth": 6.55,
          "PC1": 0.30643480288276864,
          "PC2": -1.021819475243745
         },
         {
          "Age": 7.12,
          "Depth": 6.6,
          "PC1": -0.5788917532992564,
          "PC2": 0.14139768788529006
         },
         {
          "Age": 7.16,
          "Depth": 6.65,
          "PC1": -0.2520080231202497,
          "PC2": 0.05083805164000706
         },
         {
          "Age": 7.21,
          "Depth": 6.7,
          "PC1": -0.22146672485596894,
          "PC2": 0.029654551891051754
         },
         {
          "Age": 7.25,
          "Depth": 6.75,
          "PC1": -0.9401163469087034,
          "PC2": 0.2718032668959636
         },
         {
          "Age": 7.29,
          "Depth": 6.8,
          "PC1": 0.6103046984309204,
          "PC2": 3.115516368899256
         },
         {
          "Age": 7.34,
          "Depth": 6.85,
          "PC1": 0.6774871597745646,
          "PC2": 2.116628784342938
         },
         {
          "Age": 7.38,
          "Depth": 6.9,
          "PC1": -0.4136090260917375,
          "PC2": 0.17801602613084594
         },
         {
          "Age": 7.43,
          "Depth": 6.95,
          "PC1": -0.9397505729738993,
          "PC2": -1.304428242304452
         },
         {
          "Age": 7.47,
          "Depth": 7,
          "PC1": 0.3358950498143627,
          "PC2": 1.2572653682236152
         },
         {
          "Age": 7.51,
          "Depth": 7.05,
          "PC1": -0.5176929345937118,
          "PC2": -0.4445774374995304
         },
         {
          "Age": 7.56,
          "Depth": 7.1,
          "PC1": -0.33612287569535804,
          "PC2": -0.13342967973118874
         },
         {
          "Age": 7.6,
          "Depth": 7.15,
          "PC1": -1.2523063758233484,
          "PC2": 1.183790024894675
         },
         {
          "Age": 7.65,
          "Depth": 7.2,
          "PC1": -0.06467724056083049,
          "PC2": 0.4494212417257307
         },
         {
          "Age": 7.69,
          "Depth": 7.25,
          "PC1": -0.5950561157954565,
          "PC2": -1.0297687958955979
         },
         {
          "Age": 7.73,
          "Depth": 7.3,
          "PC1": 1.4759330845353709,
          "PC2": 2.870338457271692
         },
         {
          "Age": 7.78,
          "Depth": 7.35,
          "PC1": -0.24727041315673973,
          "PC2": -0.5129030765629656
         },
         {
          "Age": 7.82,
          "Depth": 7.4,
          "PC1": -1.1420657964324445,
          "PC2": -0.4599557619152202
         },
         {
          "Age": 7.87,
          "Depth": 7.45,
          "PC1": 0.15731842896788836,
          "PC2": 2.7903487510618996
         },
         {
          "Age": 7.91,
          "Depth": 7.5,
          "PC1": -0.0163855195182451,
          "PC2": 0.8709600669519726
         },
         {
          "Age": 7.95,
          "Depth": 7.55,
          "PC1": -0.8726992155756134,
          "PC2": -0.7385042259461606
         },
         {
          "Age": 8,
          "Depth": 7.6,
          "PC1": -1.0407153885099585,
          "PC2": 0.9194730827418357
         },
         {
          "Age": 8.04,
          "Depth": 7.65,
          "PC1": 0.462327878365151,
          "PC2": 4.342203166025602
         },
         {
          "Age": 8.08,
          "Depth": 7.7,
          "PC1": -1.7541000246485678,
          "PC2": 0.6230828964648111
         },
         {
          "Age": 8.13,
          "Depth": 7.75,
          "PC1": -0.7315441275474649,
          "PC2": 0.17600794517402601
         },
         {
          "Age": 8.17,
          "Depth": 7.8,
          "PC1": -0.5030300478335434,
          "PC2": 1.8869617105250154
         },
         {
          "Age": 8.61,
          "Depth": 8.3,
          "PC1": 0.21224628539263804,
          "PC2": 1.0757981562200736
         },
         {
          "Age": 8.65,
          "Depth": 8.35,
          "PC1": -0.7912508575318243,
          "PC2": -2.3669186030512126
         },
         {
          "Age": 8.7,
          "Depth": 8.4,
          "PC1": -0.1425473302721611,
          "PC2": -0.9150710143328555
         },
         {
          "Age": 8.74,
          "Depth": 8.45,
          "PC1": -1.5875329576468844,
          "PC2": -1.0450720605878328
         },
         {
          "Age": 8.79,
          "Depth": 8.5,
          "PC1": -0.39967105855508805,
          "PC2": 0.4660067982206036
         },
         {
          "Age": 8.83,
          "Depth": 8.55,
          "PC1": -0.2903195908750307,
          "PC2": -0.06689425702639719
         },
         {
          "Age": 8.87,
          "Depth": 8.6,
          "PC1": -0.328233122633671,
          "PC2": -1.6304749156274454
         },
         {
          "Age": 8.92,
          "Depth": 8.65,
          "PC1": -0.4482201522349819,
          "PC2": 1.0844153678121387
         },
         {
          "Age": 8.96,
          "Depth": 8.7,
          "PC1": -1.0771288253144278,
          "PC2": -1.9777674236030445
         },
         {
          "Age": 10.1,
          "Depth": 9.5,
          "PC1": -1.1705949378304759,
          "PC2": 0.0922454297066063
         },
         {
          "Age": 10.18,
          "Depth": 9.55,
          "PC1": -0.19959149932955442,
          "PC2": 1.29470413974654
         },
         {
          "Age": 10.27,
          "Depth": 9.6,
          "PC1": -1.6566326368255244,
          "PC2": -1.6505693765223972
         },
         {
          "Age": 10.35,
          "Depth": 9.65,
          "PC1": -0.46821395794282905,
          "PC2": 0.0782238456487938
         },
         {
          "Age": 10.43,
          "Depth": 9.7,
          "PC1": -1.6137142778308853,
          "PC2": -2.3121354342831753
         },
         {
          "Age": 10.52,
          "Depth": 9.75,
          "PC1": -1.8240093580848507,
          "PC2": -0.4222146709185988
         },
         {
          "Age": 10.6,
          "Depth": 9.8,
          "PC1": -1.650462554823023,
          "PC2": -1.7346966121163379
         },
         {
          "Age": 10.68,
          "Depth": 9.85,
          "PC1": -1.0150506453815231,
          "PC2": -2.334740184213285
         },
         {
          "Age": 10.77,
          "Depth": 9.9,
          "PC1": -0.14451135976224097,
          "PC2": -1.255340908235174
         },
         {
          "Age": 10.85,
          "Depth": 9.95,
          "PC1": -0.4835723638236404,
          "PC2": -2.3911063277764506
         },
         {
          "Age": 10.93,
          "Depth": 10,
          "PC1": 0.7823387659805087,
          "PC2": -2.2637484848861673
         },
         {
          "Age": 11.02,
          "Depth": 10.05,
          "PC1": -0.45341980140593563,
          "PC2": -1.588533969865944
         },
         {
          "Age": 11.1,
          "Depth": 10.1,
          "PC1": -0.08447650869315222,
          "PC2": -2.1450113757358014
         },
         {
          "Age": 11.18,
          "Depth": 10.15,
          "PC1": -0.08486425169764035,
          "PC2": -0.9846631095664139
         },
         {
          "Age": 11.27,
          "Depth": 10.2,
          "PC1": 0.4595858493281232,
          "PC2": -1.09394324664815
         },
         {
          "Age": 11.35,
          "Depth": 10.25,
          "PC1": -0.1521145884085382,
          "PC2": -0.8246132497918855
         },
         {
          "Age": 11.43,
          "Depth": 10.3,
          "PC1": 0.40539407857485943,
          "PC2": -0.4928256294377395
         },
         {
          "Age": 11.52,
          "Depth": 10.35,
          "PC1": -0.026406956792374384,
          "PC2": -1.5907273478015835
         },
         {
          "Age": 11.6,
          "Depth": 10.4,
          "PC1": -0.6211736899450456,
          "PC2": -1.9647410304066872
         },
         {
          "Age": 11.68,
          "Depth": 10.45,
          "PC1": 0.7199695559139856,
          "PC2": -1.1064336933056365
         },
         {
          "Age": 11.77,
          "Depth": 10.5,
          "PC1": 1.6062502082840269,
          "PC2": -0.6818429581499307
         },
         {
          "Age": 11.85,
          "Depth": 10.55,
          "PC1": 3.455078316409509,
          "PC2": -0.30037324743153165
         },
         {
          "Age": 11.93,
          "Depth": 10.6,
          "PC1": 2.1432696086687097,
          "PC2": -0.8607606235132128
         },
         {
          "Age": 12.02,
          "Depth": 10.65,
          "PC1": 3.1330398004057747,
          "PC2": 0.31387369841527807
         },
         {
          "Age": 12.1,
          "Depth": 10.7,
          "PC1": 3.2613260428893205,
          "PC2": 0.20041138794830066
         },
         {
          "Age": 12.18,
          "Depth": 10.75,
          "PC1": 3.0392599923964387,
          "PC2": 0.3043762541362148
         },
         {
          "Age": 12.27,
          "Depth": 10.8,
          "PC1": 2.719529660844517,
          "PC2": -0.13516651304578453
         },
         {
          "Age": 12.35,
          "Depth": 10.85,
          "PC1": 3.107877102548859,
          "PC2": -0.12392793438070034
         },
         {
          "Age": 12.43,
          "Depth": 10.9,
          "PC1": 2.791758247274978,
          "PC2": -0.22393296851122058
         },
         {
          "Age": 12.52,
          "Depth": 10.95,
          "PC1": 2.515382335905938,
          "PC2": -0.14639024563921943
         },
         {
          "Age": 12.64,
          "Depth": 11,
          "PC1": 2.072668229683208,
          "PC2": -0.6175711694154372
         },
         {
          "Age": 12.73,
          "Depth": 11.05,
          "PC1": 2.81451592348809,
          "PC2": -0.20063247067542506
         },
         {
          "Age": 13.08,
          "Depth": 11.35,
          "PC1": 0.4563234554806784,
          "PC2": -0.8733113321755742
         },
         {
          "Age": 13.12,
          "Depth": 11.4,
          "PC1": 2.130018055065062,
          "PC2": -0.2809712981787038
         },
         {
          "Age": 13.17,
          "Depth": 11.45,
          "PC1": 1.6304174894286034,
          "PC2": -1.246927349022026
         },
         {
          "Age": 13.21,
          "Depth": 11.5,
          "PC1": 0.08053891213770772,
          "PC2": -1.7148819253337182
         },
         {
          "Age": 13.26,
          "Depth": 11.55,
          "PC1": 1.6544139645887694,
          "PC2": -1.3007956328810109
         },
         {
          "Age": 13.3,
          "Depth": 11.6,
          "PC1": -0.3298301575065515,
          "PC2": -0.7358324280701168
         },
         {
          "Age": 13.35,
          "Depth": 11.65,
          "PC1": 0.6090060763291618,
          "PC2": -1.6188374040382043
         },
         {
          "Age": 13.39,
          "Depth": 11.7,
          "PC1": 0.634258234945281,
          "PC2": -1.6319978047937553
         },
         {
          "Age": 13.44,
          "Depth": 11.75,
          "PC1": -2.5693363271013903,
          "PC2": -0.7653065216102111
         },
         {
          "Age": 13.48,
          "Depth": 11.8,
          "PC1": 0.9743634364114395,
          "PC2": -0.9805618265785888
         },
         {
          "Age": 13.53,
          "Depth": 11.85,
          "PC1": 0.29753398408019005,
          "PC2": -1.10156969139708
         },
         {
          "Age": 13.57,
          "Depth": 11.9,
          "PC1": 1.069405516131093,
          "PC2": -0.7392889606840854
         },
         {
          "Age": 13.61,
          "Depth": 11.95,
          "PC1": -2.399263626822028,
          "PC2": -1.8915486633562375
         },
         {
          "Age": 13.66,
          "Depth": 12,
          "PC1": -0.7623417451562902,
          "PC2": -1.1912253701130262
         },
         {
          "Age": 13.7,
          "Depth": 12.05,
          "PC1": 2.5326844127594024,
          "PC2": 1.269565677185158
         },
         {
          "Age": 13.75,
          "Depth": 12.1,
          "PC1": 0.35160503520412456,
          "PC2": -1.4678045774475976
         },
         {
          "Age": 13.79,
          "Depth": 12.15,
          "PC1": 1.1049876121613729,
          "PC2": -0.05811229540541392
         },
         {
          "Age": 12.82,
          "Depth": 11.1,
          "PC1": 2.7157022944262494,
          "PC2": -0.868486049841244
         },
         {
          "Age": 12.9,
          "Depth": 11.15,
          "PC1": 2.614476874563254,
          "PC2": -0.7373399839919966
         },
         {
          "Age": 12.94,
          "Depth": 11.2,
          "PC1": 2.649672319780625,
          "PC2": -0.7488759177203829
         },
         {
          "Age": 12.99,
          "Depth": 11.25,
          "PC1": 0.6217519990113218,
          "PC2": -2.48757108583161
         },
         {
          "Age": 13.03,
          "Depth": 11.3,
          "PC1": 2.332536817459377,
          "PC2": 0.11673964933472102
         },
         {
          "Age": 13.84,
          "Depth": 12.2,
          "PC1": -1.188195222711084,
          "PC2": -1.4502004243659663
         },
         {
          "Age": 13.88,
          "Depth": 12.25,
          "PC1": 0.023862153476530465,
          "PC2": -1.6542744002689538
         },
         {
          "Age": 13.93,
          "Depth": 12.3,
          "PC1": -0.03812211122699616,
          "PC2": -1.104396759720505
         },
         {
          "Age": 13.97,
          "Depth": 12.35,
          "PC1": 2.165384905065848,
          "PC2": -1.0787840054973388
         },
         {
          "Age": 14.02,
          "Depth": 12.4,
          "PC1": -0.09066540957548788,
          "PC2": -1.3114689284245256
         },
         {
          "Age": 14.06,
          "Depth": 12.45,
          "PC1": -0.0690795939605934,
          "PC2": -1.7971123298447624
         },
         {
          "Age": 14.11,
          "Depth": 12.5,
          "PC1": 0.71164712564902,
          "PC2": -0.5040506352777926
         },
         {
          "Age": 14.15,
          "Depth": 12.55,
          "PC1": 0.9003412855028239,
          "PC2": -0.775273145449218
         },
         {
          "Age": 14.19,
          "Depth": 12.6,
          "PC1": 0.9273594800294278,
          "PC2": -1.3475237252718222
         },
         {
          "Age": 14.24,
          "Depth": 12.65,
          "PC1": 0.29304028668694054,
          "PC2": -1.0749612715472912
         },
         {
          "Age": 14.28,
          "Depth": 12.7,
          "PC1": 3.3701187103908556,
          "PC2": -0.42349370108149686
         },
         {
          "Age": 14.33,
          "Depth": 12.75,
          "PC1": 0.5866650344317839,
          "PC2": -0.755620211163181
         },
         {
          "Age": 14.37,
          "Depth": 12.8,
          "PC1": 1.1489884010006948,
          "PC2": -0.6764107887222551
         },
         {
          "Age": 14.42,
          "Depth": 12.85,
          "PC1": 1.2244082303209323,
          "PC2": -1.0233635736420423
         },
         {
          "Age": 14.46,
          "Depth": 12.9,
          "PC1": 0.748770370321171,
          "PC2": -0.9666673478031395
         },
         {
          "Age": 14.51,
          "Depth": 12.95,
          "PC1": 1.5684025380937119,
          "PC2": 0.1562538972032212
         },
         {
          "Age": 14.55,
          "Depth": 13,
          "PC1": 3.277008411914083,
          "PC2": 0.3881522056340186
         },
         {
          "Age": 14.6,
          "Depth": 13.05,
          "PC1": 2.5082135051473977,
          "PC2": -0.438823807859022
         },
         {
          "Age": 14.64,
          "Depth": 13.1,
          "PC1": 4.161816740517054,
          "PC2": -0.07336696968346541
         },
         {
          "Age": 14.69,
          "Depth": 13.15,
          "PC1": 2.2778811704735307,
          "PC2": -1.3486977342569217
         },
         {
          "Age": 14.73,
          "Depth": 13.2,
          "PC1": 3.3099176408281457,
          "PC2": -0.46957587169713155
         },
         {
          "Age": 14.78,
          "Depth": 13.25,
          "PC1": 2.693839272516413,
          "PC2": -0.8079583362784463
         },
         {
          "Age": 14.92,
          "Depth": 13.41,
          "PC1": 2.751731137350844,
          "PC2": 0.20762789913511176
         },
         {
          "Age": 14.96,
          "Depth": 13.46,
          "PC1": 3.2858220912093787,
          "PC2": -0.4767979751615403
         },
         {
          "Age": 15.01,
          "Depth": 13.51,
          "PC1": 3.684645178414574,
          "PC2": -0.5870104080491759
         },
         {
          "Age": 15.05,
          "Depth": 13.56,
          "PC1": 3.1036146895000862,
          "PC2": -0.5788153838415151
         },
         {
          "Age": 15.1,
          "Depth": 13.61,
          "PC1": 3.259312840406536,
          "PC2": 0.1770129715196292
         },
         {
          "Age": 15.14,
          "Depth": 13.66,
          "PC1": 2.7072721641103015,
          "PC2": 0.24712718673745032
         },
         {
          "Age": 15.19,
          "Depth": 13.71,
          "PC1": 2.862804718981273,
          "PC2": -0.15858046235950662
         }
        ]
       },
       "vconcat": [
        {
         "encoding": {
          "color": {
           "field": "holocene",
           "title": "Holocene",
           "type": "nominal"
          },
          "x": {
           "field": "PC1",
           "title": "",
           "type": "quantitative"
          },
          "y": {
           "field": "density",
           "title": "Density",
           "type": "quantitative"
          }
         },
         "height": 50,
         "mark": {
          "orient": "vertical",
          "type": "area"
         },
         "transform": [
          {
           "as": "holocene",
           "calculate": "datum.Age > 11000"
          },
          {
           "as": [
            "PC1",
            "density"
           ],
           "density": "PC1",
           "groupby": [
            "holocene"
           ]
          }
         ],
         "width": 300
        },
        {
         "hconcat": [
          {
           "encoding": {
            "color": {
             "field": "holocene",
             "title": "Holocene",
             "type": "nominal"
            },
            "x": {
             "field": "PC1",
             "title": "A. Nodulifer/non-A. nodulifer composition",
             "type": "quantitative"
            },
            "y": {
             "field": "PC2",
             "title": "Complex community composition",
             "type": "quantitative"
            }
           },
           "mark": {
            "type": "point"
           },
           "transform": [
            {
             "as": "holocene",
             "calculate": "datum.Age > 11000"
            }
           ]
          },
          {
           "encoding": {
            "color": {
             "field": "holocene",
             "title": "Holocene",
             "type": "nominal"
            },
            "x": {
             "field": "density",
             "title": "Density",
             "type": "quantitative"
            },
            "y": {
             "field": "PC2",
             "title": "",
             "type": "quantitative"
            }
           },
           "height": 300,
           "mark": {
            "orient": "horizontal",
            "type": "area"
           },
           "transform": [
            {
             "as": "holocene",
             "calculate": "datum.Age > 11000"
            },
            {
             "as": [
              "PC2",
              "density"
             ],
             "density": "PC2",
             "groupby": [
              "holocene"
             ]
            }
           ],
           "width": 50
          }
         ]
        }
       ]
      },
      "image/png": "[encoded data removed]",
      "text/plain": [
       "<VegaLite 5 object>\n",
       "\n",
       "If you see this message, it means the renderer has not been properly enabled\n",
       "for the frontend that you are using. For more information, see\n",
       "https://altair-viz.github.io/user_guide/display_frontends.html#troubleshooting\n"
      ]
     },
     "execution_count": 31,
     "metadata": {},
     "output_type": "execute_result"
    }
   ],
   "source": [
    "# make base layer\n",
    "base = alt.Chart(projected_data).transform_calculate(\n",
    "    holocene='datum.Age > 11000'\n",
    ")\n",
    "\n",
    "scatter = base.mark_point().encode(\n",
    "    x=alt.X('PC1:Q', title='A. Nodulifer/non-A. nodulifer composition'),\n",
    "    y=alt.Y('PC2:Q', title='Complex community composition'),\n",
    "    color=alt.Color('holocene:N', title='Holocene')\n",
    ")\n",
    "\n",
    "#data scatter\n",
    "top_panel = scatter.transform_density(\n",
    "    density='PC1',\n",
    "    groupby=['holocene'],\n",
    "    as_=['PC1', 'density']\n",
    ").mark_area(orient='vertical').encode(\n",
    "    x=alt.X('PC1:Q', title=''),\n",
    "    y=alt.Y('density:Q', title='Density'),\n",
    "    color=alt.Color('holocene:N', title='Holocene')\n",
    ").properties(\n",
    "    width=300,  \n",
    "    height=50  \n",
    ")\n",
    "\n",
    "# construct side panel (kdes for pc2)\n",
    "side_panel = scatter.transform_density(\n",
    "    density='PC2',\n",
    "    groupby=['holocene'],\n",
    "    as_=['PC2', 'density']\n",
    ").mark_area(orient='horizontal').encode(\n",
    "    y=alt.Y('PC2:Q', title=''),\n",
    "    x=alt.X('density:Q', title='Density'),\n",
    "    color=alt.Color('holocene:N', title='Holocene')\n",
    ").properties(\n",
    "    width=50,  \n",
    "    height=300  \n",
    ")\n",
    "\n",
    "# facet\n",
    "fig9 = top_panel & (scatter | side_panel)\n",
    "\n",
    "# display\n",
    "fig9\n"
   ]
  },
  {
   "cell_type": "markdown",
   "metadata": {},
   "source": [
    "<!-- END QUESTION -->\n",
    "\n",
    "# Communicating results\n",
    "\n",
    "Take a moment to review and reflect on the results of your analysis in the previous parts. Think about how you would describe succinctly what you've learned from the diatom data."
   ]
  },
  {
   "cell_type": "markdown",
   "metadata": {},
   "source": [
    "<!-- BEGIN QUESTION -->\n",
    "\n",
    "### Question 14: Summary\n",
    "\n",
    "Write a brief paragraph (3-5 sentences) that addresses the following questions by referring to your results above.\n",
    "\n",
    "* How would you characterize the typical ecological community composition of diatom taxa before and after 11,000 years ago?\n",
    "    + *Hint*: focus on the side and top panels and the typical values of each index in the two time periods.\n",
    "* Does the variation in ecological community composition over time seem to differ before and after 11,000 years ago?\n",
    "    + *Hint*: focus on the shape of data scatter.\n"
   ]
  },
  {
   "cell_type": "markdown",
   "metadata": {},
   "source": [
    "The typical ecological community composition of diatom taxa in the pleistocene period (or 11,000 + years ago) was mainly nodulifer/ non-nodulifers taxons but after the pleistocene epoch, the composition of the ecological community started to contain more complex taxons. After looking at the values, another thing we notice is the variation in both A_nodulifer composition and complex community composition across time. During the pleistocene Epoch, the variation in A_nodul/non-A nodul composition was greater than during the Holocene epoch and on the other hand, during the Holocene epoch, the complex community composition was more diverse than during the Pleistocene Epoch."
   ]
  },
  {
   "cell_type": "markdown",
   "metadata": {},
   "source": [
    "<!-- END QUESTION -->\n",
    "\n",
    "<!-- BEGIN QUESTION -->\n",
    "\n",
    "### Question 15: Further work\n",
    "\n",
    "What more might you like to know, given what you've learned? Pose a question that your exploratory analysis raises for you.\n"
   ]
  },
  {
   "cell_type": "markdown",
   "metadata": {},
   "source": [
    "#### Answer\n",
    "\n",
    "Given what I've learned, I think an interesting question would be why the variation and abundance of certain taxons changed from the Pleistocene Epoch to the Holocene Epoch. What other variables might have been influential in these changes?"
   ]
  },
  {
   "cell_type": "markdown",
   "metadata": {},
   "source": [
    "<!-- END QUESTION -->\n",
    "\n",
    "# Submission\n",
    "\n",
    "\n",
    "1. Save the notebook. \n",
    "2. Restart the kernel and run all cells. (**CAUTION**: if your notebook is not saved, you will lose your work.)\n",
    "3. Carefully look through your notebook and verify that all computations execute correctly and all graphics are displayed clearly. You should see **no errors**; if there are any errors, make sure to correct them before you submit the notebook.\n",
    "4. Download the notebook as an `.ipynb` file. This is your backup copy.\n",
    "5. Export the notebook as PDF and upload to Gradescope."
   ]
  },
  {
   "cell_type": "markdown",
   "metadata": {
    "deletable": false,
    "editable": false
   },
   "source": [
    "---\n",
    "\n",
    "To double-check your work, the cell below will rerun all of the autograder tests."
   ]
  },
  {
   "cell_type": "code",
   "execution_count": 32,
   "metadata": {
    "deletable": false,
    "editable": false
   },
   "outputs": [
    {
     "data": {
      "text/plain": [
       "q1 results: All test cases passed!\n",
       "\n",
       "q10 results: All test cases passed!\n",
       "\n",
       "q11 results: All test cases passed!\n",
       "\n",
       "q12 results: All test cases passed!\n",
       "\n",
       "q2 results: All test cases passed!\n",
       "\n",
       "q3 results: All test cases passed!\n",
       "\n",
       "q4 results: All test cases passed!\n",
       "\n",
       "q5 results: All test cases passed!\n",
       "\n",
       "q9 results: All test cases passed!"
      ]
     },
     "execution_count": 32,
     "metadata": {},
     "output_type": "execute_result"
    }
   ],
   "source": [
    "grader.check_all()"
   ]
  }
 ],
 "metadata": {
  "kernelspec": {
   "display_name": "Python 3 (ipykernel)",
   "language": "python",
   "name": "python3"
  },
  "language_info": {
   "codemirror_mode": {
    "name": "ipython",
    "version": 3
   },
   "file_extension": ".py",
   "mimetype": "text/x-python",
   "name": "python",
   "nbconvert_exporter": "python",
   "pygments_lexer": "ipython3",
   "version": "3.11.5"
  },
  "otter": {
   "OK_FORMAT": true,
   "tests": {
    "q1": {
     "name": "q1",
     "points": 1,
     "suites": [
      {
       "cases": [
        {
         "code": ">>> # diatoms_mod1 doesn't contain any NaN values\n>>> diatoms_mod1.isnull().values.any() == False\nTrue",
         "hidden": false,
         "locked": false
        },
        {
         "code": ">>> # diatoms_raw.loc[4, \"StephanSpp\"] is NaN; want to confirm that diatoms_mod1 is 0 instead\n>>> diatoms_mod1.loc[4, \"StephanSpp\"] == 0\nTrue",
         "hidden": false,
         "locked": false
        },
        {
         "code": ">>> # check for correct knowledge of extracting two rows from a dataframe by index\n>>> (diatoms_mod1_examplerows == diatoms_mod1.iloc[4:6, :]).all().all() and \\\n... (diatoms_mod1_examplerows == diatoms_mod1.loc[4:5, :]).all().all()\nTrue",
         "hidden": false,
         "locked": false
        }
       ],
       "scored": true,
       "setup": "",
       "teardown": "",
       "type": "doctest"
      }
     ]
    },
    "q10": {
     "name": "q10",
     "points": 1,
     "suites": [
      {
       "cases": [
        {
         "code": ">>> #checking the shape of pcdata as we are retaining Depth and Age as indices\n>>> pcdata.shape == (230, 8)\nTrue",
         "hidden": false,
         "locked": false
        },
        {
         "code": ">>> pca.n_components_ == 8\nTrue",
         "hidden": false,
         "locked": false
        },
        {
         "code": ">>> # sanity check that we have 8 rows and 3 columns\n>>> pcvars.shape == (8,3)\nTrue",
         "hidden": false,
         "locked": false
        },
        {
         "code": ">>> # the summation of all the values in the Proportion of variance explained column should be 1\n>>> round(pcvars[\"Proportion of variance explained\"].sum()) == 1\nTrue",
         "hidden": false,
         "locked": false
        },
        {
         "code": ">>> # the last value of the cumulative sum should be 1 (since all the values in `Proportion of variance explained` adds to 1)\n>>> round(pcvars[\"Cumulative variance explained\"].iloc[-1]) == 1\nTrue",
         "hidden": false,
         "locked": false
        }
       ],
       "scored": true,
       "setup": "",
       "teardown": "",
       "type": "doctest"
      }
     ]
    },
    "q11": {
     "name": "q11",
     "points": 1,
     "suites": [
      {
       "cases": [
        {
         "code": ">>> loading_df.shape == (8,3)\nTrue",
         "hidden": false,
         "locked": false
        },
        {
         "code": ">>> # sanity check of the PC1 columns' first value\n>>> loading_df.loc[0,\"PC1\"] == pca.components_[0,0]\nTrue",
         "hidden": false,
         "locked": false
        },
        {
         "code": ">>> # sanity check of the PC2 columns' first value\n>>> loading_df.loc[0,\"PC2\"] == pca.components_[1,0]\nTrue",
         "hidden": false,
         "locked": false
        },
        {
         "code": ">>> # sanity check of the Taxon columns' first value\n>>> loading_df.loc[0,\"Taxon\"] == \"A_curv\"\nTrue",
         "hidden": false,
         "locked": false
        }
       ],
       "scored": true,
       "setup": "",
       "teardown": "",
       "type": "doctest"
      }
     ]
    },
    "q12": {
     "name": "q12",
     "points": 1,
     "suites": [
      {
       "cases": [
        {
         "code": ">>> # sanity check of the columns included\n>>> (projected_data.columns == ['Depth', 'Age', 'PC1', 'PC2']).all()\nTrue",
         "hidden": false,
         "locked": false
        },
        {
         "code": ">>> # checking the shape of the dataframe\n>>> projected_data.shape == (230,4)\nTrue",
         "hidden": false,
         "locked": false
        },
        {
         "code": ">>> # sanity check of the first row\n>>> (round(projected_data.iloc[0],3) == [0, 1.33, -0.295, -0.633]).all()\nTrue",
         "hidden": false,
         "locked": false
        }
       ],
       "scored": true,
       "setup": "",
       "teardown": "",
       "type": "doctest"
      }
     ]
    },
    "q2": {
     "name": "q2",
     "points": 1,
     "suites": [
      {
       "cases": [
        {
         "code": ">>> # checking that diatoms_mod2 is indexed by Depth and Age\n>>> diatoms_mod2.index.names == [\"Depth\", \"Age\"]\nTrue",
         "hidden": false,
         "locked": false
        },
        {
         "code": ">>> # checking that the number of columns of diatoms_mod2 is 9\n>>> len(diatoms_mod2.columns) == 9\nTrue",
         "hidden": false,
         "locked": false
        },
        {
         "code": ">>> # checking that the first row of samp_size == 201\n>>> sampsize[0] == [201]\nAge\n1.33    True\nName: Num.counted, dtype: bool",
         "hidden": false,
         "locked": false
        },
        {
         "code": ">>> # checking that for all the rows, num.counted is 1; all the other columns should be less than 1\n>>> (diatoms_mod3[\"Num.counted\"] == 1).all()\nTrue",
         "hidden": false,
         "locked": false
        },
        {
         "code": ">>> # checking that all the proportions of diatoms are less than (or equal to) 1\n>>> (diatoms_mod3.loc[:,['A_curv', 'A_octon', 'ActinSpp', 'A_nodul', 'CoscinSpp', 'CyclotSpp', 'Rop_tess', 'StephanSpp']] <= 1).all().all()\nTrue",
         "hidden": false,
         "locked": false
        },
        {
         "code": ">>> # checking that once the indices have been reset to before and the Num.Counted column is dropped, we are left with 10 columns\n>>> len(diatoms.columns) == 10\nTrue",
         "hidden": false,
         "locked": false
        },
        {
         "code": ">>> # checking the values of the first row of diatoms\n>>> (round(diatoms.iloc[0,:],3) ==[0., 1.33 , 0.025, 0.01 , 0.159, 0.07 , 0.104, 0.109, 0.005, 0.005]).all()\nTrue",
         "hidden": false,
         "locked": false
        }
       ],
       "scored": true,
       "setup": "",
       "teardown": "",
       "type": "doctest"
      }
     ]
    },
    "q3": {
     "name": "q3",
     "points": 1,
     "suites": [
      {
       "cases": [
        {
         "code": ">>> # checking rounded values\n>>> (round(min_max_age) == [1,15]).all()\nTrue",
         "hidden": false,
         "locked": false
        }
       ],
       "scored": true,
       "setup": "",
       "teardown": "",
       "type": "doctest"
      }
     ]
    },
    "q4": {
     "name": "q4",
     "points": 1,
     "suites": [
      {
       "cases": [
        {
         "code": ">>> # checking the length of diffs\n>>> len(diffs) == 229\nTrue",
         "hidden": false,
         "locked": false
        },
        {
         "code": ">>> # testing the max difference\n>>> diffs.max() == 1.14\ndiff    False\ndtype: bool",
         "hidden": false,
         "locked": false
        },
        {
         "code": ">>> # checking that NA got removed\n>>> diffs.iloc[0].isna().values[0] == False\nTrue",
         "hidden": false,
         "locked": false
        }
       ],
       "scored": true,
       "setup": "",
       "teardown": "",
       "type": "doctest"
      }
     ]
    },
    "q5": {
     "name": "q5",
     "points": 1,
     "suites": [
      {
       "cases": [
        {
         "code": ">>> (diatom_summary.columns == [\"mean\", \"std\"]).all()\nTrue",
         "hidden": false,
         "locked": false
        },
        {
         "code": ">>> # checking the shape of the dataframe\n>>> diatom_summary.shape == (8,2)\nTrue",
         "hidden": false,
         "locked": false
        }
       ],
       "scored": true,
       "setup": "",
       "teardown": "",
       "type": "doctest"
      }
     ]
    },
    "q9": {
     "name": "q9",
     "points": 1,
     "suites": [
      {
       "cases": [
        {
         "code": ">>> # checking the shape of the correlation matrix (do not want Age or Depth to be a component of the matrix)\n>>> corr_mx.shape == (8,8)\nTrue",
         "hidden": false,
         "locked": false
        },
        {
         "code": ">>> # checking that the diagonals are 1s (the correlation between a variable and itself should be 1)\n>>> (np.diag(corr_mx) == np.ones(8)).all()\nTrue",
         "hidden": false,
         "locked": false
        },
        {
         "code": ">>> corr_mx_long.shape == (64,3)\nTrue",
         "hidden": false,
         "locked": false
        },
        {
         "code": ">>> (corr_mx_long.columns == ['row', 'col', 'Correlation']).all()\nTrue",
         "hidden": false,
         "locked": false
        }
       ],
       "scored": true,
       "setup": "",
       "teardown": "",
       "type": "doctest"
      }
     ]
    }
   }
  }
 },
 "nbformat": 4,
 "nbformat_minor": 4
}
